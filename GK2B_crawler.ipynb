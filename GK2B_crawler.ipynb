{
  "nbformat": 4,
  "nbformat_minor": 0,
  "metadata": {
    "colab": {
      "provenance": [],
      "authorship_tag": "ABX9TyPUZc16iQEBwGjy/5QdbHNy",
      "include_colab_link": true
    },
    "kernelspec": {
      "name": "python3",
      "display_name": "Python 3"
    },
    "language_info": {
      "name": "python"
    }
  },
  "cells": [
    {
      "cell_type": "markdown",
      "metadata": {
        "id": "view-in-github",
        "colab_type": "text"
      },
      "source": [
        "<a href=\"https://colab.research.google.com/github/chhyyi/aiffel/blob/main/aiffelthon/GK2B_crawler.ipynb\" target=\"_parent\"><img src=\"https://colab.research.google.com/assets/colab-badge.svg\" alt=\"Open In Colab\"/></a>"
      ]
    },
    {
      "cell_type": "markdown",
      "source": [
        "# GK2B L2 outputs crawler\n",
        "this notebook is created to downloads GK-2B(sattelite) data files from its OPeNDAP database (Maybe it's property of Republic of Korea Government). There is no english description. please see comments in the codeblocks for detail. ___It does not use OPeNDAP request. but python's request module.___\n",
        "\n",
        "\n",
        "이 노트북은 [nosc.elecocean.co.kr:8080/opendap/GOCI-II/](http://nosc.elecocean.co.kr:8080/opendap/GOCI-II/)에서 GK-2B (천리안 2B) 의  자료를 다운받기 위해 만들었습니다.\n",
        "\n",
        "## crawler setup: \n",
        "시작일, 종료일, 수집된 파일을 저장할 경로\n",
        "\n",
        "## download jpgs\n",
        "parameter: 파일명 끝부분(example: 'LA_RI.jpg')  \n",
        "예시:  \n",
        "```python\n",
        "#example : output is directory to save downloaded files.\n",
        "!mkdir download\n",
        "crawler=Crawler(start_date='2022/01/01', last_date='2022/01/31', save_dir='download')\n",
        "crawler.get_files('LA_RI.jpg', 'jpg') \n",
        "```\n",
        "\n",
        "## netcdf (nc file) download\n",
        "\n",
        "파일명 끝부분\n",
        "```python\n",
        "#example\n",
        "!mkdir ncs\n",
        "crawler=Crawler(start_date='2022/01/01', last_date='2022/01/31', save_dir='ncs')\n",
        "crawler.get_files('S007_RI.nc', 'nc')\n",
        "```     \n",
        "S007은 슬롯7을 뜻합니다. 참고로 한반도 대부분이 S007에 들어갑니다.\n",
        "- 슬롯별 위치는 [http://www.khoa.go.kr/nosc/satellite/searchL2.do](http://www.khoa.go.kr/nosc/satellite/searchL2.do) 에서 슬롯 선택을 눌러보세요.\n",
        "\n",
        "\n",
        "## Description  \n",
        "### upate log\n",
        "2022-10-29 jpg downloader, nc file downloader completed\n",
        "\n",
        "### 접근해야 하는 페이지/파일 구조  \n",
        "opendap가 directory같은 방식으로 구성돼 있는데, 실제로 우리가 다운받아야 하는 파일은 다음과 같은 주소를 가집니다.   \n",
        "> http://nosc.elecocean.co.kr:8080/opendap/GOCI-II/2022/01/01/L2/GK2_GC2_L2_20220101_021530/GK2B_GOCI2_L2_20220101_021530_LA_RI.jpg\n",
        "\n",
        "여기에서, opendap 이후 부분은 파일 시스템의 경로와 같이 생각할수 있고, directory의 내용을 보려면 경로에 있는 'contents.html' 문서를 보면 됩니다. opendap 라이브러리가 있으니 그걸 써도 될텐데 여기선 안씁니다.   \n",
        "날짜가 정해지면 \n",
        "\n",
        ">GOCI-II/2022/01/01/L2/  \n",
        "\n",
        "까지의 경로는 고정돼 있습니다. 여기서 contents.html을 열고 하위 디렉토리를 파악하여\n",
        "\n",
        ">GOCI-II/2022/01/01/L2/GK2_GC2_L2_20220101_021530/\n",
        "\n",
        "같은 하위 디렉토리에서 contents.html 을 보면 다운받을 파일 목록이 나타납니다. 이 디렉토리들을 열어 그 안에 있는 이름이 맞는 파일들을 다운받습니다. 사실 nc파일은 html 파일에 들어가서 다운받게 돼 있고, 그 html파일에서 '.html'만 지우면 파일 경로라 그걸로 합니다. 이 주소를 웹브라우저에서 그냥 입력하면 OPeNDAP request를 이용하라고 나옵니다. 그런데 그냥 python 의 request 라이브러리로 해도 다운로드가 되길래 그렇게 합니다. (그러므로 언젠가 막힐 가능성이 있습니다.)"
      ],
      "metadata": {
        "id": "OL7xcNVb60vk"
      }
    },
    {
      "cell_type": "code",
      "source": [
        "from PIL import Image\n",
        "import matplotlib.pyplot as plt\n",
        "import numpy as np\n",
        "import datetime\n",
        "import urllib.request\n",
        "import re\n",
        "import os\n",
        "\n",
        "import requests\n",
        "from bs4 import BeautifulSoup"
      ],
      "metadata": {
        "id": "GaZVlIlR233r"
      },
      "execution_count": 9,
      "outputs": []
    },
    {
      "cell_type": "code",
      "source": [
        "class Crawler():\n",
        "    def __init__(self, start_date='2021/01/01', last_date='2021/12/31', save_dir='outputs'):\n",
        "        self.date0=datetime.datetime(*(map(int, start_date.split('/'))))\n",
        "        self.date1=datetime.datetime(*(map(int, last_date.split('/'))))\n",
        "        self.dir=save_dir\n",
        "        self.rootdir='http://nosc.elecocean.co.kr:8080/opendap/GOCI-II/'\n",
        "    \n",
        "    def get_parsed_html_soup(self, url):\n",
        "        headers = {'User-Agent': 'Mozilla/5.0 (X11; Linux x86_64) AppleWebKit/537.36 (KHTML, like Gecko) Chrome/54.0.2840.90 Safari/537.36'}\n",
        "        html = requests.get(url, headers=headers)\n",
        "        soup = BeautifulSoup(html.content, 'html.parser')\n",
        "        return soup\n",
        "\n",
        "    def sub_path_finder(self, dir, tags, end_with):\n",
        "        soup=self.get_parsed_html_soup(dir)\n",
        "        subpaths=soup.select(tags) #same for subdirectory.\n",
        "        pathlist=[]\n",
        "        #print('end with:', end_with)\n",
        "        for line in subpaths:\n",
        "            #print(line.get('href'), type(line.get('href')), str(end_with in line.get('href')))\n",
        "            #if type(line.get_)!=str:\n",
        "            #    pass\n",
        "            if end_with in line.get('href'):\n",
        "                pathlist.append(line.get('href'))\n",
        "        print('pathlist:',pathlist)\n",
        "        return list(set(pathlist))\n",
        "    \n",
        "    def get_files(self, end_with, filetype):\n",
        "        \"\"\"get(self, end_with, filetype)\n",
        "        end_with : \n",
        "        filetype : 'jpg' or 'nc'\n",
        "        \"\"\"\n",
        "        date=self.date0\n",
        "        while date<=self.date1:\n",
        "            print('\\n\\nprocessing date {}{:02d}{:02d}'.format(date.year, date.month, date.day))\n",
        "            #parents of parents directory\n",
        "            ppdir=self.rootdir+\"{:04d}/{:02d}/{:02d}/L2/contents.html\".format(date.year, date.month, date.day) \n",
        "            sub_dirs=self.sub_path_finder(ppdir, 'tr td a', 'contents.html')\n",
        "                \n",
        "            for sub_dir in sub_dirs:\n",
        "                pdir=re.sub('contents.html$','',ppdir)+sub_dir\n",
        "                print('searching {} page includes {}'.format(pdir, end_with))\n",
        "\n",
        "                if filetype=='jpg':\n",
        "                    filepaths=self.sub_path_finder(pdir, 'tr td a', end_with)\n",
        "                elif filetype=='nc':\n",
        "                    filepaths=self.sub_path_finder(pdir, 'td b a', end_with)\n",
        "                else:\n",
        "                    print('Crawler.get() got wrong filetype argument')\n",
        "                    break\n",
        "\n",
        "                for filename in filepaths:\n",
        "                    if filetype=='nc':\n",
        "                        filename=re.sub('.html$', '', filename)\n",
        "\n",
        "                    file_url=re.sub('contents.html$', '', pdir)+filename\n",
        "                    save_file_dir=os.path.join(self.dir, filename)\n",
        "                    print('download file {} as {}'.format(file_url,save_file_dir))\n",
        "                    urllib.request.urlretrieve(file_url, save_file_dir)\n",
        "            date+=datetime.timedelta(days=1)\n",
        "    "
      ],
      "metadata": {
        "id": "h6puG0UzDkyX"
      },
      "execution_count": 110,
      "outputs": []
    },
    {
      "cell_type": "code",
      "source": [
        "#example: download jpgs\n",
        "crawler=Crawler(start_date='2022/02/04', last_date='2022/02/04', save_dir='download')\n",
        "crawler.get_files('RI.jpg', 'jpg')"
      ],
      "metadata": {
        "colab": {
          "base_uri": "https://localhost:8080/"
        },
        "id": "X5rcdmAA7SQZ",
        "outputId": "cd09719c-50f9-43c7-b673-4b209c843bbc"
      },
      "execution_count": 111,
      "outputs": [
        {
          "output_type": "stream",
          "name": "stdout",
          "text": [
            "\n",
            "\n",
            "processing date 20220204\n",
            "pathlist: ['GK2_GC2_L2_20220204_001530/contents.html', 'GK2_GC2_L2_20220204_011530/contents.html', 'GK2_GC2_L2_20220204_021530/contents.html', 'GK2_GC2_L2_20220204_031530/contents.html', 'GK2_GC2_L2_20220204_041530/contents.html', 'GK2_GC2_L2_20220204_051530/contents.html', 'GK2_GC2_L2_20220204_061530/contents.html', 'GK2_GC2_L2_20220204_071530/contents.html', 'GK2_GC2_L2_20220204_081530/contents.html', 'GK2_GC2_L2_20220204_231530/contents.html']\n",
            "searching http://nosc.elecocean.co.kr:8080/opendap/GOCI-II/2022/02/04/L2/GK2_GC2_L2_20220204_031530/contents.html page includes RI.jpg\n",
            "pathlist: ['GK2B_GOCI2_L2_20220204_031530_LA_RI.jpg']\n",
            "download file http://nosc.elecocean.co.kr:8080/opendap/GOCI-II/2022/02/04/L2/GK2_GC2_L2_20220204_031530/GK2B_GOCI2_L2_20220204_031530_LA_RI.jpg as download/GK2B_GOCI2_L2_20220204_031530_LA_RI.jpg\n",
            "searching http://nosc.elecocean.co.kr:8080/opendap/GOCI-II/2022/02/04/L2/GK2_GC2_L2_20220204_051530/contents.html page includes RI.jpg\n",
            "pathlist: ['GK2B_GOCI2_L2_20220204_051530_LA_RI.jpg']\n",
            "download file http://nosc.elecocean.co.kr:8080/opendap/GOCI-II/2022/02/04/L2/GK2_GC2_L2_20220204_051530/GK2B_GOCI2_L2_20220204_051530_LA_RI.jpg as download/GK2B_GOCI2_L2_20220204_051530_LA_RI.jpg\n",
            "searching http://nosc.elecocean.co.kr:8080/opendap/GOCI-II/2022/02/04/L2/GK2_GC2_L2_20220204_021530/contents.html page includes RI.jpg\n",
            "pathlist: ['GK2B_GOCI2_L2_20220204_021530_LA_RI.jpg']\n",
            "download file http://nosc.elecocean.co.kr:8080/opendap/GOCI-II/2022/02/04/L2/GK2_GC2_L2_20220204_021530/GK2B_GOCI2_L2_20220204_021530_LA_RI.jpg as download/GK2B_GOCI2_L2_20220204_021530_LA_RI.jpg\n",
            "searching http://nosc.elecocean.co.kr:8080/opendap/GOCI-II/2022/02/04/L2/GK2_GC2_L2_20220204_071530/contents.html page includes RI.jpg\n",
            "pathlist: ['GK2B_GOCI2_L2_20220204_071530_LA_RI.jpg']\n",
            "download file http://nosc.elecocean.co.kr:8080/opendap/GOCI-II/2022/02/04/L2/GK2_GC2_L2_20220204_071530/GK2B_GOCI2_L2_20220204_071530_LA_RI.jpg as download/GK2B_GOCI2_L2_20220204_071530_LA_RI.jpg\n",
            "searching http://nosc.elecocean.co.kr:8080/opendap/GOCI-II/2022/02/04/L2/GK2_GC2_L2_20220204_041530/contents.html page includes RI.jpg\n",
            "pathlist: ['GK2B_GOCI2_L2_20220204_041530_LA_RI.jpg']\n",
            "download file http://nosc.elecocean.co.kr:8080/opendap/GOCI-II/2022/02/04/L2/GK2_GC2_L2_20220204_041530/GK2B_GOCI2_L2_20220204_041530_LA_RI.jpg as download/GK2B_GOCI2_L2_20220204_041530_LA_RI.jpg\n",
            "searching http://nosc.elecocean.co.kr:8080/opendap/GOCI-II/2022/02/04/L2/GK2_GC2_L2_20220204_061530/contents.html page includes RI.jpg\n",
            "pathlist: ['GK2B_GOCI2_L2_20220204_061530_LA_RI.jpg']\n",
            "download file http://nosc.elecocean.co.kr:8080/opendap/GOCI-II/2022/02/04/L2/GK2_GC2_L2_20220204_061530/GK2B_GOCI2_L2_20220204_061530_LA_RI.jpg as download/GK2B_GOCI2_L2_20220204_061530_LA_RI.jpg\n",
            "searching http://nosc.elecocean.co.kr:8080/opendap/GOCI-II/2022/02/04/L2/GK2_GC2_L2_20220204_231530/contents.html page includes RI.jpg\n",
            "pathlist: ['GK2B_GOCI2_L2_20220204_231530_LA_RI.jpg']\n",
            "download file http://nosc.elecocean.co.kr:8080/opendap/GOCI-II/2022/02/04/L2/GK2_GC2_L2_20220204_231530/GK2B_GOCI2_L2_20220204_231530_LA_RI.jpg as download/GK2B_GOCI2_L2_20220204_231530_LA_RI.jpg\n",
            "searching http://nosc.elecocean.co.kr:8080/opendap/GOCI-II/2022/02/04/L2/GK2_GC2_L2_20220204_001530/contents.html page includes RI.jpg\n",
            "pathlist: []\n",
            "searching http://nosc.elecocean.co.kr:8080/opendap/GOCI-II/2022/02/04/L2/GK2_GC2_L2_20220204_011530/contents.html page includes RI.jpg\n",
            "pathlist: ['GK2B_GOCI2_L2_20220204_011530_LA_RI.jpg']\n",
            "download file http://nosc.elecocean.co.kr:8080/opendap/GOCI-II/2022/02/04/L2/GK2_GC2_L2_20220204_011530/GK2B_GOCI2_L2_20220204_011530_LA_RI.jpg as download/GK2B_GOCI2_L2_20220204_011530_LA_RI.jpg\n",
            "searching http://nosc.elecocean.co.kr:8080/opendap/GOCI-II/2022/02/04/L2/GK2_GC2_L2_20220204_081530/contents.html page includes RI.jpg\n",
            "pathlist: ['GK2B_GOCI2_L2_20220204_081530_LA_RI.jpg']\n",
            "download file http://nosc.elecocean.co.kr:8080/opendap/GOCI-II/2022/02/04/L2/GK2_GC2_L2_20220204_081530/GK2B_GOCI2_L2_20220204_081530_LA_RI.jpg as download/GK2B_GOCI2_L2_20220204_081530_LA_RI.jpg\n"
          ]
        }
      ]
    },
    {
      "cell_type": "code",
      "source": [
        "#example: download nc files\n",
        "crawler2=Crawler(start_date='2022/02/04', last_date='2022/02/04', save_dir='ncs')\n",
        "crawler2.get_files('S007_RI.nc', 'nc')"
      ],
      "metadata": {
        "colab": {
          "base_uri": "https://localhost:8080/"
        },
        "id": "IDezlF9TVjqY",
        "outputId": "2e1bd319-a603-4d60-d962-7f6213c21457"
      },
      "execution_count": 115,
      "outputs": [
        {
          "output_type": "stream",
          "name": "stdout",
          "text": [
            "\n",
            "\n",
            "processing date 20220204\n",
            "pathlist: ['GK2_GC2_L2_20220204_001530/contents.html', 'GK2_GC2_L2_20220204_011530/contents.html', 'GK2_GC2_L2_20220204_021530/contents.html', 'GK2_GC2_L2_20220204_031530/contents.html', 'GK2_GC2_L2_20220204_041530/contents.html', 'GK2_GC2_L2_20220204_051530/contents.html', 'GK2_GC2_L2_20220204_061530/contents.html', 'GK2_GC2_L2_20220204_071530/contents.html', 'GK2_GC2_L2_20220204_081530/contents.html', 'GK2_GC2_L2_20220204_231530/contents.html']\n",
            "searching http://nosc.elecocean.co.kr:8080/opendap/GOCI-II/2022/02/04/L2/GK2_GC2_L2_20220204_031530/contents.html page includes S007_RI.nc\n",
            "pathlist: ['GK2B_GOCI2_L2_20220204_031530_LA_S007_RI.nc.html']\n",
            "download file http://nosc.elecocean.co.kr:8080/opendap/GOCI-II/2022/02/04/L2/GK2_GC2_L2_20220204_031530/GK2B_GOCI2_L2_20220204_031530_LA_S007_RI.nc as ncs/GK2B_GOCI2_L2_20220204_031530_LA_S007_RI.nc\n",
            "searching http://nosc.elecocean.co.kr:8080/opendap/GOCI-II/2022/02/04/L2/GK2_GC2_L2_20220204_051530/contents.html page includes S007_RI.nc\n",
            "pathlist: ['GK2B_GOCI2_L2_20220204_051530_LA_S007_RI.nc.html']\n",
            "download file http://nosc.elecocean.co.kr:8080/opendap/GOCI-II/2022/02/04/L2/GK2_GC2_L2_20220204_051530/GK2B_GOCI2_L2_20220204_051530_LA_S007_RI.nc as ncs/GK2B_GOCI2_L2_20220204_051530_LA_S007_RI.nc\n",
            "searching http://nosc.elecocean.co.kr:8080/opendap/GOCI-II/2022/02/04/L2/GK2_GC2_L2_20220204_021530/contents.html page includes S007_RI.nc\n",
            "pathlist: ['GK2B_GOCI2_L2_20220204_021530_LA_S007_RI.nc.html']\n",
            "download file http://nosc.elecocean.co.kr:8080/opendap/GOCI-II/2022/02/04/L2/GK2_GC2_L2_20220204_021530/GK2B_GOCI2_L2_20220204_021530_LA_S007_RI.nc as ncs/GK2B_GOCI2_L2_20220204_021530_LA_S007_RI.nc\n",
            "searching http://nosc.elecocean.co.kr:8080/opendap/GOCI-II/2022/02/04/L2/GK2_GC2_L2_20220204_071530/contents.html page includes S007_RI.nc\n",
            "pathlist: ['GK2B_GOCI2_L2_20220204_071530_LA_S007_RI.nc.html']\n",
            "download file http://nosc.elecocean.co.kr:8080/opendap/GOCI-II/2022/02/04/L2/GK2_GC2_L2_20220204_071530/GK2B_GOCI2_L2_20220204_071530_LA_S007_RI.nc as ncs/GK2B_GOCI2_L2_20220204_071530_LA_S007_RI.nc\n",
            "searching http://nosc.elecocean.co.kr:8080/opendap/GOCI-II/2022/02/04/L2/GK2_GC2_L2_20220204_041530/contents.html page includes S007_RI.nc\n",
            "pathlist: ['GK2B_GOCI2_L2_20220204_041530_LA_S007_RI.nc.html']\n",
            "download file http://nosc.elecocean.co.kr:8080/opendap/GOCI-II/2022/02/04/L2/GK2_GC2_L2_20220204_041530/GK2B_GOCI2_L2_20220204_041530_LA_S007_RI.nc as ncs/GK2B_GOCI2_L2_20220204_041530_LA_S007_RI.nc\n",
            "searching http://nosc.elecocean.co.kr:8080/opendap/GOCI-II/2022/02/04/L2/GK2_GC2_L2_20220204_061530/contents.html page includes S007_RI.nc\n",
            "pathlist: ['GK2B_GOCI2_L2_20220204_061530_LA_S007_RI.nc.html']\n",
            "download file http://nosc.elecocean.co.kr:8080/opendap/GOCI-II/2022/02/04/L2/GK2_GC2_L2_20220204_061530/GK2B_GOCI2_L2_20220204_061530_LA_S007_RI.nc as ncs/GK2B_GOCI2_L2_20220204_061530_LA_S007_RI.nc\n",
            "searching http://nosc.elecocean.co.kr:8080/opendap/GOCI-II/2022/02/04/L2/GK2_GC2_L2_20220204_231530/contents.html page includes S007_RI.nc\n",
            "pathlist: ['GK2B_GOCI2_L2_20220204_231530_LA_S007_RI.nc.html']\n",
            "download file http://nosc.elecocean.co.kr:8080/opendap/GOCI-II/2022/02/04/L2/GK2_GC2_L2_20220204_231530/GK2B_GOCI2_L2_20220204_231530_LA_S007_RI.nc as ncs/GK2B_GOCI2_L2_20220204_231530_LA_S007_RI.nc\n",
            "searching http://nosc.elecocean.co.kr:8080/opendap/GOCI-II/2022/02/04/L2/GK2_GC2_L2_20220204_001530/contents.html page includes S007_RI.nc\n",
            "pathlist: []\n",
            "searching http://nosc.elecocean.co.kr:8080/opendap/GOCI-II/2022/02/04/L2/GK2_GC2_L2_20220204_011530/contents.html page includes S007_RI.nc\n",
            "pathlist: ['GK2B_GOCI2_L2_20220204_011530_LA_S007_RI.nc.html']\n",
            "download file http://nosc.elecocean.co.kr:8080/opendap/GOCI-II/2022/02/04/L2/GK2_GC2_L2_20220204_011530/GK2B_GOCI2_L2_20220204_011530_LA_S007_RI.nc as ncs/GK2B_GOCI2_L2_20220204_011530_LA_S007_RI.nc\n",
            "searching http://nosc.elecocean.co.kr:8080/opendap/GOCI-II/2022/02/04/L2/GK2_GC2_L2_20220204_081530/contents.html page includes S007_RI.nc\n",
            "pathlist: ['GK2B_GOCI2_L2_20220204_081530_LA_S007_RI.nc.html']\n",
            "download file http://nosc.elecocean.co.kr:8080/opendap/GOCI-II/2022/02/04/L2/GK2_GC2_L2_20220204_081530/GK2B_GOCI2_L2_20220204_081530_LA_S007_RI.nc as ncs/GK2B_GOCI2_L2_20220204_081530_LA_S007_RI.nc\n"
          ]
        }
      ]
    },
    {
      "cell_type": "code",
      "source": [
        "!ls ncs -al"
      ],
      "metadata": {
        "colab": {
          "base_uri": "https://localhost:8080/"
        },
        "id": "d9jSXSSiIrxv",
        "outputId": "31d12dfb-6d58-4d48-e8a1-a573cef7ec01"
      },
      "execution_count": 116,
      "outputs": [
        {
          "output_type": "stream",
          "name": "stdout",
          "text": [
            "total 230916\n",
            "drwxr-xr-x 3 root root     4096 Oct 29 10:50 .\n",
            "drwxr-xr-x 1 root root     4096 Oct 29 10:29 ..\n",
            "-rw-r--r-- 1 root root 16204187 Oct 29 10:31 GK2B_GOCI2_L2_20220203_011530_LA_S007_RI.nc\n",
            "-rw-r--r-- 1 root root 17728855 Oct 29 10:32 GK2B_GOCI2_L2_20220203_021530_LA_S007_RI.nc\n",
            "-rw-r--r-- 1 root root 17999040 Oct 29 10:31 GK2B_GOCI2_L2_20220203_031530_LA_S007_RI.nc\n",
            "-rw-r--r-- 1 root root 17898375 Oct 29 10:32 GK2B_GOCI2_L2_20220203_041530_LA_S007_RI.nc\n",
            "-rw-r--r-- 1 root root 17187453 Oct 29 10:32 GK2B_GOCI2_L2_20220203_051530_LA_S007_RI.nc\n",
            "-rw-r--r-- 1 root root 16517823 Oct 29 10:32 GK2B_GOCI2_L2_20220203_061530_LA_S007_RI.nc\n",
            "-rw-r--r-- 1 root root  9691174 Oct 29 10:32 GK2B_GOCI2_L2_20220203_081630_LA_S007_RI.nc\n",
            "-rw-r--r-- 1 root root  9856968 Oct 29 10:31 GK2B_GOCI2_L2_20220203_231530_LA_S007_RI.nc\n",
            "-rw-r--r-- 1 root root 14571912 Oct 29 10:50 GK2B_GOCI2_L2_20220204_011530_LA_S007_RI.nc\n",
            "-rw-r--r-- 1 root root 14338251 Oct 29 10:50 GK2B_GOCI2_L2_20220204_021530_LA_S007_RI.nc\n",
            "-rw-r--r-- 1 root root 13932683 Oct 29 10:49 GK2B_GOCI2_L2_20220204_031530_LA_S007_RI.nc\n",
            "-rw-r--r-- 1 root root 13771310 Oct 29 10:50 GK2B_GOCI2_L2_20220204_041530_LA_S007_RI.nc\n",
            "-rw-r--r-- 1 root root 13414919 Oct 29 10:49 GK2B_GOCI2_L2_20220204_051530_LA_S007_RI.nc\n",
            "-rw-r--r-- 1 root root 12529600 Oct 29 10:50 GK2B_GOCI2_L2_20220204_061530_LA_S007_RI.nc\n",
            "-rw-r--r-- 1 root root 11298871 Oct 29 10:50 GK2B_GOCI2_L2_20220204_071530_LA_S007_RI.nc\n",
            "-rw-r--r-- 1 root root  9692815 Oct 29 10:51 GK2B_GOCI2_L2_20220204_081530_LA_S007_RI.nc\n",
            "-rw-r--r-- 1 root root  9769565 Oct 29 10:50 GK2B_GOCI2_L2_20220204_231530_LA_S007_RI.nc\n",
            "drwxr-xr-x 2 root root     4096 Oct 29 10:31 .ipynb_checkpoints\n"
          ]
        }
      ]
    },
    {
      "cell_type": "markdown",
      "source": [
        "# supplement\n",
        "## download web file"
      ],
      "metadata": {
        "id": "O_HksCXCVIP6"
      }
    },
    {
      "cell_type": "code",
      "source": [
        "import urllib.request\n",
        "\n",
        "urllib.request.urlretrieve('http://nosc.elecocean.co.kr:8080/opendap/GOCI-II/2022/01/01/L2/GK2_GC2_L2_20220101_011530/GK2B_GOCI2_L2_20220101_011530_LA_RI.nc', 'temp.nc')"
      ],
      "metadata": {
        "colab": {
          "base_uri": "https://localhost:8080/"
        },
        "id": "4zsMQlCUyjpb",
        "outputId": "15e0d940-f352-4b2f-c77d-7628c866201c"
      },
      "execution_count": 3,
      "outputs": [
        {
          "output_type": "execute_result",
          "data": {
            "text/plain": [
              "('temp.nc', <http.client.HTTPMessage at 0x7fe329451450>)"
            ]
          },
          "metadata": {},
          "execution_count": 3
        }
      ]
    },
    {
      "cell_type": "markdown",
      "source": [
        "## how to get next day"
      ],
      "metadata": {
        "id": "shl96TlyXGkX"
      }
    },
    {
      "cell_type": "code",
      "source": [
        "#how to get next day - by datetime\n",
        "date=datetime.datetime(2021,1,1)\n",
        "date+=datetime.timedelta(days=1)\n",
        "date"
      ],
      "metadata": {
        "colab": {
          "base_uri": "https://localhost:8080/"
        },
        "id": "u8Q7RFUETp8K",
        "outputId": "5ef0e09b-956b-4697-ff6f-30212d60a90b"
      },
      "execution_count": 8,
      "outputs": [
        {
          "output_type": "execute_result",
          "data": {
            "text/plain": [
              "datetime.datetime(2021, 1, 2, 0, 0)"
            ]
          },
          "metadata": {},
          "execution_count": 8
        }
      ]
    },
    {
      "cell_type": "markdown",
      "source": [
        "## link extraction\n",
        "reference: LMS fundamental node, naver news  crawling"
      ],
      "metadata": {
        "id": "lHeew53sVPrJ"
      }
    },
    {
      "cell_type": "code",
      "source": [
        "import requests\n",
        "import pandas as pd\n",
        "from bs4 import BeautifulSoup\n"
      ],
      "metadata": {
        "id": "-A92VX0t_BQw"
      },
      "execution_count": 1,
      "outputs": []
    },
    {
      "cell_type": "code",
      "source": [
        "url = 'http://nosc.elecocean.co.kr:8080/opendap/GOCI-II/2022/06/01/L2/GK2_GC2_L2_20220601_001530/contents.html'\n",
        "headers = {'User-Agent': 'Mozilla/5.0 (X11; Linux x86_64) AppleWebKit/537.36 (KHTML, like Gecko) Chrome/54.0.2840.90 Safari/537.36'}\n",
        "news = requests.get(url, headers=headers)\n",
        "soup = BeautifulSoup(news.content, 'html.parser')\n"
      ],
      "metadata": {
        "id": "ieBGuXn3_BwR"
      },
      "execution_count": null,
      "outputs": []
    },
    {
      "cell_type": "code",
      "source": [
        "jpgs=soup.select(\"tr td a\") #same for subdirectory.\n",
        "urllist=[]\n",
        "for line in jpgs:\n",
        "    urllist.append(line.get('href'))"
      ],
      "metadata": {
        "id": "ZKFM3Crk_DnT"
      },
      "execution_count": null,
      "outputs": []
    },
    {
      "cell_type": "code",
      "source": [
        "for line in urllist:\n",
        "    if 'RI.jpg' in line:\n",
        "        print(line)"
      ],
      "metadata": {
        "colab": {
          "base_uri": "https://localhost:8080/"
        },
        "id": "-VywBwJo_NvX",
        "outputId": "04e5cc3e-54d3-47f3-a450-019fd97cba2a"
      },
      "execution_count": null,
      "outputs": [
        {
          "output_type": "stream",
          "name": "stdout",
          "text": [
            "GK2B_GOCI2_L2_20220601_001530_LA_RI.jpg\n"
          ]
        }
      ]
    },
    {
      "cell_type": "code",
      "source": [
        "url = 'http://nosc.elecocean.co.kr:8080/opendap/GOCI-II/2022/06/01/L2/GK2_GC2_L2_20220601_001530/contents.html'"
      ],
      "metadata": {
        "id": "tJBma2jcC3qS"
      },
      "execution_count": null,
      "outputs": []
    },
    {
      "cell_type": "code",
      "source": [
        "#url : delete \"/contents.html\"\n",
        "'/'.join(url.split(sep='/')[:-1])"
      ],
      "metadata": {
        "colab": {
          "base_uri": "https://localhost:8080/",
          "height": 35
        },
        "id": "XHr-bo6eEmxe",
        "outputId": "f0b4be18-f86a-4e29-ffd9-73baf37e3d8f"
      },
      "execution_count": null,
      "outputs": [
        {
          "output_type": "execute_result",
          "data": {
            "text/plain": [
              "'http://nosc.elecocean.co.kr:8080/opendap/GOCI-II/2022/06/01/L2/GK2_GC2_L2_20220601_001530'"
            ],
            "application/vnd.google.colaboratory.intrinsic+json": {
              "type": "string"
            }
          },
          "metadata": {},
          "execution_count": 18
        }
      ]
    },
    {
      "cell_type": "code",
      "source": [
        "ncs=soup.select(\"td b a\")\n",
        "nclist=[]\n",
        "for line in ncs:\n",
        "    nclist.append(line.get('href'))\n",
        "nclist"
      ],
      "metadata": {
        "id": "OLfmGm-6FWC1"
      },
      "execution_count": null,
      "outputs": []
    },
    {
      "cell_type": "code",
      "source": [
        "url = 'http://nosc.elecocean.co.kr:8080/opendap/GOCI-II/2022/06/01/L2/'\n",
        "news = requests.get(url, headers=headers)\n",
        "soup = BeautifulSoup(news.content, 'html.parser')"
      ],
      "metadata": {
        "id": "6D_X5lyZLCZj"
      },
      "execution_count": null,
      "outputs": []
    },
    {
      "cell_type": "code",
      "source": [
        "jpgs=soup.select(\"tr td a\") #same for subdirectory.\n",
        "urllist=[]\n",
        "for line in jpgs:\n",
        "    urllist.append(line.get('href'))"
      ],
      "metadata": {
        "id": "S8DU63GrVvCn"
      },
      "execution_count": null,
      "outputs": []
    },
    {
      "cell_type": "code",
      "source": [
        "urllist"
      ],
      "metadata": {
        "colab": {
          "base_uri": "https://localhost:8080/"
        },
        "id": "qQWr_7UNV7Il",
        "outputId": "5fa9f68e-8704-48bd-e627-601fdf6026af"
      },
      "execution_count": null,
      "outputs": [
        {
          "output_type": "execute_result",
          "data": {
            "text/plain": [
              "['GK2_GC2_L2_20220601_001530/contents.html',\n",
              " 'GK2_GC2_L2_20220601_011530/contents.html',\n",
              " 'GK2_GC2_L2_20220601_021530/contents.html',\n",
              " 'GK2_GC2_L2_20220601_031530/contents.html',\n",
              " 'GK2_GC2_L2_20220601_041530/contents.html',\n",
              " 'GK2_GC2_L2_20220601_051530/contents.html',\n",
              " 'GK2_GC2_L2_20220601_061530/contents.html',\n",
              " 'GK2_GC2_L2_20220601_071530/contents.html',\n",
              " 'GK2_GC2_L2_20220601_081530/contents.html',\n",
              " 'GK2_GC2_L2_20220601_231530/contents.html',\n",
              " 'catalog.xml',\n",
              " 'http://www.nsf.gov/',\n",
              " 'http://www.nasa.gov/',\n",
              " 'http://www.noaa.gov/']"
            ]
          },
          "metadata": {},
          "execution_count": 37
        }
      ]
    },
    {
      "cell_type": "markdown",
      "source": [
        "## netCDF4 information"
      ],
      "metadata": {
        "id": "LKqHO5nmt37M"
      }
    },
    {
      "cell_type": "code",
      "source": [
        "import netCDF4 as nc4\n",
        "rootgrp = nc4.Dataset('/content/ncs/GK2B_GOCI2_L2_20220204_031530_LA_S007_RI.nc')\n",
        "print(rootgrp)"
      ],
      "metadata": {
        "id": "phA84lR4V8cL",
        "colab": {
          "base_uri": "https://localhost:8080/"
        },
        "outputId": "fe7cb37c-cc5b-4731-8756-867c211f5d4f"
      },
      "execution_count": 117,
      "outputs": [
        {
          "output_type": "stream",
          "name": "stdout",
          "text": [
            "<class 'netCDF4._netCDF4.Dataset'>\n",
            "root group (NETCDF4 data model, file format HDF5):\n",
            "    Conventions: CF-1.6 ACDD-1.3\n",
            "    acknowledgement: \n",
            "    comment: \n",
            "    creator_email: kosc@kiost.ac.kr\n",
            "    creator_name: KOSC\n",
            "    creator_url: http://kosc.kiost.ac.kr\n",
            "    earth_radius: 6378137.0\n",
            "    false_easting: 0.0\n",
            "    false_northing: 0.0\n",
            "    geographic_crs_name: WGS 84\n",
            "    geospatial_lat_max: 39.28563\n",
            "    geospatial_lat_min: 30.665466\n",
            "    geospatial_lat_resolution: 250 meters\n",
            "    geospatial_lat_units: degree_north\n",
            "    geospatial_lon_max: 130.40538\n",
            "    geospatial_lon_min: 121.99647\n",
            "    geospatial_lon_resolution: 250 meters\n",
            "    geospatial_lon_units: degree_east\n",
            "    grid_mapping_name: geostationary\n",
            "    history: input:AC,STATIC__output:RI\n",
            "    horizontal_datum_name: WGS 1984\n",
            "    id: GK2B_GOCI2_L2_20220204_031530_LA_S007_RI.nc\n",
            "    image_center_latitude: 34.785534\n",
            "    image_center_longitude: 126.338715\n",
            "    image_lowerright_latitude: 30.66906\n",
            "    image_lowerright_longitude: 130.15741\n",
            "    image_upperleft_latitude: 39.28563\n",
            "    image_upperleft_longitude: 121.99646\n",
            "    institution: KIOST, Korea Ocean Satellite Center\n",
            "    instrument: GOCI-II\n",
            "    keywords: \n",
            "    keywords_vocabulary: \n",
            "    latitude_of_projection_origin: 0.0\n",
            "    license: \n",
            "    longitude_of_projection_origin: 128.2\n",
            "    naming_authority: kr.ac.kiost.kosc\n",
            "    nominal_satellite_height: 42164000.0\n",
            "    number_of_columns: 2780\n",
            "    number_of_lines: 2780\n",
            "    number_of_total_bands: 12\n",
            "    number_of_total_slots: 1\n",
            "    observation_end_time: 20220204_032827\n",
            "    observation_mode: LA\n",
            "    observation_start_time: 20220204_032723\n",
            "    perspective_point_height: 35786000.0\n",
            "    platform: GK-2B\n",
            "    prime_meridian_name: Greenwich\n",
            "    processing_end: 20220204033810\n",
            "    processing_level: L2\n",
            "    processing_start: 20220204033749\n",
            "    product_name: GK2B_GOCI2_L2_20220204_031530_LA_S007_RI.nc\n",
            "    product_version: \n",
            "    projection_type: GEOS\n",
            "    publisher_email: kosc@kiost.ac.kr\n",
            "    publisher_name: KIOST/KOSC\n",
            "    publisher_url: http://kosc.kiost.ac.kr\n",
            "    reference: \n",
            "    reference_ellipsoid_name: WGS 84\n",
            "    semi_major_axis: 6378137.0\n",
            "    semi_minor_axis: 6356752.3\n",
            "    slot_acquisition_time: 20220204_032723\n",
            "    standard_name_vocabulary: \n",
            "    sub_longitude: 0.0\n",
            "    summary: GK2B GOCI-II Level-2 Data\n",
            "    time_synchro_obt: 697217243.816127\n",
            "    time_synchro_utc: 20220204_032723\n",
            "    title: GK2B GOCI-II Level-2 Data\n",
            "    dimensions(sizes): number_of_lines(2780), pixels_per_line(2780)\n",
            "    variables(dimensions): \n",
            "    groups: geophysical_data, navigation_data\n"
          ]
        }
      ]
    },
    {
      "cell_type": "code",
      "source": [],
      "metadata": {
        "id": "Tx88dvAcYfqw"
      },
      "execution_count": null,
      "outputs": []
    }
  ]
}