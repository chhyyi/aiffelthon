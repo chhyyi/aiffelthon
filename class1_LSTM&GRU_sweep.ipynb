{
 "cells": [
  {
   "cell_type": "markdown",
   "id": "15f65155",
   "metadata": {},
   "source": [
    "# About this notebook..\n",
    "this is copy of [Sensory_GRU_Sweep_condition_labeled.ipynb](https://github.com/chhyyi/aiffelthon/blob/main/lms/Sensory_GRU_Sweep_condition_labeled.ipynb)\n",
    "\n",
    "## Changelog:\n",
    "- train-test split is omitted. instead, it loads train, test dataset respectively."
   ]
  },
  {
   "cell_type": "code",
   "execution_count": 1,
   "id": "3f32f5ad",
   "metadata": {},
   "outputs": [],
   "source": [
    "import tensorflow as tf\n",
    "from tensorflow import keras\n",
    "import numpy as np\n",
    "import matplotlib.pyplot as plt\n",
    "import pandas as pd\n",
    "from sklearn.model_selection import train_test_split\n",
    "import random\n",
    "import os\n",
    "import wandb\n",
    "from wandb.keras import WandbCallback"
   ]
  },
  {
   "cell_type": "code",
   "execution_count": 9,
   "id": "b5b14bc6",
   "metadata": {},
   "outputs": [],
   "source": [
    "def train():\n",
    "    import pandas as pd\n",
    "    import tensorflow as tf\n",
    "    from tensorflow import keras\n",
    "    import matplotlib.pyplot as plt\n",
    "    import numpy as np\n",
    "    import wandb\n",
    "    from wandb.keras import WandbCallback\n",
    "\n",
    "    def seq_acc(y_true, y_pred):\n",
    "        y_bin=np.zeros_like(y_pred)\n",
    "        for i, dd in enumerate(y_bin):\n",
    "            for j in range(len(dd)):\n",
    "                pred=y_pred[i][j]\n",
    "                if pred>=0.5:\n",
    "                    y_bin[i][j]=1\n",
    "                else:\n",
    "                    y_bin[i][j]=0\n",
    "\n",
    "        predict_true = (y_true == y_bin)\n",
    "\n",
    "        try:\n",
    "            score = np.average(np.average(predict_true))\n",
    "        except ValueError:\n",
    "            score = mean_squared_error(y_true, y_bin)\n",
    "        return score\n",
    "\n",
    "    def my_seq_acc(y_true, y_pred):\n",
    "        score = tf.py_function(func=seq_acc, inp=[y_true, y_pred], Tout=tf.float32,  name='custom_seq_acc') # tf 2.x\n",
    "        return score\n",
    "\n",
    "\n",
    "    class MySeqAccCallback(keras.callbacks.Callback):\n",
    "        def on_epoch_end(self, epochs, logs=None):\n",
    "            y_pred=self.model.predict(X_test)\n",
    "            print('sequence accuracy is {}'.format(seq_acc(y_test, y_pred)))\n",
    "\n",
    "\n",
    "    default_config={\n",
    "        'target_type':'실측',\n",
    "        'RNN_type':'GRU',\n",
    "        'seq_field':72,\n",
    "        'stride_inside_seq':9,\n",
    "        'stride_between_seqs':2,\n",
    "        'learning_rate':0.01,\n",
    "        'epochs':12,\n",
    "        'batch_size':64,\n",
    "        'unit_RNN0':64}\n",
    "    ######### Wandb.init() ##########\n",
    "    wandb.init(config = default_config)\n",
    "    \n",
    "    def not_bin_in_occurence(x):\n",
    "        if x==1 or x==0:\n",
    "            return x\n",
    "        else:\n",
    "            #print('exceptional value(not 0 or 1) found. replaced by near one.')\n",
    "            if x>=0.5:\n",
    "                return 1\n",
    "            else:\n",
    "                return 0\n",
    "            \n",
    "\n",
    "    locations=['거문도', '울산', '거제도', '통영', '추자도']\n",
    "    if wandb.config.target_type=='실측':\n",
    "        df_merged_train=pd.read_csv(\"sample_data/class1_obs_train_refined.csv\")\n",
    "        df_merged_test=pd.read_csv(\"sample_data/class1_obs_test_refined.csv\")\n",
    "        df_merged_train['적조발생(실측)']=df_merged_train['적조발생(실측)'].apply(not_bin_in_occurence)\n",
    "        df_merged_test['적조발생(실측)']=df_merged_test['적조발생(실측)'].apply(not_bin_in_occurence)\n",
    "    elif wandb.config.target_type=='조건':\n",
    "        df_merged_train=pd.read_csv(\"sample_data/class1_condition_train_refined.csv\")\n",
    "        df_merged_test=pd.read_csv(\"sample_data/class1_condition_test_refined.csv\")\n",
    "        df_merged_train['적조발생(조건)']=df_merged_train['적조발생(조건)'].apply(not_bin_in_occurence)\n",
    "        df_merged_test['적조발생(조건)']=df_merged_test['적조발생(조건)'].apply(not_bin_in_occurence)\n",
    "\n",
    "\n",
    "    if df_merged_train.columns[0]=='Unnamed: 0':\n",
    "        df_merged_train = df_merged_train.iloc[:, 1:]\n",
    "        print('drop \"Unnamed: 0\" column')\n",
    "\n",
    "    if df_merged_test.columns[0]=='Unnamed: 0':\n",
    "        df_merged_test = df_merged_test.iloc[:, 1:]\n",
    "        print('drop \"Unnamed: 0\" column')\n",
    "        \n",
    "    print('dataset loaded. Generating sequences')\n",
    "    for istest, df_merged in enumerate([df_merged_train, df_merged_test]):\n",
    "        seq_length=wandb.config.seq_field//wandb.config.stride_inside_seq\n",
    "        len_ds=len(df_merged)\n",
    "\n",
    "        seqs_idx=[]\n",
    "\n",
    "        start_idx=0\n",
    "        while start_idx<=len_ds-wandb.config.seq_field:\n",
    "            seqs_idx.append(list(range(start_idx, start_idx + wandb.config.seq_field, wandb.config.stride_inside_seq\n",
    "        )))\n",
    "            start_idx+=wandb.config.stride_between_seqs\n",
    "\n",
    "        df_merged.reset_index(inplace=True, drop=True)\n",
    "        print('Any missing values exist:', df_merged.isna().all().all())\n",
    "\n",
    "        ds_train_cols=df_merged\n",
    "        ds_train_cols.reset_index(inplace=True, drop=True)\n",
    "        print('train dataset columns:',ds_train_cols.columns)\n",
    "\n",
    "        seq_dataset=np.zeros([len(seqs_idx), len(seqs_idx[0]), len(ds_train_cols.columns)])\n",
    "\n",
    "        for i, seq in enumerate(seqs_idx):\n",
    "            for j, row_number in enumerate(seq):\n",
    "                seq_dataset[i, j]=ds_train_cols.loc[row_number].to_numpy()\n",
    "        \n",
    "        if istest:\n",
    "            test_xy=seq_dataset\n",
    "        else:\n",
    "            train_xy=seq_dataset\n",
    "        \n",
    "    X_train=train_xy[:,:,0:-1]\n",
    "    y_train=train_xy[:,:,-1]\n",
    "    X_test=test_xy[:,:,0:-1]\n",
    "    y_test=test_xy[:,:,-1]\n",
    "\n",
    "    print(X_train.shape, X_test.shape, y_train.shape, y_test.shape,'\\n\\n')\n",
    "    if wandb.config.RNN_type=='GRU':        \n",
    "        model = keras.Sequential([\n",
    "            keras.Input(shape=(seq_length, 25)),\n",
    "            keras.layers.GRU(wandb.config.unit_RNN0),\n",
    "            keras.layers.Dense(seq_length, activation=\"sigmoid\"),\n",
    "        ])\n",
    "    elif wandb.config.RNN_type=='LSTM':\n",
    "        model = keras.Sequential([\n",
    "            keras.Input(shape=(seq_length, 25)),\n",
    "            keras.layers.LSTM(wandb.config.unit_RNN0),\n",
    "            keras.layers.Dense(seq_length, activation=\"sigmoid\"),\n",
    "        ])\n",
    "    optimizer=keras.optimizers.Adam(learning_rate=wandb.config.learning_rate)\n",
    "\n",
    "    model.compile(optimizer=optimizer, loss=\"binary_crossentropy\")\n",
    "    \n",
    "    ######### WandbCallback ##########\n",
    "    history=model.fit(X_train, y_train,\n",
    "            batch_size=wandb.config.batch_size,\n",
    "            epochs=wandb.config.epochs, \n",
    "            validation_data=(X_test, y_test),\n",
    "            callbacks=[WandbCallback(training_data = (X_train, y_train),\n",
    "                                     validation_data = (X_test, y_test)), MySeqAccCallback()])\n",
    "    y_pred=model.predict(X_test)\n",
    "    \n",
    "    ######### Wandb.log() ##########\n",
    "    wandb.log({\"ValidationAcc\":seq_acc(y_test, y_pred)})"
   ]
  },
  {
   "cell_type": "code",
   "execution_count": 10,
   "id": "e2be527c",
   "metadata": {},
   "outputs": [
    {
     "data": {
      "text/plain": [
       "True"
      ]
     },
     "execution_count": 10,
     "metadata": {},
     "output_type": "execute_result"
    }
   ],
   "source": [
    "wandb.login()"
   ]
  },
  {
   "cell_type": "code",
   "execution_count": 11,
   "id": "8a37804c",
   "metadata": {},
   "outputs": [],
   "source": [
    "sweep_config = {\n",
    "    \"name\": \"sweep\",\n",
    "    \"metric\": {\n",
    "        \"goal\": \"minimize\",\n",
    "        \"name\": \"best_val_loss\"\n",
    "    },\n",
    "    \"method\": \"random\",\n",
    "    \"parameters\": {\n",
    "        \"RNN_type\":{\n",
    "            \"values\":['GRU', 'LSTM']\n",
    "        },\n",
    "        \"target_type\":{\n",
    "            \"values\":['실측', '조건']\n",
    "        },\n",
    "        \"learning_rate\":{\"values\":[0.0002, 0.001, 0.0032, 0.01]},\n",
    "        \"unit_RNN0\":{\"values\":[32,64,128]},\n",
    "        \"stride_inside_seq\":{\"values\":[3,9]}\n",
    "    }\n",
    "    }"
   ]
  },
  {
   "cell_type": "code",
   "execution_count": 12,
   "id": "2752794f",
   "metadata": {},
   "outputs": [
    {
     "name": "stdout",
     "output_type": "stream",
     "text": [
      "Create sweep with ID: ltknb2cu\n",
      "Sweep URL: https://wandb.ai/chhyyi/redzone_RNN_class1_sweep/sweeps/ltknb2cu\n"
     ]
    },
    {
     "name": "stderr",
     "output_type": "stream",
     "text": [
      "\u001b[34m\u001b[1mwandb\u001b[0m: Agent Starting Run: x1l2sufi with config:\n",
      "\u001b[34m\u001b[1mwandb\u001b[0m: \tRNN_type: GRU\n",
      "\u001b[34m\u001b[1mwandb\u001b[0m: \tlearning_rate: 0.001\n",
      "\u001b[34m\u001b[1mwandb\u001b[0m: \tstride_inside_seq: 9\n",
      "\u001b[34m\u001b[1mwandb\u001b[0m: \ttarget_type: 조건\n",
      "\u001b[34m\u001b[1mwandb\u001b[0m: \tunit_RNN0: 128\n"
     ]
    },
    {
     "data": {
      "text/html": [
       "Tracking run with wandb version 0.13.5"
      ],
      "text/plain": [
       "<IPython.core.display.HTML object>"
      ]
     },
     "metadata": {},
     "output_type": "display_data"
    },
    {
     "data": {
      "text/html": [
       "Run data is saved locally in <code>/aiffel/aiffel/aiffelthon/wandb/run-20221120_185359-x1l2sufi</code>"
      ],
      "text/plain": [
       "<IPython.core.display.HTML object>"
      ]
     },
     "metadata": {},
     "output_type": "display_data"
    },
    {
     "data": {
      "text/html": [
       "Syncing run <strong><a href=\"https://wandb.ai/chhyyi/redzone_RNN_class1_sweep/runs/x1l2sufi\" target=\"_blank\">jumping-sweep-1</a></strong> to <a href=\"https://wandb.ai/chhyyi/redzone_RNN_class1_sweep\" target=\"_blank\">Weights & Biases</a> (<a href=\"https://wandb.me/run\" target=\"_blank\">docs</a>)<br/>Sweep page:  <a href=\"https://wandb.ai/chhyyi/redzone_RNN_class1_sweep/sweeps/ltknb2cu\" target=\"_blank\">https://wandb.ai/chhyyi/redzone_RNN_class1_sweep/sweeps/ltknb2cu</a>"
      ],
      "text/plain": [
       "<IPython.core.display.HTML object>"
      ]
     },
     "metadata": {},
     "output_type": "display_data"
    },
    {
     "name": "stdout",
     "output_type": "stream",
     "text": [
      "drop \"Unnamed: 0\" column\n",
      "drop \"Unnamed: 0\" column\n",
      "dataset loaded. Generating sequences\n",
      "Any missing values exist: False\n",
      "train dataset columns: Index(['풍속(m/s)', '풍향(deg)', '기온(°C)', '수온(°C)', '강수량(mm)', '풍속(m/s).1',\n",
      "       '풍향(deg).1', '기온(°C).1', '수온(°C).1', '강수량(mm).1', '풍속(m/s).2',\n",
      "       '풍향(deg).2', '기온(°C).2', '수온(°C).2', '강수량(mm).2', '풍속(m/s).3',\n",
      "       '풍향(deg).3', '기온(°C).3', '수온(°C).3', '강수량(mm).3', '풍속(m/s).4',\n",
      "       '풍향(deg).4', '기온(°C).4', '수온(°C).4', '강수량(mm).4', '적조발생(조건)'],\n",
      "      dtype='object')\n",
      "Any missing values exist: False\n",
      "train dataset columns: Index(['풍속(m/s)', '풍향(deg)', '기온(°C)', '수온(°C)', '강수량(mm)', '풍속(m/s).1',\n",
      "       '풍향(deg).1', '기온(°C).1', '수온(°C).1', '강수량(mm).1', '풍속(m/s).2',\n",
      "       '풍향(deg).2', '기온(°C).2', '수온(°C).2', '강수량(mm).2', '풍속(m/s).3',\n",
      "       '풍향(deg).3', '기온(°C).3', '수온(°C).3', '강수량(mm).3', '풍속(m/s).4',\n",
      "       '풍향(deg).4', '기온(°C).4', '수온(°C).4', '강수량(mm).4', '적조발생(조건)'],\n",
      "      dtype='object')\n",
      "(25131, 8, 25) (27940, 8, 25) (25131, 8) (27940, 8) \n",
      "\n",
      "\n"
     ]
    },
    {
     "name": "stderr",
     "output_type": "stream",
     "text": [
      "\u001b[34m\u001b[1mwandb\u001b[0m: \u001b[33mWARNING\u001b[0m The save_model argument by default saves the model in the HDF5 format that cannot save custom objects like subclassed models and custom layers. This behavior will be deprecated in a future release in favor of the SavedModel format. Meanwhile, the HDF5 model is saved as W&B files and the SavedModel as W&B Artifacts.\n"
     ]
    },
    {
     "name": "stdout",
     "output_type": "stream",
     "text": [
      "Epoch 1/20\n",
      "393/393 [==============================] - 5s 6ms/step - loss: 0.0514 - val_loss: 0.0087\n"
     ]
    },
    {
     "name": "stderr",
     "output_type": "stream",
     "text": [
      "WARNING:absl:Found untraced functions such as gru_cell_layer_call_and_return_conditional_losses, gru_cell_layer_call_fn, gru_cell_layer_call_fn, gru_cell_layer_call_and_return_conditional_losses, gru_cell_layer_call_and_return_conditional_losses while saving (showing 5 of 5). These functions will not be directly callable after loading.\n"
     ]
    },
    {
     "name": "stdout",
     "output_type": "stream",
     "text": [
      "INFO:tensorflow:Assets written to: /aiffel/aiffel/aiffelthon/wandb/run-20221120_185359-x1l2sufi/files/model-best/assets\n"
     ]
    },
    {
     "name": "stderr",
     "output_type": "stream",
     "text": [
      "INFO:tensorflow:Assets written to: /aiffel/aiffel/aiffelthon/wandb/run-20221120_185359-x1l2sufi/files/model-best/assets\n",
      "\u001b[34m\u001b[1mwandb\u001b[0m: Adding directory to artifact (/aiffel/aiffel/aiffelthon/wandb/run-20221120_185359-x1l2sufi/files/model-best)... Done. 0.0s\n"
     ]
    },
    {
     "name": "stdout",
     "output_type": "stream",
     "text": [
      "sequence accuracy is 0.9988144237652111\n",
      "Epoch 2/20\n",
      "393/393 [==============================] - 2s 5ms/step - loss: 0.0115 - val_loss: 0.0090\n",
      "sequence accuracy is 0.9989620615604867\n",
      "Epoch 3/20\n",
      "393/393 [==============================] - 2s 5ms/step - loss: 0.0106 - val_loss: 0.0085\n"
     ]
    },
    {
     "name": "stderr",
     "output_type": "stream",
     "text": [
      "WARNING:absl:Found untraced functions such as gru_cell_layer_call_and_return_conditional_losses, gru_cell_layer_call_fn, gru_cell_layer_call_fn, gru_cell_layer_call_and_return_conditional_losses, gru_cell_layer_call_and_return_conditional_losses while saving (showing 5 of 5). These functions will not be directly callable after loading.\n"
     ]
    },
    {
     "name": "stdout",
     "output_type": "stream",
     "text": [
      "INFO:tensorflow:Assets written to: /aiffel/aiffel/aiffelthon/wandb/run-20221120_185359-x1l2sufi/files/model-best/assets\n"
     ]
    },
    {
     "name": "stderr",
     "output_type": "stream",
     "text": [
      "INFO:tensorflow:Assets written to: /aiffel/aiffel/aiffelthon/wandb/run-20221120_185359-x1l2sufi/files/model-best/assets\n",
      "\u001b[34m\u001b[1mwandb\u001b[0m: Adding directory to artifact (/aiffel/aiffel/aiffelthon/wandb/run-20221120_185359-x1l2sufi/files/model-best)... Done. 0.0s\n"
     ]
    },
    {
     "name": "stdout",
     "output_type": "stream",
     "text": [
      "sequence accuracy is 0.9988681102362205\n",
      "Epoch 4/20\n",
      "393/393 [==============================] - 2s 5ms/step - loss: 0.0098 - val_loss: 0.0074\n"
     ]
    },
    {
     "name": "stderr",
     "output_type": "stream",
     "text": [
      "WARNING:absl:Found untraced functions such as gru_cell_layer_call_and_return_conditional_losses, gru_cell_layer_call_fn, gru_cell_layer_call_fn, gru_cell_layer_call_and_return_conditional_losses, gru_cell_layer_call_and_return_conditional_losses while saving (showing 5 of 5). These functions will not be directly callable after loading.\n"
     ]
    },
    {
     "name": "stdout",
     "output_type": "stream",
     "text": [
      "INFO:tensorflow:Assets written to: /aiffel/aiffel/aiffelthon/wandb/run-20221120_185359-x1l2sufi/files/model-best/assets\n"
     ]
    },
    {
     "name": "stderr",
     "output_type": "stream",
     "text": [
      "INFO:tensorflow:Assets written to: /aiffel/aiffel/aiffelthon/wandb/run-20221120_185359-x1l2sufi/files/model-best/assets\n",
      "\u001b[34m\u001b[1mwandb\u001b[0m: Adding directory to artifact (/aiffel/aiffel/aiffelthon/wandb/run-20221120_185359-x1l2sufi/files/model-best)... Done. 0.0s\n"
     ]
    },
    {
     "name": "stdout",
     "output_type": "stream",
     "text": [
      "sequence accuracy is 0.9989128489620616\n",
      "Epoch 5/20\n",
      "393/393 [==============================] - 2s 5ms/step - loss: 0.0093 - val_loss: 0.0084\n",
      "sequence accuracy is 0.9986488904795991\n",
      "Epoch 6/20\n",
      "393/393 [==============================] - 2s 5ms/step - loss: 0.0086 - val_loss: 0.0071\n"
     ]
    },
    {
     "name": "stderr",
     "output_type": "stream",
     "text": [
      "WARNING:absl:Found untraced functions such as gru_cell_layer_call_and_return_conditional_losses, gru_cell_layer_call_fn, gru_cell_layer_call_fn, gru_cell_layer_call_and_return_conditional_losses, gru_cell_layer_call_and_return_conditional_losses while saving (showing 5 of 5). These functions will not be directly callable after loading.\n"
     ]
    },
    {
     "name": "stdout",
     "output_type": "stream",
     "text": [
      "INFO:tensorflow:Assets written to: /aiffel/aiffel/aiffelthon/wandb/run-20221120_185359-x1l2sufi/files/model-best/assets\n"
     ]
    },
    {
     "name": "stderr",
     "output_type": "stream",
     "text": [
      "INFO:tensorflow:Assets written to: /aiffel/aiffel/aiffelthon/wandb/run-20221120_185359-x1l2sufi/files/model-best/assets\n",
      "\u001b[34m\u001b[1mwandb\u001b[0m: Adding directory to artifact (/aiffel/aiffel/aiffelthon/wandb/run-20221120_185359-x1l2sufi/files/model-best)... Done. 0.0s\n"
     ]
    },
    {
     "name": "stdout",
     "output_type": "stream",
     "text": [
      "sequence accuracy is 0.9989620615604867\n",
      "Epoch 7/20\n",
      "393/393 [==============================] - 2s 5ms/step - loss: 0.0081 - val_loss: 0.0073\n",
      "sequence accuracy is 0.9989620615604867\n",
      "Epoch 8/20\n",
      "393/393 [==============================] - 2s 5ms/step - loss: 0.0077 - val_loss: 0.0078\n",
      "sequence accuracy is 0.9989352183249821\n",
      "Epoch 9/20\n",
      "393/393 [==============================] - 2s 5ms/step - loss: 0.0073 - val_loss: 0.0081\n",
      "sequence accuracy is 0.9988994273443093\n",
      "Epoch 10/20\n",
      "393/393 [==============================] - 2s 5ms/step - loss: 0.0070 - val_loss: 0.0078\n",
      "sequence accuracy is 0.9989173228346456\n",
      "Epoch 11/20\n",
      "393/393 [==============================] - 2s 5ms/step - loss: 0.0066 - val_loss: 0.0083\n",
      "sequence accuracy is 0.9987473156764496\n",
      "Epoch 12/20\n",
      "393/393 [==============================] - 2s 5ms/step - loss: 0.0064 - val_loss: 0.0078\n",
      "sequence accuracy is 0.9989441660701504\n",
      "Epoch 13/20\n",
      "393/393 [==============================] - 2s 5ms/step - loss: 0.0062 - val_loss: 0.0088\n",
      "sequence accuracy is 0.9987428418038654\n",
      "Epoch 14/20\n",
      "393/393 [==============================] - 2s 5ms/step - loss: 0.0060 - val_loss: 0.0089\n",
      "sequence accuracy is 0.9985370436649964\n",
      "Epoch 15/20\n",
      "393/393 [==============================] - 2s 5ms/step - loss: 0.0056 - val_loss: 0.0089\n",
      "sequence accuracy is 0.9987338940586972\n",
      "Epoch 16/20\n",
      "393/393 [==============================] - 2s 5ms/step - loss: 0.0054 - val_loss: 0.0089\n",
      "sequence accuracy is 0.9986802075876879\n",
      "Epoch 17/20\n",
      "393/393 [==============================] - 2s 5ms/step - loss: 0.0050 - val_loss: 0.0097\n",
      "sequence accuracy is 0.9985728346456693\n",
      "Epoch 18/20\n",
      "393/393 [==============================] - 2s 5ms/step - loss: 0.0047 - val_loss: 0.0090\n",
      "sequence accuracy is 0.9985370436649964\n",
      "Epoch 19/20\n",
      "393/393 [==============================] - 2s 5ms/step - loss: 0.0045 - val_loss: 0.0088\n",
      "sequence accuracy is 0.9987786327845383\n",
      "Epoch 20/20\n",
      "393/393 [==============================] - 2s 5ms/step - loss: 0.0041 - val_loss: 0.0092\n",
      "sequence accuracy is 0.9985817823908375\n"
     ]
    },
    {
     "data": {
      "text/html": [
       "Waiting for W&B process to finish... <strong style=\"color:green\">(success).</strong>"
      ],
      "text/plain": [
       "<IPython.core.display.HTML object>"
      ]
     },
     "metadata": {},
     "output_type": "display_data"
    },
    {
     "data": {
      "text/html": [
       "<style>\n",
       "    table.wandb td:nth-child(1) { padding: 0 10px; text-align: left ; width: auto;} td:nth-child(2) {text-align: left ; width: 100%}\n",
       "    .wandb-row { display: flex; flex-direction: row; flex-wrap: wrap; justify-content: flex-start; width: 100% }\n",
       "    .wandb-col { display: flex; flex-direction: column; flex-basis: 100%; flex: 1; padding: 10px; }\n",
       "    </style>\n",
       "<div class=\"wandb-row\"><div class=\"wandb-col\"><h3>Run history:</h3><br/><table class=\"wandb\"><tr><td>ValidationAcc</td><td>▁</td></tr><tr><td>epoch</td><td>▁▁▂▂▂▃▃▄▄▄▅▅▅▆▆▇▇▇██</td></tr><tr><td>loss</td><td>█▂▂▂▂▂▂▂▁▁▁▁▁▁▁▁▁▁▁▁</td></tr><tr><td>val_loss</td><td>▅▆▅▂▄▁▁▃▄▃▄▃▆▆▆▆█▆▅▇</td></tr></table><br/></div><div class=\"wandb-col\"><h3>Run summary:</h3><br/><table class=\"wandb\"><tr><td>ValidationAcc</td><td>0.99858</td></tr><tr><td>best_epoch</td><td>5</td></tr><tr><td>best_val_loss</td><td>0.00715</td></tr><tr><td>epoch</td><td>19</td></tr><tr><td>loss</td><td>0.00413</td></tr><tr><td>val_loss</td><td>0.00916</td></tr></table><br/></div></div>"
      ],
      "text/plain": [
       "<IPython.core.display.HTML object>"
      ]
     },
     "metadata": {},
     "output_type": "display_data"
    },
    {
     "data": {
      "text/html": [
       "Synced <strong style=\"color:#cdcd00\">jumping-sweep-1</strong>: <a href=\"https://wandb.ai/chhyyi/redzone_RNN_class1_sweep/runs/x1l2sufi\" target=\"_blank\">https://wandb.ai/chhyyi/redzone_RNN_class1_sweep/runs/x1l2sufi</a><br/>Synced 5 W&B file(s), 1 media file(s), 13 artifact file(s) and 1 other file(s)"
      ],
      "text/plain": [
       "<IPython.core.display.HTML object>"
      ]
     },
     "metadata": {},
     "output_type": "display_data"
    },
    {
     "data": {
      "text/html": [
       "Find logs at: <code>./wandb/run-20221120_185359-x1l2sufi/logs</code>"
      ],
      "text/plain": [
       "<IPython.core.display.HTML object>"
      ]
     },
     "metadata": {},
     "output_type": "display_data"
    },
    {
     "name": "stderr",
     "output_type": "stream",
     "text": [
      "\u001b[34m\u001b[1mwandb\u001b[0m: Agent Starting Run: yqsr34ob with config:\n",
      "\u001b[34m\u001b[1mwandb\u001b[0m: \tRNN_type: GRU\n",
      "\u001b[34m\u001b[1mwandb\u001b[0m: \tlearning_rate: 0.01\n",
      "\u001b[34m\u001b[1mwandb\u001b[0m: \tstride_inside_seq: 9\n",
      "\u001b[34m\u001b[1mwandb\u001b[0m: \ttarget_type: 조건\n",
      "\u001b[34m\u001b[1mwandb\u001b[0m: \tunit_RNN0: 128\n"
     ]
    },
    {
     "data": {
      "text/html": [
       "Tracking run with wandb version 0.13.5"
      ],
      "text/plain": [
       "<IPython.core.display.HTML object>"
      ]
     },
     "metadata": {},
     "output_type": "display_data"
    },
    {
     "data": {
      "text/html": [
       "Run data is saved locally in <code>/aiffel/aiffel/aiffelthon/wandb/run-20221120_185557-yqsr34ob</code>"
      ],
      "text/plain": [
       "<IPython.core.display.HTML object>"
      ]
     },
     "metadata": {},
     "output_type": "display_data"
    },
    {
     "data": {
      "text/html": [
       "Syncing run <strong><a href=\"https://wandb.ai/chhyyi/redzone_RNN_class1_sweep/runs/yqsr34ob\" target=\"_blank\">floral-sweep-2</a></strong> to <a href=\"https://wandb.ai/chhyyi/redzone_RNN_class1_sweep\" target=\"_blank\">Weights & Biases</a> (<a href=\"https://wandb.me/run\" target=\"_blank\">docs</a>)<br/>Sweep page:  <a href=\"https://wandb.ai/chhyyi/redzone_RNN_class1_sweep/sweeps/ltknb2cu\" target=\"_blank\">https://wandb.ai/chhyyi/redzone_RNN_class1_sweep/sweeps/ltknb2cu</a>"
      ],
      "text/plain": [
       "<IPython.core.display.HTML object>"
      ]
     },
     "metadata": {},
     "output_type": "display_data"
    },
    {
     "name": "stdout",
     "output_type": "stream",
     "text": [
      "drop \"Unnamed: 0\" column\n",
      "drop \"Unnamed: 0\" column\n",
      "dataset loaded. Generating sequences\n",
      "Any missing values exist: False\n",
      "train dataset columns: Index(['풍속(m/s)', '풍향(deg)', '기온(°C)', '수온(°C)', '강수량(mm)', '풍속(m/s).1',\n",
      "       '풍향(deg).1', '기온(°C).1', '수온(°C).1', '강수량(mm).1', '풍속(m/s).2',\n",
      "       '풍향(deg).2', '기온(°C).2', '수온(°C).2', '강수량(mm).2', '풍속(m/s).3',\n",
      "       '풍향(deg).3', '기온(°C).3', '수온(°C).3', '강수량(mm).3', '풍속(m/s).4',\n",
      "       '풍향(deg).4', '기온(°C).4', '수온(°C).4', '강수량(mm).4', '적조발생(조건)'],\n",
      "      dtype='object')\n",
      "Any missing values exist: False\n",
      "train dataset columns: Index(['풍속(m/s)', '풍향(deg)', '기온(°C)', '수온(°C)', '강수량(mm)', '풍속(m/s).1',\n",
      "       '풍향(deg).1', '기온(°C).1', '수온(°C).1', '강수량(mm).1', '풍속(m/s).2',\n",
      "       '풍향(deg).2', '기온(°C).2', '수온(°C).2', '강수량(mm).2', '풍속(m/s).3',\n",
      "       '풍향(deg).3', '기온(°C).3', '수온(°C).3', '강수량(mm).3', '풍속(m/s).4',\n",
      "       '풍향(deg).4', '기온(°C).4', '수온(°C).4', '강수량(mm).4', '적조발생(조건)'],\n",
      "      dtype='object')\n",
      "(25131, 8, 25) (27940, 8, 25) (25131, 8) (27940, 8) \n",
      "\n",
      "\n",
      "Epoch 1/20\n",
      "393/393 [==============================] - 3s 6ms/step - loss: 0.0202 - val_loss: 0.0094\n"
     ]
    },
    {
     "name": "stderr",
     "output_type": "stream",
     "text": [
      "WARNING:absl:Found untraced functions such as gru_cell_layer_call_and_return_conditional_losses, gru_cell_layer_call_fn, gru_cell_layer_call_fn, gru_cell_layer_call_and_return_conditional_losses, gru_cell_layer_call_and_return_conditional_losses while saving (showing 5 of 5). These functions will not be directly callable after loading.\n"
     ]
    },
    {
     "name": "stdout",
     "output_type": "stream",
     "text": [
      "INFO:tensorflow:Assets written to: /aiffel/aiffel/aiffelthon/wandb/run-20221120_185557-yqsr34ob/files/model-best/assets\n"
     ]
    },
    {
     "name": "stderr",
     "output_type": "stream",
     "text": [
      "INFO:tensorflow:Assets written to: /aiffel/aiffel/aiffelthon/wandb/run-20221120_185557-yqsr34ob/files/model-best/assets\n",
      "\u001b[34m\u001b[1mwandb\u001b[0m: Adding directory to artifact (/aiffel/aiffel/aiffelthon/wandb/run-20221120_185557-yqsr34ob/files/model-best)... Done. 0.0s\n"
     ]
    },
    {
     "name": "stdout",
     "output_type": "stream",
     "text": [
      "sequence accuracy is 0.998313350035791\n",
      "Epoch 2/20\n",
      "393/393 [==============================] - 2s 5ms/step - loss: 0.0119 - val_loss: 0.0080\n"
     ]
    },
    {
     "name": "stderr",
     "output_type": "stream",
     "text": [
      "WARNING:absl:Found untraced functions such as gru_cell_layer_call_and_return_conditional_losses, gru_cell_layer_call_fn, gru_cell_layer_call_fn, gru_cell_layer_call_and_return_conditional_losses, gru_cell_layer_call_and_return_conditional_losses while saving (showing 5 of 5). These functions will not be directly callable after loading.\n"
     ]
    },
    {
     "name": "stdout",
     "output_type": "stream",
     "text": [
      "INFO:tensorflow:Assets written to: /aiffel/aiffel/aiffelthon/wandb/run-20221120_185557-yqsr34ob/files/model-best/assets\n"
     ]
    },
    {
     "name": "stderr",
     "output_type": "stream",
     "text": [
      "INFO:tensorflow:Assets written to: /aiffel/aiffel/aiffelthon/wandb/run-20221120_185557-yqsr34ob/files/model-best/assets\n",
      "\u001b[34m\u001b[1mwandb\u001b[0m: Adding directory to artifact (/aiffel/aiffel/aiffelthon/wandb/run-20221120_185557-yqsr34ob/files/model-best)... Done. 0.0s\n"
     ]
    },
    {
     "name": "stdout",
     "output_type": "stream",
     "text": [
      "sequence accuracy is 0.9989620615604867\n",
      "Epoch 3/20\n",
      "393/393 [==============================] - 2s 5ms/step - loss: 0.0115 - val_loss: 0.0073\n"
     ]
    },
    {
     "name": "stderr",
     "output_type": "stream",
     "text": [
      "WARNING:absl:Found untraced functions such as gru_cell_layer_call_and_return_conditional_losses, gru_cell_layer_call_fn, gru_cell_layer_call_fn, gru_cell_layer_call_and_return_conditional_losses, gru_cell_layer_call_and_return_conditional_losses while saving (showing 5 of 5). These functions will not be directly callable after loading.\n"
     ]
    },
    {
     "name": "stdout",
     "output_type": "stream",
     "text": [
      "INFO:tensorflow:Assets written to: /aiffel/aiffel/aiffelthon/wandb/run-20221120_185557-yqsr34ob/files/model-best/assets\n"
     ]
    },
    {
     "name": "stderr",
     "output_type": "stream",
     "text": [
      "INFO:tensorflow:Assets written to: /aiffel/aiffel/aiffelthon/wandb/run-20221120_185557-yqsr34ob/files/model-best/assets\n",
      "\u001b[34m\u001b[1mwandb\u001b[0m: Adding directory to artifact (/aiffel/aiffel/aiffelthon/wandb/run-20221120_185557-yqsr34ob/files/model-best)... Done. 0.0s\n"
     ]
    },
    {
     "name": "stdout",
     "output_type": "stream",
     "text": [
      "sequence accuracy is 0.9989620615604867\n",
      "Epoch 4/20\n",
      "393/393 [==============================] - 2s 5ms/step - loss: 0.0105 - val_loss: 0.0100\n",
      "sequence accuracy is 0.9985952040085898\n",
      "Epoch 5/20\n",
      "393/393 [==============================] - 2s 5ms/step - loss: 0.0104 - val_loss: 0.0088\n",
      "sequence accuracy is 0.9987428418038654\n",
      "Epoch 6/20\n",
      "393/393 [==============================] - 2s 5ms/step - loss: 0.0093 - val_loss: 0.0071\n"
     ]
    },
    {
     "name": "stderr",
     "output_type": "stream",
     "text": [
      "WARNING:absl:Found untraced functions such as gru_cell_layer_call_and_return_conditional_losses, gru_cell_layer_call_fn, gru_cell_layer_call_fn, gru_cell_layer_call_and_return_conditional_losses, gru_cell_layer_call_and_return_conditional_losses while saving (showing 5 of 5). These functions will not be directly callable after loading.\n"
     ]
    },
    {
     "name": "stdout",
     "output_type": "stream",
     "text": [
      "INFO:tensorflow:Assets written to: /aiffel/aiffel/aiffelthon/wandb/run-20221120_185557-yqsr34ob/files/model-best/assets\n"
     ]
    },
    {
     "name": "stderr",
     "output_type": "stream",
     "text": [
      "INFO:tensorflow:Assets written to: /aiffel/aiffel/aiffelthon/wandb/run-20221120_185557-yqsr34ob/files/model-best/assets\n",
      "\u001b[34m\u001b[1mwandb\u001b[0m: Adding directory to artifact (/aiffel/aiffel/aiffelthon/wandb/run-20221120_185557-yqsr34ob/files/model-best)... Done. 0.0s\n"
     ]
    },
    {
     "name": "stdout",
     "output_type": "stream",
     "text": [
      "sequence accuracy is 0.9989575876879027\n",
      "Epoch 7/20\n",
      "393/393 [==============================] - 2s 5ms/step - loss: 0.0086 - val_loss: 0.0074\n",
      "sequence accuracy is 0.9988636363636364\n",
      "Epoch 8/20\n",
      "393/393 [==============================] - 2s 5ms/step - loss: 0.0086 - val_loss: 0.0078\n",
      "sequence accuracy is 0.9988770579813887\n",
      "Epoch 9/20\n",
      "393/393 [==============================] - 2s 5ms/step - loss: 0.0083 - val_loss: 0.0080\n",
      "sequence accuracy is 0.998563886900501\n",
      "Epoch 10/20\n",
      "393/393 [==============================] - 2s 5ms/step - loss: 0.0079 - val_loss: 0.0081\n",
      "sequence accuracy is 0.9986623120973515\n",
      "Epoch 11/20\n",
      "393/393 [==============================] - 2s 5ms/step - loss: 0.0077 - val_loss: 0.0125\n",
      "sequence accuracy is 0.996832498210451\n",
      "Epoch 12/20\n",
      "393/393 [==============================] - 2s 5ms/step - loss: 0.0071 - val_loss: 0.0080\n",
      "sequence accuracy is 0.9987831066571224\n",
      "Epoch 13/20\n",
      "393/393 [==============================] - 2s 5ms/step - loss: 0.0069 - val_loss: 0.0085\n",
      "sequence accuracy is 0.9987562634216177\n",
      "Epoch 14/20\n",
      "393/393 [==============================] - 2s 5ms/step - loss: 0.0066 - val_loss: 0.0092\n",
      "sequence accuracy is 0.998604151753758\n",
      "Epoch 15/20\n",
      "393/393 [==============================] - 2s 5ms/step - loss: 0.0066 - val_loss: 0.0089\n",
      "sequence accuracy is 0.9985236220472441\n",
      "Epoch 16/20\n",
      "393/393 [==============================] - 2s 5ms/step - loss: 0.0063 - val_loss: 0.0094\n",
      "sequence accuracy is 0.998188081603436\n",
      "Epoch 17/20\n",
      "393/393 [==============================] - 2s 5ms/step - loss: 0.0058 - val_loss: 0.0093\n",
      "sequence accuracy is 0.9982417680744452\n",
      "Epoch 18/20\n",
      "393/393 [==============================] - 2s 5ms/step - loss: 0.0055 - val_loss: 0.0088\n",
      "sequence accuracy is 0.9986354688618468\n",
      "Epoch 19/20\n",
      "393/393 [==============================] - 2s 5ms/step - loss: 0.0052 - val_loss: 0.0094\n",
      "sequence accuracy is 0.998398353614889\n",
      "Epoch 20/20\n",
      "393/393 [==============================] - 2s 5ms/step - loss: 0.0053 - val_loss: 0.0094\n",
      "sequence accuracy is 0.9982641374373658\n"
     ]
    },
    {
     "data": {
      "text/html": [
       "Waiting for W&B process to finish... <strong style=\"color:green\">(success).</strong>"
      ],
      "text/plain": [
       "<IPython.core.display.HTML object>"
      ]
     },
     "metadata": {},
     "output_type": "display_data"
    },
    {
     "data": {
      "text/html": [
       "<style>\n",
       "    table.wandb td:nth-child(1) { padding: 0 10px; text-align: left ; width: auto;} td:nth-child(2) {text-align: left ; width: 100%}\n",
       "    .wandb-row { display: flex; flex-direction: row; flex-wrap: wrap; justify-content: flex-start; width: 100% }\n",
       "    .wandb-col { display: flex; flex-direction: column; flex-basis: 100%; flex: 1; padding: 10px; }\n",
       "    </style>\n",
       "<div class=\"wandb-row\"><div class=\"wandb-col\"><h3>Run history:</h3><br/><table class=\"wandb\"><tr><td>ValidationAcc</td><td>▁</td></tr><tr><td>epoch</td><td>▁▁▂▂▂▃▃▄▄▄▅▅▅▆▆▇▇▇██</td></tr><tr><td>loss</td><td>█▄▄▃▃▃▃▃▂▂▂▂▂▂▂▂▁▁▁▁</td></tr><tr><td>val_loss</td><td>▄▂▁▅▃▁▁▂▂▂█▂▃▄▃▄▄▃▄▄</td></tr></table><br/></div><div class=\"wandb-col\"><h3>Run summary:</h3><br/><table class=\"wandb\"><tr><td>ValidationAcc</td><td>0.99826</td></tr><tr><td>best_epoch</td><td>5</td></tr><tr><td>best_val_loss</td><td>0.00712</td></tr><tr><td>epoch</td><td>19</td></tr><tr><td>loss</td><td>0.00526</td></tr><tr><td>val_loss</td><td>0.00942</td></tr></table><br/></div></div>"
      ],
      "text/plain": [
       "<IPython.core.display.HTML object>"
      ]
     },
     "metadata": {},
     "output_type": "display_data"
    },
    {
     "data": {
      "text/html": [
       "Synced <strong style=\"color:#cdcd00\">floral-sweep-2</strong>: <a href=\"https://wandb.ai/chhyyi/redzone_RNN_class1_sweep/runs/yqsr34ob\" target=\"_blank\">https://wandb.ai/chhyyi/redzone_RNN_class1_sweep/runs/yqsr34ob</a><br/>Synced 5 W&B file(s), 1 media file(s), 13 artifact file(s) and 1 other file(s)"
      ],
      "text/plain": [
       "<IPython.core.display.HTML object>"
      ]
     },
     "metadata": {},
     "output_type": "display_data"
    },
    {
     "data": {
      "text/html": [
       "Find logs at: <code>./wandb/run-20221120_185557-yqsr34ob/logs</code>"
      ],
      "text/plain": [
       "<IPython.core.display.HTML object>"
      ]
     },
     "metadata": {},
     "output_type": "display_data"
    },
    {
     "name": "stderr",
     "output_type": "stream",
     "text": [
      "\u001b[34m\u001b[1mwandb\u001b[0m: Agent Starting Run: ed48mwam with config:\n",
      "\u001b[34m\u001b[1mwandb\u001b[0m: \tRNN_type: LSTM\n",
      "\u001b[34m\u001b[1mwandb\u001b[0m: \tlearning_rate: 0.0032\n",
      "\u001b[34m\u001b[1mwandb\u001b[0m: \tstride_inside_seq: 3\n",
      "\u001b[34m\u001b[1mwandb\u001b[0m: \ttarget_type: 조건\n",
      "\u001b[34m\u001b[1mwandb\u001b[0m: \tunit_RNN0: 128\n"
     ]
    },
    {
     "data": {
      "text/html": [
       "Tracking run with wandb version 0.13.5"
      ],
      "text/plain": [
       "<IPython.core.display.HTML object>"
      ]
     },
     "metadata": {},
     "output_type": "display_data"
    },
    {
     "data": {
      "text/html": [
       "Run data is saved locally in <code>/aiffel/aiffel/aiffelthon/wandb/run-20221120_185752-ed48mwam</code>"
      ],
      "text/plain": [
       "<IPython.core.display.HTML object>"
      ]
     },
     "metadata": {},
     "output_type": "display_data"
    },
    {
     "data": {
      "text/html": [
       "Syncing run <strong><a href=\"https://wandb.ai/chhyyi/redzone_RNN_class1_sweep/runs/ed48mwam\" target=\"_blank\">fresh-sweep-3</a></strong> to <a href=\"https://wandb.ai/chhyyi/redzone_RNN_class1_sweep\" target=\"_blank\">Weights & Biases</a> (<a href=\"https://wandb.me/run\" target=\"_blank\">docs</a>)<br/>Sweep page:  <a href=\"https://wandb.ai/chhyyi/redzone_RNN_class1_sweep/sweeps/ltknb2cu\" target=\"_blank\">https://wandb.ai/chhyyi/redzone_RNN_class1_sweep/sweeps/ltknb2cu</a>"
      ],
      "text/plain": [
       "<IPython.core.display.HTML object>"
      ]
     },
     "metadata": {},
     "output_type": "display_data"
    },
    {
     "name": "stdout",
     "output_type": "stream",
     "text": [
      "drop \"Unnamed: 0\" column\n",
      "drop \"Unnamed: 0\" column\n",
      "dataset loaded. Generating sequences\n",
      "Any missing values exist: False\n",
      "train dataset columns: Index(['풍속(m/s)', '풍향(deg)', '기온(°C)', '수온(°C)', '강수량(mm)', '풍속(m/s).1',\n",
      "       '풍향(deg).1', '기온(°C).1', '수온(°C).1', '강수량(mm).1', '풍속(m/s).2',\n",
      "       '풍향(deg).2', '기온(°C).2', '수온(°C).2', '강수량(mm).2', '풍속(m/s).3',\n",
      "       '풍향(deg).3', '기온(°C).3', '수온(°C).3', '강수량(mm).3', '풍속(m/s).4',\n",
      "       '풍향(deg).4', '기온(°C).4', '수온(°C).4', '강수량(mm).4', '적조발생(조건)'],\n",
      "      dtype='object')\n",
      "Any missing values exist: False\n",
      "train dataset columns: Index(['풍속(m/s)', '풍향(deg)', '기온(°C)', '수온(°C)', '강수량(mm)', '풍속(m/s).1',\n",
      "       '풍향(deg).1', '기온(°C).1', '수온(°C).1', '강수량(mm).1', '풍속(m/s).2',\n",
      "       '풍향(deg).2', '기온(°C).2', '수온(°C).2', '강수량(mm).2', '풍속(m/s).3',\n",
      "       '풍향(deg).3', '기온(°C).3', '수온(°C).3', '강수량(mm).3', '풍속(m/s).4',\n",
      "       '풍향(deg).4', '기온(°C).4', '수온(°C).4', '강수량(mm).4', '적조발생(조건)'],\n",
      "      dtype='object')\n",
      "(25131, 24, 25) (27940, 24, 25) (25131, 24) (27940, 24) \n",
      "\n",
      "\n",
      "Epoch 1/20\n",
      "393/393 [==============================] - 4s 7ms/step - loss: 0.0250 - val_loss: 0.0071\n"
     ]
    },
    {
     "name": "stderr",
     "output_type": "stream",
     "text": [
      "WARNING:absl:Found untraced functions such as lstm_cell_layer_call_and_return_conditional_losses, lstm_cell_layer_call_fn, lstm_cell_layer_call_fn, lstm_cell_layer_call_and_return_conditional_losses, lstm_cell_layer_call_and_return_conditional_losses while saving (showing 5 of 5). These functions will not be directly callable after loading.\n"
     ]
    },
    {
     "name": "stdout",
     "output_type": "stream",
     "text": [
      "INFO:tensorflow:Assets written to: /aiffel/aiffel/aiffelthon/wandb/run-20221120_185752-ed48mwam/files/model-best/assets\n"
     ]
    },
    {
     "name": "stderr",
     "output_type": "stream",
     "text": [
      "INFO:tensorflow:Assets written to: /aiffel/aiffel/aiffelthon/wandb/run-20221120_185752-ed48mwam/files/model-best/assets\n",
      "\u001b[34m\u001b[1mwandb\u001b[0m: Adding directory to artifact (/aiffel/aiffel/aiffelthon/wandb/run-20221120_185752-ed48mwam/files/model-best)... Done. 0.0s\n"
     ]
    },
    {
     "name": "stdout",
     "output_type": "stream",
     "text": [
      "sequence accuracy is 0.9989560963970413\n",
      "Epoch 2/20\n",
      "393/393 [==============================] - 2s 6ms/step - loss: 0.0172 - val_loss: 0.0072\n",
      "sequence accuracy is 0.9989620615604867\n",
      "Epoch 3/20\n",
      "393/393 [==============================] - 2s 6ms/step - loss: 0.0124 - val_loss: 0.0075\n",
      "sequence accuracy is 0.9989620615604867\n",
      "Epoch 4/20\n",
      "393/393 [==============================] - 2s 6ms/step - loss: 0.0123 - val_loss: 0.0074\n",
      "sequence accuracy is 0.9989620615604867\n",
      "Epoch 5/20\n",
      "393/393 [==============================] - 2s 6ms/step - loss: 0.0116 - val_loss: 0.0084\n",
      "sequence accuracy is 0.9989620615604867\n",
      "Epoch 6/20\n",
      "393/393 [==============================] - 2s 6ms/step - loss: 0.0117 - val_loss: 0.0073\n",
      "sequence accuracy is 0.9989620615604867\n",
      "Epoch 7/20\n",
      "393/393 [==============================] - 2s 6ms/step - loss: 0.0104 - val_loss: 0.0075\n",
      "sequence accuracy is 0.9989620615604867\n",
      "Epoch 8/20\n",
      "393/393 [==============================] - 2s 6ms/step - loss: 0.0092 - val_loss: 0.0078\n",
      "sequence accuracy is 0.998959078978764\n",
      "Epoch 9/20\n",
      "393/393 [==============================] - 2s 6ms/step - loss: 0.0090 - val_loss: 0.0071\n"
     ]
    },
    {
     "name": "stderr",
     "output_type": "stream",
     "text": [
      "WARNING:absl:Found untraced functions such as lstm_cell_layer_call_and_return_conditional_losses, lstm_cell_layer_call_fn, lstm_cell_layer_call_fn, lstm_cell_layer_call_and_return_conditional_losses, lstm_cell_layer_call_and_return_conditional_losses while saving (showing 5 of 5). These functions will not be directly callable after loading.\n"
     ]
    },
    {
     "name": "stdout",
     "output_type": "stream",
     "text": [
      "INFO:tensorflow:Assets written to: /aiffel/aiffel/aiffelthon/wandb/run-20221120_185752-ed48mwam/files/model-best/assets\n"
     ]
    },
    {
     "name": "stderr",
     "output_type": "stream",
     "text": [
      "INFO:tensorflow:Assets written to: /aiffel/aiffel/aiffelthon/wandb/run-20221120_185752-ed48mwam/files/model-best/assets\n",
      "\u001b[34m\u001b[1mwandb\u001b[0m: Adding directory to artifact (/aiffel/aiffel/aiffelthon/wandb/run-20221120_185752-ed48mwam/files/model-best)... Done. 0.0s\n"
     ]
    },
    {
     "name": "stdout",
     "output_type": "stream",
     "text": [
      "sequence accuracy is 0.9989620615604867\n",
      "Epoch 10/20\n",
      "393/393 [==============================] - 3s 7ms/step - loss: 0.0085 - val_loss: 0.0082\n",
      "sequence accuracy is 0.9989620615604867\n",
      "Epoch 11/20\n",
      "393/393 [==============================] - 2s 6ms/step - loss: 0.0080 - val_loss: 0.0085\n",
      "sequence accuracy is 0.9989322357432594\n",
      "Epoch 12/20\n",
      "393/393 [==============================] - 2s 6ms/step - loss: 0.0078 - val_loss: 0.0092\n"
     ]
    },
    {
     "name": "stderr",
     "output_type": "stream",
     "text": [
      "\u001b[34m\u001b[1mwandb\u001b[0m: Ctrl + C detected. Stopping sweep.\n"
     ]
    },
    {
     "data": {
      "text/html": [
       "Waiting for W&B process to finish... <strong style=\"color:red\">(failed 1).</strong> Press Control-C to abort syncing."
      ],
      "text/plain": [
       "<IPython.core.display.HTML object>"
      ]
     },
     "metadata": {},
     "output_type": "display_data"
    }
   ],
   "source": [
    "sweep_id = wandb.sweep(sweep_config)\n",
    "\n",
    "# run the sweep\n",
    "wandb.agent(sweep_id,\n",
    "            function=train,\n",
    "            entity = 'chhyyi',\n",
    "            project = 'redzone_RNN_class1_sweep')"
   ]
  },
  {
   "cell_type": "code",
   "execution_count": null,
   "id": "1c786d8f",
   "metadata": {},
   "outputs": [],
   "source": []
  }
 ],
 "metadata": {
  "kernelspec": {
   "display_name": "Python 3 (ipykernel)",
   "language": "python",
   "name": "python3"
  },
  "language_info": {
   "codemirror_mode": {
    "name": "ipython",
    "version": 3
   },
   "file_extension": ".py",
   "mimetype": "text/x-python",
   "name": "python",
   "nbconvert_exporter": "python",
   "pygments_lexer": "ipython3",
   "version": "3.9.7"
  }
 },
 "nbformat": 4,
 "nbformat_minor": 5
}
