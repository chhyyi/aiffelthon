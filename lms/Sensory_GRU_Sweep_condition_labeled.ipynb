{
 "cells": [
  {
   "cell_type": "markdown",
   "id": "2a0260f9",
   "metadata": {},
   "source": [
    "# GRU 모델 시험, W&B sweep 사용 예시\n",
    "\n",
    "조건식 라벨 데이터를 GRU 레이어를 사용한 모델에서 처리합니다.  \n",
    "먼저 wandb를 설치합니다. 다음을 Shell에서 실행한 후에 노트북을 다시 켜세요.\n",
    "  \n",
    "```shell\n",
    "pip install wandb\n",
    "```  \n",
    "\n",
    "혹은 주피터 노트북에서 다음을 실행하고 주피터 노트북을 다시 켜세요.\n",
    "\n",
    "```python\n",
    "!pip install wandb\n",
    "```\n",
    "\n",
    "그리고 우측 상단에서 노트북을 trusted로 설정했는데 이게 필수적인지 모르겠습니다.  "
   ]
  },
  {
   "cell_type": "code",
   "execution_count": 1,
   "id": "f455016c",
   "metadata": {},
   "outputs": [],
   "source": [
    "import tensorflow as tf\n",
    "from tensorflow import keras\n",
    "import numpy as np\n",
    "import matplotlib.pyplot as plt\n",
    "import pandas as pd\n",
    "from sklearn.model_selection import train_test_split\n",
    "import random\n",
    "import os\n",
    "import wandb\n",
    "from wandb.keras import WandbCallback"
   ]
  },
  {
   "cell_type": "markdown",
   "id": "a7273616",
   "metadata": {},
   "source": [
    " ## train 함수\n",
    "- 이 부분은 독립적으로 실행 가능해야 합니다. 따라서 이 경우 라이브러리 불러오기나 데이터를 불러오는 부분부터 모델을 구성하는 부분까지 다 넣었습니다. \n",
    "- 만약 'Run all'로 모델 학습이 되는 주피터 노트북/코랩 파일이라면 그것을 'Download as Python'으로 'py' 파일을 다운받은 후에 그 코드를 통째로 train 함수에 넣어도 됩니다. (들여쓰기가 깨지면 정리해야합니다.) 일반적인 실행\n",
    "\n",
    "### 추가해야 하는 부분\n",
    "- wandb.init()넣기 : 여기에 들어갈 default_config 역시 정의합니다. 여기에 wandb에서 기록할 parameter를 다 써줍니다. sweep parameter도 기본값을 다 써야 합니다.  \n",
    "- model 의 callback 에 들어가는 WandbCallback(): wandb.keras.WandbCallback()   \n",
    "- wandb.log(): 추가적으로 따져볼 값이 있다면 여기에 넣습니다. 실행(run)마다 출력(print)되는 값들은 wandb 홈페이지에서 그 실행의 'logs'에 들어가면 확인 가능하므로, 따로 넣을 필요는 없습니다.\n"
   ]
  },
  {
   "cell_type": "code",
   "execution_count": 2,
   "id": "08e3a72e",
   "metadata": {},
   "outputs": [],
   "source": [
    "def train():\n",
    "    import pandas as pd\n",
    "    import tensorflow as tf\n",
    "    from tensorflow import keras\n",
    "    import matplotlib.pyplot as plt\n",
    "    import numpy as np\n",
    "    import wandb\n",
    "    from wandb.keras import WandbCallback\n",
    "\n",
    "    def seq_acc(y_true, y_pred):\n",
    "        y_bin=np.zeros_like(y_pred)\n",
    "        for i, dd in enumerate(y_bin):\n",
    "            for j in range(len(dd)):\n",
    "                pred=y_pred[i][j]\n",
    "                if pred>=0.5:\n",
    "                    y_bin[i][j]=1\n",
    "                else:\n",
    "                    y_bin[i][j]=0\n",
    "\n",
    "        predict_true = (y_true == y_bin)\n",
    "\n",
    "        try:\n",
    "            score = np.average(np.average(predict_true))\n",
    "        except ValueError:\n",
    "            score = mean_squared_error(y_true, y_bin)\n",
    "        return score\n",
    "\n",
    "    def my_seq_acc(y_true, y_pred):\n",
    "        score = tf.py_function(func=seq_acc, inp=[y_true, y_pred], Tout=tf.float32,  name='custom_seq_acc') # tf 2.x\n",
    "        return score\n",
    "\n",
    "\n",
    "    class MySeqAccCallback(keras.callbacks.Callback):\n",
    "        def on_epoch_end(self, epochs, logs=None):\n",
    "            y_pred=self.model.predict(X_test)\n",
    "            print('sequence accuracy is {}'.format(seq_acc(y_test, y_pred)))\n",
    "\n",
    "\n",
    "    default_config={\n",
    "                         'seq_field':72,\n",
    "                         'stride_inside_seq':9,\n",
    "                         'stride_between_seqs':2,\n",
    "                         'learning_rate':0.01,\n",
    "                         'split_train_ratio':0.8,\n",
    "                         'epochs':20,\n",
    "                         'batch_size':64,\n",
    "                         'unit_GRU0':64}\n",
    "    ######### Wandb.init() ##########\n",
    "    wandb.init(config = default_config)\n",
    "\n",
    "    locations=['거문도', '울산', '거제도', '통영', '추자도']\n",
    "\n",
    "    df_merged=pd.read_csv(\"sensory_preprocessed_df_condition_labeled.csv\")\n",
    "    if df_merged.columns[0]=='Unnamed: 0':\n",
    "        df_merged = df_merged.iloc[:, 1:]\n",
    "\n",
    "    print('loaded dataset. Generating sequences')\n",
    "    seq_length=wandb.config.seq_field//wandb.config.stride_inside_seq\n",
    "    len_ds=len(df_merged)\n",
    "\n",
    "    seqs_idx=[]\n",
    "\n",
    "    start_idx=0\n",
    "    while start_idx<=len_ds-wandb.config.seq_field:\n",
    "        seqs_idx.append(list(range(start_idx, start_idx + wandb.config.seq_field, wandb.config.stride_inside_seq\n",
    "    )))\n",
    "        start_idx+=wandb.config.stride_between_seqs\n",
    "\n",
    "\n",
    "    seqs_idx[100],len(seqs_idx[100])\n",
    "\n",
    "    df_merged.reset_index(inplace=True, drop=True)\n",
    "    print('Any missing values exist:', df_merged.isna().all().all())\n",
    "\n",
    "    ds_train_cols=df_merged\n",
    "    ds_train_cols.reset_index(inplace=True, drop=True)\n",
    "    print('train dataset columns:',ds_train_cols.columns)\n",
    "\n",
    "    seq_dataset=np.zeros([len(seqs_idx), len(seqs_idx[0]), len(ds_train_cols.columns)])\n",
    "\n",
    "    for i, seq in enumerate(seqs_idx):\n",
    "        for j, row_number in enumerate(seq):\n",
    "            seq_dataset[i, j]=ds_train_cols.loc[row_number].to_numpy()\n",
    "\n",
    "    def not_bin_in_occurence(x):\n",
    "        if x==1 or x==0:\n",
    "            return x\n",
    "        else:\n",
    "            print('exceptional value(not 0 or 1) found. replaced by near one.')\n",
    "            if x>=0.5:\n",
    "                return 1\n",
    "            else:\n",
    "                return 0\n",
    "            \n",
    "    ds_train_cols['적조발생(조건)']=ds_train_cols['적조발생(조건)'].apply(not_bin_in_occurence)\n",
    "\n",
    "\n",
    "    split_index=int(len(seq_dataset)*wandb.config.split_train_ratio)\n",
    "    print(split_index, len(seq_dataset))\n",
    "\n",
    "    train_xy=seq_dataset[:split_index]\n",
    "    np.random.shuffle(train_xy)\n",
    "    X_train=train_xy[:,:,0:-1]\n",
    "    y_train=train_xy[:,:,-1]\n",
    "\n",
    "    test_xy=seq_dataset[split_index:]\n",
    "    np.random.shuffle(test_xy)\n",
    "    X_test=test_xy[:,:,0:-1]\n",
    "    y_test=test_xy[:,:,-1]\n",
    "\n",
    "    print(X_train.shape, X_test.shape, y_train.shape, y_test.shape,'\\n\\n')\n",
    "\n",
    "    model = keras.Sequential([\n",
    "        keras.Input(shape=(seq_length, 25)),\n",
    "        keras.layers.GRU(wandb.config.unit_GRU0),\n",
    "        keras.layers.Dense(seq_length, activation=\"sigmoid\"),\n",
    "    ]\n",
    "    )\n",
    "\n",
    "    optimizer=keras.optimizers.Adam(learning_rate=wandb.config.learning_rate)\n",
    "\n",
    "    model.compile(optimizer=optimizer, loss=\"binary_crossentropy\")\n",
    "    \n",
    "    ######### WandbCallback ##########\n",
    "    model.fit(X_train, y_train,\n",
    "            batch_size=wandb.config.batch_size,\n",
    "            epochs=wandb.config.epochs, \n",
    "            validation_data=(X_test, y_test),\n",
    "            callbacks=[WandbCallback(training_data = (X_train, y_train),\n",
    "                                     validation_data = (X_test, y_test)), MySeqAccCallback()])\n",
    "    y_pred=model.predict(X_test)\n",
    "    \n",
    "    ######### Wandb.log() ##########\n",
    "    wandb.log({\"ValidationAcc\":seq_acc(y_test, y_pred)})"
   ]
  },
  {
   "cell_type": "markdown",
   "id": "f5b4797b",
   "metadata": {},
   "source": [
    "## wandb.login()\n",
    "이것을 그대로 실행하면 API 키를 입력하라는 창이 뜹니다. wandb홈페이지에서 우측 상단 프로필 이미지 클릭해서 settings -> dange zone에 보면 API키가 있습니다. API키를 코드에 써두어도 되지만, 보안 문제로 권장되지 않습니다."
   ]
  },
  {
   "cell_type": "code",
   "execution_count": 3,
   "id": "173901cb",
   "metadata": {},
   "outputs": [
    {
     "name": "stderr",
     "output_type": "stream",
     "text": [
      "\u001b[34m\u001b[1mwandb\u001b[0m: Logging into wandb.ai. (Learn how to deploy a W&B server locally: https://wandb.me/wandb-server)\n",
      "\u001b[34m\u001b[1mwandb\u001b[0m: You can find your API key in your browser here: https://wandb.ai/authorize\n",
      "\u001b[34m\u001b[1mwandb\u001b[0m: Paste an API key from your profile and hit enter, or press ctrl+c to quit:"
     ]
    },
    {
     "name": "stdout",
     "output_type": "stream",
     "text": [
      " ········\n"
     ]
    },
    {
     "name": "stderr",
     "output_type": "stream",
     "text": [
      "\u001b[34m\u001b[1mwandb\u001b[0m: Appending key for api.wandb.ai to your netrc file: /aiffel/.netrc\n"
     ]
    },
    {
     "data": {
      "text/plain": [
       "True"
      ]
     },
     "execution_count": 3,
     "metadata": {},
     "output_type": "execute_result"
    }
   ],
   "source": [
    "wandb.login()"
   ]
  },
  {
   "cell_type": "markdown",
   "id": "2ca10368",
   "metadata": {},
   "source": [
    "## sweep configure\n",
    "- name은 sweep의 이름으로 적당히 지으면 됩니다.   \n",
    "- metric: sweep은 '최적의 파라미터 조합'을 찾는 것이고, metric은 어떤 것이 최적인지 판단하는 기준입니다. metric으로는 val_loss 같은 keras 에서 정해진 metric도 되고, wandblog() 에서 직접 설정한 값도 됩니다.   \n",
    "- parameters: 바꾸어볼 parameter의 범위입니다. \"values\" 로 지정하면 특정 지정된 값들로만 바꿉니다. \"min\", \"max\"를 지정하면 범위 내에서 wandb가 적당한 값을 설정합니다."
   ]
  },
  {
   "cell_type": "code",
   "execution_count": 4,
   "id": "2b23d929",
   "metadata": {},
   "outputs": [],
   "source": [
    "sweep_config = {\n",
    "    \"name\": \"sweep\",\n",
    "    \"metric\": {\n",
    "        \"goal\": \"maximize\",\n",
    "        \"name\": \"ValidationAcc\"\n",
    "    },\n",
    "    \"method\": \"random\",\n",
    "    \"parameters\": {\n",
    "        \"split_train_ratio\":{\n",
    "            \"values\":[0.8,]\n",
    "        },\n",
    "        \"epochs\":{\n",
    "            \"values\":[1,2,3,4,8,12]\n",
    "        },\n",
    "        \"learning_rate\":{\"values\":[0.0002, 0.001, 0.0032, 0.01]},\n",
    "        \"unit_GRU0\":{\"values\":[32,64,128]},\n",
    "        \"stride_inside_seq\":{\"values\":[3,9]}\n",
    "    }\n",
    "    }"
   ]
  },
  {
   "cell_type": "markdown",
   "id": "0ad9bc13",
   "metadata": {},
   "source": [
    "## 실행시 주의사항:\n",
    "__이 부분은 에러가 떠도 다시 실행시켜 보세요. 이전에 제대로 종료하지 않은 경우 에러가 뜨는 것 같은데, 두 번 실행하면 되는 경우가 있습니다.__  \n",
    "아래 wandb.agent() 를 실행시키면 이 agent가 위의 설정대로 parameter를 바꿔가며 실행을 계속 합니다.  \n",
    "project는 wandb 홈페이지에서 이 결과가 저장되는 경로입니다. (지금의 경우 'chhyyi/redzone_GRU_sweep_condition_labeled/sweep_id' 에 저장됩니다.  \n",
    "__sweep parameter 조합이 무한한 경우(parameter를 범위로 지정한 경우 등) wandb는 계속 실행됩니다. 적당히 한 뒤에 중지시키세요.__\n"
   ]
  },
  {
   "cell_type": "code",
   "execution_count": 6,
   "id": "7a49bcf4",
   "metadata": {
    "scrolled": true
   },
   "outputs": [
    {
     "name": "stdout",
     "output_type": "stream",
     "text": [
      "Create sweep with ID: f0g74vf5\n",
      "Sweep URL: https://wandb.ai/chhyyi/redzone_GRU_sweep_condition_labeled_valacc_goal/sweeps/f0g74vf5\n"
     ]
    },
    {
     "name": "stderr",
     "output_type": "stream",
     "text": [
      "\u001b[34m\u001b[1mwandb\u001b[0m: Agent Starting Run: by29llxw with config:\n",
      "\u001b[34m\u001b[1mwandb\u001b[0m: \tepochs: 1\n",
      "\u001b[34m\u001b[1mwandb\u001b[0m: \tlearning_rate: 0.0002\n",
      "\u001b[34m\u001b[1mwandb\u001b[0m: \tsplit_train_ratio: 0.8\n",
      "\u001b[34m\u001b[1mwandb\u001b[0m: \tstride_inside_seq: 9\n",
      "\u001b[34m\u001b[1mwandb\u001b[0m: \tunit_GRU0: 128\n",
      "\u001b[34m\u001b[1mwandb\u001b[0m: Currently logged in as: \u001b[33mchhyyi\u001b[0m. Use \u001b[1m`wandb login --relogin`\u001b[0m to force relogin\n"
     ]
    },
    {
     "data": {
      "text/html": [
       "Tracking run with wandb version 0.13.5"
      ],
      "text/plain": [
       "<IPython.core.display.HTML object>"
      ]
     },
     "metadata": {},
     "output_type": "display_data"
    },
    {
     "data": {
      "text/html": [
       "Run data is saved locally in <code>/aiffel/aiffel/aiffelthon/wandb/run-20221114_081553-by29llxw</code>"
      ],
      "text/plain": [
       "<IPython.core.display.HTML object>"
      ]
     },
     "metadata": {},
     "output_type": "display_data"
    },
    {
     "data": {
      "text/html": [
       "Syncing run <strong><a href=\"https://wandb.ai/chhyyi/redzone_GRU_sweep_condition_labeled_valacc_goal/runs/by29llxw\" target=\"_blank\">super-sweep-1</a></strong> to <a href=\"https://wandb.ai/chhyyi/redzone_GRU_sweep_condition_labeled_valacc_goal\" target=\"_blank\">Weights & Biases</a> (<a href=\"https://wandb.me/run\" target=\"_blank\">docs</a>)<br/>Sweep page:  <a href=\"https://wandb.ai/chhyyi/redzone_GRU_sweep_condition_labeled_valacc_goal/sweeps/f0g74vf5\" target=\"_blank\">https://wandb.ai/chhyyi/redzone_GRU_sweep_condition_labeled_valacc_goal/sweeps/f0g74vf5</a>"
      ],
      "text/plain": [
       "<IPython.core.display.HTML object>"
      ]
     },
     "metadata": {},
     "output_type": "display_data"
    },
    {
     "name": "stdout",
     "output_type": "stream",
     "text": [
      "loaded dataset. Generating sequences\n",
      "Any missing values exist: False\n",
      "train dataset columns: Index(['풍속(m/s)', '풍향(deg)', '기온(°C)', '수온(°C)', '강수량(mm)', '풍속(m/s).1',\n",
      "       '풍향(deg).1', '기온(°C).1', '수온(°C).1', '강수량(mm).1', '풍속(m/s).2',\n",
      "       '풍향(deg).2', '기온(°C).2', '수온(°C).2', '강수량(mm).2', '풍속(m/s).3',\n",
      "       '풍향(deg).3', '기온(°C).3', '수온(°C).3', '강수량(mm).3', '풍속(m/s).4',\n",
      "       '풍향(deg).4', '기온(°C).4', '수온(°C).4', '강수량(mm).4', '적조발생(조건)'],\n",
      "      dtype='object')\n",
      "20106 25133\n",
      "(20106, 8, 25) (5027, 8, 25) (20106, 8) (5027, 8) \n",
      "\n",
      "\n"
     ]
    },
    {
     "name": "stderr",
     "output_type": "stream",
     "text": [
      "\u001b[34m\u001b[1mwandb\u001b[0m: \u001b[33mWARNING\u001b[0m The save_model argument by default saves the model in the HDF5 format that cannot save custom objects like subclassed models and custom layers. This behavior will be deprecated in a future release in favor of the SavedModel format. Meanwhile, the HDF5 model is saved as W&B files and the SavedModel as W&B Artifacts.\n"
     ]
    },
    {
     "name": "stdout",
     "output_type": "stream",
     "text": [
      "315/315 [==============================] - 26s 5ms/step - loss: 0.1887 - val_loss: 0.0214\n"
     ]
    },
    {
     "name": "stderr",
     "output_type": "stream",
     "text": [
      "WARNING:absl:Found untraced functions such as gru_cell_layer_call_fn, gru_cell_layer_call_and_return_conditional_losses, gru_cell_layer_call_fn, gru_cell_layer_call_and_return_conditional_losses, gru_cell_layer_call_and_return_conditional_losses while saving (showing 5 of 5). These functions will not be directly callable after loading.\n"
     ]
    },
    {
     "name": "stdout",
     "output_type": "stream",
     "text": [
      "INFO:tensorflow:Assets written to: /aiffel/aiffel/aiffelthon/wandb/run-20221114_081553-by29llxw/files/model-best/assets\n"
     ]
    },
    {
     "name": "stderr",
     "output_type": "stream",
     "text": [
      "INFO:tensorflow:Assets written to: /aiffel/aiffel/aiffelthon/wandb/run-20221114_081553-by29llxw/files/model-best/assets\n",
      "\u001b[34m\u001b[1mwandb\u001b[0m: Adding directory to artifact (/aiffel/aiffel/aiffelthon/wandb/run-20221114_081553-by29llxw/files/model-best)... Done. 0.0s\n"
     ]
    },
    {
     "name": "stdout",
     "output_type": "stream",
     "text": [
      "sequence accuracy is 0.9966182613885021\n"
     ]
    },
    {
     "data": {
      "text/html": [
       "Waiting for W&B process to finish... <strong style=\"color:green\">(success).</strong>"
      ],
      "text/plain": [
       "<IPython.core.display.HTML object>"
      ]
     },
     "metadata": {},
     "output_type": "display_data"
    },
    {
     "data": {
      "text/html": [
       "<style>\n",
       "    table.wandb td:nth-child(1) { padding: 0 10px; text-align: left ; width: auto;} td:nth-child(2) {text-align: left ; width: 100%}\n",
       "    .wandb-row { display: flex; flex-direction: row; flex-wrap: wrap; justify-content: flex-start; width: 100% }\n",
       "    .wandb-col { display: flex; flex-direction: column; flex-basis: 100%; flex: 1; padding: 10px; }\n",
       "    </style>\n",
       "<div class=\"wandb-row\"><div class=\"wandb-col\"><h3>Run history:</h3><br/><table class=\"wandb\"><tr><td>ValidationAcc</td><td>▁</td></tr><tr><td>epoch</td><td>▁</td></tr><tr><td>loss</td><td>▁</td></tr><tr><td>val_loss</td><td>▁</td></tr></table><br/></div><div class=\"wandb-col\"><h3>Run summary:</h3><br/><table class=\"wandb\"><tr><td>ValidationAcc</td><td>0.99662</td></tr><tr><td>best_epoch</td><td>0</td></tr><tr><td>best_val_loss</td><td>0.02139</td></tr><tr><td>epoch</td><td>0</td></tr><tr><td>loss</td><td>0.18866</td></tr><tr><td>val_loss</td><td>0.02139</td></tr></table><br/></div></div>"
      ],
      "text/plain": [
       "<IPython.core.display.HTML object>"
      ]
     },
     "metadata": {},
     "output_type": "display_data"
    },
    {
     "data": {
      "text/html": [
       "Synced <strong style=\"color:#cdcd00\">super-sweep-1</strong>: <a href=\"https://wandb.ai/chhyyi/redzone_GRU_sweep_condition_labeled_valacc_goal/runs/by29llxw\" target=\"_blank\">https://wandb.ai/chhyyi/redzone_GRU_sweep_condition_labeled_valacc_goal/runs/by29llxw</a><br/>Synced 5 W&B file(s), 1 media file(s), 4 artifact file(s) and 1 other file(s)"
      ],
      "text/plain": [
       "<IPython.core.display.HTML object>"
      ]
     },
     "metadata": {},
     "output_type": "display_data"
    },
    {
     "data": {
      "text/html": [
       "Find logs at: <code>./wandb/run-20221114_081553-by29llxw/logs</code>"
      ],
      "text/plain": [
       "<IPython.core.display.HTML object>"
      ]
     },
     "metadata": {},
     "output_type": "display_data"
    },
    {
     "name": "stderr",
     "output_type": "stream",
     "text": [
      "\u001b[34m\u001b[1mwandb\u001b[0m: Agent Starting Run: iufpuyh5 with config:\n",
      "\u001b[34m\u001b[1mwandb\u001b[0m: \tepochs: 2\n",
      "\u001b[34m\u001b[1mwandb\u001b[0m: \tlearning_rate: 0.0032\n",
      "\u001b[34m\u001b[1mwandb\u001b[0m: \tsplit_train_ratio: 0.8\n",
      "\u001b[34m\u001b[1mwandb\u001b[0m: \tstride_inside_seq: 9\n",
      "\u001b[34m\u001b[1mwandb\u001b[0m: \tunit_GRU0: 64\n"
     ]
    },
    {
     "data": {
      "text/html": [
       "Tracking run with wandb version 0.13.5"
      ],
      "text/plain": [
       "<IPython.core.display.HTML object>"
      ]
     },
     "metadata": {},
     "output_type": "display_data"
    },
    {
     "data": {
      "text/html": [
       "Run data is saved locally in <code>/aiffel/aiffel/aiffelthon/wandb/run-20221114_081658-iufpuyh5</code>"
      ],
      "text/plain": [
       "<IPython.core.display.HTML object>"
      ]
     },
     "metadata": {},
     "output_type": "display_data"
    },
    {
     "data": {
      "text/html": [
       "Syncing run <strong><a href=\"https://wandb.ai/chhyyi/redzone_GRU_sweep_condition_labeled_valacc_goal/runs/iufpuyh5\" target=\"_blank\">stoic-sweep-2</a></strong> to <a href=\"https://wandb.ai/chhyyi/redzone_GRU_sweep_condition_labeled_valacc_goal\" target=\"_blank\">Weights & Biases</a> (<a href=\"https://wandb.me/run\" target=\"_blank\">docs</a>)<br/>Sweep page:  <a href=\"https://wandb.ai/chhyyi/redzone_GRU_sweep_condition_labeled_valacc_goal/sweeps/f0g74vf5\" target=\"_blank\">https://wandb.ai/chhyyi/redzone_GRU_sweep_condition_labeled_valacc_goal/sweeps/f0g74vf5</a>"
      ],
      "text/plain": [
       "<IPython.core.display.HTML object>"
      ]
     },
     "metadata": {},
     "output_type": "display_data"
    },
    {
     "name": "stdout",
     "output_type": "stream",
     "text": [
      "loaded dataset. Generating sequences\n",
      "Any missing values exist: False\n",
      "train dataset columns: Index(['풍속(m/s)', '풍향(deg)', '기온(°C)', '수온(°C)', '강수량(mm)', '풍속(m/s).1',\n",
      "       '풍향(deg).1', '기온(°C).1', '수온(°C).1', '강수량(mm).1', '풍속(m/s).2',\n",
      "       '풍향(deg).2', '기온(°C).2', '수온(°C).2', '강수량(mm).2', '풍속(m/s).3',\n",
      "       '풍향(deg).3', '기온(°C).3', '수온(°C).3', '강수량(mm).3', '풍속(m/s).4',\n",
      "       '풍향(deg).4', '기온(°C).4', '수온(°C).4', '강수량(mm).4', '적조발생(조건)'],\n",
      "      dtype='object')\n",
      "20106 25133\n",
      "(20106, 8, 25) (5027, 8, 25) (20106, 8) (5027, 8) \n",
      "\n",
      "\n",
      "Epoch 1/2\n",
      "315/315 [==============================] - 3s 4ms/step - loss: 0.0421 - val_loss: 0.0200\n"
     ]
    },
    {
     "name": "stderr",
     "output_type": "stream",
     "text": [
      "WARNING:absl:Found untraced functions such as gru_cell_layer_call_fn, gru_cell_layer_call_and_return_conditional_losses, gru_cell_layer_call_fn, gru_cell_layer_call_and_return_conditional_losses, gru_cell_layer_call_and_return_conditional_losses while saving (showing 5 of 5). These functions will not be directly callable after loading.\n"
     ]
    },
    {
     "name": "stdout",
     "output_type": "stream",
     "text": [
      "INFO:tensorflow:Assets written to: /aiffel/aiffel/aiffelthon/wandb/run-20221114_081658-iufpuyh5/files/model-best/assets\n"
     ]
    },
    {
     "name": "stderr",
     "output_type": "stream",
     "text": [
      "INFO:tensorflow:Assets written to: /aiffel/aiffel/aiffelthon/wandb/run-20221114_081658-iufpuyh5/files/model-best/assets\n",
      "\u001b[34m\u001b[1mwandb\u001b[0m: Adding directory to artifact (/aiffel/aiffel/aiffelthon/wandb/run-20221114_081658-iufpuyh5/files/model-best)... Done. 0.0s\n"
     ]
    },
    {
     "name": "stdout",
     "output_type": "stream",
     "text": [
      "sequence accuracy is 0.9966182613885021\n",
      "Epoch 2/2\n",
      "315/315 [==============================] - 1s 4ms/step - loss: 0.0110 - val_loss: 0.0208\n",
      "sequence accuracy is 0.9965436642132485\n"
     ]
    },
    {
     "data": {
      "text/html": [
       "Waiting for W&B process to finish... <strong style=\"color:green\">(success).</strong>"
      ],
      "text/plain": [
       "<IPython.core.display.HTML object>"
      ]
     },
     "metadata": {},
     "output_type": "display_data"
    },
    {
     "data": {
      "application/vnd.jupyter.widget-view+json": {
       "model_id": "2b843c65fac34181b1fea20be650282f",
       "version_major": 2,
       "version_minor": 0
      },
      "text/plain": [
       "VBox(children=(Label(value='1.134 MB of 1.134 MB uploaded (0.000 MB deduped)\\r'), FloatProgress(value=1.0, max…"
      ]
     },
     "metadata": {},
     "output_type": "display_data"
    },
    {
     "data": {
      "text/html": [
       "<style>\n",
       "    table.wandb td:nth-child(1) { padding: 0 10px; text-align: left ; width: auto;} td:nth-child(2) {text-align: left ; width: 100%}\n",
       "    .wandb-row { display: flex; flex-direction: row; flex-wrap: wrap; justify-content: flex-start; width: 100% }\n",
       "    .wandb-col { display: flex; flex-direction: column; flex-basis: 100%; flex: 1; padding: 10px; }\n",
       "    </style>\n",
       "<div class=\"wandb-row\"><div class=\"wandb-col\"><h3>Run history:</h3><br/><table class=\"wandb\"><tr><td>ValidationAcc</td><td>▁</td></tr><tr><td>epoch</td><td>▁█</td></tr><tr><td>loss</td><td>█▁</td></tr><tr><td>val_loss</td><td>▁█</td></tr></table><br/></div><div class=\"wandb-col\"><h3>Run summary:</h3><br/><table class=\"wandb\"><tr><td>ValidationAcc</td><td>0.99654</td></tr><tr><td>best_epoch</td><td>0</td></tr><tr><td>best_val_loss</td><td>0.02004</td></tr><tr><td>epoch</td><td>1</td></tr><tr><td>loss</td><td>0.01096</td></tr><tr><td>val_loss</td><td>0.02078</td></tr></table><br/></div></div>"
      ],
      "text/plain": [
       "<IPython.core.display.HTML object>"
      ]
     },
     "metadata": {},
     "output_type": "display_data"
    },
    {
     "data": {
      "text/html": [
       "Synced <strong style=\"color:#cdcd00\">stoic-sweep-2</strong>: <a href=\"https://wandb.ai/chhyyi/redzone_GRU_sweep_condition_labeled_valacc_goal/runs/iufpuyh5\" target=\"_blank\">https://wandb.ai/chhyyi/redzone_GRU_sweep_condition_labeled_valacc_goal/runs/iufpuyh5</a><br/>Synced 5 W&B file(s), 1 media file(s), 4 artifact file(s) and 1 other file(s)"
      ],
      "text/plain": [
       "<IPython.core.display.HTML object>"
      ]
     },
     "metadata": {},
     "output_type": "display_data"
    },
    {
     "data": {
      "text/html": [
       "Find logs at: <code>./wandb/run-20221114_081658-iufpuyh5/logs</code>"
      ],
      "text/plain": [
       "<IPython.core.display.HTML object>"
      ]
     },
     "metadata": {},
     "output_type": "display_data"
    },
    {
     "name": "stderr",
     "output_type": "stream",
     "text": [
      "\u001b[34m\u001b[1mwandb\u001b[0m: Agent Starting Run: azlm2wh2 with config:\n",
      "\u001b[34m\u001b[1mwandb\u001b[0m: \tepochs: 4\n",
      "\u001b[34m\u001b[1mwandb\u001b[0m: \tlearning_rate: 0.001\n",
      "\u001b[34m\u001b[1mwandb\u001b[0m: \tsplit_train_ratio: 0.8\n",
      "\u001b[34m\u001b[1mwandb\u001b[0m: \tstride_inside_seq: 9\n",
      "\u001b[34m\u001b[1mwandb\u001b[0m: \tunit_GRU0: 128\n"
     ]
    },
    {
     "data": {
      "text/html": [
       "Tracking run with wandb version 0.13.5"
      ],
      "text/plain": [
       "<IPython.core.display.HTML object>"
      ]
     },
     "metadata": {},
     "output_type": "display_data"
    },
    {
     "data": {
      "text/html": [
       "Run data is saved locally in <code>/aiffel/aiffel/aiffelthon/wandb/run-20221114_081734-azlm2wh2</code>"
      ],
      "text/plain": [
       "<IPython.core.display.HTML object>"
      ]
     },
     "metadata": {},
     "output_type": "display_data"
    },
    {
     "data": {
      "text/html": [
       "Syncing run <strong><a href=\"https://wandb.ai/chhyyi/redzone_GRU_sweep_condition_labeled_valacc_goal/runs/azlm2wh2\" target=\"_blank\">radiant-sweep-3</a></strong> to <a href=\"https://wandb.ai/chhyyi/redzone_GRU_sweep_condition_labeled_valacc_goal\" target=\"_blank\">Weights & Biases</a> (<a href=\"https://wandb.me/run\" target=\"_blank\">docs</a>)<br/>Sweep page:  <a href=\"https://wandb.ai/chhyyi/redzone_GRU_sweep_condition_labeled_valacc_goal/sweeps/f0g74vf5\" target=\"_blank\">https://wandb.ai/chhyyi/redzone_GRU_sweep_condition_labeled_valacc_goal/sweeps/f0g74vf5</a>"
      ],
      "text/plain": [
       "<IPython.core.display.HTML object>"
      ]
     },
     "metadata": {},
     "output_type": "display_data"
    },
    {
     "name": "stdout",
     "output_type": "stream",
     "text": [
      "loaded dataset. Generating sequences\n",
      "Any missing values exist: False\n",
      "train dataset columns: Index(['풍속(m/s)', '풍향(deg)', '기온(°C)', '수온(°C)', '강수량(mm)', '풍속(m/s).1',\n",
      "       '풍향(deg).1', '기온(°C).1', '수온(°C).1', '강수량(mm).1', '풍속(m/s).2',\n",
      "       '풍향(deg).2', '기온(°C).2', '수온(°C).2', '강수량(mm).2', '풍속(m/s).3',\n",
      "       '풍향(deg).3', '기온(°C).3', '수온(°C).3', '강수량(mm).3', '풍속(m/s).4',\n",
      "       '풍향(deg).4', '기온(°C).4', '수온(°C).4', '강수량(mm).4', '적조발생(조건)'],\n",
      "      dtype='object')\n",
      "20106 25133\n",
      "(20106, 8, 25) (5027, 8, 25) (20106, 8) (5027, 8) \n",
      "\n",
      "\n",
      "Epoch 1/4\n",
      "315/315 [==============================] - 3s 5ms/step - loss: 0.0557 - val_loss: 0.0203\n"
     ]
    },
    {
     "name": "stderr",
     "output_type": "stream",
     "text": [
      "WARNING:absl:Found untraced functions such as gru_cell_layer_call_fn, gru_cell_layer_call_and_return_conditional_losses, gru_cell_layer_call_fn, gru_cell_layer_call_and_return_conditional_losses, gru_cell_layer_call_and_return_conditional_losses while saving (showing 5 of 5). These functions will not be directly callable after loading.\n"
     ]
    },
    {
     "name": "stdout",
     "output_type": "stream",
     "text": [
      "INFO:tensorflow:Assets written to: /aiffel/aiffel/aiffelthon/wandb/run-20221114_081734-azlm2wh2/files/model-best/assets\n"
     ]
    },
    {
     "name": "stderr",
     "output_type": "stream",
     "text": [
      "INFO:tensorflow:Assets written to: /aiffel/aiffel/aiffelthon/wandb/run-20221114_081734-azlm2wh2/files/model-best/assets\n",
      "\u001b[34m\u001b[1mwandb\u001b[0m: Adding directory to artifact (/aiffel/aiffel/aiffelthon/wandb/run-20221114_081734-azlm2wh2/files/model-best)... Done. 0.0s\n"
     ]
    },
    {
     "name": "stdout",
     "output_type": "stream",
     "text": [
      "sequence accuracy is 0.9966182613885021\n",
      "Epoch 2/4\n",
      "315/315 [==============================] - 1s 4ms/step - loss: 0.0110 - val_loss: 0.0202\n"
     ]
    },
    {
     "name": "stderr",
     "output_type": "stream",
     "text": [
      "WARNING:absl:Found untraced functions such as gru_cell_layer_call_fn, gru_cell_layer_call_and_return_conditional_losses, gru_cell_layer_call_fn, gru_cell_layer_call_and_return_conditional_losses, gru_cell_layer_call_and_return_conditional_losses while saving (showing 5 of 5). These functions will not be directly callable after loading.\n"
     ]
    },
    {
     "name": "stdout",
     "output_type": "stream",
     "text": [
      "INFO:tensorflow:Assets written to: /aiffel/aiffel/aiffelthon/wandb/run-20221114_081734-azlm2wh2/files/model-best/assets\n"
     ]
    },
    {
     "name": "stderr",
     "output_type": "stream",
     "text": [
      "INFO:tensorflow:Assets written to: /aiffel/aiffel/aiffelthon/wandb/run-20221114_081734-azlm2wh2/files/model-best/assets\n",
      "\u001b[34m\u001b[1mwandb\u001b[0m: Adding directory to artifact (/aiffel/aiffel/aiffelthon/wandb/run-20221114_081734-azlm2wh2/files/model-best)... Done. 0.0s\n"
     ]
    },
    {
     "name": "stdout",
     "output_type": "stream",
     "text": [
      "sequence accuracy is 0.9966182613885021\n",
      "Epoch 3/4\n",
      "315/315 [==============================] - 1s 4ms/step - loss: 0.0100 - val_loss: 0.0213\n",
      "sequence accuracy is 0.9966182613885021\n",
      "Epoch 4/4\n",
      "315/315 [==============================] - 1s 4ms/step - loss: 0.0093 - val_loss: 0.0219\n",
      "sequence accuracy is 0.9966182613885021\n"
     ]
    },
    {
     "data": {
      "text/html": [
       "Waiting for W&B process to finish... <strong style=\"color:green\">(success).</strong>"
      ],
      "text/plain": [
       "<IPython.core.display.HTML object>"
      ]
     },
     "metadata": {},
     "output_type": "display_data"
    },
    {
     "data": {
      "application/vnd.jupyter.widget-view+json": {
       "model_id": "622d1dd7b42f4e3d8e10a2c24c0cb3e7",
       "version_major": 2,
       "version_minor": 0
      },
      "text/plain": [
       "VBox(children=(Label(value='3.492 MB of 3.492 MB uploaded (0.008 MB deduped)\\r'), FloatProgress(value=1.0, max…"
      ]
     },
     "metadata": {},
     "output_type": "display_data"
    },
    {
     "data": {
      "text/html": [
       "<style>\n",
       "    table.wandb td:nth-child(1) { padding: 0 10px; text-align: left ; width: auto;} td:nth-child(2) {text-align: left ; width: 100%}\n",
       "    .wandb-row { display: flex; flex-direction: row; flex-wrap: wrap; justify-content: flex-start; width: 100% }\n",
       "    .wandb-col { display: flex; flex-direction: column; flex-basis: 100%; flex: 1; padding: 10px; }\n",
       "    </style>\n",
       "<div class=\"wandb-row\"><div class=\"wandb-col\"><h3>Run history:</h3><br/><table class=\"wandb\"><tr><td>ValidationAcc</td><td>▁</td></tr><tr><td>epoch</td><td>▁▃▆█</td></tr><tr><td>loss</td><td>█▁▁▁</td></tr><tr><td>val_loss</td><td>▂▁▆█</td></tr></table><br/></div><div class=\"wandb-col\"><h3>Run summary:</h3><br/><table class=\"wandb\"><tr><td>ValidationAcc</td><td>0.99662</td></tr><tr><td>best_epoch</td><td>1</td></tr><tr><td>best_val_loss</td><td>0.0202</td></tr><tr><td>epoch</td><td>3</td></tr><tr><td>loss</td><td>0.00928</td></tr><tr><td>val_loss</td><td>0.02194</td></tr></table><br/></div></div>"
      ],
      "text/plain": [
       "<IPython.core.display.HTML object>"
      ]
     },
     "metadata": {},
     "output_type": "display_data"
    },
    {
     "data": {
      "text/html": [
       "Synced <strong style=\"color:#cdcd00\">radiant-sweep-3</strong>: <a href=\"https://wandb.ai/chhyyi/redzone_GRU_sweep_condition_labeled_valacc_goal/runs/azlm2wh2\" target=\"_blank\">https://wandb.ai/chhyyi/redzone_GRU_sweep_condition_labeled_valacc_goal/runs/azlm2wh2</a><br/>Synced 5 W&B file(s), 1 media file(s), 7 artifact file(s) and 1 other file(s)"
      ],
      "text/plain": [
       "<IPython.core.display.HTML object>"
      ]
     },
     "metadata": {},
     "output_type": "display_data"
    },
    {
     "data": {
      "text/html": [
       "Find logs at: <code>./wandb/run-20221114_081734-azlm2wh2/logs</code>"
      ],
      "text/plain": [
       "<IPython.core.display.HTML object>"
      ]
     },
     "metadata": {},
     "output_type": "display_data"
    },
    {
     "name": "stderr",
     "output_type": "stream",
     "text": [
      "\u001b[34m\u001b[1mwandb\u001b[0m: Agent Starting Run: rse2uj6g with config:\n",
      "\u001b[34m\u001b[1mwandb\u001b[0m: \tepochs: 12\n",
      "\u001b[34m\u001b[1mwandb\u001b[0m: \tlearning_rate: 0.0032\n",
      "\u001b[34m\u001b[1mwandb\u001b[0m: \tsplit_train_ratio: 0.8\n",
      "\u001b[34m\u001b[1mwandb\u001b[0m: \tstride_inside_seq: 9\n",
      "\u001b[34m\u001b[1mwandb\u001b[0m: \tunit_GRU0: 64\n"
     ]
    },
    {
     "data": {
      "text/html": [
       "Tracking run with wandb version 0.13.5"
      ],
      "text/plain": [
       "<IPython.core.display.HTML object>"
      ]
     },
     "metadata": {},
     "output_type": "display_data"
    },
    {
     "data": {
      "text/html": [
       "Run data is saved locally in <code>/aiffel/aiffel/aiffelthon/wandb/run-20221114_081810-rse2uj6g</code>"
      ],
      "text/plain": [
       "<IPython.core.display.HTML object>"
      ]
     },
     "metadata": {},
     "output_type": "display_data"
    },
    {
     "data": {
      "text/html": [
       "Syncing run <strong><a href=\"https://wandb.ai/chhyyi/redzone_GRU_sweep_condition_labeled_valacc_goal/runs/rse2uj6g\" target=\"_blank\">classic-sweep-4</a></strong> to <a href=\"https://wandb.ai/chhyyi/redzone_GRU_sweep_condition_labeled_valacc_goal\" target=\"_blank\">Weights & Biases</a> (<a href=\"https://wandb.me/run\" target=\"_blank\">docs</a>)<br/>Sweep page:  <a href=\"https://wandb.ai/chhyyi/redzone_GRU_sweep_condition_labeled_valacc_goal/sweeps/f0g74vf5\" target=\"_blank\">https://wandb.ai/chhyyi/redzone_GRU_sweep_condition_labeled_valacc_goal/sweeps/f0g74vf5</a>"
      ],
      "text/plain": [
       "<IPython.core.display.HTML object>"
      ]
     },
     "metadata": {},
     "output_type": "display_data"
    },
    {
     "name": "stdout",
     "output_type": "stream",
     "text": [
      "loaded dataset. Generating sequences\n",
      "Any missing values exist: False\n",
      "train dataset columns: Index(['풍속(m/s)', '풍향(deg)', '기온(°C)', '수온(°C)', '강수량(mm)', '풍속(m/s).1',\n",
      "       '풍향(deg).1', '기온(°C).1', '수온(°C).1', '강수량(mm).1', '풍속(m/s).2',\n",
      "       '풍향(deg).2', '기온(°C).2', '수온(°C).2', '강수량(mm).2', '풍속(m/s).3',\n",
      "       '풍향(deg).3', '기온(°C).3', '수온(°C).3', '강수량(mm).3', '풍속(m/s).4',\n",
      "       '풍향(deg).4', '기온(°C).4', '수온(°C).4', '강수량(mm).4', '적조발생(조건)'],\n",
      "      dtype='object')\n",
      "20106 25133\n",
      "(20106, 8, 25) (5027, 8, 25) (20106, 8) (5027, 8) \n",
      "\n",
      "\n",
      "Epoch 1/12\n",
      "315/315 [==============================] - 3s 4ms/step - loss: 0.0411 - val_loss: 0.0207\n"
     ]
    },
    {
     "name": "stderr",
     "output_type": "stream",
     "text": [
      "WARNING:absl:Found untraced functions such as gru_cell_layer_call_fn, gru_cell_layer_call_and_return_conditional_losses, gru_cell_layer_call_fn, gru_cell_layer_call_and_return_conditional_losses, gru_cell_layer_call_and_return_conditional_losses while saving (showing 5 of 5). These functions will not be directly callable after loading.\n"
     ]
    },
    {
     "name": "stdout",
     "output_type": "stream",
     "text": [
      "INFO:tensorflow:Assets written to: /aiffel/aiffel/aiffelthon/wandb/run-20221114_081810-rse2uj6g/files/model-best/assets\n"
     ]
    },
    {
     "name": "stderr",
     "output_type": "stream",
     "text": [
      "INFO:tensorflow:Assets written to: /aiffel/aiffel/aiffelthon/wandb/run-20221114_081810-rse2uj6g/files/model-best/assets\n",
      "\u001b[34m\u001b[1mwandb\u001b[0m: Adding directory to artifact (/aiffel/aiffel/aiffelthon/wandb/run-20221114_081810-rse2uj6g/files/model-best)... Done. 0.0s\n"
     ]
    },
    {
     "name": "stdout",
     "output_type": "stream",
     "text": [
      "sequence accuracy is 0.9966182613885021\n",
      "Epoch 2/12\n",
      "315/315 [==============================] - 1s 3ms/step - loss: 0.0104 - val_loss: 0.0202\n"
     ]
    },
    {
     "name": "stderr",
     "output_type": "stream",
     "text": [
      "WARNING:absl:Found untraced functions such as gru_cell_layer_call_fn, gru_cell_layer_call_and_return_conditional_losses, gru_cell_layer_call_fn, gru_cell_layer_call_and_return_conditional_losses, gru_cell_layer_call_and_return_conditional_losses while saving (showing 5 of 5). These functions will not be directly callable after loading.\n"
     ]
    },
    {
     "name": "stdout",
     "output_type": "stream",
     "text": [
      "INFO:tensorflow:Assets written to: /aiffel/aiffel/aiffelthon/wandb/run-20221114_081810-rse2uj6g/files/model-best/assets\n"
     ]
    },
    {
     "name": "stderr",
     "output_type": "stream",
     "text": [
      "INFO:tensorflow:Assets written to: /aiffel/aiffel/aiffelthon/wandb/run-20221114_081810-rse2uj6g/files/model-best/assets\n",
      "\u001b[34m\u001b[1mwandb\u001b[0m: Adding directory to artifact (/aiffel/aiffel/aiffelthon/wandb/run-20221114_081810-rse2uj6g/files/model-best)... Done. 0.0s\n"
     ]
    },
    {
     "name": "stdout",
     "output_type": "stream",
     "text": [
      "sequence accuracy is 0.9966182613885021\n",
      "Epoch 3/12\n",
      "315/315 [==============================] - 1s 4ms/step - loss: 0.0094 - val_loss: 0.0207\n",
      "sequence accuracy is 0.9966182613885021\n",
      "Epoch 4/12\n",
      "315/315 [==============================] - 1s 3ms/step - loss: 0.0085 - val_loss: 0.0212\n",
      "sequence accuracy is 0.9966182613885021\n",
      "Epoch 5/12\n",
      "315/315 [==============================] - 1s 3ms/step - loss: 0.0080 - val_loss: 0.0208\n",
      "sequence accuracy is 0.9966182613885021\n",
      "Epoch 6/12\n",
      "315/315 [==============================] - 1s 4ms/step - loss: 0.0073 - val_loss: 0.0220\n",
      "sequence accuracy is 0.9965933956634175\n",
      "Epoch 7/12\n",
      "315/315 [==============================] - 1s 3ms/step - loss: 0.0068 - val_loss: 0.0227\n",
      "sequence accuracy is 0.9966182613885021\n",
      "Epoch 8/12\n",
      "315/315 [==============================] - 1s 3ms/step - loss: 0.0063 - val_loss: 0.0237\n",
      "sequence accuracy is 0.996568529938333\n",
      "Epoch 9/12\n",
      "315/315 [==============================] - 1s 3ms/step - loss: 0.0060 - val_loss: 0.0243\n",
      "sequence accuracy is 0.9965933956634175\n",
      "Epoch 10/12\n",
      "315/315 [==============================] - 1s 4ms/step - loss: 0.0056 - val_loss: 0.0253\n",
      "sequence accuracy is 0.9966182613885021\n",
      "Epoch 11/12\n",
      "315/315 [==============================] - 1s 3ms/step - loss: 0.0053 - val_loss: 0.0277\n",
      "sequence accuracy is 0.9966182613885021\n",
      "Epoch 12/12\n",
      "315/315 [==============================] - 1s 3ms/step - loss: 0.0050 - val_loss: 0.0242\n",
      "sequence accuracy is 0.9966182613885021\n"
     ]
    },
    {
     "data": {
      "text/html": [
       "Waiting for W&B process to finish... <strong style=\"color:green\">(success).</strong>"
      ],
      "text/plain": [
       "<IPython.core.display.HTML object>"
      ]
     },
     "metadata": {},
     "output_type": "display_data"
    },
    {
     "data": {
      "text/html": [
       "<style>\n",
       "    table.wandb td:nth-child(1) { padding: 0 10px; text-align: left ; width: auto;} td:nth-child(2) {text-align: left ; width: 100%}\n",
       "    .wandb-row { display: flex; flex-direction: row; flex-wrap: wrap; justify-content: flex-start; width: 100% }\n",
       "    .wandb-col { display: flex; flex-direction: column; flex-basis: 100%; flex: 1; padding: 10px; }\n",
       "    </style>\n",
       "<div class=\"wandb-row\"><div class=\"wandb-col\"><h3>Run history:</h3><br/><table class=\"wandb\"><tr><td>ValidationAcc</td><td>▁</td></tr><tr><td>epoch</td><td>▁▂▂▃▄▄▅▅▆▇▇█</td></tr><tr><td>loss</td><td>█▂▂▂▂▁▁▁▁▁▁▁</td></tr><tr><td>val_loss</td><td>▁▁▁▂▂▃▃▄▅▆█▅</td></tr></table><br/></div><div class=\"wandb-col\"><h3>Run summary:</h3><br/><table class=\"wandb\"><tr><td>ValidationAcc</td><td>0.99662</td></tr><tr><td>best_epoch</td><td>1</td></tr><tr><td>best_val_loss</td><td>0.02024</td></tr><tr><td>epoch</td><td>11</td></tr><tr><td>loss</td><td>0.00503</td></tr><tr><td>val_loss</td><td>0.02416</td></tr></table><br/></div></div>"
      ],
      "text/plain": [
       "<IPython.core.display.HTML object>"
      ]
     },
     "metadata": {},
     "output_type": "display_data"
    },
    {
     "data": {
      "text/html": [
       "Synced <strong style=\"color:#cdcd00\">classic-sweep-4</strong>: <a href=\"https://wandb.ai/chhyyi/redzone_GRU_sweep_condition_labeled_valacc_goal/runs/rse2uj6g\" target=\"_blank\">https://wandb.ai/chhyyi/redzone_GRU_sweep_condition_labeled_valacc_goal/runs/rse2uj6g</a><br/>Synced 5 W&B file(s), 1 media file(s), 7 artifact file(s) and 1 other file(s)"
      ],
      "text/plain": [
       "<IPython.core.display.HTML object>"
      ]
     },
     "metadata": {},
     "output_type": "display_data"
    },
    {
     "data": {
      "text/html": [
       "Find logs at: <code>./wandb/run-20221114_081810-rse2uj6g/logs</code>"
      ],
      "text/plain": [
       "<IPython.core.display.HTML object>"
      ]
     },
     "metadata": {},
     "output_type": "display_data"
    },
    {
     "name": "stderr",
     "output_type": "stream",
     "text": [
      "\u001b[34m\u001b[1mwandb\u001b[0m: Agent Starting Run: 88irggti with config:\n",
      "\u001b[34m\u001b[1mwandb\u001b[0m: \tepochs: 12\n",
      "\u001b[34m\u001b[1mwandb\u001b[0m: \tlearning_rate: 0.001\n",
      "\u001b[34m\u001b[1mwandb\u001b[0m: \tsplit_train_ratio: 0.8\n",
      "\u001b[34m\u001b[1mwandb\u001b[0m: \tstride_inside_seq: 9\n",
      "\u001b[34m\u001b[1mwandb\u001b[0m: \tunit_GRU0: 32\n"
     ]
    },
    {
     "data": {
      "text/html": [
       "Tracking run with wandb version 0.13.5"
      ],
      "text/plain": [
       "<IPython.core.display.HTML object>"
      ]
     },
     "metadata": {},
     "output_type": "display_data"
    },
    {
     "data": {
      "text/html": [
       "Run data is saved locally in <code>/aiffel/aiffel/aiffelthon/wandb/run-20221114_081855-88irggti</code>"
      ],
      "text/plain": [
       "<IPython.core.display.HTML object>"
      ]
     },
     "metadata": {},
     "output_type": "display_data"
    },
    {
     "data": {
      "text/html": [
       "Syncing run <strong><a href=\"https://wandb.ai/chhyyi/redzone_GRU_sweep_condition_labeled_valacc_goal/runs/88irggti\" target=\"_blank\">ethereal-sweep-5</a></strong> to <a href=\"https://wandb.ai/chhyyi/redzone_GRU_sweep_condition_labeled_valacc_goal\" target=\"_blank\">Weights & Biases</a> (<a href=\"https://wandb.me/run\" target=\"_blank\">docs</a>)<br/>Sweep page:  <a href=\"https://wandb.ai/chhyyi/redzone_GRU_sweep_condition_labeled_valacc_goal/sweeps/f0g74vf5\" target=\"_blank\">https://wandb.ai/chhyyi/redzone_GRU_sweep_condition_labeled_valacc_goal/sweeps/f0g74vf5</a>"
      ],
      "text/plain": [
       "<IPython.core.display.HTML object>"
      ]
     },
     "metadata": {},
     "output_type": "display_data"
    },
    {
     "name": "stdout",
     "output_type": "stream",
     "text": [
      "loaded dataset. Generating sequences\n",
      "Any missing values exist: False\n",
      "train dataset columns: Index(['풍속(m/s)', '풍향(deg)', '기온(°C)', '수온(°C)', '강수량(mm)', '풍속(m/s).1',\n",
      "       '풍향(deg).1', '기온(°C).1', '수온(°C).1', '강수량(mm).1', '풍속(m/s).2',\n",
      "       '풍향(deg).2', '기온(°C).2', '수온(°C).2', '강수량(mm).2', '풍속(m/s).3',\n",
      "       '풍향(deg).3', '기온(°C).3', '수온(°C).3', '강수량(mm).3', '풍속(m/s).4',\n",
      "       '풍향(deg).4', '기온(°C).4', '수온(°C).4', '강수량(mm).4', '적조발생(조건)'],\n",
      "      dtype='object')\n",
      "20106 25133\n",
      "(20106, 8, 25) (5027, 8, 25) (20106, 8) (5027, 8) \n",
      "\n",
      "\n",
      "Epoch 1/12\n",
      "315/315 [==============================] - 3s 4ms/step - loss: 0.1388 - val_loss: 0.0231\n"
     ]
    },
    {
     "name": "stderr",
     "output_type": "stream",
     "text": [
      "WARNING:absl:Found untraced functions such as gru_cell_layer_call_fn, gru_cell_layer_call_and_return_conditional_losses, gru_cell_layer_call_fn, gru_cell_layer_call_and_return_conditional_losses, gru_cell_layer_call_and_return_conditional_losses while saving (showing 5 of 5). These functions will not be directly callable after loading.\n"
     ]
    },
    {
     "name": "stdout",
     "output_type": "stream",
     "text": [
      "INFO:tensorflow:Assets written to: /aiffel/aiffel/aiffelthon/wandb/run-20221114_081855-88irggti/files/model-best/assets\n"
     ]
    },
    {
     "name": "stderr",
     "output_type": "stream",
     "text": [
      "INFO:tensorflow:Assets written to: /aiffel/aiffel/aiffelthon/wandb/run-20221114_081855-88irggti/files/model-best/assets\n",
      "\u001b[34m\u001b[1mwandb\u001b[0m: Adding directory to artifact (/aiffel/aiffel/aiffelthon/wandb/run-20221114_081855-88irggti/files/model-best)... Done. 0.0s\n"
     ]
    },
    {
     "name": "stdout",
     "output_type": "stream",
     "text": [
      "sequence accuracy is 0.9966182613885021\n",
      "Epoch 2/12\n",
      "315/315 [==============================] - 1s 4ms/step - loss: 0.0146 - val_loss: 0.0217\n"
     ]
    },
    {
     "name": "stderr",
     "output_type": "stream",
     "text": [
      "WARNING:absl:Found untraced functions such as gru_cell_layer_call_fn, gru_cell_layer_call_and_return_conditional_losses, gru_cell_layer_call_fn, gru_cell_layer_call_and_return_conditional_losses, gru_cell_layer_call_and_return_conditional_losses while saving (showing 5 of 5). These functions will not be directly callable after loading.\n"
     ]
    },
    {
     "name": "stdout",
     "output_type": "stream",
     "text": [
      "INFO:tensorflow:Assets written to: /aiffel/aiffel/aiffelthon/wandb/run-20221114_081855-88irggti/files/model-best/assets\n"
     ]
    },
    {
     "name": "stderr",
     "output_type": "stream",
     "text": [
      "INFO:tensorflow:Assets written to: /aiffel/aiffel/aiffelthon/wandb/run-20221114_081855-88irggti/files/model-best/assets\n",
      "\u001b[34m\u001b[1mwandb\u001b[0m: Adding directory to artifact (/aiffel/aiffel/aiffelthon/wandb/run-20221114_081855-88irggti/files/model-best)... Done. 0.0s\n"
     ]
    },
    {
     "name": "stdout",
     "output_type": "stream",
     "text": [
      "sequence accuracy is 0.9966182613885021\n",
      "Epoch 3/12\n",
      "315/315 [==============================] - 1s 3ms/step - loss: 0.0130 - val_loss: 0.0232\n",
      "sequence accuracy is 0.9966182613885021\n",
      "Epoch 4/12\n",
      "315/315 [==============================] - 1s 3ms/step - loss: 0.0112 - val_loss: 0.0265\n",
      "sequence accuracy is 0.9958225581857967\n",
      "Epoch 5/12\n",
      "315/315 [==============================] - 1s 3ms/step - loss: 0.0102 - val_loss: 0.0272\n",
      "sequence accuracy is 0.9956484981102048\n",
      "Epoch 6/12\n",
      "315/315 [==============================] - 1s 4ms/step - loss: 0.0097 - val_loss: 0.0313\n",
      "sequence accuracy is 0.9938084344539487\n",
      "Epoch 7/12\n",
      "315/315 [==============================] - 1s 3ms/step - loss: 0.0094 - val_loss: 0.0285\n",
      "sequence accuracy is 0.9955241694847822\n",
      "Epoch 8/12\n",
      "315/315 [==============================] - 1s 3ms/step - loss: 0.0091 - val_loss: 0.0265\n",
      "sequence accuracy is 0.9958971553610503\n",
      "Epoch 9/12\n",
      "315/315 [==============================] - 1s 3ms/step - loss: 0.0088 - val_loss: 0.0271\n",
      "sequence accuracy is 0.9958722896359657\n",
      "Epoch 10/12\n",
      "315/315 [==============================] - 1s 3ms/step - loss: 0.0087 - val_loss: 0.0303\n",
      "sequence accuracy is 0.9947781977322459\n",
      "Epoch 11/12\n",
      "315/315 [==============================] - 1s 3ms/step - loss: 0.0083 - val_loss: 0.0278\n",
      "sequence accuracy is 0.9953749751342749\n",
      "Epoch 12/12\n",
      "315/315 [==============================] - 1s 3ms/step - loss: 0.0082 - val_loss: 0.0323\n",
      "sequence accuracy is 0.9935100457529341\n"
     ]
    },
    {
     "data": {
      "text/html": [
       "Waiting for W&B process to finish... <strong style=\"color:green\">(success).</strong>"
      ],
      "text/plain": [
       "<IPython.core.display.HTML object>"
      ]
     },
     "metadata": {},
     "output_type": "display_data"
    },
    {
     "data": {
      "application/vnd.jupyter.widget-view+json": {
       "model_id": "2780bcab4a404c419f619abc463da18c",
       "version_major": 2,
       "version_minor": 0
      },
      "text/plain": [
       "VBox(children=(Label(value='1.609 MB of 1.609 MB uploaded (0.008 MB deduped)\\r'), FloatProgress(value=1.0, max…"
      ]
     },
     "metadata": {},
     "output_type": "display_data"
    },
    {
     "data": {
      "text/html": [
       "<style>\n",
       "    table.wandb td:nth-child(1) { padding: 0 10px; text-align: left ; width: auto;} td:nth-child(2) {text-align: left ; width: 100%}\n",
       "    .wandb-row { display: flex; flex-direction: row; flex-wrap: wrap; justify-content: flex-start; width: 100% }\n",
       "    .wandb-col { display: flex; flex-direction: column; flex-basis: 100%; flex: 1; padding: 10px; }\n",
       "    </style>\n",
       "<div class=\"wandb-row\"><div class=\"wandb-col\"><h3>Run history:</h3><br/><table class=\"wandb\"><tr><td>ValidationAcc</td><td>▁</td></tr><tr><td>epoch</td><td>▁▂▂▃▄▄▅▅▆▇▇█</td></tr><tr><td>loss</td><td>█▁▁▁▁▁▁▁▁▁▁▁</td></tr><tr><td>val_loss</td><td>▂▁▂▄▅▇▅▄▅▇▅█</td></tr></table><br/></div><div class=\"wandb-col\"><h3>Run summary:</h3><br/><table class=\"wandb\"><tr><td>ValidationAcc</td><td>0.99351</td></tr><tr><td>best_epoch</td><td>1</td></tr><tr><td>best_val_loss</td><td>0.02173</td></tr><tr><td>epoch</td><td>11</td></tr><tr><td>loss</td><td>0.00816</td></tr><tr><td>val_loss</td><td>0.03227</td></tr></table><br/></div></div>"
      ],
      "text/plain": [
       "<IPython.core.display.HTML object>"
      ]
     },
     "metadata": {},
     "output_type": "display_data"
    },
    {
     "data": {
      "text/html": [
       "Synced <strong style=\"color:#cdcd00\">ethereal-sweep-5</strong>: <a href=\"https://wandb.ai/chhyyi/redzone_GRU_sweep_condition_labeled_valacc_goal/runs/88irggti\" target=\"_blank\">https://wandb.ai/chhyyi/redzone_GRU_sweep_condition_labeled_valacc_goal/runs/88irggti</a><br/>Synced 5 W&B file(s), 1 media file(s), 7 artifact file(s) and 1 other file(s)"
      ],
      "text/plain": [
       "<IPython.core.display.HTML object>"
      ]
     },
     "metadata": {},
     "output_type": "display_data"
    },
    {
     "data": {
      "text/html": [
       "Find logs at: <code>./wandb/run-20221114_081855-88irggti/logs</code>"
      ],
      "text/plain": [
       "<IPython.core.display.HTML object>"
      ]
     },
     "metadata": {},
     "output_type": "display_data"
    },
    {
     "name": "stderr",
     "output_type": "stream",
     "text": [
      "\u001b[34m\u001b[1mwandb\u001b[0m: Sweep Agent: Waiting for job.\n",
      "\u001b[34m\u001b[1mwandb\u001b[0m: Job received.\n",
      "\u001b[34m\u001b[1mwandb\u001b[0m: Agent Starting Run: 3y2zjxgf with config:\n",
      "\u001b[34m\u001b[1mwandb\u001b[0m: \tepochs: 1\n",
      "\u001b[34m\u001b[1mwandb\u001b[0m: \tlearning_rate: 0.01\n",
      "\u001b[34m\u001b[1mwandb\u001b[0m: \tsplit_train_ratio: 0.8\n",
      "\u001b[34m\u001b[1mwandb\u001b[0m: \tstride_inside_seq: 9\n",
      "\u001b[34m\u001b[1mwandb\u001b[0m: \tunit_GRU0: 128\n"
     ]
    },
    {
     "data": {
      "text/html": [
       "Tracking run with wandb version 0.13.5"
      ],
      "text/plain": [
       "<IPython.core.display.HTML object>"
      ]
     },
     "metadata": {},
     "output_type": "display_data"
    },
    {
     "data": {
      "text/html": [
       "Run data is saved locally in <code>/aiffel/aiffel/aiffelthon/wandb/run-20221114_081950-3y2zjxgf</code>"
      ],
      "text/plain": [
       "<IPython.core.display.HTML object>"
      ]
     },
     "metadata": {},
     "output_type": "display_data"
    },
    {
     "data": {
      "text/html": [
       "Syncing run <strong><a href=\"https://wandb.ai/chhyyi/redzone_GRU_sweep_condition_labeled_valacc_goal/runs/3y2zjxgf\" target=\"_blank\">clean-sweep-6</a></strong> to <a href=\"https://wandb.ai/chhyyi/redzone_GRU_sweep_condition_labeled_valacc_goal\" target=\"_blank\">Weights & Biases</a> (<a href=\"https://wandb.me/run\" target=\"_blank\">docs</a>)<br/>Sweep page:  <a href=\"https://wandb.ai/chhyyi/redzone_GRU_sweep_condition_labeled_valacc_goal/sweeps/f0g74vf5\" target=\"_blank\">https://wandb.ai/chhyyi/redzone_GRU_sweep_condition_labeled_valacc_goal/sweeps/f0g74vf5</a>"
      ],
      "text/plain": [
       "<IPython.core.display.HTML object>"
      ]
     },
     "metadata": {},
     "output_type": "display_data"
    },
    {
     "name": "stdout",
     "output_type": "stream",
     "text": [
      "loaded dataset. Generating sequences\n",
      "Any missing values exist: False\n",
      "train dataset columns: Index(['풍속(m/s)', '풍향(deg)', '기온(°C)', '수온(°C)', '강수량(mm)', '풍속(m/s).1',\n",
      "       '풍향(deg).1', '기온(°C).1', '수온(°C).1', '강수량(mm).1', '풍속(m/s).2',\n",
      "       '풍향(deg).2', '기온(°C).2', '수온(°C).2', '강수량(mm).2', '풍속(m/s).3',\n",
      "       '풍향(deg).3', '기온(°C).3', '수온(°C).3', '강수량(mm).3', '풍속(m/s).4',\n",
      "       '풍향(deg).4', '기온(°C).4', '수온(°C).4', '강수량(mm).4', '적조발생(조건)'],\n",
      "      dtype='object')\n",
      "20106 25133\n",
      "(20106, 8, 25) (5027, 8, 25) (20106, 8) (5027, 8) \n",
      "\n",
      "\n",
      "315/315 [==============================] - 3s 5ms/step - loss: 0.0210 - val_loss: 0.0219\n"
     ]
    },
    {
     "name": "stderr",
     "output_type": "stream",
     "text": [
      "WARNING:absl:Found untraced functions such as gru_cell_layer_call_fn, gru_cell_layer_call_and_return_conditional_losses, gru_cell_layer_call_fn, gru_cell_layer_call_and_return_conditional_losses, gru_cell_layer_call_and_return_conditional_losses while saving (showing 5 of 5). These functions will not be directly callable after loading.\n"
     ]
    },
    {
     "name": "stdout",
     "output_type": "stream",
     "text": [
      "INFO:tensorflow:Assets written to: /aiffel/aiffel/aiffelthon/wandb/run-20221114_081950-3y2zjxgf/files/model-best/assets\n"
     ]
    },
    {
     "name": "stderr",
     "output_type": "stream",
     "text": [
      "INFO:tensorflow:Assets written to: /aiffel/aiffel/aiffelthon/wandb/run-20221114_081950-3y2zjxgf/files/model-best/assets\n",
      "\u001b[34m\u001b[1mwandb\u001b[0m: Adding directory to artifact (/aiffel/aiffel/aiffelthon/wandb/run-20221114_081950-3y2zjxgf/files/model-best)... Done. 0.0s\n"
     ]
    },
    {
     "name": "stdout",
     "output_type": "stream",
     "text": [
      "sequence accuracy is 0.9966182613885021\n"
     ]
    },
    {
     "data": {
      "text/html": [
       "Waiting for W&B process to finish... <strong style=\"color:green\">(success).</strong>"
      ],
      "text/plain": [
       "<IPython.core.display.HTML object>"
      ]
     },
     "metadata": {},
     "output_type": "display_data"
    },
    {
     "data": {
      "text/html": [
       "<style>\n",
       "    table.wandb td:nth-child(1) { padding: 0 10px; text-align: left ; width: auto;} td:nth-child(2) {text-align: left ; width: 100%}\n",
       "    .wandb-row { display: flex; flex-direction: row; flex-wrap: wrap; justify-content: flex-start; width: 100% }\n",
       "    .wandb-col { display: flex; flex-direction: column; flex-basis: 100%; flex: 1; padding: 10px; }\n",
       "    </style>\n",
       "<div class=\"wandb-row\"><div class=\"wandb-col\"><h3>Run history:</h3><br/><table class=\"wandb\"><tr><td>ValidationAcc</td><td>▁</td></tr><tr><td>epoch</td><td>▁</td></tr><tr><td>loss</td><td>▁</td></tr><tr><td>val_loss</td><td>▁</td></tr></table><br/></div><div class=\"wandb-col\"><h3>Run summary:</h3><br/><table class=\"wandb\"><tr><td>ValidationAcc</td><td>0.99662</td></tr><tr><td>best_epoch</td><td>0</td></tr><tr><td>best_val_loss</td><td>0.02188</td></tr><tr><td>epoch</td><td>0</td></tr><tr><td>loss</td><td>0.021</td></tr><tr><td>val_loss</td><td>0.02188</td></tr></table><br/></div></div>"
      ],
      "text/plain": [
       "<IPython.core.display.HTML object>"
      ]
     },
     "metadata": {},
     "output_type": "display_data"
    },
    {
     "data": {
      "text/html": [
       "Synced <strong style=\"color:#cdcd00\">clean-sweep-6</strong>: <a href=\"https://wandb.ai/chhyyi/redzone_GRU_sweep_condition_labeled_valacc_goal/runs/3y2zjxgf\" target=\"_blank\">https://wandb.ai/chhyyi/redzone_GRU_sweep_condition_labeled_valacc_goal/runs/3y2zjxgf</a><br/>Synced 5 W&B file(s), 1 media file(s), 4 artifact file(s) and 1 other file(s)"
      ],
      "text/plain": [
       "<IPython.core.display.HTML object>"
      ]
     },
     "metadata": {},
     "output_type": "display_data"
    },
    {
     "data": {
      "text/html": [
       "Find logs at: <code>./wandb/run-20221114_081950-3y2zjxgf/logs</code>"
      ],
      "text/plain": [
       "<IPython.core.display.HTML object>"
      ]
     },
     "metadata": {},
     "output_type": "display_data"
    },
    {
     "name": "stderr",
     "output_type": "stream",
     "text": [
      "\u001b[34m\u001b[1mwandb\u001b[0m: Ctrl + C detected. Stopping sweep.\n"
     ]
    }
   ],
   "source": [
    "sweep_id = wandb.sweep(sweep_config)\n",
    "\n",
    "# run the sweep\n",
    "wandb.agent(sweep_id,\n",
    "            function=train,\n",
    "            entity = 'chhyyi',\n",
    "            project = 'redzone_GRU_sweep_condition_labeled_valacc_goal')"
   ]
  },
  {
   "cell_type": "markdown",
   "id": "776aeb61",
   "metadata": {},
   "source": [
    "### wandb.finish()\n",
    "저는 사실 이게 뭐 하는 것인지 모릅니다."
   ]
  },
  {
   "cell_type": "code",
   "execution_count": 7,
   "id": "5705edae",
   "metadata": {},
   "outputs": [],
   "source": [
    "wandb.finish()"
   ]
  },
  {
   "cell_type": "code",
   "execution_count": null,
   "id": "4fec6c76",
   "metadata": {},
   "outputs": [],
   "source": []
  }
 ],
 "metadata": {
  "kernelspec": {
   "display_name": "Python 3 (ipykernel)",
   "language": "python",
   "name": "python3"
  },
  "language_info": {
   "codemirror_mode": {
    "name": "ipython",
    "version": 3
   },
   "file_extension": ".py",
   "mimetype": "text/x-python",
   "name": "python",
   "nbconvert_exporter": "python",
   "pygments_lexer": "ipython3",
   "version": "3.9.7"
  }
 },
 "nbformat": 4,
 "nbformat_minor": 5
}
