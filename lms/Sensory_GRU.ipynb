{
 "cells": [
  {
   "cell_type": "code",
   "execution_count": 2,
   "id": "bb522c21",
   "metadata": {},
   "outputs": [],
   "source": [
    "import tensorflow as tf\n",
    "from tensorflow import keras\n",
    "import numpy as np\n",
    "import matplotlib.pyplot as plt\n",
    "import pandas as pd\n",
    "from sklearn.model_selection import train_test_split\n",
    "import random\n",
    "import os\n",
    "import wandb\n",
    "from wandb.keras import WandbCallback\n",
    "\n",
    "import Sensory_GRU"
   ]
  },
  {
   "cell_type": "code",
   "execution_count": 102,
   "id": "d1d6eddb",
   "metadata": {},
   "outputs": [],
   "source": [
    "def train():\n",
    "    import pandas as pd\n",
    "    import tensorflow as tf\n",
    "    from tensorflow import keras\n",
    "    import matplotlib.pyplot as plt\n",
    "    import numpy as np\n",
    "    import wandb\n",
    "    from wandb.keras import WandbCallback\n",
    "\n",
    "    def seq_acc(y_true, y_pred):\n",
    "        y_bin=np.zeros_like(y_pred)\n",
    "        for i, dd in enumerate(y_bin):\n",
    "            for j in range(len(dd)):\n",
    "                pred=y_pred[i][j]\n",
    "                if pred>=0.5:\n",
    "                    y_bin[i][j]=1\n",
    "                else:\n",
    "                    y_bin[i][j]=0\n",
    "\n",
    "        predict_true = (y_true == y_bin)\n",
    "        # multi-column일 경우에도 계산 할 수 있도록 np.average를 한번 더 씌움\n",
    "        try:\n",
    "            score = np.average(np.average(predict_true))\n",
    "        except ValueError:\n",
    "            score = mean_squared_error(y_true, y_bin)\n",
    "        return score\n",
    "\n",
    "    def my_seq_acc(y_true, y_pred):\n",
    "        score = tf.py_function(func=seq_acc, inp=[y_true, y_pred], Tout=tf.float32,  name='custom_seq_acc') # tf 2.x\n",
    "        #score = tf.py_func( lambda y_true, y_pred : mse_AIFrenz(y_true, y_pred) , [y_true, y_pred], 'float32', stateful = False, name = 'custom_mse' ) # tf 1.x\n",
    "        return score\n",
    "\n",
    "\n",
    "    class MySeqAccCallback(keras.callbacks.Callback):\n",
    "        def on_epoch_end(self, epochs, logs=None):\n",
    "            y_pred=self.model.predict(X_test)\n",
    "            print('sequence accuracy is {}'.format(seq_acc(y_test, y_pred)))\n",
    "\n",
    "\n",
    "    default_config={\n",
    "                         'seq_field':72,\n",
    "                         'stride_inside_seq':9,\n",
    "                         'stride_between_seqs':2,\n",
    "                         'learning_rate':0.01,\n",
    "                         'split_train_ratio':0.8,\n",
    "                         'epochs':20,\n",
    "                         'batch_size':64,\n",
    "                         'unit_gru0':64}\n",
    "    wandb.init(config = default_config)\n",
    "\n",
    "    locations=['거문도', '울산', '거제도', '통영', '추자도']\n",
    "\n",
    "    # load normalized data\n",
    "\n",
    "    df_merged=pd.read_csv(\"sensory_preprocessed_df.csv\")\n",
    "    if df_merged.columns[0]=='Unnamed: 0':\n",
    "        df_merged = df_merged.iloc[:, 1:]\n",
    "\n",
    "    print('loaded dataset. Generating sequences')\n",
    "    seq_length=wandb.config.seq_field//wandb.config.stride_inside_seq\n",
    "    len_ds=len(df_merged)\n",
    "\n",
    "    seqs_idx=[]\n",
    "\n",
    "    start_idx=0\n",
    "    while start_idx<=len_ds-wandb.config.seq_field:\n",
    "        seqs_idx.append(list(range(start_idx, start_idx + wandb.config.seq_field, wandb.config.stride_inside_seq\n",
    "    )))\n",
    "        start_idx+=wandb.config.stride_between_seqs\n",
    "\n",
    "\n",
    "    seqs_idx[100],len(seqs_idx[100])\n",
    "\n",
    "    df_merged.reset_index(inplace=True, drop=True)\n",
    "    print('Any missing values exist:', df_merged.isna().all().all())\n",
    "\n",
    "\n",
    "    #train_cols=['풍속(m/s)', '풍향(deg)', '기온(°C)', '수온(°C)', '강수량(mm)', '적조발생']\n",
    "    ds_train_cols=df_merged\n",
    "    ds_train_cols.reset_index(inplace=True, drop=True)\n",
    "    print('train dataset columns:',ds_train_cols.columns)\n",
    "\n",
    "    seq_dataset=np.zeros([len(seqs_idx), len(seqs_idx[0]), len(ds_train_cols.columns)])\n",
    "\n",
    "    for i, seq in enumerate(seqs_idx):\n",
    "        for j, row_number in enumerate(seq):\n",
    "            seq_dataset[i, j]=ds_train_cols.loc[row_number].to_numpy()\n",
    "\n",
    "    def not_bin_in_occurence(x):\n",
    "        if x==1 or x==0:\n",
    "            return x\n",
    "        else:\n",
    "            print('exceptional value(not 0 or 1) found. replaced by near one.')\n",
    "            if x>=0.5:\n",
    "                return 1\n",
    "            else:\n",
    "                return 0\n",
    "            \n",
    "    ds_train_cols['적조발생']=ds_train_cols['적조발생'].apply(not_bin_in_occurence)\n",
    "\n",
    "\n",
    "    split_index=int(len(seq_dataset)*wandb.config.split_train_ratio)\n",
    "    print(split_index, len(seq_dataset))\n",
    "\n",
    "    train_xy=seq_dataset[:split_index]\n",
    "    np.random.shuffle(train_xy)\n",
    "    X_train=train_xy[:,:,0:-1]\n",
    "    y_train=train_xy[:,:,-1]\n",
    "\n",
    "    test_xy=seq_dataset[split_index:]\n",
    "    np.random.shuffle(test_xy)\n",
    "    X_test=test_xy[:,:,0:-1]\n",
    "    y_test=test_xy[:,:,-1]\n",
    "\n",
    "    print(X_train.shape, X_test.shape, y_train.shape, y_test.shape,'\\n\\n')\n",
    "\n",
    "    model = keras.Sequential([\n",
    "        keras.Input(shape=(seq_length, 25)),\n",
    "        keras.layers.GRU(wandb.config.unit_gru0),\n",
    "        keras.layers.Dense(seq_length, activation=\"sigmoid\"),\n",
    "    ]\n",
    "    )\n",
    "\n",
    "\n",
    "    # In[95]:\n",
    "    optimizer=keras.optimizers.Adam(learning_rate=wandb.config.learning_rate)\n",
    "\n",
    "    model.compile(optimizer=optimizer, loss=\"binary_crossentropy\")\n",
    "\n",
    "    # In[97]:\n",
    "\n",
    "\n",
    "    # In[98]:\n",
    "\n",
    "\n",
    "    model.fit(X_train, y_train,\n",
    "            batch_size=wandb.config.batch_size,\n",
    "            epochs=wandb.config.epochs, \n",
    "            validation_data=(X_test, y_test),\n",
    "            callbacks=[WandbCallback(training_data = (X_train, y_train),\n",
    "                                     validation_data = (X_test, y_test),\n",
    "                                     log_weights = True,\n",
    "                                     log_gradients = True), MySeqAccCallback()])\n",
    "    y_pred=model.predict(X_test)\n",
    "    wandb.log({\"Validation Acc :\":seq_acc(y_test, y_pred)})"
   ]
  },
  {
   "cell_type": "code",
   "execution_count": 103,
   "id": "3dbbad80",
   "metadata": {},
   "outputs": [
    {
     "data": {
      "text/plain": [
       "True"
      ]
     },
     "execution_count": 103,
     "metadata": {},
     "output_type": "execute_result"
    }
   ],
   "source": [
    "wandb.login()"
   ]
  },
  {
   "cell_type": "code",
   "execution_count": 104,
   "id": "90824beb",
   "metadata": {},
   "outputs": [],
   "source": [
    "# yaml 파일로 만들어도 됩니다.\n",
    "\n",
    "sweep_config = {\n",
    "    \"name\": \"sweep3\",\n",
    "    \"metric\": {\n",
    "        \"goal\": \"minimize\",\n",
    "        \"name\": \"val_loss\"\n",
    "    },\n",
    "    \"method\": \"random\",\n",
    "    \"parameters\": {\n",
    "        \"split_train_ratio\":{\n",
    "            \"values\":[0.5,0.8]\n",
    "        },\n",
    "        \"epochs\":{\n",
    "            \"values\":[1,2,3,4,5,6,7,8,9,10,11,12,13,14,15,16,17,18,19,20]\n",
    "        },\n",
    "        \"learning_rate\":{'max':0.01, 'min':0.0001},\n",
    "        \"unit_gru0\":{\"values\":[32,64,128,256]},\n",
    "        \"stride_inside_seq\":{\"values\":[1,3,9]}\n",
    "    }\n",
    "    }"
   ]
  },
  {
   "cell_type": "code",
   "execution_count": null,
   "id": "b49fbd74",
   "metadata": {
    "scrolled": false
   },
   "outputs": [
    {
     "name": "stdout",
     "output_type": "stream",
     "text": [
      "Create sweep with ID: 5qc8l882\n",
      "Sweep URL: https://wandb.ai/chhyyi/redzone_gru_sweep/sweeps/5qc8l882\n"
     ]
    },
    {
     "name": "stderr",
     "output_type": "stream",
     "text": [
      "\u001b[34m\u001b[1mwandb\u001b[0m: Agent Starting Run: y1ubyamg with config:\n",
      "\u001b[34m\u001b[1mwandb\u001b[0m: \tepochs: 6\n",
      "\u001b[34m\u001b[1mwandb\u001b[0m: \tlearning_rate: 0.00534501159529119\n",
      "\u001b[34m\u001b[1mwandb\u001b[0m: \tsplit_train_ratio: 0.8\n",
      "\u001b[34m\u001b[1mwandb\u001b[0m: \tstride_inside_seq: 3\n",
      "\u001b[34m\u001b[1mwandb\u001b[0m: \tunit_gru0: 32\n"
     ]
    },
    {
     "data": {
      "application/vnd.jupyter.widget-view+json": {
       "model_id": "7603d33a11fe4567864748a2e75d758a",
       "version_major": 2,
       "version_minor": 0
      },
      "text/plain": [
       "VBox(children=(Label(value='Waiting for wandb.init()...\\r'), FloatProgress(value=0.016670670016659037, max=1.0…"
      ]
     },
     "metadata": {},
     "output_type": "display_data"
    },
    {
     "data": {
      "text/html": [
       "Tracking run with wandb version 0.13.5"
      ],
      "text/plain": [
       "<IPython.core.display.HTML object>"
      ]
     },
     "metadata": {},
     "output_type": "display_data"
    },
    {
     "data": {
      "text/html": [
       "Run data is saved locally in <code>/aiffel/aiffel/aiffelthon/wandb/run-20221113_092732-y1ubyamg</code>"
      ],
      "text/plain": [
       "<IPython.core.display.HTML object>"
      ]
     },
     "metadata": {},
     "output_type": "display_data"
    },
    {
     "data": {
      "text/html": [
       "Syncing run <strong><a href=\"https://wandb.ai/chhyyi/redzone_gru_sweep/runs/y1ubyamg\" target=\"_blank\">usual-sweep-1</a></strong> to <a href=\"https://wandb.ai/chhyyi/redzone_gru_sweep\" target=\"_blank\">Weights & Biases</a> (<a href=\"https://wandb.me/run\" target=\"_blank\">docs</a>)<br/>Sweep page:  <a href=\"https://wandb.ai/chhyyi/redzone_gru_sweep/sweeps/5qc8l882\" target=\"_blank\">https://wandb.ai/chhyyi/redzone_gru_sweep/sweeps/5qc8l882</a>"
      ],
      "text/plain": [
       "<IPython.core.display.HTML object>"
      ]
     },
     "metadata": {},
     "output_type": "display_data"
    },
    {
     "name": "stdout",
     "output_type": "stream",
     "text": [
      "loaded dataset. Generating sequences\n",
      "Any missing values exist: False\n",
      "train dataset columns: Index(['풍속(m/s)', '풍향(deg)', '기온(°C)', '수온(°C)', '강수량(mm)', '풍속(m/s).1',\n",
      "       '풍향(deg).1', '기온(°C).1', '수온(°C).1', '강수량(mm).1', '풍속(m/s).2',\n",
      "       '풍향(deg).2', '기온(°C).2', '수온(°C).2', '강수량(mm).2', '풍속(m/s).3',\n",
      "       '풍향(deg).3', '기온(°C).3', '수온(°C).3', '강수량(mm).3', '풍속(m/s).4',\n",
      "       '풍향(deg).4', '기온(°C).4', '수온(°C).4', '강수량(mm).4', '적조발생'],\n",
      "      dtype='object')\n",
      "20106 25133\n",
      "(20106, 24, 25) (5027, 24, 25) (20106, 24) (5027, 24) \n",
      "\n",
      "\n",
      "Epoch 1/6\n",
      "315/315 [==============================] - 3s 5ms/step - loss: 0.1525 - val_loss: 0.1932\n"
     ]
    },
    {
     "name": "stderr",
     "output_type": "stream",
     "text": [
      "WARNING:absl:Found untraced functions such as gru_cell_layer_call_and_return_conditional_losses, gru_cell_layer_call_fn, gru_cell_layer_call_fn, gru_cell_layer_call_and_return_conditional_losses, gru_cell_layer_call_and_return_conditional_losses while saving (showing 5 of 5). These functions will not be directly callable after loading.\n",
      "\u001b[34m\u001b[1mwandb\u001b[0m: Adding directory to artifact (/aiffel/aiffel/aiffelthon/wandb/run-20221113_092732-y1ubyamg/files/model-best)... Done. 0.0s\n"
     ]
    },
    {
     "name": "stdout",
     "output_type": "stream",
     "text": [
      "sequence accuracy is 0.9182166301969366\n",
      "Epoch 2/6\n",
      "315/315 [==============================] - 1s 4ms/step - loss: 0.0615 - val_loss: 0.1795\n"
     ]
    },
    {
     "name": "stderr",
     "output_type": "stream",
     "text": [
      "WARNING:absl:Found untraced functions such as gru_cell_layer_call_and_return_conditional_losses, gru_cell_layer_call_fn, gru_cell_layer_call_fn, gru_cell_layer_call_and_return_conditional_losses, gru_cell_layer_call_and_return_conditional_losses while saving (showing 5 of 5). These functions will not be directly callable after loading.\n",
      "\u001b[34m\u001b[1mwandb\u001b[0m: Adding directory to artifact (/aiffel/aiffel/aiffelthon/wandb/run-20221113_092732-y1ubyamg/files/model-best)... Done. 0.0s\n"
     ]
    },
    {
     "name": "stdout",
     "output_type": "stream",
     "text": [
      "sequence accuracy is 0.9272677541277103\n",
      "Epoch 3/6\n",
      "315/315 [==============================] - 1s 4ms/step - loss: 0.0342 - val_loss: 0.1636\n"
     ]
    },
    {
     "name": "stderr",
     "output_type": "stream",
     "text": [
      "WARNING:absl:Found untraced functions such as gru_cell_layer_call_and_return_conditional_losses, gru_cell_layer_call_fn, gru_cell_layer_call_fn, gru_cell_layer_call_and_return_conditional_losses, gru_cell_layer_call_and_return_conditional_losses while saving (showing 5 of 5). These functions will not be directly callable after loading.\n",
      "\u001b[34m\u001b[1mwandb\u001b[0m: Adding directory to artifact (/aiffel/aiffel/aiffelthon/wandb/run-20221113_092732-y1ubyamg/files/model-best)... Done. 0.0s\n"
     ]
    },
    {
     "name": "stdout",
     "output_type": "stream",
     "text": [
      "sequence accuracy is 0.9420379948279292\n",
      "Epoch 4/6\n",
      "315/315 [==============================] - 1s 4ms/step - loss: 0.0278 - val_loss: 0.2074\n",
      "sequence accuracy is 0.9388966248922486\n",
      "Epoch 5/6\n",
      "315/315 [==============================] - 1s 4ms/step - loss: 0.0212 - val_loss: 0.2454\n",
      "sequence accuracy is 0.9369405211855978\n",
      "Epoch 6/6\n",
      "315/315 [==============================] - 1s 4ms/step - loss: 0.0143 - val_loss: 0.2651\n",
      "sequence accuracy is 0.9395016908693058\n"
     ]
    },
    {
     "data": {
      "text/html": [
       "Waiting for W&B process to finish... <strong style=\"color:green\">(success).</strong>"
      ],
      "text/plain": [
       "<IPython.core.display.HTML object>"
      ]
     },
     "metadata": {},
     "output_type": "display_data"
    },
    {
     "data": {
      "application/vnd.jupyter.widget-view+json": {
       "model_id": "bdf58cae60d64e4c8ea5bb402787ec52",
       "version_major": 2,
       "version_minor": 0
      },
      "text/plain": [
       "VBox(children=(Label(value='2.388 MB of 2.388 MB uploaded (0.008 MB deduped)\\r'), FloatProgress(value=1.0, max…"
      ]
     },
     "metadata": {},
     "output_type": "display_data"
    },
    {
     "data": {
      "text/html": [
       "<style>\n",
       "    table.wandb td:nth-child(1) { padding: 0 10px; text-align: left ; width: auto;} td:nth-child(2) {text-align: left ; width: 100%}\n",
       "    .wandb-row { display: flex; flex-direction: row; flex-wrap: wrap; justify-content: flex-start; width: 100% }\n",
       "    .wandb-col { display: flex; flex-direction: column; flex-basis: 100%; flex: 1; padding: 10px; }\n",
       "    </style>\n",
       "<div class=\"wandb-row\"><div class=\"wandb-col\"><h3>Run history:</h3><br/><table class=\"wandb\"><tr><td>Validation Acc :</td><td>▁</td></tr><tr><td>epoch</td><td>▁▂▄▅▇█</td></tr><tr><td>loss</td><td>█▃▂▂▁▁</td></tr><tr><td>val_loss</td><td>▃▂▁▄▇█</td></tr></table><br/></div><div class=\"wandb-col\"><h3>Run summary:</h3><br/><table class=\"wandb\"><tr><td>Validation Acc :</td><td>0.9395</td></tr><tr><td>best_epoch</td><td>2</td></tr><tr><td>best_val_loss</td><td>0.16361</td></tr><tr><td>epoch</td><td>5</td></tr><tr><td>loss</td><td>0.01433</td></tr><tr><td>val_loss</td><td>0.26512</td></tr></table><br/></div></div>"
      ],
      "text/plain": [
       "<IPython.core.display.HTML object>"
      ]
     },
     "metadata": {},
     "output_type": "display_data"
    },
    {
     "data": {
      "text/html": [
       "Synced <strong style=\"color:#cdcd00\">usual-sweep-1</strong>: <a href=\"https://wandb.ai/chhyyi/redzone_gru_sweep/runs/y1ubyamg\" target=\"_blank\">https://wandb.ai/chhyyi/redzone_gru_sweep/runs/y1ubyamg</a><br/>Synced 5 W&B file(s), 1 media file(s), 10 artifact file(s) and 1 other file(s)"
      ],
      "text/plain": [
       "<IPython.core.display.HTML object>"
      ]
     },
     "metadata": {},
     "output_type": "display_data"
    },
    {
     "data": {
      "text/html": [
       "Find logs at: <code>./wandb/run-20221113_092732-y1ubyamg/logs</code>"
      ],
      "text/plain": [
       "<IPython.core.display.HTML object>"
      ]
     },
     "metadata": {},
     "output_type": "display_data"
    },
    {
     "name": "stderr",
     "output_type": "stream",
     "text": [
      "\u001b[34m\u001b[1mwandb\u001b[0m: Agent Starting Run: siw0m566 with config:\n",
      "\u001b[34m\u001b[1mwandb\u001b[0m: \tepochs: 13\n",
      "\u001b[34m\u001b[1mwandb\u001b[0m: \tlearning_rate: 0.0030090256828713756\n",
      "\u001b[34m\u001b[1mwandb\u001b[0m: \tsplit_train_ratio: 0.5\n",
      "\u001b[34m\u001b[1mwandb\u001b[0m: \tstride_inside_seq: 9\n",
      "\u001b[34m\u001b[1mwandb\u001b[0m: \tunit_gru0: 128\n"
     ]
    },
    {
     "data": {
      "application/vnd.jupyter.widget-view+json": {
       "model_id": "d561de770a444097a06e90235e6612f2",
       "version_major": 2,
       "version_minor": 0
      },
      "text/plain": [
       "VBox(children=(Label(value='Waiting for wandb.init()...\\r'), FloatProgress(value=0.01666945316659015, max=1.0)…"
      ]
     },
     "metadata": {},
     "output_type": "display_data"
    },
    {
     "data": {
      "text/html": [
       "Tracking run with wandb version 0.13.5"
      ],
      "text/plain": [
       "<IPython.core.display.HTML object>"
      ]
     },
     "metadata": {},
     "output_type": "display_data"
    },
    {
     "data": {
      "text/html": [
       "Run data is saved locally in <code>/aiffel/aiffel/aiffelthon/wandb/run-20221113_092906-siw0m566</code>"
      ],
      "text/plain": [
       "<IPython.core.display.HTML object>"
      ]
     },
     "metadata": {},
     "output_type": "display_data"
    },
    {
     "data": {
      "text/html": [
       "Syncing run <strong><a href=\"https://wandb.ai/chhyyi/redzone_gru_sweep/runs/siw0m566\" target=\"_blank\">good-sweep-2</a></strong> to <a href=\"https://wandb.ai/chhyyi/redzone_gru_sweep\" target=\"_blank\">Weights & Biases</a> (<a href=\"https://wandb.me/run\" target=\"_blank\">docs</a>)<br/>Sweep page:  <a href=\"https://wandb.ai/chhyyi/redzone_gru_sweep/sweeps/5qc8l882\" target=\"_blank\">https://wandb.ai/chhyyi/redzone_gru_sweep/sweeps/5qc8l882</a>"
      ],
      "text/plain": [
       "<IPython.core.display.HTML object>"
      ]
     },
     "metadata": {},
     "output_type": "display_data"
    },
    {
     "name": "stdout",
     "output_type": "stream",
     "text": [
      "loaded dataset. Generating sequences\n",
      "Any missing values exist: False\n",
      "train dataset columns: Index(['풍속(m/s)', '풍향(deg)', '기온(°C)', '수온(°C)', '강수량(mm)', '풍속(m/s).1',\n",
      "       '풍향(deg).1', '기온(°C).1', '수온(°C).1', '강수량(mm).1', '풍속(m/s).2',\n",
      "       '풍향(deg).2', '기온(°C).2', '수온(°C).2', '강수량(mm).2', '풍속(m/s).3',\n",
      "       '풍향(deg).3', '기온(°C).3', '수온(°C).3', '강수량(mm).3', '풍속(m/s).4',\n",
      "       '풍향(deg).4', '기온(°C).4', '수온(°C).4', '강수량(mm).4', '적조발생'],\n",
      "      dtype='object')\n",
      "12566 25133\n",
      "(12566, 8, 25) (12567, 8, 25) (12566, 8) (12567, 8) \n",
      "\n",
      "\n",
      "Epoch 1/13\n",
      "197/197 [==============================] - 3s 9ms/step - loss: 0.1392 - val_loss: 0.3752\n"
     ]
    },
    {
     "name": "stderr",
     "output_type": "stream",
     "text": [
      "WARNING:absl:Found untraced functions such as gru_cell_layer_call_and_return_conditional_losses, gru_cell_layer_call_fn, gru_cell_layer_call_fn, gru_cell_layer_call_and_return_conditional_losses, gru_cell_layer_call_and_return_conditional_losses while saving (showing 5 of 5). These functions will not be directly callable after loading.\n",
      "\u001b[34m\u001b[1mwandb\u001b[0m: Adding directory to artifact (/aiffel/aiffel/aiffelthon/wandb/run-20221113_092906-siw0m566/files/model-best)... Done. 0.0s\n"
     ]
    },
    {
     "name": "stdout",
     "output_type": "stream",
     "text": [
      "sequence accuracy is 0.9345209676135912\n",
      "Epoch 2/13\n",
      "197/197 [==============================] - 1s 5ms/step - loss: 0.0829 - val_loss: 0.4874\n",
      "sequence accuracy is 0.9299355454762473\n",
      "Epoch 3/13\n",
      "197/197 [==============================] - 1s 5ms/step - loss: 0.0453 - val_loss: 0.5427\n",
      "sequence accuracy is 0.9326012572610806\n",
      "Epoch 4/13\n",
      "197/197 [==============================] - 1s 5ms/step - loss: 0.0282 - val_loss: 0.6473\n",
      "sequence accuracy is 0.9176911753003899\n",
      "Epoch 5/13\n",
      "197/197 [==============================] - 1s 5ms/step - loss: 0.0175 - val_loss: 0.7199\n",
      "sequence accuracy is 0.916676613352431\n",
      "Epoch 6/13\n",
      "197/197 [==============================] - 1s 5ms/step - loss: 0.0107 - val_loss: 0.7576\n",
      "sequence accuracy is 0.9313081881117212\n",
      "Epoch 7/13\n",
      "197/197 [==============================] - 1s 5ms/step - loss: 0.0105 - val_loss: 0.8307\n",
      "sequence accuracy is 0.9235696665870932\n",
      "Epoch 8/13\n",
      "197/197 [==============================] - 1s 5ms/step - loss: 0.0107 - val_loss: 0.6886\n",
      "sequence accuracy is 0.9242360945333015\n",
      "Epoch 9/13\n",
      "197/197 [==============================] - 1s 5ms/step - loss: 0.0066 - val_loss: 0.8297\n",
      "sequence accuracy is 0.9253202832816105\n",
      "Epoch 10/13\n",
      "197/197 [==============================] - 1s 5ms/step - loss: 0.0033 - val_loss: 0.8901\n",
      "sequence accuracy is 0.9249622025940957\n",
      "Epoch 11/13\n",
      "197/197 [==============================] - 1s 5ms/step - loss: 0.0025 - val_loss: 0.9376\n",
      "sequence accuracy is 0.9237884936739078\n",
      "Epoch 12/13\n",
      "197/197 [==============================] - 1s 5ms/step - loss: 0.0026 - val_loss: 0.9507\n",
      "sequence accuracy is 0.926414418715684\n",
      "Epoch 13/13\n",
      "197/197 [==============================] - 1s 5ms/step - loss: 0.0064 - val_loss: 0.9483\n",
      "sequence accuracy is 0.9255888437972467\n"
     ]
    },
    {
     "data": {
      "text/html": [
       "Waiting for W&B process to finish... <strong style=\"color:green\">(success).</strong>"
      ],
      "text/plain": [
       "<IPython.core.display.HTML object>"
      ]
     },
     "metadata": {},
     "output_type": "display_data"
    },
    {
     "data": {
      "application/vnd.jupyter.widget-view+json": {
       "model_id": "c6d0926ef0c24eb1a14cc02bc21ff0dc",
       "version_major": 2,
       "version_minor": 0
      },
      "text/plain": [
       "VBox(children=(Label(value='2.113 MB of 2.113 MB uploaded (0.000 MB deduped)\\r'), FloatProgress(value=1.0, max…"
      ]
     },
     "metadata": {},
     "output_type": "display_data"
    },
    {
     "data": {
      "text/html": [
       "<style>\n",
       "    table.wandb td:nth-child(1) { padding: 0 10px; text-align: left ; width: auto;} td:nth-child(2) {text-align: left ; width: 100%}\n",
       "    .wandb-row { display: flex; flex-direction: row; flex-wrap: wrap; justify-content: flex-start; width: 100% }\n",
       "    .wandb-col { display: flex; flex-direction: column; flex-basis: 100%; flex: 1; padding: 10px; }\n",
       "    </style>\n",
       "<div class=\"wandb-row\"><div class=\"wandb-col\"><h3>Run history:</h3><br/><table class=\"wandb\"><tr><td>Validation Acc :</td><td>▁</td></tr><tr><td>epoch</td><td>▁▂▂▃▃▄▅▅▆▆▇▇█</td></tr><tr><td>loss</td><td>█▅▃▂▂▁▁▁▁▁▁▁▁</td></tr><tr><td>val_loss</td><td>▁▂▃▄▅▆▇▅▇▇███</td></tr></table><br/></div><div class=\"wandb-col\"><h3>Run summary:</h3><br/><table class=\"wandb\"><tr><td>Validation Acc :</td><td>0.92559</td></tr><tr><td>best_epoch</td><td>0</td></tr><tr><td>best_val_loss</td><td>0.37521</td></tr><tr><td>epoch</td><td>12</td></tr><tr><td>loss</td><td>0.0064</td></tr><tr><td>val_loss</td><td>0.94826</td></tr></table><br/></div></div>"
      ],
      "text/plain": [
       "<IPython.core.display.HTML object>"
      ]
     },
     "metadata": {},
     "output_type": "display_data"
    },
    {
     "data": {
      "text/html": [
       "Synced <strong style=\"color:#cdcd00\">good-sweep-2</strong>: <a href=\"https://wandb.ai/chhyyi/redzone_gru_sweep/runs/siw0m566\" target=\"_blank\">https://wandb.ai/chhyyi/redzone_gru_sweep/runs/siw0m566</a><br/>Synced 5 W&B file(s), 1 media file(s), 4 artifact file(s) and 1 other file(s)"
      ],
      "text/plain": [
       "<IPython.core.display.HTML object>"
      ]
     },
     "metadata": {},
     "output_type": "display_data"
    },
    {
     "data": {
      "text/html": [
       "Find logs at: <code>./wandb/run-20221113_092906-siw0m566/logs</code>"
      ],
      "text/plain": [
       "<IPython.core.display.HTML object>"
      ]
     },
     "metadata": {},
     "output_type": "display_data"
    },
    {
     "name": "stderr",
     "output_type": "stream",
     "text": [
      "\u001b[34m\u001b[1mwandb\u001b[0m: Agent Starting Run: 7dmxl3wz with config:\n",
      "\u001b[34m\u001b[1mwandb\u001b[0m: \tepochs: 12\n",
      "\u001b[34m\u001b[1mwandb\u001b[0m: \tlearning_rate: 0.004293283976150548\n",
      "\u001b[34m\u001b[1mwandb\u001b[0m: \tsplit_train_ratio: 0.5\n",
      "\u001b[34m\u001b[1mwandb\u001b[0m: \tstride_inside_seq: 1\n",
      "\u001b[34m\u001b[1mwandb\u001b[0m: \tunit_gru0: 128\n"
     ]
    },
    {
     "data": {
      "text/html": [
       "Tracking run with wandb version 0.13.5"
      ],
      "text/plain": [
       "<IPython.core.display.HTML object>"
      ]
     },
     "metadata": {},
     "output_type": "display_data"
    },
    {
     "data": {
      "text/html": [
       "Run data is saved locally in <code>/aiffel/aiffel/aiffelthon/wandb/run-20221113_093031-7dmxl3wz</code>"
      ],
      "text/plain": [
       "<IPython.core.display.HTML object>"
      ]
     },
     "metadata": {},
     "output_type": "display_data"
    },
    {
     "data": {
      "text/html": [
       "Syncing run <strong><a href=\"https://wandb.ai/chhyyi/redzone_gru_sweep/runs/7dmxl3wz\" target=\"_blank\">crisp-sweep-3</a></strong> to <a href=\"https://wandb.ai/chhyyi/redzone_gru_sweep\" target=\"_blank\">Weights & Biases</a> (<a href=\"https://wandb.me/run\" target=\"_blank\">docs</a>)<br/>Sweep page:  <a href=\"https://wandb.ai/chhyyi/redzone_gru_sweep/sweeps/5qc8l882\" target=\"_blank\">https://wandb.ai/chhyyi/redzone_gru_sweep/sweeps/5qc8l882</a>"
      ],
      "text/plain": [
       "<IPython.core.display.HTML object>"
      ]
     },
     "metadata": {},
     "output_type": "display_data"
    },
    {
     "name": "stdout",
     "output_type": "stream",
     "text": [
      "loaded dataset. Generating sequences\n",
      "Any missing values exist: False\n",
      "train dataset columns: Index(['풍속(m/s)', '풍향(deg)', '기온(°C)', '수온(°C)', '강수량(mm)', '풍속(m/s).1',\n",
      "       '풍향(deg).1', '기온(°C).1', '수온(°C).1', '강수량(mm).1', '풍속(m/s).2',\n",
      "       '풍향(deg).2', '기온(°C).2', '수온(°C).2', '강수량(mm).2', '풍속(m/s).3',\n",
      "       '풍향(deg).3', '기온(°C).3', '수온(°C).3', '강수량(mm).3', '풍속(m/s).4',\n",
      "       '풍향(deg).4', '기온(°C).4', '수온(°C).4', '강수량(mm).4', '적조발생'],\n",
      "      dtype='object')\n",
      "12566 25133\n",
      "(12566, 72, 25) (12567, 72, 25) (12566, 72) (12567, 72) \n",
      "\n",
      "\n",
      "Epoch 1/12\n",
      "197/197 [==============================] - 3s 11ms/step - loss: 0.1341 - val_loss: 0.3726\n"
     ]
    },
    {
     "name": "stderr",
     "output_type": "stream",
     "text": [
      "WARNING:absl:Found untraced functions such as gru_cell_layer_call_and_return_conditional_losses, gru_cell_layer_call_fn, gru_cell_layer_call_fn, gru_cell_layer_call_and_return_conditional_losses, gru_cell_layer_call_and_return_conditional_losses while saving (showing 5 of 5). These functions will not be directly callable after loading.\n",
      "\u001b[34m\u001b[1mwandb\u001b[0m: Adding directory to artifact (/aiffel/aiffel/aiffelthon/wandb/run-20221113_093031-7dmxl3wz/files/model-best)... Done. 0.0s\n"
     ]
    },
    {
     "name": "stdout",
     "output_type": "stream",
     "text": [
      "sequence accuracy is 0.9200452242646083\n",
      "Epoch 2/12\n",
      "197/197 [==============================] - 2s 8ms/step - loss: 0.0548 - val_loss: 0.4278\n",
      "sequence accuracy is 0.9135743525812755\n",
      "Epoch 3/12\n",
      "197/197 [==============================] - 2s 8ms/step - loss: 0.0261 - val_loss: 0.5615\n",
      "sequence accuracy is 0.9041581567244017\n",
      "Epoch 4/12\n",
      "197/197 [==============================] - 2s 8ms/step - loss: 0.0157 - val_loss: 0.5728\n",
      "sequence accuracy is 0.9184106522373412\n",
      "Epoch 5/12\n",
      "197/197 [==============================] - 2s 8ms/step - loss: 0.0078 - val_loss: 0.6835\n",
      "sequence accuracy is 0.917790642158033\n",
      "Epoch 6/12\n",
      "197/197 [==============================] - 2s 8ms/step - loss: 0.0048 - val_loss: 0.7823\n",
      "sequence accuracy is 0.923644819323979\n",
      "Epoch 7/12\n",
      "197/197 [==============================] - 2s 8ms/step - loss: 0.0061 - val_loss: 0.6454\n",
      "sequence accuracy is 0.9203292574025446\n",
      "Epoch 8/12\n",
      "197/197 [==============================] - 2s 8ms/step - loss: 0.0029 - val_loss: 0.7185\n",
      "sequence accuracy is 0.9196970902628577\n",
      "Epoch 9/12\n",
      "197/197 [==============================] - 2s 8ms/step - loss: 0.0101 - val_loss: 0.4392\n",
      "sequence accuracy is 0.9225948913821914\n",
      "Epoch 10/12\n",
      "197/197 [==============================] - 2s 8ms/step - loss: 0.0190 - val_loss: 0.6474\n",
      "sequence accuracy is 0.9182426637666552\n",
      "Epoch 11/12\n",
      "197/197 [==============================] - 2s 8ms/step - loss: 0.0036 - val_loss: 0.6915\n",
      "sequence accuracy is 0.9213858164681751\n",
      "Epoch 12/12\n",
      "197/197 [==============================] - 2s 8ms/step - loss: 0.0022 - val_loss: 0.7118\n",
      "sequence accuracy is 0.9210067372218244\n"
     ]
    },
    {
     "data": {
      "text/html": [
       "Waiting for W&B process to finish... <strong style=\"color:green\">(success).</strong>"
      ],
      "text/plain": [
       "<IPython.core.display.HTML object>"
      ]
     },
     "metadata": {},
     "output_type": "display_data"
    },
    {
     "data": {
      "text/html": [
       "<style>\n",
       "    table.wandb td:nth-child(1) { padding: 0 10px; text-align: left ; width: auto;} td:nth-child(2) {text-align: left ; width: 100%}\n",
       "    .wandb-row { display: flex; flex-direction: row; flex-wrap: wrap; justify-content: flex-start; width: 100% }\n",
       "    .wandb-col { display: flex; flex-direction: column; flex-basis: 100%; flex: 1; padding: 10px; }\n",
       "    </style>\n",
       "<div class=\"wandb-row\"><div class=\"wandb-col\"><h3>Run history:</h3><br/><table class=\"wandb\"><tr><td>Validation Acc :</td><td>▁</td></tr><tr><td>epoch</td><td>▁▂▂▃▄▄▅▅▆▇▇█</td></tr><tr><td>loss</td><td>█▄▂▂▁▁▁▁▁▂▁▁</td></tr><tr><td>val_loss</td><td>▁▂▄▄▆█▆▇▂▆▆▇</td></tr></table><br/></div><div class=\"wandb-col\"><h3>Run summary:</h3><br/><table class=\"wandb\"><tr><td>Validation Acc :</td><td>0.92101</td></tr><tr><td>best_epoch</td><td>0</td></tr><tr><td>best_val_loss</td><td>0.37265</td></tr><tr><td>epoch</td><td>11</td></tr><tr><td>loss</td><td>0.00222</td></tr><tr><td>val_loss</td><td>0.7118</td></tr></table><br/></div></div>"
      ],
      "text/plain": [
       "<IPython.core.display.HTML object>"
      ]
     },
     "metadata": {},
     "output_type": "display_data"
    },
    {
     "data": {
      "text/html": [
       "Synced <strong style=\"color:#cdcd00\">crisp-sweep-3</strong>: <a href=\"https://wandb.ai/chhyyi/redzone_gru_sweep/runs/7dmxl3wz\" target=\"_blank\">https://wandb.ai/chhyyi/redzone_gru_sweep/runs/7dmxl3wz</a><br/>Synced 5 W&B file(s), 1 media file(s), 4 artifact file(s) and 1 other file(s)"
      ],
      "text/plain": [
       "<IPython.core.display.HTML object>"
      ]
     },
     "metadata": {},
     "output_type": "display_data"
    },
    {
     "data": {
      "text/html": [
       "Find logs at: <code>./wandb/run-20221113_093031-7dmxl3wz/logs</code>"
      ],
      "text/plain": [
       "<IPython.core.display.HTML object>"
      ]
     },
     "metadata": {},
     "output_type": "display_data"
    },
    {
     "name": "stderr",
     "output_type": "stream",
     "text": [
      "\u001b[34m\u001b[1mwandb\u001b[0m: Agent Starting Run: i1jeg4ab with config:\n",
      "\u001b[34m\u001b[1mwandb\u001b[0m: \tepochs: 14\n",
      "\u001b[34m\u001b[1mwandb\u001b[0m: \tlearning_rate: 0.0008658412247150072\n",
      "\u001b[34m\u001b[1mwandb\u001b[0m: \tsplit_train_ratio: 0.8\n",
      "\u001b[34m\u001b[1mwandb\u001b[0m: \tstride_inside_seq: 1\n",
      "\u001b[34m\u001b[1mwandb\u001b[0m: \tunit_gru0: 32\n"
     ]
    },
    {
     "data": {
      "text/html": [
       "Tracking run with wandb version 0.13.5"
      ],
      "text/plain": [
       "<IPython.core.display.HTML object>"
      ]
     },
     "metadata": {},
     "output_type": "display_data"
    },
    {
     "data": {
      "text/html": [
       "Run data is saved locally in <code>/aiffel/aiffel/aiffelthon/wandb/run-20221113_093353-i1jeg4ab</code>"
      ],
      "text/plain": [
       "<IPython.core.display.HTML object>"
      ]
     },
     "metadata": {},
     "output_type": "display_data"
    },
    {
     "data": {
      "text/html": [
       "Syncing run <strong><a href=\"https://wandb.ai/chhyyi/redzone_gru_sweep/runs/i1jeg4ab\" target=\"_blank\">morning-sweep-4</a></strong> to <a href=\"https://wandb.ai/chhyyi/redzone_gru_sweep\" target=\"_blank\">Weights & Biases</a> (<a href=\"https://wandb.me/run\" target=\"_blank\">docs</a>)<br/>Sweep page:  <a href=\"https://wandb.ai/chhyyi/redzone_gru_sweep/sweeps/5qc8l882\" target=\"_blank\">https://wandb.ai/chhyyi/redzone_gru_sweep/sweeps/5qc8l882</a>"
      ],
      "text/plain": [
       "<IPython.core.display.HTML object>"
      ]
     },
     "metadata": {},
     "output_type": "display_data"
    },
    {
     "name": "stdout",
     "output_type": "stream",
     "text": [
      "loaded dataset. Generating sequences\n",
      "Any missing values exist: False\n",
      "train dataset columns: Index(['풍속(m/s)', '풍향(deg)', '기온(°C)', '수온(°C)', '강수량(mm)', '풍속(m/s).1',\n",
      "       '풍향(deg).1', '기온(°C).1', '수온(°C).1', '강수량(mm).1', '풍속(m/s).2',\n",
      "       '풍향(deg).2', '기온(°C).2', '수온(°C).2', '강수량(mm).2', '풍속(m/s).3',\n",
      "       '풍향(deg).3', '기온(°C).3', '수온(°C).3', '강수량(mm).3', '풍속(m/s).4',\n",
      "       '풍향(deg).4', '기온(°C).4', '수온(°C).4', '강수량(mm).4', '적조발생'],\n",
      "      dtype='object')\n",
      "20106 25133\n",
      "(20106, 72, 25) (5027, 72, 25) (20106, 72) (5027, 72) \n",
      "\n",
      "\n",
      "Epoch 1/14\n",
      "315/315 [==============================] - 3s 6ms/step - loss: 0.2915 - val_loss: 0.2225\n"
     ]
    },
    {
     "name": "stderr",
     "output_type": "stream",
     "text": [
      "WARNING:absl:Found untraced functions such as gru_cell_layer_call_and_return_conditional_losses, gru_cell_layer_call_fn, gru_cell_layer_call_fn, gru_cell_layer_call_and_return_conditional_losses, gru_cell_layer_call_and_return_conditional_losses while saving (showing 5 of 5). These functions will not be directly callable after loading.\n",
      "\u001b[34m\u001b[1mwandb\u001b[0m: Adding directory to artifact (/aiffel/aiffel/aiffelthon/wandb/run-20221113_093353-i1jeg4ab/files/model-best)... Done. 0.0s\n"
     ]
    },
    {
     "name": "stdout",
     "output_type": "stream",
     "text": [
      "sequence accuracy is 0.9100385695024644\n",
      "Epoch 2/14\n",
      "315/315 [==============================] - 2s 5ms/step - loss: 0.1517 - val_loss: 0.2023\n"
     ]
    },
    {
     "name": "stderr",
     "output_type": "stream",
     "text": [
      "WARNING:absl:Found untraced functions such as gru_cell_layer_call_and_return_conditional_losses, gru_cell_layer_call_fn, gru_cell_layer_call_fn, gru_cell_layer_call_and_return_conditional_losses, gru_cell_layer_call_and_return_conditional_losses while saving (showing 5 of 5). These functions will not be directly callable after loading.\n",
      "\u001b[34m\u001b[1mwandb\u001b[0m: Adding directory to artifact (/aiffel/aiffel/aiffelthon/wandb/run-20221113_093353-i1jeg4ab/files/model-best)... Done. 0.0s\n"
     ]
    },
    {
     "name": "stdout",
     "output_type": "stream",
     "text": [
      "sequence accuracy is 0.9022500718343169\n",
      "Epoch 3/14\n",
      "315/315 [==============================] - 2s 6ms/step - loss: 0.0975 - val_loss: 0.1692\n"
     ]
    },
    {
     "name": "stderr",
     "output_type": "stream",
     "text": [
      "WARNING:absl:Found untraced functions such as gru_cell_layer_call_and_return_conditional_losses, gru_cell_layer_call_fn, gru_cell_layer_call_fn, gru_cell_layer_call_and_return_conditional_losses, gru_cell_layer_call_and_return_conditional_losses while saving (showing 5 of 5). These functions will not be directly callable after loading.\n",
      "\u001b[34m\u001b[1mwandb\u001b[0m: Adding directory to artifact (/aiffel/aiffel/aiffelthon/wandb/run-20221113_093353-i1jeg4ab/files/model-best)... Done. 0.0s\n"
     ]
    },
    {
     "name": "stdout",
     "output_type": "stream",
     "text": [
      "sequence accuracy is 0.9223802577194262\n",
      "Epoch 4/14\n",
      "315/315 [==============================] - 2s 5ms/step - loss: 0.0670 - val_loss: 0.1960\n",
      "sequence accuracy is 0.9132269080299715\n",
      "Epoch 5/14\n",
      "315/315 [==============================] - 2s 5ms/step - loss: 0.0596 - val_loss: 0.1791\n",
      "sequence accuracy is 0.9286353690073602\n",
      "Epoch 6/14\n",
      "315/315 [==============================] - 2s 5ms/step - loss: 0.0481 - val_loss: 0.2043\n",
      "sequence accuracy is 0.9236401211237097\n",
      "Epoch 7/14\n",
      "315/315 [==============================] - 2s 5ms/step - loss: 0.0329 - val_loss: 0.2159\n",
      "sequence accuracy is 0.9272456512609686\n",
      "Epoch 8/14\n",
      "315/315 [==============================] - 2s 5ms/step - loss: 0.0306 - val_loss: 0.2027\n",
      "sequence accuracy is 0.924173352783856\n",
      "Epoch 9/14\n",
      "315/315 [==============================] - 2s 5ms/step - loss: 0.0274 - val_loss: 0.2147\n",
      "sequence accuracy is 0.9280109630219039\n",
      "Epoch 10/14\n",
      "315/315 [==============================] - 2s 5ms/step - loss: 0.0246 - val_loss: 0.1960\n",
      "sequence accuracy is 0.9390099020843004\n",
      "Epoch 11/14\n",
      "315/315 [==============================] - 2s 5ms/step - loss: 0.0212 - val_loss: 0.1981\n",
      "sequence accuracy is 0.9299339124284419\n",
      "Epoch 12/14\n",
      "315/315 [==============================] - ETA: 0s - loss: 0.026 - 2s 5ms/step - loss: 0.0267 - val_loss: 0.1782\n",
      "sequence accuracy is 0.9321303848109099\n",
      "Epoch 13/14\n",
      "315/315 [==============================] - 2s 5ms/step - loss: 0.0194 - val_loss: 0.2236\n",
      "sequence accuracy is 0.9306080498640674\n",
      "Epoch 14/14\n",
      "315/315 [==============================] - 2s 6ms/step - loss: 0.0173 - val_loss: 0.2108\n",
      "sequence accuracy is 0.9239329841080388\n"
     ]
    },
    {
     "data": {
      "text/html": [
       "Waiting for W&B process to finish... <strong style=\"color:green\">(success).</strong>"
      ],
      "text/plain": [
       "<IPython.core.display.HTML object>"
      ]
     },
     "metadata": {},
     "output_type": "display_data"
    },
    {
     "data": {
      "text/html": [
       "<style>\n",
       "    table.wandb td:nth-child(1) { padding: 0 10px; text-align: left ; width: auto;} td:nth-child(2) {text-align: left ; width: 100%}\n",
       "    .wandb-row { display: flex; flex-direction: row; flex-wrap: wrap; justify-content: flex-start; width: 100% }\n",
       "    .wandb-col { display: flex; flex-direction: column; flex-basis: 100%; flex: 1; padding: 10px; }\n",
       "    </style>\n",
       "<div class=\"wandb-row\"><div class=\"wandb-col\"><h3>Run history:</h3><br/><table class=\"wandb\"><tr><td>Validation Acc :</td><td>▁</td></tr><tr><td>epoch</td><td>▁▂▂▃▃▄▄▅▅▆▆▇▇█</td></tr><tr><td>loss</td><td>█▄▃▂▂▂▁▁▁▁▁▁▁▁</td></tr><tr><td>val_loss</td><td>█▅▁▄▂▆▇▅▇▄▅▂█▆</td></tr></table><br/></div><div class=\"wandb-col\"><h3>Run summary:</h3><br/><table class=\"wandb\"><tr><td>Validation Acc :</td><td>0.92393</td></tr><tr><td>best_epoch</td><td>2</td></tr><tr><td>best_val_loss</td><td>0.16916</td></tr><tr><td>epoch</td><td>13</td></tr><tr><td>loss</td><td>0.01728</td></tr><tr><td>val_loss</td><td>0.21079</td></tr></table><br/></div></div>"
      ],
      "text/plain": [
       "<IPython.core.display.HTML object>"
      ]
     },
     "metadata": {},
     "output_type": "display_data"
    },
    {
     "data": {
      "text/html": [
       "Synced <strong style=\"color:#cdcd00\">morning-sweep-4</strong>: <a href=\"https://wandb.ai/chhyyi/redzone_gru_sweep/runs/i1jeg4ab\" target=\"_blank\">https://wandb.ai/chhyyi/redzone_gru_sweep/runs/i1jeg4ab</a><br/>Synced 5 W&B file(s), 1 media file(s), 10 artifact file(s) and 1 other file(s)"
      ],
      "text/plain": [
       "<IPython.core.display.HTML object>"
      ]
     },
     "metadata": {},
     "output_type": "display_data"
    },
    {
     "data": {
      "text/html": [
       "Find logs at: <code>./wandb/run-20221113_093353-i1jeg4ab/logs</code>"
      ],
      "text/plain": [
       "<IPython.core.display.HTML object>"
      ]
     },
     "metadata": {},
     "output_type": "display_data"
    },
    {
     "name": "stderr",
     "output_type": "stream",
     "text": [
      "\u001b[34m\u001b[1mwandb\u001b[0m: Agent Starting Run: zkb1bs2n with config:\n",
      "\u001b[34m\u001b[1mwandb\u001b[0m: \tepochs: 10\n",
      "\u001b[34m\u001b[1mwandb\u001b[0m: \tlearning_rate: 0.001173281143289179\n",
      "\u001b[34m\u001b[1mwandb\u001b[0m: \tsplit_train_ratio: 0.5\n",
      "\u001b[34m\u001b[1mwandb\u001b[0m: \tstride_inside_seq: 9\n",
      "\u001b[34m\u001b[1mwandb\u001b[0m: \tunit_gru0: 256\n"
     ]
    },
    {
     "data": {
      "text/html": [
       "Tracking run with wandb version 0.13.5"
      ],
      "text/plain": [
       "<IPython.core.display.HTML object>"
      ]
     },
     "metadata": {},
     "output_type": "display_data"
    },
    {
     "data": {
      "text/html": [
       "Run data is saved locally in <code>/aiffel/aiffel/aiffelthon/wandb/run-20221113_093740-zkb1bs2n</code>"
      ],
      "text/plain": [
       "<IPython.core.display.HTML object>"
      ]
     },
     "metadata": {},
     "output_type": "display_data"
    },
    {
     "data": {
      "text/html": [
       "Syncing run <strong><a href=\"https://wandb.ai/chhyyi/redzone_gru_sweep/runs/zkb1bs2n\" target=\"_blank\">clear-sweep-5</a></strong> to <a href=\"https://wandb.ai/chhyyi/redzone_gru_sweep\" target=\"_blank\">Weights & Biases</a> (<a href=\"https://wandb.me/run\" target=\"_blank\">docs</a>)<br/>Sweep page:  <a href=\"https://wandb.ai/chhyyi/redzone_gru_sweep/sweeps/5qc8l882\" target=\"_blank\">https://wandb.ai/chhyyi/redzone_gru_sweep/sweeps/5qc8l882</a>"
      ],
      "text/plain": [
       "<IPython.core.display.HTML object>"
      ]
     },
     "metadata": {},
     "output_type": "display_data"
    },
    {
     "name": "stdout",
     "output_type": "stream",
     "text": [
      "loaded dataset. Generating sequences\n",
      "Any missing values exist: False\n",
      "train dataset columns: Index(['풍속(m/s)', '풍향(deg)', '기온(°C)', '수온(°C)', '강수량(mm)', '풍속(m/s).1',\n",
      "       '풍향(deg).1', '기온(°C).1', '수온(°C).1', '강수량(mm).1', '풍속(m/s).2',\n",
      "       '풍향(deg).2', '기온(°C).2', '수온(°C).2', '강수량(mm).2', '풍속(m/s).3',\n",
      "       '풍향(deg).3', '기온(°C).3', '수온(°C).3', '강수량(mm).3', '풍속(m/s).4',\n",
      "       '풍향(deg).4', '기온(°C).4', '수온(°C).4', '강수량(mm).4', '적조발생'],\n",
      "      dtype='object')\n",
      "12566 25133\n",
      "(12566, 8, 25) (12567, 8, 25) (12566, 8) (12567, 8) \n",
      "\n",
      "\n",
      "Epoch 1/10\n",
      "197/197 [==============================] - 3s 9ms/step - loss: 0.1494 - val_loss: 0.3893\n"
     ]
    },
    {
     "name": "stderr",
     "output_type": "stream",
     "text": [
      "WARNING:absl:Found untraced functions such as gru_cell_layer_call_and_return_conditional_losses, gru_cell_layer_call_fn, gru_cell_layer_call_fn, gru_cell_layer_call_and_return_conditional_losses, gru_cell_layer_call_and_return_conditional_losses while saving (showing 5 of 5). These functions will not be directly callable after loading.\n",
      "\u001b[34m\u001b[1mwandb\u001b[0m: Adding directory to artifact (/aiffel/aiffel/aiffelthon/wandb/run-20221113_093740-zkb1bs2n/files/model-best)... Done. 0.1s\n"
     ]
    },
    {
     "name": "stdout",
     "output_type": "stream",
     "text": [
      "sequence accuracy is 0.9272300469483568\n",
      "Epoch 2/10\n",
      "197/197 [==============================] - 1s 5ms/step - loss: 0.0938 - val_loss: 0.4243\n",
      "sequence accuracy is 0.9250318293944457\n",
      "Epoch 3/10\n",
      "197/197 [==============================] - 1s 5ms/step - loss: 0.0717 - val_loss: 0.5105\n",
      "sequence accuracy is 0.923858120474258\n",
      "Epoch 4/10\n",
      "197/197 [==============================] - 1s 5ms/step - loss: 0.0399 - val_loss: 0.5664\n",
      "sequence accuracy is 0.9333969921222248\n",
      "Epoch 5/10\n",
      "197/197 [==============================] - 1s 5ms/step - loss: 0.0268 - val_loss: 0.5848\n",
      "sequence accuracy is 0.9291994907296889\n",
      "Epoch 6/10\n",
      "197/197 [==============================] - 1s 5ms/step - loss: 0.0187 - val_loss: 0.7252\n",
      "sequence accuracy is 0.9234403596721572\n",
      "Epoch 7/10\n",
      "197/197 [==============================] - 1s 5ms/step - loss: 0.0148 - val_loss: 0.6933\n",
      "sequence accuracy is 0.9305920267366913\n",
      "Epoch 8/10\n",
      "197/197 [==============================] - 1s 5ms/step - loss: 0.0104 - val_loss: 0.7989\n",
      "sequence accuracy is 0.9254794302538394\n",
      "Epoch 9/10\n",
      "197/197 [==============================] - 1s 5ms/step - loss: 0.0069 - val_loss: 0.7818\n",
      "sequence accuracy is 0.9261458582000477\n",
      "Epoch 10/10\n",
      "197/197 [==============================] - 1s 5ms/step - loss: 0.0095 - val_loss: 0.7309\n",
      "sequence accuracy is 0.9243455080767088\n"
     ]
    },
    {
     "data": {
      "text/html": [
       "Waiting for W&B process to finish... <strong style=\"color:green\">(success).</strong>"
      ],
      "text/plain": [
       "<IPython.core.display.HTML object>"
      ]
     },
     "metadata": {},
     "output_type": "display_data"
    },
    {
     "data": {
      "text/html": [
       "<style>\n",
       "    table.wandb td:nth-child(1) { padding: 0 10px; text-align: left ; width: auto;} td:nth-child(2) {text-align: left ; width: 100%}\n",
       "    .wandb-row { display: flex; flex-direction: row; flex-wrap: wrap; justify-content: flex-start; width: 100% }\n",
       "    .wandb-col { display: flex; flex-direction: column; flex-basis: 100%; flex: 1; padding: 10px; }\n",
       "    </style>\n",
       "<div class=\"wandb-row\"><div class=\"wandb-col\"><h3>Run history:</h3><br/><table class=\"wandb\"><tr><td>Validation Acc :</td><td>▁</td></tr><tr><td>epoch</td><td>▁▂▃▃▄▅▆▆▇█</td></tr><tr><td>loss</td><td>█▅▄▃▂▂▁▁▁▁</td></tr><tr><td>val_loss</td><td>▁▂▃▄▄▇▆██▇</td></tr></table><br/></div><div class=\"wandb-col\"><h3>Run summary:</h3><br/><table class=\"wandb\"><tr><td>Validation Acc :</td><td>0.92435</td></tr><tr><td>best_epoch</td><td>0</td></tr><tr><td>best_val_loss</td><td>0.38926</td></tr><tr><td>epoch</td><td>9</td></tr><tr><td>loss</td><td>0.00946</td></tr><tr><td>val_loss</td><td>0.7309</td></tr></table><br/></div></div>"
      ],
      "text/plain": [
       "<IPython.core.display.HTML object>"
      ]
     },
     "metadata": {},
     "output_type": "display_data"
    },
    {
     "data": {
      "text/html": [
       "Synced <strong style=\"color:#cdcd00\">clear-sweep-5</strong>: <a href=\"https://wandb.ai/chhyyi/redzone_gru_sweep/runs/zkb1bs2n\" target=\"_blank\">https://wandb.ai/chhyyi/redzone_gru_sweep/runs/zkb1bs2n</a><br/>Synced 5 W&B file(s), 1 media file(s), 4 artifact file(s) and 1 other file(s)"
      ],
      "text/plain": [
       "<IPython.core.display.HTML object>"
      ]
     },
     "metadata": {},
     "output_type": "display_data"
    },
    {
     "data": {
      "text/html": [
       "Find logs at: <code>./wandb/run-20221113_093740-zkb1bs2n/logs</code>"
      ],
      "text/plain": [
       "<IPython.core.display.HTML object>"
      ]
     },
     "metadata": {},
     "output_type": "display_data"
    },
    {
     "name": "stderr",
     "output_type": "stream",
     "text": [
      "\u001b[34m\u001b[1mwandb\u001b[0m: Agent Starting Run: 794k32ge with config:\n",
      "\u001b[34m\u001b[1mwandb\u001b[0m: \tepochs: 7\n",
      "\u001b[34m\u001b[1mwandb\u001b[0m: \tlearning_rate: 0.0028807911119348964\n",
      "\u001b[34m\u001b[1mwandb\u001b[0m: \tsplit_train_ratio: 0.8\n",
      "\u001b[34m\u001b[1mwandb\u001b[0m: \tstride_inside_seq: 1\n",
      "\u001b[34m\u001b[1mwandb\u001b[0m: \tunit_gru0: 32\n"
     ]
    },
    {
     "data": {
      "text/html": [
       "Tracking run with wandb version 0.13.5"
      ],
      "text/plain": [
       "<IPython.core.display.HTML object>"
      ]
     },
     "metadata": {},
     "output_type": "display_data"
    },
    {
     "data": {
      "text/html": [
       "Run data is saved locally in <code>/aiffel/aiffel/aiffelthon/wandb/run-20221113_093854-794k32ge</code>"
      ],
      "text/plain": [
       "<IPython.core.display.HTML object>"
      ]
     },
     "metadata": {},
     "output_type": "display_data"
    },
    {
     "data": {
      "text/html": [
       "Syncing run <strong><a href=\"https://wandb.ai/chhyyi/redzone_gru_sweep/runs/794k32ge\" target=\"_blank\">proud-sweep-6</a></strong> to <a href=\"https://wandb.ai/chhyyi/redzone_gru_sweep\" target=\"_blank\">Weights & Biases</a> (<a href=\"https://wandb.me/run\" target=\"_blank\">docs</a>)<br/>Sweep page:  <a href=\"https://wandb.ai/chhyyi/redzone_gru_sweep/sweeps/5qc8l882\" target=\"_blank\">https://wandb.ai/chhyyi/redzone_gru_sweep/sweeps/5qc8l882</a>"
      ],
      "text/plain": [
       "<IPython.core.display.HTML object>"
      ]
     },
     "metadata": {},
     "output_type": "display_data"
    },
    {
     "name": "stdout",
     "output_type": "stream",
     "text": [
      "loaded dataset. Generating sequences\n",
      "Any missing values exist: False\n",
      "train dataset columns: Index(['풍속(m/s)', '풍향(deg)', '기온(°C)', '수온(°C)', '강수량(mm)', '풍속(m/s).1',\n",
      "       '풍향(deg).1', '기온(°C).1', '수온(°C).1', '강수량(mm).1', '풍속(m/s).2',\n",
      "       '풍향(deg).2', '기온(°C).2', '수온(°C).2', '강수량(mm).2', '풍속(m/s).3',\n",
      "       '풍향(deg).3', '기온(°C).3', '수온(°C).3', '강수량(mm).3', '풍속(m/s).4',\n",
      "       '풍향(deg).4', '기온(°C).4', '수온(°C).4', '강수량(mm).4', '적조발생'],\n",
      "      dtype='object')\n",
      "20106 25133\n",
      "(20106, 72, 25) (5027, 72, 25) (20106, 72) (5027, 72) \n",
      "\n",
      "\n",
      "Epoch 1/7\n",
      "315/315 [==============================] - 3s 6ms/step - loss: 0.1954 - val_loss: 0.1952\n"
     ]
    },
    {
     "name": "stderr",
     "output_type": "stream",
     "text": [
      "WARNING:absl:Found untraced functions such as gru_cell_layer_call_and_return_conditional_losses, gru_cell_layer_call_fn, gru_cell_layer_call_fn, gru_cell_layer_call_and_return_conditional_losses, gru_cell_layer_call_and_return_conditional_losses while saving (showing 5 of 5). These functions will not be directly callable after loading.\n",
      "\u001b[34m\u001b[1mwandb\u001b[0m: Adding directory to artifact (/aiffel/aiffel/aiffelthon/wandb/run-20221113_093854-794k32ge/files/model-best)... Done. 0.0s\n"
     ]
    },
    {
     "name": "stdout",
     "output_type": "stream",
     "text": [
      "sequence accuracy is 0.9021008774838096\n",
      "Epoch 2/7\n",
      "315/315 [==============================] - 2s 5ms/step - loss: 0.0730 - val_loss: 0.2031\n",
      "sequence accuracy is 0.9146525429348187\n",
      "Epoch 3/7\n",
      "315/315 [==============================] - 2s 5ms/step - loss: 0.0402 - val_loss: 0.2124\n",
      "sequence accuracy is 0.9311661472492982\n",
      "Epoch 4/7\n",
      "315/315 [==============================] - 2s 5ms/step - loss: 0.0268 - val_loss: 0.1992\n",
      "sequence accuracy is 0.9244109586013306\n",
      "Epoch 5/7\n",
      "315/315 [==============================] - 2s 5ms/step - loss: 0.0211 - val_loss: 0.2871\n",
      "sequence accuracy is 0.9069469310169529\n",
      "Epoch 6/7\n",
      "315/315 [==============================] - 2s 5ms/step - loss: 0.0191 - val_loss: 0.2629\n",
      "sequence accuracy is 0.9226979864288398\n",
      "Epoch 7/7\n",
      "315/315 [==============================] - 2s 5ms/step - loss: 0.0154 - val_loss: 0.2826\n",
      "sequence accuracy is 0.923303052405897\n"
     ]
    },
    {
     "data": {
      "text/html": [
       "Waiting for W&B process to finish... <strong style=\"color:green\">(success).</strong>"
      ],
      "text/plain": [
       "<IPython.core.display.HTML object>"
      ]
     },
     "metadata": {},
     "output_type": "display_data"
    },
    {
     "data": {
      "application/vnd.jupyter.widget-view+json": {
       "model_id": "b472c8e3f42d41809c88a903671470ee",
       "version_major": 2,
       "version_minor": 0
      },
      "text/plain": [
       "VBox(children=(Label(value='0.906 MB of 0.906 MB uploaded (0.000 MB deduped)\\r'), FloatProgress(value=1.0, max…"
      ]
     },
     "metadata": {},
     "output_type": "display_data"
    },
    {
     "data": {
      "text/html": [
       "<style>\n",
       "    table.wandb td:nth-child(1) { padding: 0 10px; text-align: left ; width: auto;} td:nth-child(2) {text-align: left ; width: 100%}\n",
       "    .wandb-row { display: flex; flex-direction: row; flex-wrap: wrap; justify-content: flex-start; width: 100% }\n",
       "    .wandb-col { display: flex; flex-direction: column; flex-basis: 100%; flex: 1; padding: 10px; }\n",
       "    </style>\n",
       "<div class=\"wandb-row\"><div class=\"wandb-col\"><h3>Run history:</h3><br/><table class=\"wandb\"><tr><td>Validation Acc :</td><td>▁</td></tr><tr><td>epoch</td><td>▁▂▃▅▆▇█</td></tr><tr><td>loss</td><td>█▃▂▁▁▁▁</td></tr><tr><td>val_loss</td><td>▁▂▂▁█▆█</td></tr></table><br/></div><div class=\"wandb-col\"><h3>Run summary:</h3><br/><table class=\"wandb\"><tr><td>Validation Acc :</td><td>0.9233</td></tr><tr><td>best_epoch</td><td>0</td></tr><tr><td>best_val_loss</td><td>0.19516</td></tr><tr><td>epoch</td><td>6</td></tr><tr><td>loss</td><td>0.01538</td></tr><tr><td>val_loss</td><td>0.28262</td></tr></table><br/></div></div>"
      ],
      "text/plain": [
       "<IPython.core.display.HTML object>"
      ]
     },
     "metadata": {},
     "output_type": "display_data"
    },
    {
     "data": {
      "text/html": [
       "Synced <strong style=\"color:#cdcd00\">proud-sweep-6</strong>: <a href=\"https://wandb.ai/chhyyi/redzone_gru_sweep/runs/794k32ge\" target=\"_blank\">https://wandb.ai/chhyyi/redzone_gru_sweep/runs/794k32ge</a><br/>Synced 5 W&B file(s), 1 media file(s), 4 artifact file(s) and 1 other file(s)"
      ],
      "text/plain": [
       "<IPython.core.display.HTML object>"
      ]
     },
     "metadata": {},
     "output_type": "display_data"
    },
    {
     "data": {
      "text/html": [
       "Find logs at: <code>./wandb/run-20221113_093854-794k32ge/logs</code>"
      ],
      "text/plain": [
       "<IPython.core.display.HTML object>"
      ]
     },
     "metadata": {},
     "output_type": "display_data"
    },
    {
     "name": "stderr",
     "output_type": "stream",
     "text": [
      "\u001b[34m\u001b[1mwandb\u001b[0m: Agent Starting Run: htcgyoew with config:\n",
      "\u001b[34m\u001b[1mwandb\u001b[0m: \tepochs: 20\n",
      "\u001b[34m\u001b[1mwandb\u001b[0m: \tlearning_rate: 0.00025038829619727573\n",
      "\u001b[34m\u001b[1mwandb\u001b[0m: \tsplit_train_ratio: 0.5\n",
      "\u001b[34m\u001b[1mwandb\u001b[0m: \tstride_inside_seq: 3\n",
      "\u001b[34m\u001b[1mwandb\u001b[0m: \tunit_gru0: 128\n"
     ]
    },
    {
     "data": {
      "application/vnd.jupyter.widget-view+json": {
       "model_id": "641e34a941644fdda207f898f1f343bb",
       "version_major": 2,
       "version_minor": 0
      },
      "text/plain": [
       "VBox(children=(Label(value='Waiting for wandb.init()...\\r'), FloatProgress(value=0.016669302749990796, max=1.0…"
      ]
     },
     "metadata": {},
     "output_type": "display_data"
    },
    {
     "data": {
      "text/html": [
       "Tracking run with wandb version 0.13.5"
      ],
      "text/plain": [
       "<IPython.core.display.HTML object>"
      ]
     },
     "metadata": {},
     "output_type": "display_data"
    },
    {
     "data": {
      "text/html": [
       "Run data is saved locally in <code>/aiffel/aiffel/aiffelthon/wandb/run-20221113_094142-htcgyoew</code>"
      ],
      "text/plain": [
       "<IPython.core.display.HTML object>"
      ]
     },
     "metadata": {},
     "output_type": "display_data"
    },
    {
     "data": {
      "text/html": [
       "Syncing run <strong><a href=\"https://wandb.ai/chhyyi/redzone_gru_sweep/runs/htcgyoew\" target=\"_blank\">stellar-sweep-7</a></strong> to <a href=\"https://wandb.ai/chhyyi/redzone_gru_sweep\" target=\"_blank\">Weights & Biases</a> (<a href=\"https://wandb.me/run\" target=\"_blank\">docs</a>)<br/>Sweep page:  <a href=\"https://wandb.ai/chhyyi/redzone_gru_sweep/sweeps/5qc8l882\" target=\"_blank\">https://wandb.ai/chhyyi/redzone_gru_sweep/sweeps/5qc8l882</a>"
      ],
      "text/plain": [
       "<IPython.core.display.HTML object>"
      ]
     },
     "metadata": {},
     "output_type": "display_data"
    },
    {
     "name": "stdout",
     "output_type": "stream",
     "text": [
      "loaded dataset. Generating sequences\n",
      "Any missing values exist: False\n",
      "train dataset columns: Index(['풍속(m/s)', '풍향(deg)', '기온(°C)', '수온(°C)', '강수량(mm)', '풍속(m/s).1',\n",
      "       '풍향(deg).1', '기온(°C).1', '수온(°C).1', '강수량(mm).1', '풍속(m/s).2',\n",
      "       '풍향(deg).2', '기온(°C).2', '수온(°C).2', '강수량(mm).2', '풍속(m/s).3',\n",
      "       '풍향(deg).3', '기온(°C).3', '수온(°C).3', '강수량(mm).3', '풍속(m/s).4',\n",
      "       '풍향(deg).4', '기온(°C).4', '수온(°C).4', '강수량(mm).4', '적조발생'],\n",
      "      dtype='object')\n",
      "12566 25133\n",
      "(12566, 24, 25) (12567, 24, 25) (12566, 24) (12567, 24) \n",
      "\n",
      "\n",
      "Epoch 1/20\n",
      "197/197 [==============================] - 3s 7ms/step - loss: 0.3243 - val_loss: 0.2708\n"
     ]
    },
    {
     "name": "stderr",
     "output_type": "stream",
     "text": [
      "WARNING:absl:Found untraced functions such as gru_cell_layer_call_and_return_conditional_losses, gru_cell_layer_call_fn, gru_cell_layer_call_fn, gru_cell_layer_call_and_return_conditional_losses, gru_cell_layer_call_and_return_conditional_losses while saving (showing 5 of 5). These functions will not be directly callable after loading.\n",
      "\u001b[34m\u001b[1mwandb\u001b[0m: Adding directory to artifact (/aiffel/aiffel/aiffelthon/wandb/run-20221113_094142-htcgyoew/files/model-best)... Done. 0.0s\n"
     ]
    },
    {
     "name": "stdout",
     "output_type": "stream",
     "text": [
      "sequence accuracy is 0.9265569878783056\n",
      "Epoch 2/20\n",
      "197/197 [==============================] - 1s 6ms/step - loss: 0.1095 - val_loss: 0.2934\n",
      "sequence accuracy is 0.9270742155380494\n",
      "Epoch 3/20\n",
      "197/197 [==============================] - 1s 6ms/step - loss: 0.0882 - val_loss: 0.3563\n",
      "sequence accuracy is 0.8765450518553884\n",
      "Epoch 4/20\n",
      "197/197 [==============================] - 1s 6ms/step - loss: 0.0755 - val_loss: 0.3386\n",
      "sequence accuracy is 0.9144817113604413\n",
      "Epoch 5/20\n",
      "197/197 [==============================] - 1s 6ms/step - loss: 0.0658 - val_loss: 0.3611\n",
      "sequence accuracy is 0.9220710325986048\n",
      "Epoch 6/20\n",
      "197/197 [==============================] - 1s 6ms/step - loss: 0.0608 - val_loss: 0.3687\n",
      "sequence accuracy is 0.9335461924086894\n",
      "Epoch 7/20\n",
      "197/197 [==============================] - 1s 6ms/step - loss: 0.0481 - val_loss: 0.4145\n",
      "sequence accuracy is 0.9193290628895785\n",
      "Epoch 8/20\n",
      "197/197 [==============================] - 1s 6ms/step - loss: 0.0358 - val_loss: 0.4296\n",
      "sequence accuracy is 0.9279428927614652\n",
      "Epoch 9/20\n",
      "197/197 [==============================] - 1s 6ms/step - loss: 0.0353 - val_loss: 0.4448\n",
      "sequence accuracy is 0.9252108697382032\n",
      "Epoch 10/20\n",
      "197/197 [==============================] - 1s 5ms/step - loss: 0.0251 - val_loss: 0.4484\n",
      "sequence accuracy is 0.9313081881117212\n",
      "Epoch 11/20\n",
      "197/197 [==============================] - 1s 6ms/step - loss: 0.0216 - val_loss: 0.4856\n",
      "sequence accuracy is 0.9275914431977932\n",
      "Epoch 12/20\n",
      "197/197 [==============================] - 1s 6ms/step - loss: 0.0187 - val_loss: 0.5274\n",
      "sequence accuracy is 0.9202872602848731\n",
      "Epoch 13/20\n",
      "197/197 [==============================] - 1s 6ms/step - loss: 0.0179 - val_loss: 0.5391\n",
      "sequence accuracy is 0.9314441261505\n",
      "Epoch 14/20\n",
      "197/197 [==============================] - 1s 5ms/step - loss: 0.0172 - val_loss: 0.5442\n",
      "sequence accuracy is 0.9267095037266916\n",
      "Epoch 15/20\n",
      "197/197 [==============================] - 1s 6ms/step - loss: 0.0171 - val_loss: 0.5414\n",
      "sequence accuracy is 0.9261458582000477\n",
      "Epoch 16/20\n",
      "197/197 [==============================] - 1s 5ms/step - loss: 0.0134 - val_loss: 0.5552\n",
      "sequence accuracy is 0.9229496565077849\n",
      "Epoch 17/20\n",
      "197/197 [==============================] - 1s 6ms/step - loss: 0.0128 - val_loss: 0.5800\n",
      "sequence accuracy is 0.9295012068645394\n",
      "Epoch 18/20\n",
      "197/197 [==============================] - 1s 6ms/step - loss: 0.0111 - val_loss: 0.5920\n",
      "sequence accuracy is 0.9214908092623538\n",
      "Epoch 19/20\n",
      "197/197 [==============================] - 1s 6ms/step - loss: 0.0127 - val_loss: 0.6060\n",
      "sequence accuracy is 0.9245344951062306\n",
      "Epoch 20/20\n",
      "197/197 [==============================] - 1s 6ms/step - loss: 0.0137 - val_loss: 0.5971\n",
      "sequence accuracy is 0.9272466247579639\n"
     ]
    },
    {
     "data": {
      "text/html": [
       "Waiting for W&B process to finish... <strong style=\"color:green\">(success).</strong>"
      ],
      "text/plain": [
       "<IPython.core.display.HTML object>"
      ]
     },
     "metadata": {},
     "output_type": "display_data"
    },
    {
     "data": {
      "text/html": [
       "<style>\n",
       "    table.wandb td:nth-child(1) { padding: 0 10px; text-align: left ; width: auto;} td:nth-child(2) {text-align: left ; width: 100%}\n",
       "    .wandb-row { display: flex; flex-direction: row; flex-wrap: wrap; justify-content: flex-start; width: 100% }\n",
       "    .wandb-col { display: flex; flex-direction: column; flex-basis: 100%; flex: 1; padding: 10px; }\n",
       "    </style>\n",
       "<div class=\"wandb-row\"><div class=\"wandb-col\"><h3>Run history:</h3><br/><table class=\"wandb\"><tr><td>Validation Acc :</td><td>▁</td></tr><tr><td>epoch</td><td>▁▁▂▂▂▃▃▄▄▄▅▅▅▆▆▇▇▇██</td></tr><tr><td>loss</td><td>█▃▃▂▂▂▂▂▂▁▁▁▁▁▁▁▁▁▁▁</td></tr><tr><td>val_loss</td><td>▁▁▃▂▃▃▄▄▅▅▅▆▇▇▇▇▇███</td></tr></table><br/></div><div class=\"wandb-col\"><h3>Run summary:</h3><br/><table class=\"wandb\"><tr><td>Validation Acc :</td><td>0.92725</td></tr><tr><td>best_epoch</td><td>0</td></tr><tr><td>best_val_loss</td><td>0.27077</td></tr><tr><td>epoch</td><td>19</td></tr><tr><td>loss</td><td>0.01367</td></tr><tr><td>val_loss</td><td>0.59715</td></tr></table><br/></div></div>"
      ],
      "text/plain": [
       "<IPython.core.display.HTML object>"
      ]
     },
     "metadata": {},
     "output_type": "display_data"
    },
    {
     "data": {
      "text/html": [
       "Synced <strong style=\"color:#cdcd00\">stellar-sweep-7</strong>: <a href=\"https://wandb.ai/chhyyi/redzone_gru_sweep/runs/htcgyoew\" target=\"_blank\">https://wandb.ai/chhyyi/redzone_gru_sweep/runs/htcgyoew</a><br/>Synced 5 W&B file(s), 1 media file(s), 4 artifact file(s) and 1 other file(s)"
      ],
      "text/plain": [
       "<IPython.core.display.HTML object>"
      ]
     },
     "metadata": {},
     "output_type": "display_data"
    },
    {
     "data": {
      "text/html": [
       "Find logs at: <code>./wandb/run-20221113_094142-htcgyoew/logs</code>"
      ],
      "text/plain": [
       "<IPython.core.display.HTML object>"
      ]
     },
     "metadata": {},
     "output_type": "display_data"
    },
    {
     "name": "stderr",
     "output_type": "stream",
     "text": [
      "\u001b[34m\u001b[1mwandb\u001b[0m: Sweep Agent: Waiting for job.\n",
      "\u001b[34m\u001b[1mwandb\u001b[0m: Job received.\n",
      "\u001b[34m\u001b[1mwandb\u001b[0m: Agent Starting Run: rf1z1uhm with config:\n",
      "\u001b[34m\u001b[1mwandb\u001b[0m: \tepochs: 19\n",
      "\u001b[34m\u001b[1mwandb\u001b[0m: \tlearning_rate: 0.002895316949436413\n",
      "\u001b[34m\u001b[1mwandb\u001b[0m: \tsplit_train_ratio: 0.5\n",
      "\u001b[34m\u001b[1mwandb\u001b[0m: \tstride_inside_seq: 9\n",
      "\u001b[34m\u001b[1mwandb\u001b[0m: \tunit_gru0: 32\n"
     ]
    },
    {
     "data": {
      "application/vnd.jupyter.widget-view+json": {
       "model_id": "2f6199b277644c88ac8be7987760a5f2",
       "version_major": 2,
       "version_minor": 0
      },
      "text/plain": [
       "VBox(children=(Label(value='Waiting for wandb.init()...\\r'), FloatProgress(value=0.016668993766628167, max=1.0…"
      ]
     },
     "metadata": {},
     "output_type": "display_data"
    },
    {
     "data": {
      "text/html": [
       "Tracking run with wandb version 0.13.5"
      ],
      "text/plain": [
       "<IPython.core.display.HTML object>"
      ]
     },
     "metadata": {},
     "output_type": "display_data"
    },
    {
     "data": {
      "text/html": [
       "Run data is saved locally in <code>/aiffel/aiffel/aiffelthon/wandb/run-20221113_094417-rf1z1uhm</code>"
      ],
      "text/plain": [
       "<IPython.core.display.HTML object>"
      ]
     },
     "metadata": {},
     "output_type": "display_data"
    },
    {
     "data": {
      "text/html": [
       "Syncing run <strong><a href=\"https://wandb.ai/chhyyi/redzone_gru_sweep/runs/rf1z1uhm\" target=\"_blank\">icy-sweep-8</a></strong> to <a href=\"https://wandb.ai/chhyyi/redzone_gru_sweep\" target=\"_blank\">Weights & Biases</a> (<a href=\"https://wandb.me/run\" target=\"_blank\">docs</a>)<br/>Sweep page:  <a href=\"https://wandb.ai/chhyyi/redzone_gru_sweep/sweeps/5qc8l882\" target=\"_blank\">https://wandb.ai/chhyyi/redzone_gru_sweep/sweeps/5qc8l882</a>"
      ],
      "text/plain": [
       "<IPython.core.display.HTML object>"
      ]
     },
     "metadata": {},
     "output_type": "display_data"
    },
    {
     "name": "stdout",
     "output_type": "stream",
     "text": [
      "loaded dataset. Generating sequences\n",
      "Any missing values exist: False\n",
      "train dataset columns: Index(['풍속(m/s)', '풍향(deg)', '기온(°C)', '수온(°C)', '강수량(mm)', '풍속(m/s).1',\n",
      "       '풍향(deg).1', '기온(°C).1', '수온(°C).1', '강수량(mm).1', '풍속(m/s).2',\n",
      "       '풍향(deg).2', '기온(°C).2', '수온(°C).2', '강수량(mm).2', '풍속(m/s).3',\n",
      "       '풍향(deg).3', '기온(°C).3', '수온(°C).3', '강수량(mm).3', '풍속(m/s).4',\n",
      "       '풍향(deg).4', '기온(°C).4', '수온(°C).4', '강수량(mm).4', '적조발생'],\n",
      "      dtype='object')\n",
      "12566 25133\n",
      "(12566, 8, 25) (12567, 8, 25) (12566, 8) (12567, 8) \n",
      "\n",
      "\n",
      "Epoch 1/19\n",
      "197/197 [==============================] - 2s 6ms/step - loss: 0.1743 - val_loss: 0.2857\n"
     ]
    },
    {
     "name": "stderr",
     "output_type": "stream",
     "text": [
      "WARNING:absl:Found untraced functions such as gru_cell_layer_call_and_return_conditional_losses, gru_cell_layer_call_fn, gru_cell_layer_call_fn, gru_cell_layer_call_and_return_conditional_losses, gru_cell_layer_call_and_return_conditional_losses while saving (showing 5 of 5). These functions will not be directly callable after loading.\n",
      "\u001b[34m\u001b[1mwandb\u001b[0m: Adding directory to artifact (/aiffel/aiffel/aiffelthon/wandb/run-20221113_094417-rf1z1uhm/files/model-best)... Done. 0.0s\n"
     ]
    },
    {
     "name": "stdout",
     "output_type": "stream",
     "text": [
      "sequence accuracy is 0.9293785310734464\n",
      "Epoch 2/19\n",
      "197/197 [==============================] - 1s 5ms/step - loss: 0.0731 - val_loss: 0.3479\n",
      "sequence accuracy is 0.911464550011936\n",
      "Epoch 3/19\n",
      "197/197 [==============================] - 1s 4ms/step - loss: 0.0505 - val_loss: 0.4222\n",
      "sequence accuracy is 0.9129366595050529\n",
      "Epoch 4/19\n",
      "197/197 [==============================] - 1s 5ms/step - loss: 0.0341 - val_loss: 0.4431\n",
      "sequence accuracy is 0.9115441234980505\n",
      "Epoch 5/19\n",
      "197/197 [==============================] - 1s 4ms/step - loss: 0.0271 - val_loss: 0.4929\n",
      "sequence accuracy is 0.9253401766531392\n",
      "Epoch 6/19\n",
      "197/197 [==============================] - 1s 4ms/step - loss: 0.0203 - val_loss: 0.4943\n",
      "sequence accuracy is 0.9299753322193045\n",
      "Epoch 7/19\n",
      "197/197 [==============================] - 1s 4ms/step - loss: 0.0160 - val_loss: 0.4973\n",
      "sequence accuracy is 0.9260861780854619\n",
      "Epoch 8/19\n",
      "197/197 [==============================] - 1s 4ms/step - loss: 0.0133 - val_loss: 0.5233\n",
      "sequence accuracy is 0.9317160022280576\n",
      "Epoch 9/19\n",
      "197/197 [==============================] - 1s 4ms/step - loss: 0.0115 - val_loss: 0.5656\n",
      "sequence accuracy is 0.9289707169571099\n",
      "Epoch 10/19\n",
      "197/197 [==============================] - 1s 4ms/step - loss: 0.0110 - val_loss: 0.5600\n",
      "sequence accuracy is 0.9219881435505689\n",
      "Epoch 11/19\n",
      "197/197 [==============================] - 1s 4ms/step - loss: 0.0088 - val_loss: 0.6026\n",
      "sequence accuracy is 0.9284335959258375\n",
      "Epoch 12/19\n",
      "197/197 [==============================] - 1s 6ms/step - loss: 0.0070 - val_loss: 0.6205\n",
      "sequence accuracy is 0.9300549057054189\n",
      "Epoch 13/19\n",
      "197/197 [==============================] - 1s 4ms/step - loss: 0.0087 - val_loss: 0.6359\n",
      "sequence accuracy is 0.9322431765735657\n",
      "Epoch 14/19\n",
      "197/197 [==============================] - 1s 5ms/step - loss: 0.0056 - val_loss: 0.6641\n",
      "sequence accuracy is 0.9331284316065886\n",
      "Epoch 15/19\n",
      "197/197 [==============================] - 1s 4ms/step - loss: 0.0049 - val_loss: 0.6852\n",
      "sequence accuracy is 0.9314673350839501\n",
      "Epoch 16/19\n",
      "197/197 [==============================] - 1s 4ms/step - loss: 0.0045 - val_loss: 0.7024\n",
      "sequence accuracy is 0.9314872284554786\n",
      "Epoch 17/19\n",
      "197/197 [==============================] - 1s 4ms/step - loss: 0.0048 - val_loss: 0.7216\n",
      "sequence accuracy is 0.9270012731757779\n",
      "Epoch 18/19\n",
      "197/197 [==============================] - 1s 4ms/step - loss: 0.0033 - val_loss: 0.7541\n",
      "sequence accuracy is 0.9293188509588605\n",
      "Epoch 19/19\n",
      "197/197 [==============================] - 1s 4ms/step - loss: 0.0082 - val_loss: 0.7153\n",
      "sequence accuracy is 0.923728813559322\n"
     ]
    },
    {
     "data": {
      "text/html": [
       "Waiting for W&B process to finish... <strong style=\"color:green\">(success).</strong>"
      ],
      "text/plain": [
       "<IPython.core.display.HTML object>"
      ]
     },
     "metadata": {},
     "output_type": "display_data"
    },
    {
     "data": {
      "application/vnd.jupyter.widget-view+json": {
       "model_id": "f95e78518cec431db653dd8a4cb95861",
       "version_major": 2,
       "version_minor": 0
      },
      "text/plain": [
       "VBox(children=(Label(value='0.858 MB of 0.858 MB uploaded (0.000 MB deduped)\\r'), FloatProgress(value=1.0, max…"
      ]
     },
     "metadata": {},
     "output_type": "display_data"
    },
    {
     "data": {
      "text/html": [
       "<style>\n",
       "    table.wandb td:nth-child(1) { padding: 0 10px; text-align: left ; width: auto;} td:nth-child(2) {text-align: left ; width: 100%}\n",
       "    .wandb-row { display: flex; flex-direction: row; flex-wrap: wrap; justify-content: flex-start; width: 100% }\n",
       "    .wandb-col { display: flex; flex-direction: column; flex-basis: 100%; flex: 1; padding: 10px; }\n",
       "    </style>\n",
       "<div class=\"wandb-row\"><div class=\"wandb-col\"><h3>Run history:</h3><br/><table class=\"wandb\"><tr><td>Validation Acc :</td><td>▁</td></tr><tr><td>epoch</td><td>▁▁▂▂▃▃▃▄▄▅▅▅▆▆▆▇▇██</td></tr><tr><td>loss</td><td>█▄▃▂▂▂▂▁▁▁▁▁▁▁▁▁▁▁▁</td></tr><tr><td>val_loss</td><td>▁▂▃▃▄▄▄▅▅▅▆▆▆▇▇▇██▇</td></tr></table><br/></div><div class=\"wandb-col\"><h3>Run summary:</h3><br/><table class=\"wandb\"><tr><td>Validation Acc :</td><td>0.92373</td></tr><tr><td>best_epoch</td><td>0</td></tr><tr><td>best_val_loss</td><td>0.28573</td></tr><tr><td>epoch</td><td>18</td></tr><tr><td>loss</td><td>0.00818</td></tr><tr><td>val_loss</td><td>0.71533</td></tr></table><br/></div></div>"
      ],
      "text/plain": [
       "<IPython.core.display.HTML object>"
      ]
     },
     "metadata": {},
     "output_type": "display_data"
    },
    {
     "data": {
      "text/html": [
       "Synced <strong style=\"color:#cdcd00\">icy-sweep-8</strong>: <a href=\"https://wandb.ai/chhyyi/redzone_gru_sweep/runs/rf1z1uhm\" target=\"_blank\">https://wandb.ai/chhyyi/redzone_gru_sweep/runs/rf1z1uhm</a><br/>Synced 5 W&B file(s), 1 media file(s), 4 artifact file(s) and 1 other file(s)"
      ],
      "text/plain": [
       "<IPython.core.display.HTML object>"
      ]
     },
     "metadata": {},
     "output_type": "display_data"
    },
    {
     "data": {
      "text/html": [
       "Find logs at: <code>./wandb/run-20221113_094417-rf1z1uhm/logs</code>"
      ],
      "text/plain": [
       "<IPython.core.display.HTML object>"
      ]
     },
     "metadata": {},
     "output_type": "display_data"
    },
    {
     "name": "stderr",
     "output_type": "stream",
     "text": [
      "\u001b[34m\u001b[1mwandb\u001b[0m: Agent Starting Run: mlh99asi with config:\n",
      "\u001b[34m\u001b[1mwandb\u001b[0m: \tepochs: 17\n",
      "\u001b[34m\u001b[1mwandb\u001b[0m: \tlearning_rate: 0.006460577852943686\n",
      "\u001b[34m\u001b[1mwandb\u001b[0m: \tsplit_train_ratio: 0.8\n",
      "\u001b[34m\u001b[1mwandb\u001b[0m: \tstride_inside_seq: 1\n",
      "\u001b[34m\u001b[1mwandb\u001b[0m: \tunit_gru0: 32\n"
     ]
    },
    {
     "data": {
      "application/vnd.jupyter.widget-view+json": {
       "model_id": "71bdebdd65a248dfb7c86a84667e786a",
       "version_major": 2,
       "version_minor": 0
      },
      "text/plain": [
       "VBox(children=(Label(value='Waiting for wandb.init()...\\r'), FloatProgress(value=0.016668897983254282, max=1.0…"
      ]
     },
     "metadata": {},
     "output_type": "display_data"
    },
    {
     "data": {
      "text/html": [
       "Tracking run with wandb version 0.13.5"
      ],
      "text/plain": [
       "<IPython.core.display.HTML object>"
      ]
     },
     "metadata": {},
     "output_type": "display_data"
    },
    {
     "data": {
      "text/html": [
       "Run data is saved locally in <code>/aiffel/aiffel/aiffelthon/wandb/run-20221113_094557-mlh99asi</code>"
      ],
      "text/plain": [
       "<IPython.core.display.HTML object>"
      ]
     },
     "metadata": {},
     "output_type": "display_data"
    },
    {
     "data": {
      "text/html": [
       "Syncing run <strong><a href=\"https://wandb.ai/chhyyi/redzone_gru_sweep/runs/mlh99asi\" target=\"_blank\">sweepy-sweep-9</a></strong> to <a href=\"https://wandb.ai/chhyyi/redzone_gru_sweep\" target=\"_blank\">Weights & Biases</a> (<a href=\"https://wandb.me/run\" target=\"_blank\">docs</a>)<br/>Sweep page:  <a href=\"https://wandb.ai/chhyyi/redzone_gru_sweep/sweeps/5qc8l882\" target=\"_blank\">https://wandb.ai/chhyyi/redzone_gru_sweep/sweeps/5qc8l882</a>"
      ],
      "text/plain": [
       "<IPython.core.display.HTML object>"
      ]
     },
     "metadata": {},
     "output_type": "display_data"
    },
    {
     "name": "stdout",
     "output_type": "stream",
     "text": [
      "loaded dataset. Generating sequences\n",
      "Any missing values exist: False\n",
      "train dataset columns: Index(['풍속(m/s)', '풍향(deg)', '기온(°C)', '수온(°C)', '강수량(mm)', '풍속(m/s).1',\n",
      "       '풍향(deg).1', '기온(°C).1', '수온(°C).1', '강수량(mm).1', '풍속(m/s).2',\n",
      "       '풍향(deg).2', '기온(°C).2', '수온(°C).2', '강수량(mm).2', '풍속(m/s).3',\n",
      "       '풍향(deg).3', '기온(°C).3', '수온(°C).3', '강수량(mm).3', '풍속(m/s).4',\n",
      "       '풍향(deg).4', '기온(°C).4', '수온(°C).4', '강수량(mm).4', '적조발생'],\n",
      "      dtype='object')\n",
      "20106 25133\n",
      "(20106, 72, 25) (5027, 72, 25) (20106, 72) (5027, 72) \n",
      "\n",
      "\n",
      "Epoch 1/17\n",
      "315/315 [==============================] - 4s 7ms/step - loss: 0.1511 - val_loss: 0.2389\n"
     ]
    },
    {
     "name": "stderr",
     "output_type": "stream",
     "text": [
      "WARNING:absl:Found untraced functions such as gru_cell_layer_call_and_return_conditional_losses, gru_cell_layer_call_fn, gru_cell_layer_call_fn, gru_cell_layer_call_and_return_conditional_losses, gru_cell_layer_call_and_return_conditional_losses while saving (showing 5 of 5). These functions will not be directly callable after loading.\n",
      "\u001b[34m\u001b[1mwandb\u001b[0m: Adding directory to artifact (/aiffel/aiffel/aiffelthon/wandb/run-20221113_094557-mlh99asi/files/model-best)... Done. 0.0s\n"
     ]
    },
    {
     "name": "stdout",
     "output_type": "stream",
     "text": [
      "sequence accuracy is 0.8965696350816701\n",
      "Epoch 2/17\n",
      "315/315 [==============================] - 2s 5ms/step - loss: 0.0512 - val_loss: 0.2645\n",
      "sequence accuracy is 0.8869134451738391\n",
      "Epoch 3/17\n",
      "315/315 [==============================] - 2s 5ms/step - loss: 0.0325 - val_loss: 0.2905\n",
      "sequence accuracy is 0.9149343544857768\n",
      "Epoch 4/17\n",
      "315/315 [==============================] - 2s 5ms/step - loss: 0.0263 - val_loss: 0.2902\n",
      "sequence accuracy is 0.9090688062241673\n",
      "Epoch 5/17\n",
      "315/315 [==============================] - 2s 5ms/step - loss: 0.0169 - val_loss: 0.3240\n",
      "sequence accuracy is 0.9169429525009394\n",
      "Epoch 6/17\n",
      "315/315 [==============================] - 2s 5ms/step - loss: 0.0143 - val_loss: 0.3251\n",
      "sequence accuracy is 0.9213911544327299\n",
      "Epoch 7/17\n",
      "315/315 [==============================] - 2s 5ms/step - loss: 0.0119 - val_loss: 0.3784\n",
      "sequence accuracy is 0.9183271445306457\n",
      "Epoch 8/17\n",
      "315/315 [==============================] - 2s 5ms/step - loss: 0.0083 - val_loss: 0.3901\n",
      "sequence accuracy is 0.9227808721791216\n",
      "Epoch 9/17\n",
      "315/315 [==============================] - 2s 5ms/step - loss: 0.0105 - val_loss: 0.3366\n",
      "sequence accuracy is 0.9175728842030811\n",
      "Epoch 10/17\n",
      "315/315 [==============================] - 2s 5ms/step - loss: 0.0191 - val_loss: 0.3611\n",
      "sequence accuracy is 0.8895519748911433\n",
      "Epoch 11/17\n",
      "315/315 [==============================] - 2s 5ms/step - loss: 0.0189 - val_loss: 0.3658\n",
      "sequence accuracy is 0.9048416329597949\n",
      "Epoch 12/17\n",
      "315/315 [==============================] - 2s 5ms/step - loss: 0.0076 - val_loss: 0.4094\n",
      "sequence accuracy is 0.9097097893596799\n",
      "Epoch 13/17\n",
      "315/315 [==============================] - 2s 5ms/step - loss: 0.0060 - val_loss: 0.4370\n",
      "sequence accuracy is 0.9186365846650311\n",
      "Epoch 14/17\n",
      "315/315 [==============================] - 2s 5ms/step - loss: 0.0121 - val_loss: 0.4825\n",
      "sequence accuracy is 0.8858165904117764\n",
      "Epoch 15/17\n",
      "315/315 [==============================] - 2s 5ms/step - loss: 0.0078 - val_loss: 0.5330\n",
      "sequence accuracy is 0.911875870300378\n",
      "Epoch 16/17\n",
      "315/315 [==============================] - 2s 5ms/step - loss: 0.0049 - val_loss: 0.6077\n",
      "sequence accuracy is 0.9048333443847667\n",
      "Epoch 17/17\n",
      "315/315 [==============================] - 2s 5ms/step - loss: 0.0054 - val_loss: 0.5739\n",
      "sequence accuracy is 0.9117487788166125\n"
     ]
    },
    {
     "data": {
      "text/html": [
       "Waiting for W&B process to finish... <strong style=\"color:green\">(success).</strong>"
      ],
      "text/plain": [
       "<IPython.core.display.HTML object>"
      ]
     },
     "metadata": {},
     "output_type": "display_data"
    },
    {
     "data": {
      "text/html": [
       "<style>\n",
       "    table.wandb td:nth-child(1) { padding: 0 10px; text-align: left ; width: auto;} td:nth-child(2) {text-align: left ; width: 100%}\n",
       "    .wandb-row { display: flex; flex-direction: row; flex-wrap: wrap; justify-content: flex-start; width: 100% }\n",
       "    .wandb-col { display: flex; flex-direction: column; flex-basis: 100%; flex: 1; padding: 10px; }\n",
       "    </style>\n",
       "<div class=\"wandb-row\"><div class=\"wandb-col\"><h3>Run history:</h3><br/><table class=\"wandb\"><tr><td>Validation Acc :</td><td>▁</td></tr><tr><td>epoch</td><td>▁▁▂▂▃▃▄▄▅▅▅▆▆▇▇██</td></tr><tr><td>loss</td><td>█▃▂▂▂▁▁▁▁▂▂▁▁▁▁▁▁</td></tr><tr><td>val_loss</td><td>▁▁▂▂▃▃▄▄▃▃▃▄▅▆▇█▇</td></tr></table><br/></div><div class=\"wandb-col\"><h3>Run summary:</h3><br/><table class=\"wandb\"><tr><td>Validation Acc :</td><td>0.91175</td></tr><tr><td>best_epoch</td><td>0</td></tr><tr><td>best_val_loss</td><td>0.23893</td></tr><tr><td>epoch</td><td>16</td></tr><tr><td>loss</td><td>0.00543</td></tr><tr><td>val_loss</td><td>0.57394</td></tr></table><br/></div></div>"
      ],
      "text/plain": [
       "<IPython.core.display.HTML object>"
      ]
     },
     "metadata": {},
     "output_type": "display_data"
    },
    {
     "data": {
      "text/html": [
       "Synced <strong style=\"color:#cdcd00\">sweepy-sweep-9</strong>: <a href=\"https://wandb.ai/chhyyi/redzone_gru_sweep/runs/mlh99asi\" target=\"_blank\">https://wandb.ai/chhyyi/redzone_gru_sweep/runs/mlh99asi</a><br/>Synced 5 W&B file(s), 1 media file(s), 4 artifact file(s) and 1 other file(s)"
      ],
      "text/plain": [
       "<IPython.core.display.HTML object>"
      ]
     },
     "metadata": {},
     "output_type": "display_data"
    },
    {
     "data": {
      "text/html": [
       "Find logs at: <code>./wandb/run-20221113_094557-mlh99asi/logs</code>"
      ],
      "text/plain": [
       "<IPython.core.display.HTML object>"
      ]
     },
     "metadata": {},
     "output_type": "display_data"
    },
    {
     "name": "stderr",
     "output_type": "stream",
     "text": [
      "\u001b[34m\u001b[1mwandb\u001b[0m: Agent Starting Run: 2c4cgtnu with config:\n",
      "\u001b[34m\u001b[1mwandb\u001b[0m: \tepochs: 7\n",
      "\u001b[34m\u001b[1mwandb\u001b[0m: \tlearning_rate: 0.009750843903459974\n",
      "\u001b[34m\u001b[1mwandb\u001b[0m: \tsplit_train_ratio: 0.8\n",
      "\u001b[34m\u001b[1mwandb\u001b[0m: \tstride_inside_seq: 9\n",
      "\u001b[34m\u001b[1mwandb\u001b[0m: \tunit_gru0: 64\n"
     ]
    },
    {
     "data": {
      "text/html": [
       "Tracking run with wandb version 0.13.5"
      ],
      "text/plain": [
       "<IPython.core.display.HTML object>"
      ]
     },
     "metadata": {},
     "output_type": "display_data"
    },
    {
     "data": {
      "text/html": [
       "Run data is saved locally in <code>/aiffel/aiffel/aiffelthon/wandb/run-20221113_094958-2c4cgtnu</code>"
      ],
      "text/plain": [
       "<IPython.core.display.HTML object>"
      ]
     },
     "metadata": {},
     "output_type": "display_data"
    },
    {
     "data": {
      "text/html": [
       "Syncing run <strong><a href=\"https://wandb.ai/chhyyi/redzone_gru_sweep/runs/2c4cgtnu\" target=\"_blank\">sunny-sweep-10</a></strong> to <a href=\"https://wandb.ai/chhyyi/redzone_gru_sweep\" target=\"_blank\">Weights & Biases</a> (<a href=\"https://wandb.me/run\" target=\"_blank\">docs</a>)<br/>Sweep page:  <a href=\"https://wandb.ai/chhyyi/redzone_gru_sweep/sweeps/5qc8l882\" target=\"_blank\">https://wandb.ai/chhyyi/redzone_gru_sweep/sweeps/5qc8l882</a>"
      ],
      "text/plain": [
       "<IPython.core.display.HTML object>"
      ]
     },
     "metadata": {},
     "output_type": "display_data"
    },
    {
     "name": "stdout",
     "output_type": "stream",
     "text": [
      "loaded dataset. Generating sequences\n",
      "Any missing values exist: False\n",
      "train dataset columns: Index(['풍속(m/s)', '풍향(deg)', '기온(°C)', '수온(°C)', '강수량(mm)', '풍속(m/s).1',\n",
      "       '풍향(deg).1', '기온(°C).1', '수온(°C).1', '강수량(mm).1', '풍속(m/s).2',\n",
      "       '풍향(deg).2', '기온(°C).2', '수온(°C).2', '강수량(mm).2', '풍속(m/s).3',\n",
      "       '풍향(deg).3', '기온(°C).3', '수온(°C).3', '강수량(mm).3', '풍속(m/s).4',\n",
      "       '풍향(deg).4', '기온(°C).4', '수온(°C).4', '강수량(mm).4', '적조발생'],\n",
      "      dtype='object')\n",
      "20106 25133\n",
      "(20106, 8, 25) (5027, 8, 25) (20106, 8) (5027, 8) \n",
      "\n",
      "\n",
      "Epoch 1/7\n",
      "315/315 [==============================] - 3s 4ms/step - loss: 0.1307 - val_loss: 0.2162\n"
     ]
    },
    {
     "name": "stderr",
     "output_type": "stream",
     "text": [
      "WARNING:absl:Found untraced functions such as gru_cell_layer_call_and_return_conditional_losses, gru_cell_layer_call_fn, gru_cell_layer_call_fn, gru_cell_layer_call_and_return_conditional_losses, gru_cell_layer_call_and_return_conditional_losses while saving (showing 5 of 5). These functions will not be directly callable after loading.\n",
      "\u001b[34m\u001b[1mwandb\u001b[0m: Adding directory to artifact (/aiffel/aiffel/aiffelthon/wandb/run-20221113_094958-2c4cgtnu/files/model-best)... Done. 0.0s\n"
     ]
    },
    {
     "name": "stdout",
     "output_type": "stream",
     "text": [
      "sequence accuracy is 0.9020290431668987\n",
      "Epoch 2/7\n",
      "315/315 [==============================] - 1s 4ms/step - loss: 0.0662 - val_loss: 0.2099\n"
     ]
    },
    {
     "name": "stderr",
     "output_type": "stream",
     "text": [
      "WARNING:absl:Found untraced functions such as gru_cell_layer_call_and_return_conditional_losses, gru_cell_layer_call_fn, gru_cell_layer_call_fn, gru_cell_layer_call_and_return_conditional_losses, gru_cell_layer_call_and_return_conditional_losses while saving (showing 5 of 5). These functions will not be directly callable after loading.\n",
      "\u001b[34m\u001b[1mwandb\u001b[0m: Adding directory to artifact (/aiffel/aiffel/aiffelthon/wandb/run-20221113_094958-2c4cgtnu/files/model-best)... Done. 0.0s\n"
     ]
    },
    {
     "name": "stdout",
     "output_type": "stream",
     "text": [
      "sequence accuracy is 0.9274915456534712\n",
      "Epoch 3/7\n",
      "315/315 [==============================] - 1s 4ms/step - loss: 0.0458 - val_loss: 0.1768\n"
     ]
    },
    {
     "name": "stderr",
     "output_type": "stream",
     "text": [
      "WARNING:absl:Found untraced functions such as gru_cell_layer_call_and_return_conditional_losses, gru_cell_layer_call_fn, gru_cell_layer_call_fn, gru_cell_layer_call_and_return_conditional_losses, gru_cell_layer_call_and_return_conditional_losses while saving (showing 5 of 5). These functions will not be directly callable after loading.\n",
      "\u001b[34m\u001b[1mwandb\u001b[0m: Adding directory to artifact (/aiffel/aiffel/aiffelthon/wandb/run-20221113_094958-2c4cgtnu/files/model-best)... Done. 0.0s\n"
     ]
    },
    {
     "name": "stdout",
     "output_type": "stream",
     "text": [
      "sequence accuracy is 0.9349512631788343\n",
      "Epoch 4/7\n",
      "315/315 [==============================] - 1s 3ms/step - loss: 0.0297 - val_loss: 0.2311\n",
      "sequence accuracy is 0.9173214640938929\n",
      "Epoch 5/7\n",
      "315/315 [==============================] - 1s 3ms/step - loss: 0.0249 - val_loss: 0.2772\n",
      "sequence accuracy is 0.9214243087328426\n",
      "Epoch 6/7\n",
      "315/315 [==============================] - 1s 4ms/step - loss: 0.0216 - val_loss: 0.3172\n",
      "sequence accuracy is 0.9249801074199324\n",
      "Epoch 7/7\n",
      "315/315 [==============================] - 1s 3ms/step - loss: 0.0189 - val_loss: 0.3177\n",
      "sequence accuracy is 0.9151581460115377\n"
     ]
    },
    {
     "data": {
      "text/html": [
       "Waiting for W&B process to finish... <strong style=\"color:green\">(success).</strong>"
      ],
      "text/plain": [
       "<IPython.core.display.HTML object>"
      ]
     },
     "metadata": {},
     "output_type": "display_data"
    },
    {
     "data": {
      "application/vnd.jupyter.widget-view+json": {
       "model_id": "4b8413caa656402a83dcff28fa648130",
       "version_major": 2,
       "version_minor": 0
      },
      "text/plain": [
       "VBox(children=(Label(value='2.919 MB of 2.919 MB uploaded (0.008 MB deduped)\\r'), FloatProgress(value=1.0, max…"
      ]
     },
     "metadata": {},
     "output_type": "display_data"
    },
    {
     "data": {
      "text/html": [
       "<style>\n",
       "    table.wandb td:nth-child(1) { padding: 0 10px; text-align: left ; width: auto;} td:nth-child(2) {text-align: left ; width: 100%}\n",
       "    .wandb-row { display: flex; flex-direction: row; flex-wrap: wrap; justify-content: flex-start; width: 100% }\n",
       "    .wandb-col { display: flex; flex-direction: column; flex-basis: 100%; flex: 1; padding: 10px; }\n",
       "    </style>\n",
       "<div class=\"wandb-row\"><div class=\"wandb-col\"><h3>Run history:</h3><br/><table class=\"wandb\"><tr><td>Validation Acc :</td><td>▁</td></tr><tr><td>epoch</td><td>▁▂▃▅▆▇█</td></tr><tr><td>loss</td><td>█▄▃▂▁▁▁</td></tr><tr><td>val_loss</td><td>▃▃▁▄▆██</td></tr></table><br/></div><div class=\"wandb-col\"><h3>Run summary:</h3><br/><table class=\"wandb\"><tr><td>Validation Acc :</td><td>0.91516</td></tr><tr><td>best_epoch</td><td>2</td></tr><tr><td>best_val_loss</td><td>0.17676</td></tr><tr><td>epoch</td><td>6</td></tr><tr><td>loss</td><td>0.01889</td></tr><tr><td>val_loss</td><td>0.31775</td></tr></table><br/></div></div>"
      ],
      "text/plain": [
       "<IPython.core.display.HTML object>"
      ]
     },
     "metadata": {},
     "output_type": "display_data"
    },
    {
     "data": {
      "text/html": [
       "Synced <strong style=\"color:#cdcd00\">sunny-sweep-10</strong>: <a href=\"https://wandb.ai/chhyyi/redzone_gru_sweep/runs/2c4cgtnu\" target=\"_blank\">https://wandb.ai/chhyyi/redzone_gru_sweep/runs/2c4cgtnu</a><br/>Synced 5 W&B file(s), 1 media file(s), 10 artifact file(s) and 1 other file(s)"
      ],
      "text/plain": [
       "<IPython.core.display.HTML object>"
      ]
     },
     "metadata": {},
     "output_type": "display_data"
    },
    {
     "data": {
      "text/html": [
       "Find logs at: <code>./wandb/run-20221113_094958-2c4cgtnu/logs</code>"
      ],
      "text/plain": [
       "<IPython.core.display.HTML object>"
      ]
     },
     "metadata": {},
     "output_type": "display_data"
    },
    {
     "name": "stderr",
     "output_type": "stream",
     "text": [
      "\u001b[34m\u001b[1mwandb\u001b[0m: Sweep Agent: Waiting for job.\n",
      "\u001b[34m\u001b[1mwandb\u001b[0m: Job received.\n",
      "\u001b[34m\u001b[1mwandb\u001b[0m: Agent Starting Run: 79ckxnfr with config:\n",
      "\u001b[34m\u001b[1mwandb\u001b[0m: \tepochs: 9\n",
      "\u001b[34m\u001b[1mwandb\u001b[0m: \tlearning_rate: 0.0038950851678457585\n",
      "\u001b[34m\u001b[1mwandb\u001b[0m: \tsplit_train_ratio: 0.5\n",
      "\u001b[34m\u001b[1mwandb\u001b[0m: \tstride_inside_seq: 9\n",
      "\u001b[34m\u001b[1mwandb\u001b[0m: \tunit_gru0: 128\n"
     ]
    },
    {
     "data": {
      "text/html": [
       "Tracking run with wandb version 0.13.5"
      ],
      "text/plain": [
       "<IPython.core.display.HTML object>"
      ]
     },
     "metadata": {},
     "output_type": "display_data"
    },
    {
     "data": {
      "text/html": [
       "Run data is saved locally in <code>/aiffel/aiffel/aiffelthon/wandb/run-20221113_095121-79ckxnfr</code>"
      ],
      "text/plain": [
       "<IPython.core.display.HTML object>"
      ]
     },
     "metadata": {},
     "output_type": "display_data"
    },
    {
     "data": {
      "text/html": [
       "Syncing run <strong><a href=\"https://wandb.ai/chhyyi/redzone_gru_sweep/runs/79ckxnfr\" target=\"_blank\">colorful-sweep-11</a></strong> to <a href=\"https://wandb.ai/chhyyi/redzone_gru_sweep\" target=\"_blank\">Weights & Biases</a> (<a href=\"https://wandb.me/run\" target=\"_blank\">docs</a>)<br/>Sweep page:  <a href=\"https://wandb.ai/chhyyi/redzone_gru_sweep/sweeps/5qc8l882\" target=\"_blank\">https://wandb.ai/chhyyi/redzone_gru_sweep/sweeps/5qc8l882</a>"
      ],
      "text/plain": [
       "<IPython.core.display.HTML object>"
      ]
     },
     "metadata": {},
     "output_type": "display_data"
    },
    {
     "name": "stdout",
     "output_type": "stream",
     "text": [
      "loaded dataset. Generating sequences\n",
      "Any missing values exist: False\n",
      "train dataset columns: Index(['풍속(m/s)', '풍향(deg)', '기온(°C)', '수온(°C)', '강수량(mm)', '풍속(m/s).1',\n",
      "       '풍향(deg).1', '기온(°C).1', '수온(°C).1', '강수량(mm).1', '풍속(m/s).2',\n",
      "       '풍향(deg).2', '기온(°C).2', '수온(°C).2', '강수량(mm).2', '풍속(m/s).3',\n",
      "       '풍향(deg).3', '기온(°C).3', '수온(°C).3', '강수량(mm).3', '풍속(m/s).4',\n",
      "       '풍향(deg).4', '기온(°C).4', '수온(°C).4', '강수량(mm).4', '적조발생'],\n",
      "      dtype='object')\n",
      "12566 25133\n",
      "(12566, 8, 25) (12567, 8, 25) (12566, 8) (12567, 8) \n",
      "\n",
      "\n",
      "Epoch 1/9\n",
      "197/197 [==============================] - 2s 6ms/step - loss: 0.1347 - val_loss: 0.3857\n"
     ]
    },
    {
     "name": "stderr",
     "output_type": "stream",
     "text": [
      "WARNING:absl:Found untraced functions such as gru_cell_layer_call_and_return_conditional_losses, gru_cell_layer_call_fn, gru_cell_layer_call_fn, gru_cell_layer_call_and_return_conditional_losses, gru_cell_layer_call_and_return_conditional_losses while saving (showing 5 of 5). These functions will not be directly callable after loading.\n",
      "\u001b[34m\u001b[1mwandb\u001b[0m: Adding directory to artifact (/aiffel/aiffel/aiffelthon/wandb/run-20221113_095121-79ckxnfr/files/model-best)... Done. 0.0s\n"
     ]
    },
    {
     "name": "stdout",
     "output_type": "stream",
     "text": [
      "sequence accuracy is 0.9065906739874274\n",
      "Epoch 2/9\n",
      "197/197 [==============================] - 1s 5ms/step - loss: 0.0719 - val_loss: 0.5236\n",
      "sequence accuracy is 0.9283938091827802\n",
      "Epoch 3/9\n",
      "197/197 [==============================] - 1s 5ms/step - loss: 0.0352 - val_loss: 0.5884\n",
      "sequence accuracy is 0.9265735656879128\n",
      "Epoch 4/9\n",
      "197/197 [==============================] - 1s 5ms/step - loss: 0.0213 - val_loss: 0.6646\n",
      "sequence accuracy is 0.9289607702713456\n",
      "Epoch 5/9\n",
      "197/197 [==============================] - 1s 5ms/step - loss: 0.0113 - val_loss: 0.7464\n",
      "sequence accuracy is 0.9277671679796292\n",
      "Epoch 6/9\n",
      "197/197 [==============================] - 1s 5ms/step - loss: 0.0074 - val_loss: 0.8073\n",
      "sequence accuracy is 0.9291497573008674\n",
      "Epoch 7/9\n",
      "197/197 [==============================] - 1s 5ms/step - loss: 0.0082 - val_loss: 0.7471\n",
      "sequence accuracy is 0.92582756425559\n",
      "Epoch 8/9\n",
      "197/197 [==============================] - 1s 5ms/step - loss: 0.0074 - val_loss: 0.8599\n",
      "sequence accuracy is 0.9244250815628232\n",
      "Epoch 9/9\n",
      "197/197 [==============================] - 1s 5ms/step - loss: 0.0027 - val_loss: 0.8607\n",
      "sequence accuracy is 0.9257380440837113\n"
     ]
    },
    {
     "data": {
      "text/html": [
       "Waiting for W&B process to finish... <strong style=\"color:green\">(success).</strong>"
      ],
      "text/plain": [
       "<IPython.core.display.HTML object>"
      ]
     },
     "metadata": {},
     "output_type": "display_data"
    },
    {
     "data": {
      "text/html": [
       "<style>\n",
       "    table.wandb td:nth-child(1) { padding: 0 10px; text-align: left ; width: auto;} td:nth-child(2) {text-align: left ; width: 100%}\n",
       "    .wandb-row { display: flex; flex-direction: row; flex-wrap: wrap; justify-content: flex-start; width: 100% }\n",
       "    .wandb-col { display: flex; flex-direction: column; flex-basis: 100%; flex: 1; padding: 10px; }\n",
       "    </style>\n",
       "<div class=\"wandb-row\"><div class=\"wandb-col\"><h3>Run history:</h3><br/><table class=\"wandb\"><tr><td>Validation Acc :</td><td>▁</td></tr><tr><td>epoch</td><td>▁▂▃▄▅▅▆▇█</td></tr><tr><td>loss</td><td>█▅▃▂▁▁▁▁▁</td></tr><tr><td>val_loss</td><td>▁▃▄▅▆▇▆██</td></tr></table><br/></div><div class=\"wandb-col\"><h3>Run summary:</h3><br/><table class=\"wandb\"><tr><td>Validation Acc :</td><td>0.92574</td></tr><tr><td>best_epoch</td><td>0</td></tr><tr><td>best_val_loss</td><td>0.38567</td></tr><tr><td>epoch</td><td>8</td></tr><tr><td>loss</td><td>0.00272</td></tr><tr><td>val_loss</td><td>0.86071</td></tr></table><br/></div></div>"
      ],
      "text/plain": [
       "<IPython.core.display.HTML object>"
      ]
     },
     "metadata": {},
     "output_type": "display_data"
    },
    {
     "data": {
      "text/html": [
       "Synced <strong style=\"color:#cdcd00\">colorful-sweep-11</strong>: <a href=\"https://wandb.ai/chhyyi/redzone_gru_sweep/runs/79ckxnfr\" target=\"_blank\">https://wandb.ai/chhyyi/redzone_gru_sweep/runs/79ckxnfr</a><br/>Synced 5 W&B file(s), 1 media file(s), 4 artifact file(s) and 1 other file(s)"
      ],
      "text/plain": [
       "<IPython.core.display.HTML object>"
      ]
     },
     "metadata": {},
     "output_type": "display_data"
    },
    {
     "data": {
      "text/html": [
       "Find logs at: <code>./wandb/run-20221113_095121-79ckxnfr/logs</code>"
      ],
      "text/plain": [
       "<IPython.core.display.HTML object>"
      ]
     },
     "metadata": {},
     "output_type": "display_data"
    },
    {
     "name": "stderr",
     "output_type": "stream",
     "text": [
      "\u001b[34m\u001b[1mwandb\u001b[0m: Agent Starting Run: tcg5etta with config:\n",
      "\u001b[34m\u001b[1mwandb\u001b[0m: \tepochs: 16\n",
      "\u001b[34m\u001b[1mwandb\u001b[0m: \tlearning_rate: 0.0028977317800727427\n",
      "\u001b[34m\u001b[1mwandb\u001b[0m: \tsplit_train_ratio: 0.8\n",
      "\u001b[34m\u001b[1mwandb\u001b[0m: \tstride_inside_seq: 1\n",
      "\u001b[34m\u001b[1mwandb\u001b[0m: \tunit_gru0: 64\n"
     ]
    },
    {
     "data": {
      "text/html": [
       "Tracking run with wandb version 0.13.5"
      ],
      "text/plain": [
       "<IPython.core.display.HTML object>"
      ]
     },
     "metadata": {},
     "output_type": "display_data"
    },
    {
     "data": {
      "text/html": [
       "Run data is saved locally in <code>/aiffel/aiffel/aiffelthon/wandb/run-20221113_095234-tcg5etta</code>"
      ],
      "text/plain": [
       "<IPython.core.display.HTML object>"
      ]
     },
     "metadata": {},
     "output_type": "display_data"
    },
    {
     "data": {
      "text/html": [
       "Syncing run <strong><a href=\"https://wandb.ai/chhyyi/redzone_gru_sweep/runs/tcg5etta\" target=\"_blank\">dark-sweep-12</a></strong> to <a href=\"https://wandb.ai/chhyyi/redzone_gru_sweep\" target=\"_blank\">Weights & Biases</a> (<a href=\"https://wandb.me/run\" target=\"_blank\">docs</a>)<br/>Sweep page:  <a href=\"https://wandb.ai/chhyyi/redzone_gru_sweep/sweeps/5qc8l882\" target=\"_blank\">https://wandb.ai/chhyyi/redzone_gru_sweep/sweeps/5qc8l882</a>"
      ],
      "text/plain": [
       "<IPython.core.display.HTML object>"
      ]
     },
     "metadata": {},
     "output_type": "display_data"
    },
    {
     "name": "stdout",
     "output_type": "stream",
     "text": [
      "loaded dataset. Generating sequences\n",
      "Any missing values exist: False\n",
      "train dataset columns: Index(['풍속(m/s)', '풍향(deg)', '기온(°C)', '수온(°C)', '강수량(mm)', '풍속(m/s).1',\n",
      "       '풍향(deg).1', '기온(°C).1', '수온(°C).1', '강수량(mm).1', '풍속(m/s).2',\n",
      "       '풍향(deg).2', '기온(°C).2', '수온(°C).2', '강수량(mm).2', '풍속(m/s).3',\n",
      "       '풍향(deg).3', '기온(°C).3', '수온(°C).3', '강수량(mm).3', '풍속(m/s).4',\n",
      "       '풍향(deg).4', '기온(°C).4', '수온(°C).4', '강수량(mm).4', '적조발생'],\n",
      "      dtype='object')\n",
      "20106 25133\n",
      "(20106, 72, 25) (5027, 72, 25) (20106, 72) (5027, 72) \n",
      "\n",
      "\n",
      "Epoch 1/16\n",
      "315/315 [==============================] - 3s 7ms/step - loss: 0.1761 - val_loss: 0.2162\n"
     ]
    },
    {
     "name": "stderr",
     "output_type": "stream",
     "text": [
      "WARNING:absl:Found untraced functions such as gru_cell_layer_call_and_return_conditional_losses, gru_cell_layer_call_fn, gru_cell_layer_call_fn, gru_cell_layer_call_and_return_conditional_losses, gru_cell_layer_call_and_return_conditional_losses while saving (showing 5 of 5). These functions will not be directly callable after loading.\n",
      "\u001b[34m\u001b[1mwandb\u001b[0m: Adding directory to artifact (/aiffel/aiffel/aiffelthon/wandb/run-20221113_095234-tcg5etta/files/model-best)... Done. 0.0s\n"
     ]
    },
    {
     "name": "stdout",
     "output_type": "stream",
     "text": [
      "sequence accuracy is 0.9115498530159362\n",
      "Epoch 2/16\n",
      "315/315 [==============================] - 2s 5ms/step - loss: 0.0721 - val_loss: 0.1596\n"
     ]
    },
    {
     "name": "stderr",
     "output_type": "stream",
     "text": [
      "WARNING:absl:Found untraced functions such as gru_cell_layer_call_and_return_conditional_losses, gru_cell_layer_call_fn, gru_cell_layer_call_fn, gru_cell_layer_call_and_return_conditional_losses, gru_cell_layer_call_and_return_conditional_losses while saving (showing 5 of 5). These functions will not be directly callable after loading.\n",
      "\u001b[34m\u001b[1mwandb\u001b[0m: Adding directory to artifact (/aiffel/aiffel/aiffelthon/wandb/run-20221113_095234-tcg5etta/files/model-best)... Done. 0.0s\n"
     ]
    },
    {
     "name": "stdout",
     "output_type": "stream",
     "text": [
      "sequence accuracy is 0.9417396061269147\n",
      "Epoch 3/16\n",
      "315/315 [==============================] - 2s 5ms/step - loss: 0.0428 - val_loss: 0.2050\n",
      "sequence accuracy is 0.9281076630638994\n",
      "Epoch 4/16\n",
      "315/315 [==============================] - 2s 5ms/step - loss: 0.0443 - val_loss: 0.2587\n",
      "sequence accuracy is 0.9037060981809341\n",
      "Epoch 5/16\n",
      "315/315 [==============================] - 2s 5ms/step - loss: 0.0237 - val_loss: 0.2448\n",
      "sequence accuracy is 0.9327547907963663\n",
      "Epoch 6/16\n",
      "315/315 [==============================] - 2s 5ms/step - loss: 0.0170 - val_loss: 0.3364\n",
      "sequence accuracy is 0.9064717193820039\n",
      "Epoch 7/16\n",
      "315/315 [==============================] - 2s 5ms/step - loss: 0.0118 - val_loss: 0.3279\n",
      "sequence accuracy is 0.9269141082598413\n",
      "Epoch 8/16\n",
      "315/315 [==============================] - 2s 5ms/step - loss: 0.0084 - val_loss: 0.3541\n",
      "sequence accuracy is 0.9280745087637866\n",
      "Epoch 9/16\n",
      "315/315 [==============================] - 2s 5ms/step - loss: 0.0107 - val_loss: 0.3385\n",
      "sequence accuracy is 0.9122516190349889\n",
      "Epoch 10/16\n",
      "315/315 [==============================] - 2s 5ms/step - loss: 0.0094 - val_loss: 0.3658\n",
      "sequence accuracy is 0.9057782419379794\n",
      "Epoch 11/16\n",
      "315/315 [==============================] - 2s 5ms/step - loss: 0.0083 - val_loss: 0.4383\n",
      "sequence accuracy is 0.9154371947041531\n",
      "Epoch 12/16\n",
      "315/315 [==============================] - 2s 5ms/step - loss: 0.0047 - val_loss: 0.4741\n",
      "sequence accuracy is 0.9184763388811529\n",
      "Epoch 13/16\n",
      "315/315 [==============================] - 2s 5ms/step - loss: 0.0042 - val_loss: 0.4978\n",
      "sequence accuracy is 0.9171501668766439\n",
      "Epoch 14/16\n",
      "315/315 [==============================] - 2s 5ms/step - loss: 0.0054 - val_loss: 0.4588\n",
      "sequence accuracy is 0.9097567579515063\n",
      "Epoch 15/16\n",
      "315/315 [==============================] - 2s 5ms/step - loss: 0.0157 - val_loss: 0.3904\n",
      "sequence accuracy is 0.909911478018699\n",
      "Epoch 16/16\n",
      "315/315 [==============================] - 2s 5ms/step - loss: 0.0043 - val_loss: 0.4853\n",
      "sequence accuracy is 0.910196052428\n"
     ]
    },
    {
     "data": {
      "text/html": [
       "Waiting for W&B process to finish... <strong style=\"color:green\">(success).</strong>"
      ],
      "text/plain": [
       "<IPython.core.display.HTML object>"
      ]
     },
     "metadata": {},
     "output_type": "display_data"
    },
    {
     "data": {
      "application/vnd.jupyter.widget-view+json": {
       "model_id": "d84db455e664443aa2d57cef5e58898c",
       "version_major": 2,
       "version_minor": 0
      },
      "text/plain": [
       "VBox(children=(Label(value='2.169 MB of 2.169 MB uploaded (0.008 MB deduped)\\r'), FloatProgress(value=1.0, max…"
      ]
     },
     "metadata": {},
     "output_type": "display_data"
    },
    {
     "data": {
      "text/html": [
       "<style>\n",
       "    table.wandb td:nth-child(1) { padding: 0 10px; text-align: left ; width: auto;} td:nth-child(2) {text-align: left ; width: 100%}\n",
       "    .wandb-row { display: flex; flex-direction: row; flex-wrap: wrap; justify-content: flex-start; width: 100% }\n",
       "    .wandb-col { display: flex; flex-direction: column; flex-basis: 100%; flex: 1; padding: 10px; }\n",
       "    </style>\n",
       "<div class=\"wandb-row\"><div class=\"wandb-col\"><h3>Run history:</h3><br/><table class=\"wandb\"><tr><td>Validation Acc :</td><td>▁</td></tr><tr><td>epoch</td><td>▁▁▂▂▃▃▄▄▅▅▆▆▇▇██</td></tr><tr><td>loss</td><td>█▄▃▃▂▂▁▁▁▁▁▁▁▁▁▁</td></tr><tr><td>val_loss</td><td>▂▁▂▃▃▅▄▅▅▅▇██▇▆█</td></tr></table><br/></div><div class=\"wandb-col\"><h3>Run summary:</h3><br/><table class=\"wandb\"><tr><td>Validation Acc :</td><td>0.9102</td></tr><tr><td>best_epoch</td><td>1</td></tr><tr><td>best_val_loss</td><td>0.15957</td></tr><tr><td>epoch</td><td>15</td></tr><tr><td>loss</td><td>0.00434</td></tr><tr><td>val_loss</td><td>0.48531</td></tr></table><br/></div></div>"
      ],
      "text/plain": [
       "<IPython.core.display.HTML object>"
      ]
     },
     "metadata": {},
     "output_type": "display_data"
    },
    {
     "data": {
      "text/html": [
       "Synced <strong style=\"color:#cdcd00\">dark-sweep-12</strong>: <a href=\"https://wandb.ai/chhyyi/redzone_gru_sweep/runs/tcg5etta\" target=\"_blank\">https://wandb.ai/chhyyi/redzone_gru_sweep/runs/tcg5etta</a><br/>Synced 5 W&B file(s), 1 media file(s), 7 artifact file(s) and 1 other file(s)"
      ],
      "text/plain": [
       "<IPython.core.display.HTML object>"
      ]
     },
     "metadata": {},
     "output_type": "display_data"
    },
    {
     "data": {
      "text/html": [
       "Find logs at: <code>./wandb/run-20221113_095234-tcg5etta/logs</code>"
      ],
      "text/plain": [
       "<IPython.core.display.HTML object>"
      ]
     },
     "metadata": {},
     "output_type": "display_data"
    },
    {
     "name": "stderr",
     "output_type": "stream",
     "text": [
      "\u001b[34m\u001b[1mwandb\u001b[0m: Agent Starting Run: sne7ws2s with config:\n",
      "\u001b[34m\u001b[1mwandb\u001b[0m: \tepochs: 7\n",
      "\u001b[34m\u001b[1mwandb\u001b[0m: \tlearning_rate: 0.00024264082738934976\n",
      "\u001b[34m\u001b[1mwandb\u001b[0m: \tsplit_train_ratio: 0.5\n",
      "\u001b[34m\u001b[1mwandb\u001b[0m: \tstride_inside_seq: 9\n",
      "\u001b[34m\u001b[1mwandb\u001b[0m: \tunit_gru0: 32\n"
     ]
    },
    {
     "data": {
      "text/html": [
       "Tracking run with wandb version 0.13.5"
      ],
      "text/plain": [
       "<IPython.core.display.HTML object>"
      ]
     },
     "metadata": {},
     "output_type": "display_data"
    },
    {
     "data": {
      "text/html": [
       "Run data is saved locally in <code>/aiffel/aiffel/aiffelthon/wandb/run-20221113_095655-sne7ws2s</code>"
      ],
      "text/plain": [
       "<IPython.core.display.HTML object>"
      ]
     },
     "metadata": {},
     "output_type": "display_data"
    },
    {
     "data": {
      "text/html": [
       "Syncing run <strong><a href=\"https://wandb.ai/chhyyi/redzone_gru_sweep/runs/sne7ws2s\" target=\"_blank\">likely-sweep-13</a></strong> to <a href=\"https://wandb.ai/chhyyi/redzone_gru_sweep\" target=\"_blank\">Weights & Biases</a> (<a href=\"https://wandb.me/run\" target=\"_blank\">docs</a>)<br/>Sweep page:  <a href=\"https://wandb.ai/chhyyi/redzone_gru_sweep/sweeps/5qc8l882\" target=\"_blank\">https://wandb.ai/chhyyi/redzone_gru_sweep/sweeps/5qc8l882</a>"
      ],
      "text/plain": [
       "<IPython.core.display.HTML object>"
      ]
     },
     "metadata": {},
     "output_type": "display_data"
    },
    {
     "name": "stdout",
     "output_type": "stream",
     "text": [
      "loaded dataset. Generating sequences\n",
      "Any missing values exist: False\n",
      "train dataset columns: Index(['풍속(m/s)', '풍향(deg)', '기온(°C)', '수온(°C)', '강수량(mm)', '풍속(m/s).1',\n",
      "       '풍향(deg).1', '기온(°C).1', '수온(°C).1', '강수량(mm).1', '풍속(m/s).2',\n",
      "       '풍향(deg).2', '기온(°C).2', '수온(°C).2', '강수량(mm).2', '풍속(m/s).3',\n",
      "       '풍향(deg).3', '기온(°C).3', '수온(°C).3', '강수량(mm).3', '풍속(m/s).4',\n",
      "       '풍향(deg).4', '기온(°C).4', '수온(°C).4', '강수량(mm).4', '적조발생'],\n",
      "      dtype='object')\n",
      "12566 25133\n",
      "(12566, 8, 25) (12567, 8, 25) (12566, 8) (12567, 8) \n",
      "\n",
      "\n",
      "Epoch 1/7\n",
      "197/197 [==============================] - 2s 6ms/step - loss: 0.6018 - val_loss: 0.4114\n"
     ]
    },
    {
     "name": "stderr",
     "output_type": "stream",
     "text": [
      "WARNING:absl:Found untraced functions such as gru_cell_layer_call_and_return_conditional_losses, gru_cell_layer_call_fn, gru_cell_layer_call_fn, gru_cell_layer_call_and_return_conditional_losses, gru_cell_layer_call_and_return_conditional_losses while saving (showing 5 of 5). These functions will not be directly callable after loading.\n",
      "\u001b[34m\u001b[1mwandb\u001b[0m: Adding directory to artifact (/aiffel/aiffel/aiffelthon/wandb/run-20221113_095655-sne7ws2s/files/model-best)... Done. 0.0s\n"
     ]
    },
    {
     "name": "stdout",
     "output_type": "stream",
     "text": [
      "sequence accuracy is 0.8839719105594016\n",
      "Epoch 2/7\n",
      "197/197 [==============================] - 1s 5ms/step - loss: 0.1982 - val_loss: 0.2400\n"
     ]
    },
    {
     "name": "stderr",
     "output_type": "stream",
     "text": [
      "WARNING:absl:Found untraced functions such as gru_cell_layer_call_and_return_conditional_losses, gru_cell_layer_call_fn, gru_cell_layer_call_fn, gru_cell_layer_call_and_return_conditional_losses, gru_cell_layer_call_and_return_conditional_losses while saving (showing 5 of 5). These functions will not be directly callable after loading.\n",
      "\u001b[34m\u001b[1mwandb\u001b[0m: Adding directory to artifact (/aiffel/aiffel/aiffelthon/wandb/run-20221113_095655-sne7ws2s/files/model-best)... Done. 0.0s\n"
     ]
    },
    {
     "name": "stdout",
     "output_type": "stream",
     "text": [
      "sequence accuracy is 0.9267426593459059\n",
      "Epoch 3/7\n",
      "197/197 [==============================] - 1s 4ms/step - loss: 0.1250 - val_loss: 0.2478\n",
      "sequence accuracy is 0.9250517227659744\n",
      "Epoch 4/7\n",
      "197/197 [==============================] - 1s 5ms/step - loss: 0.1102 - val_loss: 0.2501\n",
      "sequence accuracy is 0.919073764621628\n",
      "Epoch 5/7\n",
      "197/197 [==============================] - 1s 4ms/step - loss: 0.0998 - val_loss: 0.2545\n",
      "sequence accuracy is 0.9274389273494071\n",
      "Epoch 6/7\n",
      "197/197 [==============================] - 1s 4ms/step - loss: 0.0903 - val_loss: 0.2659\n",
      "sequence accuracy is 0.9198794461685367\n",
      "Epoch 7/7\n",
      "197/197 [==============================] - 1s 4ms/step - loss: 0.0819 - val_loss: 0.2752\n",
      "sequence accuracy is 0.9241963077902443\n"
     ]
    },
    {
     "data": {
      "text/html": [
       "Waiting for W&B process to finish... <strong style=\"color:green\">(success).</strong>"
      ],
      "text/plain": [
       "<IPython.core.display.HTML object>"
      ]
     },
     "metadata": {},
     "output_type": "display_data"
    },
    {
     "data": {
      "text/html": [
       "<style>\n",
       "    table.wandb td:nth-child(1) { padding: 0 10px; text-align: left ; width: auto;} td:nth-child(2) {text-align: left ; width: 100%}\n",
       "    .wandb-row { display: flex; flex-direction: row; flex-wrap: wrap; justify-content: flex-start; width: 100% }\n",
       "    .wandb-col { display: flex; flex-direction: column; flex-basis: 100%; flex: 1; padding: 10px; }\n",
       "    </style>\n",
       "<div class=\"wandb-row\"><div class=\"wandb-col\"><h3>Run history:</h3><br/><table class=\"wandb\"><tr><td>Validation Acc :</td><td>▁</td></tr><tr><td>epoch</td><td>▁▂▃▅▆▇█</td></tr><tr><td>loss</td><td>█▃▂▁▁▁▁</td></tr><tr><td>val_loss</td><td>█▁▁▁▂▂▂</td></tr></table><br/></div><div class=\"wandb-col\"><h3>Run summary:</h3><br/><table class=\"wandb\"><tr><td>Validation Acc :</td><td>0.9242</td></tr><tr><td>best_epoch</td><td>1</td></tr><tr><td>best_val_loss</td><td>0.24004</td></tr><tr><td>epoch</td><td>6</td></tr><tr><td>loss</td><td>0.08187</td></tr><tr><td>val_loss</td><td>0.27524</td></tr></table><br/></div></div>"
      ],
      "text/plain": [
       "<IPython.core.display.HTML object>"
      ]
     },
     "metadata": {},
     "output_type": "display_data"
    },
    {
     "data": {
      "text/html": [
       "Synced <strong style=\"color:#cdcd00\">likely-sweep-13</strong>: <a href=\"https://wandb.ai/chhyyi/redzone_gru_sweep/runs/sne7ws2s\" target=\"_blank\">https://wandb.ai/chhyyi/redzone_gru_sweep/runs/sne7ws2s</a><br/>Synced 5 W&B file(s), 1 media file(s), 7 artifact file(s) and 1 other file(s)"
      ],
      "text/plain": [
       "<IPython.core.display.HTML object>"
      ]
     },
     "metadata": {},
     "output_type": "display_data"
    },
    {
     "data": {
      "text/html": [
       "Find logs at: <code>./wandb/run-20221113_095655-sne7ws2s/logs</code>"
      ],
      "text/plain": [
       "<IPython.core.display.HTML object>"
      ]
     },
     "metadata": {},
     "output_type": "display_data"
    },
    {
     "name": "stderr",
     "output_type": "stream",
     "text": [
      "\u001b[34m\u001b[1mwandb\u001b[0m: Sweep Agent: Waiting for job.\n",
      "\u001b[34m\u001b[1mwandb\u001b[0m: Job received.\n",
      "\u001b[34m\u001b[1mwandb\u001b[0m: Agent Starting Run: 4i6g4l6i with config:\n",
      "\u001b[34m\u001b[1mwandb\u001b[0m: \tepochs: 19\n",
      "\u001b[34m\u001b[1mwandb\u001b[0m: \tlearning_rate: 0.0015398856113650271\n",
      "\u001b[34m\u001b[1mwandb\u001b[0m: \tsplit_train_ratio: 0.8\n",
      "\u001b[34m\u001b[1mwandb\u001b[0m: \tstride_inside_seq: 1\n",
      "\u001b[34m\u001b[1mwandb\u001b[0m: \tunit_gru0: 256\n"
     ]
    },
    {
     "data": {
      "text/html": [
       "Tracking run with wandb version 0.13.5"
      ],
      "text/plain": [
       "<IPython.core.display.HTML object>"
      ]
     },
     "metadata": {},
     "output_type": "display_data"
    },
    {
     "data": {
      "text/html": [
       "Run data is saved locally in <code>/aiffel/aiffel/aiffelthon/wandb/run-20221113_095813-4i6g4l6i</code>"
      ],
      "text/plain": [
       "<IPython.core.display.HTML object>"
      ]
     },
     "metadata": {},
     "output_type": "display_data"
    },
    {
     "data": {
      "text/html": [
       "Syncing run <strong><a href=\"https://wandb.ai/chhyyi/redzone_gru_sweep/runs/4i6g4l6i\" target=\"_blank\">charmed-sweep-14</a></strong> to <a href=\"https://wandb.ai/chhyyi/redzone_gru_sweep\" target=\"_blank\">Weights & Biases</a> (<a href=\"https://wandb.me/run\" target=\"_blank\">docs</a>)<br/>Sweep page:  <a href=\"https://wandb.ai/chhyyi/redzone_gru_sweep/sweeps/5qc8l882\" target=\"_blank\">https://wandb.ai/chhyyi/redzone_gru_sweep/sweeps/5qc8l882</a>"
      ],
      "text/plain": [
       "<IPython.core.display.HTML object>"
      ]
     },
     "metadata": {},
     "output_type": "display_data"
    },
    {
     "name": "stdout",
     "output_type": "stream",
     "text": [
      "loaded dataset. Generating sequences\n",
      "Any missing values exist: False\n",
      "train dataset columns: Index(['풍속(m/s)', '풍향(deg)', '기온(°C)', '수온(°C)', '강수량(mm)', '풍속(m/s).1',\n",
      "       '풍향(deg).1', '기온(°C).1', '수온(°C).1', '강수량(mm).1', '풍속(m/s).2',\n",
      "       '풍향(deg).2', '기온(°C).2', '수온(°C).2', '강수량(mm).2', '풍속(m/s).3',\n",
      "       '풍향(deg).3', '기온(°C).3', '수온(°C).3', '강수량(mm).3', '풍속(m/s).4',\n",
      "       '풍향(deg).4', '기온(°C).4', '수온(°C).4', '강수량(mm).4', '적조발생'],\n",
      "      dtype='object')\n",
      "20106 25133\n",
      "(20106, 72, 25) (5027, 72, 25) (20106, 72) (5027, 72) \n",
      "\n",
      "\n",
      "Epoch 1/19\n",
      "315/315 [==============================] - 4s 8ms/step - loss: 0.1975 - val_loss: 0.2382\n"
     ]
    },
    {
     "name": "stderr",
     "output_type": "stream",
     "text": [
      "WARNING:absl:Found untraced functions such as gru_cell_layer_call_and_return_conditional_losses, gru_cell_layer_call_fn, gru_cell_layer_call_fn, gru_cell_layer_call_and_return_conditional_losses, gru_cell_layer_call_and_return_conditional_losses while saving (showing 5 of 5). These functions will not be directly callable after loading.\n",
      "\u001b[34m\u001b[1mwandb\u001b[0m: Adding directory to artifact (/aiffel/aiffel/aiffelthon/wandb/run-20221113_095813-4i6g4l6i/files/model-best)... Done. 0.0s\n"
     ]
    },
    {
     "name": "stdout",
     "output_type": "stream",
     "text": [
      "sequence accuracy is 0.9096545321928254\n",
      "Epoch 2/19\n",
      "315/315 [==============================] - 2s 7ms/step - loss: 0.1501 - val_loss: 0.2068\n"
     ]
    },
    {
     "name": "stderr",
     "output_type": "stream",
     "text": [
      "WARNING:absl:Found untraced functions such as gru_cell_layer_call_and_return_conditional_losses, gru_cell_layer_call_fn, gru_cell_layer_call_fn, gru_cell_layer_call_and_return_conditional_losses, gru_cell_layer_call_and_return_conditional_losses while saving (showing 5 of 5). These functions will not be directly callable after loading.\n",
      "\u001b[34m\u001b[1mwandb\u001b[0m: Adding directory to artifact (/aiffel/aiffel/aiffelthon/wandb/run-20221113_095813-4i6g4l6i/files/model-best)... Done. 0.0s\n"
     ]
    },
    {
     "name": "stdout",
     "output_type": "stream",
     "text": [
      "sequence accuracy is 0.9096628207678535\n",
      "Epoch 3/19\n",
      "315/315 [==============================] - 2s 7ms/step - loss: 0.1323 - val_loss: 0.2374\n",
      "sequence accuracy is 0.8996999535839798\n",
      "Epoch 4/19\n",
      "315/315 [==============================] - 2s 7ms/step - loss: 0.1241 - val_loss: 0.2268\n",
      "sequence accuracy is 0.8870294852242336\n",
      "Epoch 5/19\n",
      "315/315 [==============================] - 2s 7ms/step - loss: 0.0833 - val_loss: 0.2582\n",
      "sequence accuracy is 0.8769036093981389\n",
      "Epoch 6/19\n",
      "315/315 [==============================] - 2s 7ms/step - loss: 0.0589 - val_loss: 0.2242\n",
      "sequence accuracy is 0.9132075680215724\n",
      "Epoch 7/19\n",
      "315/315 [==============================] - 2s 6ms/step - loss: 0.0408 - val_loss: 0.2529\n",
      "sequence accuracy is 0.906206484981102\n",
      "Epoch 8/19\n",
      "315/315 [==============================] - 2s 6ms/step - loss: 0.0320 - val_loss: 0.3082\n",
      "sequence accuracy is 0.9122212275932189\n",
      "Epoch 9/19\n",
      "315/315 [==============================] - 2s 7ms/step - loss: 0.0216 - val_loss: 0.3256\n",
      "sequence accuracy is 0.902208628959176\n",
      "Epoch 10/19\n",
      "315/315 [==============================] - 2s 7ms/step - loss: 0.0144 - val_loss: 0.4237\n",
      "sequence accuracy is 0.907988528612161\n",
      "Epoch 11/19\n",
      "315/315 [==============================] - 2s 7ms/step - loss: 0.0110 - val_loss: 0.4040\n",
      "sequence accuracy is 0.9054411732201667\n",
      "Epoch 12/19\n",
      "315/315 [==============================] - 2s 7ms/step - loss: 0.0274 - val_loss: 0.3942\n",
      "sequence accuracy is 0.9081819286961519\n",
      "Epoch 13/19\n",
      "315/315 [==============================] - 2s 6ms/step - loss: 0.0130 - val_loss: 0.4394\n",
      "sequence accuracy is 0.8917788387153814\n",
      "Epoch 14/19\n",
      "315/315 [==============================] - 2s 7ms/step - loss: 0.0139 - val_loss: 0.5001\n",
      "sequence accuracy is 0.8981914329288508\n",
      "Epoch 15/19\n",
      "315/315 [==============================] - 2s 7ms/step - loss: 0.0060 - val_loss: 0.5403\n",
      "sequence accuracy is 0.8955473774948611\n",
      "Epoch 16/19\n",
      "315/315 [==============================] - 2s 7ms/step - loss: 0.0063 - val_loss: 0.5185\n",
      "sequence accuracy is 0.9036812324558495\n",
      "Epoch 17/19\n",
      "315/315 [==============================] - 2s 7ms/step - loss: 0.0049 - val_loss: 0.6597\n",
      "sequence accuracy is 0.8968127666158301\n",
      "Epoch 18/19\n",
      "315/315 [==============================] - 2s 7ms/step - loss: 0.0044 - val_loss: 0.6003\n",
      "sequence accuracy is 0.9032668037044405\n",
      "Epoch 19/19\n",
      "315/315 [==============================] - 2s 7ms/step - loss: 0.0055 - val_loss: 0.5685\n",
      "sequence accuracy is 0.8856176646111\n"
     ]
    },
    {
     "data": {
      "text/html": [
       "Waiting for W&B process to finish... <strong style=\"color:green\">(success).</strong>"
      ],
      "text/plain": [
       "<IPython.core.display.HTML object>"
      ]
     },
     "metadata": {},
     "output_type": "display_data"
    },
    {
     "data": {
      "text/html": [
       "<style>\n",
       "    table.wandb td:nth-child(1) { padding: 0 10px; text-align: left ; width: auto;} td:nth-child(2) {text-align: left ; width: 100%}\n",
       "    .wandb-row { display: flex; flex-direction: row; flex-wrap: wrap; justify-content: flex-start; width: 100% }\n",
       "    .wandb-col { display: flex; flex-direction: column; flex-basis: 100%; flex: 1; padding: 10px; }\n",
       "    </style>\n",
       "<div class=\"wandb-row\"><div class=\"wandb-col\"><h3>Run history:</h3><br/><table class=\"wandb\"><tr><td>Validation Acc :</td><td>▁</td></tr><tr><td>epoch</td><td>▁▁▂▂▃▃▃▄▄▅▅▅▆▆▆▇▇██</td></tr><tr><td>loss</td><td>█▆▆▅▄▃▂▂▂▁▁▂▁▁▁▁▁▁▁</td></tr><tr><td>val_loss</td><td>▁▁▁▁▂▁▂▃▃▄▄▄▅▆▆▆█▇▇</td></tr></table><br/></div><div class=\"wandb-col\"><h3>Run summary:</h3><br/><table class=\"wandb\"><tr><td>Validation Acc :</td><td>0.88562</td></tr><tr><td>best_epoch</td><td>1</td></tr><tr><td>best_val_loss</td><td>0.20675</td></tr><tr><td>epoch</td><td>18</td></tr><tr><td>loss</td><td>0.00551</td></tr><tr><td>val_loss</td><td>0.56853</td></tr></table><br/></div></div>"
      ],
      "text/plain": [
       "<IPython.core.display.HTML object>"
      ]
     },
     "metadata": {},
     "output_type": "display_data"
    },
    {
     "data": {
      "text/html": [
       "Synced <strong style=\"color:#cdcd00\">charmed-sweep-14</strong>: <a href=\"https://wandb.ai/chhyyi/redzone_gru_sweep/runs/4i6g4l6i\" target=\"_blank\">https://wandb.ai/chhyyi/redzone_gru_sweep/runs/4i6g4l6i</a><br/>Synced 5 W&B file(s), 1 media file(s), 7 artifact file(s) and 1 other file(s)"
      ],
      "text/plain": [
       "<IPython.core.display.HTML object>"
      ]
     },
     "metadata": {},
     "output_type": "display_data"
    },
    {
     "data": {
      "text/html": [
       "Find logs at: <code>./wandb/run-20221113_095813-4i6g4l6i/logs</code>"
      ],
      "text/plain": [
       "<IPython.core.display.HTML object>"
      ]
     },
     "metadata": {},
     "output_type": "display_data"
    },
    {
     "name": "stderr",
     "output_type": "stream",
     "text": [
      "\u001b[34m\u001b[1mwandb\u001b[0m: Sweep Agent: Waiting for job.\n",
      "\u001b[34m\u001b[1mwandb\u001b[0m: Job received.\n",
      "\u001b[34m\u001b[1mwandb\u001b[0m: Agent Starting Run: kvjiz9rl with config:\n",
      "\u001b[34m\u001b[1mwandb\u001b[0m: \tepochs: 14\n",
      "\u001b[34m\u001b[1mwandb\u001b[0m: \tlearning_rate: 0.0009018546588114012\n",
      "\u001b[34m\u001b[1mwandb\u001b[0m: \tsplit_train_ratio: 0.8\n",
      "\u001b[34m\u001b[1mwandb\u001b[0m: \tstride_inside_seq: 3\n",
      "\u001b[34m\u001b[1mwandb\u001b[0m: \tunit_gru0: 64\n"
     ]
    },
    {
     "data": {
      "text/html": [
       "Tracking run with wandb version 0.13.5"
      ],
      "text/plain": [
       "<IPython.core.display.HTML object>"
      ]
     },
     "metadata": {},
     "output_type": "display_data"
    },
    {
     "data": {
      "text/html": [
       "Run data is saved locally in <code>/aiffel/aiffel/aiffelthon/wandb/run-20221113_100335-kvjiz9rl</code>"
      ],
      "text/plain": [
       "<IPython.core.display.HTML object>"
      ]
     },
     "metadata": {},
     "output_type": "display_data"
    },
    {
     "data": {
      "text/html": [
       "Syncing run <strong><a href=\"https://wandb.ai/chhyyi/redzone_gru_sweep/runs/kvjiz9rl\" target=\"_blank\">dazzling-sweep-15</a></strong> to <a href=\"https://wandb.ai/chhyyi/redzone_gru_sweep\" target=\"_blank\">Weights & Biases</a> (<a href=\"https://wandb.me/run\" target=\"_blank\">docs</a>)<br/>Sweep page:  <a href=\"https://wandb.ai/chhyyi/redzone_gru_sweep/sweeps/5qc8l882\" target=\"_blank\">https://wandb.ai/chhyyi/redzone_gru_sweep/sweeps/5qc8l882</a>"
      ],
      "text/plain": [
       "<IPython.core.display.HTML object>"
      ]
     },
     "metadata": {},
     "output_type": "display_data"
    },
    {
     "name": "stdout",
     "output_type": "stream",
     "text": [
      "loaded dataset. Generating sequences\n",
      "Any missing values exist: False\n",
      "train dataset columns: Index(['풍속(m/s)', '풍향(deg)', '기온(°C)', '수온(°C)', '강수량(mm)', '풍속(m/s).1',\n",
      "       '풍향(deg).1', '기온(°C).1', '수온(°C).1', '강수량(mm).1', '풍속(m/s).2',\n",
      "       '풍향(deg).2', '기온(°C).2', '수온(°C).2', '강수량(mm).2', '풍속(m/s).3',\n",
      "       '풍향(deg).3', '기온(°C).3', '수온(°C).3', '강수량(mm).3', '풍속(m/s).4',\n",
      "       '풍향(deg).4', '기온(°C).4', '수온(°C).4', '강수량(mm).4', '적조발생'],\n",
      "      dtype='object')\n",
      "20106 25133\n",
      "(20106, 24, 25) (5027, 24, 25) (20106, 24) (5027, 24) \n",
      "\n",
      "\n",
      "Epoch 1/14\n",
      "315/315 [==============================] - 3s 5ms/step - loss: 0.2238 - val_loss: 0.2280\n"
     ]
    },
    {
     "name": "stderr",
     "output_type": "stream",
     "text": [
      "WARNING:absl:Found untraced functions such as gru_cell_layer_call_and_return_conditional_losses, gru_cell_layer_call_fn, gru_cell_layer_call_fn, gru_cell_layer_call_and_return_conditional_losses, gru_cell_layer_call_and_return_conditional_losses while saving (showing 5 of 5). These functions will not be directly callable after loading.\n",
      "\u001b[34m\u001b[1mwandb\u001b[0m: Adding directory to artifact (/aiffel/aiffel/aiffelthon/wandb/run-20221113_100335-kvjiz9rl/files/model-best)... Done. 0.0s\n"
     ]
    },
    {
     "name": "stdout",
     "output_type": "stream",
     "text": [
      "sequence accuracy is 0.8937487567137458\n",
      "Epoch 2/14\n",
      "315/315 [==============================] - 1s 4ms/step - loss: 0.0994 - val_loss: 0.1753\n"
     ]
    },
    {
     "name": "stderr",
     "output_type": "stream",
     "text": [
      "WARNING:absl:Found untraced functions such as gru_cell_layer_call_and_return_conditional_losses, gru_cell_layer_call_fn, gru_cell_layer_call_fn, gru_cell_layer_call_and_return_conditional_losses, gru_cell_layer_call_and_return_conditional_losses while saving (showing 5 of 5). These functions will not be directly callable after loading.\n",
      "\u001b[34m\u001b[1mwandb\u001b[0m: Adding directory to artifact (/aiffel/aiffel/aiffelthon/wandb/run-20221113_100335-kvjiz9rl/files/model-best)... Done. 0.0s\n"
     ]
    },
    {
     "name": "stdout",
     "output_type": "stream",
     "text": [
      "sequence accuracy is 0.9053278960281148\n",
      "Epoch 3/14\n",
      "315/315 [==============================] - 1s 4ms/step - loss: 0.0729 - val_loss: 0.1693\n"
     ]
    },
    {
     "name": "stderr",
     "output_type": "stream",
     "text": [
      "WARNING:absl:Found untraced functions such as gru_cell_layer_call_and_return_conditional_losses, gru_cell_layer_call_fn, gru_cell_layer_call_fn, gru_cell_layer_call_and_return_conditional_losses, gru_cell_layer_call_and_return_conditional_losses while saving (showing 5 of 5). These functions will not be directly callable after loading.\n",
      "\u001b[34m\u001b[1mwandb\u001b[0m: Adding directory to artifact (/aiffel/aiffel/aiffelthon/wandb/run-20221113_100335-kvjiz9rl/files/model-best)... Done. 0.0s\n"
     ]
    },
    {
     "name": "stdout",
     "output_type": "stream",
     "text": [
      "sequence accuracy is 0.9275412771036403\n",
      "Epoch 4/14\n",
      "315/315 [==============================] - 1s 4ms/step - loss: 0.0467 - val_loss: 0.1438\n"
     ]
    },
    {
     "name": "stderr",
     "output_type": "stream",
     "text": [
      "WARNING:absl:Found untraced functions such as gru_cell_layer_call_and_return_conditional_losses, gru_cell_layer_call_fn, gru_cell_layer_call_fn, gru_cell_layer_call_and_return_conditional_losses, gru_cell_layer_call_and_return_conditional_losses while saving (showing 5 of 5). These functions will not be directly callable after loading.\n",
      "\u001b[34m\u001b[1mwandb\u001b[0m: Adding directory to artifact (/aiffel/aiffel/aiffelthon/wandb/run-20221113_100335-kvjiz9rl/files/model-best)... Done. 0.0s\n"
     ]
    },
    {
     "name": "stdout",
     "output_type": "stream",
     "text": [
      "sequence accuracy is 0.9419633976526756\n",
      "Epoch 5/14\n",
      "315/315 [==============================] - 1s 4ms/step - loss: 0.0367 - val_loss: 0.1712\n",
      "sequence accuracy is 0.9430906438565082\n",
      "Epoch 6/14\n",
      "315/315 [==============================] - 1s 4ms/step - loss: 0.0269 - val_loss: 0.1726\n",
      "sequence accuracy is 0.9320585504939991\n",
      "Epoch 7/14\n",
      "315/315 [==============================] - 1s 4ms/step - loss: 0.0241 - val_loss: 0.1943\n",
      "sequence accuracy is 0.9392944764936012\n",
      "Epoch 8/14\n",
      "315/315 [==============================] - 1s 4ms/step - loss: 0.0227 - val_loss: 0.2191\n",
      "sequence accuracy is 0.9349015317286652\n",
      "Epoch 9/14\n",
      "315/315 [==============================] - 1s 4ms/step - loss: 0.0200 - val_loss: 0.2535\n",
      "sequence accuracy is 0.9356392149061733\n",
      "Epoch 10/14\n",
      "315/315 [==============================] - 1s 4ms/step - loss: 0.0161 - val_loss: 0.2321\n",
      "sequence accuracy is 0.9345119687023407\n",
      "Epoch 11/14\n",
      "315/315 [==============================] - 1s 4ms/step - loss: 0.0155 - val_loss: 0.2371\n",
      "sequence accuracy is 0.9301687553875738\n",
      "Epoch 12/14\n",
      "315/315 [==============================] - 1s 4ms/step - loss: 0.0193 - val_loss: 0.2661\n",
      "sequence accuracy is 0.9312462701412373\n",
      "Epoch 13/14\n",
      "315/315 [==============================] - 1s 4ms/step - loss: 0.0118 - val_loss: 0.2903\n",
      "sequence accuracy is 0.9314369073668854\n",
      "Epoch 14/14\n",
      "315/315 [==============================] - 1s 4ms/step - loss: 0.0125 - val_loss: 0.2830\n",
      "sequence accuracy is 0.9386479676414031\n"
     ]
    },
    {
     "data": {
      "text/html": [
       "Waiting for W&B process to finish... <strong style=\"color:green\">(success).</strong>"
      ],
      "text/plain": [
       "<IPython.core.display.HTML object>"
      ]
     },
     "metadata": {},
     "output_type": "display_data"
    },
    {
     "data": {
      "application/vnd.jupyter.widget-view+json": {
       "model_id": "05cdac49b3f441109c8d5fab04a3b2e5",
       "version_major": 2,
       "version_minor": 0
      },
      "text/plain": [
       "VBox(children=(Label(value='3.870 MB of 3.891 MB uploaded (0.008 MB deduped)\\r'), FloatProgress(value=0.994446…"
      ]
     },
     "metadata": {},
     "output_type": "display_data"
    },
    {
     "data": {
      "text/html": [
       "<style>\n",
       "    table.wandb td:nth-child(1) { padding: 0 10px; text-align: left ; width: auto;} td:nth-child(2) {text-align: left ; width: 100%}\n",
       "    .wandb-row { display: flex; flex-direction: row; flex-wrap: wrap; justify-content: flex-start; width: 100% }\n",
       "    .wandb-col { display: flex; flex-direction: column; flex-basis: 100%; flex: 1; padding: 10px; }\n",
       "    </style>\n",
       "<div class=\"wandb-row\"><div class=\"wandb-col\"><h3>Run history:</h3><br/><table class=\"wandb\"><tr><td>Validation Acc :</td><td>▁</td></tr><tr><td>epoch</td><td>▁▂▂▃▃▄▄▅▅▆▆▇▇█</td></tr><tr><td>loss</td><td>█▄▃▂▂▁▁▁▁▁▁▁▁▁</td></tr><tr><td>val_loss</td><td>▅▃▂▁▂▂▃▅▆▅▅▇██</td></tr></table><br/></div><div class=\"wandb-col\"><h3>Run summary:</h3><br/><table class=\"wandb\"><tr><td>Validation Acc :</td><td>0.93865</td></tr><tr><td>best_epoch</td><td>3</td></tr><tr><td>best_val_loss</td><td>0.14379</td></tr><tr><td>epoch</td><td>13</td></tr><tr><td>loss</td><td>0.01253</td></tr><tr><td>val_loss</td><td>0.28297</td></tr></table><br/></div></div>"
      ],
      "text/plain": [
       "<IPython.core.display.HTML object>"
      ]
     },
     "metadata": {},
     "output_type": "display_data"
    },
    {
     "data": {
      "text/html": [
       "Synced <strong style=\"color:#cdcd00\">dazzling-sweep-15</strong>: <a href=\"https://wandb.ai/chhyyi/redzone_gru_sweep/runs/kvjiz9rl\" target=\"_blank\">https://wandb.ai/chhyyi/redzone_gru_sweep/runs/kvjiz9rl</a><br/>Synced 5 W&B file(s), 1 media file(s), 13 artifact file(s) and 1 other file(s)"
      ],
      "text/plain": [
       "<IPython.core.display.HTML object>"
      ]
     },
     "metadata": {},
     "output_type": "display_data"
    },
    {
     "data": {
      "text/html": [
       "Find logs at: <code>./wandb/run-20221113_100335-kvjiz9rl/logs</code>"
      ],
      "text/plain": [
       "<IPython.core.display.HTML object>"
      ]
     },
     "metadata": {},
     "output_type": "display_data"
    },
    {
     "name": "stderr",
     "output_type": "stream",
     "text": [
      "\u001b[34m\u001b[1mwandb\u001b[0m: Agent Starting Run: zxa52y91 with config:\n",
      "\u001b[34m\u001b[1mwandb\u001b[0m: \tepochs: 8\n",
      "\u001b[34m\u001b[1mwandb\u001b[0m: \tlearning_rate: 0.0007071598961832926\n",
      "\u001b[34m\u001b[1mwandb\u001b[0m: \tsplit_train_ratio: 0.5\n",
      "\u001b[34m\u001b[1mwandb\u001b[0m: \tstride_inside_seq: 3\n",
      "\u001b[34m\u001b[1mwandb\u001b[0m: \tunit_gru0: 256\n"
     ]
    },
    {
     "data": {
      "text/html": [
       "Tracking run with wandb version 0.13.5"
      ],
      "text/plain": [
       "<IPython.core.display.HTML object>"
      ]
     },
     "metadata": {},
     "output_type": "display_data"
    },
    {
     "data": {
      "text/html": [
       "Run data is saved locally in <code>/aiffel/aiffel/aiffelthon/wandb/run-20221113_100551-zxa52y91</code>"
      ],
      "text/plain": [
       "<IPython.core.display.HTML object>"
      ]
     },
     "metadata": {},
     "output_type": "display_data"
    },
    {
     "data": {
      "text/html": [
       "Syncing run <strong><a href=\"https://wandb.ai/chhyyi/redzone_gru_sweep/runs/zxa52y91\" target=\"_blank\">morning-sweep-16</a></strong> to <a href=\"https://wandb.ai/chhyyi/redzone_gru_sweep\" target=\"_blank\">Weights & Biases</a> (<a href=\"https://wandb.me/run\" target=\"_blank\">docs</a>)<br/>Sweep page:  <a href=\"https://wandb.ai/chhyyi/redzone_gru_sweep/sweeps/5qc8l882\" target=\"_blank\">https://wandb.ai/chhyyi/redzone_gru_sweep/sweeps/5qc8l882</a>"
      ],
      "text/plain": [
       "<IPython.core.display.HTML object>"
      ]
     },
     "metadata": {},
     "output_type": "display_data"
    },
    {
     "name": "stdout",
     "output_type": "stream",
     "text": [
      "loaded dataset. Generating sequences\n",
      "Any missing values exist: False\n",
      "train dataset columns: Index(['풍속(m/s)', '풍향(deg)', '기온(°C)', '수온(°C)', '강수량(mm)', '풍속(m/s).1',\n",
      "       '풍향(deg).1', '기온(°C).1', '수온(°C).1', '강수량(mm).1', '풍속(m/s).2',\n",
      "       '풍향(deg).2', '기온(°C).2', '수온(°C).2', '강수량(mm).2', '풍속(m/s).3',\n",
      "       '풍향(deg).3', '기온(°C).3', '수온(°C).3', '강수량(mm).3', '풍속(m/s).4',\n",
      "       '풍향(deg).4', '기온(°C).4', '수온(°C).4', '강수량(mm).4', '적조발생'],\n",
      "      dtype='object')\n",
      "12566 25133\n",
      "(12566, 24, 25) (12567, 24, 25) (12566, 24) (12567, 24) \n",
      "\n",
      "\n",
      "Epoch 1/8\n",
      "197/197 [==============================] - 3s 8ms/step - loss: 0.1895 - val_loss: 0.3018\n"
     ]
    },
    {
     "name": "stderr",
     "output_type": "stream",
     "text": [
      "WARNING:absl:Found untraced functions such as gru_cell_layer_call_and_return_conditional_losses, gru_cell_layer_call_fn, gru_cell_layer_call_fn, gru_cell_layer_call_and_return_conditional_losses, gru_cell_layer_call_and_return_conditional_losses while saving (showing 5 of 5). These functions will not be directly callable after loading.\n",
      "\u001b[34m\u001b[1mwandb\u001b[0m: Adding directory to artifact (/aiffel/aiffel/aiffelthon/wandb/run-20221113_100551-zxa52y91/files/model-best)... Done. 0.0s\n"
     ]
    },
    {
     "name": "stdout",
     "output_type": "stream",
     "text": [
      "sequence accuracy is 0.9262983740484337\n",
      "Epoch 2/8\n",
      "197/197 [==============================] - 1s 6ms/step - loss: 0.1003 - val_loss: 0.3137\n",
      "sequence accuracy is 0.9247997400599454\n",
      "Epoch 3/8\n",
      "197/197 [==============================] - 1s 6ms/step - loss: 0.0917 - val_loss: 0.2959\n"
     ]
    },
    {
     "name": "stderr",
     "output_type": "stream",
     "text": [
      "WARNING:absl:Found untraced functions such as gru_cell_layer_call_and_return_conditional_losses, gru_cell_layer_call_fn, gru_cell_layer_call_fn, gru_cell_layer_call_and_return_conditional_losses, gru_cell_layer_call_and_return_conditional_losses while saving (showing 5 of 5). These functions will not be directly callable after loading.\n",
      "\u001b[34m\u001b[1mwandb\u001b[0m: Adding directory to artifact (/aiffel/aiffel/aiffelthon/wandb/run-20221113_100551-zxa52y91/files/model-best)... Done. 0.0s\n"
     ]
    },
    {
     "name": "stdout",
     "output_type": "stream",
     "text": [
      "sequence accuracy is 0.9261425426381263\n",
      "Epoch 4/8\n",
      "197/197 [==============================] - 1s 6ms/step - loss: 0.0682 - val_loss: 0.3706\n",
      "sequence accuracy is 0.9126349433702023\n",
      "Epoch 5/8\n",
      "197/197 [==============================] - 1s 6ms/step - loss: 0.0445 - val_loss: 0.4542\n",
      "sequence accuracy is 0.9120248799766585\n",
      "Epoch 6/8\n",
      "197/197 [==============================] - 1s 6ms/step - loss: 0.0327 - val_loss: 0.4587\n",
      "sequence accuracy is 0.9117496883371794\n",
      "Epoch 7/8\n",
      "197/197 [==============================] - 1s 5ms/step - loss: 0.0211 - val_loss: 0.5353\n",
      "sequence accuracy is 0.9136528208800827\n",
      "Epoch 8/8\n",
      "197/197 [==============================] - 1s 5ms/step - loss: 0.0137 - val_loss: 0.5637\n",
      "sequence accuracy is 0.9120812445293228\n"
     ]
    },
    {
     "data": {
      "text/html": [
       "Waiting for W&B process to finish... <strong style=\"color:green\">(success).</strong>"
      ],
      "text/plain": [
       "<IPython.core.display.HTML object>"
      ]
     },
     "metadata": {},
     "output_type": "display_data"
    },
    {
     "data": {
      "text/html": [
       "<style>\n",
       "    table.wandb td:nth-child(1) { padding: 0 10px; text-align: left ; width: auto;} td:nth-child(2) {text-align: left ; width: 100%}\n",
       "    .wandb-row { display: flex; flex-direction: row; flex-wrap: wrap; justify-content: flex-start; width: 100% }\n",
       "    .wandb-col { display: flex; flex-direction: column; flex-basis: 100%; flex: 1; padding: 10px; }\n",
       "    </style>\n",
       "<div class=\"wandb-row\"><div class=\"wandb-col\"><h3>Run history:</h3><br/><table class=\"wandb\"><tr><td>Validation Acc :</td><td>▁</td></tr><tr><td>epoch</td><td>▁▂▃▄▅▆▇█</td></tr><tr><td>loss</td><td>█▄▄▃▂▂▁▁</td></tr><tr><td>val_loss</td><td>▁▁▁▃▅▅▇█</td></tr></table><br/></div><div class=\"wandb-col\"><h3>Run summary:</h3><br/><table class=\"wandb\"><tr><td>Validation Acc :</td><td>0.91208</td></tr><tr><td>best_epoch</td><td>2</td></tr><tr><td>best_val_loss</td><td>0.29592</td></tr><tr><td>epoch</td><td>7</td></tr><tr><td>loss</td><td>0.01373</td></tr><tr><td>val_loss</td><td>0.56367</td></tr></table><br/></div></div>"
      ],
      "text/plain": [
       "<IPython.core.display.HTML object>"
      ]
     },
     "metadata": {},
     "output_type": "display_data"
    },
    {
     "data": {
      "text/html": [
       "Synced <strong style=\"color:#cdcd00\">morning-sweep-16</strong>: <a href=\"https://wandb.ai/chhyyi/redzone_gru_sweep/runs/zxa52y91\" target=\"_blank\">https://wandb.ai/chhyyi/redzone_gru_sweep/runs/zxa52y91</a><br/>Synced 5 W&B file(s), 1 media file(s), 7 artifact file(s) and 1 other file(s)"
      ],
      "text/plain": [
       "<IPython.core.display.HTML object>"
      ]
     },
     "metadata": {},
     "output_type": "display_data"
    },
    {
     "data": {
      "text/html": [
       "Find logs at: <code>./wandb/run-20221113_100551-zxa52y91/logs</code>"
      ],
      "text/plain": [
       "<IPython.core.display.HTML object>"
      ]
     },
     "metadata": {},
     "output_type": "display_data"
    },
    {
     "name": "stderr",
     "output_type": "stream",
     "text": [
      "\u001b[34m\u001b[1mwandb\u001b[0m: Sweep Agent: Waiting for job.\n",
      "\u001b[34m\u001b[1mwandb\u001b[0m: Job received.\n",
      "\u001b[34m\u001b[1mwandb\u001b[0m: Agent Starting Run: d3ydx40r with config:\n",
      "\u001b[34m\u001b[1mwandb\u001b[0m: \tepochs: 11\n",
      "\u001b[34m\u001b[1mwandb\u001b[0m: \tlearning_rate: 0.008367105250035567\n",
      "\u001b[34m\u001b[1mwandb\u001b[0m: \tsplit_train_ratio: 0.5\n",
      "\u001b[34m\u001b[1mwandb\u001b[0m: \tstride_inside_seq: 3\n",
      "\u001b[34m\u001b[1mwandb\u001b[0m: \tunit_gru0: 128\n"
     ]
    },
    {
     "data": {
      "application/vnd.jupyter.widget-view+json": {
       "model_id": "086e29b79784440b8d549a757dd990d7",
       "version_major": 2,
       "version_minor": 0
      },
      "text/plain": [
       "VBox(children=(Label(value='Waiting for wandb.init()...\\r'), FloatProgress(value=0.01667041746659379, max=1.0)…"
      ]
     },
     "metadata": {},
     "output_type": "display_data"
    },
    {
     "data": {
      "text/html": [
       "Tracking run with wandb version 0.13.5"
      ],
      "text/plain": [
       "<IPython.core.display.HTML object>"
      ]
     },
     "metadata": {},
     "output_type": "display_data"
    },
    {
     "data": {
      "text/html": [
       "Run data is saved locally in <code>/aiffel/aiffel/aiffelthon/wandb/run-20221113_100738-d3ydx40r</code>"
      ],
      "text/plain": [
       "<IPython.core.display.HTML object>"
      ]
     },
     "metadata": {},
     "output_type": "display_data"
    },
    {
     "data": {
      "text/html": [
       "Syncing run <strong><a href=\"https://wandb.ai/chhyyi/redzone_gru_sweep/runs/d3ydx40r\" target=\"_blank\">devoted-sweep-17</a></strong> to <a href=\"https://wandb.ai/chhyyi/redzone_gru_sweep\" target=\"_blank\">Weights & Biases</a> (<a href=\"https://wandb.me/run\" target=\"_blank\">docs</a>)<br/>Sweep page:  <a href=\"https://wandb.ai/chhyyi/redzone_gru_sweep/sweeps/5qc8l882\" target=\"_blank\">https://wandb.ai/chhyyi/redzone_gru_sweep/sweeps/5qc8l882</a>"
      ],
      "text/plain": [
       "<IPython.core.display.HTML object>"
      ]
     },
     "metadata": {},
     "output_type": "display_data"
    },
    {
     "name": "stdout",
     "output_type": "stream",
     "text": [
      "loaded dataset. Generating sequences\n",
      "Any missing values exist: False\n",
      "train dataset columns: Index(['풍속(m/s)', '풍향(deg)', '기온(°C)', '수온(°C)', '강수량(mm)', '풍속(m/s).1',\n",
      "       '풍향(deg).1', '기온(°C).1', '수온(°C).1', '강수량(mm).1', '풍속(m/s).2',\n",
      "       '풍향(deg).2', '기온(°C).2', '수온(°C).2', '강수량(mm).2', '풍속(m/s).3',\n",
      "       '풍향(deg).3', '기온(°C).3', '수온(°C).3', '강수량(mm).3', '풍속(m/s).4',\n",
      "       '풍향(deg).4', '기온(°C).4', '수온(°C).4', '강수량(mm).4', '적조발생'],\n",
      "      dtype='object')\n",
      "12566 25133\n",
      "(12566, 24, 25) (12567, 24, 25) (12566, 24) (12567, 24) \n",
      "\n",
      "\n",
      "Epoch 1/11\n",
      "197/197 [==============================] - 3s 7ms/step - loss: 0.1172 - val_loss: 0.3959\n"
     ]
    },
    {
     "name": "stderr",
     "output_type": "stream",
     "text": [
      "WARNING:absl:Found untraced functions such as gru_cell_layer_call_and_return_conditional_losses, gru_cell_layer_call_fn, gru_cell_layer_call_fn, gru_cell_layer_call_and_return_conditional_losses, gru_cell_layer_call_and_return_conditional_losses while saving (showing 5 of 5). These functions will not be directly callable after loading.\n",
      "\u001b[34m\u001b[1mwandb\u001b[0m: Adding directory to artifact (/aiffel/aiffel/aiffelthon/wandb/run-20221113_100738-d3ydx40r/files/model-best)... Done. 0.0s\n"
     ]
    },
    {
     "name": "stdout",
     "output_type": "stream",
     "text": [
      "sequence accuracy is 0.9045317100342166\n",
      "Epoch 2/11\n",
      "197/197 [==============================] - 1s 6ms/step - loss: 0.0419 - val_loss: 0.4464\n",
      "sequence accuracy is 0.929169650672396\n",
      "Epoch 3/11\n",
      "197/197 [==============================] - 1s 6ms/step - loss: 0.0194 - val_loss: 0.5287\n",
      "sequence accuracy is 0.9265636190021485\n",
      "Epoch 4/11\n",
      "197/197 [==============================] - 1s 6ms/step - loss: 0.0148 - val_loss: 0.5932\n",
      "sequence accuracy is 0.9280257818095011\n",
      "Epoch 5/11\n",
      "197/197 [==============================] - 1s 6ms/step - loss: 0.0073 - val_loss: 0.6401\n",
      "sequence accuracy is 0.9251014561947959\n",
      "Epoch 6/11\n",
      "197/197 [==============================] - 1s 6ms/step - loss: 0.0080 - val_loss: 0.7588\n",
      "sequence accuracy is 0.932100607410944\n",
      "Epoch 7/11\n",
      "197/197 [==============================] - 1s 6ms/step - loss: 0.0100 - val_loss: 0.7102\n",
      "sequence accuracy is 0.9208674836211241\n",
      "Epoch 8/11\n",
      "197/197 [==============================] - 1s 5ms/step - loss: 0.0046 - val_loss: 0.7609\n",
      "sequence accuracy is 0.9286093207076735\n",
      "Epoch 9/11\n",
      "197/197 [==============================] - 1s 5ms/step - loss: 0.0026 - val_loss: 0.8029\n",
      "sequence accuracy is 0.9277870613511578\n",
      "Epoch 10/11\n",
      "197/197 [==============================] - 1s 5ms/step - loss: 0.0068 - val_loss: 0.6939\n",
      "sequence accuracy is 0.9134306782313466\n",
      "Epoch 11/11\n",
      "197/197 [==============================] - 1s 5ms/step - loss: 0.0163 - val_loss: 0.7780\n",
      "sequence accuracy is 0.9230657011750352\n"
     ]
    },
    {
     "data": {
      "text/html": [
       "Waiting for W&B process to finish... <strong style=\"color:green\">(success).</strong>"
      ],
      "text/plain": [
       "<IPython.core.display.HTML object>"
      ]
     },
     "metadata": {},
     "output_type": "display_data"
    },
    {
     "data": {
      "application/vnd.jupyter.widget-view+json": {
       "model_id": "99f3fb9cb14949798c253d9c4ac6b511",
       "version_major": 2,
       "version_minor": 0
      },
      "text/plain": [
       "VBox(children=(Label(value='2.160 MB of 2.160 MB uploaded (0.000 MB deduped)\\r'), FloatProgress(value=1.0, max…"
      ]
     },
     "metadata": {},
     "output_type": "display_data"
    },
    {
     "data": {
      "text/html": [
       "<style>\n",
       "    table.wandb td:nth-child(1) { padding: 0 10px; text-align: left ; width: auto;} td:nth-child(2) {text-align: left ; width: 100%}\n",
       "    .wandb-row { display: flex; flex-direction: row; flex-wrap: wrap; justify-content: flex-start; width: 100% }\n",
       "    .wandb-col { display: flex; flex-direction: column; flex-basis: 100%; flex: 1; padding: 10px; }\n",
       "    </style>\n",
       "<div class=\"wandb-row\"><div class=\"wandb-col\"><h3>Run history:</h3><br/><table class=\"wandb\"><tr><td>Validation Acc :</td><td>▁</td></tr><tr><td>epoch</td><td>▁▂▂▃▄▅▅▆▇▇█</td></tr><tr><td>loss</td><td>█▃▂▂▁▁▁▁▁▁▂</td></tr><tr><td>val_loss</td><td>▁▂▃▄▅▇▆▇█▆█</td></tr></table><br/></div><div class=\"wandb-col\"><h3>Run summary:</h3><br/><table class=\"wandb\"><tr><td>Validation Acc :</td><td>0.92307</td></tr><tr><td>best_epoch</td><td>0</td></tr><tr><td>best_val_loss</td><td>0.39589</td></tr><tr><td>epoch</td><td>10</td></tr><tr><td>loss</td><td>0.01625</td></tr><tr><td>val_loss</td><td>0.77804</td></tr></table><br/></div></div>"
      ],
      "text/plain": [
       "<IPython.core.display.HTML object>"
      ]
     },
     "metadata": {},
     "output_type": "display_data"
    },
    {
     "data": {
      "text/html": [
       "Synced <strong style=\"color:#cdcd00\">devoted-sweep-17</strong>: <a href=\"https://wandb.ai/chhyyi/redzone_gru_sweep/runs/d3ydx40r\" target=\"_blank\">https://wandb.ai/chhyyi/redzone_gru_sweep/runs/d3ydx40r</a><br/>Synced 5 W&B file(s), 1 media file(s), 4 artifact file(s) and 1 other file(s)"
      ],
      "text/plain": [
       "<IPython.core.display.HTML object>"
      ]
     },
     "metadata": {},
     "output_type": "display_data"
    },
    {
     "data": {
      "text/html": [
       "Find logs at: <code>./wandb/run-20221113_100738-d3ydx40r/logs</code>"
      ],
      "text/plain": [
       "<IPython.core.display.HTML object>"
      ]
     },
     "metadata": {},
     "output_type": "display_data"
    },
    {
     "name": "stderr",
     "output_type": "stream",
     "text": [
      "\u001b[34m\u001b[1mwandb\u001b[0m: Agent Starting Run: janijy2x with config:\n",
      "\u001b[34m\u001b[1mwandb\u001b[0m: \tepochs: 5\n",
      "\u001b[34m\u001b[1mwandb\u001b[0m: \tlearning_rate: 0.003699460784361931\n",
      "\u001b[34m\u001b[1mwandb\u001b[0m: \tsplit_train_ratio: 0.8\n",
      "\u001b[34m\u001b[1mwandb\u001b[0m: \tstride_inside_seq: 1\n",
      "\u001b[34m\u001b[1mwandb\u001b[0m: \tunit_gru0: 64\n"
     ]
    },
    {
     "data": {
      "text/html": [
       "Tracking run with wandb version 0.13.5"
      ],
      "text/plain": [
       "<IPython.core.display.HTML object>"
      ]
     },
     "metadata": {},
     "output_type": "display_data"
    },
    {
     "data": {
      "text/html": [
       "Run data is saved locally in <code>/aiffel/aiffel/aiffelthon/wandb/run-20221113_100926-janijy2x</code>"
      ],
      "text/plain": [
       "<IPython.core.display.HTML object>"
      ]
     },
     "metadata": {},
     "output_type": "display_data"
    },
    {
     "data": {
      "text/html": [
       "Syncing run <strong><a href=\"https://wandb.ai/chhyyi/redzone_gru_sweep/runs/janijy2x\" target=\"_blank\">wandering-sweep-18</a></strong> to <a href=\"https://wandb.ai/chhyyi/redzone_gru_sweep\" target=\"_blank\">Weights & Biases</a> (<a href=\"https://wandb.me/run\" target=\"_blank\">docs</a>)<br/>Sweep page:  <a href=\"https://wandb.ai/chhyyi/redzone_gru_sweep/sweeps/5qc8l882\" target=\"_blank\">https://wandb.ai/chhyyi/redzone_gru_sweep/sweeps/5qc8l882</a>"
      ],
      "text/plain": [
       "<IPython.core.display.HTML object>"
      ]
     },
     "metadata": {},
     "output_type": "display_data"
    },
    {
     "name": "stdout",
     "output_type": "stream",
     "text": [
      "loaded dataset. Generating sequences\n",
      "Any missing values exist: False\n",
      "train dataset columns: Index(['풍속(m/s)', '풍향(deg)', '기온(°C)', '수온(°C)', '강수량(mm)', '풍속(m/s).1',\n",
      "       '풍향(deg).1', '기온(°C).1', '수온(°C).1', '강수량(mm).1', '풍속(m/s).2',\n",
      "       '풍향(deg).2', '기온(°C).2', '수온(°C).2', '강수량(mm).2', '풍속(m/s).3',\n",
      "       '풍향(deg).3', '기온(°C).3', '수온(°C).3', '강수량(mm).3', '풍속(m/s).4',\n",
      "       '풍향(deg).4', '기온(°C).4', '수온(°C).4', '강수량(mm).4', '적조발생'],\n",
      "      dtype='object')\n",
      "20106 25133\n",
      "(20106, 72, 25) (5027, 72, 25) (20106, 72) (5027, 72) \n",
      "\n",
      "\n",
      "Epoch 1/5\n",
      "315/315 [==============================] - 3s 7ms/step - loss: 0.1614 - val_loss: 0.2497\n"
     ]
    },
    {
     "name": "stderr",
     "output_type": "stream",
     "text": [
      "WARNING:absl:Found untraced functions such as gru_cell_layer_call_and_return_conditional_losses, gru_cell_layer_call_fn, gru_cell_layer_call_fn, gru_cell_layer_call_and_return_conditional_losses, gru_cell_layer_call_and_return_conditional_losses while saving (showing 5 of 5). These functions will not be directly callable after loading.\n",
      "\u001b[34m\u001b[1mwandb\u001b[0m: Adding directory to artifact (/aiffel/aiffel/aiffelthon/wandb/run-20221113_100926-janijy2x/files/model-best)... Done. 0.0s\n"
     ]
    },
    {
     "name": "stdout",
     "output_type": "stream",
     "text": [
      "sequence accuracy is 0.8797244877660633\n",
      "Epoch 2/5\n",
      "315/315 [==============================] - 2s 5ms/step - loss: 0.0720 - val_loss: 0.2351\n"
     ]
    },
    {
     "name": "stderr",
     "output_type": "stream",
     "text": [
      "WARNING:absl:Found untraced functions such as gru_cell_layer_call_and_return_conditional_losses, gru_cell_layer_call_fn, gru_cell_layer_call_fn, gru_cell_layer_call_and_return_conditional_losses, gru_cell_layer_call_and_return_conditional_losses while saving (showing 5 of 5). These functions will not be directly callable after loading.\n",
      "\u001b[34m\u001b[1mwandb\u001b[0m: Adding directory to artifact (/aiffel/aiffel/aiffelthon/wandb/run-20221113_100926-janijy2x/files/model-best)... Done. 0.0s\n"
     ]
    },
    {
     "name": "stdout",
     "output_type": "stream",
     "text": [
      "sequence accuracy is 0.8974951926264837\n",
      "Epoch 3/5\n",
      "315/315 [==============================] - 2s 5ms/step - loss: 0.0431 - val_loss: 0.2436\n",
      "sequence accuracy is 0.9086239860309883\n",
      "Epoch 4/5\n",
      "315/315 [==============================] - 2s 5ms/step - loss: 0.0246 - val_loss: 0.3423\n",
      "sequence accuracy is 0.8995314192250735\n",
      "Epoch 5/5\n",
      "315/315 [==============================] - 2s 5ms/step - loss: 0.0188 - val_loss: 0.3464\n",
      "sequence accuracy is 0.907715005636231\n"
     ]
    },
    {
     "data": {
      "text/html": [
       "Waiting for W&B process to finish... <strong style=\"color:green\">(success).</strong>"
      ],
      "text/plain": [
       "<IPython.core.display.HTML object>"
      ]
     },
     "metadata": {},
     "output_type": "display_data"
    },
    {
     "data": {
      "text/html": [
       "<style>\n",
       "    table.wandb td:nth-child(1) { padding: 0 10px; text-align: left ; width: auto;} td:nth-child(2) {text-align: left ; width: 100%}\n",
       "    .wandb-row { display: flex; flex-direction: row; flex-wrap: wrap; justify-content: flex-start; width: 100% }\n",
       "    .wandb-col { display: flex; flex-direction: column; flex-basis: 100%; flex: 1; padding: 10px; }\n",
       "    </style>\n",
       "<div class=\"wandb-row\"><div class=\"wandb-col\"><h3>Run history:</h3><br/><table class=\"wandb\"><tr><td>Validation Acc :</td><td>▁</td></tr><tr><td>epoch</td><td>▁▃▅▆█</td></tr><tr><td>loss</td><td>█▄▂▁▁</td></tr><tr><td>val_loss</td><td>▂▁▂██</td></tr></table><br/></div><div class=\"wandb-col\"><h3>Run summary:</h3><br/><table class=\"wandb\"><tr><td>Validation Acc :</td><td>0.90772</td></tr><tr><td>best_epoch</td><td>1</td></tr><tr><td>best_val_loss</td><td>0.23514</td></tr><tr><td>epoch</td><td>4</td></tr><tr><td>loss</td><td>0.01884</td></tr><tr><td>val_loss</td><td>0.34638</td></tr></table><br/></div></div>"
      ],
      "text/plain": [
       "<IPython.core.display.HTML object>"
      ]
     },
     "metadata": {},
     "output_type": "display_data"
    },
    {
     "data": {
      "text/html": [
       "Synced <strong style=\"color:#cdcd00\">wandering-sweep-18</strong>: <a href=\"https://wandb.ai/chhyyi/redzone_gru_sweep/runs/janijy2x\" target=\"_blank\">https://wandb.ai/chhyyi/redzone_gru_sweep/runs/janijy2x</a><br/>Synced 5 W&B file(s), 1 media file(s), 7 artifact file(s) and 1 other file(s)"
      ],
      "text/plain": [
       "<IPython.core.display.HTML object>"
      ]
     },
     "metadata": {},
     "output_type": "display_data"
    },
    {
     "data": {
      "text/html": [
       "Find logs at: <code>./wandb/run-20221113_100926-janijy2x/logs</code>"
      ],
      "text/plain": [
       "<IPython.core.display.HTML object>"
      ]
     },
     "metadata": {},
     "output_type": "display_data"
    },
    {
     "name": "stderr",
     "output_type": "stream",
     "text": [
      "\u001b[34m\u001b[1mwandb\u001b[0m: Agent Starting Run: 7va76i2g with config:\n",
      "\u001b[34m\u001b[1mwandb\u001b[0m: \tepochs: 17\n",
      "\u001b[34m\u001b[1mwandb\u001b[0m: \tlearning_rate: 0.002247793786028802\n",
      "\u001b[34m\u001b[1mwandb\u001b[0m: \tsplit_train_ratio: 0.5\n",
      "\u001b[34m\u001b[1mwandb\u001b[0m: \tstride_inside_seq: 9\n",
      "\u001b[34m\u001b[1mwandb\u001b[0m: \tunit_gru0: 128\n"
     ]
    },
    {
     "data": {
      "application/vnd.jupyter.widget-view+json": {
       "model_id": "59d1b278ba104f5aac33c85f2ab39cbd",
       "version_major": 2,
       "version_minor": 0
      },
      "text/plain": [
       "VBox(children=(Label(value='Waiting for wandb.init()...\\r'), FloatProgress(value=0.01666917409990371, max=1.0)…"
      ]
     },
     "metadata": {},
     "output_type": "display_data"
    },
    {
     "data": {
      "text/html": [
       "Tracking run with wandb version 0.13.5"
      ],
      "text/plain": [
       "<IPython.core.display.HTML object>"
      ]
     },
     "metadata": {},
     "output_type": "display_data"
    },
    {
     "data": {
      "text/html": [
       "Run data is saved locally in <code>/aiffel/aiffel/aiffelthon/wandb/run-20221113_101208-7va76i2g</code>"
      ],
      "text/plain": [
       "<IPython.core.display.HTML object>"
      ]
     },
     "metadata": {},
     "output_type": "display_data"
    },
    {
     "data": {
      "text/html": [
       "Syncing run <strong><a href=\"https://wandb.ai/chhyyi/redzone_gru_sweep/runs/7va76i2g\" target=\"_blank\">hopeful-sweep-19</a></strong> to <a href=\"https://wandb.ai/chhyyi/redzone_gru_sweep\" target=\"_blank\">Weights & Biases</a> (<a href=\"https://wandb.me/run\" target=\"_blank\">docs</a>)<br/>Sweep page:  <a href=\"https://wandb.ai/chhyyi/redzone_gru_sweep/sweeps/5qc8l882\" target=\"_blank\">https://wandb.ai/chhyyi/redzone_gru_sweep/sweeps/5qc8l882</a>"
      ],
      "text/plain": [
       "<IPython.core.display.HTML object>"
      ]
     },
     "metadata": {},
     "output_type": "display_data"
    },
    {
     "name": "stdout",
     "output_type": "stream",
     "text": [
      "loaded dataset. Generating sequences\n",
      "Any missing values exist: False\n",
      "train dataset columns: Index(['풍속(m/s)', '풍향(deg)', '기온(°C)', '수온(°C)', '강수량(mm)', '풍속(m/s).1',\n",
      "       '풍향(deg).1', '기온(°C).1', '수온(°C).1', '강수량(mm).1', '풍속(m/s).2',\n",
      "       '풍향(deg).2', '기온(°C).2', '수온(°C).2', '강수량(mm).2', '풍속(m/s).3',\n",
      "       '풍향(deg).3', '기온(°C).3', '수온(°C).3', '강수량(mm).3', '풍속(m/s).4',\n",
      "       '풍향(deg).4', '기온(°C).4', '수온(°C).4', '강수량(mm).4', '적조발생'],\n",
      "      dtype='object')\n",
      "12566 25133\n",
      "(12566, 8, 25) (12567, 8, 25) (12566, 8) (12567, 8) \n",
      "\n",
      "\n",
      "Epoch 1/17\n",
      "197/197 [==============================] - 2s 6ms/step - loss: 0.1436 - val_loss: 0.3536\n"
     ]
    },
    {
     "name": "stderr",
     "output_type": "stream",
     "text": [
      "WARNING:absl:Found untraced functions such as gru_cell_layer_call_and_return_conditional_losses, gru_cell_layer_call_fn, gru_cell_layer_call_fn, gru_cell_layer_call_and_return_conditional_losses, gru_cell_layer_call_and_return_conditional_losses while saving (showing 5 of 5). These functions will not be directly callable after loading.\n",
      "\u001b[34m\u001b[1mwandb\u001b[0m: Adding directory to artifact (/aiffel/aiffel/aiffelthon/wandb/run-20221113_101208-7va76i2g/files/model-best)... Done. 0.0s\n"
     ]
    },
    {
     "name": "stdout",
     "output_type": "stream",
     "text": [
      "sequence accuracy is 0.926842126203549\n",
      "Epoch 2/17\n",
      "197/197 [==============================] - 1s 5ms/step - loss: 0.0795 - val_loss: 0.4366\n",
      "sequence accuracy is 0.9126680989894167\n",
      "Epoch 3/17\n",
      "197/197 [==============================] - 1s 5ms/step - loss: 0.0513 - val_loss: 0.4980\n",
      "sequence accuracy is 0.9234701997294501\n",
      "Epoch 4/17\n",
      "197/197 [==============================] - 1s 5ms/step - loss: 0.0328 - val_loss: 0.5638\n",
      "sequence accuracy is 0.9248627357364526\n",
      "Epoch 5/17\n",
      "197/197 [==============================] - 1s 6ms/step - loss: 0.0192 - val_loss: 0.6753\n",
      "sequence accuracy is 0.9195412588525503\n",
      "Epoch 6/17\n",
      "197/197 [==============================] - 1s 5ms/step - loss: 0.0143 - val_loss: 0.6570\n",
      "sequence accuracy is 0.9241067876183655\n",
      "Epoch 7/17\n",
      "197/197 [==============================] - 1s 5ms/step - loss: 0.0107 - val_loss: 0.7314\n",
      "sequence accuracy is 0.9266929259170844\n",
      "Epoch 8/17\n",
      "197/197 [==============================] - 1s 5ms/step - loss: 0.0131 - val_loss: 0.7442\n",
      "sequence accuracy is 0.9217195830349327\n",
      "Epoch 9/17\n",
      "197/197 [==============================] - 1s 5ms/step - loss: 0.0050 - val_loss: 0.7668\n",
      "sequence accuracy is 0.9216400095488183\n",
      "Epoch 10/17\n",
      "197/197 [==============================] - 1s 5ms/step - loss: 0.0044 - val_loss: 0.7209\n",
      "sequence accuracy is 0.927269833691414\n",
      "Epoch 11/17\n",
      "197/197 [==============================] - 1s 5ms/step - loss: 0.0039 - val_loss: 0.8268\n",
      "sequence accuracy is 0.9219781968648046\n",
      "Epoch 12/17\n",
      "197/197 [==============================] - 1s 5ms/step - loss: 0.0023 - val_loss: 0.9170\n",
      "sequence accuracy is 0.9221671838943264\n",
      "Epoch 13/17\n",
      "197/197 [==============================] - 1s 5ms/step - loss: 0.0018 - val_loss: 0.8610\n",
      "sequence accuracy is 0.9215107026338824\n",
      "Epoch 14/17\n",
      "197/197 [==============================] - 1s 5ms/step - loss: 0.0017 - val_loss: 0.9007\n",
      "sequence accuracy is 0.9208144346303812\n",
      "Epoch 15/17\n",
      "197/197 [==============================] - 1s 5ms/step - loss: 0.0083 - val_loss: 0.8285\n",
      "sequence accuracy is 0.9243753481340018\n",
      "Epoch 16/17\n",
      "197/197 [==============================] - 1s 5ms/step - loss: 0.0135 - val_loss: 0.7787\n",
      "sequence accuracy is 0.92261478475372\n",
      "Epoch 17/17\n",
      "197/197 [==============================] - 1s 5ms/step - loss: 0.0020 - val_loss: 0.8448\n",
      "sequence accuracy is 0.9270311132330707\n"
     ]
    },
    {
     "data": {
      "text/html": [
       "Waiting for W&B process to finish... <strong style=\"color:green\">(success).</strong>"
      ],
      "text/plain": [
       "<IPython.core.display.HTML object>"
      ]
     },
     "metadata": {},
     "output_type": "display_data"
    },
    {
     "data": {
      "text/html": [
       "<style>\n",
       "    table.wandb td:nth-child(1) { padding: 0 10px; text-align: left ; width: auto;} td:nth-child(2) {text-align: left ; width: 100%}\n",
       "    .wandb-row { display: flex; flex-direction: row; flex-wrap: wrap; justify-content: flex-start; width: 100% }\n",
       "    .wandb-col { display: flex; flex-direction: column; flex-basis: 100%; flex: 1; padding: 10px; }\n",
       "    </style>\n",
       "<div class=\"wandb-row\"><div class=\"wandb-col\"><h3>Run history:</h3><br/><table class=\"wandb\"><tr><td>Validation Acc :</td><td>▁</td></tr><tr><td>epoch</td><td>▁▁▂▂▃▃▄▄▅▅▅▆▆▇▇██</td></tr><tr><td>loss</td><td>█▅▃▃▂▂▁▂▁▁▁▁▁▁▁▂▁</td></tr><tr><td>val_loss</td><td>▁▂▃▄▅▅▆▆▆▆▇█▇█▇▆▇</td></tr></table><br/></div><div class=\"wandb-col\"><h3>Run summary:</h3><br/><table class=\"wandb\"><tr><td>Validation Acc :</td><td>0.92703</td></tr><tr><td>best_epoch</td><td>0</td></tr><tr><td>best_val_loss</td><td>0.35356</td></tr><tr><td>epoch</td><td>16</td></tr><tr><td>loss</td><td>0.00201</td></tr><tr><td>val_loss</td><td>0.84479</td></tr></table><br/></div></div>"
      ],
      "text/plain": [
       "<IPython.core.display.HTML object>"
      ]
     },
     "metadata": {},
     "output_type": "display_data"
    },
    {
     "data": {
      "text/html": [
       "Synced <strong style=\"color:#cdcd00\">hopeful-sweep-19</strong>: <a href=\"https://wandb.ai/chhyyi/redzone_gru_sweep/runs/7va76i2g\" target=\"_blank\">https://wandb.ai/chhyyi/redzone_gru_sweep/runs/7va76i2g</a><br/>Synced 5 W&B file(s), 1 media file(s), 4 artifact file(s) and 1 other file(s)"
      ],
      "text/plain": [
       "<IPython.core.display.HTML object>"
      ]
     },
     "metadata": {},
     "output_type": "display_data"
    },
    {
     "data": {
      "text/html": [
       "Find logs at: <code>./wandb/run-20221113_101208-7va76i2g/logs</code>"
      ],
      "text/plain": [
       "<IPython.core.display.HTML object>"
      ]
     },
     "metadata": {},
     "output_type": "display_data"
    },
    {
     "name": "stderr",
     "output_type": "stream",
     "text": [
      "\u001b[34m\u001b[1mwandb\u001b[0m: Agent Starting Run: 5hpwdly2 with config:\n",
      "\u001b[34m\u001b[1mwandb\u001b[0m: \tepochs: 19\n",
      "\u001b[34m\u001b[1mwandb\u001b[0m: \tlearning_rate: 0.00167938515580053\n",
      "\u001b[34m\u001b[1mwandb\u001b[0m: \tsplit_train_ratio: 0.8\n",
      "\u001b[34m\u001b[1mwandb\u001b[0m: \tstride_inside_seq: 9\n",
      "\u001b[34m\u001b[1mwandb\u001b[0m: \tunit_gru0: 256\n"
     ]
    },
    {
     "data": {
      "application/vnd.jupyter.widget-view+json": {
       "model_id": "afa6e998f32144a0ae79299e825232c1",
       "version_major": 2,
       "version_minor": 0
      },
      "text/plain": [
       "VBox(children=(Label(value='Waiting for wandb.init()...\\r'), FloatProgress(value=0.016669130100005227, max=1.0…"
      ]
     },
     "metadata": {},
     "output_type": "display_data"
    },
    {
     "data": {
      "text/html": [
       "Tracking run with wandb version 0.13.5"
      ],
      "text/plain": [
       "<IPython.core.display.HTML object>"
      ]
     },
     "metadata": {},
     "output_type": "display_data"
    },
    {
     "data": {
      "text/html": [
       "Run data is saved locally in <code>/aiffel/aiffel/aiffelthon/wandb/run-20221113_101400-5hpwdly2</code>"
      ],
      "text/plain": [
       "<IPython.core.display.HTML object>"
      ]
     },
     "metadata": {},
     "output_type": "display_data"
    },
    {
     "data": {
      "text/html": [
       "Syncing run <strong><a href=\"https://wandb.ai/chhyyi/redzone_gru_sweep/runs/5hpwdly2\" target=\"_blank\">chocolate-sweep-20</a></strong> to <a href=\"https://wandb.ai/chhyyi/redzone_gru_sweep\" target=\"_blank\">Weights & Biases</a> (<a href=\"https://wandb.me/run\" target=\"_blank\">docs</a>)<br/>Sweep page:  <a href=\"https://wandb.ai/chhyyi/redzone_gru_sweep/sweeps/5qc8l882\" target=\"_blank\">https://wandb.ai/chhyyi/redzone_gru_sweep/sweeps/5qc8l882</a>"
      ],
      "text/plain": [
       "<IPython.core.display.HTML object>"
      ]
     },
     "metadata": {},
     "output_type": "display_data"
    },
    {
     "name": "stdout",
     "output_type": "stream",
     "text": [
      "loaded dataset. Generating sequences\n",
      "Any missing values exist: False\n",
      "train dataset columns: Index(['풍속(m/s)', '풍향(deg)', '기온(°C)', '수온(°C)', '강수량(mm)', '풍속(m/s).1',\n",
      "       '풍향(deg).1', '기온(°C).1', '수온(°C).1', '강수량(mm).1', '풍속(m/s).2',\n",
      "       '풍향(deg).2', '기온(°C).2', '수온(°C).2', '강수량(mm).2', '풍속(m/s).3',\n",
      "       '풍향(deg).3', '기온(°C).3', '수온(°C).3', '강수량(mm).3', '풍속(m/s).4',\n",
      "       '풍향(deg).4', '기온(°C).4', '수온(°C).4', '강수량(mm).4', '적조발생'],\n",
      "      dtype='object')\n",
      "20106 25133\n",
      "(20106, 8, 25) (5027, 8, 25) (20106, 8) (5027, 8) \n",
      "\n",
      "\n",
      "Epoch 1/19\n",
      "315/315 [==============================] - 3s 5ms/step - loss: 0.1550 - val_loss: 0.2122\n"
     ]
    },
    {
     "name": "stderr",
     "output_type": "stream",
     "text": [
      "WARNING:absl:Found untraced functions such as gru_cell_layer_call_and_return_conditional_losses, gru_cell_layer_call_fn, gru_cell_layer_call_fn, gru_cell_layer_call_and_return_conditional_losses, gru_cell_layer_call_and_return_conditional_losses while saving (showing 5 of 5). These functions will not be directly callable after loading.\n",
      "\u001b[34m\u001b[1mwandb\u001b[0m: Adding directory to artifact (/aiffel/aiffel/aiffelthon/wandb/run-20221113_101400-5hpwdly2/files/model-best)... Done. 0.0s\n"
     ]
    },
    {
     "name": "stdout",
     "output_type": "stream",
     "text": [
      "sequence accuracy is 0.9028496120946887\n",
      "Epoch 2/19\n",
      "315/315 [==============================] - 1s 4ms/step - loss: 0.0915 - val_loss: 0.1759\n"
     ]
    },
    {
     "name": "stderr",
     "output_type": "stream",
     "text": [
      "WARNING:absl:Found untraced functions such as gru_cell_layer_call_and_return_conditional_losses, gru_cell_layer_call_fn, gru_cell_layer_call_fn, gru_cell_layer_call_and_return_conditional_losses, gru_cell_layer_call_and_return_conditional_losses while saving (showing 5 of 5). These functions will not be directly callable after loading.\n",
      "\u001b[34m\u001b[1mwandb\u001b[0m: Adding directory to artifact (/aiffel/aiffel/aiffelthon/wandb/run-20221113_101400-5hpwdly2/files/model-best)... Done. 0.0s\n"
     ]
    },
    {
     "name": "stdout",
     "output_type": "stream",
     "text": [
      "sequence accuracy is 0.9234881639148598\n",
      "Epoch 3/19\n",
      "315/315 [==============================] - 1s 4ms/step - loss: 0.0635 - val_loss: 0.1817\n",
      "sequence accuracy is 0.9345285458523971\n",
      "Epoch 4/19\n",
      "315/315 [==============================] - 1s 4ms/step - loss: 0.0388 - val_loss: 0.2029\n",
      "sequence accuracy is 0.9318181818181818\n",
      "Epoch 5/19\n",
      "315/315 [==============================] - 1s 4ms/step - loss: 0.0262 - val_loss: 0.2447\n",
      "sequence accuracy is 0.922220011935548\n",
      "Epoch 6/19\n",
      "315/315 [==============================] - 1s 4ms/step - loss: 0.0205 - val_loss: 0.2732\n",
      "sequence accuracy is 0.9218221603341954\n",
      "Epoch 7/19\n",
      "315/315 [==============================] - 1s 4ms/step - loss: 0.0150 - val_loss: 0.3515\n",
      "sequence accuracy is 0.9007111597374179\n",
      "Epoch 8/19\n",
      "315/315 [==============================] - 1s 4ms/step - loss: 0.0082 - val_loss: 0.3572\n",
      "sequence accuracy is 0.9223692062860553\n",
      "Epoch 9/19\n",
      "315/315 [==============================] - ETA: 0s - loss: 0.009 - 1s 4ms/step - loss: 0.0097 - val_loss: 0.3600\n",
      "sequence accuracy is 0.9224189377362244\n",
      "Epoch 10/19\n",
      "315/315 [==============================] - 1s 4ms/step - loss: 0.0046 - val_loss: 0.4346\n",
      "sequence accuracy is 0.9177939128704993\n",
      "Epoch 11/19\n",
      "315/315 [==============================] - 1s 4ms/step - loss: 0.0040 - val_loss: 0.5004\n",
      "sequence accuracy is 0.8972548239506664\n",
      "Epoch 12/19\n",
      "315/315 [==============================] - 1s 4ms/step - loss: 0.0061 - val_loss: 0.4181\n",
      "sequence accuracy is 0.9192112592003183\n",
      "Epoch 13/19\n",
      "315/315 [==============================] - 1s 4ms/step - loss: 0.0025 - val_loss: 0.4771\n",
      "sequence accuracy is 0.905286453152974\n",
      "Epoch 14/19\n",
      "315/315 [==============================] - 1s 4ms/step - loss: 0.0018 - val_loss: 0.5258\n",
      "sequence accuracy is 0.915307340362045\n",
      "Epoch 15/19\n",
      "315/315 [==============================] - 1s 4ms/step - loss: 0.0015 - val_loss: 0.5866\n",
      "sequence accuracy is 0.9095136264173463\n",
      "Epoch 16/19\n",
      "315/315 [==============================] - ETA: 0s - loss: 0.001 - 1s 4ms/step - loss: 0.0012 - val_loss: 0.6360\n",
      "sequence accuracy is 0.9036453152973941\n",
      "Epoch 17/19\n",
      "315/315 [==============================] - 1s 4ms/step - loss: 0.0207 - val_loss: 0.4620\n",
      "sequence accuracy is 0.8951909687686493\n",
      "Epoch 18/19\n",
      "315/315 [==============================] - 1s 4ms/step - loss: 0.0033 - val_loss: 0.5142\n",
      "sequence accuracy is 0.9028744778197733\n",
      "Epoch 19/19\n",
      "315/315 [==============================] - 1s 4ms/step - loss: 0.0015 - val_loss: 0.5595\n",
      "sequence accuracy is 0.9051869902526357\n"
     ]
    },
    {
     "data": {
      "text/html": [
       "Waiting for W&B process to finish... <strong style=\"color:green\">(success).</strong>"
      ],
      "text/plain": [
       "<IPython.core.display.HTML object>"
      ]
     },
     "metadata": {},
     "output_type": "display_data"
    },
    {
     "data": {
      "text/html": [
       "<style>\n",
       "    table.wandb td:nth-child(1) { padding: 0 10px; text-align: left ; width: auto;} td:nth-child(2) {text-align: left ; width: 100%}\n",
       "    .wandb-row { display: flex; flex-direction: row; flex-wrap: wrap; justify-content: flex-start; width: 100% }\n",
       "    .wandb-col { display: flex; flex-direction: column; flex-basis: 100%; flex: 1; padding: 10px; }\n",
       "    </style>\n",
       "<div class=\"wandb-row\"><div class=\"wandb-col\"><h3>Run history:</h3><br/><table class=\"wandb\"><tr><td>Validation Acc :</td><td>▁</td></tr><tr><td>epoch</td><td>▁▁▂▂▃▃▃▄▄▅▅▅▆▆▆▇▇██</td></tr><tr><td>loss</td><td>█▅▄▃▂▂▂▁▁▁▁▁▁▁▁▁▂▁▁</td></tr><tr><td>val_loss</td><td>▂▁▁▁▂▂▄▄▄▅▆▅▆▆▇█▅▆▇</td></tr></table><br/></div><div class=\"wandb-col\"><h3>Run summary:</h3><br/><table class=\"wandb\"><tr><td>Validation Acc :</td><td>0.90519</td></tr><tr><td>best_epoch</td><td>1</td></tr><tr><td>best_val_loss</td><td>0.1759</td></tr><tr><td>epoch</td><td>18</td></tr><tr><td>loss</td><td>0.00146</td></tr><tr><td>val_loss</td><td>0.55945</td></tr></table><br/></div></div>"
      ],
      "text/plain": [
       "<IPython.core.display.HTML object>"
      ]
     },
     "metadata": {},
     "output_type": "display_data"
    },
    {
     "data": {
      "text/html": [
       "Synced <strong style=\"color:#cdcd00\">chocolate-sweep-20</strong>: <a href=\"https://wandb.ai/chhyyi/redzone_gru_sweep/runs/5hpwdly2\" target=\"_blank\">https://wandb.ai/chhyyi/redzone_gru_sweep/runs/5hpwdly2</a><br/>Synced 5 W&B file(s), 1 media file(s), 7 artifact file(s) and 1 other file(s)"
      ],
      "text/plain": [
       "<IPython.core.display.HTML object>"
      ]
     },
     "metadata": {},
     "output_type": "display_data"
    },
    {
     "data": {
      "text/html": [
       "Find logs at: <code>./wandb/run-20221113_101400-5hpwdly2/logs</code>"
      ],
      "text/plain": [
       "<IPython.core.display.HTML object>"
      ]
     },
     "metadata": {},
     "output_type": "display_data"
    },
    {
     "name": "stderr",
     "output_type": "stream",
     "text": [
      "\u001b[34m\u001b[1mwandb\u001b[0m: Agent Starting Run: ql2168xs with config:\n",
      "\u001b[34m\u001b[1mwandb\u001b[0m: \tepochs: 2\n",
      "\u001b[34m\u001b[1mwandb\u001b[0m: \tlearning_rate: 0.0014383392144085908\n",
      "\u001b[34m\u001b[1mwandb\u001b[0m: \tsplit_train_ratio: 0.5\n",
      "\u001b[34m\u001b[1mwandb\u001b[0m: \tstride_inside_seq: 9\n",
      "\u001b[34m\u001b[1mwandb\u001b[0m: \tunit_gru0: 64\n"
     ]
    },
    {
     "data": {
      "text/html": [
       "Tracking run with wandb version 0.13.5"
      ],
      "text/plain": [
       "<IPython.core.display.HTML object>"
      ]
     },
     "metadata": {},
     "output_type": "display_data"
    },
    {
     "data": {
      "text/html": [
       "Run data is saved locally in <code>/aiffel/aiffel/aiffelthon/wandb/run-20221113_101628-ql2168xs</code>"
      ],
      "text/plain": [
       "<IPython.core.display.HTML object>"
      ]
     },
     "metadata": {},
     "output_type": "display_data"
    },
    {
     "data": {
      "text/html": [
       "Syncing run <strong><a href=\"https://wandb.ai/chhyyi/redzone_gru_sweep/runs/ql2168xs\" target=\"_blank\">cerulean-sweep-21</a></strong> to <a href=\"https://wandb.ai/chhyyi/redzone_gru_sweep\" target=\"_blank\">Weights & Biases</a> (<a href=\"https://wandb.me/run\" target=\"_blank\">docs</a>)<br/>Sweep page:  <a href=\"https://wandb.ai/chhyyi/redzone_gru_sweep/sweeps/5qc8l882\" target=\"_blank\">https://wandb.ai/chhyyi/redzone_gru_sweep/sweeps/5qc8l882</a>"
      ],
      "text/plain": [
       "<IPython.core.display.HTML object>"
      ]
     },
     "metadata": {},
     "output_type": "display_data"
    },
    {
     "name": "stdout",
     "output_type": "stream",
     "text": [
      "loaded dataset. Generating sequences\n",
      "Any missing values exist: False\n",
      "train dataset columns: Index(['풍속(m/s)', '풍향(deg)', '기온(°C)', '수온(°C)', '강수량(mm)', '풍속(m/s).1',\n",
      "       '풍향(deg).1', '기온(°C).1', '수온(°C).1', '강수량(mm).1', '풍속(m/s).2',\n",
      "       '풍향(deg).2', '기온(°C).2', '수온(°C).2', '강수량(mm).2', '풍속(m/s).3',\n",
      "       '풍향(deg).3', '기온(°C).3', '수온(°C).3', '강수량(mm).3', '풍속(m/s).4',\n",
      "       '풍향(deg).4', '기온(°C).4', '수온(°C).4', '강수량(mm).4', '적조발생'],\n",
      "      dtype='object')\n",
      "12566 25133\n",
      "(12566, 8, 25) (12567, 8, 25) (12566, 8) (12567, 8) \n",
      "\n",
      "\n",
      "Epoch 1/2\n",
      "197/197 [==============================] - 2s 6ms/step - loss: 0.1895 - val_loss: 0.2966\n"
     ]
    },
    {
     "name": "stderr",
     "output_type": "stream",
     "text": [
      "WARNING:absl:Found untraced functions such as gru_cell_layer_call_and_return_conditional_losses, gru_cell_layer_call_fn, gru_cell_layer_call_fn, gru_cell_layer_call_and_return_conditional_losses, gru_cell_layer_call_and_return_conditional_losses while saving (showing 5 of 5). These functions will not be directly callable after loading.\n",
      "\u001b[34m\u001b[1mwandb\u001b[0m: Adding directory to artifact (/aiffel/aiffel/aiffelthon/wandb/run-20221113_101628-ql2168xs/files/model-best)... Done. 0.0s\n"
     ]
    },
    {
     "name": "stdout",
     "output_type": "stream",
     "text": [
      "sequence accuracy is 0.9231916925280497\n",
      "Epoch 2/2\n",
      "197/197 [==============================] - 1s 5ms/step - loss: 0.0905 - val_loss: 0.3367\n",
      "sequence accuracy is 0.9331582716638815\n"
     ]
    },
    {
     "data": {
      "text/html": [
       "Waiting for W&B process to finish... <strong style=\"color:green\">(success).</strong>"
      ],
      "text/plain": [
       "<IPython.core.display.HTML object>"
      ]
     },
     "metadata": {},
     "output_type": "display_data"
    },
    {
     "data": {
      "text/html": [
       "<style>\n",
       "    table.wandb td:nth-child(1) { padding: 0 10px; text-align: left ; width: auto;} td:nth-child(2) {text-align: left ; width: 100%}\n",
       "    .wandb-row { display: flex; flex-direction: row; flex-wrap: wrap; justify-content: flex-start; width: 100% }\n",
       "    .wandb-col { display: flex; flex-direction: column; flex-basis: 100%; flex: 1; padding: 10px; }\n",
       "    </style>\n",
       "<div class=\"wandb-row\"><div class=\"wandb-col\"><h3>Run history:</h3><br/><table class=\"wandb\"><tr><td>Validation Acc :</td><td>▁</td></tr><tr><td>epoch</td><td>▁█</td></tr><tr><td>loss</td><td>█▁</td></tr><tr><td>val_loss</td><td>▁█</td></tr></table><br/></div><div class=\"wandb-col\"><h3>Run summary:</h3><br/><table class=\"wandb\"><tr><td>Validation Acc :</td><td>0.93316</td></tr><tr><td>best_epoch</td><td>0</td></tr><tr><td>best_val_loss</td><td>0.29659</td></tr><tr><td>epoch</td><td>1</td></tr><tr><td>loss</td><td>0.09048</td></tr><tr><td>val_loss</td><td>0.33671</td></tr></table><br/></div></div>"
      ],
      "text/plain": [
       "<IPython.core.display.HTML object>"
      ]
     },
     "metadata": {},
     "output_type": "display_data"
    },
    {
     "data": {
      "text/html": [
       "Synced <strong style=\"color:#cdcd00\">cerulean-sweep-21</strong>: <a href=\"https://wandb.ai/chhyyi/redzone_gru_sweep/runs/ql2168xs\" target=\"_blank\">https://wandb.ai/chhyyi/redzone_gru_sweep/runs/ql2168xs</a><br/>Synced 5 W&B file(s), 1 media file(s), 4 artifact file(s) and 1 other file(s)"
      ],
      "text/plain": [
       "<IPython.core.display.HTML object>"
      ]
     },
     "metadata": {},
     "output_type": "display_data"
    },
    {
     "data": {
      "text/html": [
       "Find logs at: <code>./wandb/run-20221113_101628-ql2168xs/logs</code>"
      ],
      "text/plain": [
       "<IPython.core.display.HTML object>"
      ]
     },
     "metadata": {},
     "output_type": "display_data"
    },
    {
     "name": "stderr",
     "output_type": "stream",
     "text": [
      "\u001b[34m\u001b[1mwandb\u001b[0m: Agent Starting Run: d13lt3ez with config:\n",
      "\u001b[34m\u001b[1mwandb\u001b[0m: \tepochs: 10\n",
      "\u001b[34m\u001b[1mwandb\u001b[0m: \tlearning_rate: 0.007390141832337003\n",
      "\u001b[34m\u001b[1mwandb\u001b[0m: \tsplit_train_ratio: 0.8\n",
      "\u001b[34m\u001b[1mwandb\u001b[0m: \tstride_inside_seq: 9\n",
      "\u001b[34m\u001b[1mwandb\u001b[0m: \tunit_gru0: 64\n"
     ]
    },
    {
     "data": {
      "text/html": [
       "Tracking run with wandb version 0.13.5"
      ],
      "text/plain": [
       "<IPython.core.display.HTML object>"
      ]
     },
     "metadata": {},
     "output_type": "display_data"
    },
    {
     "data": {
      "text/html": [
       "Run data is saved locally in <code>/aiffel/aiffel/aiffelthon/wandb/run-20221113_101712-d13lt3ez</code>"
      ],
      "text/plain": [
       "<IPython.core.display.HTML object>"
      ]
     },
     "metadata": {},
     "output_type": "display_data"
    },
    {
     "data": {
      "text/html": [
       "Syncing run <strong><a href=\"https://wandb.ai/chhyyi/redzone_gru_sweep/runs/d13lt3ez\" target=\"_blank\">distinctive-sweep-22</a></strong> to <a href=\"https://wandb.ai/chhyyi/redzone_gru_sweep\" target=\"_blank\">Weights & Biases</a> (<a href=\"https://wandb.me/run\" target=\"_blank\">docs</a>)<br/>Sweep page:  <a href=\"https://wandb.ai/chhyyi/redzone_gru_sweep/sweeps/5qc8l882\" target=\"_blank\">https://wandb.ai/chhyyi/redzone_gru_sweep/sweeps/5qc8l882</a>"
      ],
      "text/plain": [
       "<IPython.core.display.HTML object>"
      ]
     },
     "metadata": {},
     "output_type": "display_data"
    },
    {
     "name": "stdout",
     "output_type": "stream",
     "text": [
      "loaded dataset. Generating sequences\n",
      "Any missing values exist: False\n",
      "train dataset columns: Index(['풍속(m/s)', '풍향(deg)', '기온(°C)', '수온(°C)', '강수량(mm)', '풍속(m/s).1',\n",
      "       '풍향(deg).1', '기온(°C).1', '수온(°C).1', '강수량(mm).1', '풍속(m/s).2',\n",
      "       '풍향(deg).2', '기온(°C).2', '수온(°C).2', '강수량(mm).2', '풍속(m/s).3',\n",
      "       '풍향(deg).3', '기온(°C).3', '수온(°C).3', '강수량(mm).3', '풍속(m/s).4',\n",
      "       '풍향(deg).4', '기온(°C).4', '수온(°C).4', '강수량(mm).4', '적조발생'],\n",
      "      dtype='object')\n",
      "20106 25133\n",
      "(20106, 8, 25) (5027, 8, 25) (20106, 8) (5027, 8) \n",
      "\n",
      "\n",
      "Epoch 1/10\n",
      "315/315 [==============================] - 2s 4ms/step - loss: 0.1383 - val_loss: 0.2108\n"
     ]
    },
    {
     "name": "stderr",
     "output_type": "stream",
     "text": [
      "WARNING:absl:Found untraced functions such as gru_cell_layer_call_and_return_conditional_losses, gru_cell_layer_call_fn, gru_cell_layer_call_fn, gru_cell_layer_call_and_return_conditional_losses, gru_cell_layer_call_and_return_conditional_losses while saving (showing 5 of 5). These functions will not be directly callable after loading.\n",
      "\u001b[34m\u001b[1mwandb\u001b[0m: Adding directory to artifact (/aiffel/aiffel/aiffelthon/wandb/run-20221113_101712-d13lt3ez/files/model-best)... Done. 0.0s\n"
     ]
    },
    {
     "name": "stdout",
     "output_type": "stream",
     "text": [
      "sequence accuracy is 0.8931768450368013\n",
      "Epoch 2/10\n",
      "315/315 [==============================] - 1s 3ms/step - loss: 0.0654 - val_loss: 0.2044\n"
     ]
    },
    {
     "name": "stderr",
     "output_type": "stream",
     "text": [
      "WARNING:absl:Found untraced functions such as gru_cell_layer_call_and_return_conditional_losses, gru_cell_layer_call_fn, gru_cell_layer_call_fn, gru_cell_layer_call_and_return_conditional_losses, gru_cell_layer_call_and_return_conditional_losses while saving (showing 5 of 5). These functions will not be directly callable after loading.\n",
      "\u001b[34m\u001b[1mwandb\u001b[0m: Adding directory to artifact (/aiffel/aiffel/aiffelthon/wandb/run-20221113_101712-d13lt3ez/files/model-best)... Done. 0.0s\n"
     ]
    },
    {
     "name": "stdout",
     "output_type": "stream",
     "text": [
      "sequence accuracy is 0.9167495524169484\n",
      "Epoch 3/10\n",
      "315/315 [==============================] - 1s 3ms/step - loss: 0.0414 - val_loss: 0.2153\n",
      "sequence accuracy is 0.9275910085538094\n",
      "Epoch 4/10\n",
      "315/315 [==============================] - 1s 3ms/step - loss: 0.0272 - val_loss: 0.2803\n",
      "sequence accuracy is 0.9236622239904516\n",
      "Epoch 5/10\n",
      "315/315 [==============================] - 1s 3ms/step - loss: 0.0216 - val_loss: 0.2964\n",
      "sequence accuracy is 0.9211259200318281\n",
      "Epoch 6/10\n",
      "315/315 [==============================] - 1s 3ms/step - loss: 0.0167 - val_loss: 0.3128\n",
      "sequence accuracy is 0.9220210861348717\n",
      "Epoch 7/10\n",
      "315/315 [==============================] - 1s 3ms/step - loss: 0.0108 - val_loss: 0.3362\n",
      "sequence accuracy is 0.9271682912273722\n",
      "Epoch 8/10\n",
      "315/315 [==============================] - 1s 3ms/step - loss: 0.0142 - val_loss: 0.3163\n",
      "sequence accuracy is 0.9207777998806446\n",
      "Epoch 9/10\n",
      "315/315 [==============================] - 1s 3ms/step - loss: 0.0107 - val_loss: 0.2932\n",
      "sequence accuracy is 0.9311716729659837\n",
      "Epoch 10/10\n",
      "315/315 [==============================] - 1s 3ms/step - loss: 0.0129 - val_loss: 0.3482\n",
      "sequence accuracy is 0.9281131887805848\n"
     ]
    },
    {
     "data": {
      "text/html": [
       "Waiting for W&B process to finish... <strong style=\"color:green\">(success).</strong>"
      ],
      "text/plain": [
       "<IPython.core.display.HTML object>"
      ]
     },
     "metadata": {},
     "output_type": "display_data"
    },
    {
     "data": {
      "text/html": [
       "<style>\n",
       "    table.wandb td:nth-child(1) { padding: 0 10px; text-align: left ; width: auto;} td:nth-child(2) {text-align: left ; width: 100%}\n",
       "    .wandb-row { display: flex; flex-direction: row; flex-wrap: wrap; justify-content: flex-start; width: 100% }\n",
       "    .wandb-col { display: flex; flex-direction: column; flex-basis: 100%; flex: 1; padding: 10px; }\n",
       "    </style>\n",
       "<div class=\"wandb-row\"><div class=\"wandb-col\"><h3>Run history:</h3><br/><table class=\"wandb\"><tr><td>Validation Acc :</td><td>▁</td></tr><tr><td>epoch</td><td>▁▂▃▃▄▅▆▆▇█</td></tr><tr><td>loss</td><td>█▄▃▂▂▁▁▁▁▁</td></tr><tr><td>val_loss</td><td>▁▁▂▅▅▆▇▆▅█</td></tr></table><br/></div><div class=\"wandb-col\"><h3>Run summary:</h3><br/><table class=\"wandb\"><tr><td>Validation Acc :</td><td>0.92811</td></tr><tr><td>best_epoch</td><td>1</td></tr><tr><td>best_val_loss</td><td>0.20444</td></tr><tr><td>epoch</td><td>9</td></tr><tr><td>loss</td><td>0.01289</td></tr><tr><td>val_loss</td><td>0.34823</td></tr></table><br/></div></div>"
      ],
      "text/plain": [
       "<IPython.core.display.HTML object>"
      ]
     },
     "metadata": {},
     "output_type": "display_data"
    },
    {
     "data": {
      "text/html": [
       "Synced <strong style=\"color:#cdcd00\">distinctive-sweep-22</strong>: <a href=\"https://wandb.ai/chhyyi/redzone_gru_sweep/runs/d13lt3ez\" target=\"_blank\">https://wandb.ai/chhyyi/redzone_gru_sweep/runs/d13lt3ez</a><br/>Synced 5 W&B file(s), 1 media file(s), 7 artifact file(s) and 1 other file(s)"
      ],
      "text/plain": [
       "<IPython.core.display.HTML object>"
      ]
     },
     "metadata": {},
     "output_type": "display_data"
    },
    {
     "data": {
      "text/html": [
       "Find logs at: <code>./wandb/run-20221113_101712-d13lt3ez/logs</code>"
      ],
      "text/plain": [
       "<IPython.core.display.HTML object>"
      ]
     },
     "metadata": {},
     "output_type": "display_data"
    },
    {
     "name": "stderr",
     "output_type": "stream",
     "text": [
      "\u001b[34m\u001b[1mwandb\u001b[0m: Agent Starting Run: 1m9gjq8t with config:\n",
      "\u001b[34m\u001b[1mwandb\u001b[0m: \tepochs: 9\n",
      "\u001b[34m\u001b[1mwandb\u001b[0m: \tlearning_rate: 0.002669927322446307\n",
      "\u001b[34m\u001b[1mwandb\u001b[0m: \tsplit_train_ratio: 0.8\n",
      "\u001b[34m\u001b[1mwandb\u001b[0m: \tstride_inside_seq: 1\n",
      "\u001b[34m\u001b[1mwandb\u001b[0m: \tunit_gru0: 64\n"
     ]
    },
    {
     "data": {
      "text/html": [
       "Tracking run with wandb version 0.13.5"
      ],
      "text/plain": [
       "<IPython.core.display.HTML object>"
      ]
     },
     "metadata": {},
     "output_type": "display_data"
    },
    {
     "data": {
      "text/html": [
       "Run data is saved locally in <code>/aiffel/aiffel/aiffelthon/wandb/run-20221113_101842-1m9gjq8t</code>"
      ],
      "text/plain": [
       "<IPython.core.display.HTML object>"
      ]
     },
     "metadata": {},
     "output_type": "display_data"
    },
    {
     "data": {
      "text/html": [
       "Syncing run <strong><a href=\"https://wandb.ai/chhyyi/redzone_gru_sweep/runs/1m9gjq8t\" target=\"_blank\">true-sweep-23</a></strong> to <a href=\"https://wandb.ai/chhyyi/redzone_gru_sweep\" target=\"_blank\">Weights & Biases</a> (<a href=\"https://wandb.me/run\" target=\"_blank\">docs</a>)<br/>Sweep page:  <a href=\"https://wandb.ai/chhyyi/redzone_gru_sweep/sweeps/5qc8l882\" target=\"_blank\">https://wandb.ai/chhyyi/redzone_gru_sweep/sweeps/5qc8l882</a>"
      ],
      "text/plain": [
       "<IPython.core.display.HTML object>"
      ]
     },
     "metadata": {},
     "output_type": "display_data"
    },
    {
     "name": "stdout",
     "output_type": "stream",
     "text": [
      "loaded dataset. Generating sequences\n",
      "Any missing values exist: False\n",
      "train dataset columns: Index(['풍속(m/s)', '풍향(deg)', '기온(°C)', '수온(°C)', '강수량(mm)', '풍속(m/s).1',\n",
      "       '풍향(deg).1', '기온(°C).1', '수온(°C).1', '강수량(mm).1', '풍속(m/s).2',\n",
      "       '풍향(deg).2', '기온(°C).2', '수온(°C).2', '강수량(mm).2', '풍속(m/s).3',\n",
      "       '풍향(deg).3', '기온(°C).3', '수온(°C).3', '강수량(mm).3', '풍속(m/s).4',\n",
      "       '풍향(deg).4', '기온(°C).4', '수온(°C).4', '강수량(mm).4', '적조발생'],\n",
      "      dtype='object')\n",
      "20106 25133\n",
      "(20106, 72, 25) (5027, 72, 25) (20106, 72) (5027, 72) \n",
      "\n",
      "\n",
      "Epoch 1/9\n",
      "315/315 [==============================] - 3s 7ms/step - loss: 0.1931 - val_loss: 0.1884\n"
     ]
    },
    {
     "name": "stderr",
     "output_type": "stream",
     "text": [
      "WARNING:absl:Found untraced functions such as gru_cell_layer_call_and_return_conditional_losses, gru_cell_layer_call_fn, gru_cell_layer_call_fn, gru_cell_layer_call_and_return_conditional_losses, gru_cell_layer_call_and_return_conditional_losses while saving (showing 5 of 5). These functions will not be directly callable after loading.\n",
      "\u001b[34m\u001b[1mwandb\u001b[0m: Adding directory to artifact (/aiffel/aiffel/aiffelthon/wandb/run-20221113_101842-1m9gjq8t/files/model-best)... Done. 0.0s\n"
     ]
    },
    {
     "name": "stdout",
     "output_type": "stream",
     "text": [
      "sequence accuracy is 0.9131827022964879\n",
      "Epoch 2/9\n",
      "315/315 [==============================] - 2s 5ms/step - loss: 0.0992 - val_loss: 0.1729\n"
     ]
    },
    {
     "name": "stderr",
     "output_type": "stream",
     "text": [
      "WARNING:absl:Found untraced functions such as gru_cell_layer_call_and_return_conditional_losses, gru_cell_layer_call_fn, gru_cell_layer_call_fn, gru_cell_layer_call_and_return_conditional_losses, gru_cell_layer_call_and_return_conditional_losses while saving (showing 5 of 5). These functions will not be directly callable after loading.\n",
      "\u001b[34m\u001b[1mwandb\u001b[0m: Adding directory to artifact (/aiffel/aiffel/aiffelthon/wandb/run-20221113_101842-1m9gjq8t/files/model-best)... Done. 0.0s\n"
     ]
    },
    {
     "name": "stdout",
     "output_type": "stream",
     "text": [
      "sequence accuracy is 0.9256238534137877\n",
      "Epoch 3/9\n",
      "315/315 [==============================] - 2s 5ms/step - loss: 0.0598 - val_loss: 0.1795\n",
      "sequence accuracy is 0.9219354375262472\n",
      "Epoch 4/9\n",
      "315/315 [==============================] - 2s 5ms/step - loss: 0.0463 - val_loss: 0.1926\n",
      "sequence accuracy is 0.9300720553455784\n",
      "Epoch 5/9\n",
      "315/315 [==============================] - 2s 5ms/step - loss: 0.0290 - val_loss: 0.1968\n",
      "sequence accuracy is 0.929558163693831\n",
      "Epoch 6/9\n",
      "315/315 [==============================] - 2s 5ms/step - loss: 0.0241 - val_loss: 0.2706\n",
      "sequence accuracy is 0.9304174126384192\n",
      "Epoch 7/9\n",
      "315/315 [==============================] - 2s 5ms/step - loss: 0.0160 - val_loss: 0.3200\n",
      "sequence accuracy is 0.921410494441129\n",
      "Epoch 8/9\n",
      "315/315 [==============================] - 2s 5ms/step - loss: 0.0157 - val_loss: 0.2805\n",
      "sequence accuracy is 0.9155421833211768\n",
      "Epoch 9/9\n",
      "315/315 [==============================] - 2s 5ms/step - loss: 0.0113 - val_loss: 0.2757\n",
      "sequence accuracy is 0.9180923015715138\n"
     ]
    },
    {
     "data": {
      "text/html": [
       "Waiting for W&B process to finish... <strong style=\"color:green\">(success).</strong>"
      ],
      "text/plain": [
       "<IPython.core.display.HTML object>"
      ]
     },
     "metadata": {},
     "output_type": "display_data"
    },
    {
     "data": {
      "application/vnd.jupyter.widget-view+json": {
       "model_id": "7ca7e322f9c64a15b5375fe01e643c82",
       "version_major": 2,
       "version_minor": 0
      },
      "text/plain": [
       "VBox(children=(Label(value='2.169 MB of 2.169 MB uploaded (0.008 MB deduped)\\r'), FloatProgress(value=1.0, max…"
      ]
     },
     "metadata": {},
     "output_type": "display_data"
    },
    {
     "data": {
      "text/html": [
       "<style>\n",
       "    table.wandb td:nth-child(1) { padding: 0 10px; text-align: left ; width: auto;} td:nth-child(2) {text-align: left ; width: 100%}\n",
       "    .wandb-row { display: flex; flex-direction: row; flex-wrap: wrap; justify-content: flex-start; width: 100% }\n",
       "    .wandb-col { display: flex; flex-direction: column; flex-basis: 100%; flex: 1; padding: 10px; }\n",
       "    </style>\n",
       "<div class=\"wandb-row\"><div class=\"wandb-col\"><h3>Run history:</h3><br/><table class=\"wandb\"><tr><td>Validation Acc :</td><td>▁</td></tr><tr><td>epoch</td><td>▁▂▃▄▅▅▆▇█</td></tr><tr><td>loss</td><td>█▄▃▂▂▁▁▁▁</td></tr><tr><td>val_loss</td><td>▂▁▁▂▂▆█▆▆</td></tr></table><br/></div><div class=\"wandb-col\"><h3>Run summary:</h3><br/><table class=\"wandb\"><tr><td>Validation Acc :</td><td>0.91809</td></tr><tr><td>best_epoch</td><td>1</td></tr><tr><td>best_val_loss</td><td>0.17291</td></tr><tr><td>epoch</td><td>8</td></tr><tr><td>loss</td><td>0.01134</td></tr><tr><td>val_loss</td><td>0.27566</td></tr></table><br/></div></div>"
      ],
      "text/plain": [
       "<IPython.core.display.HTML object>"
      ]
     },
     "metadata": {},
     "output_type": "display_data"
    },
    {
     "data": {
      "text/html": [
       "Synced <strong style=\"color:#cdcd00\">true-sweep-23</strong>: <a href=\"https://wandb.ai/chhyyi/redzone_gru_sweep/runs/1m9gjq8t\" target=\"_blank\">https://wandb.ai/chhyyi/redzone_gru_sweep/runs/1m9gjq8t</a><br/>Synced 5 W&B file(s), 1 media file(s), 7 artifact file(s) and 1 other file(s)"
      ],
      "text/plain": [
       "<IPython.core.display.HTML object>"
      ]
     },
     "metadata": {},
     "output_type": "display_data"
    },
    {
     "data": {
      "text/html": [
       "Find logs at: <code>./wandb/run-20221113_101842-1m9gjq8t/logs</code>"
      ],
      "text/plain": [
       "<IPython.core.display.HTML object>"
      ]
     },
     "metadata": {},
     "output_type": "display_data"
    },
    {
     "name": "stderr",
     "output_type": "stream",
     "text": [
      "\u001b[34m\u001b[1mwandb\u001b[0m: Agent Starting Run: cpu7jtxy with config:\n",
      "\u001b[34m\u001b[1mwandb\u001b[0m: \tepochs: 9\n",
      "\u001b[34m\u001b[1mwandb\u001b[0m: \tlearning_rate: 0.0053870632717755605\n",
      "\u001b[34m\u001b[1mwandb\u001b[0m: \tsplit_train_ratio: 0.8\n",
      "\u001b[34m\u001b[1mwandb\u001b[0m: \tstride_inside_seq: 9\n",
      "\u001b[34m\u001b[1mwandb\u001b[0m: \tunit_gru0: 64\n"
     ]
    },
    {
     "data": {
      "text/html": [
       "Tracking run with wandb version 0.13.5"
      ],
      "text/plain": [
       "<IPython.core.display.HTML object>"
      ]
     },
     "metadata": {},
     "output_type": "display_data"
    },
    {
     "data": {
      "text/html": [
       "Run data is saved locally in <code>/aiffel/aiffel/aiffelthon/wandb/run-20221113_102156-cpu7jtxy</code>"
      ],
      "text/plain": [
       "<IPython.core.display.HTML object>"
      ]
     },
     "metadata": {},
     "output_type": "display_data"
    },
    {
     "data": {
      "text/html": [
       "Syncing run <strong><a href=\"https://wandb.ai/chhyyi/redzone_gru_sweep/runs/cpu7jtxy\" target=\"_blank\">volcanic-sweep-24</a></strong> to <a href=\"https://wandb.ai/chhyyi/redzone_gru_sweep\" target=\"_blank\">Weights & Biases</a> (<a href=\"https://wandb.me/run\" target=\"_blank\">docs</a>)<br/>Sweep page:  <a href=\"https://wandb.ai/chhyyi/redzone_gru_sweep/sweeps/5qc8l882\" target=\"_blank\">https://wandb.ai/chhyyi/redzone_gru_sweep/sweeps/5qc8l882</a>"
      ],
      "text/plain": [
       "<IPython.core.display.HTML object>"
      ]
     },
     "metadata": {},
     "output_type": "display_data"
    },
    {
     "name": "stdout",
     "output_type": "stream",
     "text": [
      "loaded dataset. Generating sequences\n",
      "Any missing values exist: False\n",
      "train dataset columns: Index(['풍속(m/s)', '풍향(deg)', '기온(°C)', '수온(°C)', '강수량(mm)', '풍속(m/s).1',\n",
      "       '풍향(deg).1', '기온(°C).1', '수온(°C).1', '강수량(mm).1', '풍속(m/s).2',\n",
      "       '풍향(deg).2', '기온(°C).2', '수온(°C).2', '강수량(mm).2', '풍속(m/s).3',\n",
      "       '풍향(deg).3', '기온(°C).3', '수온(°C).3', '강수량(mm).3', '풍속(m/s).4',\n",
      "       '풍향(deg).4', '기온(°C).4', '수온(°C).4', '강수량(mm).4', '적조발생'],\n",
      "      dtype='object')\n",
      "20106 25133\n",
      "(20106, 8, 25) (5027, 8, 25) (20106, 8) (5027, 8) \n",
      "\n",
      "\n",
      "Epoch 1/9\n",
      "315/315 [==============================] - 3s 4ms/step - loss: 0.1399 - val_loss: 0.2344\n"
     ]
    },
    {
     "name": "stderr",
     "output_type": "stream",
     "text": [
      "WARNING:absl:Found untraced functions such as gru_cell_layer_call_and_return_conditional_losses, gru_cell_layer_call_fn, gru_cell_layer_call_fn, gru_cell_layer_call_and_return_conditional_losses, gru_cell_layer_call_and_return_conditional_losses while saving (showing 5 of 5). These functions will not be directly callable after loading.\n",
      "\u001b[34m\u001b[1mwandb\u001b[0m: Adding directory to artifact (/aiffel/aiffel/aiffelthon/wandb/run-20221113_102156-cpu7jtxy/files/model-best)... Done. 0.0s\n"
     ]
    },
    {
     "name": "stdout",
     "output_type": "stream",
     "text": [
      "sequence accuracy is 0.888999403222598\n",
      "Epoch 2/9\n",
      "315/315 [==============================] - 1s 3ms/step - loss: 0.0759 - val_loss: 0.1932\n"
     ]
    },
    {
     "name": "stderr",
     "output_type": "stream",
     "text": [
      "WARNING:absl:Found untraced functions such as gru_cell_layer_call_and_return_conditional_losses, gru_cell_layer_call_fn, gru_cell_layer_call_fn, gru_cell_layer_call_and_return_conditional_losses, gru_cell_layer_call_and_return_conditional_losses while saving (showing 5 of 5). These functions will not be directly callable after loading.\n",
      "\u001b[34m\u001b[1mwandb\u001b[0m: Adding directory to artifact (/aiffel/aiffel/aiffelthon/wandb/run-20221113_102156-cpu7jtxy/files/model-best)... Done. 0.0s\n"
     ]
    },
    {
     "name": "stdout",
     "output_type": "stream",
     "text": [
      "sequence accuracy is 0.912746170678337\n",
      "Epoch 3/9\n",
      "315/315 [==============================] - 1s 3ms/step - loss: 0.0457 - val_loss: 0.1801\n"
     ]
    },
    {
     "name": "stderr",
     "output_type": "stream",
     "text": [
      "WARNING:absl:Found untraced functions such as gru_cell_layer_call_and_return_conditional_losses, gru_cell_layer_call_fn, gru_cell_layer_call_fn, gru_cell_layer_call_and_return_conditional_losses, gru_cell_layer_call_and_return_conditional_losses while saving (showing 5 of 5). These functions will not be directly callable after loading.\n",
      "\u001b[34m\u001b[1mwandb\u001b[0m: Adding directory to artifact (/aiffel/aiffel/aiffelthon/wandb/run-20221113_102156-cpu7jtxy/files/model-best)... Done. 0.0s\n"
     ]
    },
    {
     "name": "stdout",
     "output_type": "stream",
     "text": [
      "sequence accuracy is 0.9368410582852597\n",
      "Epoch 4/9\n",
      "315/315 [==============================] - 1s 3ms/step - loss: 0.0349 - val_loss: 0.2739\n",
      "sequence accuracy is 0.9217724288840262\n",
      "Epoch 5/9\n",
      "315/315 [==============================] - 1s 4ms/step - loss: 0.0270 - val_loss: 0.2571\n",
      "sequence accuracy is 0.9272926198527949\n",
      "Epoch 6/9\n",
      "315/315 [==============================] - 1s 3ms/step - loss: 0.0169 - val_loss: 0.2832\n",
      "sequence accuracy is 0.9211756514819972\n",
      "Epoch 7/9\n",
      "315/315 [==============================] - 1s 3ms/step - loss: 0.0153 - val_loss: 0.3232\n",
      "sequence accuracy is 0.9022279689675751\n",
      "Epoch 8/9\n",
      "315/315 [==============================] - 1s 3ms/step - loss: 0.0109 - val_loss: 0.4345\n",
      "sequence accuracy is 0.9201810224786154\n",
      "Epoch 9/9\n",
      "315/315 [==============================] - 1s 3ms/step - loss: 0.0112 - val_loss: 0.3400\n",
      "sequence accuracy is 0.9266709767256813\n"
     ]
    },
    {
     "data": {
      "text/html": [
       "Waiting for W&B process to finish... <strong style=\"color:green\">(success).</strong>"
      ],
      "text/plain": [
       "<IPython.core.display.HTML object>"
      ]
     },
     "metadata": {},
     "output_type": "display_data"
    },
    {
     "data": {
      "application/vnd.jupyter.widget-view+json": {
       "model_id": "7967a1f22264452386d1ab461b6b4132",
       "version_major": 2,
       "version_minor": 0
      },
      "text/plain": [
       "VBox(children=(Label(value='2.919 MB of 2.919 MB uploaded (0.008 MB deduped)\\r'), FloatProgress(value=1.0, max…"
      ]
     },
     "metadata": {},
     "output_type": "display_data"
    },
    {
     "data": {
      "text/html": [
       "<style>\n",
       "    table.wandb td:nth-child(1) { padding: 0 10px; text-align: left ; width: auto;} td:nth-child(2) {text-align: left ; width: 100%}\n",
       "    .wandb-row { display: flex; flex-direction: row; flex-wrap: wrap; justify-content: flex-start; width: 100% }\n",
       "    .wandb-col { display: flex; flex-direction: column; flex-basis: 100%; flex: 1; padding: 10px; }\n",
       "    </style>\n",
       "<div class=\"wandb-row\"><div class=\"wandb-col\"><h3>Run history:</h3><br/><table class=\"wandb\"><tr><td>Validation Acc :</td><td>▁</td></tr><tr><td>epoch</td><td>▁▂▃▄▅▅▆▇█</td></tr><tr><td>loss</td><td>█▅▃▂▂▁▁▁▁</td></tr><tr><td>val_loss</td><td>▂▁▁▄▃▄▅█▅</td></tr></table><br/></div><div class=\"wandb-col\"><h3>Run summary:</h3><br/><table class=\"wandb\"><tr><td>Validation Acc :</td><td>0.92667</td></tr><tr><td>best_epoch</td><td>2</td></tr><tr><td>best_val_loss</td><td>0.18008</td></tr><tr><td>epoch</td><td>8</td></tr><tr><td>loss</td><td>0.01122</td></tr><tr><td>val_loss</td><td>0.33996</td></tr></table><br/></div></div>"
      ],
      "text/plain": [
       "<IPython.core.display.HTML object>"
      ]
     },
     "metadata": {},
     "output_type": "display_data"
    },
    {
     "data": {
      "text/html": [
       "Synced <strong style=\"color:#cdcd00\">volcanic-sweep-24</strong>: <a href=\"https://wandb.ai/chhyyi/redzone_gru_sweep/runs/cpu7jtxy\" target=\"_blank\">https://wandb.ai/chhyyi/redzone_gru_sweep/runs/cpu7jtxy</a><br/>Synced 5 W&B file(s), 1 media file(s), 10 artifact file(s) and 1 other file(s)"
      ],
      "text/plain": [
       "<IPython.core.display.HTML object>"
      ]
     },
     "metadata": {},
     "output_type": "display_data"
    },
    {
     "data": {
      "text/html": [
       "Find logs at: <code>./wandb/run-20221113_102156-cpu7jtxy/logs</code>"
      ],
      "text/plain": [
       "<IPython.core.display.HTML object>"
      ]
     },
     "metadata": {},
     "output_type": "display_data"
    },
    {
     "name": "stderr",
     "output_type": "stream",
     "text": [
      "\u001b[34m\u001b[1mwandb\u001b[0m: Agent Starting Run: wujce6ic with config:\n",
      "\u001b[34m\u001b[1mwandb\u001b[0m: \tepochs: 7\n",
      "\u001b[34m\u001b[1mwandb\u001b[0m: \tlearning_rate: 0.003932423079289931\n",
      "\u001b[34m\u001b[1mwandb\u001b[0m: \tsplit_train_ratio: 0.8\n",
      "\u001b[34m\u001b[1mwandb\u001b[0m: \tstride_inside_seq: 9\n",
      "\u001b[34m\u001b[1mwandb\u001b[0m: \tunit_gru0: 32\n"
     ]
    },
    {
     "data": {
      "application/vnd.jupyter.widget-view+json": {
       "model_id": "9930eae578b741eaa3ee7ac26368d2bf",
       "version_major": 2,
       "version_minor": 0
      },
      "text/plain": [
       "VBox(children=(Label(value='Waiting for wandb.init()...\\r'), FloatProgress(value=0.016670439816637857, max=1.0…"
      ]
     },
     "metadata": {},
     "output_type": "display_data"
    },
    {
     "data": {
      "text/html": [
       "Tracking run with wandb version 0.13.5"
      ],
      "text/plain": [
       "<IPython.core.display.HTML object>"
      ]
     },
     "metadata": {},
     "output_type": "display_data"
    },
    {
     "data": {
      "text/html": [
       "Run data is saved locally in <code>/aiffel/aiffel/aiffelthon/wandb/run-20221113_102327-wujce6ic</code>"
      ],
      "text/plain": [
       "<IPython.core.display.HTML object>"
      ]
     },
     "metadata": {},
     "output_type": "display_data"
    },
    {
     "data": {
      "text/html": [
       "Syncing run <strong><a href=\"https://wandb.ai/chhyyi/redzone_gru_sweep/runs/wujce6ic\" target=\"_blank\">easy-sweep-25</a></strong> to <a href=\"https://wandb.ai/chhyyi/redzone_gru_sweep\" target=\"_blank\">Weights & Biases</a> (<a href=\"https://wandb.me/run\" target=\"_blank\">docs</a>)<br/>Sweep page:  <a href=\"https://wandb.ai/chhyyi/redzone_gru_sweep/sweeps/5qc8l882\" target=\"_blank\">https://wandb.ai/chhyyi/redzone_gru_sweep/sweeps/5qc8l882</a>"
      ],
      "text/plain": [
       "<IPython.core.display.HTML object>"
      ]
     },
     "metadata": {},
     "output_type": "display_data"
    },
    {
     "name": "stdout",
     "output_type": "stream",
     "text": [
      "loaded dataset. Generating sequences\n",
      "Any missing values exist: False\n",
      "train dataset columns: Index(['풍속(m/s)', '풍향(deg)', '기온(°C)', '수온(°C)', '강수량(mm)', '풍속(m/s).1',\n",
      "       '풍향(deg).1', '기온(°C).1', '수온(°C).1', '강수량(mm).1', '풍속(m/s).2',\n",
      "       '풍향(deg).2', '기온(°C).2', '수온(°C).2', '강수량(mm).2', '풍속(m/s).3',\n",
      "       '풍향(deg).3', '기온(°C).3', '수온(°C).3', '강수량(mm).3', '풍속(m/s).4',\n",
      "       '풍향(deg).4', '기온(°C).4', '수온(°C).4', '강수량(mm).4', '적조발생'],\n",
      "      dtype='object')\n",
      "20106 25133\n",
      "(20106, 8, 25) (5027, 8, 25) (20106, 8) (5027, 8) \n",
      "\n",
      "\n",
      "Epoch 1/7\n",
      "315/315 [==============================] - 3s 4ms/step - loss: 0.1583 - val_loss: 0.2315\n"
     ]
    },
    {
     "name": "stderr",
     "output_type": "stream",
     "text": [
      "WARNING:absl:Found untraced functions such as gru_cell_layer_call_and_return_conditional_losses, gru_cell_layer_call_fn, gru_cell_layer_call_fn, gru_cell_layer_call_and_return_conditional_losses, gru_cell_layer_call_and_return_conditional_losses while saving (showing 5 of 5). These functions will not be directly callable after loading.\n",
      "\u001b[34m\u001b[1mwandb\u001b[0m: Adding directory to artifact (/aiffel/aiffel/aiffelthon/wandb/run-20221113_102327-wujce6ic/files/model-best)... Done. 0.0s\n"
     ]
    },
    {
     "name": "stdout",
     "output_type": "stream",
     "text": [
      "sequence accuracy is 0.882136463099264\n",
      "Epoch 2/7\n",
      "315/315 [==============================] - 1s 3ms/step - loss: 0.0748 - val_loss: 0.1831\n"
     ]
    },
    {
     "name": "stderr",
     "output_type": "stream",
     "text": [
      "WARNING:absl:Found untraced functions such as gru_cell_layer_call_and_return_conditional_losses, gru_cell_layer_call_fn, gru_cell_layer_call_fn, gru_cell_layer_call_and_return_conditional_losses, gru_cell_layer_call_and_return_conditional_losses while saving (showing 5 of 5). These functions will not be directly callable after loading.\n",
      "\u001b[34m\u001b[1mwandb\u001b[0m: Adding directory to artifact (/aiffel/aiffel/aiffelthon/wandb/run-20221113_102327-wujce6ic/files/model-best)... Done. 0.0s\n"
     ]
    },
    {
     "name": "stdout",
     "output_type": "stream",
     "text": [
      "sequence accuracy is 0.9279391287049931\n",
      "Epoch 3/7\n",
      "315/315 [==============================] - 1s 3ms/step - loss: 0.0543 - val_loss: 0.2104\n",
      "sequence accuracy is 0.906156753530933\n",
      "Epoch 4/7\n",
      "315/315 [==============================] - 1s 4ms/step - loss: 0.0394 - val_loss: 0.2571\n",
      "sequence accuracy is 0.9239854784165507\n",
      "Epoch 5/7\n",
      "315/315 [==============================] - 1s 3ms/step - loss: 0.0320 - val_loss: 0.2879\n",
      "sequence accuracy is 0.9157797891386513\n",
      "Epoch 6/7\n",
      "315/315 [==============================] - 1s 3ms/step - loss: 0.0280 - val_loss: 0.2841\n",
      "sequence accuracy is 0.9248060473443406\n",
      "Epoch 7/7\n",
      "315/315 [==============================] - 1s 3ms/step - loss: 0.0213 - val_loss: 0.3394\n",
      "sequence accuracy is 0.9162025064650885\n"
     ]
    },
    {
     "data": {
      "text/html": [
       "Waiting for W&B process to finish... <strong style=\"color:green\">(success).</strong>"
      ],
      "text/plain": [
       "<IPython.core.display.HTML object>"
      ]
     },
     "metadata": {},
     "output_type": "display_data"
    },
    {
     "data": {
      "application/vnd.jupyter.widget-view+json": {
       "model_id": "da02f3d9599446cfbe740bfa19e454cd",
       "version_major": 2,
       "version_minor": 0
      },
      "text/plain": [
       "VBox(children=(Label(value='1.611 MB of 1.611 MB uploaded (0.008 MB deduped)\\r'), FloatProgress(value=1.0, max…"
      ]
     },
     "metadata": {},
     "output_type": "display_data"
    },
    {
     "data": {
      "text/html": [
       "<style>\n",
       "    table.wandb td:nth-child(1) { padding: 0 10px; text-align: left ; width: auto;} td:nth-child(2) {text-align: left ; width: 100%}\n",
       "    .wandb-row { display: flex; flex-direction: row; flex-wrap: wrap; justify-content: flex-start; width: 100% }\n",
       "    .wandb-col { display: flex; flex-direction: column; flex-basis: 100%; flex: 1; padding: 10px; }\n",
       "    </style>\n",
       "<div class=\"wandb-row\"><div class=\"wandb-col\"><h3>Run history:</h3><br/><table class=\"wandb\"><tr><td>Validation Acc :</td><td>▁</td></tr><tr><td>epoch</td><td>▁▂▃▅▆▇█</td></tr><tr><td>loss</td><td>█▄▃▂▂▁▁</td></tr><tr><td>val_loss</td><td>▃▁▂▄▆▆█</td></tr></table><br/></div><div class=\"wandb-col\"><h3>Run summary:</h3><br/><table class=\"wandb\"><tr><td>Validation Acc :</td><td>0.9162</td></tr><tr><td>best_epoch</td><td>1</td></tr><tr><td>best_val_loss</td><td>0.18313</td></tr><tr><td>epoch</td><td>6</td></tr><tr><td>loss</td><td>0.02127</td></tr><tr><td>val_loss</td><td>0.33937</td></tr></table><br/></div></div>"
      ],
      "text/plain": [
       "<IPython.core.display.HTML object>"
      ]
     },
     "metadata": {},
     "output_type": "display_data"
    },
    {
     "data": {
      "text/html": [
       "Synced <strong style=\"color:#cdcd00\">easy-sweep-25</strong>: <a href=\"https://wandb.ai/chhyyi/redzone_gru_sweep/runs/wujce6ic\" target=\"_blank\">https://wandb.ai/chhyyi/redzone_gru_sweep/runs/wujce6ic</a><br/>Synced 5 W&B file(s), 1 media file(s), 7 artifact file(s) and 1 other file(s)"
      ],
      "text/plain": [
       "<IPython.core.display.HTML object>"
      ]
     },
     "metadata": {},
     "output_type": "display_data"
    },
    {
     "data": {
      "text/html": [
       "Find logs at: <code>./wandb/run-20221113_102327-wujce6ic/logs</code>"
      ],
      "text/plain": [
       "<IPython.core.display.HTML object>"
      ]
     },
     "metadata": {},
     "output_type": "display_data"
    },
    {
     "name": "stderr",
     "output_type": "stream",
     "text": [
      "\u001b[34m\u001b[1mwandb\u001b[0m: Agent Starting Run: 2ag1dxvi with config:\n",
      "\u001b[34m\u001b[1mwandb\u001b[0m: \tepochs: 7\n",
      "\u001b[34m\u001b[1mwandb\u001b[0m: \tlearning_rate: 0.003578910772184967\n",
      "\u001b[34m\u001b[1mwandb\u001b[0m: \tsplit_train_ratio: 0.5\n",
      "\u001b[34m\u001b[1mwandb\u001b[0m: \tstride_inside_seq: 3\n",
      "\u001b[34m\u001b[1mwandb\u001b[0m: \tunit_gru0: 128\n"
     ]
    },
    {
     "data": {
      "application/vnd.jupyter.widget-view+json": {
       "model_id": "697d796c5c6c4328be5f0bbd4100843f",
       "version_major": 2,
       "version_minor": 0
      },
      "text/plain": [
       "VBox(children=(Label(value='Waiting for wandb.init()...\\r'), FloatProgress(value=0.016669215316627135, max=1.0…"
      ]
     },
     "metadata": {},
     "output_type": "display_data"
    },
    {
     "data": {
      "text/html": [
       "Tracking run with wandb version 0.13.5"
      ],
      "text/plain": [
       "<IPython.core.display.HTML object>"
      ]
     },
     "metadata": {},
     "output_type": "display_data"
    },
    {
     "data": {
      "text/html": [
       "Run data is saved locally in <code>/aiffel/aiffel/aiffelthon/wandb/run-20221113_102450-2ag1dxvi</code>"
      ],
      "text/plain": [
       "<IPython.core.display.HTML object>"
      ]
     },
     "metadata": {},
     "output_type": "display_data"
    },
    {
     "data": {
      "text/html": [
       "Syncing run <strong><a href=\"https://wandb.ai/chhyyi/redzone_gru_sweep/runs/2ag1dxvi\" target=\"_blank\">misty-sweep-26</a></strong> to <a href=\"https://wandb.ai/chhyyi/redzone_gru_sweep\" target=\"_blank\">Weights & Biases</a> (<a href=\"https://wandb.me/run\" target=\"_blank\">docs</a>)<br/>Sweep page:  <a href=\"https://wandb.ai/chhyyi/redzone_gru_sweep/sweeps/5qc8l882\" target=\"_blank\">https://wandb.ai/chhyyi/redzone_gru_sweep/sweeps/5qc8l882</a>"
      ],
      "text/plain": [
       "<IPython.core.display.HTML object>"
      ]
     },
     "metadata": {},
     "output_type": "display_data"
    },
    {
     "name": "stdout",
     "output_type": "stream",
     "text": [
      "loaded dataset. Generating sequences\n",
      "Any missing values exist: False\n",
      "train dataset columns: Index(['풍속(m/s)', '풍향(deg)', '기온(°C)', '수온(°C)', '강수량(mm)', '풍속(m/s).1',\n",
      "       '풍향(deg).1', '기온(°C).1', '수온(°C).1', '강수량(mm).1', '풍속(m/s).2',\n",
      "       '풍향(deg).2', '기온(°C).2', '수온(°C).2', '강수량(mm).2', '풍속(m/s).3',\n",
      "       '풍향(deg).3', '기온(°C).3', '수온(°C).3', '강수량(mm).3', '풍속(m/s).4',\n",
      "       '풍향(deg).4', '기온(°C).4', '수온(°C).4', '강수량(mm).4', '적조발생'],\n",
      "      dtype='object')\n",
      "12566 25133\n",
      "(12566, 24, 25) (12567, 24, 25) (12566, 24) (12567, 24) \n",
      "\n",
      "\n",
      "Epoch 1/7\n",
      "197/197 [==============================] - 3s 7ms/step - loss: 0.1349 - val_loss: 0.3189\n"
     ]
    },
    {
     "name": "stderr",
     "output_type": "stream",
     "text": [
      "WARNING:absl:Found untraced functions such as gru_cell_layer_call_and_return_conditional_losses, gru_cell_layer_call_fn, gru_cell_layer_call_fn, gru_cell_layer_call_and_return_conditional_losses, gru_cell_layer_call_and_return_conditional_losses while saving (showing 5 of 5). These functions will not be directly callable after loading.\n",
      "\u001b[34m\u001b[1mwandb\u001b[0m: Adding directory to artifact (/aiffel/aiffel/aiffelthon/wandb/run-20221113_102450-2ag1dxvi/files/model-best)... Done. 0.0s\n"
     ]
    },
    {
     "name": "stdout",
     "output_type": "stream",
     "text": [
      "sequence accuracy is 0.9339374287154187\n",
      "Epoch 2/7\n",
      "197/197 [==============================] - 1s 5ms/step - loss: 0.0702 - val_loss: 0.3574\n",
      "sequence accuracy is 0.9375049733428822\n",
      "Epoch 3/7\n",
      "197/197 [==============================] - 1s 5ms/step - loss: 0.0363 - val_loss: 0.5083\n",
      "sequence accuracy is 0.9271239489668709\n",
      "Epoch 4/7\n",
      "197/197 [==============================] - 1s 5ms/step - loss: 0.0174 - val_loss: 0.5224\n",
      "sequence accuracy is 0.9337418105620541\n",
      "Epoch 5/7\n",
      "197/197 [==============================] - 1s 5ms/step - loss: 0.0117 - val_loss: 0.5691\n",
      "sequence accuracy is 0.9315568552558288\n",
      "Epoch 6/7\n",
      "197/197 [==============================] - 1s 5ms/step - loss: 0.0081 - val_loss: 0.6307\n",
      "sequence accuracy is 0.9252937587862391\n",
      "Epoch 7/7\n",
      "197/197 [==============================] - 1s 6ms/step - loss: 0.0060 - val_loss: 0.6648\n",
      "sequence accuracy is 0.9290337126336171\n"
     ]
    },
    {
     "data": {
      "text/html": [
       "Waiting for W&B process to finish... <strong style=\"color:green\">(success).</strong>"
      ],
      "text/plain": [
       "<IPython.core.display.HTML object>"
      ]
     },
     "metadata": {},
     "output_type": "display_data"
    },
    {
     "data": {
      "text/html": [
       "<style>\n",
       "    table.wandb td:nth-child(1) { padding: 0 10px; text-align: left ; width: auto;} td:nth-child(2) {text-align: left ; width: 100%}\n",
       "    .wandb-row { display: flex; flex-direction: row; flex-wrap: wrap; justify-content: flex-start; width: 100% }\n",
       "    .wandb-col { display: flex; flex-direction: column; flex-basis: 100%; flex: 1; padding: 10px; }\n",
       "    </style>\n",
       "<div class=\"wandb-row\"><div class=\"wandb-col\"><h3>Run history:</h3><br/><table class=\"wandb\"><tr><td>Validation Acc :</td><td>▁</td></tr><tr><td>epoch</td><td>▁▂▃▅▆▇█</td></tr><tr><td>loss</td><td>█▄▃▂▁▁▁</td></tr><tr><td>val_loss</td><td>▁▂▅▅▆▇█</td></tr></table><br/></div><div class=\"wandb-col\"><h3>Run summary:</h3><br/><table class=\"wandb\"><tr><td>Validation Acc :</td><td>0.92903</td></tr><tr><td>best_epoch</td><td>0</td></tr><tr><td>best_val_loss</td><td>0.31895</td></tr><tr><td>epoch</td><td>6</td></tr><tr><td>loss</td><td>0.00602</td></tr><tr><td>val_loss</td><td>0.66478</td></tr></table><br/></div></div>"
      ],
      "text/plain": [
       "<IPython.core.display.HTML object>"
      ]
     },
     "metadata": {},
     "output_type": "display_data"
    },
    {
     "data": {
      "text/html": [
       "Synced <strong style=\"color:#cdcd00\">misty-sweep-26</strong>: <a href=\"https://wandb.ai/chhyyi/redzone_gru_sweep/runs/2ag1dxvi\" target=\"_blank\">https://wandb.ai/chhyyi/redzone_gru_sweep/runs/2ag1dxvi</a><br/>Synced 5 W&B file(s), 1 media file(s), 4 artifact file(s) and 1 other file(s)"
      ],
      "text/plain": [
       "<IPython.core.display.HTML object>"
      ]
     },
     "metadata": {},
     "output_type": "display_data"
    },
    {
     "data": {
      "text/html": [
       "Find logs at: <code>./wandb/run-20221113_102450-2ag1dxvi/logs</code>"
      ],
      "text/plain": [
       "<IPython.core.display.HTML object>"
      ]
     },
     "metadata": {},
     "output_type": "display_data"
    },
    {
     "name": "stderr",
     "output_type": "stream",
     "text": [
      "\u001b[34m\u001b[1mwandb\u001b[0m: Sweep Agent: Waiting for job.\n",
      "\u001b[34m\u001b[1mwandb\u001b[0m: Job received.\n",
      "\u001b[34m\u001b[1mwandb\u001b[0m: Agent Starting Run: h7h9yvuo with config:\n",
      "\u001b[34m\u001b[1mwandb\u001b[0m: \tepochs: 11\n",
      "\u001b[34m\u001b[1mwandb\u001b[0m: \tlearning_rate: 0.0070192152503562736\n",
      "\u001b[34m\u001b[1mwandb\u001b[0m: \tsplit_train_ratio: 0.5\n",
      "\u001b[34m\u001b[1mwandb\u001b[0m: \tstride_inside_seq: 9\n",
      "\u001b[34m\u001b[1mwandb\u001b[0m: \tunit_gru0: 32\n"
     ]
    },
    {
     "data": {
      "text/html": [
       "Tracking run with wandb version 0.13.5"
      ],
      "text/plain": [
       "<IPython.core.display.HTML object>"
      ]
     },
     "metadata": {},
     "output_type": "display_data"
    },
    {
     "data": {
      "text/html": [
       "Run data is saved locally in <code>/aiffel/aiffel/aiffelthon/wandb/run-20221113_102627-h7h9yvuo</code>"
      ],
      "text/plain": [
       "<IPython.core.display.HTML object>"
      ]
     },
     "metadata": {},
     "output_type": "display_data"
    },
    {
     "data": {
      "text/html": [
       "Syncing run <strong><a href=\"https://wandb.ai/chhyyi/redzone_gru_sweep/runs/h7h9yvuo\" target=\"_blank\">sunny-sweep-27</a></strong> to <a href=\"https://wandb.ai/chhyyi/redzone_gru_sweep\" target=\"_blank\">Weights & Biases</a> (<a href=\"https://wandb.me/run\" target=\"_blank\">docs</a>)<br/>Sweep page:  <a href=\"https://wandb.ai/chhyyi/redzone_gru_sweep/sweeps/5qc8l882\" target=\"_blank\">https://wandb.ai/chhyyi/redzone_gru_sweep/sweeps/5qc8l882</a>"
      ],
      "text/plain": [
       "<IPython.core.display.HTML object>"
      ]
     },
     "metadata": {},
     "output_type": "display_data"
    },
    {
     "name": "stdout",
     "output_type": "stream",
     "text": [
      "loaded dataset. Generating sequences\n",
      "Any missing values exist: False\n",
      "train dataset columns: Index(['풍속(m/s)', '풍향(deg)', '기온(°C)', '수온(°C)', '강수량(mm)', '풍속(m/s).1',\n",
      "       '풍향(deg).1', '기온(°C).1', '수온(°C).1', '강수량(mm).1', '풍속(m/s).2',\n",
      "       '풍향(deg).2', '기온(°C).2', '수온(°C).2', '강수량(mm).2', '풍속(m/s).3',\n",
      "       '풍향(deg).3', '기온(°C).3', '수온(°C).3', '강수량(mm).3', '풍속(m/s).4',\n",
      "       '풍향(deg).4', '기온(°C).4', '수온(°C).4', '강수량(mm).4', '적조발생'],\n",
      "      dtype='object')\n",
      "12566 25133\n",
      "(12566, 8, 25) (12567, 8, 25) (12566, 8) (12567, 8) \n",
      "\n",
      "\n",
      "Epoch 1/11\n",
      "197/197 [==============================] - 2s 6ms/step - loss: 0.1374 - val_loss: 0.3229\n"
     ]
    },
    {
     "name": "stderr",
     "output_type": "stream",
     "text": [
      "WARNING:absl:Found untraced functions such as gru_cell_layer_call_and_return_conditional_losses, gru_cell_layer_call_fn, gru_cell_layer_call_fn, gru_cell_layer_call_and_return_conditional_losses, gru_cell_layer_call_and_return_conditional_losses while saving (showing 5 of 5). These functions will not be directly callable after loading.\n",
      "\u001b[34m\u001b[1mwandb\u001b[0m: Adding directory to artifact (/aiffel/aiffel/aiffelthon/wandb/run-20221113_102627-h7h9yvuo/files/model-best)... Done. 0.0s\n"
     ]
    },
    {
     "name": "stdout",
     "output_type": "stream",
     "text": [
      "sequence accuracy is 0.9349785151587491\n",
      "Epoch 2/11\n",
      "197/197 [==============================] - 1s 4ms/step - loss: 0.0557 - val_loss: 0.4269\n",
      "sequence accuracy is 0.9298161852470757\n",
      "Epoch 3/11\n",
      "197/197 [==============================] - 1s 4ms/step - loss: 0.0338 - val_loss: 0.4868\n",
      "sequence accuracy is 0.9279263149518581\n",
      "Epoch 4/11\n",
      "197/197 [==============================] - 1s 4ms/step - loss: 0.0217 - val_loss: 0.5418\n",
      "sequence accuracy is 0.9292790642158033\n",
      "Epoch 5/11\n",
      "197/197 [==============================] - 1s 4ms/step - loss: 0.0156 - val_loss: 0.5640\n",
      "sequence accuracy is 0.9326310973183736\n",
      "Epoch 6/11\n",
      "197/197 [==============================] - 1s 4ms/step - loss: 0.0167 - val_loss: 0.6351\n",
      "sequence accuracy is 0.9302041059918835\n",
      "Epoch 7/11\n",
      "197/197 [==============================] - 1s 5ms/step - loss: 0.0115 - val_loss: 0.6202\n",
      "sequence accuracy is 0.9300648523911833\n",
      "Epoch 8/11\n",
      "197/197 [==============================] - 1s 4ms/step - loss: 0.0063 - val_loss: 0.6706\n",
      "sequence accuracy is 0.9296570382748468\n",
      "Epoch 9/11\n",
      "197/197 [==============================] - 1s 4ms/step - loss: 0.0113 - val_loss: 0.6295\n",
      "sequence accuracy is 0.9288911434709954\n",
      "Epoch 10/11\n",
      "197/197 [==============================] - 1s 4ms/step - loss: 0.0120 - val_loss: 0.6771\n",
      "sequence accuracy is 0.9283142356966658\n",
      "Epoch 11/11\n",
      "197/197 [==============================] - 1s 4ms/step - loss: 0.0059 - val_loss: 0.7165\n",
      "sequence accuracy is 0.9293387443303891\n"
     ]
    },
    {
     "data": {
      "text/html": [
       "Waiting for W&B process to finish... <strong style=\"color:green\">(success).</strong>"
      ],
      "text/plain": [
       "<IPython.core.display.HTML object>"
      ]
     },
     "metadata": {},
     "output_type": "display_data"
    },
    {
     "data": {
      "text/html": [
       "<style>\n",
       "    table.wandb td:nth-child(1) { padding: 0 10px; text-align: left ; width: auto;} td:nth-child(2) {text-align: left ; width: 100%}\n",
       "    .wandb-row { display: flex; flex-direction: row; flex-wrap: wrap; justify-content: flex-start; width: 100% }\n",
       "    .wandb-col { display: flex; flex-direction: column; flex-basis: 100%; flex: 1; padding: 10px; }\n",
       "    </style>\n",
       "<div class=\"wandb-row\"><div class=\"wandb-col\"><h3>Run history:</h3><br/><table class=\"wandb\"><tr><td>Validation Acc :</td><td>▁</td></tr><tr><td>epoch</td><td>▁▂▂▃▄▅▅▆▇▇█</td></tr><tr><td>loss</td><td>█▄▂▂▂▂▁▁▁▁▁</td></tr><tr><td>val_loss</td><td>▁▃▄▅▅▇▆▇▆▇█</td></tr></table><br/></div><div class=\"wandb-col\"><h3>Run summary:</h3><br/><table class=\"wandb\"><tr><td>Validation Acc :</td><td>0.92934</td></tr><tr><td>best_epoch</td><td>0</td></tr><tr><td>best_val_loss</td><td>0.32294</td></tr><tr><td>epoch</td><td>10</td></tr><tr><td>loss</td><td>0.00591</td></tr><tr><td>val_loss</td><td>0.71652</td></tr></table><br/></div></div>"
      ],
      "text/plain": [
       "<IPython.core.display.HTML object>"
      ]
     },
     "metadata": {},
     "output_type": "display_data"
    },
    {
     "data": {
      "text/html": [
       "Synced <strong style=\"color:#cdcd00\">sunny-sweep-27</strong>: <a href=\"https://wandb.ai/chhyyi/redzone_gru_sweep/runs/h7h9yvuo\" target=\"_blank\">https://wandb.ai/chhyyi/redzone_gru_sweep/runs/h7h9yvuo</a><br/>Synced 5 W&B file(s), 1 media file(s), 4 artifact file(s) and 1 other file(s)"
      ],
      "text/plain": [
       "<IPython.core.display.HTML object>"
      ]
     },
     "metadata": {},
     "output_type": "display_data"
    },
    {
     "data": {
      "text/html": [
       "Find logs at: <code>./wandb/run-20221113_102627-h7h9yvuo/logs</code>"
      ],
      "text/plain": [
       "<IPython.core.display.HTML object>"
      ]
     },
     "metadata": {},
     "output_type": "display_data"
    },
    {
     "name": "stderr",
     "output_type": "stream",
     "text": [
      "\u001b[34m\u001b[1mwandb\u001b[0m: Agent Starting Run: iobuiylu with config:\n",
      "\u001b[34m\u001b[1mwandb\u001b[0m: \tepochs: 17\n",
      "\u001b[34m\u001b[1mwandb\u001b[0m: \tlearning_rate: 0.004496067648113554\n",
      "\u001b[34m\u001b[1mwandb\u001b[0m: \tsplit_train_ratio: 0.5\n",
      "\u001b[34m\u001b[1mwandb\u001b[0m: \tstride_inside_seq: 3\n",
      "\u001b[34m\u001b[1mwandb\u001b[0m: \tunit_gru0: 64\n"
     ]
    },
    {
     "data": {
      "text/html": [
       "Tracking run with wandb version 0.13.5"
      ],
      "text/plain": [
       "<IPython.core.display.HTML object>"
      ]
     },
     "metadata": {},
     "output_type": "display_data"
    },
    {
     "data": {
      "text/html": [
       "Run data is saved locally in <code>/aiffel/aiffel/aiffelthon/wandb/run-20221113_102751-iobuiylu</code>"
      ],
      "text/plain": [
       "<IPython.core.display.HTML object>"
      ]
     },
     "metadata": {},
     "output_type": "display_data"
    },
    {
     "data": {
      "text/html": [
       "Syncing run <strong><a href=\"https://wandb.ai/chhyyi/redzone_gru_sweep/runs/iobuiylu\" target=\"_blank\">neat-sweep-28</a></strong> to <a href=\"https://wandb.ai/chhyyi/redzone_gru_sweep\" target=\"_blank\">Weights & Biases</a> (<a href=\"https://wandb.me/run\" target=\"_blank\">docs</a>)<br/>Sweep page:  <a href=\"https://wandb.ai/chhyyi/redzone_gru_sweep/sweeps/5qc8l882\" target=\"_blank\">https://wandb.ai/chhyyi/redzone_gru_sweep/sweeps/5qc8l882</a>"
      ],
      "text/plain": [
       "<IPython.core.display.HTML object>"
      ]
     },
     "metadata": {},
     "output_type": "display_data"
    },
    {
     "name": "stdout",
     "output_type": "stream",
     "text": [
      "loaded dataset. Generating sequences\n",
      "Any missing values exist: False\n",
      "train dataset columns: Index(['풍속(m/s)', '풍향(deg)', '기온(°C)', '수온(°C)', '강수량(mm)', '풍속(m/s).1',\n",
      "       '풍향(deg).1', '기온(°C).1', '수온(°C).1', '강수량(mm).1', '풍속(m/s).2',\n",
      "       '풍향(deg).2', '기온(°C).2', '수온(°C).2', '강수량(mm).2', '풍속(m/s).3',\n",
      "       '풍향(deg).3', '기온(°C).3', '수온(°C).3', '강수량(mm).3', '풍속(m/s).4',\n",
      "       '풍향(deg).4', '기온(°C).4', '수온(°C).4', '강수량(mm).4', '적조발생'],\n",
      "      dtype='object')\n",
      "12566 25133\n",
      "(12566, 24, 25) (12567, 24, 25) (12566, 24) (12567, 24) \n",
      "\n",
      "\n",
      "Epoch 1/17\n",
      "197/197 [==============================] - 3s 7ms/step - loss: 0.1345 - val_loss: 0.3690\n"
     ]
    },
    {
     "name": "stderr",
     "output_type": "stream",
     "text": [
      "WARNING:absl:Found untraced functions such as gru_cell_layer_call_and_return_conditional_losses, gru_cell_layer_call_fn, gru_cell_layer_call_fn, gru_cell_layer_call_and_return_conditional_losses, gru_cell_layer_call_and_return_conditional_losses while saving (showing 5 of 5). These functions will not be directly callable after loading.\n",
      "\u001b[34m\u001b[1mwandb\u001b[0m: Adding directory to artifact (/aiffel/aiffel/aiffelthon/wandb/run-20221113_102751-iobuiylu/files/model-best)... Done. 0.0s\n"
     ]
    },
    {
     "name": "stdout",
     "output_type": "stream",
     "text": [
      "sequence accuracy is 0.9371734171507387\n",
      "Epoch 2/17\n",
      "197/197 [==============================] - 1s 5ms/step - loss: 0.0493 - val_loss: 0.4711\n",
      "sequence accuracy is 0.9389140871594918\n",
      "Epoch 3/17\n",
      "197/197 [==============================] - 1s 5ms/step - loss: 0.0314 - val_loss: 0.4850\n",
      "sequence accuracy is 0.8958747778573513\n",
      "Epoch 4/17\n",
      "197/197 [==============================] - 1s 5ms/step - loss: 0.0160 - val_loss: 0.5096\n",
      "sequence accuracy is 0.9276544388743004\n",
      "Epoch 5/17\n",
      "197/197 [==============================] - 1s 5ms/step - loss: 0.0146 - val_loss: 0.4874\n",
      "sequence accuracy is 0.9366827139863664\n",
      "Epoch 6/17\n",
      "197/197 [==============================] - 1s 5ms/step - loss: 0.0071 - val_loss: 0.5711\n",
      "sequence accuracy is 0.9257546218933185\n",
      "Epoch 7/17\n",
      "197/197 [==============================] - 1s 5ms/step - loss: 0.0073 - val_loss: 0.6039\n",
      "sequence accuracy is 0.9250152515848385\n",
      "Epoch 8/17\n",
      "197/197 [==============================] - 1s 5ms/step - loss: 0.0055 - val_loss: 0.6508\n",
      "sequence accuracy is 0.92416315217103\n",
      "Epoch 9/17\n",
      "197/197 [==============================] - 1s 5ms/step - loss: 0.0071 - val_loss: 0.5870\n",
      "sequence accuracy is 0.9175519216996897\n",
      "Epoch 10/17\n",
      "197/197 [==============================] - 1s 6ms/step - loss: 0.0039 - val_loss: 0.6477\n",
      "sequence accuracy is 0.9310429431580064\n",
      "Epoch 11/17\n",
      "197/197 [==============================] - 1s 5ms/step - loss: 0.0024 - val_loss: 0.6821\n",
      "sequence accuracy is 0.9304560886979125\n",
      "Epoch 12/17\n",
      "197/197 [==============================] - 1s 5ms/step - loss: 0.0023 - val_loss: 0.6999\n",
      "sequence accuracy is 0.9302438927349407\n",
      "Epoch 13/17\n",
      "197/197 [==============================] - 1s 5ms/step - loss: 0.0019 - val_loss: 0.7196\n",
      "sequence accuracy is 0.9328200843478953\n",
      "Epoch 14/17\n",
      "197/197 [==============================] - 1s 5ms/step - loss: 0.0072 - val_loss: 0.6727\n",
      "sequence accuracy is 0.9344712341847696\n",
      "Epoch 15/17\n",
      "197/197 [==============================] - 1s 5ms/step - loss: 0.0038 - val_loss: 0.7097\n",
      "sequence accuracy is 0.93387111747699\n",
      "Epoch 16/17\n",
      "197/197 [==============================] - 1s 5ms/step - loss: 0.0020 - val_loss: 0.7326\n",
      "sequence accuracy is 0.9329991246916527\n",
      "Epoch 17/17\n",
      "197/197 [==============================] - 1s 5ms/step - loss: 0.0015 - val_loss: 0.7665\n",
      "sequence accuracy is 0.9312186679398424\n"
     ]
    },
    {
     "data": {
      "text/html": [
       "Waiting for W&B process to finish... <strong style=\"color:green\">(success).</strong>"
      ],
      "text/plain": [
       "<IPython.core.display.HTML object>"
      ]
     },
     "metadata": {},
     "output_type": "display_data"
    },
    {
     "data": {
      "text/html": [
       "<style>\n",
       "    table.wandb td:nth-child(1) { padding: 0 10px; text-align: left ; width: auto;} td:nth-child(2) {text-align: left ; width: 100%}\n",
       "    .wandb-row { display: flex; flex-direction: row; flex-wrap: wrap; justify-content: flex-start; width: 100% }\n",
       "    .wandb-col { display: flex; flex-direction: column; flex-basis: 100%; flex: 1; padding: 10px; }\n",
       "    </style>\n",
       "<div class=\"wandb-row\"><div class=\"wandb-col\"><h3>Run history:</h3><br/><table class=\"wandb\"><tr><td>Validation Acc :</td><td>▁</td></tr><tr><td>epoch</td><td>▁▁▂▂▃▃▄▄▅▅▅▆▆▇▇██</td></tr><tr><td>loss</td><td>█▄▃▂▂▁▁▁▁▁▁▁▁▁▁▁▁</td></tr><tr><td>val_loss</td><td>▁▃▃▃▃▅▅▆▅▆▇▇▇▆▇▇█</td></tr></table><br/></div><div class=\"wandb-col\"><h3>Run summary:</h3><br/><table class=\"wandb\"><tr><td>Validation Acc :</td><td>0.93122</td></tr><tr><td>best_epoch</td><td>0</td></tr><tr><td>best_val_loss</td><td>0.36903</td></tr><tr><td>epoch</td><td>16</td></tr><tr><td>loss</td><td>0.00154</td></tr><tr><td>val_loss</td><td>0.76648</td></tr></table><br/></div></div>"
      ],
      "text/plain": [
       "<IPython.core.display.HTML object>"
      ]
     },
     "metadata": {},
     "output_type": "display_data"
    },
    {
     "data": {
      "text/html": [
       "Synced <strong style=\"color:#cdcd00\">neat-sweep-28</strong>: <a href=\"https://wandb.ai/chhyyi/redzone_gru_sweep/runs/iobuiylu\" target=\"_blank\">https://wandb.ai/chhyyi/redzone_gru_sweep/runs/iobuiylu</a><br/>Synced 5 W&B file(s), 1 media file(s), 4 artifact file(s) and 1 other file(s)"
      ],
      "text/plain": [
       "<IPython.core.display.HTML object>"
      ]
     },
     "metadata": {},
     "output_type": "display_data"
    },
    {
     "data": {
      "text/html": [
       "Find logs at: <code>./wandb/run-20221113_102751-iobuiylu/logs</code>"
      ],
      "text/plain": [
       "<IPython.core.display.HTML object>"
      ]
     },
     "metadata": {},
     "output_type": "display_data"
    },
    {
     "name": "stderr",
     "output_type": "stream",
     "text": [
      "\u001b[34m\u001b[1mwandb\u001b[0m: Sweep Agent: Waiting for job.\n",
      "\u001b[34m\u001b[1mwandb\u001b[0m: Job received.\n",
      "\u001b[34m\u001b[1mwandb\u001b[0m: Agent Starting Run: 265xkury with config:\n",
      "\u001b[34m\u001b[1mwandb\u001b[0m: \tepochs: 12\n",
      "\u001b[34m\u001b[1mwandb\u001b[0m: \tlearning_rate: 0.0017711434341800669\n",
      "\u001b[34m\u001b[1mwandb\u001b[0m: \tsplit_train_ratio: 0.5\n",
      "\u001b[34m\u001b[1mwandb\u001b[0m: \tstride_inside_seq: 9\n",
      "\u001b[34m\u001b[1mwandb\u001b[0m: \tunit_gru0: 128\n"
     ]
    },
    {
     "data": {
      "text/html": [
       "Tracking run with wandb version 0.13.5"
      ],
      "text/plain": [
       "<IPython.core.display.HTML object>"
      ]
     },
     "metadata": {},
     "output_type": "display_data"
    },
    {
     "data": {
      "text/html": [
       "Run data is saved locally in <code>/aiffel/aiffel/aiffelthon/wandb/run-20221113_103012-265xkury</code>"
      ],
      "text/plain": [
       "<IPython.core.display.HTML object>"
      ]
     },
     "metadata": {},
     "output_type": "display_data"
    },
    {
     "data": {
      "text/html": [
       "Syncing run <strong><a href=\"https://wandb.ai/chhyyi/redzone_gru_sweep/runs/265xkury\" target=\"_blank\">sandy-sweep-29</a></strong> to <a href=\"https://wandb.ai/chhyyi/redzone_gru_sweep\" target=\"_blank\">Weights & Biases</a> (<a href=\"https://wandb.me/run\" target=\"_blank\">docs</a>)<br/>Sweep page:  <a href=\"https://wandb.ai/chhyyi/redzone_gru_sweep/sweeps/5qc8l882\" target=\"_blank\">https://wandb.ai/chhyyi/redzone_gru_sweep/sweeps/5qc8l882</a>"
      ],
      "text/plain": [
       "<IPython.core.display.HTML object>"
      ]
     },
     "metadata": {},
     "output_type": "display_data"
    },
    {
     "name": "stdout",
     "output_type": "stream",
     "text": [
      "loaded dataset. Generating sequences\n",
      "Any missing values exist: False\n",
      "train dataset columns: Index(['풍속(m/s)', '풍향(deg)', '기온(°C)', '수온(°C)', '강수량(mm)', '풍속(m/s).1',\n",
      "       '풍향(deg).1', '기온(°C).1', '수온(°C).1', '강수량(mm).1', '풍속(m/s).2',\n",
      "       '풍향(deg).2', '기온(°C).2', '수온(°C).2', '강수량(mm).2', '풍속(m/s).3',\n",
      "       '풍향(deg).3', '기온(°C).3', '수온(°C).3', '강수량(mm).3', '풍속(m/s).4',\n",
      "       '풍향(deg).4', '기온(°C).4', '수온(°C).4', '강수량(mm).4', '적조발생'],\n",
      "      dtype='object')\n",
      "12566 25133\n",
      "(12566, 8, 25) (12567, 8, 25) (12566, 8) (12567, 8) \n",
      "\n",
      "\n",
      "Epoch 1/12\n",
      "197/197 [==============================] - 2s 6ms/step - loss: 0.1496 - val_loss: 0.3656\n"
     ]
    },
    {
     "name": "stderr",
     "output_type": "stream",
     "text": [
      "WARNING:absl:Found untraced functions such as gru_cell_layer_call_and_return_conditional_losses, gru_cell_layer_call_fn, gru_cell_layer_call_fn, gru_cell_layer_call_and_return_conditional_losses, gru_cell_layer_call_and_return_conditional_losses while saving (showing 5 of 5). These functions will not be directly callable after loading.\n",
      "\u001b[34m\u001b[1mwandb\u001b[0m: Adding directory to artifact (/aiffel/aiffel/aiffelthon/wandb/run-20221113_103012-265xkury/files/model-best)... Done. 0.0s\n"
     ]
    },
    {
     "name": "stdout",
     "output_type": "stream",
     "text": [
      "sequence accuracy is 0.922386010981141\n",
      "Epoch 2/12\n",
      "197/197 [==============================] - 1s 5ms/step - loss: 0.0916 - val_loss: 0.4394\n",
      "sequence accuracy is 0.9309799474814991\n",
      "Epoch 3/12\n",
      "197/197 [==============================] - 1s 6ms/step - loss: 0.0653 - val_loss: 0.4532\n",
      "sequence accuracy is 0.9216499562345827\n",
      "Epoch 4/12\n",
      "197/197 [==============================] - 1s 5ms/step - loss: 0.0420 - val_loss: 0.5272\n",
      "sequence accuracy is 0.9330786981777671\n",
      "Epoch 5/12\n",
      "197/197 [==============================] - 1s 5ms/step - loss: 0.0284 - val_loss: 0.5780\n",
      "sequence accuracy is 0.9268620195750776\n",
      "Epoch 6/12\n",
      "197/197 [==============================] - 1s 5ms/step - loss: 0.0181 - val_loss: 0.6191\n",
      "sequence accuracy is 0.9229231320124135\n",
      "Epoch 7/12\n",
      "197/197 [==============================] - 1s 5ms/step - loss: 0.0205 - val_loss: 0.5883\n",
      "sequence accuracy is 0.9302339460491764\n",
      "Epoch 8/12\n",
      "197/197 [==============================] - 1s 5ms/step - loss: 0.0088 - val_loss: 0.6912\n",
      "sequence accuracy is 0.9260264979708761\n",
      "Epoch 9/12\n",
      "197/197 [==============================] - 1s 5ms/step - loss: 0.0074 - val_loss: 0.7256\n",
      "sequence accuracy is 0.9290204503859314\n",
      "Epoch 10/12\n",
      "197/197 [==============================] - 1s 5ms/step - loss: 0.0060 - val_loss: 0.7853\n",
      "sequence accuracy is 0.9284634359831304\n",
      "Epoch 11/12\n",
      "197/197 [==============================] - 1s 5ms/step - loss: 0.0071 - val_loss: 0.7225\n",
      "sequence accuracy is 0.9248527890506884\n",
      "Epoch 12/12\n",
      "197/197 [==============================] - 1s 5ms/step - loss: 0.0036 - val_loss: 0.8129\n",
      "sequence accuracy is 0.9286325296411235\n"
     ]
    },
    {
     "data": {
      "text/html": [
       "Waiting for W&B process to finish... <strong style=\"color:green\">(success).</strong>"
      ],
      "text/plain": [
       "<IPython.core.display.HTML object>"
      ]
     },
     "metadata": {},
     "output_type": "display_data"
    },
    {
     "data": {
      "text/html": [
       "<style>\n",
       "    table.wandb td:nth-child(1) { padding: 0 10px; text-align: left ; width: auto;} td:nth-child(2) {text-align: left ; width: 100%}\n",
       "    .wandb-row { display: flex; flex-direction: row; flex-wrap: wrap; justify-content: flex-start; width: 100% }\n",
       "    .wandb-col { display: flex; flex-direction: column; flex-basis: 100%; flex: 1; padding: 10px; }\n",
       "    </style>\n",
       "<div class=\"wandb-row\"><div class=\"wandb-col\"><h3>Run history:</h3><br/><table class=\"wandb\"><tr><td>Validation Acc :</td><td>▁</td></tr><tr><td>epoch</td><td>▁▂▂▃▄▄▅▅▆▇▇█</td></tr><tr><td>loss</td><td>█▅▄▃▂▂▂▁▁▁▁▁</td></tr><tr><td>val_loss</td><td>▁▂▂▄▄▅▄▆▇█▇█</td></tr></table><br/></div><div class=\"wandb-col\"><h3>Run summary:</h3><br/><table class=\"wandb\"><tr><td>Validation Acc :</td><td>0.92863</td></tr><tr><td>best_epoch</td><td>0</td></tr><tr><td>best_val_loss</td><td>0.36563</td></tr><tr><td>epoch</td><td>11</td></tr><tr><td>loss</td><td>0.00361</td></tr><tr><td>val_loss</td><td>0.81295</td></tr></table><br/></div></div>"
      ],
      "text/plain": [
       "<IPython.core.display.HTML object>"
      ]
     },
     "metadata": {},
     "output_type": "display_data"
    },
    {
     "data": {
      "text/html": [
       "Synced <strong style=\"color:#cdcd00\">sandy-sweep-29</strong>: <a href=\"https://wandb.ai/chhyyi/redzone_gru_sweep/runs/265xkury\" target=\"_blank\">https://wandb.ai/chhyyi/redzone_gru_sweep/runs/265xkury</a><br/>Synced 5 W&B file(s), 1 media file(s), 4 artifact file(s) and 1 other file(s)"
      ],
      "text/plain": [
       "<IPython.core.display.HTML object>"
      ]
     },
     "metadata": {},
     "output_type": "display_data"
    },
    {
     "data": {
      "text/html": [
       "Find logs at: <code>./wandb/run-20221113_103012-265xkury/logs</code>"
      ],
      "text/plain": [
       "<IPython.core.display.HTML object>"
      ]
     },
     "metadata": {},
     "output_type": "display_data"
    },
    {
     "name": "stderr",
     "output_type": "stream",
     "text": [
      "\u001b[34m\u001b[1mwandb\u001b[0m: Agent Starting Run: szu2nmzf with config:\n",
      "\u001b[34m\u001b[1mwandb\u001b[0m: \tepochs: 8\n",
      "\u001b[34m\u001b[1mwandb\u001b[0m: \tlearning_rate: 0.00954339438951183\n",
      "\u001b[34m\u001b[1mwandb\u001b[0m: \tsplit_train_ratio: 0.5\n",
      "\u001b[34m\u001b[1mwandb\u001b[0m: \tstride_inside_seq: 1\n",
      "\u001b[34m\u001b[1mwandb\u001b[0m: \tunit_gru0: 64\n"
     ]
    },
    {
     "data": {
      "text/html": [
       "Tracking run with wandb version 0.13.5"
      ],
      "text/plain": [
       "<IPython.core.display.HTML object>"
      ]
     },
     "metadata": {},
     "output_type": "display_data"
    },
    {
     "data": {
      "text/html": [
       "Run data is saved locally in <code>/aiffel/aiffel/aiffelthon/wandb/run-20221113_103125-szu2nmzf</code>"
      ],
      "text/plain": [
       "<IPython.core.display.HTML object>"
      ]
     },
     "metadata": {},
     "output_type": "display_data"
    },
    {
     "data": {
      "text/html": [
       "Syncing run <strong><a href=\"https://wandb.ai/chhyyi/redzone_gru_sweep/runs/szu2nmzf\" target=\"_blank\">fearless-sweep-30</a></strong> to <a href=\"https://wandb.ai/chhyyi/redzone_gru_sweep\" target=\"_blank\">Weights & Biases</a> (<a href=\"https://wandb.me/run\" target=\"_blank\">docs</a>)<br/>Sweep page:  <a href=\"https://wandb.ai/chhyyi/redzone_gru_sweep/sweeps/5qc8l882\" target=\"_blank\">https://wandb.ai/chhyyi/redzone_gru_sweep/sweeps/5qc8l882</a>"
      ],
      "text/plain": [
       "<IPython.core.display.HTML object>"
      ]
     },
     "metadata": {},
     "output_type": "display_data"
    },
    {
     "name": "stdout",
     "output_type": "stream",
     "text": [
      "loaded dataset. Generating sequences\n",
      "Any missing values exist: False\n",
      "train dataset columns: Index(['풍속(m/s)', '풍향(deg)', '기온(°C)', '수온(°C)', '강수량(mm)', '풍속(m/s).1',\n",
      "       '풍향(deg).1', '기온(°C).1', '수온(°C).1', '강수량(mm).1', '풍속(m/s).2',\n",
      "       '풍향(deg).2', '기온(°C).2', '수온(°C).2', '강수량(mm).2', '풍속(m/s).3',\n",
      "       '풍향(deg).3', '기온(°C).3', '수온(°C).3', '강수량(mm).3', '풍속(m/s).4',\n",
      "       '풍향(deg).4', '기온(°C).4', '수온(°C).4', '강수량(mm).4', '적조발생'],\n",
      "      dtype='object')\n",
      "12566 25133\n",
      "(12566, 72, 25) (12567, 72, 25) (12566, 72) (12567, 72) \n",
      "\n",
      "\n",
      "Epoch 1/8\n",
      "197/197 [==============================] - 4s 10ms/step - loss: 0.1284 - val_loss: 0.3426\n"
     ]
    },
    {
     "name": "stderr",
     "output_type": "stream",
     "text": [
      "WARNING:absl:Found untraced functions such as gru_cell_layer_call_and_return_conditional_losses, gru_cell_layer_call_fn, gru_cell_layer_call_fn, gru_cell_layer_call_and_return_conditional_losses, gru_cell_layer_call_and_return_conditional_losses while saving (showing 5 of 5). These functions will not be directly callable after loading.\n",
      "\u001b[34m\u001b[1mwandb\u001b[0m: Adding directory to artifact (/aiffel/aiffel/aiffelthon/wandb/run-20221113_103125-szu2nmzf/files/model-best)... Done. 0.0s\n"
     ]
    },
    {
     "name": "stdout",
     "output_type": "stream",
     "text": [
      "sequence accuracy is 0.9257424648329399\n",
      "Epoch 2/8\n",
      "197/197 [==============================] - 1s 7ms/step - loss: 0.0455 - val_loss: 0.4759\n",
      "sequence accuracy is 0.9322464921354872\n",
      "Epoch 3/8\n",
      "197/197 [==============================] - 1s 7ms/step - loss: 0.0260 - val_loss: 0.4898\n",
      "sequence accuracy is 0.9242924590859659\n",
      "Epoch 4/8\n",
      "197/197 [==============================] - 1s 7ms/step - loss: 0.0171 - val_loss: 0.5766\n",
      "sequence accuracy is 0.9194064260010787\n",
      "Epoch 5/8\n",
      "197/197 [==============================] - 1s 7ms/step - loss: 0.0082 - val_loss: 0.6859\n",
      "sequence accuracy is 0.9255236377461252\n",
      "Epoch 6/8\n",
      "197/197 [==============================] - 1s 7ms/step - loss: 0.0047 - val_loss: 0.6988\n",
      "sequence accuracy is 0.9261513841365835\n",
      "Epoch 7/8\n",
      "197/197 [==============================] - 1s 7ms/step - loss: 0.0061 - val_loss: 0.5212\n",
      "sequence accuracy is 0.9105571912327701\n",
      "Epoch 8/8\n",
      "197/197 [==============================] - 1s 7ms/step - loss: 0.0286 - val_loss: 0.6186\n",
      "sequence accuracy is 0.9231762199057496\n"
     ]
    },
    {
     "data": {
      "text/html": [
       "Waiting for W&B process to finish... <strong style=\"color:green\">(success).</strong>"
      ],
      "text/plain": [
       "<IPython.core.display.HTML object>"
      ]
     },
     "metadata": {},
     "output_type": "display_data"
    },
    {
     "data": {
      "text/html": [
       "<style>\n",
       "    table.wandb td:nth-child(1) { padding: 0 10px; text-align: left ; width: auto;} td:nth-child(2) {text-align: left ; width: 100%}\n",
       "    .wandb-row { display: flex; flex-direction: row; flex-wrap: wrap; justify-content: flex-start; width: 100% }\n",
       "    .wandb-col { display: flex; flex-direction: column; flex-basis: 100%; flex: 1; padding: 10px; }\n",
       "    </style>\n",
       "<div class=\"wandb-row\"><div class=\"wandb-col\"><h3>Run history:</h3><br/><table class=\"wandb\"><tr><td>Validation Acc :</td><td>▁</td></tr><tr><td>epoch</td><td>▁▂▃▄▅▆▇█</td></tr><tr><td>loss</td><td>█▃▂▂▁▁▁▂</td></tr><tr><td>val_loss</td><td>▁▄▄▆██▅▆</td></tr></table><br/></div><div class=\"wandb-col\"><h3>Run summary:</h3><br/><table class=\"wandb\"><tr><td>Validation Acc :</td><td>0.92318</td></tr><tr><td>best_epoch</td><td>0</td></tr><tr><td>best_val_loss</td><td>0.34256</td></tr><tr><td>epoch</td><td>7</td></tr><tr><td>loss</td><td>0.02862</td></tr><tr><td>val_loss</td><td>0.61862</td></tr></table><br/></div></div>"
      ],
      "text/plain": [
       "<IPython.core.display.HTML object>"
      ]
     },
     "metadata": {},
     "output_type": "display_data"
    },
    {
     "data": {
      "text/html": [
       "Synced <strong style=\"color:#cdcd00\">fearless-sweep-30</strong>: <a href=\"https://wandb.ai/chhyyi/redzone_gru_sweep/runs/szu2nmzf\" target=\"_blank\">https://wandb.ai/chhyyi/redzone_gru_sweep/runs/szu2nmzf</a><br/>Synced 5 W&B file(s), 1 media file(s), 4 artifact file(s) and 1 other file(s)"
      ],
      "text/plain": [
       "<IPython.core.display.HTML object>"
      ]
     },
     "metadata": {},
     "output_type": "display_data"
    },
    {
     "data": {
      "text/html": [
       "Find logs at: <code>./wandb/run-20221113_103125-szu2nmzf/logs</code>"
      ],
      "text/plain": [
       "<IPython.core.display.HTML object>"
      ]
     },
     "metadata": {},
     "output_type": "display_data"
    },
    {
     "name": "stderr",
     "output_type": "stream",
     "text": [
      "\u001b[34m\u001b[1mwandb\u001b[0m: Agent Starting Run: bo9igkv0 with config:\n",
      "\u001b[34m\u001b[1mwandb\u001b[0m: \tepochs: 16\n",
      "\u001b[34m\u001b[1mwandb\u001b[0m: \tlearning_rate: 0.008225042594336039\n",
      "\u001b[34m\u001b[1mwandb\u001b[0m: \tsplit_train_ratio: 0.5\n",
      "\u001b[34m\u001b[1mwandb\u001b[0m: \tstride_inside_seq: 9\n",
      "\u001b[34m\u001b[1mwandb\u001b[0m: \tunit_gru0: 128\n"
     ]
    },
    {
     "data": {
      "application/vnd.jupyter.widget-view+json": {
       "model_id": "ad54bd9b3d4444488b20c584a30cb08c",
       "version_major": 2,
       "version_minor": 0
      },
      "text/plain": [
       "VBox(children=(Label(value='Waiting for wandb.init()...\\r'), FloatProgress(value=0.016668743733437925, max=1.0…"
      ]
     },
     "metadata": {},
     "output_type": "display_data"
    },
    {
     "data": {
      "text/html": [
       "Tracking run with wandb version 0.13.5"
      ],
      "text/plain": [
       "<IPython.core.display.HTML object>"
      ]
     },
     "metadata": {},
     "output_type": "display_data"
    },
    {
     "data": {
      "text/html": [
       "Run data is saved locally in <code>/aiffel/aiffel/aiffelthon/wandb/run-20221113_103424-bo9igkv0</code>"
      ],
      "text/plain": [
       "<IPython.core.display.HTML object>"
      ]
     },
     "metadata": {},
     "output_type": "display_data"
    },
    {
     "data": {
      "text/html": [
       "Syncing run <strong><a href=\"https://wandb.ai/chhyyi/redzone_gru_sweep/runs/bo9igkv0\" target=\"_blank\">rural-sweep-31</a></strong> to <a href=\"https://wandb.ai/chhyyi/redzone_gru_sweep\" target=\"_blank\">Weights & Biases</a> (<a href=\"https://wandb.me/run\" target=\"_blank\">docs</a>)<br/>Sweep page:  <a href=\"https://wandb.ai/chhyyi/redzone_gru_sweep/sweeps/5qc8l882\" target=\"_blank\">https://wandb.ai/chhyyi/redzone_gru_sweep/sweeps/5qc8l882</a>"
      ],
      "text/plain": [
       "<IPython.core.display.HTML object>"
      ]
     },
     "metadata": {},
     "output_type": "display_data"
    },
    {
     "name": "stdout",
     "output_type": "stream",
     "text": [
      "loaded dataset. Generating sequences\n",
      "Any missing values exist: False\n",
      "train dataset columns: Index(['풍속(m/s)', '풍향(deg)', '기온(°C)', '수온(°C)', '강수량(mm)', '풍속(m/s).1',\n",
      "       '풍향(deg).1', '기온(°C).1', '수온(°C).1', '강수량(mm).1', '풍속(m/s).2',\n",
      "       '풍향(deg).2', '기온(°C).2', '수온(°C).2', '강수량(mm).2', '풍속(m/s).3',\n",
      "       '풍향(deg).3', '기온(°C).3', '수온(°C).3', '강수량(mm).3', '풍속(m/s).4',\n",
      "       '풍향(deg).4', '기온(°C).4', '수온(°C).4', '강수량(mm).4', '적조발생'],\n",
      "      dtype='object')\n",
      "12566 25133\n",
      "(12566, 8, 25) (12567, 8, 25) (12566, 8) (12567, 8) \n",
      "\n",
      "\n",
      "Epoch 1/16\n",
      "197/197 [==============================] - 2s 6ms/step - loss: 0.1219 - val_loss: 0.3815\n"
     ]
    },
    {
     "name": "stderr",
     "output_type": "stream",
     "text": [
      "WARNING:absl:Found untraced functions such as gru_cell_layer_call_and_return_conditional_losses, gru_cell_layer_call_fn, gru_cell_layer_call_fn, gru_cell_layer_call_and_return_conditional_losses, gru_cell_layer_call_and_return_conditional_losses while saving (showing 5 of 5). These functions will not be directly callable after loading.\n",
      "\u001b[34m\u001b[1mwandb\u001b[0m: Adding directory to artifact (/aiffel/aiffel/aiffelthon/wandb/run-20221113_103424-bo9igkv0/files/model-best)... Done. 0.0s\n"
     ]
    },
    {
     "name": "stdout",
     "output_type": "stream",
     "text": [
      "sequence accuracy is 0.9346602212142914\n",
      "Epoch 2/16\n",
      "197/197 [==============================] - 1s 5ms/step - loss: 0.0660 - val_loss: 0.5300\n",
      "sequence accuracy is 0.9269614864327206\n",
      "Epoch 3/16\n",
      "197/197 [==============================] - 1s 5ms/step - loss: 0.0325 - val_loss: 0.6059\n",
      "sequence accuracy is 0.9184968568472984\n",
      "Epoch 4/16\n",
      "197/197 [==============================] - 1s 5ms/step - loss: 0.0167 - val_loss: 0.6549\n",
      "sequence accuracy is 0.931268401368664\n",
      "Epoch 5/16\n",
      "197/197 [==============================] - 1s 5ms/step - loss: 0.0139 - val_loss: 0.7156\n",
      "sequence accuracy is 0.9227838784117132\n",
      "Epoch 6/16\n",
      "197/197 [==============================] - 1s 5ms/step - loss: 0.0107 - val_loss: 0.7362\n",
      "sequence accuracy is 0.9253302299673749\n",
      "Epoch 7/16\n",
      "197/197 [==============================] - 1s 5ms/step - loss: 0.0044 - val_loss: 0.8851\n",
      "sequence accuracy is 0.9264442587729769\n",
      "Epoch 8/16\n",
      "197/197 [==============================] - 1s 5ms/step - loss: 0.0034 - val_loss: 0.8836\n",
      "sequence accuracy is 0.9197899259966579\n",
      "Epoch 9/16\n",
      "197/197 [==============================] - 1s 5ms/step - loss: 0.0114 - val_loss: 0.8358\n",
      "sequence accuracy is 0.9279163682660937\n",
      "Epoch 10/16\n",
      "197/197 [==============================] - 1s 5ms/step - loss: 0.0051 - val_loss: 0.9191\n",
      "sequence accuracy is 0.9250517227659744\n",
      "Epoch 11/16\n",
      "197/197 [==============================] - 1s 5ms/step - loss: 0.0025 - val_loss: 1.0031\n",
      "sequence accuracy is 0.9225352112676056\n",
      "Epoch 12/16\n",
      "197/197 [==============================] - 1s 5ms/step - loss: 0.0033 - val_loss: 0.9959\n",
      "sequence accuracy is 0.9292094374154531\n",
      "Epoch 13/16\n",
      "197/197 [==============================] - 1s 5ms/step - loss: 0.0034 - val_loss: 0.9759\n",
      "sequence accuracy is 0.910022280576112\n",
      "Epoch 14/16\n",
      "197/197 [==============================] - 1s 5ms/step - loss: 0.0068 - val_loss: 0.9419\n",
      "sequence accuracy is 0.9246538553354022\n",
      "Epoch 15/16\n",
      "197/197 [==============================] - 1s 5ms/step - loss: 0.0110 - val_loss: 0.8241\n",
      "sequence accuracy is 0.9168954404392456\n",
      "Epoch 16/16\n",
      "197/197 [==============================] - 1s 5ms/step - loss: 0.0064 - val_loss: 0.9479\n",
      "sequence accuracy is 0.9226247314394843\n"
     ]
    },
    {
     "data": {
      "text/html": [
       "Waiting for W&B process to finish... <strong style=\"color:green\">(success).</strong>"
      ],
      "text/plain": [
       "<IPython.core.display.HTML object>"
      ]
     },
     "metadata": {},
     "output_type": "display_data"
    },
    {
     "data": {
      "text/html": [
       "<style>\n",
       "    table.wandb td:nth-child(1) { padding: 0 10px; text-align: left ; width: auto;} td:nth-child(2) {text-align: left ; width: 100%}\n",
       "    .wandb-row { display: flex; flex-direction: row; flex-wrap: wrap; justify-content: flex-start; width: 100% }\n",
       "    .wandb-col { display: flex; flex-direction: column; flex-basis: 100%; flex: 1; padding: 10px; }\n",
       "    </style>\n",
       "<div class=\"wandb-row\"><div class=\"wandb-col\"><h3>Run history:</h3><br/><table class=\"wandb\"><tr><td>Validation Acc :</td><td>▁</td></tr><tr><td>epoch</td><td>▁▁▂▂▃▃▄▄▅▅▆▆▇▇██</td></tr><tr><td>loss</td><td>█▅▃▂▂▁▁▁▂▁▁▁▁▁▁▁</td></tr><tr><td>val_loss</td><td>▁▃▄▄▅▅▇▇▆▇███▇▆▇</td></tr></table><br/></div><div class=\"wandb-col\"><h3>Run summary:</h3><br/><table class=\"wandb\"><tr><td>Validation Acc :</td><td>0.92262</td></tr><tr><td>best_epoch</td><td>0</td></tr><tr><td>best_val_loss</td><td>0.38154</td></tr><tr><td>epoch</td><td>15</td></tr><tr><td>loss</td><td>0.00643</td></tr><tr><td>val_loss</td><td>0.94793</td></tr></table><br/></div></div>"
      ],
      "text/plain": [
       "<IPython.core.display.HTML object>"
      ]
     },
     "metadata": {},
     "output_type": "display_data"
    },
    {
     "data": {
      "text/html": [
       "Synced <strong style=\"color:#cdcd00\">rural-sweep-31</strong>: <a href=\"https://wandb.ai/chhyyi/redzone_gru_sweep/runs/bo9igkv0\" target=\"_blank\">https://wandb.ai/chhyyi/redzone_gru_sweep/runs/bo9igkv0</a><br/>Synced 5 W&B file(s), 1 media file(s), 4 artifact file(s) and 1 other file(s)"
      ],
      "text/plain": [
       "<IPython.core.display.HTML object>"
      ]
     },
     "metadata": {},
     "output_type": "display_data"
    },
    {
     "data": {
      "text/html": [
       "Find logs at: <code>./wandb/run-20221113_103424-bo9igkv0/logs</code>"
      ],
      "text/plain": [
       "<IPython.core.display.HTML object>"
      ]
     },
     "metadata": {},
     "output_type": "display_data"
    },
    {
     "name": "stderr",
     "output_type": "stream",
     "text": [
      "\u001b[34m\u001b[1mwandb\u001b[0m: Agent Starting Run: s9txzh6o with config:\n",
      "\u001b[34m\u001b[1mwandb\u001b[0m: \tepochs: 15\n",
      "\u001b[34m\u001b[1mwandb\u001b[0m: \tlearning_rate: 0.008869358439563687\n",
      "\u001b[34m\u001b[1mwandb\u001b[0m: \tsplit_train_ratio: 0.5\n",
      "\u001b[34m\u001b[1mwandb\u001b[0m: \tstride_inside_seq: 1\n",
      "\u001b[34m\u001b[1mwandb\u001b[0m: \tunit_gru0: 32\n"
     ]
    },
    {
     "data": {
      "text/html": [
       "Tracking run with wandb version 0.13.5"
      ],
      "text/plain": [
       "<IPython.core.display.HTML object>"
      ]
     },
     "metadata": {},
     "output_type": "display_data"
    },
    {
     "data": {
      "text/html": [
       "Run data is saved locally in <code>/aiffel/aiffel/aiffelthon/wandb/run-20221113_103601-s9txzh6o</code>"
      ],
      "text/plain": [
       "<IPython.core.display.HTML object>"
      ]
     },
     "metadata": {},
     "output_type": "display_data"
    },
    {
     "data": {
      "text/html": [
       "Syncing run <strong><a href=\"https://wandb.ai/chhyyi/redzone_gru_sweep/runs/s9txzh6o\" target=\"_blank\">glad-sweep-32</a></strong> to <a href=\"https://wandb.ai/chhyyi/redzone_gru_sweep\" target=\"_blank\">Weights & Biases</a> (<a href=\"https://wandb.me/run\" target=\"_blank\">docs</a>)<br/>Sweep page:  <a href=\"https://wandb.ai/chhyyi/redzone_gru_sweep/sweeps/5qc8l882\" target=\"_blank\">https://wandb.ai/chhyyi/redzone_gru_sweep/sweeps/5qc8l882</a>"
      ],
      "text/plain": [
       "<IPython.core.display.HTML object>"
      ]
     },
     "metadata": {},
     "output_type": "display_data"
    },
    {
     "name": "stdout",
     "output_type": "stream",
     "text": [
      "loaded dataset. Generating sequences\n",
      "Any missing values exist: False\n",
      "train dataset columns: Index(['풍속(m/s)', '풍향(deg)', '기온(°C)', '수온(°C)', '강수량(mm)', '풍속(m/s).1',\n",
      "       '풍향(deg).1', '기온(°C).1', '수온(°C).1', '강수량(mm).1', '풍속(m/s).2',\n",
      "       '풍향(deg).2', '기온(°C).2', '수온(°C).2', '강수량(mm).2', '풍속(m/s).3',\n",
      "       '풍향(deg).3', '기온(°C).3', '수온(°C).3', '강수량(mm).3', '풍속(m/s).4',\n",
      "       '풍향(deg).4', '기온(°C).4', '수온(°C).4', '강수량(mm).4', '적조발생'],\n",
      "      dtype='object')\n",
      "12566 25133\n",
      "(12566, 72, 25) (12567, 72, 25) (12566, 72) (12567, 72) \n",
      "\n",
      "\n",
      "Epoch 1/15\n",
      "197/197 [==============================] - 3s 10ms/step - loss: 0.1354 - val_loss: 0.2836\n"
     ]
    },
    {
     "name": "stderr",
     "output_type": "stream",
     "text": [
      "WARNING:absl:Found untraced functions such as gru_cell_layer_call_and_return_conditional_losses, gru_cell_layer_call_fn, gru_cell_layer_call_fn, gru_cell_layer_call_and_return_conditional_losses, gru_cell_layer_call_and_return_conditional_losses while saving (showing 5 of 5). These functions will not be directly callable after loading.\n",
      "\u001b[34m\u001b[1mwandb\u001b[0m: Adding directory to artifact (/aiffel/aiffel/aiffelthon/wandb/run-20221113_103601-s9txzh6o/files/model-best)... Done. 0.0s\n"
     ]
    },
    {
     "name": "stdout",
     "output_type": "stream",
     "text": [
      "sequence accuracy is 0.9263138466707338\n",
      "Epoch 2/15\n",
      "197/197 [==============================] - 1s 7ms/step - loss: 0.0411 - val_loss: 0.4354\n",
      "sequence accuracy is 0.9233884158687214\n",
      "Epoch 3/15\n",
      "197/197 [==============================] - 1s 7ms/step - loss: 0.0179 - val_loss: 0.5311\n",
      "sequence accuracy is 0.9145502329734844\n",
      "Epoch 4/15\n",
      "197/197 [==============================] - 1s 7ms/step - loss: 0.0128 - val_loss: 0.5577\n",
      "sequence accuracy is 0.9284468581735232\n",
      "Epoch 5/15\n",
      "197/197 [==============================] - 1s 7ms/step - loss: 0.0140 - val_loss: 0.5756\n",
      "sequence accuracy is 0.9301377947534548\n",
      "Epoch 6/15\n",
      "197/197 [==============================] - 1s 7ms/step - loss: 0.0058 - val_loss: 0.6042\n",
      "sequence accuracy is 0.9254208553265607\n",
      "Epoch 7/15\n",
      "197/197 [==============================] - 1s 7ms/step - loss: 0.0062 - val_loss: 0.6333\n"
     ]
    }
   ],
   "source": [
    "sweep_id = wandb.sweep(sweep_config)\n",
    "\n",
    "# run the sweep\n",
    "wandb.agent(sweep_id,\n",
    "            function=train,\n",
    "            entity = 'chhyyi',\n",
    "            project = 'redzone_gru_sweep')"
   ]
  },
  {
   "cell_type": "code",
   "execution_count": 3,
   "id": "5a1bf6d9",
   "metadata": {},
   "outputs": [],
   "source": [
    "wandb.finish()"
   ]
  },
  {
   "cell_type": "markdown",
   "id": "476e064c",
   "metadata": {
    "slideshow": {
     "slide_type": "-"
    }
   },
   "source": [
    "# GRU 써보기    \n",
    "이 노트북은 [Sensory_LSTM 노트북](https://github.com/chhyyi/aiffel/blob/main/aiffelthon/Sensory_LSTM.ipynb) 의 복제입니다.\n",
    "\n",
    "## 작업 로그\n",
    "\n",
    "### 2022-11-12\n",
    "- 지난번에 하려고 했던, wandb를 이용해서 sweep을 해봅니다. wandb에 의한 sweep은 python module로 저장하고 임포트 하는 것이 더 적당해 보입니다. 이 부분은 천천히 생각합니다. 아무튼 그 경우, '\\*.py' 파일을 내보내고 여기에서 wandb sweep 을 실행하도록 합니다.  \n",
    "\n",
    "### 2022-11-10\n",
    "- 원본의 LSTM을 GRU로 바꾸고, wandb를 써보려고 했는데 그냥 한 번 했습니다. \n",
    "- df_merged를 csv로 저장하고, 시퀀스 인덱스 생성 이전의 부분은 모두 삭제합니다. csv파일을 읽는 부분부터 씁니다."
   ]
  },
  {
   "cell_type": "code",
   "execution_count": null,
   "id": "cb9231fa",
   "metadata": {
    "slideshow": {
     "slide_type": "-"
    }
   },
   "outputs": [],
   "source": [
    "import pandas as pd\n",
    "import tensorflow as tf\n",
    "from tensorflow import keras\n",
    "import matplotlib.pyplot as plt\n",
    "import numpy as np\n",
    "import wandb\n",
    "from wandb.keras import WandbCallback"
   ]
  },
  {
   "cell_type": "code",
   "execution_count": 18,
   "id": "f1437e06",
   "metadata": {},
   "outputs": [
    {
     "data": {
      "text/plain": [
       "True"
      ]
     },
     "execution_count": 18,
     "metadata": {},
     "output_type": "execute_result"
    }
   ],
   "source": [
    "wandb.login()"
   ]
  },
  {
   "cell_type": "code",
   "execution_count": 19,
   "id": "05627912",
   "metadata": {},
   "outputs": [
    {
     "ename": "SyntaxError",
     "evalue": "invalid syntax (2143752845.py, line 12)",
     "output_type": "error",
     "traceback": [
      "\u001b[0;36m  File \u001b[0;32m\"/tmp/ipykernel_147/2143752845.py\"\u001b[0;36m, line \u001b[0;32m12\u001b[0m\n\u001b[0;31m    'callbacks'=[MySeqAccCallback()]\u001b[0m\n\u001b[0m               ^\u001b[0m\n\u001b[0;31mSyntaxError\u001b[0m\u001b[0;31m:\u001b[0m invalid syntax\n"
     ]
    }
   ],
   "source": [
    "run = wandb.init(project = 'redzone_gru',\n",
    "                 entity = 'chhyyi',\n",
    "                 config = {\n",
    "                     'seq_field':72,\n",
    "                     'stride_inside_seq':9,\n",
    "                     'stride_between_seqs':2,\n",
    "                     'learning_rate':0.01,\n",
    "                     'loss':'sparse_categorical_crossentropy',\n",
    "                     'metrics':['accuracy'],\n",
    "                     'epochs':20,\n",
    "                     'batch_size':64,\n",
    "                     'callbacks'=[MySeqAccCallback()]\n",
    "                 })"
   ]
  },
  {
   "cell_type": "code",
   "execution_count": null,
   "id": "202292cf",
   "metadata": {},
   "outputs": [],
   "source": [
    "locations=['거문도', '울산', '거제도', '통영', '추자도']"
   ]
  },
  {
   "cell_type": "code",
   "execution_count": 93,
   "id": "c22d68f9",
   "metadata": {},
   "outputs": [
    {
     "data": {
      "text/html": [
       "<div>\n",
       "<style scoped>\n",
       "    .dataframe tbody tr th:only-of-type {\n",
       "        vertical-align: middle;\n",
       "    }\n",
       "\n",
       "    .dataframe tbody tr th {\n",
       "        vertical-align: top;\n",
       "    }\n",
       "\n",
       "    .dataframe thead th {\n",
       "        text-align: right;\n",
       "    }\n",
       "</style>\n",
       "<table border=\"1\" class=\"dataframe\">\n",
       "  <thead>\n",
       "    <tr style=\"text-align: right;\">\n",
       "      <th></th>\n",
       "      <th>Unnamed: 0</th>\n",
       "      <th>풍속(m/s)</th>\n",
       "      <th>풍향(deg)</th>\n",
       "      <th>기온(°C)</th>\n",
       "      <th>수온(°C)</th>\n",
       "      <th>강수량(mm)</th>\n",
       "      <th>풍속(m/s).1</th>\n",
       "      <th>풍향(deg).1</th>\n",
       "      <th>기온(°C).1</th>\n",
       "      <th>수온(°C).1</th>\n",
       "      <th>...</th>\n",
       "      <th>풍향(deg).3</th>\n",
       "      <th>기온(°C).3</th>\n",
       "      <th>수온(°C).3</th>\n",
       "      <th>강수량(mm).3</th>\n",
       "      <th>풍속(m/s).4</th>\n",
       "      <th>풍향(deg).4</th>\n",
       "      <th>기온(°C).4</th>\n",
       "      <th>수온(°C).4</th>\n",
       "      <th>강수량(mm).4</th>\n",
       "      <th>적조발생</th>\n",
       "    </tr>\n",
       "  </thead>\n",
       "  <tbody>\n",
       "    <tr>\n",
       "      <th>0</th>\n",
       "      <td>0</td>\n",
       "      <td>-0.846358</td>\n",
       "      <td>0.903430</td>\n",
       "      <td>-0.460595</td>\n",
       "      <td>-0.297487</td>\n",
       "      <td>-0.124668</td>\n",
       "      <td>-1.539878</td>\n",
       "      <td>0.752017</td>\n",
       "      <td>-0.658575</td>\n",
       "      <td>-0.665820</td>\n",
       "      <td>...</td>\n",
       "      <td>0.586254</td>\n",
       "      <td>-0.442772</td>\n",
       "      <td>-0.243601</td>\n",
       "      <td>-0.150869</td>\n",
       "      <td>-1.353779</td>\n",
       "      <td>1.551810</td>\n",
       "      <td>-0.364254</td>\n",
       "      <td>-0.500266</td>\n",
       "      <td>-0.112367</td>\n",
       "      <td>0.0</td>\n",
       "    </tr>\n",
       "    <tr>\n",
       "      <th>1</th>\n",
       "      <td>1</td>\n",
       "      <td>-0.308964</td>\n",
       "      <td>0.861089</td>\n",
       "      <td>-0.404756</td>\n",
       "      <td>-0.276128</td>\n",
       "      <td>-0.124668</td>\n",
       "      <td>-1.661737</td>\n",
       "      <td>0.652532</td>\n",
       "      <td>-0.588377</td>\n",
       "      <td>-0.620489</td>\n",
       "      <td>...</td>\n",
       "      <td>0.638984</td>\n",
       "      <td>-0.449676</td>\n",
       "      <td>-0.243601</td>\n",
       "      <td>-0.150869</td>\n",
       "      <td>-0.406414</td>\n",
       "      <td>-1.337830</td>\n",
       "      <td>-0.391642</td>\n",
       "      <td>-0.519119</td>\n",
       "      <td>-0.112367</td>\n",
       "      <td>0.0</td>\n",
       "    </tr>\n",
       "    <tr>\n",
       "      <th>2</th>\n",
       "      <td>2</td>\n",
       "      <td>-0.428385</td>\n",
       "      <td>0.945770</td>\n",
       "      <td>-0.348918</td>\n",
       "      <td>-0.297487</td>\n",
       "      <td>-0.124668</td>\n",
       "      <td>-1.448484</td>\n",
       "      <td>0.534960</td>\n",
       "      <td>-0.616456</td>\n",
       "      <td>-0.643154</td>\n",
       "      <td>...</td>\n",
       "      <td>0.691715</td>\n",
       "      <td>-0.456580</td>\n",
       "      <td>-0.243601</td>\n",
       "      <td>-0.150869</td>\n",
       "      <td>-0.161932</td>\n",
       "      <td>1.378432</td>\n",
       "      <td>-0.377948</td>\n",
       "      <td>-0.519119</td>\n",
       "      <td>-0.112367</td>\n",
       "      <td>0.0</td>\n",
       "    </tr>\n",
       "    <tr>\n",
       "      <th>3</th>\n",
       "      <td>3</td>\n",
       "      <td>-0.338819</td>\n",
       "      <td>0.827217</td>\n",
       "      <td>-0.293080</td>\n",
       "      <td>-0.404279</td>\n",
       "      <td>-0.124668</td>\n",
       "      <td>-1.539878</td>\n",
       "      <td>0.652532</td>\n",
       "      <td>-0.546258</td>\n",
       "      <td>-0.665820</td>\n",
       "      <td>...</td>\n",
       "      <td>0.709292</td>\n",
       "      <td>-0.428963</td>\n",
       "      <td>-0.243601</td>\n",
       "      <td>-0.150869</td>\n",
       "      <td>-0.559215</td>\n",
       "      <td>1.386688</td>\n",
       "      <td>-0.323173</td>\n",
       "      <td>-0.519119</td>\n",
       "      <td>-0.112367</td>\n",
       "      <td>0.0</td>\n",
       "    </tr>\n",
       "    <tr>\n",
       "      <th>4</th>\n",
       "      <td>4</td>\n",
       "      <td>0.168719</td>\n",
       "      <td>1.064324</td>\n",
       "      <td>-0.320999</td>\n",
       "      <td>-0.468355</td>\n",
       "      <td>-0.124668</td>\n",
       "      <td>0.074754</td>\n",
       "      <td>0.842458</td>\n",
       "      <td>-0.447980</td>\n",
       "      <td>-0.688485</td>\n",
       "      <td>...</td>\n",
       "      <td>0.753234</td>\n",
       "      <td>-0.401346</td>\n",
       "      <td>-0.262635</td>\n",
       "      <td>-0.150869</td>\n",
       "      <td>0.113109</td>\n",
       "      <td>-1.329574</td>\n",
       "      <td>-0.336867</td>\n",
       "      <td>-0.500266</td>\n",
       "      <td>-0.112367</td>\n",
       "      <td>0.0</td>\n",
       "    </tr>\n",
       "    <tr>\n",
       "      <th>...</th>\n",
       "      <td>...</td>\n",
       "      <td>...</td>\n",
       "      <td>...</td>\n",
       "      <td>...</td>\n",
       "      <td>...</td>\n",
       "      <td>...</td>\n",
       "      <td>...</td>\n",
       "      <td>...</td>\n",
       "      <td>...</td>\n",
       "      <td>...</td>\n",
       "      <td>...</td>\n",
       "      <td>...</td>\n",
       "      <td>...</td>\n",
       "      <td>...</td>\n",
       "      <td>...</td>\n",
       "      <td>...</td>\n",
       "      <td>...</td>\n",
       "      <td>...</td>\n",
       "      <td>...</td>\n",
       "      <td>...</td>\n",
       "      <td>...</td>\n",
       "    </tr>\n",
       "    <tr>\n",
       "      <th>50331</th>\n",
       "      <td>50331</td>\n",
       "      <td>-1.712158</td>\n",
       "      <td>0.115895</td>\n",
       "      <td>0.879527</td>\n",
       "      <td>1.218967</td>\n",
       "      <td>-0.124668</td>\n",
       "      <td>-1.082907</td>\n",
       "      <td>-0.405622</td>\n",
       "      <td>0.899828</td>\n",
       "      <td>1.260715</td>\n",
       "      <td>...</td>\n",
       "      <td>0.419274</td>\n",
       "      <td>1.062370</td>\n",
       "      <td>1.222006</td>\n",
       "      <td>-0.150869</td>\n",
       "      <td>-1.537140</td>\n",
       "      <td>-1.329574</td>\n",
       "      <td>0.881887</td>\n",
       "      <td>1.196504</td>\n",
       "      <td>-0.112367</td>\n",
       "      <td>0.0</td>\n",
       "    </tr>\n",
       "    <tr>\n",
       "      <th>50332</th>\n",
       "      <td>50332</td>\n",
       "      <td>-1.353896</td>\n",
       "      <td>0.183640</td>\n",
       "      <td>0.893486</td>\n",
       "      <td>1.176250</td>\n",
       "      <td>-0.124668</td>\n",
       "      <td>-0.991512</td>\n",
       "      <td>-0.360402</td>\n",
       "      <td>0.857709</td>\n",
       "      <td>1.238050</td>\n",
       "      <td>...</td>\n",
       "      <td>0.392909</td>\n",
       "      <td>1.103796</td>\n",
       "      <td>1.241040</td>\n",
       "      <td>-0.150869</td>\n",
       "      <td>-1.384339</td>\n",
       "      <td>-1.222244</td>\n",
       "      <td>0.553234</td>\n",
       "      <td>1.026827</td>\n",
       "      <td>-0.112367</td>\n",
       "      <td>0.0</td>\n",
       "    </tr>\n",
       "    <tr>\n",
       "      <th>50333</th>\n",
       "      <td>50333</td>\n",
       "      <td>-1.353896</td>\n",
       "      <td>0.454619</td>\n",
       "      <td>0.879527</td>\n",
       "      <td>1.176250</td>\n",
       "      <td>-0.124668</td>\n",
       "      <td>-1.143836</td>\n",
       "      <td>-0.360402</td>\n",
       "      <td>0.857709</td>\n",
       "      <td>1.215385</td>\n",
       "      <td>...</td>\n",
       "      <td>0.805964</td>\n",
       "      <td>1.062370</td>\n",
       "      <td>1.126837</td>\n",
       "      <td>-0.150869</td>\n",
       "      <td>-1.567700</td>\n",
       "      <td>1.477505</td>\n",
       "      <td>0.347826</td>\n",
       "      <td>0.970268</td>\n",
       "      <td>-0.112367</td>\n",
       "      <td>0.0</td>\n",
       "    </tr>\n",
       "    <tr>\n",
       "      <th>50334</th>\n",
       "      <td>50334</td>\n",
       "      <td>-1.234475</td>\n",
       "      <td>0.573173</td>\n",
       "      <td>0.837648</td>\n",
       "      <td>1.261684</td>\n",
       "      <td>-0.124668</td>\n",
       "      <td>-1.418019</td>\n",
       "      <td>-0.043860</td>\n",
       "      <td>0.815590</td>\n",
       "      <td>1.215385</td>\n",
       "      <td>...</td>\n",
       "      <td>0.762022</td>\n",
       "      <td>1.034753</td>\n",
       "      <td>1.088769</td>\n",
       "      <td>-0.150869</td>\n",
       "      <td>-1.567700</td>\n",
       "      <td>1.361919</td>\n",
       "      <td>0.690173</td>\n",
       "      <td>0.932562</td>\n",
       "      <td>-0.112367</td>\n",
       "      <td>0.0</td>\n",
       "    </tr>\n",
       "    <tr>\n",
       "      <th>50335</th>\n",
       "      <td>50335</td>\n",
       "      <td>-1.144909</td>\n",
       "      <td>0.615514</td>\n",
       "      <td>0.837648</td>\n",
       "      <td>1.283042</td>\n",
       "      <td>-0.124668</td>\n",
       "      <td>-1.387554</td>\n",
       "      <td>0.146065</td>\n",
       "      <td>0.829630</td>\n",
       "      <td>1.238050</td>\n",
       "      <td>...</td>\n",
       "      <td>0.893848</td>\n",
       "      <td>1.034753</td>\n",
       "      <td>1.164904</td>\n",
       "      <td>-0.150869</td>\n",
       "      <td>-1.231538</td>\n",
       "      <td>1.494017</td>\n",
       "      <td>0.265663</td>\n",
       "      <td>0.932562</td>\n",
       "      <td>-0.112367</td>\n",
       "      <td>0.0</td>\n",
       "    </tr>\n",
       "  </tbody>\n",
       "</table>\n",
       "<p>50336 rows × 27 columns</p>\n",
       "</div>"
      ],
      "text/plain": [
       "       Unnamed: 0   풍속(m/s)   풍향(deg)    기온(°C)    수온(°C)   강수량(mm)  \\\n",
       "0               0 -0.846358  0.903430 -0.460595 -0.297487 -0.124668   \n",
       "1               1 -0.308964  0.861089 -0.404756 -0.276128 -0.124668   \n",
       "2               2 -0.428385  0.945770 -0.348918 -0.297487 -0.124668   \n",
       "3               3 -0.338819  0.827217 -0.293080 -0.404279 -0.124668   \n",
       "4               4  0.168719  1.064324 -0.320999 -0.468355 -0.124668   \n",
       "...           ...       ...       ...       ...       ...       ...   \n",
       "50331       50331 -1.712158  0.115895  0.879527  1.218967 -0.124668   \n",
       "50332       50332 -1.353896  0.183640  0.893486  1.176250 -0.124668   \n",
       "50333       50333 -1.353896  0.454619  0.879527  1.176250 -0.124668   \n",
       "50334       50334 -1.234475  0.573173  0.837648  1.261684 -0.124668   \n",
       "50335       50335 -1.144909  0.615514  0.837648  1.283042 -0.124668   \n",
       "\n",
       "       풍속(m/s).1  풍향(deg).1  기온(°C).1  수온(°C).1  ...  풍향(deg).3  기온(°C).3  \\\n",
       "0      -1.539878   0.752017 -0.658575 -0.665820  ...   0.586254 -0.442772   \n",
       "1      -1.661737   0.652532 -0.588377 -0.620489  ...   0.638984 -0.449676   \n",
       "2      -1.448484   0.534960 -0.616456 -0.643154  ...   0.691715 -0.456580   \n",
       "3      -1.539878   0.652532 -0.546258 -0.665820  ...   0.709292 -0.428963   \n",
       "4       0.074754   0.842458 -0.447980 -0.688485  ...   0.753234 -0.401346   \n",
       "...          ...        ...       ...       ...  ...        ...       ...   \n",
       "50331  -1.082907  -0.405622  0.899828  1.260715  ...   0.419274  1.062370   \n",
       "50332  -0.991512  -0.360402  0.857709  1.238050  ...   0.392909  1.103796   \n",
       "50333  -1.143836  -0.360402  0.857709  1.215385  ...   0.805964  1.062370   \n",
       "50334  -1.418019  -0.043860  0.815590  1.215385  ...   0.762022  1.034753   \n",
       "50335  -1.387554   0.146065  0.829630  1.238050  ...   0.893848  1.034753   \n",
       "\n",
       "       수온(°C).3  강수량(mm).3  풍속(m/s).4  풍향(deg).4  기온(°C).4  수온(°C).4  \\\n",
       "0     -0.243601  -0.150869  -1.353779   1.551810 -0.364254 -0.500266   \n",
       "1     -0.243601  -0.150869  -0.406414  -1.337830 -0.391642 -0.519119   \n",
       "2     -0.243601  -0.150869  -0.161932   1.378432 -0.377948 -0.519119   \n",
       "3     -0.243601  -0.150869  -0.559215   1.386688 -0.323173 -0.519119   \n",
       "4     -0.262635  -0.150869   0.113109  -1.329574 -0.336867 -0.500266   \n",
       "...         ...        ...        ...        ...       ...       ...   \n",
       "50331  1.222006  -0.150869  -1.537140  -1.329574  0.881887  1.196504   \n",
       "50332  1.241040  -0.150869  -1.384339  -1.222244  0.553234  1.026827   \n",
       "50333  1.126837  -0.150869  -1.567700   1.477505  0.347826  0.970268   \n",
       "50334  1.088769  -0.150869  -1.567700   1.361919  0.690173  0.932562   \n",
       "50335  1.164904  -0.150869  -1.231538   1.494017  0.265663  0.932562   \n",
       "\n",
       "       강수량(mm).4  적조발생  \n",
       "0      -0.112367   0.0  \n",
       "1      -0.112367   0.0  \n",
       "2      -0.112367   0.0  \n",
       "3      -0.112367   0.0  \n",
       "4      -0.112367   0.0  \n",
       "...          ...   ...  \n",
       "50331  -0.112367   0.0  \n",
       "50332  -0.112367   0.0  \n",
       "50333  -0.112367   0.0  \n",
       "50334  -0.112367   0.0  \n",
       "50335  -0.112367   0.0  \n",
       "\n",
       "[50336 rows x 27 columns]"
      ]
     },
     "execution_count": 93,
     "metadata": {},
     "output_type": "execute_result"
    }
   ],
   "source": [
    "# load normalized data\n",
    "\n",
    "df_merged=pd.read_csv(\"sensory_preprocessed_df.csv\")\n",
    "df_merged"
   ]
  },
  {
   "cell_type": "code",
   "execution_count": 94,
   "id": "2b539225",
   "metadata": {},
   "outputs": [],
   "source": [
    "# drop surplus columns, if required\n",
    "df_merged = df_merged.iloc[:, 1:]\n"
   ]
  },
  {
   "cell_type": "code",
   "execution_count": 96,
   "id": "31778dc9",
   "metadata": {},
   "outputs": [
    {
     "data": {
      "text/plain": [
       "풍속(m/s)      False\n",
       "풍향(deg)      False\n",
       "기온(°C)       False\n",
       "수온(°C)       False\n",
       "강수량(mm)      False\n",
       "풍속(m/s).1    False\n",
       "풍향(deg).1    False\n",
       "기온(°C).1     False\n",
       "수온(°C).1     False\n",
       "강수량(mm).1    False\n",
       "풍속(m/s).2    False\n",
       "풍향(deg).2    False\n",
       "기온(°C).2     False\n",
       "수온(°C).2     False\n",
       "강수량(mm).2    False\n",
       "풍속(m/s).3    False\n",
       "풍향(deg).3    False\n",
       "기온(°C).3     False\n",
       "수온(°C).3     False\n",
       "강수량(mm).3    False\n",
       "풍속(m/s).4    False\n",
       "풍향(deg).4    False\n",
       "기온(°C).4     False\n",
       "수온(°C).4     False\n",
       "강수량(mm).4    False\n",
       "적조발생         False\n",
       "dtype: bool"
      ]
     },
     "execution_count": 96,
     "metadata": {},
     "output_type": "execute_result"
    }
   ],
   "source": [
    "df_merged.isna().all()"
   ]
  },
  {
   "cell_type": "markdown",
   "id": "dbef484d",
   "metadata": {},
   "source": [
    "\n",
    "## 시퀀스로 전환\n",
    "얼마의 길이로 자를 것인가 하는게 중요한 hyper-parameter가 될 수도 있겠습니다. 1시간이 1timestep입니다. 만약 다음과 같이 한다면 sequence의 구조는 이렇게 됩니다.  \n",
    "- 한 시퀀스의 field: 72\n",
    "- window size: 1\n",
    "- stride between elements of sequence: 6 \n",
    "- stride between sequences: 7\n",
    "- sequence length $\\frac{72}{6}=12$  \n",
    "- \n",
    "그러면 1번째 시퀀스는 timestep=0, 2번째 시퀀스는 timtestep=7에서 시작합니다. 그렇게 하면 시퀀스의 배치가 이렇게 됩니다.\n",
    "|timestep|0|1|2|3|4|5|6|7|8|9|1|11|12|13|14|15|16|17|18|19|20|21|22|23|24|\n",
    "|---|---|---|---|---|---|---|---|---|---|---|---|---|---|---|---|---|---|---|---|---|---|---|---|---|-|\n",
    "|seq\\[0\\]|1||||||2||||||3||||||4||||||5|\n",
    "|seq\\[1\\]||||||||1||||||2||||||3||||||\n",
    "|seq\\[2\\]|||||||||||||||1||||||2|||||\n",
    "\n",
    "또한, 전체 시퀀스가 시작되거나 끝나는 부분이 아닌 곳에서는 하나의 데이터 포인트가 두 개의 시퀀스에 포함되게 됩니다.\n",
    "\n",
    "## 모델의 입력과 출력\n",
    "입력은 일단 5개 지점의 5개 데이터를 통합, 인코더의 embedding size가 $5\\times5=25$인 모델로 작동합니다."
   ]
  },
  {
   "cell_type": "code",
   "execution_count": 22,
   "id": "abf6d8b5",
   "metadata": {},
   "outputs": [
    {
     "ename": "Error",
     "evalue": "You must call wandb.init() before wandb.config.seq_field",
     "output_type": "error",
     "traceback": [
      "\u001b[0;31m---------------------------------------------------------------------------\u001b[0m",
      "\u001b[0;31mError\u001b[0m                                     Traceback (most recent call last)",
      "\u001b[0;32m/tmp/ipykernel_147/3448722024.py\u001b[0m in \u001b[0;36m<module>\u001b[0;34m\u001b[0m\n\u001b[0;32m----> 1\u001b[0;31m \u001b[0mwandb\u001b[0m\u001b[0;34m.\u001b[0m\u001b[0mconfig\u001b[0m\u001b[0;34m.\u001b[0m\u001b[0mseq_field\u001b[0m\u001b[0;34m\u001b[0m\u001b[0;34m\u001b[0m\u001b[0m\n\u001b[0m\u001b[1;32m      2\u001b[0m \u001b[0mwandb\u001b[0m\u001b[0;34m.\u001b[0m\u001b[0mconfig\u001b[0m\u001b[0;34m.\u001b[0m\u001b[0mstride_inside_seq\u001b[0m\u001b[0;34m\u001b[0m\u001b[0;34m\u001b[0m\u001b[0m\n\u001b[1;32m      3\u001b[0m \u001b[0mwandb\u001b[0m\u001b[0;34m.\u001b[0m\u001b[0mconfig\u001b[0m\u001b[0;34m.\u001b[0m\u001b[0mstride_between_seqs\u001b[0m\u001b[0;34m\u001b[0m\u001b[0;34m\u001b[0m\u001b[0m\n\u001b[1;32m      4\u001b[0m \u001b[0mseq_length\u001b[0m\u001b[0;34m=\u001b[0m\u001b[0mseq_field\u001b[0m\u001b[0;34m//\u001b[0m\u001b[0mstride\u001b[0m\u001b[0;34m\u001b[0m\u001b[0;34m\u001b[0m\u001b[0m\n\u001b[1;32m      5\u001b[0m \u001b[0mlen_ds\u001b[0m\u001b[0;34m=\u001b[0m\u001b[0mlen\u001b[0m\u001b[0;34m(\u001b[0m\u001b[0mdf_merged\u001b[0m\u001b[0;34m)\u001b[0m\u001b[0;34m\u001b[0m\u001b[0;34m\u001b[0m\u001b[0m\n",
      "\u001b[0;32m/opt/conda/lib/python3.9/site-packages/wandb/sdk/lib/preinit.py\u001b[0m in \u001b[0;36m__getattr__\u001b[0;34m(self, key)\u001b[0m\n\u001b[1;32m     25\u001b[0m     \u001b[0;32mdef\u001b[0m \u001b[0m__getattr__\u001b[0m\u001b[0;34m(\u001b[0m\u001b[0mself\u001b[0m\u001b[0;34m,\u001b[0m \u001b[0mkey\u001b[0m\u001b[0;34m:\u001b[0m \u001b[0mstr\u001b[0m\u001b[0;34m)\u001b[0m \u001b[0;34m->\u001b[0m \u001b[0mAny\u001b[0m\u001b[0;34m:\u001b[0m\u001b[0;34m\u001b[0m\u001b[0;34m\u001b[0m\u001b[0m\n\u001b[1;32m     26\u001b[0m         \u001b[0;32mif\u001b[0m \u001b[0;32mnot\u001b[0m \u001b[0mkey\u001b[0m\u001b[0;34m.\u001b[0m\u001b[0mstartswith\u001b[0m\u001b[0;34m(\u001b[0m\u001b[0;34m\"_\"\u001b[0m\u001b[0;34m)\u001b[0m\u001b[0;34m:\u001b[0m\u001b[0;34m\u001b[0m\u001b[0;34m\u001b[0m\u001b[0m\n\u001b[0;32m---> 27\u001b[0;31m             \u001b[0;32mraise\u001b[0m \u001b[0mwandb\u001b[0m\u001b[0;34m.\u001b[0m\u001b[0mError\u001b[0m\u001b[0;34m(\u001b[0m\u001b[0;34mf\"You must call wandb.init() before {self._name}.{key}\"\u001b[0m\u001b[0;34m)\u001b[0m\u001b[0;34m\u001b[0m\u001b[0;34m\u001b[0m\u001b[0m\n\u001b[0m\u001b[1;32m     28\u001b[0m         \u001b[0;32melse\u001b[0m\u001b[0;34m:\u001b[0m\u001b[0;34m\u001b[0m\u001b[0;34m\u001b[0m\u001b[0m\n\u001b[1;32m     29\u001b[0m             \u001b[0;32mraise\u001b[0m \u001b[0mAttributeError\u001b[0m\u001b[0;34m(\u001b[0m\u001b[0;34m)\u001b[0m\u001b[0;34m\u001b[0m\u001b[0;34m\u001b[0m\u001b[0m\n",
      "\u001b[0;31mError\u001b[0m: You must call wandb.init() before wandb.config.seq_field"
     ]
    }
   ],
   "source": [
    "wandb.config.seq_field\n",
    "wandb.config.stride_inside_seq\n",
    "wandb.config.stride_between_seqs\n",
    "seq_length=seq_field//stride\n",
    "len_ds=len(df_merged)\n",
    "\n",
    "seqs_idx=[]\n",
    "\n",
    "start_idx=0\n",
    "while start_idx<=len_ds-wandb.config.seq_field:\n",
    "    seqs_idx.append(list(range(start_idx, start_idx + wandb.config.seq_field, wandb.config.stride_inside_seq\n",
    ")))\n",
    "    start_idx+=wandb.config.stride_between_seqs"
   ]
  },
  {
   "cell_type": "markdown",
   "id": "b1bb8c0a",
   "metadata": {},
   "source": [
    "생성된 seqs_idx를 이미지로 바꿔서 한번 살펴봅니다."
   ]
  },
  {
   "cell_type": "code",
   "execution_count": null,
   "id": "c8ff364b",
   "metadata": {},
   "outputs": [],
   "source": [
    "seqs_idx[100],len(seqs_idx[100])"
   ]
  },
  {
   "cell_type": "code",
   "execution_count": null,
   "id": "dc1417c1",
   "metadata": {},
   "outputs": [],
   "source": [
    "img_size_x = 263 #usually, match with seq_idx[-1][-1]\n",
    "img_size_y = 100 #number of sequence to visuallize\n",
    "seq_length_squeeze_ratio = 1\n",
    "\n",
    "img = np.zeros([img_size_y, img_size_x])\n",
    "\n",
    "for yidx, seq in enumerate(seqs_idx[:img_size_y]):\n",
    "    #for i in range(seq[0]//seq_length_squeeze_ratio,seq[-1]//seq_length_squeeze_ratio + 1):\n",
    "    for i in seq:\n",
    "        if i<img_size_x:\n",
    "            img[yidx, i]=1.0\n",
    "\n",
    "plt.figure(figsize=(12,4))\n",
    "plt.xticks(ticks=list(range(0,img_size_x,seq_field)))\n",
    "plt.yticks(ticks=list(range(0,img_size_y,10)))\n",
    "\n",
    "plt.grid(alpha=0.5)\n",
    "plt.imshow(img)\n",
    "plt.colorbar()\n",
    "#plt.colorbar(location='bottom')\n",
    "plt.show()"
   ]
  },
  {
   "cell_type": "markdown",
   "id": "3d81ae0c",
   "metadata": {},
   "source": [
    "figure는 50행(수직축)까지 시퀀스별 time-index(수평축)를 점으로 표시합니다."
   ]
  },
  {
   "cell_type": "markdown",
   "id": "e5de58c9",
   "metadata": {},
   "source": [
    "## train, test set 구성\n",
    "먼저 index를 리셋하고 시작합니다.."
   ]
  },
  {
   "cell_type": "code",
   "execution_count": null,
   "id": "a0e1c58f",
   "metadata": {},
   "outputs": [],
   "source": [
    "\n",
    "df_merged.reset_index(inplace=True, drop=True)\n",
    "#ds0=ds0[df_default_index]\n",
    "print(df_merged.isna().any().any())\n",
    "df_merged"
   ]
  },
  {
   "cell_type": "code",
   "execution_count": null,
   "id": "768894a9",
   "metadata": {},
   "outputs": [],
   "source": [
    "df_merged.columns"
   ]
  },
  {
   "cell_type": "code",
   "execution_count": null,
   "id": "415eeef9",
   "metadata": {},
   "outputs": [],
   "source": [
    "#train_cols=['풍속(m/s)', '풍향(deg)', '기온(°C)', '수온(°C)', '강수량(mm)', '적조발생']\n",
    "ds_train_cols=df_merged\n",
    "ds_train_cols.reset_index(inplace=True, drop=True)\n",
    "ds_train_cols"
   ]
  },
  {
   "cell_type": "code",
   "execution_count": null,
   "id": "1ab7a847",
   "metadata": {},
   "outputs": [],
   "source": []
  },
  {
   "cell_type": "code",
   "execution_count": null,
   "id": "74918fd3",
   "metadata": {},
   "outputs": [],
   "source": [
    "seq_dataset=np.zeros([len(seqs_idx), len(seqs_idx[0]), len(ds_train_cols.columns)])\n",
    "seq_dataset.shape"
   ]
  },
  {
   "cell_type": "code",
   "execution_count": null,
   "id": "b948689d",
   "metadata": {},
   "outputs": [],
   "source": [
    "for i, seq in enumerate(seqs_idx):\n",
    "    for j, row_number in enumerate(seq):\n",
    "        seq_dataset[i, j]=ds_train_cols.loc[row_number].to_numpy()\n",
    "\n",
    "seq_dataset[:2]"
   ]
  },
  {
   "cell_type": "code",
   "execution_count": null,
   "id": "b8105989",
   "metadata": {},
   "outputs": [],
   "source": [
    "ds_train_cols.loc[0].to_numpy()"
   ]
  },
  {
   "cell_type": "markdown",
   "id": "ba24197d",
   "metadata": {},
   "source": [
    "### label 예외처리: \n",
    "이유를 찾지 못했는데 라벨에 0, 1아닌 값들이 있어 임시로 씁니다."
   ]
  },
  {
   "cell_type": "code",
   "execution_count": null,
   "id": "d9845423",
   "metadata": {
    "scrolled": false
   },
   "outputs": [],
   "source": [
    "def not_bin_in_occurence(x):\n",
    "    if x==1 or x==0:\n",
    "        return x\n",
    "    else:\n",
    "        print('exceptional value(not 0 or 1) found. replaced by near one.')\n",
    "        if x>=0.5:\n",
    "            return 1\n",
    "        else:\n",
    "            return 0\n",
    "        \n",
    "ds_train_cols['적조발생']=ds_train_cols['적조발생'].apply(not_bin_in_occurence)"
   ]
  },
  {
   "cell_type": "markdown",
   "id": "10f7e91b",
   "metadata": {},
   "source": [
    "### train - test 셋 분리 :\n",
    "특정 연도들에 대한 과적합을 없애기 위해 test와 train을 섞지 않고 시계열에서 일단 나눕니다. 그 이후 shuffle합니다.  \n",
    "셔플 참고자료(stack overflow) https://stackoverflow.com/questions/35646908/numpy-shuffle-multidimensional-array-by-row-only-keep-column-order-unchanged"
   ]
  },
  {
   "cell_type": "code",
   "execution_count": null,
   "id": "876bf83b",
   "metadata": {},
   "outputs": [],
   "source": [
    "#from sklearn.model_selection import train_test_split\n",
    "#X_train, X_test, y_train, y_test = train_test_split(seq_dataset[:,:,0:-1], seq_dataset[:,:,-1], test_size=0.20, random_state=42)\n",
    "\n",
    "#1. 8:2 split\n",
    "split_index=int(len(seq_dataset)*0.8)\n",
    "print(split_index, len(seq_dataset))\n",
    "\n",
    "#2. 5:5 split\n",
    "#split_index=int(len(ds_train_cols)*0.5)\n",
    "train_xy=seq_dataset[:split_index]\n",
    "np.random.shuffle(train_xy)\n",
    "X_train=train_xy[:,:,0:-1]\n",
    "y_train=train_xy[:,:,-1]\n",
    "\n",
    "test_xy=seq_dataset[split_index:]\n",
    "np.random.shuffle(test_xy)\n",
    "X_test=test_xy[:,:,0:-1]\n",
    "y_test=test_xy[:,:,-1]\n",
    "\n",
    "print(X_train.shape, X_test.shape, y_train.shape, y_test.shape,'\\n\\n')\n"
   ]
  },
  {
   "cell_type": "code",
   "execution_count": null,
   "id": "53474bfc",
   "metadata": {},
   "outputs": [],
   "source": [
    "print(X_train.shape, X_test.shape, y_train.shape, y_test.shape,'\\n\\n')\n",
    "print('print data for one sequence')"
   ]
  },
  {
   "cell_type": "markdown",
   "id": "911417d5",
   "metadata": {},
   "source": [
    "# model & train\n",
    "간단한 GRU 모델을 훈련해봅니다."
   ]
  },
  {
   "cell_type": "code",
   "execution_count": null,
   "id": "4641e95c",
   "metadata": {},
   "outputs": [],
   "source": [
    "from tensorflow import keras\n",
    "from tensorflow.keras import layers\n"
   ]
  },
  {
   "cell_type": "code",
   "execution_count": null,
   "id": "e689d4c9",
   "metadata": {},
   "outputs": [],
   "source": [
    "#copied from:\n",
    "#https://www.dacon.io/competitions/official/235584/codeshare/738\n",
    "def seq_acc(y_true, y_pred):\n",
    "    y_bin=np.zeros_like(y_pred)\n",
    "    for i, dd in enumerate(y_bin):\n",
    "        for j in range(len(dd)):\n",
    "            pred=y_pred[i][j]\n",
    "            if pred>=0.5:\n",
    "                y_bin[i][j]=1\n",
    "            else:\n",
    "                y_bin[i][j]=0\n",
    "            \n",
    "    predict_true = (y_true == y_bin)\n",
    "    # multi-column일 경우에도 계산 할 수 있도록 np.average를 한번 더 씌움\n",
    "    try:\n",
    "        score = np.average(np.average(predict_true))\n",
    "    except ValueError:\n",
    "        score = mean_squared_error(y_true, y_bin)\n",
    "    return score\n",
    "\n",
    "def my_seq_acc(y_true, y_pred):\n",
    "    score = tf.py_function(func=seq_acc, inp=[y_true, y_pred], Tout=tf.float32,  name='custom_seq_acc') # tf 2.x\n",
    "    #score = tf.py_func( lambda y_true, y_pred : mse_AIFrenz(y_true, y_pred) , [y_true, y_pred], 'float32', stateful = False, name = 'custom_mse' ) # tf 1.x\n",
    "    return score\n"
   ]
  },
  {
   "cell_type": "code",
   "execution_count": null,
   "id": "61b2a3ca",
   "metadata": {},
   "outputs": [],
   "source": [
    "\n",
    "model = keras.Sequential([\n",
    "    keras.Input(shape=(8, 25)),\n",
    "    layers.GRU(64, return_sequences=True),\n",
    "    layers.GRU(64),\n",
    "    layers.Dense(8, activation=\"sigmoid\"),\n",
    "]\n",
    ")"
   ]
  },
  {
   "cell_type": "code",
   "execution_count": null,
   "id": "4170a0b4",
   "metadata": {},
   "outputs": [],
   "source": [
    "model.compile(optimizer=\"adam\", loss=\"binary_crossentropy\")"
   ]
  },
  {
   "cell_type": "code",
   "execution_count": null,
   "id": "eb5e79f9",
   "metadata": {},
   "outputs": [],
   "source": [
    "model.summary()"
   ]
  },
  {
   "cell_type": "code",
   "execution_count": null,
   "id": "7e0b51d3",
   "metadata": {},
   "outputs": [],
   "source": [
    "class MySeqAccCallback(keras.callbacks.Callback):\n",
    "    def on_epoch_end(self, epochs, logs=None):\n",
    "        y_pred=self.model.predict(X_test)\n",
    "        print('sequence accuracy is {}'.format(seq_acc(y_test, y_pred)))"
   ]
  },
  {
   "cell_type": "code",
   "execution_count": null,
   "id": "dec1192a",
   "metadata": {},
   "outputs": [],
   "source": [
    "history = model.fit(X_train, y_train, \n",
    "                    batch_size=32, \n",
    "                    epochs=10, \n",
    "                    validation_data=(X_test, y_test),\n",
    "                    callbacks=[MySeqAccCallback()],\n",
    "                   )"
   ]
  },
  {
   "cell_type": "code",
   "execution_count": null,
   "id": "a06cd27a",
   "metadata": {},
   "outputs": [],
   "source": [
    "#print(history.history['loss'])\n",
    "#print(history.history['val_loss'])\n",
    "\n",
    "plt.plot(history.history['loss'], label='loss')\n",
    "plt.plot(history.history['val_loss'], label='val_loss')\n",
    "plt.legend()\n",
    "plt.show()"
   ]
  },
  {
   "cell_type": "code",
   "execution_count": null,
   "id": "3e662559",
   "metadata": {},
   "outputs": [],
   "source": [
    "y_pred=model.predict(X_test)\n",
    "print(seq_acc(y_test, y_pred))"
   ]
  },
  {
   "cell_type": "code",
   "execution_count": null,
   "id": "27ef39f2",
   "metadata": {
    "scrolled": false
   },
   "outputs": [],
   "source": [
    "del model"
   ]
  }
 ],
 "metadata": {
  "celltoolbar": "Slideshow",
  "kernelspec": {
   "display_name": "Python 3 (ipykernel)",
   "language": "python",
   "name": "python3"
  },
  "language_info": {
   "codemirror_mode": {
    "name": "ipython",
    "version": 3
   },
   "file_extension": ".py",
   "mimetype": "text/x-python",
   "name": "python",
   "nbconvert_exporter": "python",
   "pygments_lexer": "ipython3",
   "version": "3.9.7"
  }
 },
 "nbformat": 4,
 "nbformat_minor": 5
}
