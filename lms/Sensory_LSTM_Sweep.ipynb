{
 "cells": [
  {
   "cell_type": "code",
   "execution_count": 3,
   "id": "7f6206d2",
   "metadata": {},
   "outputs": [],
   "source": [
    "import tensorflow as tf\n",
    "from tensorflow import keras\n",
    "import numpy as np\n",
    "import matplotlib.pyplot as plt\n",
    "import pandas as pd\n",
    "from sklearn.model_selection import train_test_split\n",
    "import random\n",
    "import os\n",
    "import wandb\n",
    "from wandb.keras import WandbCallback"
   ]
  },
  {
   "cell_type": "code",
   "execution_count": 4,
   "id": "0f8b2356",
   "metadata": {},
   "outputs": [],
   "source": [
    "def train():\n",
    "    import pandas as pd\n",
    "    import tensorflow as tf\n",
    "    from tensorflow import keras\n",
    "    import matplotlib.pyplot as plt\n",
    "    import numpy as np\n",
    "    import wandb\n",
    "    from wandb.keras import WandbCallback\n",
    "\n",
    "    def seq_acc(y_true, y_pred):\n",
    "        y_bin=np.zeros_like(y_pred)\n",
    "        for i, dd in enumerate(y_bin):\n",
    "            for j in range(len(dd)):\n",
    "                pred=y_pred[i][j]\n",
    "                if pred>=0.5:\n",
    "                    y_bin[i][j]=1\n",
    "                else:\n",
    "                    y_bin[i][j]=0\n",
    "\n",
    "        predict_true = (y_true == y_bin)\n",
    "        # multi-column일 경우에도 계산 할 수 있도록 np.average를 한번 더 씌움\n",
    "        try:\n",
    "            score = np.average(np.average(predict_true))\n",
    "        except ValueError:\n",
    "            score = mean_squared_error(y_true, y_bin)\n",
    "        return score\n",
    "\n",
    "    def my_seq_acc(y_true, y_pred):\n",
    "        score = tf.py_function(func=seq_acc, inp=[y_true, y_pred], Tout=tf.float32,  name='custom_seq_acc') # tf 2.x\n",
    "        #score = tf.py_func( lambda y_true, y_pred : mse_AIFrenz(y_true, y_pred) , [y_true, y_pred], 'float32', stateful = False, name = 'custom_mse' ) # tf 1.x\n",
    "        return score\n",
    "\n",
    "\n",
    "    class MySeqAccCallback(keras.callbacks.Callback):\n",
    "        def on_epoch_end(self, epochs, logs=None):\n",
    "            y_pred=self.model.predict(X_test)\n",
    "            print('sequence accuracy is {}'.format(seq_acc(y_test, y_pred)))\n",
    "\n",
    "\n",
    "    default_config={\n",
    "                         'seq_field':72,\n",
    "                         'stride_inside_seq':9,\n",
    "                         'stride_between_seqs':2,\n",
    "                         'learning_rate':0.01,\n",
    "                         'split_train_ratio':0.8,\n",
    "                         'epochs':20,\n",
    "                         'batch_size':64,\n",
    "                         'unit_LSTM0':64}\n",
    "    wandb.init(config = default_config)\n",
    "\n",
    "    locations=['거문도', '울산', '거제도', '통영', '추자도']\n",
    "\n",
    "    # load normalized data\n",
    "\n",
    "    df_merged=pd.read_csv(\"sensory_preprocessed_df.csv\")\n",
    "    if df_merged.columns[0]=='Unnamed: 0':\n",
    "        df_merged = df_merged.iloc[:, 1:]\n",
    "\n",
    "    print('loaded dataset. Generating sequences')\n",
    "    seq_length=wandb.config.seq_field//wandb.config.stride_inside_seq\n",
    "    len_ds=len(df_merged)\n",
    "\n",
    "    seqs_idx=[]\n",
    "\n",
    "    start_idx=0\n",
    "    while start_idx<=len_ds-wandb.config.seq_field:\n",
    "        seqs_idx.append(list(range(start_idx, start_idx + wandb.config.seq_field, wandb.config.stride_inside_seq\n",
    "    )))\n",
    "        start_idx+=wandb.config.stride_between_seqs\n",
    "\n",
    "\n",
    "    seqs_idx[100],len(seqs_idx[100])\n",
    "\n",
    "    df_merged.reset_index(inplace=True, drop=True)\n",
    "    print('Any missing values exist:', df_merged.isna().all().all())\n",
    "\n",
    "\n",
    "    #train_cols=['풍속(m/s)', '풍향(deg)', '기온(°C)', '수온(°C)', '강수량(mm)', '적조발생']\n",
    "    ds_train_cols=df_merged\n",
    "    ds_train_cols.reset_index(inplace=True, drop=True)\n",
    "    print('train dataset columns:',ds_train_cols.columns)\n",
    "\n",
    "    seq_dataset=np.zeros([len(seqs_idx), len(seqs_idx[0]), len(ds_train_cols.columns)])\n",
    "\n",
    "    for i, seq in enumerate(seqs_idx):\n",
    "        for j, row_number in enumerate(seq):\n",
    "            seq_dataset[i, j]=ds_train_cols.loc[row_number].to_numpy()\n",
    "\n",
    "    def not_bin_in_occurence(x):\n",
    "        if x==1 or x==0:\n",
    "            return x\n",
    "        else:\n",
    "            print('exceptional value(not 0 or 1) found. replaced by near one.')\n",
    "            if x>=0.5:\n",
    "                return 1\n",
    "            else:\n",
    "                return 0\n",
    "            \n",
    "    ds_train_cols['적조발생']=ds_train_cols['적조발생'].apply(not_bin_in_occurence)\n",
    "\n",
    "\n",
    "    split_index=int(len(seq_dataset)*wandb.config.split_train_ratio)\n",
    "    print(split_index, len(seq_dataset))\n",
    "\n",
    "    train_xy=seq_dataset[:split_index]\n",
    "    np.random.shuffle(train_xy)\n",
    "    X_train=train_xy[:,:,0:-1]\n",
    "    y_train=train_xy[:,:,-1]\n",
    "\n",
    "    test_xy=seq_dataset[split_index:]\n",
    "    np.random.shuffle(test_xy)\n",
    "    X_test=test_xy[:,:,0:-1]\n",
    "    y_test=test_xy[:,:,-1]\n",
    "\n",
    "    print(X_train.shape, X_test.shape, y_train.shape, y_test.shape,'\\n\\n')\n",
    "\n",
    "    model = keras.Sequential([\n",
    "        keras.Input(shape=(seq_length, 25)),\n",
    "        keras.layers.LSTM(wandb.config.unit_LSTM0),\n",
    "        keras.layers.Dense(seq_length, activation=\"sigmoid\"),\n",
    "    ]\n",
    "    )\n",
    "\n",
    "\n",
    "    # In[95]:\n",
    "    optimizer=keras.optimizers.Adam(learning_rate=wandb.config.learning_rate)\n",
    "\n",
    "    model.compile(optimizer=optimizer, loss=\"binary_crossentropy\")\n",
    "\n",
    "    # In[97]:\n",
    "\n",
    "\n",
    "    # In[98]:\n",
    "\n",
    "\n",
    "    model.fit(X_train, y_train,\n",
    "            batch_size=wandb.config.batch_size,\n",
    "            epochs=wandb.config.epochs, \n",
    "            validation_data=(X_test, y_test),\n",
    "            callbacks=[WandbCallback(training_data = (X_train, y_train),\n",
    "                                     validation_data = (X_test, y_test),\n",
    "                                     log_weights = True,\n",
    "                                     log_gradients = True), MySeqAccCallback()])\n",
    "    y_pred=model.predict(X_test)\n",
    "    wandb.log({\"Validation Acc :\":seq_acc(y_test, y_pred)})"
   ]
  },
  {
   "cell_type": "code",
   "execution_count": 5,
   "id": "6a15fc36",
   "metadata": {},
   "outputs": [
    {
     "name": "stderr",
     "output_type": "stream",
     "text": [
      "\u001b[34m\u001b[1mwandb\u001b[0m: Logging into wandb.ai. (Learn how to deploy a W&B server locally: https://wandb.me/wandb-server)\n",
      "\u001b[34m\u001b[1mwandb\u001b[0m: You can find your API key in your browser here: https://wandb.ai/authorize\n",
      "\u001b[34m\u001b[1mwandb\u001b[0m: Paste an API key from your profile and hit enter, or press ctrl+c to quit:"
     ]
    },
    {
     "name": "stdout",
     "output_type": "stream",
     "text": [
      " ········\n"
     ]
    },
    {
     "name": "stderr",
     "output_type": "stream",
     "text": [
      "\u001b[34m\u001b[1mwandb\u001b[0m: Appending key for api.wandb.ai to your netrc file: /aiffel/.netrc\n"
     ]
    },
    {
     "data": {
      "text/plain": [
       "True"
      ]
     },
     "execution_count": 5,
     "metadata": {},
     "output_type": "execute_result"
    }
   ],
   "source": [
    "wandb.login()"
   ]
  },
  {
   "cell_type": "code",
   "execution_count": 6,
   "id": "d687ab7a",
   "metadata": {},
   "outputs": [],
   "source": [
    "# yaml 파일로 만들어도 됩니다.\n",
    "\n",
    "sweep_config = {\n",
    "    \"name\": \"sweep\",\n",
    "    \"metric\": {\n",
    "        \"goal\": \"minimize\",\n",
    "        \"name\": \"val_loss\"\n",
    "    },\n",
    "    \"method\": \"random\",\n",
    "    \"parameters\": {\n",
    "        \"split_train_ratio\":{\n",
    "            \"values\":[0.5,0.8]\n",
    "        },\n",
    "        \"epochs\":{\n",
    "            \"values\":[1,2,3,4,8,12]\n",
    "        },\n",
    "        \"learning_rate\":{\"values\":[0.0002, 0.001, 0.0032, 0.01]},\n",
    "        \"unit_LSTM0\":{\"values\":[32,64,128,256]},\n",
    "        \"stride_inside_seq\":{\"values\":[1,3,9]}\n",
    "    }\n",
    "    }"
   ]
  },
  {
   "cell_type": "code",
   "execution_count": null,
   "id": "8f0b5ea8",
   "metadata": {
    "scrolled": true
   },
   "outputs": [
    {
     "name": "stdout",
     "output_type": "stream",
     "text": [
      "Create sweep with ID: habtjdmw\n",
      "Sweep URL: https://wandb.ai/chhyyi/redzone_LSTM_sweep/sweeps/habtjdmw\n"
     ]
    },
    {
     "name": "stderr",
     "output_type": "stream",
     "text": [
      "\u001b[34m\u001b[1mwandb\u001b[0m: Agent Starting Run: ffopcgxp with config:\n",
      "\u001b[34m\u001b[1mwandb\u001b[0m: \tepochs: 8\n",
      "\u001b[34m\u001b[1mwandb\u001b[0m: \tlearning_rate: 0.001\n",
      "\u001b[34m\u001b[1mwandb\u001b[0m: \tsplit_train_ratio: 0.8\n",
      "\u001b[34m\u001b[1mwandb\u001b[0m: \tstride_inside_seq: 9\n",
      "\u001b[34m\u001b[1mwandb\u001b[0m: \tunit_LSTM0: 32\n"
     ]
    },
    {
     "data": {
      "text/html": [
       "Tracking run with wandb version 0.13.5"
      ],
      "text/plain": [
       "<IPython.core.display.HTML object>"
      ]
     },
     "metadata": {},
     "output_type": "display_data"
    },
    {
     "data": {
      "text/html": [
       "Run data is saved locally in <code>/aiffel/aiffel/aiffelthon/wandb/run-20221113_112023-ffopcgxp</code>"
      ],
      "text/plain": [
       "<IPython.core.display.HTML object>"
      ]
     },
     "metadata": {},
     "output_type": "display_data"
    },
    {
     "data": {
      "text/html": [
       "Syncing run <strong><a href=\"https://wandb.ai/chhyyi/redzone_LSTM_sweep/runs/ffopcgxp\" target=\"_blank\">radiant-sweep-1</a></strong> to <a href=\"https://wandb.ai/chhyyi/redzone_LSTM_sweep\" target=\"_blank\">Weights & Biases</a> (<a href=\"https://wandb.me/run\" target=\"_blank\">docs</a>)<br/>Sweep page:  <a href=\"https://wandb.ai/chhyyi/redzone_LSTM_sweep/sweeps/habtjdmw\" target=\"_blank\">https://wandb.ai/chhyyi/redzone_LSTM_sweep/sweeps/habtjdmw</a>"
      ],
      "text/plain": [
       "<IPython.core.display.HTML object>"
      ]
     },
     "metadata": {},
     "output_type": "display_data"
    },
    {
     "name": "stdout",
     "output_type": "stream",
     "text": [
      "loaded dataset. Generating sequences\n",
      "Any missing values exist: False\n",
      "train dataset columns: Index(['풍속(m/s)', '풍향(deg)', '기온(°C)', '수온(°C)', '강수량(mm)', '풍속(m/s).1',\n",
      "       '풍향(deg).1', '기온(°C).1', '수온(°C).1', '강수량(mm).1', '풍속(m/s).2',\n",
      "       '풍향(deg).2', '기온(°C).2', '수온(°C).2', '강수량(mm).2', '풍속(m/s).3',\n",
      "       '풍향(deg).3', '기온(°C).3', '수온(°C).3', '강수량(mm).3', '풍속(m/s).4',\n",
      "       '풍향(deg).4', '기온(°C).4', '수온(°C).4', '강수량(mm).4', '적조발생'],\n",
      "      dtype='object')\n",
      "20106 25133\n",
      "(20106, 8, 25) (5027, 8, 25) (20106, 8) (5027, 8) \n",
      "\n",
      "\n",
      "Epoch 1/8\n",
      "315/315 [==============================] - 3s 4ms/step - loss: 0.2367 - val_loss: 0.2373\n"
     ]
    },
    {
     "name": "stderr",
     "output_type": "stream",
     "text": [
      "WARNING:absl:Found untraced functions such as lstm_cell_layer_call_fn, lstm_cell_layer_call_and_return_conditional_losses, lstm_cell_layer_call_fn, lstm_cell_layer_call_and_return_conditional_losses, lstm_cell_layer_call_and_return_conditional_losses while saving (showing 5 of 5). These functions will not be directly callable after loading.\n"
     ]
    },
    {
     "name": "stdout",
     "output_type": "stream",
     "text": [
      "INFO:tensorflow:Assets written to: /aiffel/aiffel/aiffelthon/wandb/run-20221113_112023-ffopcgxp/files/model-best/assets\n"
     ]
    },
    {
     "name": "stderr",
     "output_type": "stream",
     "text": [
      "INFO:tensorflow:Assets written to: /aiffel/aiffel/aiffelthon/wandb/run-20221113_112023-ffopcgxp/files/model-best/assets\n",
      "\u001b[34m\u001b[1mwandb\u001b[0m: Adding directory to artifact (/aiffel/aiffel/aiffelthon/wandb/run-20221113_112023-ffopcgxp/files/model-best)... Done. 0.0s\n"
     ]
    },
    {
     "name": "stdout",
     "output_type": "stream",
     "text": [
      "sequence accuracy is 0.8920827531330814\n",
      "Epoch 2/8\n",
      "315/315 [==============================] - 1s 4ms/step - loss: 0.1082 - val_loss: 0.2276\n"
     ]
    },
    {
     "name": "stderr",
     "output_type": "stream",
     "text": [
      "WARNING:absl:Found untraced functions such as lstm_cell_layer_call_fn, lstm_cell_layer_call_and_return_conditional_losses, lstm_cell_layer_call_fn, lstm_cell_layer_call_and_return_conditional_losses, lstm_cell_layer_call_and_return_conditional_losses while saving (showing 5 of 5). These functions will not be directly callable after loading.\n"
     ]
    },
    {
     "name": "stdout",
     "output_type": "stream",
     "text": [
      "INFO:tensorflow:Assets written to: /aiffel/aiffel/aiffelthon/wandb/run-20221113_112023-ffopcgxp/files/model-best/assets\n"
     ]
    },
    {
     "name": "stderr",
     "output_type": "stream",
     "text": [
      "INFO:tensorflow:Assets written to: /aiffel/aiffel/aiffelthon/wandb/run-20221113_112023-ffopcgxp/files/model-best/assets\n",
      "\u001b[34m\u001b[1mwandb\u001b[0m: Adding directory to artifact (/aiffel/aiffel/aiffelthon/wandb/run-20221113_112023-ffopcgxp/files/model-best)... Done. 0.0s\n"
     ]
    },
    {
     "name": "stdout",
     "output_type": "stream",
     "text": [
      "sequence accuracy is 0.8919086930574895\n",
      "Epoch 3/8\n",
      "315/315 [==============================] - 1s 4ms/step - loss: 0.0893 - val_loss: 0.1914\n"
     ]
    },
    {
     "name": "stderr",
     "output_type": "stream",
     "text": [
      "WARNING:absl:Found untraced functions such as lstm_cell_layer_call_fn, lstm_cell_layer_call_and_return_conditional_losses, lstm_cell_layer_call_fn, lstm_cell_layer_call_and_return_conditional_losses, lstm_cell_layer_call_and_return_conditional_losses while saving (showing 5 of 5). These functions will not be directly callable after loading.\n"
     ]
    },
    {
     "name": "stdout",
     "output_type": "stream",
     "text": [
      "INFO:tensorflow:Assets written to: /aiffel/aiffel/aiffelthon/wandb/run-20221113_112023-ffopcgxp/files/model-best/assets\n"
     ]
    },
    {
     "name": "stderr",
     "output_type": "stream",
     "text": [
      "INFO:tensorflow:Assets written to: /aiffel/aiffel/aiffelthon/wandb/run-20221113_112023-ffopcgxp/files/model-best/assets\n",
      "\u001b[34m\u001b[1mwandb\u001b[0m: Adding directory to artifact (/aiffel/aiffel/aiffelthon/wandb/run-20221113_112023-ffopcgxp/files/model-best)... Done. 0.0s\n"
     ]
    },
    {
     "name": "stdout",
     "output_type": "stream",
     "text": [
      "sequence accuracy is 0.9052118559777204\n",
      "Epoch 4/8\n",
      "315/315 [==============================] - 1s 4ms/step - loss: 0.0744 - val_loss: 0.2092\n",
      "sequence accuracy is 0.9147354286851005\n",
      "Epoch 5/8\n",
      "315/315 [==============================] - 1s 4ms/step - loss: 0.0635 - val_loss: 0.1861\n"
     ]
    },
    {
     "name": "stderr",
     "output_type": "stream",
     "text": [
      "WARNING:absl:Found untraced functions such as lstm_cell_layer_call_fn, lstm_cell_layer_call_and_return_conditional_losses, lstm_cell_layer_call_fn, lstm_cell_layer_call_and_return_conditional_losses, lstm_cell_layer_call_and_return_conditional_losses while saving (showing 5 of 5). These functions will not be directly callable after loading.\n"
     ]
    },
    {
     "name": "stdout",
     "output_type": "stream",
     "text": [
      "INFO:tensorflow:Assets written to: /aiffel/aiffel/aiffelthon/wandb/run-20221113_112023-ffopcgxp/files/model-best/assets\n"
     ]
    },
    {
     "name": "stderr",
     "output_type": "stream",
     "text": [
      "INFO:tensorflow:Assets written to: /aiffel/aiffel/aiffelthon/wandb/run-20221113_112023-ffopcgxp/files/model-best/assets\n",
      "\u001b[34m\u001b[1mwandb\u001b[0m: Adding directory to artifact (/aiffel/aiffel/aiffelthon/wandb/run-20221113_112023-ffopcgxp/files/model-best)... Done. 0.0s\n"
     ]
    },
    {
     "name": "stdout",
     "output_type": "stream",
     "text": [
      "sequence accuracy is 0.9242092699423116\n",
      "Epoch 6/8\n",
      "315/315 [==============================] - 1s 3ms/step - loss: 0.0520 - val_loss: 0.1998\n",
      "sequence accuracy is 0.9202804853789537\n",
      "Epoch 7/8\n",
      "315/315 [==============================] - 1s 4ms/step - loss: 0.0461 - val_loss: 0.1878\n",
      "sequence accuracy is 0.9132683509051124\n",
      "Epoch 8/8\n",
      "315/315 [==============================] - 1s 4ms/step - loss: 0.0389 - val_loss: 0.2263\n",
      "sequence accuracy is 0.9074746369604137\n"
     ]
    },
    {
     "data": {
      "text/html": [
       "Waiting for W&B process to finish... <strong style=\"color:green\">(success).</strong>"
      ],
      "text/plain": [
       "<IPython.core.display.HTML object>"
      ]
     },
     "metadata": {},
     "output_type": "display_data"
    },
    {
     "data": {
      "application/vnd.jupyter.widget-view+json": {
       "model_id": "35263beb205a4ce0af3f229a335408f1",
       "version_major": 2,
       "version_minor": 0
      },
      "text/plain": [
       "VBox(children=(Label(value='3.645 MB of 3.645 MB uploaded (0.008 MB deduped)\\r'), FloatProgress(value=1.0, max…"
      ]
     },
     "metadata": {},
     "output_type": "display_data"
    },
    {
     "data": {
      "text/html": [
       "<style>\n",
       "    table.wandb td:nth-child(1) { padding: 0 10px; text-align: left ; width: auto;} td:nth-child(2) {text-align: left ; width: 100%}\n",
       "    .wandb-row { display: flex; flex-direction: row; flex-wrap: wrap; justify-content: flex-start; width: 100% }\n",
       "    .wandb-col { display: flex; flex-direction: column; flex-basis: 100%; flex: 1; padding: 10px; }\n",
       "    </style>\n",
       "<div class=\"wandb-row\"><div class=\"wandb-col\"><h3>Run history:</h3><br/><table class=\"wandb\"><tr><td>Validation Acc :</td><td>▁</td></tr><tr><td>epoch</td><td>▁▂▃▄▅▆▇█</td></tr><tr><td>loss</td><td>█▃▃▂▂▁▁▁</td></tr><tr><td>val_loss</td><td>█▇▂▄▁▃▁▇</td></tr></table><br/></div><div class=\"wandb-col\"><h3>Run summary:</h3><br/><table class=\"wandb\"><tr><td>Validation Acc :</td><td>0.90747</td></tr><tr><td>best_epoch</td><td>4</td></tr><tr><td>best_val_loss</td><td>0.18608</td></tr><tr><td>epoch</td><td>7</td></tr><tr><td>loss</td><td>0.0389</td></tr><tr><td>val_loss</td><td>0.22632</td></tr></table><br/></div></div>"
      ],
      "text/plain": [
       "<IPython.core.display.HTML object>"
      ]
     },
     "metadata": {},
     "output_type": "display_data"
    },
    {
     "data": {
      "text/html": [
       "Synced <strong style=\"color:#cdcd00\">radiant-sweep-1</strong>: <a href=\"https://wandb.ai/chhyyi/redzone_LSTM_sweep/runs/ffopcgxp\" target=\"_blank\">https://wandb.ai/chhyyi/redzone_LSTM_sweep/runs/ffopcgxp</a><br/>Synced 5 W&B file(s), 1 media file(s), 13 artifact file(s) and 1 other file(s)"
      ],
      "text/plain": [
       "<IPython.core.display.HTML object>"
      ]
     },
     "metadata": {},
     "output_type": "display_data"
    },
    {
     "data": {
      "text/html": [
       "Find logs at: <code>./wandb/run-20221113_112023-ffopcgxp/logs</code>"
      ],
      "text/plain": [
       "<IPython.core.display.HTML object>"
      ]
     },
     "metadata": {},
     "output_type": "display_data"
    },
    {
     "name": "stderr",
     "output_type": "stream",
     "text": [
      "\u001b[34m\u001b[1mwandb\u001b[0m: Agent Starting Run: akwildfk with config:\n",
      "\u001b[34m\u001b[1mwandb\u001b[0m: \tepochs: 12\n",
      "\u001b[34m\u001b[1mwandb\u001b[0m: \tlearning_rate: 0.001\n",
      "\u001b[34m\u001b[1mwandb\u001b[0m: \tsplit_train_ratio: 0.5\n",
      "\u001b[34m\u001b[1mwandb\u001b[0m: \tstride_inside_seq: 1\n",
      "\u001b[34m\u001b[1mwandb\u001b[0m: \tunit_LSTM0: 256\n"
     ]
    },
    {
     "data": {
      "application/vnd.jupyter.widget-view+json": {
       "model_id": "f665db77835c4ec6afc39936618800ed",
       "version_major": 2,
       "version_minor": 0
      },
      "text/plain": [
       "VBox(children=(Label(value='Waiting for wandb.init()...\\r'), FloatProgress(value=0.016669340733399925, max=1.0…"
      ]
     },
     "metadata": {},
     "output_type": "display_data"
    },
    {
     "data": {
      "text/html": [
       "Tracking run with wandb version 0.13.5"
      ],
      "text/plain": [
       "<IPython.core.display.HTML object>"
      ]
     },
     "metadata": {},
     "output_type": "display_data"
    },
    {
     "data": {
      "text/html": [
       "Run data is saved locally in <code>/aiffel/aiffel/aiffelthon/wandb/run-20221113_112144-akwildfk</code>"
      ],
      "text/plain": [
       "<IPython.core.display.HTML object>"
      ]
     },
     "metadata": {},
     "output_type": "display_data"
    },
    {
     "data": {
      "text/html": [
       "Syncing run <strong><a href=\"https://wandb.ai/chhyyi/redzone_LSTM_sweep/runs/akwildfk\" target=\"_blank\">lyric-sweep-2</a></strong> to <a href=\"https://wandb.ai/chhyyi/redzone_LSTM_sweep\" target=\"_blank\">Weights & Biases</a> (<a href=\"https://wandb.me/run\" target=\"_blank\">docs</a>)<br/>Sweep page:  <a href=\"https://wandb.ai/chhyyi/redzone_LSTM_sweep/sweeps/habtjdmw\" target=\"_blank\">https://wandb.ai/chhyyi/redzone_LSTM_sweep/sweeps/habtjdmw</a>"
      ],
      "text/plain": [
       "<IPython.core.display.HTML object>"
      ]
     },
     "metadata": {},
     "output_type": "display_data"
    },
    {
     "name": "stdout",
     "output_type": "stream",
     "text": [
      "loaded dataset. Generating sequences\n",
      "Any missing values exist: False\n",
      "train dataset columns: Index(['풍속(m/s)', '풍향(deg)', '기온(°C)', '수온(°C)', '강수량(mm)', '풍속(m/s).1',\n",
      "       '풍향(deg).1', '기온(°C).1', '수온(°C).1', '강수량(mm).1', '풍속(m/s).2',\n",
      "       '풍향(deg).2', '기온(°C).2', '수온(°C).2', '강수량(mm).2', '풍속(m/s).3',\n",
      "       '풍향(deg).3', '기온(°C).3', '수온(°C).3', '강수량(mm).3', '풍속(m/s).4',\n",
      "       '풍향(deg).4', '기온(°C).4', '수온(°C).4', '강수량(mm).4', '적조발생'],\n",
      "      dtype='object')\n",
      "12566 25133\n",
      "(12566, 72, 25) (12567, 72, 25) (12566, 72) (12567, 72) \n",
      "\n",
      "\n",
      "Epoch 1/12\n",
      "197/197 [==============================] - 4s 13ms/step - loss: 0.1710 - val_loss: 0.3005\n"
     ]
    },
    {
     "name": "stderr",
     "output_type": "stream",
     "text": [
      "WARNING:absl:Found untraced functions such as lstm_cell_layer_call_fn, lstm_cell_layer_call_and_return_conditional_losses, lstm_cell_layer_call_fn, lstm_cell_layer_call_and_return_conditional_losses, lstm_cell_layer_call_and_return_conditional_losses while saving (showing 5 of 5). These functions will not be directly callable after loading.\n"
     ]
    },
    {
     "name": "stdout",
     "output_type": "stream",
     "text": [
      "INFO:tensorflow:Assets written to: /aiffel/aiffel/aiffelthon/wandb/run-20221113_112144-akwildfk/files/model-best/assets\n"
     ]
    },
    {
     "name": "stderr",
     "output_type": "stream",
     "text": [
      "INFO:tensorflow:Assets written to: /aiffel/aiffel/aiffelthon/wandb/run-20221113_112144-akwildfk/files/model-best/assets\n",
      "\u001b[34m\u001b[1mwandb\u001b[0m: Adding directory to artifact (/aiffel/aiffel/aiffelthon/wandb/run-20221113_112144-akwildfk/files/model-best)... Done. 0.0s\n"
     ]
    },
    {
     "name": "stdout",
     "output_type": "stream",
     "text": [
      "sequence accuracy is 0.9261436478254335\n",
      "Epoch 2/12\n",
      "197/197 [==============================] - 2s 10ms/step - loss: 0.1239 - val_loss: 0.2802\n"
     ]
    },
    {
     "name": "stderr",
     "output_type": "stream",
     "text": [
      "WARNING:absl:Found untraced functions such as lstm_cell_layer_call_fn, lstm_cell_layer_call_and_return_conditional_losses, lstm_cell_layer_call_fn, lstm_cell_layer_call_and_return_conditional_losses, lstm_cell_layer_call_and_return_conditional_losses while saving (showing 5 of 5). These functions will not be directly callable after loading.\n"
     ]
    },
    {
     "name": "stdout",
     "output_type": "stream",
     "text": [
      "INFO:tensorflow:Assets written to: /aiffel/aiffel/aiffelthon/wandb/run-20221113_112144-akwildfk/files/model-best/assets\n"
     ]
    },
    {
     "name": "stderr",
     "output_type": "stream",
     "text": [
      "INFO:tensorflow:Assets written to: /aiffel/aiffel/aiffelthon/wandb/run-20221113_112144-akwildfk/files/model-best/assets\n",
      "\u001b[34m\u001b[1mwandb\u001b[0m: Adding directory to artifact (/aiffel/aiffel/aiffelthon/wandb/run-20221113_112144-akwildfk/files/model-best)... Done. 0.0s\n"
     ]
    },
    {
     "name": "stdout",
     "output_type": "stream",
     "text": [
      "sequence accuracy is 0.9261104922062191\n",
      "Epoch 3/12\n",
      "197/197 [==============================] - 2s 10ms/step - loss: 0.1219 - val_loss: 0.2877\n",
      "sequence accuracy is 0.9224810570895555\n",
      "Epoch 4/12\n",
      "197/197 [==============================] - 2s 10ms/step - loss: 0.1084 - val_loss: 0.3277\n",
      "sequence accuracy is 0.9201247977507228\n",
      "Epoch 5/12\n",
      "197/197 [==============================] - 2s 10ms/step - loss: 0.0946 - val_loss: 0.3404\n",
      "sequence accuracy is 0.9032099060148714\n",
      "Epoch 6/12\n",
      "197/197 [==============================] - 2s 10ms/step - loss: 0.0858 - val_loss: 0.3949\n",
      "sequence accuracy is 0.9027755674031634\n",
      "Epoch 7/12\n",
      "197/197 [==============================] - 2s 10ms/step - loss: 0.1118 - val_loss: 0.2787\n"
     ]
    },
    {
     "name": "stderr",
     "output_type": "stream",
     "text": [
      "WARNING:absl:Found untraced functions such as lstm_cell_layer_call_fn, lstm_cell_layer_call_and_return_conditional_losses, lstm_cell_layer_call_fn, lstm_cell_layer_call_and_return_conditional_losses, lstm_cell_layer_call_and_return_conditional_losses while saving (showing 5 of 5). These functions will not be directly callable after loading.\n"
     ]
    },
    {
     "name": "stdout",
     "output_type": "stream",
     "text": [
      "INFO:tensorflow:Assets written to: /aiffel/aiffel/aiffelthon/wandb/run-20221113_112144-akwildfk/files/model-best/assets\n"
     ]
    },
    {
     "name": "stderr",
     "output_type": "stream",
     "text": [
      "INFO:tensorflow:Assets written to: /aiffel/aiffel/aiffelthon/wandb/run-20221113_112144-akwildfk/files/model-best/assets\n",
      "\u001b[34m\u001b[1mwandb\u001b[0m: Adding directory to artifact (/aiffel/aiffel/aiffelthon/wandb/run-20221113_112144-akwildfk/files/model-best)... Done. 0.1s\n"
     ]
    },
    {
     "name": "stdout",
     "output_type": "stream",
     "text": [
      "sequence accuracy is 0.9273372501171498\n",
      "Epoch 8/12\n",
      "197/197 [==============================] - 2s 10ms/step - loss: 0.1020 - val_loss: 0.3020\n",
      "sequence accuracy is 0.9234492011706144\n",
      "Epoch 9/12\n",
      "197/197 [==============================] - 2s 10ms/step - loss: 0.0918 - val_loss: 0.4307\n",
      "sequence accuracy is 0.9272256261991282\n",
      "Epoch 10/12\n",
      "197/197 [==============================] - 2s 10ms/step - loss: 0.0778 - val_loss: 0.4140\n",
      "sequence accuracy is 0.9184692271646199\n",
      "Epoch 11/12\n",
      "197/197 [==============================] - 2s 10ms/step - loss: 0.0799 - val_loss: 0.5855\n",
      "sequence accuracy is 0.9241089979929799\n",
      "Epoch 12/12\n",
      "197/197 [==============================] - 2s 10ms/step - loss: 0.0898 - val_loss: 0.4280\n",
      "sequence accuracy is 0.9038697028372369\n"
     ]
    },
    {
     "data": {
      "text/html": [
       "Waiting for W&B process to finish... <strong style=\"color:green\">(success).</strong>"
      ],
      "text/plain": [
       "<IPython.core.display.HTML object>"
      ]
     },
     "metadata": {},
     "output_type": "display_data"
    },
    {
     "data": {
      "text/html": [
       "<style>\n",
       "    table.wandb td:nth-child(1) { padding: 0 10px; text-align: left ; width: auto;} td:nth-child(2) {text-align: left ; width: 100%}\n",
       "    .wandb-row { display: flex; flex-direction: row; flex-wrap: wrap; justify-content: flex-start; width: 100% }\n",
       "    .wandb-col { display: flex; flex-direction: column; flex-basis: 100%; flex: 1; padding: 10px; }\n",
       "    </style>\n",
       "<div class=\"wandb-row\"><div class=\"wandb-col\"><h3>Run history:</h3><br/><table class=\"wandb\"><tr><td>Validation Acc :</td><td>▁</td></tr><tr><td>epoch</td><td>▁▂▂▃▄▄▅▅▆▇▇█</td></tr><tr><td>loss</td><td>█▄▄▃▂▂▄▃▂▁▁▂</td></tr><tr><td>val_loss</td><td>▁▁▁▂▂▄▁▂▄▄█▄</td></tr></table><br/></div><div class=\"wandb-col\"><h3>Run summary:</h3><br/><table class=\"wandb\"><tr><td>Validation Acc :</td><td>0.90387</td></tr><tr><td>best_epoch</td><td>6</td></tr><tr><td>best_val_loss</td><td>0.27866</td></tr><tr><td>epoch</td><td>11</td></tr><tr><td>loss</td><td>0.08982</td></tr><tr><td>val_loss</td><td>0.42804</td></tr></table><br/></div></div>"
      ],
      "text/plain": [
       "<IPython.core.display.HTML object>"
      ]
     },
     "metadata": {},
     "output_type": "display_data"
    },
    {
     "data": {
      "text/html": [
       "Synced <strong style=\"color:#cdcd00\">lyric-sweep-2</strong>: <a href=\"https://wandb.ai/chhyyi/redzone_LSTM_sweep/runs/akwildfk\" target=\"_blank\">https://wandb.ai/chhyyi/redzone_LSTM_sweep/runs/akwildfk</a><br/>Synced 5 W&B file(s), 1 media file(s), 10 artifact file(s) and 1 other file(s)"
      ],
      "text/plain": [
       "<IPython.core.display.HTML object>"
      ]
     },
     "metadata": {},
     "output_type": "display_data"
    },
    {
     "data": {
      "text/html": [
       "Find logs at: <code>./wandb/run-20221113_112144-akwildfk/logs</code>"
      ],
      "text/plain": [
       "<IPython.core.display.HTML object>"
      ]
     },
     "metadata": {},
     "output_type": "display_data"
    },
    {
     "name": "stderr",
     "output_type": "stream",
     "text": [
      "\u001b[34m\u001b[1mwandb\u001b[0m: Agent Starting Run: 4fn8j73j with config:\n",
      "\u001b[34m\u001b[1mwandb\u001b[0m: \tepochs: 2\n",
      "\u001b[34m\u001b[1mwandb\u001b[0m: \tlearning_rate: 0.0002\n",
      "\u001b[34m\u001b[1mwandb\u001b[0m: \tsplit_train_ratio: 0.8\n",
      "\u001b[34m\u001b[1mwandb\u001b[0m: \tstride_inside_seq: 3\n",
      "\u001b[34m\u001b[1mwandb\u001b[0m: \tunit_LSTM0: 32\n"
     ]
    },
    {
     "data": {
      "application/vnd.jupyter.widget-view+json": {
       "model_id": "45c2f53c72c14656a94053dfee61daac",
       "version_major": 2,
       "version_minor": 0
      },
      "text/plain": [
       "VBox(children=(Label(value='Waiting for wandb.init()...\\r'), FloatProgress(value=0.016669028766652143, max=1.0…"
      ]
     },
     "metadata": {},
     "output_type": "display_data"
    },
    {
     "data": {
      "text/html": [
       "Tracking run with wandb version 0.13.5"
      ],
      "text/plain": [
       "<IPython.core.display.HTML object>"
      ]
     },
     "metadata": {},
     "output_type": "display_data"
    },
    {
     "data": {
      "text/html": [
       "Run data is saved locally in <code>/aiffel/aiffel/aiffelthon/wandb/run-20221113_112531-4fn8j73j</code>"
      ],
      "text/plain": [
       "<IPython.core.display.HTML object>"
      ]
     },
     "metadata": {},
     "output_type": "display_data"
    },
    {
     "data": {
      "text/html": [
       "Syncing run <strong><a href=\"https://wandb.ai/chhyyi/redzone_LSTM_sweep/runs/4fn8j73j\" target=\"_blank\">faithful-sweep-3</a></strong> to <a href=\"https://wandb.ai/chhyyi/redzone_LSTM_sweep\" target=\"_blank\">Weights & Biases</a> (<a href=\"https://wandb.me/run\" target=\"_blank\">docs</a>)<br/>Sweep page:  <a href=\"https://wandb.ai/chhyyi/redzone_LSTM_sweep/sweeps/habtjdmw\" target=\"_blank\">https://wandb.ai/chhyyi/redzone_LSTM_sweep/sweeps/habtjdmw</a>"
      ],
      "text/plain": [
       "<IPython.core.display.HTML object>"
      ]
     },
     "metadata": {},
     "output_type": "display_data"
    },
    {
     "name": "stdout",
     "output_type": "stream",
     "text": [
      "loaded dataset. Generating sequences\n",
      "Any missing values exist: False\n",
      "train dataset columns: Index(['풍속(m/s)', '풍향(deg)', '기온(°C)', '수온(°C)', '강수량(mm)', '풍속(m/s).1',\n",
      "       '풍향(deg).1', '기온(°C).1', '수온(°C).1', '강수량(mm).1', '풍속(m/s).2',\n",
      "       '풍향(deg).2', '기온(°C).2', '수온(°C).2', '강수량(mm).2', '풍속(m/s).3',\n",
      "       '풍향(deg).3', '기온(°C).3', '수온(°C).3', '강수량(mm).3', '풍속(m/s).4',\n",
      "       '풍향(deg).4', '기온(°C).4', '수온(°C).4', '강수량(mm).4', '적조발생'],\n",
      "      dtype='object')\n",
      "20106 25133\n",
      "(20106, 24, 25) (5027, 24, 25) (20106, 24) (5027, 24) \n",
      "\n",
      "\n",
      "Epoch 1/2\n",
      "315/315 [==============================] - 3s 5ms/step - loss: 0.4923 - val_loss: 0.2650\n"
     ]
    },
    {
     "name": "stderr",
     "output_type": "stream",
     "text": [
      "WARNING:absl:Found untraced functions such as lstm_cell_layer_call_fn, lstm_cell_layer_call_and_return_conditional_losses, lstm_cell_layer_call_fn, lstm_cell_layer_call_and_return_conditional_losses, lstm_cell_layer_call_and_return_conditional_losses while saving (showing 5 of 5). These functions will not be directly callable after loading.\n"
     ]
    },
    {
     "name": "stdout",
     "output_type": "stream",
     "text": [
      "INFO:tensorflow:Assets written to: /aiffel/aiffel/aiffelthon/wandb/run-20221113_112531-4fn8j73j/files/model-best/assets\n"
     ]
    },
    {
     "name": "stderr",
     "output_type": "stream",
     "text": [
      "INFO:tensorflow:Assets written to: /aiffel/aiffel/aiffelthon/wandb/run-20221113_112531-4fn8j73j/files/model-best/assets\n",
      "\u001b[34m\u001b[1mwandb\u001b[0m: Adding directory to artifact (/aiffel/aiffel/aiffelthon/wandb/run-20221113_112531-4fn8j73j/files/model-best)... Done. 0.0s\n"
     ]
    },
    {
     "name": "stdout",
     "output_type": "stream",
     "text": [
      "sequence accuracy is 0.9124229162522379\n",
      "Epoch 2/2\n",
      "315/315 [==============================] - 1s 4ms/step - loss: 0.1874 - val_loss: 0.2514\n"
     ]
    },
    {
     "name": "stderr",
     "output_type": "stream",
     "text": [
      "WARNING:absl:Found untraced functions such as lstm_cell_layer_call_fn, lstm_cell_layer_call_and_return_conditional_losses, lstm_cell_layer_call_fn, lstm_cell_layer_call_and_return_conditional_losses, lstm_cell_layer_call_and_return_conditional_losses while saving (showing 5 of 5). These functions will not be directly callable after loading.\n"
     ]
    },
    {
     "name": "stdout",
     "output_type": "stream",
     "text": [
      "INFO:tensorflow:Assets written to: /aiffel/aiffel/aiffelthon/wandb/run-20221113_112531-4fn8j73j/files/model-best/assets\n"
     ]
    },
    {
     "name": "stderr",
     "output_type": "stream",
     "text": [
      "INFO:tensorflow:Assets written to: /aiffel/aiffel/aiffelthon/wandb/run-20221113_112531-4fn8j73j/files/model-best/assets\n",
      "\u001b[34m\u001b[1mwandb\u001b[0m: Adding directory to artifact (/aiffel/aiffel/aiffelthon/wandb/run-20221113_112531-4fn8j73j/files/model-best)... Done. 0.0s\n"
     ]
    },
    {
     "name": "stdout",
     "output_type": "stream",
     "text": [
      "sequence accuracy is 0.8954147602944101\n"
     ]
    },
    {
     "data": {
      "text/html": [
       "Waiting for W&B process to finish... <strong style=\"color:green\">(success).</strong>"
      ],
      "text/plain": [
       "<IPython.core.display.HTML object>"
      ]
     },
     "metadata": {},
     "output_type": "display_data"
    },
    {
     "data": {
      "application/vnd.jupyter.widget-view+json": {
       "model_id": "ab67d06370f24404a844e716ff6d8f5e",
       "version_major": 2,
       "version_minor": 0
      },
      "text/plain": [
       "VBox(children=(Label(value='1.904 MB of 1.904 MB uploaded (0.008 MB deduped)\\r'), FloatProgress(value=1.0, max…"
      ]
     },
     "metadata": {},
     "output_type": "display_data"
    },
    {
     "data": {
      "text/html": [
       "<style>\n",
       "    table.wandb td:nth-child(1) { padding: 0 10px; text-align: left ; width: auto;} td:nth-child(2) {text-align: left ; width: 100%}\n",
       "    .wandb-row { display: flex; flex-direction: row; flex-wrap: wrap; justify-content: flex-start; width: 100% }\n",
       "    .wandb-col { display: flex; flex-direction: column; flex-basis: 100%; flex: 1; padding: 10px; }\n",
       "    </style>\n",
       "<div class=\"wandb-row\"><div class=\"wandb-col\"><h3>Run history:</h3><br/><table class=\"wandb\"><tr><td>Validation Acc :</td><td>▁</td></tr><tr><td>epoch</td><td>▁█</td></tr><tr><td>loss</td><td>█▁</td></tr><tr><td>val_loss</td><td>█▁</td></tr></table><br/></div><div class=\"wandb-col\"><h3>Run summary:</h3><br/><table class=\"wandb\"><tr><td>Validation Acc :</td><td>0.89541</td></tr><tr><td>best_epoch</td><td>1</td></tr><tr><td>best_val_loss</td><td>0.2514</td></tr><tr><td>epoch</td><td>1</td></tr><tr><td>loss</td><td>0.18744</td></tr><tr><td>val_loss</td><td>0.2514</td></tr></table><br/></div></div>"
      ],
      "text/plain": [
       "<IPython.core.display.HTML object>"
      ]
     },
     "metadata": {},
     "output_type": "display_data"
    },
    {
     "data": {
      "text/html": [
       "Synced <strong style=\"color:#cdcd00\">faithful-sweep-3</strong>: <a href=\"https://wandb.ai/chhyyi/redzone_LSTM_sweep/runs/4fn8j73j\" target=\"_blank\">https://wandb.ai/chhyyi/redzone_LSTM_sweep/runs/4fn8j73j</a><br/>Synced 5 W&B file(s), 1 media file(s), 7 artifact file(s) and 1 other file(s)"
      ],
      "text/plain": [
       "<IPython.core.display.HTML object>"
      ]
     },
     "metadata": {},
     "output_type": "display_data"
    },
    {
     "data": {
      "text/html": [
       "Find logs at: <code>./wandb/run-20221113_112531-4fn8j73j/logs</code>"
      ],
      "text/plain": [
       "<IPython.core.display.HTML object>"
      ]
     },
     "metadata": {},
     "output_type": "display_data"
    },
    {
     "name": "stderr",
     "output_type": "stream",
     "text": [
      "\u001b[34m\u001b[1mwandb\u001b[0m: Agent Starting Run: sg174oby with config:\n",
      "\u001b[34m\u001b[1mwandb\u001b[0m: \tepochs: 1\n",
      "\u001b[34m\u001b[1mwandb\u001b[0m: \tlearning_rate: 0.001\n",
      "\u001b[34m\u001b[1mwandb\u001b[0m: \tsplit_train_ratio: 0.5\n",
      "\u001b[34m\u001b[1mwandb\u001b[0m: \tstride_inside_seq: 1\n",
      "\u001b[34m\u001b[1mwandb\u001b[0m: \tunit_LSTM0: 64\n"
     ]
    },
    {
     "data": {
      "text/html": [
       "Tracking run with wandb version 0.13.5"
      ],
      "text/plain": [
       "<IPython.core.display.HTML object>"
      ]
     },
     "metadata": {},
     "output_type": "display_data"
    },
    {
     "data": {
      "text/html": [
       "Run data is saved locally in <code>/aiffel/aiffel/aiffelthon/wandb/run-20221113_112649-sg174oby</code>"
      ],
      "text/plain": [
       "<IPython.core.display.HTML object>"
      ]
     },
     "metadata": {},
     "output_type": "display_data"
    },
    {
     "data": {
      "text/html": [
       "Syncing run <strong><a href=\"https://wandb.ai/chhyyi/redzone_LSTM_sweep/runs/sg174oby\" target=\"_blank\">peachy-sweep-4</a></strong> to <a href=\"https://wandb.ai/chhyyi/redzone_LSTM_sweep\" target=\"_blank\">Weights & Biases</a> (<a href=\"https://wandb.me/run\" target=\"_blank\">docs</a>)<br/>Sweep page:  <a href=\"https://wandb.ai/chhyyi/redzone_LSTM_sweep/sweeps/habtjdmw\" target=\"_blank\">https://wandb.ai/chhyyi/redzone_LSTM_sweep/sweeps/habtjdmw</a>"
      ],
      "text/plain": [
       "<IPython.core.display.HTML object>"
      ]
     },
     "metadata": {},
     "output_type": "display_data"
    },
    {
     "name": "stdout",
     "output_type": "stream",
     "text": [
      "loaded dataset. Generating sequences\n",
      "Any missing values exist: False\n",
      "train dataset columns: Index(['풍속(m/s)', '풍향(deg)', '기온(°C)', '수온(°C)', '강수량(mm)', '풍속(m/s).1',\n",
      "       '풍향(deg).1', '기온(°C).1', '수온(°C).1', '강수량(mm).1', '풍속(m/s).2',\n",
      "       '풍향(deg).2', '기온(°C).2', '수온(°C).2', '강수량(mm).2', '풍속(m/s).3',\n",
      "       '풍향(deg).3', '기온(°C).3', '수온(°C).3', '강수량(mm).3', '풍속(m/s).4',\n",
      "       '풍향(deg).4', '기온(°C).4', '수온(°C).4', '강수량(mm).4', '적조발생'],\n",
      "      dtype='object')\n",
      "12566 25133\n",
      "(12566, 72, 25) (12567, 72, 25) (12566, 72) (12567, 72) \n",
      "\n",
      "\n",
      "197/197 [==============================] - 4s 10ms/step - loss: 0.2205 - val_loss: 0.2903\n"
     ]
    },
    {
     "name": "stderr",
     "output_type": "stream",
     "text": [
      "WARNING:absl:Found untraced functions such as lstm_cell_layer_call_fn, lstm_cell_layer_call_and_return_conditional_losses, lstm_cell_layer_call_fn, lstm_cell_layer_call_and_return_conditional_losses, lstm_cell_layer_call_and_return_conditional_losses while saving (showing 5 of 5). These functions will not be directly callable after loading.\n"
     ]
    },
    {
     "name": "stdout",
     "output_type": "stream",
     "text": [
      "INFO:tensorflow:Assets written to: /aiffel/aiffel/aiffelthon/wandb/run-20221113_112649-sg174oby/files/model-best/assets\n"
     ]
    },
    {
     "name": "stderr",
     "output_type": "stream",
     "text": [
      "INFO:tensorflow:Assets written to: /aiffel/aiffel/aiffelthon/wandb/run-20221113_112649-sg174oby/files/model-best/assets\n",
      "\u001b[34m\u001b[1mwandb\u001b[0m: Adding directory to artifact (/aiffel/aiffel/aiffelthon/wandb/run-20221113_112649-sg174oby/files/model-best)... Done. 0.0s\n"
     ]
    },
    {
     "name": "stdout",
     "output_type": "stream",
     "text": [
      "sequence accuracy is 0.9219483568075117\n"
     ]
    },
    {
     "data": {
      "text/html": [
       "Waiting for W&B process to finish... <strong style=\"color:green\">(success).</strong>"
      ],
      "text/plain": [
       "<IPython.core.display.HTML object>"
      ]
     },
     "metadata": {},
     "output_type": "display_data"
    },
    {
     "data": {
      "application/vnd.jupyter.widget-view+json": {
       "model_id": "4a374c18b15c42169eb8a49a91089ca3",
       "version_major": 2,
       "version_minor": 0
      },
      "text/plain": [
       "VBox(children=(Label(value='1.463 MB of 1.463 MB uploaded (0.000 MB deduped)\\r'), FloatProgress(value=1.0, max…"
      ]
     },
     "metadata": {},
     "output_type": "display_data"
    },
    {
     "data": {
      "text/html": [
       "<style>\n",
       "    table.wandb td:nth-child(1) { padding: 0 10px; text-align: left ; width: auto;} td:nth-child(2) {text-align: left ; width: 100%}\n",
       "    .wandb-row { display: flex; flex-direction: row; flex-wrap: wrap; justify-content: flex-start; width: 100% }\n",
       "    .wandb-col { display: flex; flex-direction: column; flex-basis: 100%; flex: 1; padding: 10px; }\n",
       "    </style>\n",
       "<div class=\"wandb-row\"><div class=\"wandb-col\"><h3>Run history:</h3><br/><table class=\"wandb\"><tr><td>Validation Acc :</td><td>▁</td></tr><tr><td>epoch</td><td>▁</td></tr><tr><td>loss</td><td>▁</td></tr><tr><td>val_loss</td><td>▁</td></tr></table><br/></div><div class=\"wandb-col\"><h3>Run summary:</h3><br/><table class=\"wandb\"><tr><td>Validation Acc :</td><td>0.92195</td></tr><tr><td>best_epoch</td><td>0</td></tr><tr><td>best_val_loss</td><td>0.29027</td></tr><tr><td>epoch</td><td>0</td></tr><tr><td>loss</td><td>0.22049</td></tr><tr><td>val_loss</td><td>0.29027</td></tr></table><br/></div></div>"
      ],
      "text/plain": [
       "<IPython.core.display.HTML object>"
      ]
     },
     "metadata": {},
     "output_type": "display_data"
    },
    {
     "data": {
      "text/html": [
       "Synced <strong style=\"color:#cdcd00\">peachy-sweep-4</strong>: <a href=\"https://wandb.ai/chhyyi/redzone_LSTM_sweep/runs/sg174oby\" target=\"_blank\">https://wandb.ai/chhyyi/redzone_LSTM_sweep/runs/sg174oby</a><br/>Synced 5 W&B file(s), 1 media file(s), 4 artifact file(s) and 1 other file(s)"
      ],
      "text/plain": [
       "<IPython.core.display.HTML object>"
      ]
     },
     "metadata": {},
     "output_type": "display_data"
    },
    {
     "data": {
      "text/html": [
       "Find logs at: <code>./wandb/run-20221113_112649-sg174oby/logs</code>"
      ],
      "text/plain": [
       "<IPython.core.display.HTML object>"
      ]
     },
     "metadata": {},
     "output_type": "display_data"
    },
    {
     "name": "stderr",
     "output_type": "stream",
     "text": [
      "\u001b[34m\u001b[1mwandb\u001b[0m: Sweep Agent: Waiting for job.\n",
      "\u001b[34m\u001b[1mwandb\u001b[0m: Job received.\n",
      "\u001b[34m\u001b[1mwandb\u001b[0m: Agent Starting Run: 0tu5e5nb with config:\n",
      "\u001b[34m\u001b[1mwandb\u001b[0m: \tepochs: 12\n",
      "\u001b[34m\u001b[1mwandb\u001b[0m: \tlearning_rate: 0.0032\n",
      "\u001b[34m\u001b[1mwandb\u001b[0m: \tsplit_train_ratio: 0.5\n",
      "\u001b[34m\u001b[1mwandb\u001b[0m: \tstride_inside_seq: 9\n",
      "\u001b[34m\u001b[1mwandb\u001b[0m: \tunit_LSTM0: 64\n"
     ]
    },
    {
     "data": {
      "text/html": [
       "Tracking run with wandb version 0.13.5"
      ],
      "text/plain": [
       "<IPython.core.display.HTML object>"
      ]
     },
     "metadata": {},
     "output_type": "display_data"
    },
    {
     "data": {
      "text/html": [
       "Run data is saved locally in <code>/aiffel/aiffel/aiffelthon/wandb/run-20221113_112854-0tu5e5nb</code>"
      ],
      "text/plain": [
       "<IPython.core.display.HTML object>"
      ]
     },
     "metadata": {},
     "output_type": "display_data"
    },
    {
     "data": {
      "text/html": [
       "Syncing run <strong><a href=\"https://wandb.ai/chhyyi/redzone_LSTM_sweep/runs/0tu5e5nb\" target=\"_blank\">royal-sweep-5</a></strong> to <a href=\"https://wandb.ai/chhyyi/redzone_LSTM_sweep\" target=\"_blank\">Weights & Biases</a> (<a href=\"https://wandb.me/run\" target=\"_blank\">docs</a>)<br/>Sweep page:  <a href=\"https://wandb.ai/chhyyi/redzone_LSTM_sweep/sweeps/habtjdmw\" target=\"_blank\">https://wandb.ai/chhyyi/redzone_LSTM_sweep/sweeps/habtjdmw</a>"
      ],
      "text/plain": [
       "<IPython.core.display.HTML object>"
      ]
     },
     "metadata": {},
     "output_type": "display_data"
    },
    {
     "name": "stdout",
     "output_type": "stream",
     "text": [
      "loaded dataset. Generating sequences\n",
      "Any missing values exist: False\n",
      "train dataset columns: Index(['풍속(m/s)', '풍향(deg)', '기온(°C)', '수온(°C)', '강수량(mm)', '풍속(m/s).1',\n",
      "       '풍향(deg).1', '기온(°C).1', '수온(°C).1', '강수량(mm).1', '풍속(m/s).2',\n",
      "       '풍향(deg).2', '기온(°C).2', '수온(°C).2', '강수량(mm).2', '풍속(m/s).3',\n",
      "       '풍향(deg).3', '기온(°C).3', '수온(°C).3', '강수량(mm).3', '풍속(m/s).4',\n",
      "       '풍향(deg).4', '기온(°C).4', '수온(°C).4', '강수량(mm).4', '적조발생'],\n",
      "      dtype='object')\n",
      "12566 25133\n",
      "(12566, 8, 25) (12567, 8, 25) (12566, 8) (12567, 8) \n",
      "\n",
      "\n",
      "Epoch 1/12\n",
      "197/197 [==============================] - 2s 6ms/step - loss: 0.1409 - val_loss: 0.3402\n"
     ]
    },
    {
     "name": "stderr",
     "output_type": "stream",
     "text": [
      "WARNING:absl:Found untraced functions such as lstm_cell_layer_call_fn, lstm_cell_layer_call_and_return_conditional_losses, lstm_cell_layer_call_fn, lstm_cell_layer_call_and_return_conditional_losses, lstm_cell_layer_call_and_return_conditional_losses while saving (showing 5 of 5). These functions will not be directly callable after loading.\n"
     ]
    },
    {
     "name": "stdout",
     "output_type": "stream",
     "text": [
      "INFO:tensorflow:Assets written to: /aiffel/aiffel/aiffelthon/wandb/run-20221113_112854-0tu5e5nb/files/model-best/assets\n"
     ]
    },
    {
     "name": "stderr",
     "output_type": "stream",
     "text": [
      "INFO:tensorflow:Assets written to: /aiffel/aiffel/aiffelthon/wandb/run-20221113_112854-0tu5e5nb/files/model-best/assets\n",
      "\u001b[34m\u001b[1mwandb\u001b[0m: Adding directory to artifact (/aiffel/aiffel/aiffelthon/wandb/run-20221113_112854-0tu5e5nb/files/model-best)... Done. 0.0s\n"
     ]
    },
    {
     "name": "stdout",
     "output_type": "stream",
     "text": [
      "sequence accuracy is 0.9251014561947959\n",
      "Epoch 2/12\n",
      "197/197 [==============================] - 1s 5ms/step - loss: 0.0785 - val_loss: 0.4434\n",
      "sequence accuracy is 0.92661335243097\n",
      "Epoch 3/12\n",
      "197/197 [==============================] - 1s 5ms/step - loss: 0.0443 - val_loss: 0.5124\n",
      "sequence accuracy is 0.9260264979708761\n",
      "Epoch 4/12\n",
      "197/197 [==============================] - 1s 5ms/step - loss: 0.0245 - val_loss: 0.5596\n",
      "sequence accuracy is 0.9250019893371528\n",
      "Epoch 5/12\n",
      "197/197 [==============================] - 1s 5ms/step - loss: 0.0214 - val_loss: 0.5973\n",
      "sequence accuracy is 0.924743375507281\n",
      "Epoch 6/12\n",
      "197/197 [==============================] - 1s 5ms/step - loss: 0.0152 - val_loss: 0.6628\n",
      "sequence accuracy is 0.9209934749741386\n",
      "Epoch 7/12\n",
      "197/197 [==============================] - 1s 5ms/step - loss: 0.0097 - val_loss: 0.7297\n",
      "sequence accuracy is 0.9174524548420466\n",
      "Epoch 8/12\n",
      "197/197 [==============================] - 1s 5ms/step - loss: 0.0103 - val_loss: 0.7275\n",
      "sequence accuracy is 0.9187654173629347\n",
      "Epoch 9/12\n",
      "197/197 [==============================] - 1s 5ms/step - loss: 0.0110 - val_loss: 0.7372\n",
      "sequence accuracy is 0.9181785629028407\n",
      "Epoch 10/12\n",
      "197/197 [==============================] - 1s 5ms/step - loss: 0.0124 - val_loss: 0.7869\n",
      "sequence accuracy is 0.9225352112676056\n",
      "Epoch 11/12\n",
      "197/197 [==============================] - 1s 5ms/step - loss: 0.0048 - val_loss: 0.8239\n",
      "sequence accuracy is 0.9191931248507997\n",
      "Epoch 12/12\n",
      "197/197 [==============================] - 1s 5ms/step - loss: 0.0038 - val_loss: 0.8481\n",
      "sequence accuracy is 0.9237089201877934\n"
     ]
    },
    {
     "data": {
      "text/html": [
       "Waiting for W&B process to finish... <strong style=\"color:green\">(success).</strong>"
      ],
      "text/plain": [
       "<IPython.core.display.HTML object>"
      ]
     },
     "metadata": {},
     "output_type": "display_data"
    },
    {
     "data": {
      "text/html": [
       "<style>\n",
       "    table.wandb td:nth-child(1) { padding: 0 10px; text-align: left ; width: auto;} td:nth-child(2) {text-align: left ; width: 100%}\n",
       "    .wandb-row { display: flex; flex-direction: row; flex-wrap: wrap; justify-content: flex-start; width: 100% }\n",
       "    .wandb-col { display: flex; flex-direction: column; flex-basis: 100%; flex: 1; padding: 10px; }\n",
       "    </style>\n",
       "<div class=\"wandb-row\"><div class=\"wandb-col\"><h3>Run history:</h3><br/><table class=\"wandb\"><tr><td>Validation Acc :</td><td>▁</td></tr><tr><td>epoch</td><td>▁▂▂▃▄▄▅▅▆▇▇█</td></tr><tr><td>loss</td><td>█▅▃▂▂▂▁▁▁▁▁▁</td></tr><tr><td>val_loss</td><td>▁▂▃▄▅▅▆▆▆▇██</td></tr></table><br/></div><div class=\"wandb-col\"><h3>Run summary:</h3><br/><table class=\"wandb\"><tr><td>Validation Acc :</td><td>0.92371</td></tr><tr><td>best_epoch</td><td>0</td></tr><tr><td>best_val_loss</td><td>0.34019</td></tr><tr><td>epoch</td><td>11</td></tr><tr><td>loss</td><td>0.00377</td></tr><tr><td>val_loss</td><td>0.84814</td></tr></table><br/></div></div>"
      ],
      "text/plain": [
       "<IPython.core.display.HTML object>"
      ]
     },
     "metadata": {},
     "output_type": "display_data"
    },
    {
     "data": {
      "text/html": [
       "Synced <strong style=\"color:#cdcd00\">royal-sweep-5</strong>: <a href=\"https://wandb.ai/chhyyi/redzone_LSTM_sweep/runs/0tu5e5nb\" target=\"_blank\">https://wandb.ai/chhyyi/redzone_LSTM_sweep/runs/0tu5e5nb</a><br/>Synced 5 W&B file(s), 1 media file(s), 4 artifact file(s) and 1 other file(s)"
      ],
      "text/plain": [
       "<IPython.core.display.HTML object>"
      ]
     },
     "metadata": {},
     "output_type": "display_data"
    },
    {
     "data": {
      "text/html": [
       "Find logs at: <code>./wandb/run-20221113_112854-0tu5e5nb/logs</code>"
      ],
      "text/plain": [
       "<IPython.core.display.HTML object>"
      ]
     },
     "metadata": {},
     "output_type": "display_data"
    },
    {
     "name": "stderr",
     "output_type": "stream",
     "text": [
      "\u001b[34m\u001b[1mwandb\u001b[0m: Agent Starting Run: 6r1qcfx0 with config:\n",
      "\u001b[34m\u001b[1mwandb\u001b[0m: \tepochs: 3\n",
      "\u001b[34m\u001b[1mwandb\u001b[0m: \tlearning_rate: 0.0002\n",
      "\u001b[34m\u001b[1mwandb\u001b[0m: \tsplit_train_ratio: 0.8\n",
      "\u001b[34m\u001b[1mwandb\u001b[0m: \tstride_inside_seq: 9\n",
      "\u001b[34m\u001b[1mwandb\u001b[0m: \tunit_LSTM0: 32\n"
     ]
    },
    {
     "data": {
      "application/vnd.jupyter.widget-view+json": {
       "model_id": "75c29243c7dc481bba99b8bb20ea3e43",
       "version_major": 2,
       "version_minor": 0
      },
      "text/plain": [
       "VBox(children=(Label(value='Waiting for wandb.init()...\\r'), FloatProgress(value=0.01666906388333397, max=1.0)…"
      ]
     },
     "metadata": {},
     "output_type": "display_data"
    },
    {
     "data": {
      "text/html": [
       "Tracking run with wandb version 0.13.5"
      ],
      "text/plain": [
       "<IPython.core.display.HTML object>"
      ]
     },
     "metadata": {},
     "output_type": "display_data"
    },
    {
     "data": {
      "text/html": [
       "Run data is saved locally in <code>/aiffel/aiffel/aiffelthon/wandb/run-20221113_113013-6r1qcfx0</code>"
      ],
      "text/plain": [
       "<IPython.core.display.HTML object>"
      ]
     },
     "metadata": {},
     "output_type": "display_data"
    },
    {
     "data": {
      "text/html": [
       "Syncing run <strong><a href=\"https://wandb.ai/chhyyi/redzone_LSTM_sweep/runs/6r1qcfx0\" target=\"_blank\">sage-sweep-6</a></strong> to <a href=\"https://wandb.ai/chhyyi/redzone_LSTM_sweep\" target=\"_blank\">Weights & Biases</a> (<a href=\"https://wandb.me/run\" target=\"_blank\">docs</a>)<br/>Sweep page:  <a href=\"https://wandb.ai/chhyyi/redzone_LSTM_sweep/sweeps/habtjdmw\" target=\"_blank\">https://wandb.ai/chhyyi/redzone_LSTM_sweep/sweeps/habtjdmw</a>"
      ],
      "text/plain": [
       "<IPython.core.display.HTML object>"
      ]
     },
     "metadata": {},
     "output_type": "display_data"
    },
    {
     "name": "stdout",
     "output_type": "stream",
     "text": [
      "loaded dataset. Generating sequences\n",
      "Any missing values exist: False\n",
      "train dataset columns: Index(['풍속(m/s)', '풍향(deg)', '기온(°C)', '수온(°C)', '강수량(mm)', '풍속(m/s).1',\n",
      "       '풍향(deg).1', '기온(°C).1', '수온(°C).1', '강수량(mm).1', '풍속(m/s).2',\n",
      "       '풍향(deg).2', '기온(°C).2', '수온(°C).2', '강수량(mm).2', '풍속(m/s).3',\n",
      "       '풍향(deg).3', '기온(°C).3', '수온(°C).3', '강수량(mm).3', '풍속(m/s).4',\n",
      "       '풍향(deg).4', '기온(°C).4', '수온(°C).4', '강수량(mm).4', '적조발생'],\n",
      "      dtype='object')\n",
      "20106 25133\n",
      "(20106, 8, 25) (5027, 8, 25) (20106, 8) (5027, 8) \n",
      "\n",
      "\n",
      "Epoch 1/3\n",
      "315/315 [==============================] - 3s 4ms/step - loss: 0.4517 - val_loss: 0.3055\n"
     ]
    },
    {
     "name": "stderr",
     "output_type": "stream",
     "text": [
      "WARNING:absl:Found untraced functions such as lstm_cell_layer_call_fn, lstm_cell_layer_call_and_return_conditional_losses, lstm_cell_layer_call_fn, lstm_cell_layer_call_and_return_conditional_losses, lstm_cell_layer_call_and_return_conditional_losses while saving (showing 5 of 5). These functions will not be directly callable after loading.\n"
     ]
    },
    {
     "name": "stdout",
     "output_type": "stream",
     "text": [
      "INFO:tensorflow:Assets written to: /aiffel/aiffel/aiffelthon/wandb/run-20221113_113013-6r1qcfx0/files/model-best/assets\n"
     ]
    },
    {
     "name": "stderr",
     "output_type": "stream",
     "text": [
      "INFO:tensorflow:Assets written to: /aiffel/aiffel/aiffelthon/wandb/run-20221113_113013-6r1qcfx0/files/model-best/assets\n",
      "\u001b[34m\u001b[1mwandb\u001b[0m: Adding directory to artifact (/aiffel/aiffel/aiffelthon/wandb/run-20221113_113013-6r1qcfx0/files/model-best)... Done. 0.0s\n"
     ]
    },
    {
     "name": "stdout",
     "output_type": "stream",
     "text": [
      "sequence accuracy is 0.9052118559777204\n",
      "Epoch 2/3\n",
      "315/315 [==============================] - 1s 4ms/step - loss: 0.1807 - val_loss: 0.2724\n"
     ]
    },
    {
     "name": "stderr",
     "output_type": "stream",
     "text": [
      "WARNING:absl:Found untraced functions such as lstm_cell_layer_call_fn, lstm_cell_layer_call_and_return_conditional_losses, lstm_cell_layer_call_fn, lstm_cell_layer_call_and_return_conditional_losses, lstm_cell_layer_call_and_return_conditional_losses while saving (showing 5 of 5). These functions will not be directly callable after loading.\n"
     ]
    },
    {
     "name": "stdout",
     "output_type": "stream",
     "text": [
      "INFO:tensorflow:Assets written to: /aiffel/aiffel/aiffelthon/wandb/run-20221113_113013-6r1qcfx0/files/model-best/assets\n"
     ]
    },
    {
     "name": "stderr",
     "output_type": "stream",
     "text": [
      "INFO:tensorflow:Assets written to: /aiffel/aiffel/aiffelthon/wandb/run-20221113_113013-6r1qcfx0/files/model-best/assets\n",
      "\u001b[34m\u001b[1mwandb\u001b[0m: Adding directory to artifact (/aiffel/aiffel/aiffelthon/wandb/run-20221113_113013-6r1qcfx0/files/model-best)... Done. 0.0s\n"
     ]
    },
    {
     "name": "stdout",
     "output_type": "stream",
     "text": [
      "sequence accuracy is 0.8889248060473444\n",
      "Epoch 3/3\n",
      "315/315 [==============================] - 1s 4ms/step - loss: 0.1380 - val_loss: 0.2613\n"
     ]
    },
    {
     "name": "stderr",
     "output_type": "stream",
     "text": [
      "WARNING:absl:Found untraced functions such as lstm_cell_layer_call_fn, lstm_cell_layer_call_and_return_conditional_losses, lstm_cell_layer_call_fn, lstm_cell_layer_call_and_return_conditional_losses, lstm_cell_layer_call_and_return_conditional_losses while saving (showing 5 of 5). These functions will not be directly callable after loading.\n"
     ]
    },
    {
     "name": "stdout",
     "output_type": "stream",
     "text": [
      "INFO:tensorflow:Assets written to: /aiffel/aiffel/aiffelthon/wandb/run-20221113_113013-6r1qcfx0/files/model-best/assets\n"
     ]
    },
    {
     "name": "stderr",
     "output_type": "stream",
     "text": [
      "INFO:tensorflow:Assets written to: /aiffel/aiffel/aiffelthon/wandb/run-20221113_113013-6r1qcfx0/files/model-best/assets\n",
      "\u001b[34m\u001b[1mwandb\u001b[0m: Adding directory to artifact (/aiffel/aiffel/aiffelthon/wandb/run-20221113_113013-6r1qcfx0/files/model-best)... Done. 0.0s\n"
     ]
    },
    {
     "name": "stdout",
     "output_type": "stream",
     "text": [
      "sequence accuracy is 0.8874328625422717\n"
     ]
    },
    {
     "data": {
      "text/html": [
       "Waiting for W&B process to finish... <strong style=\"color:green\">(success).</strong>"
      ],
      "text/plain": [
       "<IPython.core.display.HTML object>"
      ]
     },
     "metadata": {},
     "output_type": "display_data"
    },
    {
     "data": {
      "text/html": [
       "<style>\n",
       "    table.wandb td:nth-child(1) { padding: 0 10px; text-align: left ; width: auto;} td:nth-child(2) {text-align: left ; width: 100%}\n",
       "    .wandb-row { display: flex; flex-direction: row; flex-wrap: wrap; justify-content: flex-start; width: 100% }\n",
       "    .wandb-col { display: flex; flex-direction: column; flex-basis: 100%; flex: 1; padding: 10px; }\n",
       "    </style>\n",
       "<div class=\"wandb-row\"><div class=\"wandb-col\"><h3>Run history:</h3><br/><table class=\"wandb\"><tr><td>Validation Acc :</td><td>▁</td></tr><tr><td>epoch</td><td>▁▅█</td></tr><tr><td>loss</td><td>█▂▁</td></tr><tr><td>val_loss</td><td>█▃▁</td></tr></table><br/></div><div class=\"wandb-col\"><h3>Run summary:</h3><br/><table class=\"wandb\"><tr><td>Validation Acc :</td><td>0.88743</td></tr><tr><td>best_epoch</td><td>2</td></tr><tr><td>best_val_loss</td><td>0.26131</td></tr><tr><td>epoch</td><td>2</td></tr><tr><td>loss</td><td>0.13801</td></tr><tr><td>val_loss</td><td>0.26131</td></tr></table><br/></div></div>"
      ],
      "text/plain": [
       "<IPython.core.display.HTML object>"
      ]
     },
     "metadata": {},
     "output_type": "display_data"
    },
    {
     "data": {
      "text/html": [
       "Synced <strong style=\"color:#cdcd00\">sage-sweep-6</strong>: <a href=\"https://wandb.ai/chhyyi/redzone_LSTM_sweep/runs/6r1qcfx0\" target=\"_blank\">https://wandb.ai/chhyyi/redzone_LSTM_sweep/runs/6r1qcfx0</a><br/>Synced 5 W&B file(s), 1 media file(s), 10 artifact file(s) and 1 other file(s)"
      ],
      "text/plain": [
       "<IPython.core.display.HTML object>"
      ]
     },
     "metadata": {},
     "output_type": "display_data"
    },
    {
     "data": {
      "text/html": [
       "Find logs at: <code>./wandb/run-20221113_113013-6r1qcfx0/logs</code>"
      ],
      "text/plain": [
       "<IPython.core.display.HTML object>"
      ]
     },
     "metadata": {},
     "output_type": "display_data"
    },
    {
     "name": "stderr",
     "output_type": "stream",
     "text": [
      "\u001b[34m\u001b[1mwandb\u001b[0m: Agent Starting Run: t3hlw2w8 with config:\n",
      "\u001b[34m\u001b[1mwandb\u001b[0m: \tepochs: 4\n",
      "\u001b[34m\u001b[1mwandb\u001b[0m: \tlearning_rate: 0.0002\n",
      "\u001b[34m\u001b[1mwandb\u001b[0m: \tsplit_train_ratio: 0.8\n",
      "\u001b[34m\u001b[1mwandb\u001b[0m: \tstride_inside_seq: 1\n",
      "\u001b[34m\u001b[1mwandb\u001b[0m: \tunit_LSTM0: 128\n"
     ]
    },
    {
     "data": {
      "text/html": [
       "Tracking run with wandb version 0.13.5"
      ],
      "text/plain": [
       "<IPython.core.display.HTML object>"
      ]
     },
     "metadata": {},
     "output_type": "display_data"
    },
    {
     "data": {
      "text/html": [
       "Run data is saved locally in <code>/aiffel/aiffel/aiffelthon/wandb/run-20221113_113121-t3hlw2w8</code>"
      ],
      "text/plain": [
       "<IPython.core.display.HTML object>"
      ]
     },
     "metadata": {},
     "output_type": "display_data"
    },
    {
     "data": {
      "text/html": [
       "Syncing run <strong><a href=\"https://wandb.ai/chhyyi/redzone_LSTM_sweep/runs/t3hlw2w8\" target=\"_blank\">fragrant-sweep-7</a></strong> to <a href=\"https://wandb.ai/chhyyi/redzone_LSTM_sweep\" target=\"_blank\">Weights & Biases</a> (<a href=\"https://wandb.me/run\" target=\"_blank\">docs</a>)<br/>Sweep page:  <a href=\"https://wandb.ai/chhyyi/redzone_LSTM_sweep/sweeps/habtjdmw\" target=\"_blank\">https://wandb.ai/chhyyi/redzone_LSTM_sweep/sweeps/habtjdmw</a>"
      ],
      "text/plain": [
       "<IPython.core.display.HTML object>"
      ]
     },
     "metadata": {},
     "output_type": "display_data"
    },
    {
     "name": "stdout",
     "output_type": "stream",
     "text": [
      "loaded dataset. Generating sequences\n",
      "Any missing values exist: False\n",
      "train dataset columns: Index(['풍속(m/s)', '풍향(deg)', '기온(°C)', '수온(°C)', '강수량(mm)', '풍속(m/s).1',\n",
      "       '풍향(deg).1', '기온(°C).1', '수온(°C).1', '강수량(mm).1', '풍속(m/s).2',\n",
      "       '풍향(deg).2', '기온(°C).2', '수온(°C).2', '강수량(mm).2', '풍속(m/s).3',\n",
      "       '풍향(deg).3', '기온(°C).3', '수온(°C).3', '강수량(mm).3', '풍속(m/s).4',\n",
      "       '풍향(deg).4', '기온(°C).4', '수온(°C).4', '강수량(mm).4', '적조발생'],\n",
      "      dtype='object')\n",
      "20106 25133\n",
      "(20106, 72, 25) (5027, 72, 25) (20106, 72) (5027, 72) \n",
      "\n",
      "\n",
      "Epoch 1/4\n",
      "315/315 [==============================] - 4s 8ms/step - loss: 0.2789 - val_loss: 0.2279\n"
     ]
    },
    {
     "name": "stderr",
     "output_type": "stream",
     "text": [
      "WARNING:absl:Found untraced functions such as lstm_cell_layer_call_fn, lstm_cell_layer_call_and_return_conditional_losses, lstm_cell_layer_call_fn, lstm_cell_layer_call_and_return_conditional_losses, lstm_cell_layer_call_and_return_conditional_losses while saving (showing 5 of 5). These functions will not be directly callable after loading.\n"
     ]
    },
    {
     "name": "stdout",
     "output_type": "stream",
     "text": [
      "INFO:tensorflow:Assets written to: /aiffel/aiffel/aiffelthon/wandb/run-20221113_113121-t3hlw2w8/files/model-best/assets\n"
     ]
    },
    {
     "name": "stderr",
     "output_type": "stream",
     "text": [
      "INFO:tensorflow:Assets written to: /aiffel/aiffel/aiffelthon/wandb/run-20221113_113121-t3hlw2w8/files/model-best/assets\n",
      "\u001b[34m\u001b[1mwandb\u001b[0m: Adding directory to artifact (/aiffel/aiffel/aiffelthon/wandb/run-20221113_113121-t3hlw2w8/files/model-best)... Done. 0.0s\n"
     ]
    },
    {
     "name": "stdout",
     "output_type": "stream",
     "text": [
      "sequence accuracy is 0.9082979687465464\n",
      "Epoch 2/4\n",
      "315/315 [==============================] - 2s 6ms/step - loss: 0.1579 - val_loss: 0.2139\n"
     ]
    },
    {
     "name": "stderr",
     "output_type": "stream",
     "text": [
      "WARNING:absl:Found untraced functions such as lstm_cell_layer_call_fn, lstm_cell_layer_call_and_return_conditional_losses, lstm_cell_layer_call_fn, lstm_cell_layer_call_and_return_conditional_losses, lstm_cell_layer_call_and_return_conditional_losses while saving (showing 5 of 5). These functions will not be directly callable after loading.\n"
     ]
    },
    {
     "name": "stdout",
     "output_type": "stream",
     "text": [
      "INFO:tensorflow:Assets written to: /aiffel/aiffel/aiffelthon/wandb/run-20221113_113121-t3hlw2w8/files/model-best/assets\n"
     ]
    },
    {
     "name": "stderr",
     "output_type": "stream",
     "text": [
      "INFO:tensorflow:Assets written to: /aiffel/aiffel/aiffelthon/wandb/run-20221113_113121-t3hlw2w8/files/model-best/assets\n",
      "\u001b[34m\u001b[1mwandb\u001b[0m: Adding directory to artifact (/aiffel/aiffel/aiffelthon/wandb/run-20221113_113121-t3hlw2w8/files/model-best)... Done. 0.0s\n"
     ]
    },
    {
     "name": "stdout",
     "output_type": "stream",
     "text": [
      "sequence accuracy is 0.9097484693764781\n",
      "Epoch 3/4\n",
      "315/315 [==============================] - 2s 6ms/step - loss: 0.1446 - val_loss: 0.2118\n"
     ]
    },
    {
     "name": "stderr",
     "output_type": "stream",
     "text": [
      "WARNING:absl:Found untraced functions such as lstm_cell_layer_call_fn, lstm_cell_layer_call_and_return_conditional_losses, lstm_cell_layer_call_fn, lstm_cell_layer_call_and_return_conditional_losses, lstm_cell_layer_call_and_return_conditional_losses while saving (showing 5 of 5). These functions will not be directly callable after loading.\n"
     ]
    },
    {
     "name": "stdout",
     "output_type": "stream",
     "text": [
      "INFO:tensorflow:Assets written to: /aiffel/aiffel/aiffelthon/wandb/run-20221113_113121-t3hlw2w8/files/model-best/assets\n"
     ]
    },
    {
     "name": "stderr",
     "output_type": "stream",
     "text": [
      "INFO:tensorflow:Assets written to: /aiffel/aiffel/aiffelthon/wandb/run-20221113_113121-t3hlw2w8/files/model-best/assets\n",
      "\u001b[34m\u001b[1mwandb\u001b[0m: Adding directory to artifact (/aiffel/aiffel/aiffelthon/wandb/run-20221113_113121-t3hlw2w8/files/model-best)... Done. 0.0s\n"
     ]
    },
    {
     "name": "stdout",
     "output_type": "stream",
     "text": [
      "sequence accuracy is 0.9094666578255199\n",
      "Epoch 4/4\n",
      "315/315 [==============================] - 2s 6ms/step - loss: 0.1070 - val_loss: 0.2078\n"
     ]
    },
    {
     "name": "stderr",
     "output_type": "stream",
     "text": [
      "WARNING:absl:Found untraced functions such as lstm_cell_layer_call_fn, lstm_cell_layer_call_and_return_conditional_losses, lstm_cell_layer_call_fn, lstm_cell_layer_call_and_return_conditional_losses, lstm_cell_layer_call_and_return_conditional_losses while saving (showing 5 of 5). These functions will not be directly callable after loading.\n"
     ]
    },
    {
     "name": "stdout",
     "output_type": "stream",
     "text": [
      "INFO:tensorflow:Assets written to: /aiffel/aiffel/aiffelthon/wandb/run-20221113_113121-t3hlw2w8/files/model-best/assets\n"
     ]
    },
    {
     "name": "stderr",
     "output_type": "stream",
     "text": [
      "INFO:tensorflow:Assets written to: /aiffel/aiffel/aiffelthon/wandb/run-20221113_113121-t3hlw2w8/files/model-best/assets\n",
      "\u001b[34m\u001b[1mwandb\u001b[0m: Adding directory to artifact (/aiffel/aiffel/aiffelthon/wandb/run-20221113_113121-t3hlw2w8/files/model-best)... Done. 0.0s\n"
     ]
    },
    {
     "name": "stdout",
     "output_type": "stream",
     "text": [
      "sequence accuracy is 0.8986003359635745\n"
     ]
    },
    {
     "data": {
      "text/html": [
       "Waiting for W&B process to finish... <strong style=\"color:green\">(success).</strong>"
      ],
      "text/plain": [
       "<IPython.core.display.HTML object>"
      ]
     },
     "metadata": {},
     "output_type": "display_data"
    },
    {
     "data": {
      "text/html": [
       "<style>\n",
       "    table.wandb td:nth-child(1) { padding: 0 10px; text-align: left ; width: auto;} td:nth-child(2) {text-align: left ; width: 100%}\n",
       "    .wandb-row { display: flex; flex-direction: row; flex-wrap: wrap; justify-content: flex-start; width: 100% }\n",
       "    .wandb-col { display: flex; flex-direction: column; flex-basis: 100%; flex: 1; padding: 10px; }\n",
       "    </style>\n",
       "<div class=\"wandb-row\"><div class=\"wandb-col\"><h3>Run history:</h3><br/><table class=\"wandb\"><tr><td>Validation Acc :</td><td>▁</td></tr><tr><td>epoch</td><td>▁▃▆█</td></tr><tr><td>loss</td><td>█▃▃▁</td></tr><tr><td>val_loss</td><td>█▃▂▁</td></tr></table><br/></div><div class=\"wandb-col\"><h3>Run summary:</h3><br/><table class=\"wandb\"><tr><td>Validation Acc :</td><td>0.8986</td></tr><tr><td>best_epoch</td><td>3</td></tr><tr><td>best_val_loss</td><td>0.20785</td></tr><tr><td>epoch</td><td>3</td></tr><tr><td>loss</td><td>0.10698</td></tr><tr><td>val_loss</td><td>0.20785</td></tr></table><br/></div></div>"
      ],
      "text/plain": [
       "<IPython.core.display.HTML object>"
      ]
     },
     "metadata": {},
     "output_type": "display_data"
    },
    {
     "data": {
      "text/html": [
       "Synced <strong style=\"color:#cdcd00\">fragrant-sweep-7</strong>: <a href=\"https://wandb.ai/chhyyi/redzone_LSTM_sweep/runs/t3hlw2w8\" target=\"_blank\">https://wandb.ai/chhyyi/redzone_LSTM_sweep/runs/t3hlw2w8</a><br/>Synced 5 W&B file(s), 1 media file(s), 13 artifact file(s) and 1 other file(s)"
      ],
      "text/plain": [
       "<IPython.core.display.HTML object>"
      ]
     },
     "metadata": {},
     "output_type": "display_data"
    },
    {
     "data": {
      "text/html": [
       "Find logs at: <code>./wandb/run-20221113_113121-t3hlw2w8/logs</code>"
      ],
      "text/plain": [
       "<IPython.core.display.HTML object>"
      ]
     },
     "metadata": {},
     "output_type": "display_data"
    },
    {
     "name": "stderr",
     "output_type": "stream",
     "text": [
      "\u001b[34m\u001b[1mwandb\u001b[0m: Agent Starting Run: st1nb25s with config:\n",
      "\u001b[34m\u001b[1mwandb\u001b[0m: \tepochs: 1\n",
      "\u001b[34m\u001b[1mwandb\u001b[0m: \tlearning_rate: 0.0032\n",
      "\u001b[34m\u001b[1mwandb\u001b[0m: \tsplit_train_ratio: 0.5\n",
      "\u001b[34m\u001b[1mwandb\u001b[0m: \tstride_inside_seq: 9\n",
      "\u001b[34m\u001b[1mwandb\u001b[0m: \tunit_LSTM0: 32\n"
     ]
    },
    {
     "data": {
      "application/vnd.jupyter.widget-view+json": {
       "model_id": "b904edd01563402db18f1f061b7eed03",
       "version_major": 2,
       "version_minor": 0
      },
      "text/plain": [
       "VBox(children=(Label(value='Waiting for wandb.init()...\\r'), FloatProgress(value=0.01667020826668401, max=1.0)…"
      ]
     },
     "metadata": {},
     "output_type": "display_data"
    },
    {
     "data": {
      "text/html": [
       "Tracking run with wandb version 0.13.5"
      ],
      "text/plain": [
       "<IPython.core.display.HTML object>"
      ]
     },
     "metadata": {},
     "output_type": "display_data"
    },
    {
     "data": {
      "text/html": [
       "Run data is saved locally in <code>/aiffel/aiffel/aiffelthon/wandb/run-20221113_113408-st1nb25s</code>"
      ],
      "text/plain": [
       "<IPython.core.display.HTML object>"
      ]
     },
     "metadata": {},
     "output_type": "display_data"
    },
    {
     "data": {
      "text/html": [
       "Syncing run <strong><a href=\"https://wandb.ai/chhyyi/redzone_LSTM_sweep/runs/st1nb25s\" target=\"_blank\">wild-sweep-8</a></strong> to <a href=\"https://wandb.ai/chhyyi/redzone_LSTM_sweep\" target=\"_blank\">Weights & Biases</a> (<a href=\"https://wandb.me/run\" target=\"_blank\">docs</a>)<br/>Sweep page:  <a href=\"https://wandb.ai/chhyyi/redzone_LSTM_sweep/sweeps/habtjdmw\" target=\"_blank\">https://wandb.ai/chhyyi/redzone_LSTM_sweep/sweeps/habtjdmw</a>"
      ],
      "text/plain": [
       "<IPython.core.display.HTML object>"
      ]
     },
     "metadata": {},
     "output_type": "display_data"
    },
    {
     "name": "stdout",
     "output_type": "stream",
     "text": [
      "loaded dataset. Generating sequences\n",
      "Any missing values exist: False\n",
      "train dataset columns: Index(['풍속(m/s)', '풍향(deg)', '기온(°C)', '수온(°C)', '강수량(mm)', '풍속(m/s).1',\n",
      "       '풍향(deg).1', '기온(°C).1', '수온(°C).1', '강수량(mm).1', '풍속(m/s).2',\n",
      "       '풍향(deg).2', '기온(°C).2', '수온(°C).2', '강수량(mm).2', '풍속(m/s).3',\n",
      "       '풍향(deg).3', '기온(°C).3', '수온(°C).3', '강수량(mm).3', '풍속(m/s).4',\n",
      "       '풍향(deg).4', '기온(°C).4', '수온(°C).4', '강수량(mm).4', '적조발생'],\n",
      "      dtype='object')\n",
      "12566 25133\n",
      "(12566, 8, 25) (12567, 8, 25) (12566, 8) (12567, 8) \n",
      "\n",
      "\n",
      "197/197 [==============================] - 2s 6ms/step - loss: 0.1674 - val_loss: 0.2995\n"
     ]
    },
    {
     "name": "stderr",
     "output_type": "stream",
     "text": [
      "WARNING:absl:Found untraced functions such as lstm_cell_layer_call_fn, lstm_cell_layer_call_and_return_conditional_losses, lstm_cell_layer_call_fn, lstm_cell_layer_call_and_return_conditional_losses, lstm_cell_layer_call_and_return_conditional_losses while saving (showing 5 of 5). These functions will not be directly callable after loading.\n"
     ]
    },
    {
     "name": "stdout",
     "output_type": "stream",
     "text": [
      "INFO:tensorflow:Assets written to: /aiffel/aiffel/aiffelthon/wandb/run-20221113_113408-st1nb25s/files/model-best/assets\n"
     ]
    },
    {
     "name": "stderr",
     "output_type": "stream",
     "text": [
      "INFO:tensorflow:Assets written to: /aiffel/aiffel/aiffelthon/wandb/run-20221113_113408-st1nb25s/files/model-best/assets\n",
      "\u001b[34m\u001b[1mwandb\u001b[0m: Adding directory to artifact (/aiffel/aiffel/aiffelthon/wandb/run-20221113_113408-st1nb25s/files/model-best)... Done. 0.0s\n"
     ]
    },
    {
     "name": "stdout",
     "output_type": "stream",
     "text": [
      "sequence accuracy is 0.9256684172833611\n"
     ]
    },
    {
     "data": {
      "text/html": [
       "Waiting for W&B process to finish... <strong style=\"color:green\">(success).</strong>"
      ],
      "text/plain": [
       "<IPython.core.display.HTML object>"
      ]
     },
     "metadata": {},
     "output_type": "display_data"
    },
    {
     "data": {
      "text/html": [
       "<style>\n",
       "    table.wandb td:nth-child(1) { padding: 0 10px; text-align: left ; width: auto;} td:nth-child(2) {text-align: left ; width: 100%}\n",
       "    .wandb-row { display: flex; flex-direction: row; flex-wrap: wrap; justify-content: flex-start; width: 100% }\n",
       "    .wandb-col { display: flex; flex-direction: column; flex-basis: 100%; flex: 1; padding: 10px; }\n",
       "    </style>\n",
       "<div class=\"wandb-row\"><div class=\"wandb-col\"><h3>Run history:</h3><br/><table class=\"wandb\"><tr><td>Validation Acc :</td><td>▁</td></tr><tr><td>epoch</td><td>▁</td></tr><tr><td>loss</td><td>▁</td></tr><tr><td>val_loss</td><td>▁</td></tr></table><br/></div><div class=\"wandb-col\"><h3>Run summary:</h3><br/><table class=\"wandb\"><tr><td>Validation Acc :</td><td>0.92567</td></tr><tr><td>best_epoch</td><td>0</td></tr><tr><td>best_val_loss</td><td>0.2995</td></tr><tr><td>epoch</td><td>0</td></tr><tr><td>loss</td><td>0.16739</td></tr><tr><td>val_loss</td><td>0.2995</td></tr></table><br/></div></div>"
      ],
      "text/plain": [
       "<IPython.core.display.HTML object>"
      ]
     },
     "metadata": {},
     "output_type": "display_data"
    },
    {
     "data": {
      "text/html": [
       "Synced <strong style=\"color:#cdcd00\">wild-sweep-8</strong>: <a href=\"https://wandb.ai/chhyyi/redzone_LSTM_sweep/runs/st1nb25s\" target=\"_blank\">https://wandb.ai/chhyyi/redzone_LSTM_sweep/runs/st1nb25s</a><br/>Synced 5 W&B file(s), 1 media file(s), 4 artifact file(s) and 1 other file(s)"
      ],
      "text/plain": [
       "<IPython.core.display.HTML object>"
      ]
     },
     "metadata": {},
     "output_type": "display_data"
    },
    {
     "data": {
      "text/html": [
       "Find logs at: <code>./wandb/run-20221113_113408-st1nb25s/logs</code>"
      ],
      "text/plain": [
       "<IPython.core.display.HTML object>"
      ]
     },
     "metadata": {},
     "output_type": "display_data"
    },
    {
     "name": "stderr",
     "output_type": "stream",
     "text": [
      "\u001b[34m\u001b[1mwandb\u001b[0m: Sweep Agent: Waiting for job.\n",
      "\u001b[34m\u001b[1mwandb\u001b[0m: Job received.\n",
      "\u001b[34m\u001b[1mwandb\u001b[0m: Agent Starting Run: h9z7qez8 with config:\n",
      "\u001b[34m\u001b[1mwandb\u001b[0m: \tepochs: 8\n",
      "\u001b[34m\u001b[1mwandb\u001b[0m: \tlearning_rate: 0.0032\n",
      "\u001b[34m\u001b[1mwandb\u001b[0m: \tsplit_train_ratio: 0.5\n",
      "\u001b[34m\u001b[1mwandb\u001b[0m: \tstride_inside_seq: 9\n",
      "\u001b[34m\u001b[1mwandb\u001b[0m: \tunit_LSTM0: 256\n"
     ]
    },
    {
     "data": {
      "text/html": [
       "Tracking run with wandb version 0.13.5"
      ],
      "text/plain": [
       "<IPython.core.display.HTML object>"
      ]
     },
     "metadata": {},
     "output_type": "display_data"
    },
    {
     "data": {
      "text/html": [
       "Run data is saved locally in <code>/aiffel/aiffel/aiffelthon/wandb/run-20221113_113452-h9z7qez8</code>"
      ],
      "text/plain": [
       "<IPython.core.display.HTML object>"
      ]
     },
     "metadata": {},
     "output_type": "display_data"
    },
    {
     "data": {
      "text/html": [
       "Syncing run <strong><a href=\"https://wandb.ai/chhyyi/redzone_LSTM_sweep/runs/h9z7qez8\" target=\"_blank\">autumn-sweep-9</a></strong> to <a href=\"https://wandb.ai/chhyyi/redzone_LSTM_sweep\" target=\"_blank\">Weights & Biases</a> (<a href=\"https://wandb.me/run\" target=\"_blank\">docs</a>)<br/>Sweep page:  <a href=\"https://wandb.ai/chhyyi/redzone_LSTM_sweep/sweeps/habtjdmw\" target=\"_blank\">https://wandb.ai/chhyyi/redzone_LSTM_sweep/sweeps/habtjdmw</a>"
      ],
      "text/plain": [
       "<IPython.core.display.HTML object>"
      ]
     },
     "metadata": {},
     "output_type": "display_data"
    },
    {
     "name": "stdout",
     "output_type": "stream",
     "text": [
      "loaded dataset. Generating sequences\n",
      "Any missing values exist: False\n",
      "train dataset columns: Index(['풍속(m/s)', '풍향(deg)', '기온(°C)', '수온(°C)', '강수량(mm)', '풍속(m/s).1',\n",
      "       '풍향(deg).1', '기온(°C).1', '수온(°C).1', '강수량(mm).1', '풍속(m/s).2',\n",
      "       '풍향(deg).2', '기온(°C).2', '수온(°C).2', '강수량(mm).2', '풍속(m/s).3',\n",
      "       '풍향(deg).3', '기온(°C).3', '수온(°C).3', '강수량(mm).3', '풍속(m/s).4',\n",
      "       '풍향(deg).4', '기온(°C).4', '수온(°C).4', '강수량(mm).4', '적조발생'],\n",
      "      dtype='object')\n",
      "12566 25133\n",
      "(12566, 8, 25) (12567, 8, 25) (12566, 8) (12567, 8) \n",
      "\n",
      "\n",
      "Epoch 1/8\n",
      "197/197 [==============================] - 2s 7ms/step - loss: 0.1330 - val_loss: 0.3679\n"
     ]
    },
    {
     "name": "stderr",
     "output_type": "stream",
     "text": [
      "WARNING:absl:Found untraced functions such as lstm_cell_layer_call_fn, lstm_cell_layer_call_and_return_conditional_losses, lstm_cell_layer_call_fn, lstm_cell_layer_call_and_return_conditional_losses, lstm_cell_layer_call_and_return_conditional_losses while saving (showing 5 of 5). These functions will not be directly callable after loading.\n"
     ]
    },
    {
     "name": "stdout",
     "output_type": "stream",
     "text": [
      "INFO:tensorflow:Assets written to: /aiffel/aiffel/aiffelthon/wandb/run-20221113_113452-h9z7qez8/files/model-best/assets\n"
     ]
    },
    {
     "name": "stderr",
     "output_type": "stream",
     "text": [
      "INFO:tensorflow:Assets written to: /aiffel/aiffel/aiffelthon/wandb/run-20221113_113452-h9z7qez8/files/model-best/assets\n",
      "\u001b[34m\u001b[1mwandb\u001b[0m: Adding directory to artifact (/aiffel/aiffel/aiffelthon/wandb/run-20221113_113452-h9z7qez8/files/model-best)... Done. 0.0s\n"
     ]
    },
    {
     "name": "stdout",
     "output_type": "stream",
     "text": [
      "sequence accuracy is 0.9250616694517387\n",
      "Epoch 2/8\n",
      "197/197 [==============================] - 1s 5ms/step - loss: 0.1007 - val_loss: 0.3863\n",
      "sequence accuracy is 0.9273494071775285\n",
      "Epoch 3/8\n",
      "197/197 [==============================] - 1s 5ms/step - loss: 0.0785 - val_loss: 0.3859\n",
      "sequence accuracy is 0.9246240152781093\n",
      "Epoch 4/8\n",
      "197/197 [==============================] - 1s 5ms/step - loss: 0.0451 - val_loss: 0.5464\n",
      "sequence accuracy is 0.927498607463993\n",
      "Epoch 5/8\n",
      "197/197 [==============================] - 1s 5ms/step - loss: 0.0264 - val_loss: 0.6479\n",
      "sequence accuracy is 0.9189345110209278\n",
      "Epoch 6/8\n",
      "197/197 [==============================] - 1s 5ms/step - loss: 0.0203 - val_loss: 0.7815\n",
      "sequence accuracy is 0.910937375666428\n",
      "Epoch 7/8\n",
      "197/197 [==============================] - 1s 5ms/step - loss: 0.0081 - val_loss: 0.8389\n",
      "sequence accuracy is 0.9163284793506804\n",
      "Epoch 8/8\n",
      "197/197 [==============================] - 1s 5ms/step - loss: 0.0094 - val_loss: 0.8673\n",
      "sequence accuracy is 0.9193821118803215\n"
     ]
    },
    {
     "data": {
      "text/html": [
       "Waiting for W&B process to finish... <strong style=\"color:green\">(success).</strong>"
      ],
      "text/plain": [
       "<IPython.core.display.HTML object>"
      ]
     },
     "metadata": {},
     "output_type": "display_data"
    },
    {
     "data": {
      "application/vnd.jupyter.widget-view+json": {
       "model_id": "0d9f495d6de240d795b81e712b823c27",
       "version_major": 2,
       "version_minor": 0
      },
      "text/plain": [
       "VBox(children=(Label(value='7.496 MB of 7.496 MB uploaded (0.000 MB deduped)\\r'), FloatProgress(value=1.0, max…"
      ]
     },
     "metadata": {},
     "output_type": "display_data"
    },
    {
     "data": {
      "text/html": [
       "<style>\n",
       "    table.wandb td:nth-child(1) { padding: 0 10px; text-align: left ; width: auto;} td:nth-child(2) {text-align: left ; width: 100%}\n",
       "    .wandb-row { display: flex; flex-direction: row; flex-wrap: wrap; justify-content: flex-start; width: 100% }\n",
       "    .wandb-col { display: flex; flex-direction: column; flex-basis: 100%; flex: 1; padding: 10px; }\n",
       "    </style>\n",
       "<div class=\"wandb-row\"><div class=\"wandb-col\"><h3>Run history:</h3><br/><table class=\"wandb\"><tr><td>Validation Acc :</td><td>▁</td></tr><tr><td>epoch</td><td>▁▂▃▄▅▆▇█</td></tr><tr><td>loss</td><td>█▆▅▃▂▂▁▁</td></tr><tr><td>val_loss</td><td>▁▁▁▄▅▇██</td></tr></table><br/></div><div class=\"wandb-col\"><h3>Run summary:</h3><br/><table class=\"wandb\"><tr><td>Validation Acc :</td><td>0.91938</td></tr><tr><td>best_epoch</td><td>0</td></tr><tr><td>best_val_loss</td><td>0.36785</td></tr><tr><td>epoch</td><td>7</td></tr><tr><td>loss</td><td>0.0094</td></tr><tr><td>val_loss</td><td>0.86733</td></tr></table><br/></div></div>"
      ],
      "text/plain": [
       "<IPython.core.display.HTML object>"
      ]
     },
     "metadata": {},
     "output_type": "display_data"
    },
    {
     "data": {
      "text/html": [
       "Synced <strong style=\"color:#cdcd00\">autumn-sweep-9</strong>: <a href=\"https://wandb.ai/chhyyi/redzone_LSTM_sweep/runs/h9z7qez8\" target=\"_blank\">https://wandb.ai/chhyyi/redzone_LSTM_sweep/runs/h9z7qez8</a><br/>Synced 5 W&B file(s), 1 media file(s), 4 artifact file(s) and 1 other file(s)"
      ],
      "text/plain": [
       "<IPython.core.display.HTML object>"
      ]
     },
     "metadata": {},
     "output_type": "display_data"
    },
    {
     "data": {
      "text/html": [
       "Find logs at: <code>./wandb/run-20221113_113452-h9z7qez8/logs</code>"
      ],
      "text/plain": [
       "<IPython.core.display.HTML object>"
      ]
     },
     "metadata": {},
     "output_type": "display_data"
    },
    {
     "name": "stderr",
     "output_type": "stream",
     "text": [
      "\u001b[34m\u001b[1mwandb\u001b[0m: Sweep Agent: Waiting for job.\n",
      "\u001b[34m\u001b[1mwandb\u001b[0m: Job received.\n",
      "\u001b[34m\u001b[1mwandb\u001b[0m: Agent Starting Run: 1z09d5k2 with config:\n",
      "\u001b[34m\u001b[1mwandb\u001b[0m: \tepochs: 12\n",
      "\u001b[34m\u001b[1mwandb\u001b[0m: \tlearning_rate: 0.0032\n",
      "\u001b[34m\u001b[1mwandb\u001b[0m: \tsplit_train_ratio: 0.8\n",
      "\u001b[34m\u001b[1mwandb\u001b[0m: \tstride_inside_seq: 9\n",
      "\u001b[34m\u001b[1mwandb\u001b[0m: \tunit_LSTM0: 128\n"
     ]
    },
    {
     "data": {
      "application/vnd.jupyter.widget-view+json": {
       "model_id": "6b5b826221f24c5dab69302fa0257f26",
       "version_major": 2,
       "version_minor": 0
      },
      "text/plain": [
       "VBox(children=(Label(value='Waiting for wandb.init()...\\r'), FloatProgress(value=0.01667021493340144, max=1.0)…"
      ]
     },
     "metadata": {},
     "output_type": "display_data"
    },
    {
     "data": {
      "text/html": [
       "Tracking run with wandb version 0.13.5"
      ],
      "text/plain": [
       "<IPython.core.display.HTML object>"
      ]
     },
     "metadata": {},
     "output_type": "display_data"
    },
    {
     "data": {
      "text/html": [
       "Run data is saved locally in <code>/aiffel/aiffel/aiffelthon/wandb/run-20221113_113607-1z09d5k2</code>"
      ],
      "text/plain": [
       "<IPython.core.display.HTML object>"
      ]
     },
     "metadata": {},
     "output_type": "display_data"
    },
    {
     "data": {
      "text/html": [
       "Syncing run <strong><a href=\"https://wandb.ai/chhyyi/redzone_LSTM_sweep/runs/1z09d5k2\" target=\"_blank\">helpful-sweep-10</a></strong> to <a href=\"https://wandb.ai/chhyyi/redzone_LSTM_sweep\" target=\"_blank\">Weights & Biases</a> (<a href=\"https://wandb.me/run\" target=\"_blank\">docs</a>)<br/>Sweep page:  <a href=\"https://wandb.ai/chhyyi/redzone_LSTM_sweep/sweeps/habtjdmw\" target=\"_blank\">https://wandb.ai/chhyyi/redzone_LSTM_sweep/sweeps/habtjdmw</a>"
      ],
      "text/plain": [
       "<IPython.core.display.HTML object>"
      ]
     },
     "metadata": {},
     "output_type": "display_data"
    },
    {
     "name": "stdout",
     "output_type": "stream",
     "text": [
      "loaded dataset. Generating sequences\n",
      "Any missing values exist: False\n",
      "train dataset columns: Index(['풍속(m/s)', '풍향(deg)', '기온(°C)', '수온(°C)', '강수량(mm)', '풍속(m/s).1',\n",
      "       '풍향(deg).1', '기온(°C).1', '수온(°C).1', '강수량(mm).1', '풍속(m/s).2',\n",
      "       '풍향(deg).2', '기온(°C).2', '수온(°C).2', '강수량(mm).2', '풍속(m/s).3',\n",
      "       '풍향(deg).3', '기온(°C).3', '수온(°C).3', '강수량(mm).3', '풍속(m/s).4',\n",
      "       '풍향(deg).4', '기온(°C).4', '수온(°C).4', '강수량(mm).4', '적조발생'],\n",
      "      dtype='object')\n",
      "20106 25133\n",
      "(20106, 8, 25) (5027, 8, 25) (20106, 8) (5027, 8) \n",
      "\n",
      "\n",
      "Epoch 1/12\n",
      "315/315 [==============================] - 3s 5ms/step - loss: 0.1383 - val_loss: 0.2459\n"
     ]
    },
    {
     "name": "stderr",
     "output_type": "stream",
     "text": [
      "WARNING:absl:Found untraced functions such as lstm_cell_layer_call_fn, lstm_cell_layer_call_and_return_conditional_losses, lstm_cell_layer_call_fn, lstm_cell_layer_call_and_return_conditional_losses, lstm_cell_layer_call_and_return_conditional_losses while saving (showing 5 of 5). These functions will not be directly callable after loading.\n"
     ]
    },
    {
     "name": "stdout",
     "output_type": "stream",
     "text": [
      "INFO:tensorflow:Assets written to: /aiffel/aiffel/aiffelthon/wandb/run-20221113_113607-1z09d5k2/files/model-best/assets\n"
     ]
    },
    {
     "name": "stderr",
     "output_type": "stream",
     "text": [
      "INFO:tensorflow:Assets written to: /aiffel/aiffel/aiffelthon/wandb/run-20221113_113607-1z09d5k2/files/model-best/assets\n",
      "\u001b[34m\u001b[1mwandb\u001b[0m: Adding directory to artifact (/aiffel/aiffel/aiffelthon/wandb/run-20221113_113607-1z09d5k2/files/model-best)... Done. 0.0s\n"
     ]
    },
    {
     "name": "stdout",
     "output_type": "stream",
     "text": [
      "sequence accuracy is 0.8729858762681519\n",
      "Epoch 2/12\n",
      "315/315 [==============================] - 1s 4ms/step - loss: 0.0792 - val_loss: 0.1936\n"
     ]
    },
    {
     "name": "stderr",
     "output_type": "stream",
     "text": [
      "WARNING:absl:Found untraced functions such as lstm_cell_layer_call_fn, lstm_cell_layer_call_and_return_conditional_losses, lstm_cell_layer_call_fn, lstm_cell_layer_call_and_return_conditional_losses, lstm_cell_layer_call_and_return_conditional_losses while saving (showing 5 of 5). These functions will not be directly callable after loading.\n"
     ]
    },
    {
     "name": "stdout",
     "output_type": "stream",
     "text": [
      "INFO:tensorflow:Assets written to: /aiffel/aiffel/aiffelthon/wandb/run-20221113_113607-1z09d5k2/files/model-best/assets\n"
     ]
    },
    {
     "name": "stderr",
     "output_type": "stream",
     "text": [
      "INFO:tensorflow:Assets written to: /aiffel/aiffel/aiffelthon/wandb/run-20221113_113607-1z09d5k2/files/model-best/assets\n",
      "\u001b[34m\u001b[1mwandb\u001b[0m: Adding directory to artifact (/aiffel/aiffel/aiffelthon/wandb/run-20221113_113607-1z09d5k2/files/model-best)... Done. 0.0s\n"
     ]
    },
    {
     "name": "stdout",
     "output_type": "stream",
     "text": [
      "sequence accuracy is 0.9132186194549433\n",
      "Epoch 3/12\n",
      "315/315 [==============================] - 1s 4ms/step - loss: 0.0514 - val_loss: 0.2244\n",
      "sequence accuracy is 0.918738810423712\n",
      "Epoch 4/12\n",
      "315/315 [==============================] - 1s 4ms/step - loss: 0.0321 - val_loss: 0.2320\n",
      "sequence accuracy is 0.9316938531927591\n",
      "Epoch 5/12\n",
      "315/315 [==============================] - 1s 4ms/step - loss: 0.0269 - val_loss: 0.2921\n",
      "sequence accuracy is 0.9205291426297991\n",
      "Epoch 6/12\n",
      "315/315 [==============================] - 1s 4ms/step - loss: 0.0152 - val_loss: 0.2905\n",
      "sequence accuracy is 0.9296548637358265\n",
      "Epoch 7/12\n",
      "315/315 [==============================] - 1s 4ms/step - loss: 0.0133 - val_loss: 0.3196\n",
      "sequence accuracy is 0.90876765466481\n",
      "Epoch 8/12\n",
      "315/315 [==============================] - 1s 4ms/step - loss: 0.0097 - val_loss: 0.4202\n",
      "sequence accuracy is 0.8973294211259201\n",
      "Epoch 9/12\n",
      "315/315 [==============================] - 1s 4ms/step - loss: 0.0075 - val_loss: 0.4206\n",
      "sequence accuracy is 0.9125721106027451\n",
      "Epoch 10/12\n",
      "315/315 [==============================] - 1s 4ms/step - loss: 0.0138 - val_loss: 0.4492\n",
      "sequence accuracy is 0.9155311318878059\n",
      "Epoch 11/12\n",
      "315/315 [==============================] - 1s 4ms/step - loss: 0.0061 - val_loss: 0.4318\n",
      "sequence accuracy is 0.9129450964790133\n",
      "Epoch 12/12\n",
      "315/315 [==============================] - 1s 4ms/step - loss: 0.0036 - val_loss: 0.5321\n",
      "sequence accuracy is 0.9118510045752934\n"
     ]
    },
    {
     "data": {
      "text/html": [
       "Waiting for W&B process to finish... <strong style=\"color:green\">(success).</strong>"
      ],
      "text/plain": [
       "<IPython.core.display.HTML object>"
      ]
     },
     "metadata": {},
     "output_type": "display_data"
    },
    {
     "data": {
      "text/html": [
       "<style>\n",
       "    table.wandb td:nth-child(1) { padding: 0 10px; text-align: left ; width: auto;} td:nth-child(2) {text-align: left ; width: 100%}\n",
       "    .wandb-row { display: flex; flex-direction: row; flex-wrap: wrap; justify-content: flex-start; width: 100% }\n",
       "    .wandb-col { display: flex; flex-direction: column; flex-basis: 100%; flex: 1; padding: 10px; }\n",
       "    </style>\n",
       "<div class=\"wandb-row\"><div class=\"wandb-col\"><h3>Run history:</h3><br/><table class=\"wandb\"><tr><td>Validation Acc :</td><td>▁</td></tr><tr><td>epoch</td><td>▁▂▂▃▄▄▅▅▆▇▇█</td></tr><tr><td>loss</td><td>█▅▃▂▂▂▂▁▁▂▁▁</td></tr><tr><td>val_loss</td><td>▂▁▂▂▃▃▄▆▆▆▆█</td></tr></table><br/></div><div class=\"wandb-col\"><h3>Run summary:</h3><br/><table class=\"wandb\"><tr><td>Validation Acc :</td><td>0.91185</td></tr><tr><td>best_epoch</td><td>1</td></tr><tr><td>best_val_loss</td><td>0.19362</td></tr><tr><td>epoch</td><td>11</td></tr><tr><td>loss</td><td>0.00356</td></tr><tr><td>val_loss</td><td>0.53213</td></tr></table><br/></div></div>"
      ],
      "text/plain": [
       "<IPython.core.display.HTML object>"
      ]
     },
     "metadata": {},
     "output_type": "display_data"
    },
    {
     "data": {
      "text/html": [
       "Synced <strong style=\"color:#cdcd00\">helpful-sweep-10</strong>: <a href=\"https://wandb.ai/chhyyi/redzone_LSTM_sweep/runs/1z09d5k2\" target=\"_blank\">https://wandb.ai/chhyyi/redzone_LSTM_sweep/runs/1z09d5k2</a><br/>Synced 5 W&B file(s), 1 media file(s), 7 artifact file(s) and 1 other file(s)"
      ],
      "text/plain": [
       "<IPython.core.display.HTML object>"
      ]
     },
     "metadata": {},
     "output_type": "display_data"
    },
    {
     "data": {
      "text/html": [
       "Find logs at: <code>./wandb/run-20221113_113607-1z09d5k2/logs</code>"
      ],
      "text/plain": [
       "<IPython.core.display.HTML object>"
      ]
     },
     "metadata": {},
     "output_type": "display_data"
    },
    {
     "name": "stderr",
     "output_type": "stream",
     "text": [
      "\u001b[34m\u001b[1mwandb\u001b[0m: Agent Starting Run: ok700zvu with config:\n",
      "\u001b[34m\u001b[1mwandb\u001b[0m: \tepochs: 1\n",
      "\u001b[34m\u001b[1mwandb\u001b[0m: \tlearning_rate: 0.0002\n",
      "\u001b[34m\u001b[1mwandb\u001b[0m: \tsplit_train_ratio: 0.5\n",
      "\u001b[34m\u001b[1mwandb\u001b[0m: \tstride_inside_seq: 3\n",
      "\u001b[34m\u001b[1mwandb\u001b[0m: \tunit_LSTM0: 128\n"
     ]
    },
    {
     "data": {
      "text/html": [
       "Tracking run with wandb version 0.13.5"
      ],
      "text/plain": [
       "<IPython.core.display.HTML object>"
      ]
     },
     "metadata": {},
     "output_type": "display_data"
    },
    {
     "data": {
      "text/html": [
       "Run data is saved locally in <code>/aiffel/aiffel/aiffelthon/wandb/run-20221113_113752-ok700zvu</code>"
      ],
      "text/plain": [
       "<IPython.core.display.HTML object>"
      ]
     },
     "metadata": {},
     "output_type": "display_data"
    },
    {
     "data": {
      "text/html": [
       "Syncing run <strong><a href=\"https://wandb.ai/chhyyi/redzone_LSTM_sweep/runs/ok700zvu\" target=\"_blank\">driven-sweep-11</a></strong> to <a href=\"https://wandb.ai/chhyyi/redzone_LSTM_sweep\" target=\"_blank\">Weights & Biases</a> (<a href=\"https://wandb.me/run\" target=\"_blank\">docs</a>)<br/>Sweep page:  <a href=\"https://wandb.ai/chhyyi/redzone_LSTM_sweep/sweeps/habtjdmw\" target=\"_blank\">https://wandb.ai/chhyyi/redzone_LSTM_sweep/sweeps/habtjdmw</a>"
      ],
      "text/plain": [
       "<IPython.core.display.HTML object>"
      ]
     },
     "metadata": {},
     "output_type": "display_data"
    },
    {
     "name": "stdout",
     "output_type": "stream",
     "text": [
      "loaded dataset. Generating sequences\n",
      "Any missing values exist: False\n",
      "train dataset columns: Index(['풍속(m/s)', '풍향(deg)', '기온(°C)', '수온(°C)', '강수량(mm)', '풍속(m/s).1',\n",
      "       '풍향(deg).1', '기온(°C).1', '수온(°C).1', '강수량(mm).1', '풍속(m/s).2',\n",
      "       '풍향(deg).2', '기온(°C).2', '수온(°C).2', '강수량(mm).2', '풍속(m/s).3',\n",
      "       '풍향(deg).3', '기온(°C).3', '수온(°C).3', '강수량(mm).3', '풍속(m/s).4',\n",
      "       '풍향(deg).4', '기온(°C).4', '수온(°C).4', '강수량(mm).4', '적조발생'],\n",
      "      dtype='object')\n",
      "12566 25133\n",
      "(12566, 24, 25) (12567, 24, 25) (12566, 24) (12567, 24) \n",
      "\n",
      "\n",
      "197/197 [==============================] - 3s 8ms/step - loss: 0.2982 - val_loss: 0.2539\n"
     ]
    },
    {
     "name": "stderr",
     "output_type": "stream",
     "text": [
      "WARNING:absl:Found untraced functions such as lstm_cell_layer_call_fn, lstm_cell_layer_call_and_return_conditional_losses, lstm_cell_layer_call_fn, lstm_cell_layer_call_and_return_conditional_losses, lstm_cell_layer_call_and_return_conditional_losses while saving (showing 5 of 5). These functions will not be directly callable after loading.\n"
     ]
    },
    {
     "name": "stdout",
     "output_type": "stream",
     "text": [
      "INFO:tensorflow:Assets written to: /aiffel/aiffel/aiffelthon/wandb/run-20221113_113752-ok700zvu/files/model-best/assets\n"
     ]
    },
    {
     "name": "stderr",
     "output_type": "stream",
     "text": [
      "INFO:tensorflow:Assets written to: /aiffel/aiffel/aiffelthon/wandb/run-20221113_113752-ok700zvu/files/model-best/assets\n",
      "\u001b[34m\u001b[1mwandb\u001b[0m: Adding directory to artifact (/aiffel/aiffel/aiffelthon/wandb/run-20221113_113752-ok700zvu/files/model-best)... Done. 0.0s\n"
     ]
    },
    {
     "name": "stdout",
     "output_type": "stream",
     "text": [
      "sequence accuracy is 0.9261558048858121\n"
     ]
    },
    {
     "data": {
      "text/html": [
       "Waiting for W&B process to finish... <strong style=\"color:green\">(success).</strong>"
      ],
      "text/plain": [
       "<IPython.core.display.HTML object>"
      ]
     },
     "metadata": {},
     "output_type": "display_data"
    },
    {
     "data": {
      "text/html": [
       "<style>\n",
       "    table.wandb td:nth-child(1) { padding: 0 10px; text-align: left ; width: auto;} td:nth-child(2) {text-align: left ; width: 100%}\n",
       "    .wandb-row { display: flex; flex-direction: row; flex-wrap: wrap; justify-content: flex-start; width: 100% }\n",
       "    .wandb-col { display: flex; flex-direction: column; flex-basis: 100%; flex: 1; padding: 10px; }\n",
       "    </style>\n",
       "<div class=\"wandb-row\"><div class=\"wandb-col\"><h3>Run history:</h3><br/><table class=\"wandb\"><tr><td>Validation Acc :</td><td>▁</td></tr><tr><td>epoch</td><td>▁</td></tr><tr><td>loss</td><td>▁</td></tr><tr><td>val_loss</td><td>▁</td></tr></table><br/></div><div class=\"wandb-col\"><h3>Run summary:</h3><br/><table class=\"wandb\"><tr><td>Validation Acc :</td><td>0.92616</td></tr><tr><td>best_epoch</td><td>0</td></tr><tr><td>best_val_loss</td><td>0.25387</td></tr><tr><td>epoch</td><td>0</td></tr><tr><td>loss</td><td>0.2982</td></tr><tr><td>val_loss</td><td>0.25387</td></tr></table><br/></div></div>"
      ],
      "text/plain": [
       "<IPython.core.display.HTML object>"
      ]
     },
     "metadata": {},
     "output_type": "display_data"
    },
    {
     "data": {
      "text/html": [
       "Synced <strong style=\"color:#cdcd00\">driven-sweep-11</strong>: <a href=\"https://wandb.ai/chhyyi/redzone_LSTM_sweep/runs/ok700zvu\" target=\"_blank\">https://wandb.ai/chhyyi/redzone_LSTM_sweep/runs/ok700zvu</a><br/>Synced 5 W&B file(s), 1 media file(s), 4 artifact file(s) and 1 other file(s)"
      ],
      "text/plain": [
       "<IPython.core.display.HTML object>"
      ]
     },
     "metadata": {},
     "output_type": "display_data"
    },
    {
     "data": {
      "text/html": [
       "Find logs at: <code>./wandb/run-20221113_113752-ok700zvu/logs</code>"
      ],
      "text/plain": [
       "<IPython.core.display.HTML object>"
      ]
     },
     "metadata": {},
     "output_type": "display_data"
    },
    {
     "name": "stderr",
     "output_type": "stream",
     "text": [
      "\u001b[34m\u001b[1mwandb\u001b[0m: Agent Starting Run: n4ecq7qm with config:\n",
      "\u001b[34m\u001b[1mwandb\u001b[0m: \tepochs: 1\n",
      "\u001b[34m\u001b[1mwandb\u001b[0m: \tlearning_rate: 0.0032\n",
      "\u001b[34m\u001b[1mwandb\u001b[0m: \tsplit_train_ratio: 0.5\n",
      "\u001b[34m\u001b[1mwandb\u001b[0m: \tstride_inside_seq: 1\n",
      "\u001b[34m\u001b[1mwandb\u001b[0m: \tunit_LSTM0: 64\n"
     ]
    },
    {
     "data": {
      "application/vnd.jupyter.widget-view+json": {
       "model_id": "87e67ab6a48b491481c93f67a57dd983",
       "version_major": 2,
       "version_minor": 0
      },
      "text/plain": [
       "VBox(children=(Label(value='Waiting for wandb.init()...\\r'), FloatProgress(value=0.016670335149926056, max=1.0…"
      ]
     },
     "metadata": {},
     "output_type": "display_data"
    },
    {
     "data": {
      "text/html": [
       "Tracking run with wandb version 0.13.5"
      ],
      "text/plain": [
       "<IPython.core.display.HTML object>"
      ]
     },
     "metadata": {},
     "output_type": "display_data"
    },
    {
     "data": {
      "text/html": [
       "Run data is saved locally in <code>/aiffel/aiffel/aiffelthon/wandb/run-20221113_113857-n4ecq7qm</code>"
      ],
      "text/plain": [
       "<IPython.core.display.HTML object>"
      ]
     },
     "metadata": {},
     "output_type": "display_data"
    },
    {
     "data": {
      "text/html": [
       "Syncing run <strong><a href=\"https://wandb.ai/chhyyi/redzone_LSTM_sweep/runs/n4ecq7qm\" target=\"_blank\">iconic-sweep-12</a></strong> to <a href=\"https://wandb.ai/chhyyi/redzone_LSTM_sweep\" target=\"_blank\">Weights & Biases</a> (<a href=\"https://wandb.me/run\" target=\"_blank\">docs</a>)<br/>Sweep page:  <a href=\"https://wandb.ai/chhyyi/redzone_LSTM_sweep/sweeps/habtjdmw\" target=\"_blank\">https://wandb.ai/chhyyi/redzone_LSTM_sweep/sweeps/habtjdmw</a>"
      ],
      "text/plain": [
       "<IPython.core.display.HTML object>"
      ]
     },
     "metadata": {},
     "output_type": "display_data"
    },
    {
     "name": "stdout",
     "output_type": "stream",
     "text": [
      "loaded dataset. Generating sequences\n",
      "Any missing values exist: False\n",
      "train dataset columns: Index(['풍속(m/s)', '풍향(deg)', '기온(°C)', '수온(°C)', '강수량(mm)', '풍속(m/s).1',\n",
      "       '풍향(deg).1', '기온(°C).1', '수온(°C).1', '강수량(mm).1', '풍속(m/s).2',\n",
      "       '풍향(deg).2', '기온(°C).2', '수온(°C).2', '강수량(mm).2', '풍속(m/s).3',\n",
      "       '풍향(deg).3', '기온(°C).3', '수온(°C).3', '강수량(mm).3', '풍속(m/s).4',\n",
      "       '풍향(deg).4', '기온(°C).4', '수온(°C).4', '강수량(mm).4', '적조발생'],\n",
      "      dtype='object')\n",
      "12566 25133\n",
      "(12566, 72, 25) (12567, 72, 25) (12566, 72) (12567, 72) \n",
      "\n",
      "\n",
      "197/197 [==============================] - 3s 10ms/step - loss: 0.1553 - val_loss: 0.3411\n"
     ]
    },
    {
     "name": "stderr",
     "output_type": "stream",
     "text": [
      "WARNING:absl:Found untraced functions such as lstm_cell_layer_call_fn, lstm_cell_layer_call_and_return_conditional_losses, lstm_cell_layer_call_fn, lstm_cell_layer_call_and_return_conditional_losses, lstm_cell_layer_call_and_return_conditional_losses while saving (showing 5 of 5). These functions will not be directly callable after loading.\n"
     ]
    },
    {
     "name": "stdout",
     "output_type": "stream",
     "text": [
      "INFO:tensorflow:Assets written to: /aiffel/aiffel/aiffelthon/wandb/run-20221113_113857-n4ecq7qm/files/model-best/assets\n"
     ]
    },
    {
     "name": "stderr",
     "output_type": "stream",
     "text": [
      "INFO:tensorflow:Assets written to: /aiffel/aiffel/aiffelthon/wandb/run-20221113_113857-n4ecq7qm/files/model-best/assets\n",
      "\u001b[34m\u001b[1mwandb\u001b[0m: Adding directory to artifact (/aiffel/aiffel/aiffelthon/wandb/run-20221113_113857-n4ecq7qm/files/model-best)... Done. 0.0s\n"
     ]
    },
    {
     "name": "stdout",
     "output_type": "stream",
     "text": [
      "sequence accuracy is 0.9251290858774746\n"
     ]
    },
    {
     "data": {
      "text/html": [
       "Waiting for W&B process to finish... <strong style=\"color:green\">(success).</strong>"
      ],
      "text/plain": [
       "<IPython.core.display.HTML object>"
      ]
     },
     "metadata": {},
     "output_type": "display_data"
    },
    {
     "data": {
      "text/html": [
       "<style>\n",
       "    table.wandb td:nth-child(1) { padding: 0 10px; text-align: left ; width: auto;} td:nth-child(2) {text-align: left ; width: 100%}\n",
       "    .wandb-row { display: flex; flex-direction: row; flex-wrap: wrap; justify-content: flex-start; width: 100% }\n",
       "    .wandb-col { display: flex; flex-direction: column; flex-basis: 100%; flex: 1; padding: 10px; }\n",
       "    </style>\n",
       "<div class=\"wandb-row\"><div class=\"wandb-col\"><h3>Run history:</h3><br/><table class=\"wandb\"><tr><td>Validation Acc :</td><td>▁</td></tr><tr><td>epoch</td><td>▁</td></tr><tr><td>loss</td><td>▁</td></tr><tr><td>val_loss</td><td>▁</td></tr></table><br/></div><div class=\"wandb-col\"><h3>Run summary:</h3><br/><table class=\"wandb\"><tr><td>Validation Acc :</td><td>0.92513</td></tr><tr><td>best_epoch</td><td>0</td></tr><tr><td>best_val_loss</td><td>0.34114</td></tr><tr><td>epoch</td><td>0</td></tr><tr><td>loss</td><td>0.15532</td></tr><tr><td>val_loss</td><td>0.34114</td></tr></table><br/></div></div>"
      ],
      "text/plain": [
       "<IPython.core.display.HTML object>"
      ]
     },
     "metadata": {},
     "output_type": "display_data"
    },
    {
     "data": {
      "text/html": [
       "Synced <strong style=\"color:#cdcd00\">iconic-sweep-12</strong>: <a href=\"https://wandb.ai/chhyyi/redzone_LSTM_sweep/runs/n4ecq7qm\" target=\"_blank\">https://wandb.ai/chhyyi/redzone_LSTM_sweep/runs/n4ecq7qm</a><br/>Synced 5 W&B file(s), 1 media file(s), 4 artifact file(s) and 1 other file(s)"
      ],
      "text/plain": [
       "<IPython.core.display.HTML object>"
      ]
     },
     "metadata": {},
     "output_type": "display_data"
    },
    {
     "data": {
      "text/html": [
       "Find logs at: <code>./wandb/run-20221113_113857-n4ecq7qm/logs</code>"
      ],
      "text/plain": [
       "<IPython.core.display.HTML object>"
      ]
     },
     "metadata": {},
     "output_type": "display_data"
    },
    {
     "name": "stderr",
     "output_type": "stream",
     "text": [
      "\u001b[34m\u001b[1mwandb\u001b[0m: Agent Starting Run: 54y2ud2q with config:\n",
      "\u001b[34m\u001b[1mwandb\u001b[0m: \tepochs: 3\n",
      "\u001b[34m\u001b[1mwandb\u001b[0m: \tlearning_rate: 0.001\n",
      "\u001b[34m\u001b[1mwandb\u001b[0m: \tsplit_train_ratio: 0.5\n",
      "\u001b[34m\u001b[1mwandb\u001b[0m: \tstride_inside_seq: 3\n",
      "\u001b[34m\u001b[1mwandb\u001b[0m: \tunit_LSTM0: 32\n"
     ]
    },
    {
     "data": {
      "text/html": [
       "Tracking run with wandb version 0.13.5"
      ],
      "text/plain": [
       "<IPython.core.display.HTML object>"
      ]
     },
     "metadata": {},
     "output_type": "display_data"
    },
    {
     "data": {
      "text/html": [
       "Run data is saved locally in <code>/aiffel/aiffel/aiffelthon/wandb/run-20221113_114103-54y2ud2q</code>"
      ],
      "text/plain": [
       "<IPython.core.display.HTML object>"
      ]
     },
     "metadata": {},
     "output_type": "display_data"
    },
    {
     "data": {
      "text/html": [
       "Syncing run <strong><a href=\"https://wandb.ai/chhyyi/redzone_LSTM_sweep/runs/54y2ud2q\" target=\"_blank\">rosy-sweep-13</a></strong> to <a href=\"https://wandb.ai/chhyyi/redzone_LSTM_sweep\" target=\"_blank\">Weights & Biases</a> (<a href=\"https://wandb.me/run\" target=\"_blank\">docs</a>)<br/>Sweep page:  <a href=\"https://wandb.ai/chhyyi/redzone_LSTM_sweep/sweeps/habtjdmw\" target=\"_blank\">https://wandb.ai/chhyyi/redzone_LSTM_sweep/sweeps/habtjdmw</a>"
      ],
      "text/plain": [
       "<IPython.core.display.HTML object>"
      ]
     },
     "metadata": {},
     "output_type": "display_data"
    },
    {
     "name": "stdout",
     "output_type": "stream",
     "text": [
      "loaded dataset. Generating sequences\n",
      "Any missing values exist: False\n",
      "train dataset columns: Index(['풍속(m/s)', '풍향(deg)', '기온(°C)', '수온(°C)', '강수량(mm)', '풍속(m/s).1',\n",
      "       '풍향(deg).1', '기온(°C).1', '수온(°C).1', '강수량(mm).1', '풍속(m/s).2',\n",
      "       '풍향(deg).2', '기온(°C).2', '수온(°C).2', '강수량(mm).2', '풍속(m/s).3',\n",
      "       '풍향(deg).3', '기온(°C).3', '수온(°C).3', '강수량(mm).3', '풍속(m/s).4',\n",
      "       '풍향(deg).4', '기온(°C).4', '수온(°C).4', '강수량(mm).4', '적조발생'],\n",
      "      dtype='object')\n",
      "12566 25133\n",
      "(12566, 24, 25) (12567, 24, 25) (12566, 24) (12567, 24) \n",
      "\n",
      "\n",
      "Epoch 1/3\n",
      "197/197 [==============================] - 3s 10ms/step - loss: 0.2697 - val_loss: 0.2548\n"
     ]
    },
    {
     "name": "stderr",
     "output_type": "stream",
     "text": [
      "WARNING:absl:Found untraced functions such as lstm_cell_layer_call_fn, lstm_cell_layer_call_and_return_conditional_losses, lstm_cell_layer_call_fn, lstm_cell_layer_call_and_return_conditional_losses, lstm_cell_layer_call_and_return_conditional_losses while saving (showing 5 of 5). These functions will not be directly callable after loading.\n"
     ]
    },
    {
     "name": "stdout",
     "output_type": "stream",
     "text": [
      "INFO:tensorflow:Assets written to: /aiffel/aiffel/aiffelthon/wandb/run-20221113_114103-54y2ud2q/files/model-best/assets\n"
     ]
    },
    {
     "name": "stderr",
     "output_type": "stream",
     "text": [
      "INFO:tensorflow:Assets written to: /aiffel/aiffel/aiffelthon/wandb/run-20221113_114103-54y2ud2q/files/model-best/assets\n",
      "\u001b[34m\u001b[1mwandb\u001b[0m: Adding directory to artifact (/aiffel/aiffel/aiffelthon/wandb/run-20221113_114103-54y2ud2q/files/model-best)... Done. 0.0s\n"
     ]
    },
    {
     "name": "stdout",
     "output_type": "stream",
     "text": [
      "sequence accuracy is 0.9261524893238906\n",
      "Epoch 2/3\n",
      "197/197 [==============================] - 1s 5ms/step - loss: 0.1084 - val_loss: 0.2876\n",
      "sequence accuracy is 0.9261359115142834\n",
      "Epoch 3/3\n",
      "197/197 [==============================] - 1s 6ms/step - loss: 0.0935 - val_loss: 0.2838\n",
      "sequence accuracy is 0.9264873610779555\n"
     ]
    },
    {
     "data": {
      "text/html": [
       "Waiting for W&B process to finish... <strong style=\"color:green\">(success).</strong>"
      ],
      "text/plain": [
       "<IPython.core.display.HTML object>"
      ]
     },
     "metadata": {},
     "output_type": "display_data"
    },
    {
     "data": {
      "application/vnd.jupyter.widget-view+json": {
       "model_id": "31384713fca747d8a975608317e6019a",
       "version_major": 2,
       "version_minor": 0
      },
      "text/plain": [
       "VBox(children=(Label(value='1.018 MB of 1.018 MB uploaded (0.000 MB deduped)\\r'), FloatProgress(value=1.0, max…"
      ]
     },
     "metadata": {},
     "output_type": "display_data"
    },
    {
     "data": {
      "text/html": [
       "<style>\n",
       "    table.wandb td:nth-child(1) { padding: 0 10px; text-align: left ; width: auto;} td:nth-child(2) {text-align: left ; width: 100%}\n",
       "    .wandb-row { display: flex; flex-direction: row; flex-wrap: wrap; justify-content: flex-start; width: 100% }\n",
       "    .wandb-col { display: flex; flex-direction: column; flex-basis: 100%; flex: 1; padding: 10px; }\n",
       "    </style>\n",
       "<div class=\"wandb-row\"><div class=\"wandb-col\"><h3>Run history:</h3><br/><table class=\"wandb\"><tr><td>Validation Acc :</td><td>▁</td></tr><tr><td>epoch</td><td>▁▅█</td></tr><tr><td>loss</td><td>█▂▁</td></tr><tr><td>val_loss</td><td>▁█▇</td></tr></table><br/></div><div class=\"wandb-col\"><h3>Run summary:</h3><br/><table class=\"wandb\"><tr><td>Validation Acc :</td><td>0.92649</td></tr><tr><td>best_epoch</td><td>0</td></tr><tr><td>best_val_loss</td><td>0.25475</td></tr><tr><td>epoch</td><td>2</td></tr><tr><td>loss</td><td>0.09352</td></tr><tr><td>val_loss</td><td>0.28377</td></tr></table><br/></div></div>"
      ],
      "text/plain": [
       "<IPython.core.display.HTML object>"
      ]
     },
     "metadata": {},
     "output_type": "display_data"
    },
    {
     "data": {
      "text/html": [
       "Synced <strong style=\"color:#cdcd00\">rosy-sweep-13</strong>: <a href=\"https://wandb.ai/chhyyi/redzone_LSTM_sweep/runs/54y2ud2q\" target=\"_blank\">https://wandb.ai/chhyyi/redzone_LSTM_sweep/runs/54y2ud2q</a><br/>Synced 5 W&B file(s), 1 media file(s), 4 artifact file(s) and 1 other file(s)"
      ],
      "text/plain": [
       "<IPython.core.display.HTML object>"
      ]
     },
     "metadata": {},
     "output_type": "display_data"
    },
    {
     "data": {
      "text/html": [
       "Find logs at: <code>./wandb/run-20221113_114103-54y2ud2q/logs</code>"
      ],
      "text/plain": [
       "<IPython.core.display.HTML object>"
      ]
     },
     "metadata": {},
     "output_type": "display_data"
    },
    {
     "name": "stderr",
     "output_type": "stream",
     "text": [
      "\u001b[34m\u001b[1mwandb\u001b[0m: Sweep Agent: Waiting for job.\n",
      "\u001b[34m\u001b[1mwandb\u001b[0m: Job received.\n",
      "\u001b[34m\u001b[1mwandb\u001b[0m: Agent Starting Run: kdkbu9hn with config:\n",
      "\u001b[34m\u001b[1mwandb\u001b[0m: \tepochs: 4\n",
      "\u001b[34m\u001b[1mwandb\u001b[0m: \tlearning_rate: 0.0032\n",
      "\u001b[34m\u001b[1mwandb\u001b[0m: \tsplit_train_ratio: 0.8\n",
      "\u001b[34m\u001b[1mwandb\u001b[0m: \tstride_inside_seq: 1\n",
      "\u001b[34m\u001b[1mwandb\u001b[0m: \tunit_LSTM0: 64\n"
     ]
    },
    {
     "data": {
      "application/vnd.jupyter.widget-view+json": {
       "model_id": "2fe4e1c5c53e4bc1af63619b55de02da",
       "version_major": 2,
       "version_minor": 0
      },
      "text/plain": [
       "VBox(children=(Label(value='Waiting for wandb.init()...\\r'), FloatProgress(value=0.01667030610005895, max=1.0)…"
      ]
     },
     "metadata": {},
     "output_type": "display_data"
    },
    {
     "data": {
      "text/html": [
       "Tracking run with wandb version 0.13.5"
      ],
      "text/plain": [
       "<IPython.core.display.HTML object>"
      ]
     },
     "metadata": {},
     "output_type": "display_data"
    },
    {
     "data": {
      "text/html": [
       "Run data is saved locally in <code>/aiffel/aiffel/aiffelthon/wandb/run-20221113_114220-kdkbu9hn</code>"
      ],
      "text/plain": [
       "<IPython.core.display.HTML object>"
      ]
     },
     "metadata": {},
     "output_type": "display_data"
    },
    {
     "data": {
      "text/html": [
       "Syncing run <strong><a href=\"https://wandb.ai/chhyyi/redzone_LSTM_sweep/runs/kdkbu9hn\" target=\"_blank\">dulcet-sweep-14</a></strong> to <a href=\"https://wandb.ai/chhyyi/redzone_LSTM_sweep\" target=\"_blank\">Weights & Biases</a> (<a href=\"https://wandb.me/run\" target=\"_blank\">docs</a>)<br/>Sweep page:  <a href=\"https://wandb.ai/chhyyi/redzone_LSTM_sweep/sweeps/habtjdmw\" target=\"_blank\">https://wandb.ai/chhyyi/redzone_LSTM_sweep/sweeps/habtjdmw</a>"
      ],
      "text/plain": [
       "<IPython.core.display.HTML object>"
      ]
     },
     "metadata": {},
     "output_type": "display_data"
    },
    {
     "name": "stdout",
     "output_type": "stream",
     "text": [
      "loaded dataset. Generating sequences\n",
      "Any missing values exist: False\n",
      "train dataset columns: Index(['풍속(m/s)', '풍향(deg)', '기온(°C)', '수온(°C)', '강수량(mm)', '풍속(m/s).1',\n",
      "       '풍향(deg).1', '기온(°C).1', '수온(°C).1', '강수량(mm).1', '풍속(m/s).2',\n",
      "       '풍향(deg).2', '기온(°C).2', '수온(°C).2', '강수량(mm).2', '풍속(m/s).3',\n",
      "       '풍향(deg).3', '기온(°C).3', '수온(°C).3', '강수량(mm).3', '풍속(m/s).4',\n",
      "       '풍향(deg).4', '기온(°C).4', '수온(°C).4', '강수량(mm).4', '적조발생'],\n",
      "      dtype='object')\n",
      "20106 25133\n",
      "(20106, 72, 25) (5027, 72, 25) (20106, 72) (5027, 72) \n",
      "\n",
      "\n",
      "Epoch 1/4\n",
      "315/315 [==============================] - 3s 7ms/step - loss: 0.1787 - val_loss: 0.2186\n"
     ]
    },
    {
     "name": "stderr",
     "output_type": "stream",
     "text": [
      "WARNING:absl:Found untraced functions such as lstm_cell_layer_call_fn, lstm_cell_layer_call_and_return_conditional_losses, lstm_cell_layer_call_fn, lstm_cell_layer_call_and_return_conditional_losses, lstm_cell_layer_call_and_return_conditional_losses while saving (showing 5 of 5). These functions will not be directly callable after loading.\n"
     ]
    },
    {
     "name": "stdout",
     "output_type": "stream",
     "text": [
      "INFO:tensorflow:Assets written to: /aiffel/aiffel/aiffelthon/wandb/run-20221113_114220-kdkbu9hn/files/model-best/assets\n"
     ]
    },
    {
     "name": "stderr",
     "output_type": "stream",
     "text": [
      "INFO:tensorflow:Assets written to: /aiffel/aiffel/aiffelthon/wandb/run-20221113_114220-kdkbu9hn/files/model-best/assets\n",
      "\u001b[34m\u001b[1mwandb\u001b[0m: Adding directory to artifact (/aiffel/aiffel/aiffelthon/wandb/run-20221113_114220-kdkbu9hn/files/model-best)... Done. 0.0s\n"
     ]
    },
    {
     "name": "stdout",
     "output_type": "stream",
     "text": [
      "sequence accuracy is 0.9018494573746215\n",
      "Epoch 2/4\n",
      "315/315 [==============================] - 2s 5ms/step - loss: 0.1221 - val_loss: 0.1772\n"
     ]
    },
    {
     "name": "stderr",
     "output_type": "stream",
     "text": [
      "WARNING:absl:Found untraced functions such as lstm_cell_layer_call_fn, lstm_cell_layer_call_and_return_conditional_losses, lstm_cell_layer_call_fn, lstm_cell_layer_call_and_return_conditional_losses, lstm_cell_layer_call_and_return_conditional_losses while saving (showing 5 of 5). These functions will not be directly callable after loading.\n"
     ]
    },
    {
     "name": "stdout",
     "output_type": "stream",
     "text": [
      "INFO:tensorflow:Assets written to: /aiffel/aiffel/aiffelthon/wandb/run-20221113_114220-kdkbu9hn/files/model-best/assets\n"
     ]
    },
    {
     "name": "stderr",
     "output_type": "stream",
     "text": [
      "INFO:tensorflow:Assets written to: /aiffel/aiffel/aiffelthon/wandb/run-20221113_114220-kdkbu9hn/files/model-best/assets\n",
      "\u001b[34m\u001b[1mwandb\u001b[0m: Adding directory to artifact (/aiffel/aiffel/aiffelthon/wandb/run-20221113_114220-kdkbu9hn/files/model-best)... Done. 0.0s\n"
     ]
    },
    {
     "name": "stdout",
     "output_type": "stream",
     "text": [
      "sequence accuracy is 0.9110083327807617\n",
      "Epoch 3/4\n",
      "315/315 [==============================] - 2s 6ms/step - loss: 0.0995 - val_loss: 0.2035\n",
      "sequence accuracy is 0.8972796896757509\n",
      "Epoch 4/4\n",
      "315/315 [==============================] - 2s 5ms/step - loss: 0.0635 - val_loss: 0.1867\n",
      "sequence accuracy is 0.9235240810733152\n"
     ]
    },
    {
     "data": {
      "text/html": [
       "Waiting for W&B process to finish... <strong style=\"color:green\">(success).</strong>"
      ],
      "text/plain": [
       "<IPython.core.display.HTML object>"
      ]
     },
     "metadata": {},
     "output_type": "display_data"
    },
    {
     "data": {
      "application/vnd.jupyter.widget-view+json": {
       "model_id": "c332f4808cfa4403a271db2a0bd6777c",
       "version_major": 2,
       "version_minor": 0
      },
      "text/plain": [
       "VBox(children=(Label(value='2.573 MB of 2.573 MB uploaded (0.008 MB deduped)\\r'), FloatProgress(value=1.0, max…"
      ]
     },
     "metadata": {},
     "output_type": "display_data"
    },
    {
     "data": {
      "text/html": [
       "<style>\n",
       "    table.wandb td:nth-child(1) { padding: 0 10px; text-align: left ; width: auto;} td:nth-child(2) {text-align: left ; width: 100%}\n",
       "    .wandb-row { display: flex; flex-direction: row; flex-wrap: wrap; justify-content: flex-start; width: 100% }\n",
       "    .wandb-col { display: flex; flex-direction: column; flex-basis: 100%; flex: 1; padding: 10px; }\n",
       "    </style>\n",
       "<div class=\"wandb-row\"><div class=\"wandb-col\"><h3>Run history:</h3><br/><table class=\"wandb\"><tr><td>Validation Acc :</td><td>▁</td></tr><tr><td>epoch</td><td>▁▃▆█</td></tr><tr><td>loss</td><td>█▅▃▁</td></tr><tr><td>val_loss</td><td>█▁▅▃</td></tr></table><br/></div><div class=\"wandb-col\"><h3>Run summary:</h3><br/><table class=\"wandb\"><tr><td>Validation Acc :</td><td>0.92352</td></tr><tr><td>best_epoch</td><td>1</td></tr><tr><td>best_val_loss</td><td>0.17722</td></tr><tr><td>epoch</td><td>3</td></tr><tr><td>loss</td><td>0.06353</td></tr><tr><td>val_loss</td><td>0.1867</td></tr></table><br/></div></div>"
      ],
      "text/plain": [
       "<IPython.core.display.HTML object>"
      ]
     },
     "metadata": {},
     "output_type": "display_data"
    },
    {
     "data": {
      "text/html": [
       "Synced <strong style=\"color:#cdcd00\">dulcet-sweep-14</strong>: <a href=\"https://wandb.ai/chhyyi/redzone_LSTM_sweep/runs/kdkbu9hn\" target=\"_blank\">https://wandb.ai/chhyyi/redzone_LSTM_sweep/runs/kdkbu9hn</a><br/>Synced 5 W&B file(s), 1 media file(s), 7 artifact file(s) and 1 other file(s)"
      ],
      "text/plain": [
       "<IPython.core.display.HTML object>"
      ]
     },
     "metadata": {},
     "output_type": "display_data"
    },
    {
     "data": {
      "text/html": [
       "Find logs at: <code>./wandb/run-20221113_114220-kdkbu9hn/logs</code>"
      ],
      "text/plain": [
       "<IPython.core.display.HTML object>"
      ]
     },
     "metadata": {},
     "output_type": "display_data"
    },
    {
     "name": "stderr",
     "output_type": "stream",
     "text": [
      "\u001b[34m\u001b[1mwandb\u001b[0m: Sweep Agent: Waiting for job.\n",
      "\u001b[34m\u001b[1mwandb\u001b[0m: Job received.\n",
      "\u001b[34m\u001b[1mwandb\u001b[0m: Agent Starting Run: 3ur69r7x with config:\n",
      "\u001b[34m\u001b[1mwandb\u001b[0m: \tepochs: 12\n",
      "\u001b[34m\u001b[1mwandb\u001b[0m: \tlearning_rate: 0.01\n",
      "\u001b[34m\u001b[1mwandb\u001b[0m: \tsplit_train_ratio: 0.8\n",
      "\u001b[34m\u001b[1mwandb\u001b[0m: \tstride_inside_seq: 1\n",
      "\u001b[34m\u001b[1mwandb\u001b[0m: \tunit_LSTM0: 256\n"
     ]
    },
    {
     "data": {
      "application/vnd.jupyter.widget-view+json": {
       "model_id": "e7d489da43d84636af0f675485acffcf",
       "version_major": 2,
       "version_minor": 0
      },
      "text/plain": [
       "VBox(children=(Label(value='Waiting for wandb.init()...\\r'), FloatProgress(value=0.016670228833390865, max=1.0…"
      ]
     },
     "metadata": {},
     "output_type": "display_data"
    },
    {
     "data": {
      "text/html": [
       "Tracking run with wandb version 0.13.5"
      ],
      "text/plain": [
       "<IPython.core.display.HTML object>"
      ]
     },
     "metadata": {},
     "output_type": "display_data"
    },
    {
     "data": {
      "text/html": [
       "Run data is saved locally in <code>/aiffel/aiffel/aiffelthon/wandb/run-20221113_114501-3ur69r7x</code>"
      ],
      "text/plain": [
       "<IPython.core.display.HTML object>"
      ]
     },
     "metadata": {},
     "output_type": "display_data"
    },
    {
     "data": {
      "text/html": [
       "Syncing run <strong><a href=\"https://wandb.ai/chhyyi/redzone_LSTM_sweep/runs/3ur69r7x\" target=\"_blank\">firm-sweep-15</a></strong> to <a href=\"https://wandb.ai/chhyyi/redzone_LSTM_sweep\" target=\"_blank\">Weights & Biases</a> (<a href=\"https://wandb.me/run\" target=\"_blank\">docs</a>)<br/>Sweep page:  <a href=\"https://wandb.ai/chhyyi/redzone_LSTM_sweep/sweeps/habtjdmw\" target=\"_blank\">https://wandb.ai/chhyyi/redzone_LSTM_sweep/sweeps/habtjdmw</a>"
      ],
      "text/plain": [
       "<IPython.core.display.HTML object>"
      ]
     },
     "metadata": {},
     "output_type": "display_data"
    },
    {
     "name": "stdout",
     "output_type": "stream",
     "text": [
      "loaded dataset. Generating sequences\n",
      "Any missing values exist: False\n",
      "train dataset columns: Index(['풍속(m/s)', '풍향(deg)', '기온(°C)', '수온(°C)', '강수량(mm)', '풍속(m/s).1',\n",
      "       '풍향(deg).1', '기온(°C).1', '수온(°C).1', '강수량(mm).1', '풍속(m/s).2',\n",
      "       '풍향(deg).2', '기온(°C).2', '수온(°C).2', '강수량(mm).2', '풍속(m/s).3',\n",
      "       '풍향(deg).3', '기온(°C).3', '수온(°C).3', '강수량(mm).3', '풍속(m/s).4',\n",
      "       '풍향(deg).4', '기온(°C).4', '수온(°C).4', '강수량(mm).4', '적조발생'],\n",
      "      dtype='object')\n",
      "20106 25133\n",
      "(20106, 72, 25) (5027, 72, 25) (20106, 72) (5027, 72) \n",
      "\n",
      "\n",
      "Epoch 1/12\n",
      "315/315 [==============================] - 4s 9ms/step - loss: 0.1823 - val_loss: 0.2561\n"
     ]
    },
    {
     "name": "stderr",
     "output_type": "stream",
     "text": [
      "WARNING:absl:Found untraced functions such as lstm_cell_layer_call_fn, lstm_cell_layer_call_and_return_conditional_losses, lstm_cell_layer_call_fn, lstm_cell_layer_call_and_return_conditional_losses, lstm_cell_layer_call_and_return_conditional_losses while saving (showing 5 of 5). These functions will not be directly callable after loading.\n"
     ]
    },
    {
     "name": "stdout",
     "output_type": "stream",
     "text": [
      "INFO:tensorflow:Assets written to: /aiffel/aiffel/aiffelthon/wandb/run-20221113_114501-3ur69r7x/files/model-best/assets\n"
     ]
    },
    {
     "name": "stderr",
     "output_type": "stream",
     "text": [
      "INFO:tensorflow:Assets written to: /aiffel/aiffel/aiffelthon/wandb/run-20221113_114501-3ur69r7x/files/model-best/assets\n",
      "\u001b[34m\u001b[1mwandb\u001b[0m: Adding directory to artifact (/aiffel/aiffel/aiffelthon/wandb/run-20221113_114501-3ur69r7x/files/model-best)... Done. 0.1s\n"
     ]
    },
    {
     "name": "stdout",
     "output_type": "stream",
     "text": [
      "sequence accuracy is 0.9096545321928254\n",
      "Epoch 2/12\n",
      "315/315 [==============================] - 2s 8ms/step - loss: 0.1465 - val_loss: 0.2286\n"
     ]
    },
    {
     "name": "stderr",
     "output_type": "stream",
     "text": [
      "WARNING:absl:Found untraced functions such as lstm_cell_layer_call_fn, lstm_cell_layer_call_and_return_conditional_losses, lstm_cell_layer_call_fn, lstm_cell_layer_call_and_return_conditional_losses, lstm_cell_layer_call_and_return_conditional_losses while saving (showing 5 of 5). These functions will not be directly callable after loading.\n"
     ]
    },
    {
     "name": "stdout",
     "output_type": "stream",
     "text": [
      "INFO:tensorflow:Assets written to: /aiffel/aiffel/aiffelthon/wandb/run-20221113_114501-3ur69r7x/files/model-best/assets\n"
     ]
    },
    {
     "name": "stderr",
     "output_type": "stream",
     "text": [
      "INFO:tensorflow:Assets written to: /aiffel/aiffel/aiffelthon/wandb/run-20221113_114501-3ur69r7x/files/model-best/assets\n",
      "\u001b[34m\u001b[1mwandb\u001b[0m: Adding directory to artifact (/aiffel/aiffel/aiffelthon/wandb/run-20221113_114501-3ur69r7x/files/model-best)... Done. 0.1s\n"
     ]
    },
    {
     "name": "stdout",
     "output_type": "stream",
     "text": [
      "sequence accuracy is 0.9005232853701125\n",
      "Epoch 3/12\n",
      "315/315 [==============================] - 2s 7ms/step - loss: 0.1315 - val_loss: 0.2102\n"
     ]
    },
    {
     "name": "stderr",
     "output_type": "stream",
     "text": [
      "WARNING:absl:Found untraced functions such as lstm_cell_layer_call_fn, lstm_cell_layer_call_and_return_conditional_losses, lstm_cell_layer_call_fn, lstm_cell_layer_call_and_return_conditional_losses, lstm_cell_layer_call_and_return_conditional_losses while saving (showing 5 of 5). These functions will not be directly callable after loading.\n"
     ]
    },
    {
     "name": "stdout",
     "output_type": "stream",
     "text": [
      "INFO:tensorflow:Assets written to: /aiffel/aiffel/aiffelthon/wandb/run-20221113_114501-3ur69r7x/files/model-best/assets\n"
     ]
    },
    {
     "name": "stderr",
     "output_type": "stream",
     "text": [
      "INFO:tensorflow:Assets written to: /aiffel/aiffel/aiffelthon/wandb/run-20221113_114501-3ur69r7x/files/model-best/assets\n",
      "\u001b[34m\u001b[1mwandb\u001b[0m: Adding directory to artifact (/aiffel/aiffel/aiffelthon/wandb/run-20221113_114501-3ur69r7x/files/model-best)... Done. 0.0s\n"
     ]
    },
    {
     "name": "stdout",
     "output_type": "stream",
     "text": [
      "sequence accuracy is 0.9095992750259708\n",
      "Epoch 4/12\n",
      "315/315 [==============================] - 2s 7ms/step - loss: 0.1174 - val_loss: 0.2294\n",
      "sequence accuracy is 0.9022113918175187\n",
      "Epoch 5/12\n",
      "315/315 [==============================] - 2s 7ms/step - loss: 0.0978 - val_loss: 0.2089\n"
     ]
    },
    {
     "name": "stderr",
     "output_type": "stream",
     "text": [
      "WARNING:absl:Found untraced functions such as lstm_cell_layer_call_fn, lstm_cell_layer_call_and_return_conditional_losses, lstm_cell_layer_call_fn, lstm_cell_layer_call_and_return_conditional_losses, lstm_cell_layer_call_and_return_conditional_losses while saving (showing 5 of 5). These functions will not be directly callable after loading.\n"
     ]
    },
    {
     "name": "stdout",
     "output_type": "stream",
     "text": [
      "INFO:tensorflow:Assets written to: /aiffel/aiffel/aiffelthon/wandb/run-20221113_114501-3ur69r7x/files/model-best/assets\n"
     ]
    },
    {
     "name": "stderr",
     "output_type": "stream",
     "text": [
      "INFO:tensorflow:Assets written to: /aiffel/aiffel/aiffelthon/wandb/run-20221113_114501-3ur69r7x/files/model-best/assets\n",
      "\u001b[34m\u001b[1mwandb\u001b[0m: Adding directory to artifact (/aiffel/aiffel/aiffelthon/wandb/run-20221113_114501-3ur69r7x/files/model-best)... Done. 0.1s\n"
     ]
    },
    {
     "name": "stdout",
     "output_type": "stream",
     "text": [
      "sequence accuracy is 0.8940084653979621\n",
      "Epoch 6/12\n",
      "315/315 [==============================] - 2s 8ms/step - loss: 0.0747 - val_loss: 0.2287\n",
      "sequence accuracy is 0.8891430718564198\n",
      "Epoch 7/12\n",
      "315/315 [==============================] - 2s 7ms/step - loss: 0.0726 - val_loss: 0.2321\n",
      "sequence accuracy is 0.8940443825564176\n",
      "Epoch 8/12\n",
      "315/315 [==============================] - 2s 8ms/step - loss: 0.1369 - val_loss: 0.2373\n",
      "sequence accuracy is 0.895912074796101\n",
      "Epoch 9/12\n",
      "315/315 [==============================] - 2s 8ms/step - loss: 0.1069 - val_loss: 0.3322\n",
      "sequence accuracy is 0.8509935238600447\n",
      "Epoch 10/12\n",
      "315/315 [==============================] - 2s 8ms/step - loss: 0.0869 - val_loss: 0.3108\n",
      "sequence accuracy is 0.8905631810445814\n",
      "Epoch 11/12\n",
      "315/315 [==============================] - 2s 8ms/step - loss: 0.0803 - val_loss: 0.2539\n",
      "sequence accuracy is 0.8845069955573238\n",
      "Epoch 12/12\n",
      "315/315 [==============================] - 2s 8ms/step - loss: 0.1047 - val_loss: 0.2277\n",
      "sequence accuracy is 0.8983710187211281\n"
     ]
    },
    {
     "data": {
      "text/html": [
       "Waiting for W&B process to finish... <strong style=\"color:green\">(success).</strong>"
      ],
      "text/plain": [
       "<IPython.core.display.HTML object>"
      ]
     },
     "metadata": {},
     "output_type": "display_data"
    },
    {
     "data": {
      "application/vnd.jupyter.widget-view+json": {
       "model_id": "60587d6f61ec462599c55cf12aac9a45",
       "version_major": 2,
       "version_minor": 0
      },
      "text/plain": [
       "VBox(children=(Label(value='20.826 MB of 20.826 MB uploaded (0.008 MB deduped)\\r'), FloatProgress(value=1.0, m…"
      ]
     },
     "metadata": {},
     "output_type": "display_data"
    },
    {
     "data": {
      "text/html": [
       "<style>\n",
       "    table.wandb td:nth-child(1) { padding: 0 10px; text-align: left ; width: auto;} td:nth-child(2) {text-align: left ; width: 100%}\n",
       "    .wandb-row { display: flex; flex-direction: row; flex-wrap: wrap; justify-content: flex-start; width: 100% }\n",
       "    .wandb-col { display: flex; flex-direction: column; flex-basis: 100%; flex: 1; padding: 10px; }\n",
       "    </style>\n",
       "<div class=\"wandb-row\"><div class=\"wandb-col\"><h3>Run history:</h3><br/><table class=\"wandb\"><tr><td>Validation Acc :</td><td>▁</td></tr><tr><td>epoch</td><td>▁▂▂▃▄▄▅▅▆▇▇█</td></tr><tr><td>loss</td><td>█▆▅▄▃▁▁▅▃▂▁▃</td></tr><tr><td>val_loss</td><td>▄▂▁▂▁▂▂▃█▇▄▂</td></tr></table><br/></div><div class=\"wandb-col\"><h3>Run summary:</h3><br/><table class=\"wandb\"><tr><td>Validation Acc :</td><td>0.89837</td></tr><tr><td>best_epoch</td><td>4</td></tr><tr><td>best_val_loss</td><td>0.20885</td></tr><tr><td>epoch</td><td>11</td></tr><tr><td>loss</td><td>0.10472</td></tr><tr><td>val_loss</td><td>0.22766</td></tr></table><br/></div></div>"
      ],
      "text/plain": [
       "<IPython.core.display.HTML object>"
      ]
     },
     "metadata": {},
     "output_type": "display_data"
    },
    {
     "data": {
      "text/html": [
       "Synced <strong style=\"color:#cdcd00\">firm-sweep-15</strong>: <a href=\"https://wandb.ai/chhyyi/redzone_LSTM_sweep/runs/3ur69r7x\" target=\"_blank\">https://wandb.ai/chhyyi/redzone_LSTM_sweep/runs/3ur69r7x</a><br/>Synced 5 W&B file(s), 1 media file(s), 13 artifact file(s) and 1 other file(s)"
      ],
      "text/plain": [
       "<IPython.core.display.HTML object>"
      ]
     },
     "metadata": {},
     "output_type": "display_data"
    },
    {
     "data": {
      "text/html": [
       "Find logs at: <code>./wandb/run-20221113_114501-3ur69r7x/logs</code>"
      ],
      "text/plain": [
       "<IPython.core.display.HTML object>"
      ]
     },
     "metadata": {},
     "output_type": "display_data"
    },
    {
     "name": "stderr",
     "output_type": "stream",
     "text": [
      "\u001b[34m\u001b[1mwandb\u001b[0m: Agent Starting Run: u6gg1nwt with config:\n",
      "\u001b[34m\u001b[1mwandb\u001b[0m: \tepochs: 3\n",
      "\u001b[34m\u001b[1mwandb\u001b[0m: \tlearning_rate: 0.01\n",
      "\u001b[34m\u001b[1mwandb\u001b[0m: \tsplit_train_ratio: 0.5\n",
      "\u001b[34m\u001b[1mwandb\u001b[0m: \tstride_inside_seq: 9\n",
      "\u001b[34m\u001b[1mwandb\u001b[0m: \tunit_LSTM0: 32\n"
     ]
    },
    {
     "data": {
      "text/html": [
       "Tracking run with wandb version 0.13.5"
      ],
      "text/plain": [
       "<IPython.core.display.HTML object>"
      ]
     },
     "metadata": {},
     "output_type": "display_data"
    },
    {
     "data": {
      "text/html": [
       "Run data is saved locally in <code>/aiffel/aiffel/aiffelthon/wandb/run-20221113_114913-u6gg1nwt</code>"
      ],
      "text/plain": [
       "<IPython.core.display.HTML object>"
      ]
     },
     "metadata": {},
     "output_type": "display_data"
    },
    {
     "data": {
      "text/html": [
       "Syncing run <strong><a href=\"https://wandb.ai/chhyyi/redzone_LSTM_sweep/runs/u6gg1nwt\" target=\"_blank\">sweepy-sweep-16</a></strong> to <a href=\"https://wandb.ai/chhyyi/redzone_LSTM_sweep\" target=\"_blank\">Weights & Biases</a> (<a href=\"https://wandb.me/run\" target=\"_blank\">docs</a>)<br/>Sweep page:  <a href=\"https://wandb.ai/chhyyi/redzone_LSTM_sweep/sweeps/habtjdmw\" target=\"_blank\">https://wandb.ai/chhyyi/redzone_LSTM_sweep/sweeps/habtjdmw</a>"
      ],
      "text/plain": [
       "<IPython.core.display.HTML object>"
      ]
     },
     "metadata": {},
     "output_type": "display_data"
    },
    {
     "name": "stdout",
     "output_type": "stream",
     "text": [
      "loaded dataset. Generating sequences\n",
      "Any missing values exist: False\n",
      "train dataset columns: Index(['풍속(m/s)', '풍향(deg)', '기온(°C)', '수온(°C)', '강수량(mm)', '풍속(m/s).1',\n",
      "       '풍향(deg).1', '기온(°C).1', '수온(°C).1', '강수량(mm).1', '풍속(m/s).2',\n",
      "       '풍향(deg).2', '기온(°C).2', '수온(°C).2', '강수량(mm).2', '풍속(m/s).3',\n",
      "       '풍향(deg).3', '기온(°C).3', '수온(°C).3', '강수량(mm).3', '풍속(m/s).4',\n",
      "       '풍향(deg).4', '기온(°C).4', '수온(°C).4', '강수량(mm).4', '적조발생'],\n",
      "      dtype='object')\n",
      "12566 25133\n",
      "(12566, 8, 25) (12567, 8, 25) (12566, 8) (12567, 8) \n",
      "\n",
      "\n",
      "Epoch 1/3\n",
      "197/197 [==============================] - 3s 7ms/step - loss: 0.1341 - val_loss: 0.3390\n"
     ]
    },
    {
     "name": "stderr",
     "output_type": "stream",
     "text": [
      "WARNING:absl:Found untraced functions such as lstm_cell_layer_call_fn, lstm_cell_layer_call_and_return_conditional_losses, lstm_cell_layer_call_fn, lstm_cell_layer_call_and_return_conditional_losses, lstm_cell_layer_call_and_return_conditional_losses while saving (showing 5 of 5). These functions will not be directly callable after loading.\n"
     ]
    },
    {
     "name": "stdout",
     "output_type": "stream",
     "text": [
      "INFO:tensorflow:Assets written to: /aiffel/aiffel/aiffelthon/wandb/run-20221113_114913-u6gg1nwt/files/model-best/assets\n"
     ]
    },
    {
     "name": "stderr",
     "output_type": "stream",
     "text": [
      "INFO:tensorflow:Assets written to: /aiffel/aiffel/aiffelthon/wandb/run-20221113_114913-u6gg1nwt/files/model-best/assets\n",
      "\u001b[34m\u001b[1mwandb\u001b[0m: Adding directory to artifact (/aiffel/aiffel/aiffelthon/wandb/run-20221113_114913-u6gg1nwt/files/model-best)... Done. 0.0s\n"
     ]
    },
    {
     "name": "stdout",
     "output_type": "stream",
     "text": [
      "sequence accuracy is 0.9243654014482374\n",
      "Epoch 2/3\n",
      "197/197 [==============================] - 1s 5ms/step - loss: 0.0926 - val_loss: 0.4409\n",
      "sequence accuracy is 0.9175419750139253\n",
      "Epoch 3/3\n",
      "197/197 [==============================] - 1s 5ms/step - loss: 0.0565 - val_loss: 0.5097\n",
      "sequence accuracy is 0.9232712660141641\n"
     ]
    },
    {
     "data": {
      "text/html": [
       "Waiting for W&B process to finish... <strong style=\"color:green\">(success).</strong>"
      ],
      "text/plain": [
       "<IPython.core.display.HTML object>"
      ]
     },
     "metadata": {},
     "output_type": "display_data"
    },
    {
     "data": {
      "text/html": [
       "<style>\n",
       "    table.wandb td:nth-child(1) { padding: 0 10px; text-align: left ; width: auto;} td:nth-child(2) {text-align: left ; width: 100%}\n",
       "    .wandb-row { display: flex; flex-direction: row; flex-wrap: wrap; justify-content: flex-start; width: 100% }\n",
       "    .wandb-col { display: flex; flex-direction: column; flex-basis: 100%; flex: 1; padding: 10px; }\n",
       "    </style>\n",
       "<div class=\"wandb-row\"><div class=\"wandb-col\"><h3>Run history:</h3><br/><table class=\"wandb\"><tr><td>Validation Acc :</td><td>▁</td></tr><tr><td>epoch</td><td>▁▅█</td></tr><tr><td>loss</td><td>█▄▁</td></tr><tr><td>val_loss</td><td>▁▅█</td></tr></table><br/></div><div class=\"wandb-col\"><h3>Run summary:</h3><br/><table class=\"wandb\"><tr><td>Validation Acc :</td><td>0.92327</td></tr><tr><td>best_epoch</td><td>0</td></tr><tr><td>best_val_loss</td><td>0.33899</td></tr><tr><td>epoch</td><td>2</td></tr><tr><td>loss</td><td>0.05645</td></tr><tr><td>val_loss</td><td>0.50974</td></tr></table><br/></div></div>"
      ],
      "text/plain": [
       "<IPython.core.display.HTML object>"
      ]
     },
     "metadata": {},
     "output_type": "display_data"
    },
    {
     "data": {
      "text/html": [
       "Synced <strong style=\"color:#cdcd00\">sweepy-sweep-16</strong>: <a href=\"https://wandb.ai/chhyyi/redzone_LSTM_sweep/runs/u6gg1nwt\" target=\"_blank\">https://wandb.ai/chhyyi/redzone_LSTM_sweep/runs/u6gg1nwt</a><br/>Synced 5 W&B file(s), 1 media file(s), 4 artifact file(s) and 1 other file(s)"
      ],
      "text/plain": [
       "<IPython.core.display.HTML object>"
      ]
     },
     "metadata": {},
     "output_type": "display_data"
    },
    {
     "data": {
      "text/html": [
       "Find logs at: <code>./wandb/run-20221113_114913-u6gg1nwt/logs</code>"
      ],
      "text/plain": [
       "<IPython.core.display.HTML object>"
      ]
     },
     "metadata": {},
     "output_type": "display_data"
    },
    {
     "name": "stderr",
     "output_type": "stream",
     "text": [
      "\u001b[34m\u001b[1mwandb\u001b[0m: Sweep Agent: Waiting for job.\n",
      "\u001b[34m\u001b[1mwandb\u001b[0m: Job received.\n",
      "\u001b[34m\u001b[1mwandb\u001b[0m: Agent Starting Run: p50xbo3r with config:\n",
      "\u001b[34m\u001b[1mwandb\u001b[0m: \tepochs: 2\n",
      "\u001b[34m\u001b[1mwandb\u001b[0m: \tlearning_rate: 0.0002\n",
      "\u001b[34m\u001b[1mwandb\u001b[0m: \tsplit_train_ratio: 0.5\n",
      "\u001b[34m\u001b[1mwandb\u001b[0m: \tstride_inside_seq: 3\n",
      "\u001b[34m\u001b[1mwandb\u001b[0m: \tunit_LSTM0: 64\n"
     ]
    },
    {
     "data": {
      "text/html": [
       "Tracking run with wandb version 0.13.5"
      ],
      "text/plain": [
       "<IPython.core.display.HTML object>"
      ]
     },
     "metadata": {},
     "output_type": "display_data"
    },
    {
     "data": {
      "text/html": [
       "Run data is saved locally in <code>/aiffel/aiffel/aiffelthon/wandb/run-20221113_115005-p50xbo3r</code>"
      ],
      "text/plain": [
       "<IPython.core.display.HTML object>"
      ]
     },
     "metadata": {},
     "output_type": "display_data"
    },
    {
     "data": {
      "text/html": [
       "Syncing run <strong><a href=\"https://wandb.ai/chhyyi/redzone_LSTM_sweep/runs/p50xbo3r\" target=\"_blank\">tough-sweep-17</a></strong> to <a href=\"https://wandb.ai/chhyyi/redzone_LSTM_sweep\" target=\"_blank\">Weights & Biases</a> (<a href=\"https://wandb.me/run\" target=\"_blank\">docs</a>)<br/>Sweep page:  <a href=\"https://wandb.ai/chhyyi/redzone_LSTM_sweep/sweeps/habtjdmw\" target=\"_blank\">https://wandb.ai/chhyyi/redzone_LSTM_sweep/sweeps/habtjdmw</a>"
      ],
      "text/plain": [
       "<IPython.core.display.HTML object>"
      ]
     },
     "metadata": {},
     "output_type": "display_data"
    },
    {
     "name": "stdout",
     "output_type": "stream",
     "text": [
      "loaded dataset. Generating sequences\n",
      "Any missing values exist: False\n",
      "train dataset columns: Index(['풍속(m/s)', '풍향(deg)', '기온(°C)', '수온(°C)', '강수량(mm)', '풍속(m/s).1',\n",
      "       '풍향(deg).1', '기온(°C).1', '수온(°C).1', '강수량(mm).1', '풍속(m/s).2',\n",
      "       '풍향(deg).2', '기온(°C).2', '수온(°C).2', '강수량(mm).2', '풍속(m/s).3',\n",
      "       '풍향(deg).3', '기온(°C).3', '수온(°C).3', '강수량(mm).3', '풍속(m/s).4',\n",
      "       '풍향(deg).4', '기온(°C).4', '수온(°C).4', '강수량(mm).4', '적조발생'],\n",
      "      dtype='object')\n",
      "12566 25133\n",
      "(12566, 24, 25) (12567, 24, 25) (12566, 24) (12567, 24) \n",
      "\n",
      "\n",
      "Epoch 1/2\n",
      "197/197 [==============================] - 3s 7ms/step - loss: 0.4022 - val_loss: 0.2460\n"
     ]
    },
    {
     "name": "stderr",
     "output_type": "stream",
     "text": [
      "WARNING:absl:Found untraced functions such as lstm_cell_layer_call_fn, lstm_cell_layer_call_and_return_conditional_losses, lstm_cell_layer_call_fn, lstm_cell_layer_call_and_return_conditional_losses, lstm_cell_layer_call_and_return_conditional_losses while saving (showing 5 of 5). These functions will not be directly callable after loading.\n"
     ]
    },
    {
     "name": "stdout",
     "output_type": "stream",
     "text": [
      "INFO:tensorflow:Assets written to: /aiffel/aiffel/aiffelthon/wandb/run-20221113_115005-p50xbo3r/files/model-best/assets\n"
     ]
    },
    {
     "name": "stderr",
     "output_type": "stream",
     "text": [
      "INFO:tensorflow:Assets written to: /aiffel/aiffel/aiffelthon/wandb/run-20221113_115005-p50xbo3r/files/model-best/assets\n",
      "\u001b[34m\u001b[1mwandb\u001b[0m: Adding directory to artifact (/aiffel/aiffel/aiffelthon/wandb/run-20221113_115005-p50xbo3r/files/model-best)... Done. 0.0s\n"
     ]
    },
    {
     "name": "stdout",
     "output_type": "stream",
     "text": [
      "sequence accuracy is 0.9256617861595183\n",
      "Epoch 2/2\n",
      "197/197 [==============================] - 1s 6ms/step - loss: 0.1369 - val_loss: 0.2629\n",
      "sequence accuracy is 0.9261259648285192\n"
     ]
    },
    {
     "data": {
      "text/html": [
       "Waiting for W&B process to finish... <strong style=\"color:green\">(success).</strong>"
      ],
      "text/plain": [
       "<IPython.core.display.HTML object>"
      ]
     },
     "metadata": {},
     "output_type": "display_data"
    },
    {
     "data": {
      "text/html": [
       "<style>\n",
       "    table.wandb td:nth-child(1) { padding: 0 10px; text-align: left ; width: auto;} td:nth-child(2) {text-align: left ; width: 100%}\n",
       "    .wandb-row { display: flex; flex-direction: row; flex-wrap: wrap; justify-content: flex-start; width: 100% }\n",
       "    .wandb-col { display: flex; flex-direction: column; flex-basis: 100%; flex: 1; padding: 10px; }\n",
       "    </style>\n",
       "<div class=\"wandb-row\"><div class=\"wandb-col\"><h3>Run history:</h3><br/><table class=\"wandb\"><tr><td>Validation Acc :</td><td>▁</td></tr><tr><td>epoch</td><td>▁█</td></tr><tr><td>loss</td><td>█▁</td></tr><tr><td>val_loss</td><td>▁█</td></tr></table><br/></div><div class=\"wandb-col\"><h3>Run summary:</h3><br/><table class=\"wandb\"><tr><td>Validation Acc :</td><td>0.92613</td></tr><tr><td>best_epoch</td><td>0</td></tr><tr><td>best_val_loss</td><td>0.24597</td></tr><tr><td>epoch</td><td>1</td></tr><tr><td>loss</td><td>0.13692</td></tr><tr><td>val_loss</td><td>0.26285</td></tr></table><br/></div></div>"
      ],
      "text/plain": [
       "<IPython.core.display.HTML object>"
      ]
     },
     "metadata": {},
     "output_type": "display_data"
    },
    {
     "data": {
      "text/html": [
       "Synced <strong style=\"color:#cdcd00\">tough-sweep-17</strong>: <a href=\"https://wandb.ai/chhyyi/redzone_LSTM_sweep/runs/p50xbo3r\" target=\"_blank\">https://wandb.ai/chhyyi/redzone_LSTM_sweep/runs/p50xbo3r</a><br/>Synced 5 W&B file(s), 1 media file(s), 4 artifact file(s) and 1 other file(s)"
      ],
      "text/plain": [
       "<IPython.core.display.HTML object>"
      ]
     },
     "metadata": {},
     "output_type": "display_data"
    },
    {
     "data": {
      "text/html": [
       "Find logs at: <code>./wandb/run-20221113_115005-p50xbo3r/logs</code>"
      ],
      "text/plain": [
       "<IPython.core.display.HTML object>"
      ]
     },
     "metadata": {},
     "output_type": "display_data"
    },
    {
     "name": "stderr",
     "output_type": "stream",
     "text": [
      "\u001b[34m\u001b[1mwandb\u001b[0m: Sweep Agent: Waiting for job.\n",
      "\u001b[34m\u001b[1mwandb\u001b[0m: Job received.\n",
      "\u001b[34m\u001b[1mwandb\u001b[0m: Agent Starting Run: 8umg0116 with config:\n",
      "\u001b[34m\u001b[1mwandb\u001b[0m: \tepochs: 4\n",
      "\u001b[34m\u001b[1mwandb\u001b[0m: \tlearning_rate: 0.0002\n",
      "\u001b[34m\u001b[1mwandb\u001b[0m: \tsplit_train_ratio: 0.5\n",
      "\u001b[34m\u001b[1mwandb\u001b[0m: \tstride_inside_seq: 9\n",
      "\u001b[34m\u001b[1mwandb\u001b[0m: \tunit_LSTM0: 32\n"
     ]
    },
    {
     "data": {
      "text/html": [
       "Tracking run with wandb version 0.13.5"
      ],
      "text/plain": [
       "<IPython.core.display.HTML object>"
      ]
     },
     "metadata": {},
     "output_type": "display_data"
    },
    {
     "data": {
      "text/html": [
       "Run data is saved locally in <code>/aiffel/aiffel/aiffelthon/wandb/run-20221113_115117-8umg0116</code>"
      ],
      "text/plain": [
       "<IPython.core.display.HTML object>"
      ]
     },
     "metadata": {},
     "output_type": "display_data"
    },
    {
     "data": {
      "text/html": [
       "Syncing run <strong><a href=\"https://wandb.ai/chhyyi/redzone_LSTM_sweep/runs/8umg0116\" target=\"_blank\">pleasant-sweep-18</a></strong> to <a href=\"https://wandb.ai/chhyyi/redzone_LSTM_sweep\" target=\"_blank\">Weights & Biases</a> (<a href=\"https://wandb.me/run\" target=\"_blank\">docs</a>)<br/>Sweep page:  <a href=\"https://wandb.ai/chhyyi/redzone_LSTM_sweep/sweeps/habtjdmw\" target=\"_blank\">https://wandb.ai/chhyyi/redzone_LSTM_sweep/sweeps/habtjdmw</a>"
      ],
      "text/plain": [
       "<IPython.core.display.HTML object>"
      ]
     },
     "metadata": {},
     "output_type": "display_data"
    },
    {
     "name": "stdout",
     "output_type": "stream",
     "text": [
      "loaded dataset. Generating sequences\n",
      "Any missing values exist: False\n",
      "train dataset columns: Index(['풍속(m/s)', '풍향(deg)', '기온(°C)', '수온(°C)', '강수량(mm)', '풍속(m/s).1',\n",
      "       '풍향(deg).1', '기온(°C).1', '수온(°C).1', '강수량(mm).1', '풍속(m/s).2',\n",
      "       '풍향(deg).2', '기온(°C).2', '수온(°C).2', '강수량(mm).2', '풍속(m/s).3',\n",
      "       '풍향(deg).3', '기온(°C).3', '수온(°C).3', '강수량(mm).3', '풍속(m/s).4',\n",
      "       '풍향(deg).4', '기온(°C).4', '수온(°C).4', '강수량(mm).4', '적조발생'],\n",
      "      dtype='object')\n",
      "12566 25133\n",
      "(12566, 8, 25) (12567, 8, 25) (12566, 8) (12567, 8) \n",
      "\n",
      "\n",
      "Epoch 1/4\n",
      "197/197 [==============================] - 3s 6ms/step - loss: 0.5592 - val_loss: 0.3993\n"
     ]
    },
    {
     "name": "stderr",
     "output_type": "stream",
     "text": [
      "WARNING:absl:Found untraced functions such as lstm_cell_layer_call_fn, lstm_cell_layer_call_and_return_conditional_losses, lstm_cell_layer_call_fn, lstm_cell_layer_call_and_return_conditional_losses, lstm_cell_layer_call_and_return_conditional_losses while saving (showing 5 of 5). These functions will not be directly callable after loading.\n"
     ]
    },
    {
     "name": "stdout",
     "output_type": "stream",
     "text": [
      "INFO:tensorflow:Assets written to: /aiffel/aiffel/aiffelthon/wandb/run-20221113_115117-8umg0116/files/model-best/assets\n"
     ]
    },
    {
     "name": "stderr",
     "output_type": "stream",
     "text": [
      "INFO:tensorflow:Assets written to: /aiffel/aiffel/aiffelthon/wandb/run-20221113_115117-8umg0116/files/model-best/assets\n",
      "\u001b[34m\u001b[1mwandb\u001b[0m: Adding directory to artifact (/aiffel/aiffel/aiffelthon/wandb/run-20221113_115117-8umg0116/files/model-best)... Done. 0.0s\n"
     ]
    },
    {
     "name": "stdout",
     "output_type": "stream",
     "text": [
      "sequence accuracy is 0.9177210153576828\n",
      "Epoch 2/4\n",
      "197/197 [==============================] - 1s 5ms/step - loss: 0.2683 - val_loss: 0.2380\n"
     ]
    },
    {
     "name": "stderr",
     "output_type": "stream",
     "text": [
      "WARNING:absl:Found untraced functions such as lstm_cell_layer_call_fn, lstm_cell_layer_call_and_return_conditional_losses, lstm_cell_layer_call_fn, lstm_cell_layer_call_and_return_conditional_losses, lstm_cell_layer_call_and_return_conditional_losses while saving (showing 5 of 5). These functions will not be directly callable after loading.\n"
     ]
    },
    {
     "name": "stdout",
     "output_type": "stream",
     "text": [
      "INFO:tensorflow:Assets written to: /aiffel/aiffel/aiffelthon/wandb/run-20221113_115117-8umg0116/files/model-best/assets\n"
     ]
    },
    {
     "name": "stderr",
     "output_type": "stream",
     "text": [
      "INFO:tensorflow:Assets written to: /aiffel/aiffel/aiffelthon/wandb/run-20221113_115117-8umg0116/files/model-best/assets\n",
      "\u001b[34m\u001b[1mwandb\u001b[0m: Adding directory to artifact (/aiffel/aiffel/aiffelthon/wandb/run-20221113_115117-8umg0116/files/model-best)... Done. 0.0s\n"
     ]
    },
    {
     "name": "stdout",
     "output_type": "stream",
     "text": [
      "sequence accuracy is 0.9265039388875627\n",
      "Epoch 3/4\n",
      "197/197 [==============================] - 1s 5ms/step - loss: 0.1597 - val_loss: 0.2331\n"
     ]
    },
    {
     "name": "stderr",
     "output_type": "stream",
     "text": [
      "WARNING:absl:Found untraced functions such as lstm_cell_layer_call_fn, lstm_cell_layer_call_and_return_conditional_losses, lstm_cell_layer_call_fn, lstm_cell_layer_call_and_return_conditional_losses, lstm_cell_layer_call_and_return_conditional_losses while saving (showing 5 of 5). These functions will not be directly callable after loading.\n"
     ]
    },
    {
     "name": "stdout",
     "output_type": "stream",
     "text": [
      "INFO:tensorflow:Assets written to: /aiffel/aiffel/aiffelthon/wandb/run-20221113_115117-8umg0116/files/model-best/assets\n"
     ]
    },
    {
     "name": "stderr",
     "output_type": "stream",
     "text": [
      "INFO:tensorflow:Assets written to: /aiffel/aiffel/aiffelthon/wandb/run-20221113_115117-8umg0116/files/model-best/assets\n",
      "\u001b[34m\u001b[1mwandb\u001b[0m: Adding directory to artifact (/aiffel/aiffel/aiffelthon/wandb/run-20221113_115117-8umg0116/files/model-best)... Done. 0.0s\n"
     ]
    },
    {
     "name": "stdout",
     "output_type": "stream",
     "text": [
      "sequence accuracy is 0.9261955916288692\n",
      "Epoch 4/4\n",
      "197/197 [==============================] - 1s 5ms/step - loss: 0.1337 - val_loss: 0.2428\n",
      "sequence accuracy is 0.9261955916288692\n"
     ]
    },
    {
     "data": {
      "text/html": [
       "Waiting for W&B process to finish... <strong style=\"color:green\">(success).</strong>"
      ],
      "text/plain": [
       "<IPython.core.display.HTML object>"
      ]
     },
     "metadata": {},
     "output_type": "display_data"
    },
    {
     "data": {
      "application/vnd.jupyter.widget-view+json": {
       "model_id": "68057905a67445b3ae48f817e90abb40",
       "version_major": 2,
       "version_minor": 0
      },
      "text/plain": [
       "VBox(children=(Label(value='2.766 MB of 2.766 MB uploaded (0.008 MB deduped)\\r'), FloatProgress(value=1.0, max…"
      ]
     },
     "metadata": {},
     "output_type": "display_data"
    },
    {
     "data": {
      "text/html": [
       "<style>\n",
       "    table.wandb td:nth-child(1) { padding: 0 10px; text-align: left ; width: auto;} td:nth-child(2) {text-align: left ; width: 100%}\n",
       "    .wandb-row { display: flex; flex-direction: row; flex-wrap: wrap; justify-content: flex-start; width: 100% }\n",
       "    .wandb-col { display: flex; flex-direction: column; flex-basis: 100%; flex: 1; padding: 10px; }\n",
       "    </style>\n",
       "<div class=\"wandb-row\"><div class=\"wandb-col\"><h3>Run history:</h3><br/><table class=\"wandb\"><tr><td>Validation Acc :</td><td>▁</td></tr><tr><td>epoch</td><td>▁▃▆█</td></tr><tr><td>loss</td><td>█▃▁▁</td></tr><tr><td>val_loss</td><td>█▁▁▁</td></tr></table><br/></div><div class=\"wandb-col\"><h3>Run summary:</h3><br/><table class=\"wandb\"><tr><td>Validation Acc :</td><td>0.9262</td></tr><tr><td>best_epoch</td><td>2</td></tr><tr><td>best_val_loss</td><td>0.23314</td></tr><tr><td>epoch</td><td>3</td></tr><tr><td>loss</td><td>0.13371</td></tr><tr><td>val_loss</td><td>0.24276</td></tr></table><br/></div></div>"
      ],
      "text/plain": [
       "<IPython.core.display.HTML object>"
      ]
     },
     "metadata": {},
     "output_type": "display_data"
    },
    {
     "data": {
      "text/html": [
       "Synced <strong style=\"color:#cdcd00\">pleasant-sweep-18</strong>: <a href=\"https://wandb.ai/chhyyi/redzone_LSTM_sweep/runs/8umg0116\" target=\"_blank\">https://wandb.ai/chhyyi/redzone_LSTM_sweep/runs/8umg0116</a><br/>Synced 5 W&B file(s), 1 media file(s), 10 artifact file(s) and 1 other file(s)"
      ],
      "text/plain": [
       "<IPython.core.display.HTML object>"
      ]
     },
     "metadata": {},
     "output_type": "display_data"
    },
    {
     "data": {
      "text/html": [
       "Find logs at: <code>./wandb/run-20221113_115117-8umg0116/logs</code>"
      ],
      "text/plain": [
       "<IPython.core.display.HTML object>"
      ]
     },
     "metadata": {},
     "output_type": "display_data"
    },
    {
     "name": "stderr",
     "output_type": "stream",
     "text": [
      "\u001b[34m\u001b[1mwandb\u001b[0m: Agent Starting Run: ipo6nxcx with config:\n",
      "\u001b[34m\u001b[1mwandb\u001b[0m: \tepochs: 1\n",
      "\u001b[34m\u001b[1mwandb\u001b[0m: \tlearning_rate: 0.001\n",
      "\u001b[34m\u001b[1mwandb\u001b[0m: \tsplit_train_ratio: 0.8\n",
      "\u001b[34m\u001b[1mwandb\u001b[0m: \tstride_inside_seq: 3\n",
      "\u001b[34m\u001b[1mwandb\u001b[0m: \tunit_LSTM0: 64\n"
     ]
    },
    {
     "data": {
      "text/html": [
       "Tracking run with wandb version 0.13.5"
      ],
      "text/plain": [
       "<IPython.core.display.HTML object>"
      ]
     },
     "metadata": {},
     "output_type": "display_data"
    },
    {
     "data": {
      "text/html": [
       "Run data is saved locally in <code>/aiffel/aiffel/aiffelthon/wandb/run-20221113_115211-ipo6nxcx</code>"
      ],
      "text/plain": [
       "<IPython.core.display.HTML object>"
      ]
     },
     "metadata": {},
     "output_type": "display_data"
    },
    {
     "data": {
      "text/html": [
       "Syncing run <strong><a href=\"https://wandb.ai/chhyyi/redzone_LSTM_sweep/runs/ipo6nxcx\" target=\"_blank\">skilled-sweep-19</a></strong> to <a href=\"https://wandb.ai/chhyyi/redzone_LSTM_sweep\" target=\"_blank\">Weights & Biases</a> (<a href=\"https://wandb.me/run\" target=\"_blank\">docs</a>)<br/>Sweep page:  <a href=\"https://wandb.ai/chhyyi/redzone_LSTM_sweep/sweeps/habtjdmw\" target=\"_blank\">https://wandb.ai/chhyyi/redzone_LSTM_sweep/sweeps/habtjdmw</a>"
      ],
      "text/plain": [
       "<IPython.core.display.HTML object>"
      ]
     },
     "metadata": {},
     "output_type": "display_data"
    },
    {
     "name": "stdout",
     "output_type": "stream",
     "text": [
      "loaded dataset. Generating sequences\n",
      "Any missing values exist: False\n",
      "train dataset columns: Index(['풍속(m/s)', '풍향(deg)', '기온(°C)', '수온(°C)', '강수량(mm)', '풍속(m/s).1',\n",
      "       '풍향(deg).1', '기온(°C).1', '수온(°C).1', '강수량(mm).1', '풍속(m/s).2',\n",
      "       '풍향(deg).2', '기온(°C).2', '수온(°C).2', '강수량(mm).2', '풍속(m/s).3',\n",
      "       '풍향(deg).3', '기온(°C).3', '수온(°C).3', '강수량(mm).3', '풍속(m/s).4',\n",
      "       '풍향(deg).4', '기온(°C).4', '수온(°C).4', '강수량(mm).4', '적조발생'],\n",
      "      dtype='object')\n",
      "20106 25133\n",
      "(20106, 24, 25) (5027, 24, 25) (20106, 24) (5027, 24) \n",
      "\n",
      "\n",
      "315/315 [==============================] - 3s 5ms/step - loss: 0.1944 - val_loss: 0.2229\n"
     ]
    },
    {
     "name": "stderr",
     "output_type": "stream",
     "text": [
      "WARNING:absl:Found untraced functions such as lstm_cell_layer_call_fn, lstm_cell_layer_call_and_return_conditional_losses, lstm_cell_layer_call_fn, lstm_cell_layer_call_and_return_conditional_losses, lstm_cell_layer_call_and_return_conditional_losses while saving (showing 5 of 5). These functions will not be directly callable after loading.\n"
     ]
    },
    {
     "name": "stdout",
     "output_type": "stream",
     "text": [
      "INFO:tensorflow:Assets written to: /aiffel/aiffel/aiffelthon/wandb/run-20221113_115211-ipo6nxcx/files/model-best/assets\n"
     ]
    },
    {
     "name": "stderr",
     "output_type": "stream",
     "text": [
      "INFO:tensorflow:Assets written to: /aiffel/aiffel/aiffelthon/wandb/run-20221113_115211-ipo6nxcx/files/model-best/assets\n",
      "\u001b[34m\u001b[1mwandb\u001b[0m: Adding directory to artifact (/aiffel/aiffel/aiffelthon/wandb/run-20221113_115211-ipo6nxcx/files/model-best)... Done. 0.0s\n"
     ]
    },
    {
     "name": "stdout",
     "output_type": "stream",
     "text": [
      "sequence accuracy is 0.8992192162323454\n"
     ]
    },
    {
     "data": {
      "text/html": [
       "Waiting for W&B process to finish... <strong style=\"color:green\">(success).</strong>"
      ],
      "text/plain": [
       "<IPython.core.display.HTML object>"
      ]
     },
     "metadata": {},
     "output_type": "display_data"
    },
    {
     "data": {
      "text/html": [
       "<style>\n",
       "    table.wandb td:nth-child(1) { padding: 0 10px; text-align: left ; width: auto;} td:nth-child(2) {text-align: left ; width: 100%}\n",
       "    .wandb-row { display: flex; flex-direction: row; flex-wrap: wrap; justify-content: flex-start; width: 100% }\n",
       "    .wandb-col { display: flex; flex-direction: column; flex-basis: 100%; flex: 1; padding: 10px; }\n",
       "    </style>\n",
       "<div class=\"wandb-row\"><div class=\"wandb-col\"><h3>Run history:</h3><br/><table class=\"wandb\"><tr><td>Validation Acc :</td><td>▁</td></tr><tr><td>epoch</td><td>▁</td></tr><tr><td>loss</td><td>▁</td></tr><tr><td>val_loss</td><td>▁</td></tr></table><br/></div><div class=\"wandb-col\"><h3>Run summary:</h3><br/><table class=\"wandb\"><tr><td>Validation Acc :</td><td>0.89922</td></tr><tr><td>best_epoch</td><td>0</td></tr><tr><td>best_val_loss</td><td>0.22288</td></tr><tr><td>epoch</td><td>0</td></tr><tr><td>loss</td><td>0.19438</td></tr><tr><td>val_loss</td><td>0.22288</td></tr></table><br/></div></div>"
      ],
      "text/plain": [
       "<IPython.core.display.HTML object>"
      ]
     },
     "metadata": {},
     "output_type": "display_data"
    },
    {
     "data": {
      "text/html": [
       "Synced <strong style=\"color:#cdcd00\">skilled-sweep-19</strong>: <a href=\"https://wandb.ai/chhyyi/redzone_LSTM_sweep/runs/ipo6nxcx\" target=\"_blank\">https://wandb.ai/chhyyi/redzone_LSTM_sweep/runs/ipo6nxcx</a><br/>Synced 5 W&B file(s), 1 media file(s), 4 artifact file(s) and 1 other file(s)"
      ],
      "text/plain": [
       "<IPython.core.display.HTML object>"
      ]
     },
     "metadata": {},
     "output_type": "display_data"
    },
    {
     "data": {
      "text/html": [
       "Find logs at: <code>./wandb/run-20221113_115211-ipo6nxcx/logs</code>"
      ],
      "text/plain": [
       "<IPython.core.display.HTML object>"
      ]
     },
     "metadata": {},
     "output_type": "display_data"
    },
    {
     "name": "stderr",
     "output_type": "stream",
     "text": [
      "\u001b[34m\u001b[1mwandb\u001b[0m: Agent Starting Run: i0r1l8ln with config:\n",
      "\u001b[34m\u001b[1mwandb\u001b[0m: \tepochs: 1\n",
      "\u001b[34m\u001b[1mwandb\u001b[0m: \tlearning_rate: 0.01\n",
      "\u001b[34m\u001b[1mwandb\u001b[0m: \tsplit_train_ratio: 0.5\n",
      "\u001b[34m\u001b[1mwandb\u001b[0m: \tstride_inside_seq: 1\n",
      "\u001b[34m\u001b[1mwandb\u001b[0m: \tunit_LSTM0: 256\n"
     ]
    },
    {
     "data": {
      "text/html": [
       "Tracking run with wandb version 0.13.5"
      ],
      "text/plain": [
       "<IPython.core.display.HTML object>"
      ]
     },
     "metadata": {},
     "output_type": "display_data"
    },
    {
     "data": {
      "text/html": [
       "Run data is saved locally in <code>/aiffel/aiffel/aiffelthon/wandb/run-20221113_115310-i0r1l8ln</code>"
      ],
      "text/plain": [
       "<IPython.core.display.HTML object>"
      ]
     },
     "metadata": {},
     "output_type": "display_data"
    },
    {
     "data": {
      "text/html": [
       "Syncing run <strong><a href=\"https://wandb.ai/chhyyi/redzone_LSTM_sweep/runs/i0r1l8ln\" target=\"_blank\">desert-sweep-20</a></strong> to <a href=\"https://wandb.ai/chhyyi/redzone_LSTM_sweep\" target=\"_blank\">Weights & Biases</a> (<a href=\"https://wandb.me/run\" target=\"_blank\">docs</a>)<br/>Sweep page:  <a href=\"https://wandb.ai/chhyyi/redzone_LSTM_sweep/sweeps/habtjdmw\" target=\"_blank\">https://wandb.ai/chhyyi/redzone_LSTM_sweep/sweeps/habtjdmw</a>"
      ],
      "text/plain": [
       "<IPython.core.display.HTML object>"
      ]
     },
     "metadata": {},
     "output_type": "display_data"
    },
    {
     "name": "stdout",
     "output_type": "stream",
     "text": [
      "loaded dataset. Generating sequences\n",
      "Any missing values exist: False\n",
      "train dataset columns: Index(['풍속(m/s)', '풍향(deg)', '기온(°C)', '수온(°C)', '강수량(mm)', '풍속(m/s).1',\n",
      "       '풍향(deg).1', '기온(°C).1', '수온(°C).1', '강수량(mm).1', '풍속(m/s).2',\n",
      "       '풍향(deg).2', '기온(°C).2', '수온(°C).2', '강수량(mm).2', '풍속(m/s).3',\n",
      "       '풍향(deg).3', '기온(°C).3', '수온(°C).3', '강수량(mm).3', '풍속(m/s).4',\n",
      "       '풍향(deg).4', '기온(°C).4', '수온(°C).4', '강수량(mm).4', '적조발생'],\n",
      "      dtype='object')\n",
      "12566 25133\n",
      "(12566, 72, 25) (12567, 72, 25) (12566, 72) (12567, 72) \n",
      "\n",
      "\n",
      "197/197 [==============================] - 4s 13ms/step - loss: 0.1403 - val_loss: 0.2789\n"
     ]
    },
    {
     "name": "stderr",
     "output_type": "stream",
     "text": [
      "WARNING:absl:Found untraced functions such as lstm_cell_layer_call_fn, lstm_cell_layer_call_and_return_conditional_losses, lstm_cell_layer_call_fn, lstm_cell_layer_call_and_return_conditional_losses, lstm_cell_layer_call_and_return_conditional_losses while saving (showing 5 of 5). These functions will not be directly callable after loading.\n"
     ]
    },
    {
     "name": "stdout",
     "output_type": "stream",
     "text": [
      "INFO:tensorflow:Assets written to: /aiffel/aiffel/aiffelthon/wandb/run-20221113_115310-i0r1l8ln/files/model-best/assets\n"
     ]
    },
    {
     "name": "stderr",
     "output_type": "stream",
     "text": [
      "INFO:tensorflow:Assets written to: /aiffel/aiffel/aiffelthon/wandb/run-20221113_115310-i0r1l8ln/files/model-best/assets\n",
      "\u001b[34m\u001b[1mwandb\u001b[0m: Adding directory to artifact (/aiffel/aiffel/aiffelthon/wandb/run-20221113_115310-i0r1l8ln/files/model-best)... Done. 0.0s\n"
     ]
    },
    {
     "name": "stdout",
     "output_type": "stream",
     "text": [
      "sequence accuracy is 0.9261425426381263\n"
     ]
    },
    {
     "data": {
      "text/html": [
       "Waiting for W&B process to finish... <strong style=\"color:green\">(success).</strong>"
      ],
      "text/plain": [
       "<IPython.core.display.HTML object>"
      ]
     },
     "metadata": {},
     "output_type": "display_data"
    },
    {
     "data": {
      "application/vnd.jupyter.widget-view+json": {
       "model_id": "8ed24000bf964cbc85c24ddb157aecfc",
       "version_major": 2,
       "version_minor": 0
      },
      "text/plain": [
       "VBox(children=(Label(value='7.872 MB of 7.872 MB uploaded (0.000 MB deduped)\\r'), FloatProgress(value=1.0, max…"
      ]
     },
     "metadata": {},
     "output_type": "display_data"
    },
    {
     "data": {
      "text/html": [
       "<style>\n",
       "    table.wandb td:nth-child(1) { padding: 0 10px; text-align: left ; width: auto;} td:nth-child(2) {text-align: left ; width: 100%}\n",
       "    .wandb-row { display: flex; flex-direction: row; flex-wrap: wrap; justify-content: flex-start; width: 100% }\n",
       "    .wandb-col { display: flex; flex-direction: column; flex-basis: 100%; flex: 1; padding: 10px; }\n",
       "    </style>\n",
       "<div class=\"wandb-row\"><div class=\"wandb-col\"><h3>Run history:</h3><br/><table class=\"wandb\"><tr><td>Validation Acc :</td><td>▁</td></tr><tr><td>epoch</td><td>▁</td></tr><tr><td>loss</td><td>▁</td></tr><tr><td>val_loss</td><td>▁</td></tr></table><br/></div><div class=\"wandb-col\"><h3>Run summary:</h3><br/><table class=\"wandb\"><tr><td>Validation Acc :</td><td>0.92614</td></tr><tr><td>best_epoch</td><td>0</td></tr><tr><td>best_val_loss</td><td>0.27886</td></tr><tr><td>epoch</td><td>0</td></tr><tr><td>loss</td><td>0.14029</td></tr><tr><td>val_loss</td><td>0.27886</td></tr></table><br/></div></div>"
      ],
      "text/plain": [
       "<IPython.core.display.HTML object>"
      ]
     },
     "metadata": {},
     "output_type": "display_data"
    },
    {
     "data": {
      "text/html": [
       "Synced <strong style=\"color:#cdcd00\">desert-sweep-20</strong>: <a href=\"https://wandb.ai/chhyyi/redzone_LSTM_sweep/runs/i0r1l8ln\" target=\"_blank\">https://wandb.ai/chhyyi/redzone_LSTM_sweep/runs/i0r1l8ln</a><br/>Synced 5 W&B file(s), 1 media file(s), 4 artifact file(s) and 1 other file(s)"
      ],
      "text/plain": [
       "<IPython.core.display.HTML object>"
      ]
     },
     "metadata": {},
     "output_type": "display_data"
    },
    {
     "data": {
      "text/html": [
       "Find logs at: <code>./wandb/run-20221113_115310-i0r1l8ln/logs</code>"
      ],
      "text/plain": [
       "<IPython.core.display.HTML object>"
      ]
     },
     "metadata": {},
     "output_type": "display_data"
    },
    {
     "name": "stderr",
     "output_type": "stream",
     "text": [
      "\u001b[34m\u001b[1mwandb\u001b[0m: Agent Starting Run: kt1znb7a with config:\n",
      "\u001b[34m\u001b[1mwandb\u001b[0m: \tepochs: 3\n",
      "\u001b[34m\u001b[1mwandb\u001b[0m: \tlearning_rate: 0.0032\n",
      "\u001b[34m\u001b[1mwandb\u001b[0m: \tsplit_train_ratio: 0.8\n",
      "\u001b[34m\u001b[1mwandb\u001b[0m: \tstride_inside_seq: 9\n",
      "\u001b[34m\u001b[1mwandb\u001b[0m: \tunit_LSTM0: 32\n"
     ]
    },
    {
     "data": {
      "application/vnd.jupyter.widget-view+json": {
       "model_id": "4e9135d7322747e2bd3bc9b51d38104e",
       "version_major": 2,
       "version_minor": 0
      },
      "text/plain": [
       "VBox(children=(Label(value='Waiting for wandb.init()...\\r'), FloatProgress(value=0.016669169483308603, max=1.0…"
      ]
     },
     "metadata": {},
     "output_type": "display_data"
    },
    {
     "data": {
      "text/html": [
       "Tracking run with wandb version 0.13.5"
      ],
      "text/plain": [
       "<IPython.core.display.HTML object>"
      ]
     },
     "metadata": {},
     "output_type": "display_data"
    },
    {
     "data": {
      "text/html": [
       "Run data is saved locally in <code>/aiffel/aiffel/aiffelthon/wandb/run-20221113_115518-kt1znb7a</code>"
      ],
      "text/plain": [
       "<IPython.core.display.HTML object>"
      ]
     },
     "metadata": {},
     "output_type": "display_data"
    },
    {
     "data": {
      "text/html": [
       "Syncing run <strong><a href=\"https://wandb.ai/chhyyi/redzone_LSTM_sweep/runs/kt1znb7a\" target=\"_blank\">quiet-sweep-21</a></strong> to <a href=\"https://wandb.ai/chhyyi/redzone_LSTM_sweep\" target=\"_blank\">Weights & Biases</a> (<a href=\"https://wandb.me/run\" target=\"_blank\">docs</a>)<br/>Sweep page:  <a href=\"https://wandb.ai/chhyyi/redzone_LSTM_sweep/sweeps/habtjdmw\" target=\"_blank\">https://wandb.ai/chhyyi/redzone_LSTM_sweep/sweeps/habtjdmw</a>"
      ],
      "text/plain": [
       "<IPython.core.display.HTML object>"
      ]
     },
     "metadata": {},
     "output_type": "display_data"
    },
    {
     "name": "stdout",
     "output_type": "stream",
     "text": [
      "loaded dataset. Generating sequences\n",
      "Any missing values exist: False\n",
      "train dataset columns: Index(['풍속(m/s)', '풍향(deg)', '기온(°C)', '수온(°C)', '강수량(mm)', '풍속(m/s).1',\n",
      "       '풍향(deg).1', '기온(°C).1', '수온(°C).1', '강수량(mm).1', '풍속(m/s).2',\n",
      "       '풍향(deg).2', '기온(°C).2', '수온(°C).2', '강수량(mm).2', '풍속(m/s).3',\n",
      "       '풍향(deg).3', '기온(°C).3', '수온(°C).3', '강수량(mm).3', '풍속(m/s).4',\n",
      "       '풍향(deg).4', '기온(°C).4', '수온(°C).4', '강수량(mm).4', '적조발생'],\n",
      "      dtype='object')\n",
      "20106 25133\n",
      "(20106, 8, 25) (5027, 8, 25) (20106, 8) (5027, 8) \n",
      "\n",
      "\n",
      "Epoch 1/3\n",
      "315/315 [==============================] - 3s 5ms/step - loss: 0.1578 - val_loss: 0.2224\n"
     ]
    },
    {
     "name": "stderr",
     "output_type": "stream",
     "text": [
      "WARNING:absl:Found untraced functions such as lstm_cell_layer_call_fn, lstm_cell_layer_call_and_return_conditional_losses, lstm_cell_layer_call_fn, lstm_cell_layer_call_and_return_conditional_losses, lstm_cell_layer_call_and_return_conditional_losses while saving (showing 5 of 5). These functions will not be directly callable after loading.\n"
     ]
    },
    {
     "name": "stdout",
     "output_type": "stream",
     "text": [
      "INFO:tensorflow:Assets written to: /aiffel/aiffel/aiffelthon/wandb/run-20221113_115518-kt1znb7a/files/model-best/assets\n"
     ]
    },
    {
     "name": "stderr",
     "output_type": "stream",
     "text": [
      "INFO:tensorflow:Assets written to: /aiffel/aiffel/aiffelthon/wandb/run-20221113_115518-kt1znb7a/files/model-best/assets\n",
      "\u001b[34m\u001b[1mwandb\u001b[0m: Adding directory to artifact (/aiffel/aiffel/aiffelthon/wandb/run-20221113_115518-kt1znb7a/files/model-best)... Done. 0.0s\n"
     ]
    },
    {
     "name": "stdout",
     "output_type": "stream",
     "text": [
      "sequence accuracy is 0.89787646707778\n",
      "Epoch 2/3\n",
      "315/315 [==============================] - 1s 3ms/step - loss: 0.0864 - val_loss: 0.1884\n"
     ]
    },
    {
     "name": "stderr",
     "output_type": "stream",
     "text": [
      "WARNING:absl:Found untraced functions such as lstm_cell_layer_call_fn, lstm_cell_layer_call_and_return_conditional_losses, lstm_cell_layer_call_fn, lstm_cell_layer_call_and_return_conditional_losses, lstm_cell_layer_call_and_return_conditional_losses while saving (showing 5 of 5). These functions will not be directly callable after loading.\n"
     ]
    },
    {
     "name": "stdout",
     "output_type": "stream",
     "text": [
      "INFO:tensorflow:Assets written to: /aiffel/aiffel/aiffelthon/wandb/run-20221113_115518-kt1znb7a/files/model-best/assets\n"
     ]
    },
    {
     "name": "stderr",
     "output_type": "stream",
     "text": [
      "INFO:tensorflow:Assets written to: /aiffel/aiffel/aiffelthon/wandb/run-20221113_115518-kt1znb7a/files/model-best/assets\n",
      "\u001b[34m\u001b[1mwandb\u001b[0m: Adding directory to artifact (/aiffel/aiffel/aiffelthon/wandb/run-20221113_115518-kt1znb7a/files/model-best)... Done. 0.0s\n"
     ]
    },
    {
     "name": "stdout",
     "output_type": "stream",
     "text": [
      "sequence accuracy is 0.9074000397851602\n",
      "Epoch 3/3\n",
      "315/315 [==============================] - 1s 4ms/step - loss: 0.0634 - val_loss: 0.1611\n"
     ]
    },
    {
     "name": "stderr",
     "output_type": "stream",
     "text": [
      "WARNING:absl:Found untraced functions such as lstm_cell_layer_call_fn, lstm_cell_layer_call_and_return_conditional_losses, lstm_cell_layer_call_fn, lstm_cell_layer_call_and_return_conditional_losses, lstm_cell_layer_call_and_return_conditional_losses while saving (showing 5 of 5). These functions will not be directly callable after loading.\n"
     ]
    },
    {
     "name": "stdout",
     "output_type": "stream",
     "text": [
      "INFO:tensorflow:Assets written to: /aiffel/aiffel/aiffelthon/wandb/run-20221113_115518-kt1znb7a/files/model-best/assets\n"
     ]
    },
    {
     "name": "stderr",
     "output_type": "stream",
     "text": [
      "INFO:tensorflow:Assets written to: /aiffel/aiffel/aiffelthon/wandb/run-20221113_115518-kt1znb7a/files/model-best/assets\n",
      "\u001b[34m\u001b[1mwandb\u001b[0m: Adding directory to artifact (/aiffel/aiffel/aiffelthon/wandb/run-20221113_115518-kt1znb7a/files/model-best)... Done. 0.0s\n"
     ]
    },
    {
     "name": "stdout",
     "output_type": "stream",
     "text": [
      "sequence accuracy is 0.9275164113785558\n"
     ]
    },
    {
     "data": {
      "text/html": [
       "Waiting for W&B process to finish... <strong style=\"color:green\">(success).</strong>"
      ],
      "text/plain": [
       "<IPython.core.display.HTML object>"
      ]
     },
     "metadata": {},
     "output_type": "display_data"
    },
    {
     "data": {
      "text/html": [
       "<style>\n",
       "    table.wandb td:nth-child(1) { padding: 0 10px; text-align: left ; width: auto;} td:nth-child(2) {text-align: left ; width: 100%}\n",
       "    .wandb-row { display: flex; flex-direction: row; flex-wrap: wrap; justify-content: flex-start; width: 100% }\n",
       "    .wandb-col { display: flex; flex-direction: column; flex-basis: 100%; flex: 1; padding: 10px; }\n",
       "    </style>\n",
       "<div class=\"wandb-row\"><div class=\"wandb-col\"><h3>Run history:</h3><br/><table class=\"wandb\"><tr><td>Validation Acc :</td><td>▁</td></tr><tr><td>epoch</td><td>▁▅█</td></tr><tr><td>loss</td><td>█▃▁</td></tr><tr><td>val_loss</td><td>█▄▁</td></tr></table><br/></div><div class=\"wandb-col\"><h3>Run summary:</h3><br/><table class=\"wandb\"><tr><td>Validation Acc :</td><td>0.92752</td></tr><tr><td>best_epoch</td><td>2</td></tr><tr><td>best_val_loss</td><td>0.16109</td></tr><tr><td>epoch</td><td>2</td></tr><tr><td>loss</td><td>0.06337</td></tr><tr><td>val_loss</td><td>0.16109</td></tr></table><br/></div></div>"
      ],
      "text/plain": [
       "<IPython.core.display.HTML object>"
      ]
     },
     "metadata": {},
     "output_type": "display_data"
    },
    {
     "data": {
      "text/html": [
       "Synced <strong style=\"color:#cdcd00\">quiet-sweep-21</strong>: <a href=\"https://wandb.ai/chhyyi/redzone_LSTM_sweep/runs/kt1znb7a\" target=\"_blank\">https://wandb.ai/chhyyi/redzone_LSTM_sweep/runs/kt1znb7a</a><br/>Synced 5 W&B file(s), 1 media file(s), 10 artifact file(s) and 1 other file(s)"
      ],
      "text/plain": [
       "<IPython.core.display.HTML object>"
      ]
     },
     "metadata": {},
     "output_type": "display_data"
    },
    {
     "data": {
      "text/html": [
       "Find logs at: <code>./wandb/run-20221113_115518-kt1znb7a/logs</code>"
      ],
      "text/plain": [
       "<IPython.core.display.HTML object>"
      ]
     },
     "metadata": {},
     "output_type": "display_data"
    },
    {
     "name": "stderr",
     "output_type": "stream",
     "text": [
      "\u001b[34m\u001b[1mwandb\u001b[0m: Agent Starting Run: 6e9ak9b5 with config:\n",
      "\u001b[34m\u001b[1mwandb\u001b[0m: \tepochs: 3\n",
      "\u001b[34m\u001b[1mwandb\u001b[0m: \tlearning_rate: 0.0032\n",
      "\u001b[34m\u001b[1mwandb\u001b[0m: \tsplit_train_ratio: 0.5\n",
      "\u001b[34m\u001b[1mwandb\u001b[0m: \tstride_inside_seq: 3\n",
      "\u001b[34m\u001b[1mwandb\u001b[0m: \tunit_LSTM0: 64\n"
     ]
    },
    {
     "data": {
      "text/html": [
       "Tracking run with wandb version 0.13.5"
      ],
      "text/plain": [
       "<IPython.core.display.HTML object>"
      ]
     },
     "metadata": {},
     "output_type": "display_data"
    },
    {
     "data": {
      "text/html": [
       "Run data is saved locally in <code>/aiffel/aiffel/aiffelthon/wandb/run-20221113_115618-6e9ak9b5</code>"
      ],
      "text/plain": [
       "<IPython.core.display.HTML object>"
      ]
     },
     "metadata": {},
     "output_type": "display_data"
    },
    {
     "data": {
      "text/html": [
       "Syncing run <strong><a href=\"https://wandb.ai/chhyyi/redzone_LSTM_sweep/runs/6e9ak9b5\" target=\"_blank\">jumping-sweep-22</a></strong> to <a href=\"https://wandb.ai/chhyyi/redzone_LSTM_sweep\" target=\"_blank\">Weights & Biases</a> (<a href=\"https://wandb.me/run\" target=\"_blank\">docs</a>)<br/>Sweep page:  <a href=\"https://wandb.ai/chhyyi/redzone_LSTM_sweep/sweeps/habtjdmw\" target=\"_blank\">https://wandb.ai/chhyyi/redzone_LSTM_sweep/sweeps/habtjdmw</a>"
      ],
      "text/plain": [
       "<IPython.core.display.HTML object>"
      ]
     },
     "metadata": {},
     "output_type": "display_data"
    },
    {
     "name": "stdout",
     "output_type": "stream",
     "text": [
      "loaded dataset. Generating sequences\n",
      "Any missing values exist: False\n",
      "train dataset columns: Index(['풍속(m/s)', '풍향(deg)', '기온(°C)', '수온(°C)', '강수량(mm)', '풍속(m/s).1',\n",
      "       '풍향(deg).1', '기온(°C).1', '수온(°C).1', '강수량(mm).1', '풍속(m/s).2',\n",
      "       '풍향(deg).2', '기온(°C).2', '수온(°C).2', '강수량(mm).2', '풍속(m/s).3',\n",
      "       '풍향(deg).3', '기온(°C).3', '수온(°C).3', '강수량(mm).3', '풍속(m/s).4',\n",
      "       '풍향(deg).4', '기온(°C).4', '수온(°C).4', '강수량(mm).4', '적조발생'],\n",
      "      dtype='object')\n",
      "12566 25133\n",
      "(12566, 24, 25) (12567, 24, 25) (12566, 24) (12567, 24) \n",
      "\n",
      "\n",
      "Epoch 1/3\n",
      "197/197 [==============================] - 3s 7ms/step - loss: 0.1431 - val_loss: 0.3455\n"
     ]
    },
    {
     "name": "stderr",
     "output_type": "stream",
     "text": [
      "WARNING:absl:Found untraced functions such as lstm_cell_layer_call_fn, lstm_cell_layer_call_and_return_conditional_losses, lstm_cell_layer_call_fn, lstm_cell_layer_call_and_return_conditional_losses, lstm_cell_layer_call_and_return_conditional_losses while saving (showing 5 of 5). These functions will not be directly callable after loading.\n"
     ]
    },
    {
     "name": "stdout",
     "output_type": "stream",
     "text": [
      "INFO:tensorflow:Assets written to: /aiffel/aiffel/aiffelthon/wandb/run-20221113_115618-6e9ak9b5/files/model-best/assets\n"
     ]
    },
    {
     "name": "stderr",
     "output_type": "stream",
     "text": [
      "INFO:tensorflow:Assets written to: /aiffel/aiffel/aiffelthon/wandb/run-20221113_115618-6e9ak9b5/files/model-best/assets\n",
      "\u001b[34m\u001b[1mwandb\u001b[0m: Adding directory to artifact (/aiffel/aiffel/aiffelthon/wandb/run-20221113_115618-6e9ak9b5/files/model-best)... Done. 0.0s\n"
     ]
    },
    {
     "name": "stdout",
     "output_type": "stream",
     "text": [
      "sequence accuracy is 0.9261558048858121\n",
      "Epoch 2/3\n",
      "197/197 [==============================] - 1s 5ms/step - loss: 0.1014 - val_loss: 0.3449\n"
     ]
    },
    {
     "name": "stderr",
     "output_type": "stream",
     "text": [
      "WARNING:absl:Found untraced functions such as lstm_cell_layer_call_fn, lstm_cell_layer_call_and_return_conditional_losses, lstm_cell_layer_call_fn, lstm_cell_layer_call_and_return_conditional_losses, lstm_cell_layer_call_and_return_conditional_losses while saving (showing 5 of 5). These functions will not be directly callable after loading.\n"
     ]
    },
    {
     "name": "stdout",
     "output_type": "stream",
     "text": [
      "INFO:tensorflow:Assets written to: /aiffel/aiffel/aiffelthon/wandb/run-20221113_115618-6e9ak9b5/files/model-best/assets\n"
     ]
    },
    {
     "name": "stderr",
     "output_type": "stream",
     "text": [
      "INFO:tensorflow:Assets written to: /aiffel/aiffel/aiffelthon/wandb/run-20221113_115618-6e9ak9b5/files/model-best/assets\n",
      "\u001b[34m\u001b[1mwandb\u001b[0m: Adding directory to artifact (/aiffel/aiffel/aiffelthon/wandb/run-20221113_115618-6e9ak9b5/files/model-best)... Done. 0.0s\n"
     ]
    },
    {
     "name": "stdout",
     "output_type": "stream",
     "text": [
      "sequence accuracy is 0.9284236492400733\n",
      "Epoch 3/3\n",
      "197/197 [==============================] - 1s 6ms/step - loss: 0.0795 - val_loss: 0.3860\n",
      "sequence accuracy is 0.9282810800774516\n"
     ]
    },
    {
     "data": {
      "text/html": [
       "Waiting for W&B process to finish... <strong style=\"color:green\">(success).</strong>"
      ],
      "text/plain": [
       "<IPython.core.display.HTML object>"
      ]
     },
     "metadata": {},
     "output_type": "display_data"
    },
    {
     "data": {
      "text/html": [
       "<style>\n",
       "    table.wandb td:nth-child(1) { padding: 0 10px; text-align: left ; width: auto;} td:nth-child(2) {text-align: left ; width: 100%}\n",
       "    .wandb-row { display: flex; flex-direction: row; flex-wrap: wrap; justify-content: flex-start; width: 100% }\n",
       "    .wandb-col { display: flex; flex-direction: column; flex-basis: 100%; flex: 1; padding: 10px; }\n",
       "    </style>\n",
       "<div class=\"wandb-row\"><div class=\"wandb-col\"><h3>Run history:</h3><br/><table class=\"wandb\"><tr><td>Validation Acc :</td><td>▁</td></tr><tr><td>epoch</td><td>▁▅█</td></tr><tr><td>loss</td><td>█▃▁</td></tr><tr><td>val_loss</td><td>▁▁█</td></tr></table><br/></div><div class=\"wandb-col\"><h3>Run summary:</h3><br/><table class=\"wandb\"><tr><td>Validation Acc :</td><td>0.92828</td></tr><tr><td>best_epoch</td><td>1</td></tr><tr><td>best_val_loss</td><td>0.34495</td></tr><tr><td>epoch</td><td>2</td></tr><tr><td>loss</td><td>0.07949</td></tr><tr><td>val_loss</td><td>0.38596</td></tr></table><br/></div></div>"
      ],
      "text/plain": [
       "<IPython.core.display.HTML object>"
      ]
     },
     "metadata": {},
     "output_type": "display_data"
    },
    {
     "data": {
      "text/html": [
       "Synced <strong style=\"color:#cdcd00\">jumping-sweep-22</strong>: <a href=\"https://wandb.ai/chhyyi/redzone_LSTM_sweep/runs/6e9ak9b5\" target=\"_blank\">https://wandb.ai/chhyyi/redzone_LSTM_sweep/runs/6e9ak9b5</a><br/>Synced 5 W&B file(s), 1 media file(s), 7 artifact file(s) and 1 other file(s)"
      ],
      "text/plain": [
       "<IPython.core.display.HTML object>"
      ]
     },
     "metadata": {},
     "output_type": "display_data"
    },
    {
     "data": {
      "text/html": [
       "Find logs at: <code>./wandb/run-20221113_115618-6e9ak9b5/logs</code>"
      ],
      "text/plain": [
       "<IPython.core.display.HTML object>"
      ]
     },
     "metadata": {},
     "output_type": "display_data"
    },
    {
     "name": "stderr",
     "output_type": "stream",
     "text": [
      "\u001b[34m\u001b[1mwandb\u001b[0m: Agent Starting Run: ir7jv7n5 with config:\n",
      "\u001b[34m\u001b[1mwandb\u001b[0m: \tepochs: 4\n",
      "\u001b[34m\u001b[1mwandb\u001b[0m: \tlearning_rate: 0.001\n",
      "\u001b[34m\u001b[1mwandb\u001b[0m: \tsplit_train_ratio: 0.5\n",
      "\u001b[34m\u001b[1mwandb\u001b[0m: \tstride_inside_seq: 1\n",
      "\u001b[34m\u001b[1mwandb\u001b[0m: \tunit_LSTM0: 128\n"
     ]
    },
    {
     "data": {
      "text/html": [
       "Tracking run with wandb version 0.13.5"
      ],
      "text/plain": [
       "<IPython.core.display.HTML object>"
      ]
     },
     "metadata": {},
     "output_type": "display_data"
    },
    {
     "data": {
      "text/html": [
       "Run data is saved locally in <code>/aiffel/aiffel/aiffelthon/wandb/run-20221113_115736-ir7jv7n5</code>"
      ],
      "text/plain": [
       "<IPython.core.display.HTML object>"
      ]
     },
     "metadata": {},
     "output_type": "display_data"
    },
    {
     "data": {
      "text/html": [
       "Syncing run <strong><a href=\"https://wandb.ai/chhyyi/redzone_LSTM_sweep/runs/ir7jv7n5\" target=\"_blank\">distinctive-sweep-23</a></strong> to <a href=\"https://wandb.ai/chhyyi/redzone_LSTM_sweep\" target=\"_blank\">Weights & Biases</a> (<a href=\"https://wandb.me/run\" target=\"_blank\">docs</a>)<br/>Sweep page:  <a href=\"https://wandb.ai/chhyyi/redzone_LSTM_sweep/sweeps/habtjdmw\" target=\"_blank\">https://wandb.ai/chhyyi/redzone_LSTM_sweep/sweeps/habtjdmw</a>"
      ],
      "text/plain": [
       "<IPython.core.display.HTML object>"
      ]
     },
     "metadata": {},
     "output_type": "display_data"
    },
    {
     "name": "stdout",
     "output_type": "stream",
     "text": [
      "loaded dataset. Generating sequences\n",
      "Any missing values exist: False\n",
      "train dataset columns: Index(['풍속(m/s)', '풍향(deg)', '기온(°C)', '수온(°C)', '강수량(mm)', '풍속(m/s).1',\n",
      "       '풍향(deg).1', '기온(°C).1', '수온(°C).1', '강수량(mm).1', '풍속(m/s).2',\n",
      "       '풍향(deg).2', '기온(°C).2', '수온(°C).2', '강수량(mm).2', '풍속(m/s).3',\n",
      "       '풍향(deg).3', '기온(°C).3', '수온(°C).3', '강수량(mm).3', '풍속(m/s).4',\n",
      "       '풍향(deg).4', '기온(°C).4', '수온(°C).4', '강수량(mm).4', '적조발생'],\n",
      "      dtype='object')\n",
      "12566 25133\n",
      "(12566, 72, 25) (12567, 72, 25) (12566, 72) (12567, 72) \n",
      "\n",
      "\n",
      "Epoch 1/4\n",
      "197/197 [==============================] - 3s 11ms/step - loss: 0.1797 - val_loss: 0.2837\n"
     ]
    },
    {
     "name": "stderr",
     "output_type": "stream",
     "text": [
      "WARNING:absl:Found untraced functions such as lstm_cell_layer_call_fn, lstm_cell_layer_call_and_return_conditional_losses, lstm_cell_layer_call_fn, lstm_cell_layer_call_and_return_conditional_losses, lstm_cell_layer_call_and_return_conditional_losses while saving (showing 5 of 5). These functions will not be directly callable after loading.\n"
     ]
    },
    {
     "name": "stdout",
     "output_type": "stream",
     "text": [
      "INFO:tensorflow:Assets written to: /aiffel/aiffel/aiffelthon/wandb/run-20221113_115736-ir7jv7n5/files/model-best/assets\n"
     ]
    },
    {
     "name": "stderr",
     "output_type": "stream",
     "text": [
      "INFO:tensorflow:Assets written to: /aiffel/aiffel/aiffelthon/wandb/run-20221113_115736-ir7jv7n5/files/model-best/assets\n",
      "\u001b[34m\u001b[1mwandb\u001b[0m: Adding directory to artifact (/aiffel/aiffel/aiffelthon/wandb/run-20221113_115736-ir7jv7n5/files/model-best)... Done. 0.0s\n"
     ]
    },
    {
     "name": "stdout",
     "output_type": "stream",
     "text": [
      "sequence accuracy is 0.9258949806813259\n",
      "Epoch 2/4\n",
      "197/197 [==============================] - 2s 8ms/step - loss: 0.1297 - val_loss: 0.3342\n",
      "sequence accuracy is 0.9261381218888978\n",
      "Epoch 3/4\n",
      "197/197 [==============================] - 2s 9ms/step - loss: 0.1095 - val_loss: 0.3633\n",
      "sequence accuracy is 0.926719450412456\n",
      "Epoch 4/4\n",
      "197/197 [==============================] - 2s 9ms/step - loss: 0.1086 - val_loss: 0.3304\n",
      "sequence accuracy is 0.9267327126601417\n"
     ]
    },
    {
     "data": {
      "text/html": [
       "Waiting for W&B process to finish... <strong style=\"color:green\">(success).</strong>"
      ],
      "text/plain": [
       "<IPython.core.display.HTML object>"
      ]
     },
     "metadata": {},
     "output_type": "display_data"
    },
    {
     "data": {
      "text/html": [
       "<style>\n",
       "    table.wandb td:nth-child(1) { padding: 0 10px; text-align: left ; width: auto;} td:nth-child(2) {text-align: left ; width: 100%}\n",
       "    .wandb-row { display: flex; flex-direction: row; flex-wrap: wrap; justify-content: flex-start; width: 100% }\n",
       "    .wandb-col { display: flex; flex-direction: column; flex-basis: 100%; flex: 1; padding: 10px; }\n",
       "    </style>\n",
       "<div class=\"wandb-row\"><div class=\"wandb-col\"><h3>Run history:</h3><br/><table class=\"wandb\"><tr><td>Validation Acc :</td><td>▁</td></tr><tr><td>epoch</td><td>▁▃▆█</td></tr><tr><td>loss</td><td>█▃▁▁</td></tr><tr><td>val_loss</td><td>▁▅█▅</td></tr></table><br/></div><div class=\"wandb-col\"><h3>Run summary:</h3><br/><table class=\"wandb\"><tr><td>Validation Acc :</td><td>0.92673</td></tr><tr><td>best_epoch</td><td>0</td></tr><tr><td>best_val_loss</td><td>0.28371</td></tr><tr><td>epoch</td><td>3</td></tr><tr><td>loss</td><td>0.10858</td></tr><tr><td>val_loss</td><td>0.33043</td></tr></table><br/></div></div>"
      ],
      "text/plain": [
       "<IPython.core.display.HTML object>"
      ]
     },
     "metadata": {},
     "output_type": "display_data"
    },
    {
     "data": {
      "text/html": [
       "Synced <strong style=\"color:#cdcd00\">distinctive-sweep-23</strong>: <a href=\"https://wandb.ai/chhyyi/redzone_LSTM_sweep/runs/ir7jv7n5\" target=\"_blank\">https://wandb.ai/chhyyi/redzone_LSTM_sweep/runs/ir7jv7n5</a><br/>Synced 5 W&B file(s), 1 media file(s), 4 artifact file(s) and 1 other file(s)"
      ],
      "text/plain": [
       "<IPython.core.display.HTML object>"
      ]
     },
     "metadata": {},
     "output_type": "display_data"
    },
    {
     "data": {
      "text/html": [
       "Find logs at: <code>./wandb/run-20221113_115736-ir7jv7n5/logs</code>"
      ],
      "text/plain": [
       "<IPython.core.display.HTML object>"
      ]
     },
     "metadata": {},
     "output_type": "display_data"
    },
    {
     "name": "stderr",
     "output_type": "stream",
     "text": [
      "\u001b[34m\u001b[1mwandb\u001b[0m: Sweep Agent: Waiting for job.\n",
      "\u001b[34m\u001b[1mwandb\u001b[0m: Job received.\n",
      "\u001b[34m\u001b[1mwandb\u001b[0m: Agent Starting Run: 2hlkdrl9 with config:\n",
      "\u001b[34m\u001b[1mwandb\u001b[0m: \tepochs: 4\n",
      "\u001b[34m\u001b[1mwandb\u001b[0m: \tlearning_rate: 0.01\n",
      "\u001b[34m\u001b[1mwandb\u001b[0m: \tsplit_train_ratio: 0.5\n",
      "\u001b[34m\u001b[1mwandb\u001b[0m: \tstride_inside_seq: 9\n",
      "\u001b[34m\u001b[1mwandb\u001b[0m: \tunit_LSTM0: 256\n"
     ]
    },
    {
     "data": {
      "text/html": [
       "Tracking run with wandb version 0.13.5"
      ],
      "text/plain": [
       "<IPython.core.display.HTML object>"
      ]
     },
     "metadata": {},
     "output_type": "display_data"
    },
    {
     "data": {
      "text/html": [
       "Run data is saved locally in <code>/aiffel/aiffel/aiffelthon/wandb/run-20221113_120011-2hlkdrl9</code>"
      ],
      "text/plain": [
       "<IPython.core.display.HTML object>"
      ]
     },
     "metadata": {},
     "output_type": "display_data"
    },
    {
     "data": {
      "text/html": [
       "Syncing run <strong><a href=\"https://wandb.ai/chhyyi/redzone_LSTM_sweep/runs/2hlkdrl9\" target=\"_blank\">splendid-sweep-24</a></strong> to <a href=\"https://wandb.ai/chhyyi/redzone_LSTM_sweep\" target=\"_blank\">Weights & Biases</a> (<a href=\"https://wandb.me/run\" target=\"_blank\">docs</a>)<br/>Sweep page:  <a href=\"https://wandb.ai/chhyyi/redzone_LSTM_sweep/sweeps/habtjdmw\" target=\"_blank\">https://wandb.ai/chhyyi/redzone_LSTM_sweep/sweeps/habtjdmw</a>"
      ],
      "text/plain": [
       "<IPython.core.display.HTML object>"
      ]
     },
     "metadata": {},
     "output_type": "display_data"
    },
    {
     "name": "stdout",
     "output_type": "stream",
     "text": [
      "loaded dataset. Generating sequences\n",
      "Any missing values exist: False\n",
      "train dataset columns: Index(['풍속(m/s)', '풍향(deg)', '기온(°C)', '수온(°C)', '강수량(mm)', '풍속(m/s).1',\n",
      "       '풍향(deg).1', '기온(°C).1', '수온(°C).1', '강수량(mm).1', '풍속(m/s).2',\n",
      "       '풍향(deg).2', '기온(°C).2', '수온(°C).2', '강수량(mm).2', '풍속(m/s).3',\n",
      "       '풍향(deg).3', '기온(°C).3', '수온(°C).3', '강수량(mm).3', '풍속(m/s).4',\n",
      "       '풍향(deg).4', '기온(°C).4', '수온(°C).4', '강수량(mm).4', '적조발생'],\n",
      "      dtype='object')\n",
      "12566 25133\n",
      "(12566, 8, 25) (12567, 8, 25) (12566, 8) (12567, 8) \n",
      "\n",
      "\n",
      "Epoch 1/4\n",
      "197/197 [==============================] - 3s 7ms/step - loss: 0.1386 - val_loss: 0.2993\n"
     ]
    },
    {
     "name": "stderr",
     "output_type": "stream",
     "text": [
      "WARNING:absl:Found untraced functions such as lstm_cell_layer_call_fn, lstm_cell_layer_call_and_return_conditional_losses, lstm_cell_layer_call_fn, lstm_cell_layer_call_and_return_conditional_losses, lstm_cell_layer_call_and_return_conditional_losses while saving (showing 5 of 5). These functions will not be directly callable after loading.\n"
     ]
    },
    {
     "name": "stdout",
     "output_type": "stream",
     "text": [
      "INFO:tensorflow:Assets written to: /aiffel/aiffel/aiffelthon/wandb/run-20221113_120011-2hlkdrl9/files/model-best/assets\n"
     ]
    },
    {
     "name": "stderr",
     "output_type": "stream",
     "text": [
      "INFO:tensorflow:Assets written to: /aiffel/aiffel/aiffelthon/wandb/run-20221113_120011-2hlkdrl9/files/model-best/assets\n",
      "\u001b[34m\u001b[1mwandb\u001b[0m: Adding directory to artifact (/aiffel/aiffel/aiffelthon/wandb/run-20221113_120011-2hlkdrl9/files/model-best)... Done. 0.0s\n"
     ]
    },
    {
     "name": "stdout",
     "output_type": "stream",
     "text": [
      "sequence accuracy is 0.9261955916288692\n",
      "Epoch 2/4\n",
      "197/197 [==============================] - 1s 5ms/step - loss: 0.1109 - val_loss: 0.4043\n",
      "sequence accuracy is 0.9261160181427548\n",
      "Epoch 3/4\n",
      "197/197 [==============================] - 1s 5ms/step - loss: 0.0984 - val_loss: 0.4171\n",
      "sequence accuracy is 0.9123895917880163\n",
      "Epoch 4/4\n",
      "197/197 [==============================] - 1s 5ms/step - loss: 0.0781 - val_loss: 0.5468\n",
      "sequence accuracy is 0.8955299594175221\n"
     ]
    },
    {
     "data": {
      "text/html": [
       "Waiting for W&B process to finish... <strong style=\"color:green\">(success).</strong>"
      ],
      "text/plain": [
       "<IPython.core.display.HTML object>"
      ]
     },
     "metadata": {},
     "output_type": "display_data"
    },
    {
     "data": {
      "application/vnd.jupyter.widget-view+json": {
       "model_id": "b7d33cf7b1124819b6e788b0594fc376",
       "version_major": 2,
       "version_minor": 0
      },
      "text/plain": [
       "VBox(children=(Label(value='7.496 MB of 7.496 MB uploaded (0.000 MB deduped)\\r'), FloatProgress(value=1.0, max…"
      ]
     },
     "metadata": {},
     "output_type": "display_data"
    },
    {
     "data": {
      "text/html": [
       "<style>\n",
       "    table.wandb td:nth-child(1) { padding: 0 10px; text-align: left ; width: auto;} td:nth-child(2) {text-align: left ; width: 100%}\n",
       "    .wandb-row { display: flex; flex-direction: row; flex-wrap: wrap; justify-content: flex-start; width: 100% }\n",
       "    .wandb-col { display: flex; flex-direction: column; flex-basis: 100%; flex: 1; padding: 10px; }\n",
       "    </style>\n",
       "<div class=\"wandb-row\"><div class=\"wandb-col\"><h3>Run history:</h3><br/><table class=\"wandb\"><tr><td>Validation Acc :</td><td>▁</td></tr><tr><td>epoch</td><td>▁▃▆█</td></tr><tr><td>loss</td><td>█▅▃▁</td></tr><tr><td>val_loss</td><td>▁▄▄█</td></tr></table><br/></div><div class=\"wandb-col\"><h3>Run summary:</h3><br/><table class=\"wandb\"><tr><td>Validation Acc :</td><td>0.89553</td></tr><tr><td>best_epoch</td><td>0</td></tr><tr><td>best_val_loss</td><td>0.29928</td></tr><tr><td>epoch</td><td>3</td></tr><tr><td>loss</td><td>0.07809</td></tr><tr><td>val_loss</td><td>0.5468</td></tr></table><br/></div></div>"
      ],
      "text/plain": [
       "<IPython.core.display.HTML object>"
      ]
     },
     "metadata": {},
     "output_type": "display_data"
    },
    {
     "data": {
      "text/html": [
       "Synced <strong style=\"color:#cdcd00\">splendid-sweep-24</strong>: <a href=\"https://wandb.ai/chhyyi/redzone_LSTM_sweep/runs/2hlkdrl9\" target=\"_blank\">https://wandb.ai/chhyyi/redzone_LSTM_sweep/runs/2hlkdrl9</a><br/>Synced 5 W&B file(s), 1 media file(s), 4 artifact file(s) and 1 other file(s)"
      ],
      "text/plain": [
       "<IPython.core.display.HTML object>"
      ]
     },
     "metadata": {},
     "output_type": "display_data"
    },
    {
     "data": {
      "text/html": [
       "Find logs at: <code>./wandb/run-20221113_120011-2hlkdrl9/logs</code>"
      ],
      "text/plain": [
       "<IPython.core.display.HTML object>"
      ]
     },
     "metadata": {},
     "output_type": "display_data"
    },
    {
     "name": "stderr",
     "output_type": "stream",
     "text": [
      "\u001b[34m\u001b[1mwandb\u001b[0m: Agent Starting Run: xmlrcrlf with config:\n",
      "\u001b[34m\u001b[1mwandb\u001b[0m: \tepochs: 4\n",
      "\u001b[34m\u001b[1mwandb\u001b[0m: \tlearning_rate: 0.0002\n",
      "\u001b[34m\u001b[1mwandb\u001b[0m: \tsplit_train_ratio: 0.8\n",
      "\u001b[34m\u001b[1mwandb\u001b[0m: \tstride_inside_seq: 1\n",
      "\u001b[34m\u001b[1mwandb\u001b[0m: \tunit_LSTM0: 128\n"
     ]
    },
    {
     "data": {
      "text/html": [
       "Tracking run with wandb version 0.13.5"
      ],
      "text/plain": [
       "<IPython.core.display.HTML object>"
      ]
     },
     "metadata": {},
     "output_type": "display_data"
    },
    {
     "data": {
      "text/html": [
       "Run data is saved locally in <code>/aiffel/aiffel/aiffelthon/wandb/run-20221113_120106-xmlrcrlf</code>"
      ],
      "text/plain": [
       "<IPython.core.display.HTML object>"
      ]
     },
     "metadata": {},
     "output_type": "display_data"
    },
    {
     "data": {
      "text/html": [
       "Syncing run <strong><a href=\"https://wandb.ai/chhyyi/redzone_LSTM_sweep/runs/xmlrcrlf\" target=\"_blank\">toasty-sweep-25</a></strong> to <a href=\"https://wandb.ai/chhyyi/redzone_LSTM_sweep\" target=\"_blank\">Weights & Biases</a> (<a href=\"https://wandb.me/run\" target=\"_blank\">docs</a>)<br/>Sweep page:  <a href=\"https://wandb.ai/chhyyi/redzone_LSTM_sweep/sweeps/habtjdmw\" target=\"_blank\">https://wandb.ai/chhyyi/redzone_LSTM_sweep/sweeps/habtjdmw</a>"
      ],
      "text/plain": [
       "<IPython.core.display.HTML object>"
      ]
     },
     "metadata": {},
     "output_type": "display_data"
    },
    {
     "name": "stdout",
     "output_type": "stream",
     "text": [
      "loaded dataset. Generating sequences\n",
      "Any missing values exist: False\n",
      "train dataset columns: Index(['풍속(m/s)', '풍향(deg)', '기온(°C)', '수온(°C)', '강수량(mm)', '풍속(m/s).1',\n",
      "       '풍향(deg).1', '기온(°C).1', '수온(°C).1', '강수량(mm).1', '풍속(m/s).2',\n",
      "       '풍향(deg).2', '기온(°C).2', '수온(°C).2', '강수량(mm).2', '풍속(m/s).3',\n",
      "       '풍향(deg).3', '기온(°C).3', '수온(°C).3', '강수량(mm).3', '풍속(m/s).4',\n",
      "       '풍향(deg).4', '기온(°C).4', '수온(°C).4', '강수량(mm).4', '적조발생'],\n",
      "      dtype='object')\n",
      "20106 25133\n",
      "(20106, 72, 25) (5027, 72, 25) (20106, 72) (5027, 72) \n",
      "\n",
      "\n",
      "Epoch 1/4\n",
      "315/315 [==============================] - 4s 8ms/step - loss: 0.2731 - val_loss: 0.2260\n"
     ]
    },
    {
     "name": "stderr",
     "output_type": "stream",
     "text": [
      "WARNING:absl:Found untraced functions such as lstm_cell_layer_call_fn, lstm_cell_layer_call_and_return_conditional_losses, lstm_cell_layer_call_fn, lstm_cell_layer_call_and_return_conditional_losses, lstm_cell_layer_call_and_return_conditional_losses while saving (showing 5 of 5). These functions will not be directly callable after loading.\n"
     ]
    },
    {
     "name": "stdout",
     "output_type": "stream",
     "text": [
      "INFO:tensorflow:Assets written to: /aiffel/aiffel/aiffelthon/wandb/run-20221113_120106-xmlrcrlf/files/model-best/assets\n"
     ]
    },
    {
     "name": "stderr",
     "output_type": "stream",
     "text": [
      "INFO:tensorflow:Assets written to: /aiffel/aiffel/aiffelthon/wandb/run-20221113_120106-xmlrcrlf/files/model-best/assets\n",
      "\u001b[34m\u001b[1mwandb\u001b[0m: Adding directory to artifact (/aiffel/aiffel/aiffelthon/wandb/run-20221113_120106-xmlrcrlf/files/model-best)... Done. 0.0s\n"
     ]
    },
    {
     "name": "stdout",
     "output_type": "stream",
     "text": [
      "sequence accuracy is 0.9048554472515086\n",
      "Epoch 2/4\n",
      "315/315 [==============================] - 2s 6ms/step - loss: 0.1594 - val_loss: 0.2172\n"
     ]
    },
    {
     "name": "stderr",
     "output_type": "stream",
     "text": [
      "WARNING:absl:Found untraced functions such as lstm_cell_layer_call_fn, lstm_cell_layer_call_and_return_conditional_losses, lstm_cell_layer_call_fn, lstm_cell_layer_call_and_return_conditional_losses, lstm_cell_layer_call_and_return_conditional_losses while saving (showing 5 of 5). These functions will not be directly callable after loading.\n"
     ]
    },
    {
     "name": "stdout",
     "output_type": "stream",
     "text": [
      "INFO:tensorflow:Assets written to: /aiffel/aiffel/aiffelthon/wandb/run-20221113_120106-xmlrcrlf/files/model-best/assets\n"
     ]
    },
    {
     "name": "stderr",
     "output_type": "stream",
     "text": [
      "INFO:tensorflow:Assets written to: /aiffel/aiffel/aiffelthon/wandb/run-20221113_120106-xmlrcrlf/files/model-best/assets\n",
      "\u001b[34m\u001b[1mwandb\u001b[0m: Adding directory to artifact (/aiffel/aiffel/aiffelthon/wandb/run-20221113_120106-xmlrcrlf/files/model-best)... Done. 0.0s\n"
     ]
    },
    {
     "name": "stdout",
     "output_type": "stream",
     "text": [
      "sequence accuracy is 0.9057174590544393\n",
      "Epoch 3/4\n",
      "315/315 [==============================] - 2s 6ms/step - loss: 0.1354 - val_loss: 0.2128\n"
     ]
    },
    {
     "name": "stderr",
     "output_type": "stream",
     "text": [
      "WARNING:absl:Found untraced functions such as lstm_cell_layer_call_fn, lstm_cell_layer_call_and_return_conditional_losses, lstm_cell_layer_call_fn, lstm_cell_layer_call_and_return_conditional_losses, lstm_cell_layer_call_and_return_conditional_losses while saving (showing 5 of 5). These functions will not be directly callable after loading.\n"
     ]
    },
    {
     "name": "stdout",
     "output_type": "stream",
     "text": [
      "INFO:tensorflow:Assets written to: /aiffel/aiffel/aiffelthon/wandb/run-20221113_120106-xmlrcrlf/files/model-best/assets\n"
     ]
    },
    {
     "name": "stderr",
     "output_type": "stream",
     "text": [
      "INFO:tensorflow:Assets written to: /aiffel/aiffel/aiffelthon/wandb/run-20221113_120106-xmlrcrlf/files/model-best/assets\n",
      "\u001b[34m\u001b[1mwandb\u001b[0m: Adding directory to artifact (/aiffel/aiffel/aiffelthon/wandb/run-20221113_120106-xmlrcrlf/files/model-best)... Done. 0.0s\n"
     ]
    },
    {
     "name": "stdout",
     "output_type": "stream",
     "text": [
      "sequence accuracy is 0.9028827663948014\n",
      "Epoch 4/4\n",
      "315/315 [==============================] - 2s 6ms/step - loss: 0.1205 - val_loss: 0.2285\n",
      "sequence accuracy is 0.8917871272904095\n"
     ]
    },
    {
     "data": {
      "text/html": [
       "Waiting for W&B process to finish... <strong style=\"color:green\">(success).</strong>"
      ],
      "text/plain": [
       "<IPython.core.display.HTML object>"
      ]
     },
     "metadata": {},
     "output_type": "display_data"
    },
    {
     "data": {
      "text/html": [
       "<style>\n",
       "    table.wandb td:nth-child(1) { padding: 0 10px; text-align: left ; width: auto;} td:nth-child(2) {text-align: left ; width: 100%}\n",
       "    .wandb-row { display: flex; flex-direction: row; flex-wrap: wrap; justify-content: flex-start; width: 100% }\n",
       "    .wandb-col { display: flex; flex-direction: column; flex-basis: 100%; flex: 1; padding: 10px; }\n",
       "    </style>\n",
       "<div class=\"wandb-row\"><div class=\"wandb-col\"><h3>Run history:</h3><br/><table class=\"wandb\"><tr><td>Validation Acc :</td><td>▁</td></tr><tr><td>epoch</td><td>▁▃▆█</td></tr><tr><td>loss</td><td>█▃▂▁</td></tr><tr><td>val_loss</td><td>▇▃▁█</td></tr></table><br/></div><div class=\"wandb-col\"><h3>Run summary:</h3><br/><table class=\"wandb\"><tr><td>Validation Acc :</td><td>0.89179</td></tr><tr><td>best_epoch</td><td>2</td></tr><tr><td>best_val_loss</td><td>0.21275</td></tr><tr><td>epoch</td><td>3</td></tr><tr><td>loss</td><td>0.1205</td></tr><tr><td>val_loss</td><td>0.22855</td></tr></table><br/></div></div>"
      ],
      "text/plain": [
       "<IPython.core.display.HTML object>"
      ]
     },
     "metadata": {},
     "output_type": "display_data"
    },
    {
     "data": {
      "text/html": [
       "Synced <strong style=\"color:#cdcd00\">toasty-sweep-25</strong>: <a href=\"https://wandb.ai/chhyyi/redzone_LSTM_sweep/runs/xmlrcrlf\" target=\"_blank\">https://wandb.ai/chhyyi/redzone_LSTM_sweep/runs/xmlrcrlf</a><br/>Synced 5 W&B file(s), 1 media file(s), 10 artifact file(s) and 1 other file(s)"
      ],
      "text/plain": [
       "<IPython.core.display.HTML object>"
      ]
     },
     "metadata": {},
     "output_type": "display_data"
    },
    {
     "data": {
      "text/html": [
       "Find logs at: <code>./wandb/run-20221113_120106-xmlrcrlf/logs</code>"
      ],
      "text/plain": [
       "<IPython.core.display.HTML object>"
      ]
     },
     "metadata": {},
     "output_type": "display_data"
    },
    {
     "name": "stderr",
     "output_type": "stream",
     "text": [
      "\u001b[34m\u001b[1mwandb\u001b[0m: Sweep Agent: Waiting for job.\n",
      "\u001b[34m\u001b[1mwandb\u001b[0m: Job received.\n",
      "\u001b[34m\u001b[1mwandb\u001b[0m: Agent Starting Run: e5f7mgdd with config:\n",
      "\u001b[34m\u001b[1mwandb\u001b[0m: \tepochs: 3\n",
      "\u001b[34m\u001b[1mwandb\u001b[0m: \tlearning_rate: 0.01\n",
      "\u001b[34m\u001b[1mwandb\u001b[0m: \tsplit_train_ratio: 0.8\n",
      "\u001b[34m\u001b[1mwandb\u001b[0m: \tstride_inside_seq: 9\n",
      "\u001b[34m\u001b[1mwandb\u001b[0m: \tunit_LSTM0: 128\n"
     ]
    },
    {
     "data": {
      "application/vnd.jupyter.widget-view+json": {
       "model_id": "2b072a4d1b554f30abc409693103b43a",
       "version_major": 2,
       "version_minor": 0
      },
      "text/plain": [
       "VBox(children=(Label(value='Waiting for wandb.init()...\\r'), FloatProgress(value=0.016669544700077192, max=1.0…"
      ]
     },
     "metadata": {},
     "output_type": "display_data"
    },
    {
     "data": {
      "text/html": [
       "Tracking run with wandb version 0.13.5"
      ],
      "text/plain": [
       "<IPython.core.display.HTML object>"
      ]
     },
     "metadata": {},
     "output_type": "display_data"
    },
    {
     "data": {
      "text/html": [
       "Run data is saved locally in <code>/aiffel/aiffel/aiffelthon/wandb/run-20221113_120354-e5f7mgdd</code>"
      ],
      "text/plain": [
       "<IPython.core.display.HTML object>"
      ]
     },
     "metadata": {},
     "output_type": "display_data"
    },
    {
     "data": {
      "text/html": [
       "Syncing run <strong><a href=\"https://wandb.ai/chhyyi/redzone_LSTM_sweep/runs/e5f7mgdd\" target=\"_blank\">hopeful-sweep-26</a></strong> to <a href=\"https://wandb.ai/chhyyi/redzone_LSTM_sweep\" target=\"_blank\">Weights & Biases</a> (<a href=\"https://wandb.me/run\" target=\"_blank\">docs</a>)<br/>Sweep page:  <a href=\"https://wandb.ai/chhyyi/redzone_LSTM_sweep/sweeps/habtjdmw\" target=\"_blank\">https://wandb.ai/chhyyi/redzone_LSTM_sweep/sweeps/habtjdmw</a>"
      ],
      "text/plain": [
       "<IPython.core.display.HTML object>"
      ]
     },
     "metadata": {},
     "output_type": "display_data"
    },
    {
     "name": "stdout",
     "output_type": "stream",
     "text": [
      "loaded dataset. Generating sequences\n",
      "Any missing values exist: False\n",
      "train dataset columns: Index(['풍속(m/s)', '풍향(deg)', '기온(°C)', '수온(°C)', '강수량(mm)', '풍속(m/s).1',\n",
      "       '풍향(deg).1', '기온(°C).1', '수온(°C).1', '강수량(mm).1', '풍속(m/s).2',\n",
      "       '풍향(deg).2', '기온(°C).2', '수온(°C).2', '강수량(mm).2', '풍속(m/s).3',\n",
      "       '풍향(deg).3', '기온(°C).3', '수온(°C).3', '강수량(mm).3', '풍속(m/s).4',\n",
      "       '풍향(deg).4', '기온(°C).4', '수온(°C).4', '강수량(mm).4', '적조발생'],\n",
      "      dtype='object')\n",
      "20106 25133\n",
      "(20106, 8, 25) (5027, 8, 25) (20106, 8) (5027, 8) \n",
      "\n",
      "\n",
      "Epoch 1/3\n",
      "315/315 [==============================] - 3s 5ms/step - loss: 0.1465 - val_loss: 0.2114\n"
     ]
    },
    {
     "name": "stderr",
     "output_type": "stream",
     "text": [
      "WARNING:absl:Found untraced functions such as lstm_cell_layer_call_fn, lstm_cell_layer_call_and_return_conditional_losses, lstm_cell_layer_call_fn, lstm_cell_layer_call_and_return_conditional_losses, lstm_cell_layer_call_and_return_conditional_losses while saving (showing 5 of 5). These functions will not be directly callable after loading.\n"
     ]
    },
    {
     "name": "stdout",
     "output_type": "stream",
     "text": [
      "INFO:tensorflow:Assets written to: /aiffel/aiffel/aiffelthon/wandb/run-20221113_120354-e5f7mgdd/files/model-best/assets\n"
     ]
    },
    {
     "name": "stderr",
     "output_type": "stream",
     "text": [
      "INFO:tensorflow:Assets written to: /aiffel/aiffel/aiffelthon/wandb/run-20221113_120354-e5f7mgdd/files/model-best/assets\n",
      "\u001b[34m\u001b[1mwandb\u001b[0m: Adding directory to artifact (/aiffel/aiffel/aiffelthon/wandb/run-20221113_120354-e5f7mgdd/files/model-best)... Done. 0.0s\n"
     ]
    },
    {
     "name": "stdout",
     "output_type": "stream",
     "text": [
      "sequence accuracy is 0.8995176049333599\n",
      "Epoch 2/3\n",
      "315/315 [==============================] - 1s 4ms/step - loss: 0.0937 - val_loss: 0.2213\n",
      "sequence accuracy is 0.8923811418340959\n",
      "Epoch 3/3\n",
      "315/315 [==============================] - 1s 4ms/step - loss: 0.0651 - val_loss: 0.2331\n",
      "sequence accuracy is 0.9021533717923215\n"
     ]
    },
    {
     "data": {
      "text/html": [
       "Waiting for W&B process to finish... <strong style=\"color:green\">(success).</strong>"
      ],
      "text/plain": [
       "<IPython.core.display.HTML object>"
      ]
     },
     "metadata": {},
     "output_type": "display_data"
    },
    {
     "data": {
      "application/vnd.jupyter.widget-view+json": {
       "model_id": "566c4ef3b8b34494ad1ff36322b25503",
       "version_major": 2,
       "version_minor": 0
      },
      "text/plain": [
       "VBox(children=(Label(value='2.662 MB of 2.662 MB uploaded (0.000 MB deduped)\\r'), FloatProgress(value=1.0, max…"
      ]
     },
     "metadata": {},
     "output_type": "display_data"
    },
    {
     "data": {
      "text/html": [
       "<style>\n",
       "    table.wandb td:nth-child(1) { padding: 0 10px; text-align: left ; width: auto;} td:nth-child(2) {text-align: left ; width: 100%}\n",
       "    .wandb-row { display: flex; flex-direction: row; flex-wrap: wrap; justify-content: flex-start; width: 100% }\n",
       "    .wandb-col { display: flex; flex-direction: column; flex-basis: 100%; flex: 1; padding: 10px; }\n",
       "    </style>\n",
       "<div class=\"wandb-row\"><div class=\"wandb-col\"><h3>Run history:</h3><br/><table class=\"wandb\"><tr><td>Validation Acc :</td><td>▁</td></tr><tr><td>epoch</td><td>▁▅█</td></tr><tr><td>loss</td><td>█▃▁</td></tr><tr><td>val_loss</td><td>▁▄█</td></tr></table><br/></div><div class=\"wandb-col\"><h3>Run summary:</h3><br/><table class=\"wandb\"><tr><td>Validation Acc :</td><td>0.90215</td></tr><tr><td>best_epoch</td><td>0</td></tr><tr><td>best_val_loss</td><td>0.21139</td></tr><tr><td>epoch</td><td>2</td></tr><tr><td>loss</td><td>0.06511</td></tr><tr><td>val_loss</td><td>0.23314</td></tr></table><br/></div></div>"
      ],
      "text/plain": [
       "<IPython.core.display.HTML object>"
      ]
     },
     "metadata": {},
     "output_type": "display_data"
    },
    {
     "data": {
      "text/html": [
       "Synced <strong style=\"color:#cdcd00\">hopeful-sweep-26</strong>: <a href=\"https://wandb.ai/chhyyi/redzone_LSTM_sweep/runs/e5f7mgdd\" target=\"_blank\">https://wandb.ai/chhyyi/redzone_LSTM_sweep/runs/e5f7mgdd</a><br/>Synced 5 W&B file(s), 1 media file(s), 4 artifact file(s) and 1 other file(s)"
      ],
      "text/plain": [
       "<IPython.core.display.HTML object>"
      ]
     },
     "metadata": {},
     "output_type": "display_data"
    },
    {
     "data": {
      "text/html": [
       "Find logs at: <code>./wandb/run-20221113_120354-e5f7mgdd/logs</code>"
      ],
      "text/plain": [
       "<IPython.core.display.HTML object>"
      ]
     },
     "metadata": {},
     "output_type": "display_data"
    },
    {
     "name": "stderr",
     "output_type": "stream",
     "text": [
      "\u001b[34m\u001b[1mwandb\u001b[0m: Agent Starting Run: bop7qwi9 with config:\n",
      "\u001b[34m\u001b[1mwandb\u001b[0m: \tepochs: 3\n",
      "\u001b[34m\u001b[1mwandb\u001b[0m: \tlearning_rate: 0.001\n",
      "\u001b[34m\u001b[1mwandb\u001b[0m: \tsplit_train_ratio: 0.8\n",
      "\u001b[34m\u001b[1mwandb\u001b[0m: \tstride_inside_seq: 1\n",
      "\u001b[34m\u001b[1mwandb\u001b[0m: \tunit_LSTM0: 256\n"
     ]
    },
    {
     "data": {
      "application/vnd.jupyter.widget-view+json": {
       "model_id": "92de5fe895ab4921adbbb68bb0419948",
       "version_major": 2,
       "version_minor": 0
      },
      "text/plain": [
       "VBox(children=(Label(value='Waiting for wandb.init()...\\r'), FloatProgress(value=0.016670829950089682, max=1.0…"
      ]
     },
     "metadata": {},
     "output_type": "display_data"
    },
    {
     "data": {
      "text/html": [
       "Tracking run with wandb version 0.13.5"
      ],
      "text/plain": [
       "<IPython.core.display.HTML object>"
      ]
     },
     "metadata": {},
     "output_type": "display_data"
    },
    {
     "data": {
      "text/html": [
       "Run data is saved locally in <code>/aiffel/aiffel/aiffelthon/wandb/run-20221113_120448-bop7qwi9</code>"
      ],
      "text/plain": [
       "<IPython.core.display.HTML object>"
      ]
     },
     "metadata": {},
     "output_type": "display_data"
    },
    {
     "data": {
      "text/html": [
       "Syncing run <strong><a href=\"https://wandb.ai/chhyyi/redzone_LSTM_sweep/runs/bop7qwi9\" target=\"_blank\">usual-sweep-27</a></strong> to <a href=\"https://wandb.ai/chhyyi/redzone_LSTM_sweep\" target=\"_blank\">Weights & Biases</a> (<a href=\"https://wandb.me/run\" target=\"_blank\">docs</a>)<br/>Sweep page:  <a href=\"https://wandb.ai/chhyyi/redzone_LSTM_sweep/sweeps/habtjdmw\" target=\"_blank\">https://wandb.ai/chhyyi/redzone_LSTM_sweep/sweeps/habtjdmw</a>"
      ],
      "text/plain": [
       "<IPython.core.display.HTML object>"
      ]
     },
     "metadata": {},
     "output_type": "display_data"
    },
    {
     "name": "stdout",
     "output_type": "stream",
     "text": [
      "loaded dataset. Generating sequences\n",
      "Any missing values exist: False\n",
      "train dataset columns: Index(['풍속(m/s)', '풍향(deg)', '기온(°C)', '수온(°C)', '강수량(mm)', '풍속(m/s).1',\n",
      "       '풍향(deg).1', '기온(°C).1', '수온(°C).1', '강수량(mm).1', '풍속(m/s).2',\n",
      "       '풍향(deg).2', '기온(°C).2', '수온(°C).2', '강수량(mm).2', '풍속(m/s).3',\n",
      "       '풍향(deg).3', '기온(°C).3', '수온(°C).3', '강수량(mm).3', '풍속(m/s).4',\n",
      "       '풍향(deg).4', '기온(°C).4', '수온(°C).4', '강수량(mm).4', '적조발생'],\n",
      "      dtype='object')\n",
      "20106 25133\n",
      "(20106, 72, 25) (5027, 72, 25) (20106, 72) (5027, 72) \n",
      "\n",
      "\n",
      "Epoch 1/3\n",
      "315/315 [==============================] - 4s 9ms/step - loss: 0.1906 - val_loss: 0.2373\n"
     ]
    },
    {
     "name": "stderr",
     "output_type": "stream",
     "text": [
      "WARNING:absl:Found untraced functions such as lstm_cell_layer_call_fn, lstm_cell_layer_call_and_return_conditional_losses, lstm_cell_layer_call_fn, lstm_cell_layer_call_and_return_conditional_losses, lstm_cell_layer_call_and_return_conditional_losses while saving (showing 5 of 5). These functions will not be directly callable after loading.\n"
     ]
    },
    {
     "name": "stdout",
     "output_type": "stream",
     "text": [
      "INFO:tensorflow:Assets written to: /aiffel/aiffel/aiffelthon/wandb/run-20221113_120448-bop7qwi9/files/model-best/assets\n"
     ]
    },
    {
     "name": "stderr",
     "output_type": "stream",
     "text": [
      "INFO:tensorflow:Assets written to: /aiffel/aiffel/aiffelthon/wandb/run-20221113_120448-bop7qwi9/files/model-best/assets\n",
      "\u001b[34m\u001b[1mwandb\u001b[0m: Adding directory to artifact (/aiffel/aiffel/aiffelthon/wandb/run-20221113_120448-bop7qwi9/files/model-best)... Done. 0.1s\n"
     ]
    },
    {
     "name": "stdout",
     "output_type": "stream",
     "text": [
      "sequence accuracy is 0.9096545321928254\n",
      "Epoch 2/3\n",
      "315/315 [==============================] - 2s 8ms/step - loss: 0.1535 - val_loss: 0.2494\n",
      "sequence accuracy is 0.908809097539951\n",
      "Epoch 3/3\n",
      "315/315 [==============================] - 2s 7ms/step - loss: 0.1340 - val_loss: 0.1973\n"
     ]
    },
    {
     "name": "stderr",
     "output_type": "stream",
     "text": [
      "WARNING:absl:Found untraced functions such as lstm_cell_layer_call_fn, lstm_cell_layer_call_and_return_conditional_losses, lstm_cell_layer_call_fn, lstm_cell_layer_call_and_return_conditional_losses, lstm_cell_layer_call_and_return_conditional_losses while saving (showing 5 of 5). These functions will not be directly callable after loading.\n"
     ]
    },
    {
     "name": "stdout",
     "output_type": "stream",
     "text": [
      "INFO:tensorflow:Assets written to: /aiffel/aiffel/aiffelthon/wandb/run-20221113_120448-bop7qwi9/files/model-best/assets\n"
     ]
    },
    {
     "name": "stderr",
     "output_type": "stream",
     "text": [
      "INFO:tensorflow:Assets written to: /aiffel/aiffel/aiffelthon/wandb/run-20221113_120448-bop7qwi9/files/model-best/assets\n",
      "\u001b[34m\u001b[1mwandb\u001b[0m: Adding directory to artifact (/aiffel/aiffel/aiffelthon/wandb/run-20221113_120448-bop7qwi9/files/model-best)... Done. 0.0s\n"
     ]
    },
    {
     "name": "stdout",
     "output_type": "stream",
     "text": [
      "sequence accuracy is 0.9138485511570851\n"
     ]
    },
    {
     "data": {
      "text/html": [
       "Waiting for W&B process to finish... <strong style=\"color:green\">(success).</strong>"
      ],
      "text/plain": [
       "<IPython.core.display.HTML object>"
      ]
     },
     "metadata": {},
     "output_type": "display_data"
    },
    {
     "data": {
      "text/html": [
       "<style>\n",
       "    table.wandb td:nth-child(1) { padding: 0 10px; text-align: left ; width: auto;} td:nth-child(2) {text-align: left ; width: 100%}\n",
       "    .wandb-row { display: flex; flex-direction: row; flex-wrap: wrap; justify-content: flex-start; width: 100% }\n",
       "    .wandb-col { display: flex; flex-direction: column; flex-basis: 100%; flex: 1; padding: 10px; }\n",
       "    </style>\n",
       "<div class=\"wandb-row\"><div class=\"wandb-col\"><h3>Run history:</h3><br/><table class=\"wandb\"><tr><td>Validation Acc :</td><td>▁</td></tr><tr><td>epoch</td><td>▁▅█</td></tr><tr><td>loss</td><td>█▃▁</td></tr><tr><td>val_loss</td><td>▆█▁</td></tr></table><br/></div><div class=\"wandb-col\"><h3>Run summary:</h3><br/><table class=\"wandb\"><tr><td>Validation Acc :</td><td>0.91385</td></tr><tr><td>best_epoch</td><td>2</td></tr><tr><td>best_val_loss</td><td>0.19729</td></tr><tr><td>epoch</td><td>2</td></tr><tr><td>loss</td><td>0.13402</td></tr><tr><td>val_loss</td><td>0.19729</td></tr></table><br/></div></div>"
      ],
      "text/plain": [
       "<IPython.core.display.HTML object>"
      ]
     },
     "metadata": {},
     "output_type": "display_data"
    },
    {
     "data": {
      "text/html": [
       "Synced <strong style=\"color:#cdcd00\">usual-sweep-27</strong>: <a href=\"https://wandb.ai/chhyyi/redzone_LSTM_sweep/runs/bop7qwi9\" target=\"_blank\">https://wandb.ai/chhyyi/redzone_LSTM_sweep/runs/bop7qwi9</a><br/>Synced 5 W&B file(s), 1 media file(s), 7 artifact file(s) and 1 other file(s)"
      ],
      "text/plain": [
       "<IPython.core.display.HTML object>"
      ]
     },
     "metadata": {},
     "output_type": "display_data"
    },
    {
     "data": {
      "text/html": [
       "Find logs at: <code>./wandb/run-20221113_120448-bop7qwi9/logs</code>"
      ],
      "text/plain": [
       "<IPython.core.display.HTML object>"
      ]
     },
     "metadata": {},
     "output_type": "display_data"
    },
    {
     "name": "stderr",
     "output_type": "stream",
     "text": [
      "\u001b[34m\u001b[1mwandb\u001b[0m: Agent Starting Run: dg9ci4fz with config:\n",
      "\u001b[34m\u001b[1mwandb\u001b[0m: \tepochs: 1\n",
      "\u001b[34m\u001b[1mwandb\u001b[0m: \tlearning_rate: 0.0002\n",
      "\u001b[34m\u001b[1mwandb\u001b[0m: \tsplit_train_ratio: 0.5\n",
      "\u001b[34m\u001b[1mwandb\u001b[0m: \tstride_inside_seq: 3\n",
      "\u001b[34m\u001b[1mwandb\u001b[0m: \tunit_LSTM0: 256\n"
     ]
    },
    {
     "data": {
      "application/vnd.jupyter.widget-view+json": {
       "model_id": "69e785c80eef4d2d8ba391665ae79c0c",
       "version_major": 2,
       "version_minor": 0
      },
      "text/plain": [
       "VBox(children=(Label(value='Waiting for wandb.init()...\\r'), FloatProgress(value=0.016668878383279663, max=1.0…"
      ]
     },
     "metadata": {},
     "output_type": "display_data"
    },
    {
     "data": {
      "text/html": [
       "Tracking run with wandb version 0.13.5"
      ],
      "text/plain": [
       "<IPython.core.display.HTML object>"
      ]
     },
     "metadata": {},
     "output_type": "display_data"
    },
    {
     "data": {
      "text/html": [
       "Run data is saved locally in <code>/aiffel/aiffel/aiffelthon/wandb/run-20221113_120721-dg9ci4fz</code>"
      ],
      "text/plain": [
       "<IPython.core.display.HTML object>"
      ]
     },
     "metadata": {},
     "output_type": "display_data"
    },
    {
     "data": {
      "text/html": [
       "Syncing run <strong><a href=\"https://wandb.ai/chhyyi/redzone_LSTM_sweep/runs/dg9ci4fz\" target=\"_blank\">royal-sweep-28</a></strong> to <a href=\"https://wandb.ai/chhyyi/redzone_LSTM_sweep\" target=\"_blank\">Weights & Biases</a> (<a href=\"https://wandb.me/run\" target=\"_blank\">docs</a>)<br/>Sweep page:  <a href=\"https://wandb.ai/chhyyi/redzone_LSTM_sweep/sweeps/habtjdmw\" target=\"_blank\">https://wandb.ai/chhyyi/redzone_LSTM_sweep/sweeps/habtjdmw</a>"
      ],
      "text/plain": [
       "<IPython.core.display.HTML object>"
      ]
     },
     "metadata": {},
     "output_type": "display_data"
    },
    {
     "name": "stdout",
     "output_type": "stream",
     "text": [
      "loaded dataset. Generating sequences\n",
      "Any missing values exist: False\n",
      "train dataset columns: Index(['풍속(m/s)', '풍향(deg)', '기온(°C)', '수온(°C)', '강수량(mm)', '풍속(m/s).1',\n",
      "       '풍향(deg).1', '기온(°C).1', '수온(°C).1', '강수량(mm).1', '풍속(m/s).2',\n",
      "       '풍향(deg).2', '기온(°C).2', '수온(°C).2', '강수량(mm).2', '풍속(m/s).3',\n",
      "       '풍향(deg).3', '기온(°C).3', '수온(°C).3', '강수량(mm).3', '풍속(m/s).4',\n",
      "       '풍향(deg).4', '기온(°C).4', '수온(°C).4', '강수량(mm).4', '적조발생'],\n",
      "      dtype='object')\n",
      "12566 25133\n",
      "(12566, 24, 25) (12567, 24, 25) (12566, 24) (12567, 24) \n",
      "\n",
      "\n",
      "197/197 [==============================] - 3s 9ms/step - loss: 0.2169 - val_loss: 0.3065\n"
     ]
    },
    {
     "name": "stderr",
     "output_type": "stream",
     "text": [
      "WARNING:absl:Found untraced functions such as lstm_cell_layer_call_fn, lstm_cell_layer_call_and_return_conditional_losses, lstm_cell_layer_call_fn, lstm_cell_layer_call_and_return_conditional_losses, lstm_cell_layer_call_and_return_conditional_losses while saving (showing 5 of 5). These functions will not be directly callable after loading.\n"
     ]
    },
    {
     "name": "stdout",
     "output_type": "stream",
     "text": [
      "INFO:tensorflow:Assets written to: /aiffel/aiffel/aiffelthon/wandb/run-20221113_120721-dg9ci4fz/files/model-best/assets\n"
     ]
    },
    {
     "name": "stderr",
     "output_type": "stream",
     "text": [
      "INFO:tensorflow:Assets written to: /aiffel/aiffel/aiffelthon/wandb/run-20221113_120721-dg9ci4fz/files/model-best/assets\n",
      "\u001b[34m\u001b[1mwandb\u001b[0m: Adding directory to artifact (/aiffel/aiffel/aiffelthon/wandb/run-20221113_120721-dg9ci4fz/files/model-best)... Done. 0.0s\n"
     ]
    },
    {
     "name": "stdout",
     "output_type": "stream",
     "text": [
      "sequence accuracy is 0.9261591204477335\n"
     ]
    },
    {
     "data": {
      "text/html": [
       "Waiting for W&B process to finish... <strong style=\"color:green\">(success).</strong>"
      ],
      "text/plain": [
       "<IPython.core.display.HTML object>"
      ]
     },
     "metadata": {},
     "output_type": "display_data"
    },
    {
     "data": {
      "application/vnd.jupyter.widget-view+json": {
       "model_id": "a818cc6623244d5280af257f67a82aca",
       "version_major": 2,
       "version_minor": 0
      },
      "text/plain": [
       "VBox(children=(Label(value='7.609 MB of 7.610 MB uploaded (0.000 MB deduped)\\r'), FloatProgress(value=0.999898…"
      ]
     },
     "metadata": {},
     "output_type": "display_data"
    },
    {
     "data": {
      "text/html": [
       "<style>\n",
       "    table.wandb td:nth-child(1) { padding: 0 10px; text-align: left ; width: auto;} td:nth-child(2) {text-align: left ; width: 100%}\n",
       "    .wandb-row { display: flex; flex-direction: row; flex-wrap: wrap; justify-content: flex-start; width: 100% }\n",
       "    .wandb-col { display: flex; flex-direction: column; flex-basis: 100%; flex: 1; padding: 10px; }\n",
       "    </style>\n",
       "<div class=\"wandb-row\"><div class=\"wandb-col\"><h3>Run history:</h3><br/><table class=\"wandb\"><tr><td>Validation Acc :</td><td>▁</td></tr><tr><td>epoch</td><td>▁</td></tr><tr><td>loss</td><td>▁</td></tr><tr><td>val_loss</td><td>▁</td></tr></table><br/></div><div class=\"wandb-col\"><h3>Run summary:</h3><br/><table class=\"wandb\"><tr><td>Validation Acc :</td><td>0.92616</td></tr><tr><td>best_epoch</td><td>0</td></tr><tr><td>best_val_loss</td><td>0.30654</td></tr><tr><td>epoch</td><td>0</td></tr><tr><td>loss</td><td>0.21689</td></tr><tr><td>val_loss</td><td>0.30654</td></tr></table><br/></div></div>"
      ],
      "text/plain": [
       "<IPython.core.display.HTML object>"
      ]
     },
     "metadata": {},
     "output_type": "display_data"
    },
    {
     "data": {
      "text/html": [
       "Synced <strong style=\"color:#cdcd00\">royal-sweep-28</strong>: <a href=\"https://wandb.ai/chhyyi/redzone_LSTM_sweep/runs/dg9ci4fz\" target=\"_blank\">https://wandb.ai/chhyyi/redzone_LSTM_sweep/runs/dg9ci4fz</a><br/>Synced 5 W&B file(s), 1 media file(s), 4 artifact file(s) and 1 other file(s)"
      ],
      "text/plain": [
       "<IPython.core.display.HTML object>"
      ]
     },
     "metadata": {},
     "output_type": "display_data"
    },
    {
     "data": {
      "text/html": [
       "Find logs at: <code>./wandb/run-20221113_120721-dg9ci4fz/logs</code>"
      ],
      "text/plain": [
       "<IPython.core.display.HTML object>"
      ]
     },
     "metadata": {},
     "output_type": "display_data"
    },
    {
     "name": "stderr",
     "output_type": "stream",
     "text": [
      "\u001b[34m\u001b[1mwandb\u001b[0m: Agent Starting Run: yh19nyyb with config:\n",
      "\u001b[34m\u001b[1mwandb\u001b[0m: \tepochs: 3\n",
      "\u001b[34m\u001b[1mwandb\u001b[0m: \tlearning_rate: 0.0032\n",
      "\u001b[34m\u001b[1mwandb\u001b[0m: \tsplit_train_ratio: 0.5\n",
      "\u001b[34m\u001b[1mwandb\u001b[0m: \tstride_inside_seq: 3\n",
      "\u001b[34m\u001b[1mwandb\u001b[0m: \tunit_LSTM0: 256\n"
     ]
    },
    {
     "data": {
      "text/html": [
       "Tracking run with wandb version 0.13.5"
      ],
      "text/plain": [
       "<IPython.core.display.HTML object>"
      ]
     },
     "metadata": {},
     "output_type": "display_data"
    },
    {
     "data": {
      "text/html": [
       "Run data is saved locally in <code>/aiffel/aiffel/aiffelthon/wandb/run-20221113_120824-yh19nyyb</code>"
      ],
      "text/plain": [
       "<IPython.core.display.HTML object>"
      ]
     },
     "metadata": {},
     "output_type": "display_data"
    },
    {
     "data": {
      "text/html": [
       "Syncing run <strong><a href=\"https://wandb.ai/chhyyi/redzone_LSTM_sweep/runs/yh19nyyb\" target=\"_blank\">distinctive-sweep-29</a></strong> to <a href=\"https://wandb.ai/chhyyi/redzone_LSTM_sweep\" target=\"_blank\">Weights & Biases</a> (<a href=\"https://wandb.me/run\" target=\"_blank\">docs</a>)<br/>Sweep page:  <a href=\"https://wandb.ai/chhyyi/redzone_LSTM_sweep/sweeps/habtjdmw\" target=\"_blank\">https://wandb.ai/chhyyi/redzone_LSTM_sweep/sweeps/habtjdmw</a>"
      ],
      "text/plain": [
       "<IPython.core.display.HTML object>"
      ]
     },
     "metadata": {},
     "output_type": "display_data"
    },
    {
     "name": "stdout",
     "output_type": "stream",
     "text": [
      "loaded dataset. Generating sequences\n",
      "Any missing values exist: False\n",
      "train dataset columns: Index(['풍속(m/s)', '풍향(deg)', '기온(°C)', '수온(°C)', '강수량(mm)', '풍속(m/s).1',\n",
      "       '풍향(deg).1', '기온(°C).1', '수온(°C).1', '강수량(mm).1', '풍속(m/s).2',\n",
      "       '풍향(deg).2', '기온(°C).2', '수온(°C).2', '강수량(mm).2', '풍속(m/s).3',\n",
      "       '풍향(deg).3', '기온(°C).3', '수온(°C).3', '강수량(mm).3', '풍속(m/s).4',\n",
      "       '풍향(deg).4', '기온(°C).4', '수온(°C).4', '강수량(mm).4', '적조발생'],\n",
      "      dtype='object')\n",
      "12566 25133\n",
      "(12566, 24, 25) (12567, 24, 25) (12566, 24) (12567, 24) \n",
      "\n",
      "\n",
      "Epoch 1/3\n",
      "197/197 [==============================] - 3s 8ms/step - loss: 0.1409 - val_loss: 0.3269\n"
     ]
    },
    {
     "name": "stderr",
     "output_type": "stream",
     "text": [
      "WARNING:absl:Found untraced functions such as lstm_cell_layer_call_fn, lstm_cell_layer_call_and_return_conditional_losses, lstm_cell_layer_call_fn, lstm_cell_layer_call_and_return_conditional_losses, lstm_cell_layer_call_and_return_conditional_losses while saving (showing 5 of 5). These functions will not be directly callable after loading.\n"
     ]
    },
    {
     "name": "stdout",
     "output_type": "stream",
     "text": [
      "INFO:tensorflow:Assets written to: /aiffel/aiffel/aiffelthon/wandb/run-20221113_120824-yh19nyyb/files/model-best/assets\n"
     ]
    },
    {
     "name": "stderr",
     "output_type": "stream",
     "text": [
      "INFO:tensorflow:Assets written to: /aiffel/aiffel/aiffelthon/wandb/run-20221113_120824-yh19nyyb/files/model-best/assets\n",
      "\u001b[34m\u001b[1mwandb\u001b[0m: Adding directory to artifact (/aiffel/aiffel/aiffelthon/wandb/run-20221113_120824-yh19nyyb/files/model-best)... Done. 0.1s\n"
     ]
    },
    {
     "name": "stdout",
     "output_type": "stream",
     "text": [
      "sequence accuracy is 0.9261558048858121\n",
      "Epoch 2/3\n",
      "197/197 [==============================] - 1s 6ms/step - loss: 0.1059 - val_loss: 0.5122\n",
      "sequence accuracy is 0.9222600196281265\n",
      "Epoch 3/3\n",
      "197/197 [==============================] - 1s 6ms/step - loss: 0.0947 - val_loss: 0.4380\n",
      "sequence accuracy is 0.8983183469934485\n"
     ]
    },
    {
     "data": {
      "text/html": [
       "Waiting for W&B process to finish... <strong style=\"color:green\">(success).</strong>"
      ],
      "text/plain": [
       "<IPython.core.display.HTML object>"
      ]
     },
     "metadata": {},
     "output_type": "display_data"
    },
    {
     "data": {
      "application/vnd.jupyter.widget-view+json": {
       "model_id": "d62445ff59e04f49abecd440b95a611f",
       "version_major": 2,
       "version_minor": 0
      },
      "text/plain": [
       "VBox(children=(Label(value='7.590 MB of 7.590 MB uploaded (0.000 MB deduped)\\r'), FloatProgress(value=1.0, max…"
      ]
     },
     "metadata": {},
     "output_type": "display_data"
    },
    {
     "data": {
      "text/html": [
       "<style>\n",
       "    table.wandb td:nth-child(1) { padding: 0 10px; text-align: left ; width: auto;} td:nth-child(2) {text-align: left ; width: 100%}\n",
       "    .wandb-row { display: flex; flex-direction: row; flex-wrap: wrap; justify-content: flex-start; width: 100% }\n",
       "    .wandb-col { display: flex; flex-direction: column; flex-basis: 100%; flex: 1; padding: 10px; }\n",
       "    </style>\n",
       "<div class=\"wandb-row\"><div class=\"wandb-col\"><h3>Run history:</h3><br/><table class=\"wandb\"><tr><td>Validation Acc :</td><td>▁</td></tr><tr><td>epoch</td><td>▁▅█</td></tr><tr><td>loss</td><td>█▃▁</td></tr><tr><td>val_loss</td><td>▁█▅</td></tr></table><br/></div><div class=\"wandb-col\"><h3>Run summary:</h3><br/><table class=\"wandb\"><tr><td>Validation Acc :</td><td>0.89832</td></tr><tr><td>best_epoch</td><td>0</td></tr><tr><td>best_val_loss</td><td>0.32688</td></tr><tr><td>epoch</td><td>2</td></tr><tr><td>loss</td><td>0.0947</td></tr><tr><td>val_loss</td><td>0.43797</td></tr></table><br/></div></div>"
      ],
      "text/plain": [
       "<IPython.core.display.HTML object>"
      ]
     },
     "metadata": {},
     "output_type": "display_data"
    },
    {
     "data": {
      "text/html": [
       "Synced <strong style=\"color:#cdcd00\">distinctive-sweep-29</strong>: <a href=\"https://wandb.ai/chhyyi/redzone_LSTM_sweep/runs/yh19nyyb\" target=\"_blank\">https://wandb.ai/chhyyi/redzone_LSTM_sweep/runs/yh19nyyb</a><br/>Synced 5 W&B file(s), 1 media file(s), 4 artifact file(s) and 1 other file(s)"
      ],
      "text/plain": [
       "<IPython.core.display.HTML object>"
      ]
     },
     "metadata": {},
     "output_type": "display_data"
    },
    {
     "data": {
      "text/html": [
       "Find logs at: <code>./wandb/run-20221113_120824-yh19nyyb/logs</code>"
      ],
      "text/plain": [
       "<IPython.core.display.HTML object>"
      ]
     },
     "metadata": {},
     "output_type": "display_data"
    },
    {
     "name": "stderr",
     "output_type": "stream",
     "text": [
      "\u001b[34m\u001b[1mwandb\u001b[0m: Agent Starting Run: bukoe9yz with config:\n",
      "\u001b[34m\u001b[1mwandb\u001b[0m: \tepochs: 12\n",
      "\u001b[34m\u001b[1mwandb\u001b[0m: \tlearning_rate: 0.0002\n",
      "\u001b[34m\u001b[1mwandb\u001b[0m: \tsplit_train_ratio: 0.5\n",
      "\u001b[34m\u001b[1mwandb\u001b[0m: \tstride_inside_seq: 3\n",
      "\u001b[34m\u001b[1mwandb\u001b[0m: \tunit_LSTM0: 32\n"
     ]
    },
    {
     "data": {
      "text/html": [
       "Tracking run with wandb version 0.13.5"
      ],
      "text/plain": [
       "<IPython.core.display.HTML object>"
      ]
     },
     "metadata": {},
     "output_type": "display_data"
    },
    {
     "data": {
      "text/html": [
       "Run data is saved locally in <code>/aiffel/aiffel/aiffelthon/wandb/run-20221113_120932-bukoe9yz</code>"
      ],
      "text/plain": [
       "<IPython.core.display.HTML object>"
      ]
     },
     "metadata": {},
     "output_type": "display_data"
    },
    {
     "data": {
      "text/html": [
       "Syncing run <strong><a href=\"https://wandb.ai/chhyyi/redzone_LSTM_sweep/runs/bukoe9yz\" target=\"_blank\">devoted-sweep-30</a></strong> to <a href=\"https://wandb.ai/chhyyi/redzone_LSTM_sweep\" target=\"_blank\">Weights & Biases</a> (<a href=\"https://wandb.me/run\" target=\"_blank\">docs</a>)<br/>Sweep page:  <a href=\"https://wandb.ai/chhyyi/redzone_LSTM_sweep/sweeps/habtjdmw\" target=\"_blank\">https://wandb.ai/chhyyi/redzone_LSTM_sweep/sweeps/habtjdmw</a>"
      ],
      "text/plain": [
       "<IPython.core.display.HTML object>"
      ]
     },
     "metadata": {},
     "output_type": "display_data"
    },
    {
     "name": "stdout",
     "output_type": "stream",
     "text": [
      "loaded dataset. Generating sequences\n",
      "Any missing values exist: False\n",
      "train dataset columns: Index(['풍속(m/s)', '풍향(deg)', '기온(°C)', '수온(°C)', '강수량(mm)', '풍속(m/s).1',\n",
      "       '풍향(deg).1', '기온(°C).1', '수온(°C).1', '강수량(mm).1', '풍속(m/s).2',\n",
      "       '풍향(deg).2', '기온(°C).2', '수온(°C).2', '강수량(mm).2', '풍속(m/s).3',\n",
      "       '풍향(deg).3', '기온(°C).3', '수온(°C).3', '강수량(mm).3', '풍속(m/s).4',\n",
      "       '풍향(deg).4', '기온(°C).4', '수온(°C).4', '강수량(mm).4', '적조발생'],\n",
      "      dtype='object')\n",
      "12566 25133\n",
      "(12566, 24, 25) (12567, 24, 25) (12566, 24) (12567, 24) \n",
      "\n",
      "\n",
      "Epoch 1/12\n",
      "197/197 [==============================] - 3s 7ms/step - loss: 0.5700 - val_loss: 0.3770\n"
     ]
    },
    {
     "name": "stderr",
     "output_type": "stream",
     "text": [
      "WARNING:absl:Found untraced functions such as lstm_cell_layer_call_fn, lstm_cell_layer_call_and_return_conditional_losses, lstm_cell_layer_call_fn, lstm_cell_layer_call_and_return_conditional_losses, lstm_cell_layer_call_and_return_conditional_losses while saving (showing 5 of 5). These functions will not be directly callable after loading.\n"
     ]
    },
    {
     "name": "stdout",
     "output_type": "stream",
     "text": [
      "INFO:tensorflow:Assets written to: /aiffel/aiffel/aiffelthon/wandb/run-20221113_120932-bukoe9yz/files/model-best/assets\n"
     ]
    },
    {
     "name": "stderr",
     "output_type": "stream",
     "text": [
      "INFO:tensorflow:Assets written to: /aiffel/aiffel/aiffelthon/wandb/run-20221113_120932-bukoe9yz/files/model-best/assets\n",
      "\u001b[34m\u001b[1mwandb\u001b[0m: Adding directory to artifact (/aiffel/aiffel/aiffelthon/wandb/run-20221113_120932-bukoe9yz/files/model-best)... Done. 0.0s\n"
     ]
    },
    {
     "name": "stdout",
     "output_type": "stream",
     "text": [
      "sequence accuracy is 0.9166169332378451\n",
      "Epoch 2/12\n",
      "197/197 [==============================] - 1s 5ms/step - loss: 0.2264 - val_loss: 0.2457\n"
     ]
    },
    {
     "name": "stderr",
     "output_type": "stream",
     "text": [
      "WARNING:absl:Found untraced functions such as lstm_cell_layer_call_fn, lstm_cell_layer_call_and_return_conditional_losses, lstm_cell_layer_call_fn, lstm_cell_layer_call_and_return_conditional_losses, lstm_cell_layer_call_and_return_conditional_losses while saving (showing 5 of 5). These functions will not be directly callable after loading.\n"
     ]
    },
    {
     "name": "stdout",
     "output_type": "stream",
     "text": [
      "INFO:tensorflow:Assets written to: /aiffel/aiffel/aiffelthon/wandb/run-20221113_120932-bukoe9yz/files/model-best/assets\n"
     ]
    },
    {
     "name": "stderr",
     "output_type": "stream",
     "text": [
      "INFO:tensorflow:Assets written to: /aiffel/aiffel/aiffelthon/wandb/run-20221113_120932-bukoe9yz/files/model-best/assets\n",
      "\u001b[34m\u001b[1mwandb\u001b[0m: Adding directory to artifact (/aiffel/aiffel/aiffelthon/wandb/run-20221113_120932-bukoe9yz/files/model-best)... Done. 0.0s\n"
     ]
    },
    {
     "name": "stdout",
     "output_type": "stream",
     "text": [
      "sequence accuracy is 0.9271637357099282\n",
      "Epoch 3/12\n",
      "197/197 [==============================] - 1s 5ms/step - loss: 0.1420 - val_loss: 0.2400\n"
     ]
    },
    {
     "name": "stderr",
     "output_type": "stream",
     "text": [
      "WARNING:absl:Found untraced functions such as lstm_cell_layer_call_fn, lstm_cell_layer_call_and_return_conditional_losses, lstm_cell_layer_call_fn, lstm_cell_layer_call_and_return_conditional_losses, lstm_cell_layer_call_and_return_conditional_losses while saving (showing 5 of 5). These functions will not be directly callable after loading.\n"
     ]
    },
    {
     "name": "stdout",
     "output_type": "stream",
     "text": [
      "INFO:tensorflow:Assets written to: /aiffel/aiffel/aiffelthon/wandb/run-20221113_120932-bukoe9yz/files/model-best/assets\n"
     ]
    },
    {
     "name": "stderr",
     "output_type": "stream",
     "text": [
      "INFO:tensorflow:Assets written to: /aiffel/aiffel/aiffelthon/wandb/run-20221113_120932-bukoe9yz/files/model-best/assets\n",
      "\u001b[34m\u001b[1mwandb\u001b[0m: Adding directory to artifact (/aiffel/aiffel/aiffelthon/wandb/run-20221113_120932-bukoe9yz/files/model-best)... Done. 0.0s\n"
     ]
    },
    {
     "name": "stdout",
     "output_type": "stream",
     "text": [
      "sequence accuracy is 0.9245974907827379\n",
      "Epoch 4/12\n",
      "197/197 [==============================] - 1s 5ms/step - loss: 0.1115 - val_loss: 0.2455\n",
      "sequence accuracy is 0.9225584202010557\n",
      "Epoch 5/12\n",
      "197/197 [==============================] - 1s 5ms/step - loss: 0.0954 - val_loss: 0.2459\n",
      "sequence accuracy is 0.924590859658895\n",
      "Epoch 6/12\n",
      "197/197 [==============================] - 1s 5ms/step - loss: 0.0817 - val_loss: 0.2555\n",
      "sequence accuracy is 0.9251876608047532\n",
      "Epoch 7/12\n",
      "197/197 [==============================] - 1s 6ms/step - loss: 0.0715 - val_loss: 0.2599\n",
      "sequence accuracy is 0.9263978409060768\n",
      "Epoch 8/12\n",
      "197/197 [==============================] - 1s 6ms/step - loss: 0.0627 - val_loss: 0.2783\n",
      "sequence accuracy is 0.9116999549083579\n",
      "Epoch 9/12\n",
      "197/197 [==============================] - 1s 5ms/step - loss: 0.0552 - val_loss: 0.2843\n",
      "sequence accuracy is 0.9159206652343439\n",
      "Epoch 10/12\n",
      "197/197 [==============================] - 1s 5ms/step - loss: 0.0489 - val_loss: 0.2936\n",
      "sequence accuracy is 0.9171142675260603\n",
      "Epoch 11/12\n",
      "197/197 [==============================] - 1s 5ms/step - loss: 0.0436 - val_loss: 0.3123\n",
      "sequence accuracy is 0.911869048566351\n",
      "Epoch 12/12\n",
      "197/197 [==============================] - 1s 6ms/step - loss: 0.0388 - val_loss: 0.3155\n",
      "sequence accuracy is 0.926132595952362\n"
     ]
    },
    {
     "data": {
      "text/html": [
       "Waiting for W&B process to finish... <strong style=\"color:green\">(success).</strong>"
      ],
      "text/plain": [
       "<IPython.core.display.HTML object>"
      ]
     },
     "metadata": {},
     "output_type": "display_data"
    },
    {
     "data": {
      "text/html": [
       "<style>\n",
       "    table.wandb td:nth-child(1) { padding: 0 10px; text-align: left ; width: auto;} td:nth-child(2) {text-align: left ; width: 100%}\n",
       "    .wandb-row { display: flex; flex-direction: row; flex-wrap: wrap; justify-content: flex-start; width: 100% }\n",
       "    .wandb-col { display: flex; flex-direction: column; flex-basis: 100%; flex: 1; padding: 10px; }\n",
       "    </style>\n",
       "<div class=\"wandb-row\"><div class=\"wandb-col\"><h3>Run history:</h3><br/><table class=\"wandb\"><tr><td>Validation Acc :</td><td>▁</td></tr><tr><td>epoch</td><td>▁▂▂▃▄▄▅▅▆▇▇█</td></tr><tr><td>loss</td><td>█▃▂▂▂▂▁▁▁▁▁▁</td></tr><tr><td>val_loss</td><td>█▁▁▁▁▂▂▃▃▄▅▅</td></tr></table><br/></div><div class=\"wandb-col\"><h3>Run summary:</h3><br/><table class=\"wandb\"><tr><td>Validation Acc :</td><td>0.92613</td></tr><tr><td>best_epoch</td><td>2</td></tr><tr><td>best_val_loss</td><td>0.23997</td></tr><tr><td>epoch</td><td>11</td></tr><tr><td>loss</td><td>0.03882</td></tr><tr><td>val_loss</td><td>0.31549</td></tr></table><br/></div></div>"
      ],
      "text/plain": [
       "<IPython.core.display.HTML object>"
      ]
     },
     "metadata": {},
     "output_type": "display_data"
    },
    {
     "data": {
      "text/html": [
       "Synced <strong style=\"color:#cdcd00\">devoted-sweep-30</strong>: <a href=\"https://wandb.ai/chhyyi/redzone_LSTM_sweep/runs/bukoe9yz\" target=\"_blank\">https://wandb.ai/chhyyi/redzone_LSTM_sweep/runs/bukoe9yz</a><br/>Synced 5 W&B file(s), 1 media file(s), 10 artifact file(s) and 1 other file(s)"
      ],
      "text/plain": [
       "<IPython.core.display.HTML object>"
      ]
     },
     "metadata": {},
     "output_type": "display_data"
    },
    {
     "data": {
      "text/html": [
       "Find logs at: <code>./wandb/run-20221113_120932-bukoe9yz/logs</code>"
      ],
      "text/plain": [
       "<IPython.core.display.HTML object>"
      ]
     },
     "metadata": {},
     "output_type": "display_data"
    },
    {
     "name": "stderr",
     "output_type": "stream",
     "text": [
      "\u001b[34m\u001b[1mwandb\u001b[0m: Sweep Agent: Waiting for job.\n",
      "\u001b[34m\u001b[1mwandb\u001b[0m: Job received.\n",
      "\u001b[34m\u001b[1mwandb\u001b[0m: Agent Starting Run: w0x6j5f6 with config:\n",
      "\u001b[34m\u001b[1mwandb\u001b[0m: \tepochs: 12\n",
      "\u001b[34m\u001b[1mwandb\u001b[0m: \tlearning_rate: 0.0032\n",
      "\u001b[34m\u001b[1mwandb\u001b[0m: \tsplit_train_ratio: 0.5\n",
      "\u001b[34m\u001b[1mwandb\u001b[0m: \tstride_inside_seq: 1\n",
      "\u001b[34m\u001b[1mwandb\u001b[0m: \tunit_LSTM0: 32\n"
     ]
    },
    {
     "data": {
      "application/vnd.jupyter.widget-view+json": {
       "model_id": "7a4e59931a734bb386c9f017cde58ebe",
       "version_major": 2,
       "version_minor": 0
      },
      "text/plain": [
       "VBox(children=(Label(value='Waiting for wandb.init()...\\r'), FloatProgress(value=0.016670963849901455, max=1.0…"
      ]
     },
     "metadata": {},
     "output_type": "display_data"
    },
    {
     "data": {
      "text/html": [
       "Tracking run with wandb version 0.13.5"
      ],
      "text/plain": [
       "<IPython.core.display.HTML object>"
      ]
     },
     "metadata": {},
     "output_type": "display_data"
    },
    {
     "data": {
      "text/html": [
       "Run data is saved locally in <code>/aiffel/aiffel/aiffelthon/wandb/run-20221113_121137-w0x6j5f6</code>"
      ],
      "text/plain": [
       "<IPython.core.display.HTML object>"
      ]
     },
     "metadata": {},
     "output_type": "display_data"
    },
    {
     "data": {
      "text/html": [
       "Syncing run <strong><a href=\"https://wandb.ai/chhyyi/redzone_LSTM_sweep/runs/w0x6j5f6\" target=\"_blank\">dazzling-sweep-31</a></strong> to <a href=\"https://wandb.ai/chhyyi/redzone_LSTM_sweep\" target=\"_blank\">Weights & Biases</a> (<a href=\"https://wandb.me/run\" target=\"_blank\">docs</a>)<br/>Sweep page:  <a href=\"https://wandb.ai/chhyyi/redzone_LSTM_sweep/sweeps/habtjdmw\" target=\"_blank\">https://wandb.ai/chhyyi/redzone_LSTM_sweep/sweeps/habtjdmw</a>"
      ],
      "text/plain": [
       "<IPython.core.display.HTML object>"
      ]
     },
     "metadata": {},
     "output_type": "display_data"
    },
    {
     "name": "stdout",
     "output_type": "stream",
     "text": [
      "loaded dataset. Generating sequences\n",
      "Any missing values exist: False\n",
      "train dataset columns: Index(['풍속(m/s)', '풍향(deg)', '기온(°C)', '수온(°C)', '강수량(mm)', '풍속(m/s).1',\n",
      "       '풍향(deg).1', '기온(°C).1', '수온(°C).1', '강수량(mm).1', '풍속(m/s).2',\n",
      "       '풍향(deg).2', '기온(°C).2', '수온(°C).2', '강수량(mm).2', '풍속(m/s).3',\n",
      "       '풍향(deg).3', '기온(°C).3', '수온(°C).3', '강수량(mm).3', '풍속(m/s).4',\n",
      "       '풍향(deg).4', '기온(°C).4', '수온(°C).4', '강수량(mm).4', '적조발생'],\n",
      "      dtype='object')\n",
      "12566 25133\n",
      "(12566, 72, 25) (12567, 72, 25) (12566, 72) (12567, 72) \n",
      "\n",
      "\n",
      "Epoch 1/12\n",
      "197/197 [==============================] - 3s 11ms/step - loss: 0.1821 - val_loss: 0.2993\n"
     ]
    },
    {
     "name": "stderr",
     "output_type": "stream",
     "text": [
      "WARNING:absl:Found untraced functions such as lstm_cell_layer_call_fn, lstm_cell_layer_call_and_return_conditional_losses, lstm_cell_layer_call_fn, lstm_cell_layer_call_and_return_conditional_losses, lstm_cell_layer_call_and_return_conditional_losses while saving (showing 5 of 5). These functions will not be directly callable after loading.\n"
     ]
    },
    {
     "name": "stdout",
     "output_type": "stream",
     "text": [
      "INFO:tensorflow:Assets written to: /aiffel/aiffel/aiffelthon/wandb/run-20221113_121137-w0x6j5f6/files/model-best/assets\n"
     ]
    },
    {
     "name": "stderr",
     "output_type": "stream",
     "text": [
      "INFO:tensorflow:Assets written to: /aiffel/aiffel/aiffelthon/wandb/run-20221113_121137-w0x6j5f6/files/model-best/assets\n",
      "\u001b[34m\u001b[1mwandb\u001b[0m: Adding directory to artifact (/aiffel/aiffel/aiffelthon/wandb/run-20221113_121137-w0x6j5f6/files/model-best)... Done. 0.1s\n"
     ]
    },
    {
     "name": "stdout",
     "output_type": "stream",
     "text": [
      "sequence accuracy is 0.920202160862223\n",
      "Epoch 2/12\n",
      "197/197 [==============================] - 1s 7ms/step - loss: 0.1100 - val_loss: 0.3125\n",
      "sequence accuracy is 0.9261005455204548\n",
      "Epoch 3/12\n",
      "197/197 [==============================] - 1s 7ms/step - loss: 0.0915 - val_loss: 0.3469\n"
     ]
    }
   ],
   "source": [
    "sweep_id = wandb.sweep(sweep_config)\n",
    "\n",
    "# run the sweep\n",
    "wandb.agent(sweep_id,\n",
    "            function=train,\n",
    "            entity = 'chhyyi',\n",
    "            project = 'redzone_LSTM_sweep')"
   ]
  },
  {
   "cell_type": "code",
   "execution_count": 8,
   "id": "a37ad67a",
   "metadata": {
    "scrolled": false
   },
   "outputs": [
    {
     "name": "stdout",
     "output_type": "stream",
     "text": [
      "Create sweep with ID: nhh58kej\n",
      "Sweep URL: https://wandb.ai/chhyyi/redzone_LSTM_sweep/sweeps/nhh58kej\n"
     ]
    },
    {
     "name": "stderr",
     "output_type": "stream",
     "text": [
      "\u001b[34m\u001b[1mwandb\u001b[0m: Agent Starting Run: 3cd3gwdz with config:\n",
      "\u001b[34m\u001b[1mwandb\u001b[0m: \tepochs: 2\n",
      "\u001b[34m\u001b[1mwandb\u001b[0m: \tlearning_rate: 0.0002\n",
      "\u001b[34m\u001b[1mwandb\u001b[0m: \tsplit_train_ratio: 0.5\n",
      "\u001b[34m\u001b[1mwandb\u001b[0m: \tstride_inside_seq: 3\n",
      "\u001b[34m\u001b[1mwandb\u001b[0m: \tunit_LSTM0: 128\n",
      "\u001b[34m\u001b[1mwandb\u001b[0m: Currently logged in as: \u001b[33mchhyyi\u001b[0m. Use \u001b[1m`wandb login --relogin`\u001b[0m to force relogin\n"
     ]
    },
    {
     "data": {
      "text/html": [
       "Tracking run with wandb version 0.13.5"
      ],
      "text/plain": [
       "<IPython.core.display.HTML object>"
      ]
     },
     "metadata": {},
     "output_type": "display_data"
    },
    {
     "data": {
      "text/html": [
       "Run data is saved locally in <code>/aiffel/aiffel/aiffelthon/wandb/run-20221113_122626-3cd3gwdz</code>"
      ],
      "text/plain": [
       "<IPython.core.display.HTML object>"
      ]
     },
     "metadata": {},
     "output_type": "display_data"
    },
    {
     "data": {
      "text/html": [
       "Syncing run <strong><a href=\"https://wandb.ai/chhyyi/redzone_LSTM_sweep/runs/3cd3gwdz\" target=\"_blank\">hearty-sweep-1</a></strong> to <a href=\"https://wandb.ai/chhyyi/redzone_LSTM_sweep\" target=\"_blank\">Weights & Biases</a> (<a href=\"https://wandb.me/run\" target=\"_blank\">docs</a>)<br/>Sweep page:  <a href=\"https://wandb.ai/chhyyi/redzone_LSTM_sweep/sweeps/nhh58kej\" target=\"_blank\">https://wandb.ai/chhyyi/redzone_LSTM_sweep/sweeps/nhh58kej</a>"
      ],
      "text/plain": [
       "<IPython.core.display.HTML object>"
      ]
     },
     "metadata": {},
     "output_type": "display_data"
    },
    {
     "name": "stdout",
     "output_type": "stream",
     "text": [
      "loaded dataset. Generating sequences\n",
      "Any missing values exist: False\n",
      "train dataset columns: Index(['풍속(m/s)', '풍향(deg)', '기온(°C)', '수온(°C)', '강수량(mm)', '풍속(m/s).1',\n",
      "       '풍향(deg).1', '기온(°C).1', '수온(°C).1', '강수량(mm).1', '풍속(m/s).2',\n",
      "       '풍향(deg).2', '기온(°C).2', '수온(°C).2', '강수량(mm).2', '풍속(m/s).3',\n",
      "       '풍향(deg).3', '기온(°C).3', '수온(°C).3', '강수량(mm).3', '풍속(m/s).4',\n",
      "       '풍향(deg).4', '기온(°C).4', '수온(°C).4', '강수량(mm).4', '적조발생'],\n",
      "      dtype='object')\n",
      "12566 25133\n",
      "(12566, 24, 25) (12567, 24, 25) (12566, 24) (12567, 24) \n",
      "\n",
      "\n"
     ]
    },
    {
     "name": "stderr",
     "output_type": "stream",
     "text": [
      "\u001b[34m\u001b[1mwandb\u001b[0m: \u001b[33mWARNING\u001b[0m The save_model argument by default saves the model in the HDF5 format that cannot save custom objects like subclassed models and custom layers. This behavior will be deprecated in a future release in favor of the SavedModel format. Meanwhile, the HDF5 model is saved as W&B files and the SavedModel as W&B Artifacts.\n"
     ]
    },
    {
     "name": "stdout",
     "output_type": "stream",
     "text": [
      "Epoch 1/2\n",
      "197/197 [==============================] - 24s 8ms/step - loss: 0.2983 - val_loss: 0.2548\n"
     ]
    },
    {
     "name": "stderr",
     "output_type": "stream",
     "text": [
      "WARNING:absl:Found untraced functions such as lstm_cell_layer_call_and_return_conditional_losses, lstm_cell_layer_call_fn, lstm_cell_layer_call_fn, lstm_cell_layer_call_and_return_conditional_losses, lstm_cell_layer_call_and_return_conditional_losses while saving (showing 5 of 5). These functions will not be directly callable after loading.\n"
     ]
    },
    {
     "name": "stdout",
     "output_type": "stream",
     "text": [
      "INFO:tensorflow:Assets written to: /aiffel/aiffel/aiffelthon/wandb/run-20221113_122626-3cd3gwdz/files/model-best/assets\n"
     ]
    },
    {
     "name": "stderr",
     "output_type": "stream",
     "text": [
      "INFO:tensorflow:Assets written to: /aiffel/aiffel/aiffelthon/wandb/run-20221113_122626-3cd3gwdz/files/model-best/assets\n",
      "\u001b[34m\u001b[1mwandb\u001b[0m: Adding directory to artifact (/aiffel/aiffel/aiffelthon/wandb/run-20221113_122626-3cd3gwdz/files/model-best)... Done. 0.0s\n"
     ]
    },
    {
     "name": "stdout",
     "output_type": "stream",
     "text": [
      "sequence accuracy is 0.9261558048858121\n",
      "Epoch 2/2\n",
      "197/197 [==============================] - 1s 6ms/step - loss: 0.1097 - val_loss: 0.2846\n",
      "sequence accuracy is 0.9233508395002785\n"
     ]
    },
    {
     "data": {
      "text/html": [
       "Waiting for W&B process to finish... <strong style=\"color:green\">(success).</strong>"
      ],
      "text/plain": [
       "<IPython.core.display.HTML object>"
      ]
     },
     "metadata": {},
     "output_type": "display_data"
    },
    {
     "data": {
      "application/vnd.jupyter.widget-view+json": {
       "model_id": "1c1bcdfe6b8e4796b8b06f4bd8dab12b",
       "version_major": 2,
       "version_minor": 0
      },
      "text/plain": [
       "VBox(children=(Label(value='2.709 MB of 2.709 MB uploaded (0.000 MB deduped)\\r'), FloatProgress(value=1.0, max…"
      ]
     },
     "metadata": {},
     "output_type": "display_data"
    },
    {
     "data": {
      "text/html": [
       "<style>\n",
       "    table.wandb td:nth-child(1) { padding: 0 10px; text-align: left ; width: auto;} td:nth-child(2) {text-align: left ; width: 100%}\n",
       "    .wandb-row { display: flex; flex-direction: row; flex-wrap: wrap; justify-content: flex-start; width: 100% }\n",
       "    .wandb-col { display: flex; flex-direction: column; flex-basis: 100%; flex: 1; padding: 10px; }\n",
       "    </style>\n",
       "<div class=\"wandb-row\"><div class=\"wandb-col\"><h3>Run history:</h3><br/><table class=\"wandb\"><tr><td>Validation Acc :</td><td>▁</td></tr><tr><td>epoch</td><td>▁█</td></tr><tr><td>loss</td><td>█▁</td></tr><tr><td>val_loss</td><td>▁█</td></tr></table><br/></div><div class=\"wandb-col\"><h3>Run summary:</h3><br/><table class=\"wandb\"><tr><td>Validation Acc :</td><td>0.92335</td></tr><tr><td>best_epoch</td><td>0</td></tr><tr><td>best_val_loss</td><td>0.25478</td></tr><tr><td>epoch</td><td>1</td></tr><tr><td>loss</td><td>0.10969</td></tr><tr><td>val_loss</td><td>0.28463</td></tr></table><br/></div></div>"
      ],
      "text/plain": [
       "<IPython.core.display.HTML object>"
      ]
     },
     "metadata": {},
     "output_type": "display_data"
    },
    {
     "data": {
      "text/html": [
       "Synced <strong style=\"color:#cdcd00\">hearty-sweep-1</strong>: <a href=\"https://wandb.ai/chhyyi/redzone_LSTM_sweep/runs/3cd3gwdz\" target=\"_blank\">https://wandb.ai/chhyyi/redzone_LSTM_sweep/runs/3cd3gwdz</a><br/>Synced 5 W&B file(s), 1 media file(s), 4 artifact file(s) and 1 other file(s)"
      ],
      "text/plain": [
       "<IPython.core.display.HTML object>"
      ]
     },
     "metadata": {},
     "output_type": "display_data"
    },
    {
     "data": {
      "text/html": [
       "Find logs at: <code>./wandb/run-20221113_122626-3cd3gwdz/logs</code>"
      ],
      "text/plain": [
       "<IPython.core.display.HTML object>"
      ]
     },
     "metadata": {},
     "output_type": "display_data"
    },
    {
     "name": "stderr",
     "output_type": "stream",
     "text": [
      "\u001b[34m\u001b[1mwandb\u001b[0m: Agent Starting Run: d4vaa8cn with config:\n",
      "\u001b[34m\u001b[1mwandb\u001b[0m: \tepochs: 8\n",
      "\u001b[34m\u001b[1mwandb\u001b[0m: \tlearning_rate: 0.0002\n",
      "\u001b[34m\u001b[1mwandb\u001b[0m: \tsplit_train_ratio: 0.8\n",
      "\u001b[34m\u001b[1mwandb\u001b[0m: \tstride_inside_seq: 3\n",
      "\u001b[34m\u001b[1mwandb\u001b[0m: \tunit_LSTM0: 64\n"
     ]
    },
    {
     "data": {
      "text/html": [
       "Tracking run with wandb version 0.13.5"
      ],
      "text/plain": [
       "<IPython.core.display.HTML object>"
      ]
     },
     "metadata": {},
     "output_type": "display_data"
    },
    {
     "data": {
      "text/html": [
       "Run data is saved locally in <code>/aiffel/aiffel/aiffelthon/wandb/run-20221113_122803-d4vaa8cn</code>"
      ],
      "text/plain": [
       "<IPython.core.display.HTML object>"
      ]
     },
     "metadata": {},
     "output_type": "display_data"
    },
    {
     "data": {
      "text/html": [
       "Syncing run <strong><a href=\"https://wandb.ai/chhyyi/redzone_LSTM_sweep/runs/d4vaa8cn\" target=\"_blank\">lilac-sweep-2</a></strong> to <a href=\"https://wandb.ai/chhyyi/redzone_LSTM_sweep\" target=\"_blank\">Weights & Biases</a> (<a href=\"https://wandb.me/run\" target=\"_blank\">docs</a>)<br/>Sweep page:  <a href=\"https://wandb.ai/chhyyi/redzone_LSTM_sweep/sweeps/nhh58kej\" target=\"_blank\">https://wandb.ai/chhyyi/redzone_LSTM_sweep/sweeps/nhh58kej</a>"
      ],
      "text/plain": [
       "<IPython.core.display.HTML object>"
      ]
     },
     "metadata": {},
     "output_type": "display_data"
    },
    {
     "name": "stdout",
     "output_type": "stream",
     "text": [
      "loaded dataset. Generating sequences\n",
      "Any missing values exist: False\n",
      "train dataset columns: Index(['풍속(m/s)', '풍향(deg)', '기온(°C)', '수온(°C)', '강수량(mm)', '풍속(m/s).1',\n",
      "       '풍향(deg).1', '기온(°C).1', '수온(°C).1', '강수량(mm).1', '풍속(m/s).2',\n",
      "       '풍향(deg).2', '기온(°C).2', '수온(°C).2', '강수량(mm).2', '풍속(m/s).3',\n",
      "       '풍향(deg).3', '기온(°C).3', '수온(°C).3', '강수량(mm).3', '풍속(m/s).4',\n",
      "       '풍향(deg).4', '기온(°C).4', '수온(°C).4', '강수량(mm).4', '적조발생'],\n",
      "      dtype='object')\n",
      "20106 25133\n",
      "(20106, 24, 25) (5027, 24, 25) (20106, 24) (5027, 24) \n",
      "\n",
      "\n",
      "Epoch 1/8\n",
      "315/315 [==============================] - 3s 5ms/step - loss: 0.3421 - val_loss: 0.2237\n"
     ]
    },
    {
     "name": "stderr",
     "output_type": "stream",
     "text": [
      "WARNING:absl:Found untraced functions such as lstm_cell_layer_call_and_return_conditional_losses, lstm_cell_layer_call_fn, lstm_cell_layer_call_fn, lstm_cell_layer_call_and_return_conditional_losses, lstm_cell_layer_call_and_return_conditional_losses while saving (showing 5 of 5). These functions will not be directly callable after loading.\n"
     ]
    },
    {
     "name": "stdout",
     "output_type": "stream",
     "text": [
      "INFO:tensorflow:Assets written to: /aiffel/aiffel/aiffelthon/wandb/run-20221113_122803-d4vaa8cn/files/model-best/assets\n"
     ]
    },
    {
     "name": "stderr",
     "output_type": "stream",
     "text": [
      "INFO:tensorflow:Assets written to: /aiffel/aiffel/aiffelthon/wandb/run-20221113_122803-d4vaa8cn/files/model-best/assets\n",
      "\u001b[34m\u001b[1mwandb\u001b[0m: Adding directory to artifact (/aiffel/aiffel/aiffelthon/wandb/run-20221113_122803-d4vaa8cn/files/model-best)... Done. 0.0s\n"
     ]
    },
    {
     "name": "stdout",
     "output_type": "stream",
     "text": [
      "sequence accuracy is 0.9005868311119952\n",
      "Epoch 2/8\n",
      "315/315 [==============================] - 1s 4ms/step - loss: 0.1342 - val_loss: 0.2147\n"
     ]
    },
    {
     "name": "stderr",
     "output_type": "stream",
     "text": [
      "WARNING:absl:Found untraced functions such as lstm_cell_layer_call_and_return_conditional_losses, lstm_cell_layer_call_fn, lstm_cell_layer_call_fn, lstm_cell_layer_call_and_return_conditional_losses, lstm_cell_layer_call_and_return_conditional_losses while saving (showing 5 of 5). These functions will not be directly callable after loading.\n"
     ]
    },
    {
     "name": "stdout",
     "output_type": "stream",
     "text": [
      "INFO:tensorflow:Assets written to: /aiffel/aiffel/aiffelthon/wandb/run-20221113_122803-d4vaa8cn/files/model-best/assets\n"
     ]
    },
    {
     "name": "stderr",
     "output_type": "stream",
     "text": [
      "INFO:tensorflow:Assets written to: /aiffel/aiffel/aiffelthon/wandb/run-20221113_122803-d4vaa8cn/files/model-best/assets\n",
      "\u001b[34m\u001b[1mwandb\u001b[0m: Adding directory to artifact (/aiffel/aiffel/aiffelthon/wandb/run-20221113_122803-d4vaa8cn/files/model-best)... Done. 0.0s\n"
     ]
    },
    {
     "name": "stdout",
     "output_type": "stream",
     "text": [
      "sequence accuracy is 0.8909886612293615\n",
      "Epoch 3/8\n",
      "315/315 [==============================] - 1s 4ms/step - loss: 0.1108 - val_loss: 0.1935\n"
     ]
    },
    {
     "name": "stderr",
     "output_type": "stream",
     "text": [
      "WARNING:absl:Found untraced functions such as lstm_cell_layer_call_and_return_conditional_losses, lstm_cell_layer_call_fn, lstm_cell_layer_call_fn, lstm_cell_layer_call_and_return_conditional_losses, lstm_cell_layer_call_and_return_conditional_losses while saving (showing 5 of 5). These functions will not be directly callable after loading.\n"
     ]
    },
    {
     "name": "stdout",
     "output_type": "stream",
     "text": [
      "INFO:tensorflow:Assets written to: /aiffel/aiffel/aiffelthon/wandb/run-20221113_122803-d4vaa8cn/files/model-best/assets\n"
     ]
    },
    {
     "name": "stderr",
     "output_type": "stream",
     "text": [
      "INFO:tensorflow:Assets written to: /aiffel/aiffel/aiffelthon/wandb/run-20221113_122803-d4vaa8cn/files/model-best/assets\n",
      "\u001b[34m\u001b[1mwandb\u001b[0m: Adding directory to artifact (/aiffel/aiffel/aiffelthon/wandb/run-20221113_122803-d4vaa8cn/files/model-best)... Done. 0.0s\n"
     ]
    },
    {
     "name": "stdout",
     "output_type": "stream",
     "text": [
      "sequence accuracy is 0.897835024202639\n",
      "Epoch 4/8\n",
      "315/315 [==============================] - 1s 4ms/step - loss: 0.0978 - val_loss: 0.1856\n"
     ]
    },
    {
     "name": "stderr",
     "output_type": "stream",
     "text": [
      "WARNING:absl:Found untraced functions such as lstm_cell_layer_call_and_return_conditional_losses, lstm_cell_layer_call_fn, lstm_cell_layer_call_fn, lstm_cell_layer_call_and_return_conditional_losses, lstm_cell_layer_call_and_return_conditional_losses while saving (showing 5 of 5). These functions will not be directly callable after loading.\n"
     ]
    },
    {
     "name": "stdout",
     "output_type": "stream",
     "text": [
      "INFO:tensorflow:Assets written to: /aiffel/aiffel/aiffelthon/wandb/run-20221113_122803-d4vaa8cn/files/model-best/assets\n"
     ]
    },
    {
     "name": "stderr",
     "output_type": "stream",
     "text": [
      "INFO:tensorflow:Assets written to: /aiffel/aiffel/aiffelthon/wandb/run-20221113_122803-d4vaa8cn/files/model-best/assets\n",
      "\u001b[34m\u001b[1mwandb\u001b[0m: Adding directory to artifact (/aiffel/aiffel/aiffelthon/wandb/run-20221113_122803-d4vaa8cn/files/model-best)... Done. 0.0s\n"
     ]
    },
    {
     "name": "stdout",
     "output_type": "stream",
     "text": [
      "sequence accuracy is 0.8982328758039918\n",
      "Epoch 5/8\n",
      "315/315 [==============================] - 1s 4ms/step - loss: 0.0867 - val_loss: 0.1872\n",
      "sequence accuracy is 0.8933840594125058\n",
      "Epoch 6/8\n",
      "315/315 [==============================] - 1s 4ms/step - loss: 0.0859 - val_loss: 0.1681\n"
     ]
    },
    {
     "name": "stderr",
     "output_type": "stream",
     "text": [
      "WARNING:absl:Found untraced functions such as lstm_cell_layer_call_and_return_conditional_losses, lstm_cell_layer_call_fn, lstm_cell_layer_call_fn, lstm_cell_layer_call_and_return_conditional_losses, lstm_cell_layer_call_and_return_conditional_losses while saving (showing 5 of 5). These functions will not be directly callable after loading.\n"
     ]
    },
    {
     "name": "stdout",
     "output_type": "stream",
     "text": [
      "INFO:tensorflow:Assets written to: /aiffel/aiffel/aiffelthon/wandb/run-20221113_122803-d4vaa8cn/files/model-best/assets\n"
     ]
    },
    {
     "name": "stderr",
     "output_type": "stream",
     "text": [
      "INFO:tensorflow:Assets written to: /aiffel/aiffel/aiffelthon/wandb/run-20221113_122803-d4vaa8cn/files/model-best/assets\n",
      "\u001b[34m\u001b[1mwandb\u001b[0m: Adding directory to artifact (/aiffel/aiffel/aiffelthon/wandb/run-20221113_122803-d4vaa8cn/files/model-best)... Done. 0.0s\n"
     ]
    },
    {
     "name": "stdout",
     "output_type": "stream",
     "text": [
      "sequence accuracy is 0.9051538359525231\n",
      "Epoch 7/8\n",
      "315/315 [==============================] - 1s 4ms/step - loss: 0.0699 - val_loss: 0.1717\n",
      "sequence accuracy is 0.9089582918904582\n",
      "Epoch 8/8\n",
      "315/315 [==============================] - 1s 4ms/step - loss: 0.0621 - val_loss: 0.1669\n"
     ]
    },
    {
     "name": "stderr",
     "output_type": "stream",
     "text": [
      "WARNING:absl:Found untraced functions such as lstm_cell_layer_call_and_return_conditional_losses, lstm_cell_layer_call_fn, lstm_cell_layer_call_fn, lstm_cell_layer_call_and_return_conditional_losses, lstm_cell_layer_call_and_return_conditional_losses while saving (showing 5 of 5). These functions will not be directly callable after loading.\n"
     ]
    },
    {
     "name": "stdout",
     "output_type": "stream",
     "text": [
      "INFO:tensorflow:Assets written to: /aiffel/aiffel/aiffelthon/wandb/run-20221113_122803-d4vaa8cn/files/model-best/assets\n"
     ]
    },
    {
     "name": "stderr",
     "output_type": "stream",
     "text": [
      "INFO:tensorflow:Assets written to: /aiffel/aiffel/aiffelthon/wandb/run-20221113_122803-d4vaa8cn/files/model-best/assets\n",
      "\u001b[34m\u001b[1mwandb\u001b[0m: Adding directory to artifact (/aiffel/aiffel/aiffelthon/wandb/run-20221113_122803-d4vaa8cn/files/model-best)... Done. 0.0s\n"
     ]
    },
    {
     "name": "stdout",
     "output_type": "stream",
     "text": [
      "sequence accuracy is 0.9264471851999204\n"
     ]
    },
    {
     "data": {
      "text/html": [
       "Waiting for W&B process to finish... <strong style=\"color:green\">(success).</strong>"
      ],
      "text/plain": [
       "<IPython.core.display.HTML object>"
      ]
     },
     "metadata": {},
     "output_type": "display_data"
    },
    {
     "data": {
      "text/html": [
       "<style>\n",
       "    table.wandb td:nth-child(1) { padding: 0 10px; text-align: left ; width: auto;} td:nth-child(2) {text-align: left ; width: 100%}\n",
       "    .wandb-row { display: flex; flex-direction: row; flex-wrap: wrap; justify-content: flex-start; width: 100% }\n",
       "    .wandb-col { display: flex; flex-direction: column; flex-basis: 100%; flex: 1; padding: 10px; }\n",
       "    </style>\n",
       "<div class=\"wandb-row\"><div class=\"wandb-col\"><h3>Run history:</h3><br/><table class=\"wandb\"><tr><td>Validation Acc :</td><td>▁</td></tr><tr><td>epoch</td><td>▁▂▃▄▅▆▇█</td></tr><tr><td>loss</td><td>█▃▂▂▂▂▁▁</td></tr><tr><td>val_loss</td><td>█▇▄▃▃▁▂▁</td></tr></table><br/></div><div class=\"wandb-col\"><h3>Run summary:</h3><br/><table class=\"wandb\"><tr><td>Validation Acc :</td><td>0.92645</td></tr><tr><td>best_epoch</td><td>7</td></tr><tr><td>best_val_loss</td><td>0.16695</td></tr><tr><td>epoch</td><td>7</td></tr><tr><td>loss</td><td>0.06209</td></tr><tr><td>val_loss</td><td>0.16695</td></tr></table><br/></div></div>"
      ],
      "text/plain": [
       "<IPython.core.display.HTML object>"
      ]
     },
     "metadata": {},
     "output_type": "display_data"
    },
    {
     "data": {
      "text/html": [
       "Synced <strong style=\"color:#cdcd00\">lilac-sweep-2</strong>: <a href=\"https://wandb.ai/chhyyi/redzone_LSTM_sweep/runs/d4vaa8cn\" target=\"_blank\">https://wandb.ai/chhyyi/redzone_LSTM_sweep/runs/d4vaa8cn</a><br/>Synced 5 W&B file(s), 1 media file(s), 19 artifact file(s) and 1 other file(s)"
      ],
      "text/plain": [
       "<IPython.core.display.HTML object>"
      ]
     },
     "metadata": {},
     "output_type": "display_data"
    },
    {
     "data": {
      "text/html": [
       "Find logs at: <code>./wandb/run-20221113_122803-d4vaa8cn/logs</code>"
      ],
      "text/plain": [
       "<IPython.core.display.HTML object>"
      ]
     },
     "metadata": {},
     "output_type": "display_data"
    },
    {
     "name": "stderr",
     "output_type": "stream",
     "text": [
      "\u001b[34m\u001b[1mwandb\u001b[0m: Sweep Agent: Waiting for job.\n",
      "\u001b[34m\u001b[1mwandb\u001b[0m: Job received.\n",
      "\u001b[34m\u001b[1mwandb\u001b[0m: Agent Starting Run: g5eoue1f with config:\n",
      "\u001b[34m\u001b[1mwandb\u001b[0m: \tepochs: 1\n",
      "\u001b[34m\u001b[1mwandb\u001b[0m: \tlearning_rate: 0.01\n",
      "\u001b[34m\u001b[1mwandb\u001b[0m: \tsplit_train_ratio: 0.5\n",
      "\u001b[34m\u001b[1mwandb\u001b[0m: \tstride_inside_seq: 9\n",
      "\u001b[34m\u001b[1mwandb\u001b[0m: \tunit_LSTM0: 256\n"
     ]
    },
    {
     "data": {
      "text/html": [
       "Tracking run with wandb version 0.13.5"
      ],
      "text/plain": [
       "<IPython.core.display.HTML object>"
      ]
     },
     "metadata": {},
     "output_type": "display_data"
    },
    {
     "data": {
      "text/html": [
       "Run data is saved locally in <code>/aiffel/aiffel/aiffelthon/wandb/run-20221113_123016-g5eoue1f</code>"
      ],
      "text/plain": [
       "<IPython.core.display.HTML object>"
      ]
     },
     "metadata": {},
     "output_type": "display_data"
    },
    {
     "data": {
      "text/html": [
       "Syncing run <strong><a href=\"https://wandb.ai/chhyyi/redzone_LSTM_sweep/runs/g5eoue1f\" target=\"_blank\">sparkling-sweep-3</a></strong> to <a href=\"https://wandb.ai/chhyyi/redzone_LSTM_sweep\" target=\"_blank\">Weights & Biases</a> (<a href=\"https://wandb.me/run\" target=\"_blank\">docs</a>)<br/>Sweep page:  <a href=\"https://wandb.ai/chhyyi/redzone_LSTM_sweep/sweeps/nhh58kej\" target=\"_blank\">https://wandb.ai/chhyyi/redzone_LSTM_sweep/sweeps/nhh58kej</a>"
      ],
      "text/plain": [
       "<IPython.core.display.HTML object>"
      ]
     },
     "metadata": {},
     "output_type": "display_data"
    },
    {
     "name": "stdout",
     "output_type": "stream",
     "text": [
      "loaded dataset. Generating sequences\n",
      "Any missing values exist: False\n",
      "train dataset columns: Index(['풍속(m/s)', '풍향(deg)', '기온(°C)', '수온(°C)', '강수량(mm)', '풍속(m/s).1',\n",
      "       '풍향(deg).1', '기온(°C).1', '수온(°C).1', '강수량(mm).1', '풍속(m/s).2',\n",
      "       '풍향(deg).2', '기온(°C).2', '수온(°C).2', '강수량(mm).2', '풍속(m/s).3',\n",
      "       '풍향(deg).3', '기온(°C).3', '수온(°C).3', '강수량(mm).3', '풍속(m/s).4',\n",
      "       '풍향(deg).4', '기온(°C).4', '수온(°C).4', '강수량(mm).4', '적조발생'],\n",
      "      dtype='object')\n",
      "12566 25133\n",
      "(12566, 8, 25) (12567, 8, 25) (12566, 8) (12567, 8) \n",
      "\n",
      "\n",
      "197/197 [==============================] - 2s 7ms/step - loss: 0.1299 - val_loss: 0.4507\n"
     ]
    },
    {
     "name": "stderr",
     "output_type": "stream",
     "text": [
      "WARNING:absl:Found untraced functions such as lstm_cell_layer_call_and_return_conditional_losses, lstm_cell_layer_call_fn, lstm_cell_layer_call_fn, lstm_cell_layer_call_and_return_conditional_losses, lstm_cell_layer_call_and_return_conditional_losses while saving (showing 5 of 5). These functions will not be directly callable after loading.\n"
     ]
    },
    {
     "name": "stdout",
     "output_type": "stream",
     "text": [
      "INFO:tensorflow:Assets written to: /aiffel/aiffel/aiffelthon/wandb/run-20221113_123016-g5eoue1f/files/model-best/assets\n"
     ]
    },
    {
     "name": "stderr",
     "output_type": "stream",
     "text": [
      "INFO:tensorflow:Assets written to: /aiffel/aiffel/aiffelthon/wandb/run-20221113_123016-g5eoue1f/files/model-best/assets\n",
      "\u001b[34m\u001b[1mwandb\u001b[0m: Adding directory to artifact (/aiffel/aiffel/aiffelthon/wandb/run-20221113_123016-g5eoue1f/files/model-best)... Done. 0.0s\n"
     ]
    },
    {
     "name": "stdout",
     "output_type": "stream",
     "text": [
      "sequence accuracy is 0.9259071377417044\n"
     ]
    },
    {
     "data": {
      "text/html": [
       "Waiting for W&B process to finish... <strong style=\"color:green\">(success).</strong>"
      ],
      "text/plain": [
       "<IPython.core.display.HTML object>"
      ]
     },
     "metadata": {},
     "output_type": "display_data"
    },
    {
     "data": {
      "text/html": [
       "<style>\n",
       "    table.wandb td:nth-child(1) { padding: 0 10px; text-align: left ; width: auto;} td:nth-child(2) {text-align: left ; width: 100%}\n",
       "    .wandb-row { display: flex; flex-direction: row; flex-wrap: wrap; justify-content: flex-start; width: 100% }\n",
       "    .wandb-col { display: flex; flex-direction: column; flex-basis: 100%; flex: 1; padding: 10px; }\n",
       "    </style>\n",
       "<div class=\"wandb-row\"><div class=\"wandb-col\"><h3>Run history:</h3><br/><table class=\"wandb\"><tr><td>Validation Acc :</td><td>▁</td></tr><tr><td>epoch</td><td>▁</td></tr><tr><td>loss</td><td>▁</td></tr><tr><td>val_loss</td><td>▁</td></tr></table><br/></div><div class=\"wandb-col\"><h3>Run summary:</h3><br/><table class=\"wandb\"><tr><td>Validation Acc :</td><td>0.92591</td></tr><tr><td>best_epoch</td><td>0</td></tr><tr><td>best_val_loss</td><td>0.45075</td></tr><tr><td>epoch</td><td>0</td></tr><tr><td>loss</td><td>0.12995</td></tr><tr><td>val_loss</td><td>0.45075</td></tr></table><br/></div></div>"
      ],
      "text/plain": [
       "<IPython.core.display.HTML object>"
      ]
     },
     "metadata": {},
     "output_type": "display_data"
    },
    {
     "data": {
      "text/html": [
       "Synced <strong style=\"color:#cdcd00\">sparkling-sweep-3</strong>: <a href=\"https://wandb.ai/chhyyi/redzone_LSTM_sweep/runs/g5eoue1f\" target=\"_blank\">https://wandb.ai/chhyyi/redzone_LSTM_sweep/runs/g5eoue1f</a><br/>Synced 5 W&B file(s), 1 media file(s), 4 artifact file(s) and 1 other file(s)"
      ],
      "text/plain": [
       "<IPython.core.display.HTML object>"
      ]
     },
     "metadata": {},
     "output_type": "display_data"
    },
    {
     "data": {
      "text/html": [
       "Find logs at: <code>./wandb/run-20221113_123016-g5eoue1f/logs</code>"
      ],
      "text/plain": [
       "<IPython.core.display.HTML object>"
      ]
     },
     "metadata": {},
     "output_type": "display_data"
    },
    {
     "name": "stderr",
     "output_type": "stream",
     "text": [
      "\u001b[34m\u001b[1mwandb\u001b[0m: Agent Starting Run: kxblfq3g with config:\n",
      "\u001b[34m\u001b[1mwandb\u001b[0m: \tepochs: 2\n",
      "\u001b[34m\u001b[1mwandb\u001b[0m: \tlearning_rate: 0.001\n",
      "\u001b[34m\u001b[1mwandb\u001b[0m: \tsplit_train_ratio: 0.5\n",
      "\u001b[34m\u001b[1mwandb\u001b[0m: \tstride_inside_seq: 9\n",
      "\u001b[34m\u001b[1mwandb\u001b[0m: \tunit_LSTM0: 32\n"
     ]
    },
    {
     "data": {
      "text/html": [
       "Tracking run with wandb version 0.13.5"
      ],
      "text/plain": [
       "<IPython.core.display.HTML object>"
      ]
     },
     "metadata": {},
     "output_type": "display_data"
    },
    {
     "data": {
      "text/html": [
       "Run data is saved locally in <code>/aiffel/aiffel/aiffelthon/wandb/run-20221113_123102-kxblfq3g</code>"
      ],
      "text/plain": [
       "<IPython.core.display.HTML object>"
      ]
     },
     "metadata": {},
     "output_type": "display_data"
    },
    {
     "data": {
      "text/html": [
       "Syncing run <strong><a href=\"https://wandb.ai/chhyyi/redzone_LSTM_sweep/runs/kxblfq3g\" target=\"_blank\">solar-sweep-4</a></strong> to <a href=\"https://wandb.ai/chhyyi/redzone_LSTM_sweep\" target=\"_blank\">Weights & Biases</a> (<a href=\"https://wandb.me/run\" target=\"_blank\">docs</a>)<br/>Sweep page:  <a href=\"https://wandb.ai/chhyyi/redzone_LSTM_sweep/sweeps/nhh58kej\" target=\"_blank\">https://wandb.ai/chhyyi/redzone_LSTM_sweep/sweeps/nhh58kej</a>"
      ],
      "text/plain": [
       "<IPython.core.display.HTML object>"
      ]
     },
     "metadata": {},
     "output_type": "display_data"
    },
    {
     "name": "stdout",
     "output_type": "stream",
     "text": [
      "loaded dataset. Generating sequences\n",
      "Any missing values exist: False\n",
      "train dataset columns: Index(['풍속(m/s)', '풍향(deg)', '기온(°C)', '수온(°C)', '강수량(mm)', '풍속(m/s).1',\n",
      "       '풍향(deg).1', '기온(°C).1', '수온(°C).1', '강수량(mm).1', '풍속(m/s).2',\n",
      "       '풍향(deg).2', '기온(°C).2', '수온(°C).2', '강수량(mm).2', '풍속(m/s).3',\n",
      "       '풍향(deg).3', '기온(°C).3', '수온(°C).3', '강수량(mm).3', '풍속(m/s).4',\n",
      "       '풍향(deg).4', '기온(°C).4', '수온(°C).4', '강수량(mm).4', '적조발생'],\n",
      "      dtype='object')\n",
      "12566 25133\n",
      "(12566, 8, 25) (12567, 8, 25) (12566, 8) (12567, 8) \n",
      "\n",
      "\n",
      "Epoch 1/2\n",
      "197/197 [==============================] - 2s 6ms/step - loss: 0.2676 - val_loss: 0.2507\n"
     ]
    },
    {
     "name": "stderr",
     "output_type": "stream",
     "text": [
      "WARNING:absl:Found untraced functions such as lstm_cell_layer_call_and_return_conditional_losses, lstm_cell_layer_call_fn, lstm_cell_layer_call_fn, lstm_cell_layer_call_and_return_conditional_losses, lstm_cell_layer_call_and_return_conditional_losses while saving (showing 5 of 5). These functions will not be directly callable after loading.\n"
     ]
    },
    {
     "data": {
      "text/html": [
       "<style>\n",
       "    table.wandb td:nth-child(1) { padding: 0 10px; text-align: left ; width: auto;} td:nth-child(2) {text-align: left ; width: 100%}\n",
       "    .wandb-row { display: flex; flex-direction: row; flex-wrap: wrap; justify-content: flex-start; width: 100% }\n",
       "    .wandb-col { display: flex; flex-direction: column; flex-basis: 100%; flex: 1; padding: 10px; }\n",
       "    </style>\n",
       "<div class=\"wandb-row\"><div class=\"wandb-col\"><h3>Run history:</h3><br/><table class=\"wandb\"><tr><td>Validation Acc :</td><td>▁</td></tr><tr><td>epoch</td><td>▁█</td></tr><tr><td>loss</td><td>█▁</td></tr><tr><td>val_loss</td><td>▁█</td></tr></table><br/></div><div class=\"wandb-col\"><h3>Run summary:</h3><br/><table class=\"wandb\"><tr><td>Validation Acc :</td><td>0.92425</td></tr><tr><td>best_epoch</td><td>0</td></tr><tr><td>best_val_loss</td><td>0.25075</td></tr><tr><td>epoch</td><td>1</td></tr><tr><td>loss</td><td>0.10858</td></tr><tr><td>val_loss</td><td>0.27078</td></tr></table><br/></div></div>"
      ],
      "text/plain": [
       "<IPython.core.display.HTML object>"
      ]
     },
     "metadata": {},
     "output_type": "display_data"
    },
    {
     "data": {
      "text/html": [
       "Synced <strong style=\"color:#cdcd00\">solar-sweep-4</strong>: <a href=\"https://wandb.ai/chhyyi/redzone_LSTM_sweep/runs/kxblfq3g\" target=\"_blank\">https://wandb.ai/chhyyi/redzone_LSTM_sweep/runs/kxblfq3g</a><br/>Synced 5 W&B file(s), 1 media file(s), 4 artifact file(s) and 1 other file(s)"
      ],
      "text/plain": [
       "<IPython.core.display.HTML object>"
      ]
     },
     "metadata": {},
     "output_type": "display_data"
    },
    {
     "data": {
      "text/html": [
       "Find logs at: <code>./wandb/run-20221113_123102-kxblfq3g/logs</code>"
      ],
      "text/plain": [
       "<IPython.core.display.HTML object>"
      ]
     },
     "metadata": {},
     "output_type": "display_data"
    },
    {
     "name": "stderr",
     "output_type": "stream",
     "text": [
      "\u001b[34m\u001b[1mwandb\u001b[0m: Agent Starting Run: lg3dzk5j with config:\n",
      "\u001b[34m\u001b[1mwandb\u001b[0m: \tepochs: 4\n",
      "\u001b[34m\u001b[1mwandb\u001b[0m: \tlearning_rate: 0.01\n",
      "\u001b[34m\u001b[1mwandb\u001b[0m: \tsplit_train_ratio: 0.8\n",
      "\u001b[34m\u001b[1mwandb\u001b[0m: \tstride_inside_seq: 9\n",
      "\u001b[34m\u001b[1mwandb\u001b[0m: \tunit_LSTM0: 128\n"
     ]
    },
    {
     "data": {
      "text/html": [
       "Tracking run with wandb version 0.13.5"
      ],
      "text/plain": [
       "<IPython.core.display.HTML object>"
      ]
     },
     "metadata": {},
     "output_type": "display_data"
    },
    {
     "data": {
      "text/html": [
       "Run data is saved locally in <code>/aiffel/aiffel/aiffelthon/wandb/run-20221113_123148-lg3dzk5j</code>"
      ],
      "text/plain": [
       "<IPython.core.display.HTML object>"
      ]
     },
     "metadata": {},
     "output_type": "display_data"
    },
    {
     "data": {
      "text/html": [
       "Syncing run <strong><a href=\"https://wandb.ai/chhyyi/redzone_LSTM_sweep/runs/lg3dzk5j\" target=\"_blank\">eternal-sweep-5</a></strong> to <a href=\"https://wandb.ai/chhyyi/redzone_LSTM_sweep\" target=\"_blank\">Weights & Biases</a> (<a href=\"https://wandb.me/run\" target=\"_blank\">docs</a>)<br/>Sweep page:  <a href=\"https://wandb.ai/chhyyi/redzone_LSTM_sweep/sweeps/nhh58kej\" target=\"_blank\">https://wandb.ai/chhyyi/redzone_LSTM_sweep/sweeps/nhh58kej</a>"
      ],
      "text/plain": [
       "<IPython.core.display.HTML object>"
      ]
     },
     "metadata": {},
     "output_type": "display_data"
    },
    {
     "name": "stdout",
     "output_type": "stream",
     "text": [
      "loaded dataset. Generating sequences\n",
      "Any missing values exist: False\n",
      "train dataset columns: Index(['풍속(m/s)', '풍향(deg)', '기온(°C)', '수온(°C)', '강수량(mm)', '풍속(m/s).1',\n",
      "       '풍향(deg).1', '기온(°C).1', '수온(°C).1', '강수량(mm).1', '풍속(m/s).2',\n",
      "       '풍향(deg).2', '기온(°C).2', '수온(°C).2', '강수량(mm).2', '풍속(m/s).3',\n",
      "       '풍향(deg).3', '기온(°C).3', '수온(°C).3', '강수량(mm).3', '풍속(m/s).4',\n",
      "       '풍향(deg).4', '기온(°C).4', '수온(°C).4', '강수량(mm).4', '적조발생'],\n",
      "      dtype='object')\n",
      "20106 25133\n",
      "(20106, 8, 25) (5027, 8, 25) (20106, 8) (5027, 8) \n",
      "\n",
      "\n",
      "Epoch 1/4\n",
      "315/315 [==============================] - 3s 6ms/step - loss: 0.1494 - val_loss: 0.2524\n"
     ]
    },
    {
     "name": "stderr",
     "output_type": "stream",
     "text": [
      "WARNING:absl:Found untraced functions such as lstm_cell_layer_call_and_return_conditional_losses, lstm_cell_layer_call_fn, lstm_cell_layer_call_fn, lstm_cell_layer_call_and_return_conditional_losses, lstm_cell_layer_call_and_return_conditional_losses while saving (showing 5 of 5). These functions will not be directly callable after loading.\n"
     ]
    },
    {
     "name": "stdout",
     "output_type": "stream",
     "text": [
      "INFO:tensorflow:Assets written to: /aiffel/aiffel/aiffelthon/wandb/run-20221113_123148-lg3dzk5j/files/model-best/assets\n"
     ]
    },
    {
     "name": "stderr",
     "output_type": "stream",
     "text": [
      "INFO:tensorflow:Assets written to: /aiffel/aiffel/aiffelthon/wandb/run-20221113_123148-lg3dzk5j/files/model-best/assets\n",
      "\u001b[34m\u001b[1mwandb\u001b[0m: Adding directory to artifact (/aiffel/aiffel/aiffelthon/wandb/run-20221113_123148-lg3dzk5j/files/model-best)... Done. 0.0s\n"
     ]
    },
    {
     "name": "stdout",
     "output_type": "stream",
     "text": [
      "sequence accuracy is 0.8949174457927194\n",
      "Epoch 2/4\n",
      "315/315 [==============================] - 1s 4ms/step - loss: 0.0850 - val_loss: 0.2421\n"
     ]
    },
    {
     "name": "stderr",
     "output_type": "stream",
     "text": [
      "WARNING:absl:Found untraced functions such as lstm_cell_layer_call_and_return_conditional_losses, lstm_cell_layer_call_fn, lstm_cell_layer_call_fn, lstm_cell_layer_call_and_return_conditional_losses, lstm_cell_layer_call_and_return_conditional_losses while saving (showing 5 of 5). These functions will not be directly callable after loading.\n"
     ]
    },
    {
     "name": "stdout",
     "output_type": "stream",
     "text": [
      "INFO:tensorflow:Assets written to: /aiffel/aiffel/aiffelthon/wandb/run-20221113_123148-lg3dzk5j/files/model-best/assets\n"
     ]
    },
    {
     "name": "stderr",
     "output_type": "stream",
     "text": [
      "INFO:tensorflow:Assets written to: /aiffel/aiffel/aiffelthon/wandb/run-20221113_123148-lg3dzk5j/files/model-best/assets\n",
      "\u001b[34m\u001b[1mwandb\u001b[0m: Adding directory to artifact (/aiffel/aiffel/aiffelthon/wandb/run-20221113_123148-lg3dzk5j/files/model-best)... Done. 0.0s\n"
     ]
    },
    {
     "name": "stdout",
     "output_type": "stream",
     "text": [
      "sequence accuracy is 0.8822110602745176\n",
      "Epoch 3/4\n",
      "315/315 [==============================] - 1s 4ms/step - loss: 0.0618 - val_loss: 0.2652\n",
      "sequence accuracy is 0.8866868907897354\n",
      "Epoch 4/4\n",
      "315/315 [==============================] - 1s 4ms/step - loss: 0.0345 - val_loss: 0.2958\n",
      "sequence accuracy is 0.9095633578675154\n"
     ]
    },
    {
     "data": {
      "text/html": [
       "Waiting for W&B process to finish... <strong style=\"color:green\">(success).</strong>"
      ],
      "text/plain": [
       "<IPython.core.display.HTML object>"
      ]
     },
     "metadata": {},
     "output_type": "display_data"
    },
    {
     "data": {
      "text/html": [
       "<style>\n",
       "    table.wandb td:nth-child(1) { padding: 0 10px; text-align: left ; width: auto;} td:nth-child(2) {text-align: left ; width: 100%}\n",
       "    .wandb-row { display: flex; flex-direction: row; flex-wrap: wrap; justify-content: flex-start; width: 100% }\n",
       "    .wandb-col { display: flex; flex-direction: column; flex-basis: 100%; flex: 1; padding: 10px; }\n",
       "    </style>\n",
       "<div class=\"wandb-row\"><div class=\"wandb-col\"><h3>Run history:</h3><br/><table class=\"wandb\"><tr><td>Validation Acc :</td><td>▁</td></tr><tr><td>epoch</td><td>▁▃▆█</td></tr><tr><td>loss</td><td>█▄▃▁</td></tr><tr><td>val_loss</td><td>▂▁▄█</td></tr></table><br/></div><div class=\"wandb-col\"><h3>Run summary:</h3><br/><table class=\"wandb\"><tr><td>Validation Acc :</td><td>0.90956</td></tr><tr><td>best_epoch</td><td>1</td></tr><tr><td>best_val_loss</td><td>0.24209</td></tr><tr><td>epoch</td><td>3</td></tr><tr><td>loss</td><td>0.03453</td></tr><tr><td>val_loss</td><td>0.29583</td></tr></table><br/></div></div>"
      ],
      "text/plain": [
       "<IPython.core.display.HTML object>"
      ]
     },
     "metadata": {},
     "output_type": "display_data"
    },
    {
     "data": {
      "text/html": [
       "Synced <strong style=\"color:#cdcd00\">eternal-sweep-5</strong>: <a href=\"https://wandb.ai/chhyyi/redzone_LSTM_sweep/runs/lg3dzk5j\" target=\"_blank\">https://wandb.ai/chhyyi/redzone_LSTM_sweep/runs/lg3dzk5j</a><br/>Synced 5 W&B file(s), 1 media file(s), 7 artifact file(s) and 1 other file(s)"
      ],
      "text/plain": [
       "<IPython.core.display.HTML object>"
      ]
     },
     "metadata": {},
     "output_type": "display_data"
    },
    {
     "data": {
      "text/html": [
       "Find logs at: <code>./wandb/run-20221113_123148-lg3dzk5j/logs</code>"
      ],
      "text/plain": [
       "<IPython.core.display.HTML object>"
      ]
     },
     "metadata": {},
     "output_type": "display_data"
    },
    {
     "name": "stderr",
     "output_type": "stream",
     "text": [
      "\u001b[34m\u001b[1mwandb\u001b[0m: Agent Starting Run: w1fbnpdc with config:\n",
      "\u001b[34m\u001b[1mwandb\u001b[0m: \tepochs: 12\n",
      "\u001b[34m\u001b[1mwandb\u001b[0m: \tlearning_rate: 0.0002\n",
      "\u001b[34m\u001b[1mwandb\u001b[0m: \tsplit_train_ratio: 0.5\n",
      "\u001b[34m\u001b[1mwandb\u001b[0m: \tstride_inside_seq: 3\n",
      "\u001b[34m\u001b[1mwandb\u001b[0m: \tunit_LSTM0: 256\n"
     ]
    },
    {
     "data": {
      "text/html": [
       "Tracking run with wandb version 0.13.5"
      ],
      "text/plain": [
       "<IPython.core.display.HTML object>"
      ]
     },
     "metadata": {},
     "output_type": "display_data"
    },
    {
     "data": {
      "text/html": [
       "Run data is saved locally in <code>/aiffel/aiffel/aiffelthon/wandb/run-20221113_123251-w1fbnpdc</code>"
      ],
      "text/plain": [
       "<IPython.core.display.HTML object>"
      ]
     },
     "metadata": {},
     "output_type": "display_data"
    },
    {
     "data": {
      "text/html": [
       "Syncing run <strong><a href=\"https://wandb.ai/chhyyi/redzone_LSTM_sweep/runs/w1fbnpdc\" target=\"_blank\">effortless-sweep-6</a></strong> to <a href=\"https://wandb.ai/chhyyi/redzone_LSTM_sweep\" target=\"_blank\">Weights & Biases</a> (<a href=\"https://wandb.me/run\" target=\"_blank\">docs</a>)<br/>Sweep page:  <a href=\"https://wandb.ai/chhyyi/redzone_LSTM_sweep/sweeps/nhh58kej\" target=\"_blank\">https://wandb.ai/chhyyi/redzone_LSTM_sweep/sweeps/nhh58kej</a>"
      ],
      "text/plain": [
       "<IPython.core.display.HTML object>"
      ]
     },
     "metadata": {},
     "output_type": "display_data"
    },
    {
     "name": "stdout",
     "output_type": "stream",
     "text": [
      "loaded dataset. Generating sequences\n",
      "Any missing values exist: False\n",
      "train dataset columns: Index(['풍속(m/s)', '풍향(deg)', '기온(°C)', '수온(°C)', '강수량(mm)', '풍속(m/s).1',\n",
      "       '풍향(deg).1', '기온(°C).1', '수온(°C).1', '강수량(mm).1', '풍속(m/s).2',\n",
      "       '풍향(deg).2', '기온(°C).2', '수온(°C).2', '강수량(mm).2', '풍속(m/s).3',\n",
      "       '풍향(deg).3', '기온(°C).3', '수온(°C).3', '강수량(mm).3', '풍속(m/s).4',\n",
      "       '풍향(deg).4', '기온(°C).4', '수온(°C).4', '강수량(mm).4', '적조발생'],\n",
      "      dtype='object')\n",
      "12566 25133\n",
      "(12566, 24, 25) (12567, 24, 25) (12566, 24) (12567, 24) \n",
      "\n",
      "\n",
      "Epoch 1/12\n",
      "197/197 [==============================] - 3s 8ms/step - loss: 0.2071 - val_loss: 0.3056\n"
     ]
    },
    {
     "name": "stderr",
     "output_type": "stream",
     "text": [
      "WARNING:absl:Found untraced functions such as lstm_cell_layer_call_and_return_conditional_losses, lstm_cell_layer_call_fn, lstm_cell_layer_call_fn, lstm_cell_layer_call_and_return_conditional_losses, lstm_cell_layer_call_and_return_conditional_losses while saving (showing 5 of 5). These functions will not be directly callable after loading.\n"
     ]
    },
    {
     "name": "stdout",
     "output_type": "stream",
     "text": [
      "INFO:tensorflow:Assets written to: /aiffel/aiffel/aiffelthon/wandb/run-20221113_123251-w1fbnpdc/files/model-best/assets\n"
     ]
    },
    {
     "name": "stderr",
     "output_type": "stream",
     "text": [
      "INFO:tensorflow:Assets written to: /aiffel/aiffel/aiffelthon/wandb/run-20221113_123251-w1fbnpdc/files/model-best/assets\n",
      "\u001b[34m\u001b[1mwandb\u001b[0m: Adding directory to artifact (/aiffel/aiffel/aiffelthon/wandb/run-20221113_123251-w1fbnpdc/files/model-best)... Done. 0.0s\n"
     ]
    },
    {
     "name": "stdout",
     "output_type": "stream",
     "text": [
      "sequence accuracy is 0.9210531550887244\n",
      "Epoch 2/12\n",
      "197/197 [==============================] - 1s 6ms/step - loss: 0.1045 - val_loss: 0.3268\n",
      "sequence accuracy is 0.9261723826954192\n",
      "Epoch 3/12\n",
      "197/197 [==============================] - 1s 6ms/step - loss: 0.0908 - val_loss: 0.3568\n",
      "sequence accuracy is 0.9155294289276147\n",
      "Epoch 4/12\n",
      "197/197 [==============================] - 1s 6ms/step - loss: 0.0699 - val_loss: 0.3976\n",
      "sequence accuracy is 0.9054799607437468\n",
      "Epoch 5/12\n",
      "197/197 [==============================] - 1s 6ms/step - loss: 0.0548 - val_loss: 0.4245\n",
      "sequence accuracy is 0.9156189490994934\n",
      "Epoch 6/12\n",
      "197/197 [==============================] - 1s 6ms/step - loss: 0.0442 - val_loss: 0.4628\n",
      "sequence accuracy is 0.9148729476671706\n",
      "Epoch 7/12\n",
      "197/197 [==============================] - 1s 6ms/step - loss: 0.0329 - val_loss: 0.4933\n",
      "sequence accuracy is 0.9185432747141986\n",
      "Epoch 8/12\n",
      "197/197 [==============================] - 1s 6ms/step - loss: 0.0303 - val_loss: 0.4888\n",
      "sequence accuracy is 0.9112623007347285\n",
      "Epoch 9/12\n",
      "197/197 [==============================] - 1s 6ms/step - loss: 0.0193 - val_loss: 0.5470\n",
      "sequence accuracy is 0.9169053871250099\n",
      "Epoch 10/12\n",
      "197/197 [==============================] - 1s 6ms/step - loss: 0.0139 - val_loss: 0.5257\n",
      "sequence accuracy is 0.9228369274024562\n",
      "Epoch 11/12\n",
      "197/197 [==============================] - 1s 6ms/step - loss: 0.0166 - val_loss: 0.5800\n",
      "sequence accuracy is 0.9181255139120978\n",
      "Epoch 12/12\n",
      "197/197 [==============================] - 1s 6ms/step - loss: 0.0096 - val_loss: 0.6077\n",
      "sequence accuracy is 0.9142032041590409\n"
     ]
    },
    {
     "data": {
      "text/html": [
       "Waiting for W&B process to finish... <strong style=\"color:green\">(success).</strong>"
      ],
      "text/plain": [
       "<IPython.core.display.HTML object>"
      ]
     },
     "metadata": {},
     "output_type": "display_data"
    },
    {
     "data": {
      "text/html": [
       "<style>\n",
       "    table.wandb td:nth-child(1) { padding: 0 10px; text-align: left ; width: auto;} td:nth-child(2) {text-align: left ; width: 100%}\n",
       "    .wandb-row { display: flex; flex-direction: row; flex-wrap: wrap; justify-content: flex-start; width: 100% }\n",
       "    .wandb-col { display: flex; flex-direction: column; flex-basis: 100%; flex: 1; padding: 10px; }\n",
       "    </style>\n",
       "<div class=\"wandb-row\"><div class=\"wandb-col\"><h3>Run history:</h3><br/><table class=\"wandb\"><tr><td>Validation Acc :</td><td>▁</td></tr><tr><td>epoch</td><td>▁▂▂▃▄▄▅▅▆▇▇█</td></tr><tr><td>loss</td><td>█▄▄▃▃▂▂▂▁▁▁▁</td></tr><tr><td>val_loss</td><td>▁▁▂▃▄▅▅▅▇▆▇█</td></tr></table><br/></div><div class=\"wandb-col\"><h3>Run summary:</h3><br/><table class=\"wandb\"><tr><td>Validation Acc :</td><td>0.9142</td></tr><tr><td>best_epoch</td><td>0</td></tr><tr><td>best_val_loss</td><td>0.30559</td></tr><tr><td>epoch</td><td>11</td></tr><tr><td>loss</td><td>0.00958</td></tr><tr><td>val_loss</td><td>0.60773</td></tr></table><br/></div></div>"
      ],
      "text/plain": [
       "<IPython.core.display.HTML object>"
      ]
     },
     "metadata": {},
     "output_type": "display_data"
    },
    {
     "data": {
      "text/html": [
       "Synced <strong style=\"color:#cdcd00\">effortless-sweep-6</strong>: <a href=\"https://wandb.ai/chhyyi/redzone_LSTM_sweep/runs/w1fbnpdc\" target=\"_blank\">https://wandb.ai/chhyyi/redzone_LSTM_sweep/runs/w1fbnpdc</a><br/>Synced 5 W&B file(s), 1 media file(s), 4 artifact file(s) and 1 other file(s)"
      ],
      "text/plain": [
       "<IPython.core.display.HTML object>"
      ]
     },
     "metadata": {},
     "output_type": "display_data"
    },
    {
     "data": {
      "text/html": [
       "Find logs at: <code>./wandb/run-20221113_123251-w1fbnpdc/logs</code>"
      ],
      "text/plain": [
       "<IPython.core.display.HTML object>"
      ]
     },
     "metadata": {},
     "output_type": "display_data"
    },
    {
     "name": "stderr",
     "output_type": "stream",
     "text": [
      "\u001b[34m\u001b[1mwandb\u001b[0m: Agent Starting Run: 6bskf52b with config:\n",
      "\u001b[34m\u001b[1mwandb\u001b[0m: \tepochs: 3\n",
      "\u001b[34m\u001b[1mwandb\u001b[0m: \tlearning_rate: 0.01\n",
      "\u001b[34m\u001b[1mwandb\u001b[0m: \tsplit_train_ratio: 0.5\n",
      "\u001b[34m\u001b[1mwandb\u001b[0m: \tstride_inside_seq: 9\n",
      "\u001b[34m\u001b[1mwandb\u001b[0m: \tunit_LSTM0: 128\n",
      "\u001b[34m\u001b[1mwandb\u001b[0m: W&B API key is configured. Use \u001b[1m`wandb login --relogin`\u001b[0m to force relogin\n"
     ]
    },
    {
     "data": {
      "text/html": [
       "Tracking run with wandb version 0.13.5"
      ],
      "text/plain": [
       "<IPython.core.display.HTML object>"
      ]
     },
     "metadata": {},
     "output_type": "display_data"
    },
    {
     "data": {
      "text/html": [
       "Run data is saved locally in <code>/aiffel/aiffel/aiffelthon/wandb/run-20221113_123454-6bskf52b</code>"
      ],
      "text/plain": [
       "<IPython.core.display.HTML object>"
      ]
     },
     "metadata": {},
     "output_type": "display_data"
    },
    {
     "data": {
      "text/html": [
       "Syncing run <strong><a href=\"https://wandb.ai/chhyyi/redzone_LSTM_sweep/runs/6bskf52b\" target=\"_blank\">fiery-sweep-7</a></strong> to <a href=\"https://wandb.ai/chhyyi/redzone_LSTM_sweep\" target=\"_blank\">Weights & Biases</a> (<a href=\"https://wandb.me/run\" target=\"_blank\">docs</a>)<br/>Sweep page:  <a href=\"https://wandb.ai/chhyyi/redzone_LSTM_sweep/sweeps/nhh58kej\" target=\"_blank\">https://wandb.ai/chhyyi/redzone_LSTM_sweep/sweeps/nhh58kej</a>"
      ],
      "text/plain": [
       "<IPython.core.display.HTML object>"
      ]
     },
     "metadata": {},
     "output_type": "display_data"
    },
    {
     "name": "stdout",
     "output_type": "stream",
     "text": [
      "loaded dataset. Generating sequences\n",
      "Any missing values exist: False\n",
      "train dataset columns: Index(['풍속(m/s)', '풍향(deg)', '기온(°C)', '수온(°C)', '강수량(mm)', '풍속(m/s).1',\n",
      "       '풍향(deg).1', '기온(°C).1', '수온(°C).1', '강수량(mm).1', '풍속(m/s).2',\n",
      "       '풍향(deg).2', '기온(°C).2', '수온(°C).2', '강수량(mm).2', '풍속(m/s).3',\n",
      "       '풍향(deg).3', '기온(°C).3', '수온(°C).3', '강수량(mm).3', '풍속(m/s).4',\n",
      "       '풍향(deg).4', '기온(°C).4', '수온(°C).4', '강수량(mm).4', '적조발생'],\n",
      "      dtype='object')\n",
      "12566 25133\n",
      "(12566, 8, 25) (12567, 8, 25) (12566, 8) (12567, 8) \n",
      "\n",
      "\n",
      "Epoch 1/3\n",
      "197/197 [==============================] - 2s 7ms/step - loss: 0.1247 - val_loss: 0.3928\n"
     ]
    },
    {
     "name": "stderr",
     "output_type": "stream",
     "text": [
      "WARNING:absl:Found untraced functions such as lstm_cell_layer_call_and_return_conditional_losses, lstm_cell_layer_call_fn, lstm_cell_layer_call_fn, lstm_cell_layer_call_and_return_conditional_losses, lstm_cell_layer_call_and_return_conditional_losses while saving (showing 5 of 5). These functions will not be directly callable after loading.\n"
     ]
    },
    {
     "name": "stdout",
     "output_type": "stream",
     "text": [
      "INFO:tensorflow:Assets written to: /aiffel/aiffel/aiffelthon/wandb/run-20221113_123454-6bskf52b/files/model-best/assets\n"
     ]
    },
    {
     "name": "stderr",
     "output_type": "stream",
     "text": [
      "INFO:tensorflow:Assets written to: /aiffel/aiffel/aiffelthon/wandb/run-20221113_123454-6bskf52b/files/model-best/assets\n",
      "\u001b[34m\u001b[1mwandb\u001b[0m: Adding directory to artifact (/aiffel/aiffel/aiffelthon/wandb/run-20221113_123454-6bskf52b/files/model-best)... Done. 0.0s\n"
     ]
    },
    {
     "name": "stdout",
     "output_type": "stream",
     "text": [
      "sequence accuracy is 0.9212520888040105\n",
      "Epoch 2/3\n",
      "197/197 [==============================] - 1s 5ms/step - loss: 0.0756 - val_loss: 0.5441\n",
      "sequence accuracy is 0.9031192806556855\n",
      "Epoch 3/3\n",
      "197/197 [==============================] - 1s 5ms/step - loss: 0.0494 - val_loss: 0.5441\n",
      "sequence accuracy is 0.9205757141720379\n"
     ]
    },
    {
     "data": {
      "text/html": [
       "Waiting for W&B process to finish... <strong style=\"color:green\">(success).</strong>"
      ],
      "text/plain": [
       "<IPython.core.display.HTML object>"
      ]
     },
     "metadata": {},
     "output_type": "display_data"
    },
    {
     "data": {
      "text/html": [
       "<style>\n",
       "    table.wandb td:nth-child(1) { padding: 0 10px; text-align: left ; width: auto;} td:nth-child(2) {text-align: left ; width: 100%}\n",
       "    .wandb-row { display: flex; flex-direction: row; flex-wrap: wrap; justify-content: flex-start; width: 100% }\n",
       "    .wandb-col { display: flex; flex-direction: column; flex-basis: 100%; flex: 1; padding: 10px; }\n",
       "    </style>\n",
       "<div class=\"wandb-row\"><div class=\"wandb-col\"><h3>Run history:</h3><br/><table class=\"wandb\"><tr><td>Validation Acc :</td><td>▁</td></tr><tr><td>epoch</td><td>▁▅█</td></tr><tr><td>loss</td><td>█▃▁</td></tr><tr><td>val_loss</td><td>▁██</td></tr></table><br/></div><div class=\"wandb-col\"><h3>Run summary:</h3><br/><table class=\"wandb\"><tr><td>Validation Acc :</td><td>0.92058</td></tr><tr><td>best_epoch</td><td>0</td></tr><tr><td>best_val_loss</td><td>0.39279</td></tr><tr><td>epoch</td><td>2</td></tr><tr><td>loss</td><td>0.04943</td></tr><tr><td>val_loss</td><td>0.54412</td></tr></table><br/></div></div>"
      ],
      "text/plain": [
       "<IPython.core.display.HTML object>"
      ]
     },
     "metadata": {},
     "output_type": "display_data"
    },
    {
     "data": {
      "text/html": [
       "Synced <strong style=\"color:#cdcd00\">fiery-sweep-7</strong>: <a href=\"https://wandb.ai/chhyyi/redzone_LSTM_sweep/runs/6bskf52b\" target=\"_blank\">https://wandb.ai/chhyyi/redzone_LSTM_sweep/runs/6bskf52b</a><br/>Synced 5 W&B file(s), 1 media file(s), 4 artifact file(s) and 1 other file(s)"
      ],
      "text/plain": [
       "<IPython.core.display.HTML object>"
      ]
     },
     "metadata": {},
     "output_type": "display_data"
    },
    {
     "data": {
      "text/html": [
       "Find logs at: <code>./wandb/run-20221113_123454-6bskf52b/logs</code>"
      ],
      "text/plain": [
       "<IPython.core.display.HTML object>"
      ]
     },
     "metadata": {},
     "output_type": "display_data"
    },
    {
     "name": "stderr",
     "output_type": "stream",
     "text": [
      "\u001b[34m\u001b[1mwandb\u001b[0m: Agent Starting Run: lzyc7h79 with config:\n",
      "\u001b[34m\u001b[1mwandb\u001b[0m: \tepochs: 3\n",
      "\u001b[34m\u001b[1mwandb\u001b[0m: \tlearning_rate: 0.01\n",
      "\u001b[34m\u001b[1mwandb\u001b[0m: \tsplit_train_ratio: 0.8\n",
      "\u001b[34m\u001b[1mwandb\u001b[0m: \tstride_inside_seq: 1\n",
      "\u001b[34m\u001b[1mwandb\u001b[0m: \tunit_LSTM0: 256\n"
     ]
    },
    {
     "data": {
      "application/vnd.jupyter.widget-view+json": {
       "model_id": "ec90c84081024bb29da661f1d03aadf4",
       "version_major": 2,
       "version_minor": 0
      },
      "text/plain": [
       "VBox(children=(Label(value='Waiting for wandb.init()...\\r'), FloatProgress(value=0.016669181850011226, max=1.0…"
      ]
     },
     "metadata": {},
     "output_type": "display_data"
    },
    {
     "data": {
      "text/html": [
       "Tracking run with wandb version 0.13.5"
      ],
      "text/plain": [
       "<IPython.core.display.HTML object>"
      ]
     },
     "metadata": {},
     "output_type": "display_data"
    },
    {
     "data": {
      "text/html": [
       "Run data is saved locally in <code>/aiffel/aiffel/aiffelthon/wandb/run-20221113_123541-lzyc7h79</code>"
      ],
      "text/plain": [
       "<IPython.core.display.HTML object>"
      ]
     },
     "metadata": {},
     "output_type": "display_data"
    },
    {
     "data": {
      "text/html": [
       "Syncing run <strong><a href=\"https://wandb.ai/chhyyi/redzone_LSTM_sweep/runs/lzyc7h79\" target=\"_blank\">zesty-sweep-8</a></strong> to <a href=\"https://wandb.ai/chhyyi/redzone_LSTM_sweep\" target=\"_blank\">Weights & Biases</a> (<a href=\"https://wandb.me/run\" target=\"_blank\">docs</a>)<br/>Sweep page:  <a href=\"https://wandb.ai/chhyyi/redzone_LSTM_sweep/sweeps/nhh58kej\" target=\"_blank\">https://wandb.ai/chhyyi/redzone_LSTM_sweep/sweeps/nhh58kej</a>"
      ],
      "text/plain": [
       "<IPython.core.display.HTML object>"
      ]
     },
     "metadata": {},
     "output_type": "display_data"
    },
    {
     "name": "stdout",
     "output_type": "stream",
     "text": [
      "loaded dataset. Generating sequences\n",
      "Any missing values exist: False\n",
      "train dataset columns: Index(['풍속(m/s)', '풍향(deg)', '기온(°C)', '수온(°C)', '강수량(mm)', '풍속(m/s).1',\n",
      "       '풍향(deg).1', '기온(°C).1', '수온(°C).1', '강수량(mm).1', '풍속(m/s).2',\n",
      "       '풍향(deg).2', '기온(°C).2', '수온(°C).2', '강수량(mm).2', '풍속(m/s).3',\n",
      "       '풍향(deg).3', '기온(°C).3', '수온(°C).3', '강수량(mm).3', '풍속(m/s).4',\n",
      "       '풍향(deg).4', '기온(°C).4', '수온(°C).4', '강수량(mm).4', '적조발생'],\n",
      "      dtype='object')\n",
      "20106 25133\n",
      "(20106, 72, 25) (5027, 72, 25) (20106, 72) (5027, 72) \n",
      "\n",
      "\n",
      "Epoch 1/3\n",
      "315/315 [==============================] - 5s 9ms/step - loss: 0.1799 - val_loss: 0.2478\n"
     ]
    },
    {
     "name": "stderr",
     "output_type": "stream",
     "text": [
      "WARNING:absl:Found untraced functions such as lstm_cell_layer_call_and_return_conditional_losses, lstm_cell_layer_call_fn, lstm_cell_layer_call_fn, lstm_cell_layer_call_and_return_conditional_losses, lstm_cell_layer_call_and_return_conditional_losses while saving (showing 5 of 5). These functions will not be directly callable after loading.\n"
     ]
    },
    {
     "name": "stdout",
     "output_type": "stream",
     "text": [
      "INFO:tensorflow:Assets written to: /aiffel/aiffel/aiffelthon/wandb/run-20221113_123541-lzyc7h79/files/model-best/assets\n"
     ]
    },
    {
     "name": "stderr",
     "output_type": "stream",
     "text": [
      "INFO:tensorflow:Assets written to: /aiffel/aiffel/aiffelthon/wandb/run-20221113_123541-lzyc7h79/files/model-best/assets\n",
      "\u001b[34m\u001b[1mwandb\u001b[0m: Adding directory to artifact (/aiffel/aiffel/aiffelthon/wandb/run-20221113_123541-lzyc7h79/files/model-best)... Done. 0.0s\n"
     ]
    },
    {
     "name": "stdout",
     "output_type": "stream",
     "text": [
      "sequence accuracy is 0.9096545321928254\n",
      "Epoch 2/3\n",
      "315/315 [==============================] - 2s 8ms/step - loss: 0.1542 - val_loss: 0.2704\n",
      "sequence accuracy is 0.8677392082753133\n",
      "Epoch 3/3\n",
      "315/315 [==============================] - 2s 8ms/step - loss: 0.1204 - val_loss: 0.2202\n"
     ]
    },
    {
     "name": "stderr",
     "output_type": "stream",
     "text": [
      "WARNING:absl:Found untraced functions such as lstm_cell_layer_call_and_return_conditional_losses, lstm_cell_layer_call_fn, lstm_cell_layer_call_fn, lstm_cell_layer_call_and_return_conditional_losses, lstm_cell_layer_call_and_return_conditional_losses while saving (showing 5 of 5). These functions will not be directly callable after loading.\n"
     ]
    },
    {
     "name": "stdout",
     "output_type": "stream",
     "text": [
      "INFO:tensorflow:Assets written to: /aiffel/aiffel/aiffelthon/wandb/run-20221113_123541-lzyc7h79/files/model-best/assets\n"
     ]
    },
    {
     "name": "stderr",
     "output_type": "stream",
     "text": [
      "INFO:tensorflow:Assets written to: /aiffel/aiffel/aiffelthon/wandb/run-20221113_123541-lzyc7h79/files/model-best/assets\n",
      "\u001b[34m\u001b[1mwandb\u001b[0m: Adding directory to artifact (/aiffel/aiffel/aiffelthon/wandb/run-20221113_123541-lzyc7h79/files/model-best)... Done. 0.0s\n"
     ]
    },
    {
     "name": "stdout",
     "output_type": "stream",
     "text": [
      "sequence accuracy is 0.8989512189731008\n"
     ]
    },
    {
     "data": {
      "text/html": [
       "Waiting for W&B process to finish... <strong style=\"color:green\">(success).</strong>"
      ],
      "text/plain": [
       "<IPython.core.display.HTML object>"
      ]
     },
     "metadata": {},
     "output_type": "display_data"
    },
    {
     "data": {
      "text/html": [
       "<style>\n",
       "    table.wandb td:nth-child(1) { padding: 0 10px; text-align: left ; width: auto;} td:nth-child(2) {text-align: left ; width: 100%}\n",
       "    .wandb-row { display: flex; flex-direction: row; flex-wrap: wrap; justify-content: flex-start; width: 100% }\n",
       "    .wandb-col { display: flex; flex-direction: column; flex-basis: 100%; flex: 1; padding: 10px; }\n",
       "    </style>\n",
       "<div class=\"wandb-row\"><div class=\"wandb-col\"><h3>Run history:</h3><br/><table class=\"wandb\"><tr><td>Validation Acc :</td><td>▁</td></tr><tr><td>epoch</td><td>▁▅█</td></tr><tr><td>loss</td><td>█▅▁</td></tr><tr><td>val_loss</td><td>▅█▁</td></tr></table><br/></div><div class=\"wandb-col\"><h3>Run summary:</h3><br/><table class=\"wandb\"><tr><td>Validation Acc :</td><td>0.89895</td></tr><tr><td>best_epoch</td><td>2</td></tr><tr><td>best_val_loss</td><td>0.22017</td></tr><tr><td>epoch</td><td>2</td></tr><tr><td>loss</td><td>0.12037</td></tr><tr><td>val_loss</td><td>0.22017</td></tr></table><br/></div></div>"
      ],
      "text/plain": [
       "<IPython.core.display.HTML object>"
      ]
     },
     "metadata": {},
     "output_type": "display_data"
    },
    {
     "data": {
      "text/html": [
       "Synced <strong style=\"color:#cdcd00\">zesty-sweep-8</strong>: <a href=\"https://wandb.ai/chhyyi/redzone_LSTM_sweep/runs/lzyc7h79\" target=\"_blank\">https://wandb.ai/chhyyi/redzone_LSTM_sweep/runs/lzyc7h79</a><br/>Synced 5 W&B file(s), 1 media file(s), 7 artifact file(s) and 1 other file(s)"
      ],
      "text/plain": [
       "<IPython.core.display.HTML object>"
      ]
     },
     "metadata": {},
     "output_type": "display_data"
    },
    {
     "data": {
      "text/html": [
       "Find logs at: <code>./wandb/run-20221113_123541-lzyc7h79/logs</code>"
      ],
      "text/plain": [
       "<IPython.core.display.HTML object>"
      ]
     },
     "metadata": {},
     "output_type": "display_data"
    },
    {
     "name": "stderr",
     "output_type": "stream",
     "text": [
      "\u001b[34m\u001b[1mwandb\u001b[0m: Sweep Agent: Waiting for job.\n",
      "\u001b[34m\u001b[1mwandb\u001b[0m: Job received.\n",
      "\u001b[34m\u001b[1mwandb\u001b[0m: Agent Starting Run: kxrvo6wt with config:\n",
      "\u001b[34m\u001b[1mwandb\u001b[0m: \tepochs: 8\n",
      "\u001b[34m\u001b[1mwandb\u001b[0m: \tlearning_rate: 0.001\n",
      "\u001b[34m\u001b[1mwandb\u001b[0m: \tsplit_train_ratio: 0.8\n",
      "\u001b[34m\u001b[1mwandb\u001b[0m: \tstride_inside_seq: 9\n",
      "\u001b[34m\u001b[1mwandb\u001b[0m: \tunit_LSTM0: 32\n"
     ]
    },
    {
     "data": {
      "text/html": [
       "Tracking run with wandb version 0.13.5"
      ],
      "text/plain": [
       "<IPython.core.display.HTML object>"
      ]
     },
     "metadata": {},
     "output_type": "display_data"
    },
    {
     "data": {
      "text/html": [
       "Run data is saved locally in <code>/aiffel/aiffel/aiffelthon/wandb/run-20221113_123825-kxrvo6wt</code>"
      ],
      "text/plain": [
       "<IPython.core.display.HTML object>"
      ]
     },
     "metadata": {},
     "output_type": "display_data"
    },
    {
     "data": {
      "text/html": [
       "Syncing run <strong><a href=\"https://wandb.ai/chhyyi/redzone_LSTM_sweep/runs/kxrvo6wt\" target=\"_blank\">generous-sweep-9</a></strong> to <a href=\"https://wandb.ai/chhyyi/redzone_LSTM_sweep\" target=\"_blank\">Weights & Biases</a> (<a href=\"https://wandb.me/run\" target=\"_blank\">docs</a>)<br/>Sweep page:  <a href=\"https://wandb.ai/chhyyi/redzone_LSTM_sweep/sweeps/nhh58kej\" target=\"_blank\">https://wandb.ai/chhyyi/redzone_LSTM_sweep/sweeps/nhh58kej</a>"
      ],
      "text/plain": [
       "<IPython.core.display.HTML object>"
      ]
     },
     "metadata": {},
     "output_type": "display_data"
    },
    {
     "name": "stdout",
     "output_type": "stream",
     "text": [
      "loaded dataset. Generating sequences\n",
      "Any missing values exist: False\n",
      "train dataset columns: Index(['풍속(m/s)', '풍향(deg)', '기온(°C)', '수온(°C)', '강수량(mm)', '풍속(m/s).1',\n",
      "       '풍향(deg).1', '기온(°C).1', '수온(°C).1', '강수량(mm).1', '풍속(m/s).2',\n",
      "       '풍향(deg).2', '기온(°C).2', '수온(°C).2', '강수량(mm).2', '풍속(m/s).3',\n",
      "       '풍향(deg).3', '기온(°C).3', '수온(°C).3', '강수량(mm).3', '풍속(m/s).4',\n",
      "       '풍향(deg).4', '기온(°C).4', '수온(°C).4', '강수량(mm).4', '적조발생'],\n",
      "      dtype='object')\n",
      "20106 25133\n",
      "(20106, 8, 25) (5027, 8, 25) (20106, 8) (5027, 8) \n",
      "\n",
      "\n",
      "Epoch 1/8\n",
      "315/315 [==============================] - 3s 5ms/step - loss: 0.2248 - val_loss: 0.2325\n"
     ]
    },
    {
     "name": "stderr",
     "output_type": "stream",
     "text": [
      "WARNING:absl:Found untraced functions such as lstm_cell_layer_call_and_return_conditional_losses, lstm_cell_layer_call_fn, lstm_cell_layer_call_fn, lstm_cell_layer_call_and_return_conditional_losses, lstm_cell_layer_call_and_return_conditional_losses while saving (showing 5 of 5). These functions will not be directly callable after loading.\n"
     ]
    },
    {
     "name": "stdout",
     "output_type": "stream",
     "text": [
      "INFO:tensorflow:Assets written to: /aiffel/aiffel/aiffelthon/wandb/run-20221113_123825-kxrvo6wt/files/model-best/assets\n"
     ]
    },
    {
     "name": "stderr",
     "output_type": "stream",
     "text": [
      "INFO:tensorflow:Assets written to: /aiffel/aiffel/aiffelthon/wandb/run-20221113_123825-kxrvo6wt/files/model-best/assets\n",
      "\u001b[34m\u001b[1mwandb\u001b[0m: Adding directory to artifact (/aiffel/aiffel/aiffelthon/wandb/run-20221113_123825-kxrvo6wt/files/model-best)... Done. 0.1s\n"
     ]
    },
    {
     "name": "stdout",
     "output_type": "stream",
     "text": [
      "sequence accuracy is 0.8947931171672966\n",
      "Epoch 2/8\n",
      "315/315 [==============================] - 1s 4ms/step - loss: 0.1087 - val_loss: 0.2069\n"
     ]
    },
    {
     "name": "stderr",
     "output_type": "stream",
     "text": [
      "WARNING:absl:Found untraced functions such as lstm_cell_layer_call_and_return_conditional_losses, lstm_cell_layer_call_fn, lstm_cell_layer_call_fn, lstm_cell_layer_call_and_return_conditional_losses, lstm_cell_layer_call_and_return_conditional_losses while saving (showing 5 of 5). These functions will not be directly callable after loading.\n"
     ]
    },
    {
     "name": "stdout",
     "output_type": "stream",
     "text": [
      "INFO:tensorflow:Assets written to: /aiffel/aiffel/aiffelthon/wandb/run-20221113_123825-kxrvo6wt/files/model-best/assets\n"
     ]
    },
    {
     "name": "stderr",
     "output_type": "stream",
     "text": [
      "INFO:tensorflow:Assets written to: /aiffel/aiffel/aiffelthon/wandb/run-20221113_123825-kxrvo6wt/files/model-best/assets\n",
      "\u001b[34m\u001b[1mwandb\u001b[0m: Adding directory to artifact (/aiffel/aiffel/aiffelthon/wandb/run-20221113_123825-kxrvo6wt/files/model-best)... Done. 0.0s\n"
     ]
    },
    {
     "name": "stdout",
     "output_type": "stream",
     "text": [
      "sequence accuracy is 0.8997662621842053\n",
      "Epoch 3/8\n",
      "315/315 [==============================] - 1s 3ms/step - loss: 0.0933 - val_loss: 0.1801\n"
     ]
    },
    {
     "name": "stderr",
     "output_type": "stream",
     "text": [
      "WARNING:absl:Found untraced functions such as lstm_cell_layer_call_and_return_conditional_losses, lstm_cell_layer_call_fn, lstm_cell_layer_call_fn, lstm_cell_layer_call_and_return_conditional_losses, lstm_cell_layer_call_and_return_conditional_losses while saving (showing 5 of 5). These functions will not be directly callable after loading.\n"
     ]
    },
    {
     "name": "stdout",
     "output_type": "stream",
     "text": [
      "INFO:tensorflow:Assets written to: /aiffel/aiffel/aiffelthon/wandb/run-20221113_123825-kxrvo6wt/files/model-best/assets\n"
     ]
    },
    {
     "name": "stderr",
     "output_type": "stream",
     "text": [
      "INFO:tensorflow:Assets written to: /aiffel/aiffel/aiffelthon/wandb/run-20221113_123825-kxrvo6wt/files/model-best/assets\n",
      "\u001b[34m\u001b[1mwandb\u001b[0m: Adding directory to artifact (/aiffel/aiffel/aiffelthon/wandb/run-20221113_123825-kxrvo6wt/files/model-best)... Done. 0.0s\n"
     ]
    },
    {
     "name": "stdout",
     "output_type": "stream",
     "text": [
      "sequence accuracy is 0.9009598169882633\n",
      "Epoch 4/8\n",
      "315/315 [==============================] - 1s 3ms/step - loss: 0.0804 - val_loss: 0.1667\n"
     ]
    },
    {
     "name": "stderr",
     "output_type": "stream",
     "text": [
      "WARNING:absl:Found untraced functions such as lstm_cell_layer_call_and_return_conditional_losses, lstm_cell_layer_call_fn, lstm_cell_layer_call_fn, lstm_cell_layer_call_and_return_conditional_losses, lstm_cell_layer_call_and_return_conditional_losses while saving (showing 5 of 5). These functions will not be directly callable after loading.\n"
     ]
    },
    {
     "name": "stdout",
     "output_type": "stream",
     "text": [
      "INFO:tensorflow:Assets written to: /aiffel/aiffel/aiffelthon/wandb/run-20221113_123825-kxrvo6wt/files/model-best/assets\n"
     ]
    },
    {
     "name": "stderr",
     "output_type": "stream",
     "text": [
      "INFO:tensorflow:Assets written to: /aiffel/aiffel/aiffelthon/wandb/run-20221113_123825-kxrvo6wt/files/model-best/assets\n",
      "\u001b[34m\u001b[1mwandb\u001b[0m: Adding directory to artifact (/aiffel/aiffel/aiffelthon/wandb/run-20221113_123825-kxrvo6wt/files/model-best)... Done. 0.0s\n"
     ]
    },
    {
     "name": "stdout",
     "output_type": "stream",
     "text": [
      "sequence accuracy is 0.9165257608911875\n",
      "Epoch 5/8\n",
      "315/315 [==============================] - 1s 4ms/step - loss: 0.0663 - val_loss: 0.1711\n",
      "sequence accuracy is 0.9323403620449572\n",
      "Epoch 6/8\n",
      "315/315 [==============================] - 1s 4ms/step - loss: 0.0582 - val_loss: 0.1776\n",
      "sequence accuracy is 0.928436443206684\n",
      "Epoch 7/8\n",
      "315/315 [==============================] - 1s 3ms/step - loss: 0.0516 - val_loss: 0.1883\n",
      "sequence accuracy is 0.9222946091108016\n",
      "Epoch 8/8\n",
      "315/315 [==============================] - 1s 3ms/step - loss: 0.0438 - val_loss: 0.2072\n",
      "sequence accuracy is 0.9098120151183609\n"
     ]
    },
    {
     "data": {
      "text/html": [
       "Waiting for W&B process to finish... <strong style=\"color:green\">(success).</strong>"
      ],
      "text/plain": [
       "<IPython.core.display.HTML object>"
      ]
     },
     "metadata": {},
     "output_type": "display_data"
    },
    {
     "data": {
      "application/vnd.jupyter.widget-view+json": {
       "model_id": "9b58313e57dd410e94ea778af74fe432",
       "version_major": 2,
       "version_minor": 0
      },
      "text/plain": [
       "VBox(children=(Label(value='3.645 MB of 3.645 MB uploaded (0.008 MB deduped)\\r'), FloatProgress(value=1.0, max…"
      ]
     },
     "metadata": {},
     "output_type": "display_data"
    },
    {
     "data": {
      "text/html": [
       "<style>\n",
       "    table.wandb td:nth-child(1) { padding: 0 10px; text-align: left ; width: auto;} td:nth-child(2) {text-align: left ; width: 100%}\n",
       "    .wandb-row { display: flex; flex-direction: row; flex-wrap: wrap; justify-content: flex-start; width: 100% }\n",
       "    .wandb-col { display: flex; flex-direction: column; flex-basis: 100%; flex: 1; padding: 10px; }\n",
       "    </style>\n",
       "<div class=\"wandb-row\"><div class=\"wandb-col\"><h3>Run history:</h3><br/><table class=\"wandb\"><tr><td>Validation Acc :</td><td>▁</td></tr><tr><td>epoch</td><td>▁▂▃▄▅▆▇█</td></tr><tr><td>loss</td><td>█▄▃▂▂▂▁▁</td></tr><tr><td>val_loss</td><td>█▅▂▁▁▂▃▅</td></tr></table><br/></div><div class=\"wandb-col\"><h3>Run summary:</h3><br/><table class=\"wandb\"><tr><td>Validation Acc :</td><td>0.90981</td></tr><tr><td>best_epoch</td><td>3</td></tr><tr><td>best_val_loss</td><td>0.16669</td></tr><tr><td>epoch</td><td>7</td></tr><tr><td>loss</td><td>0.04381</td></tr><tr><td>val_loss</td><td>0.20718</td></tr></table><br/></div></div>"
      ],
      "text/plain": [
       "<IPython.core.display.HTML object>"
      ]
     },
     "metadata": {},
     "output_type": "display_data"
    },
    {
     "data": {
      "text/html": [
       "Synced <strong style=\"color:#cdcd00\">generous-sweep-9</strong>: <a href=\"https://wandb.ai/chhyyi/redzone_LSTM_sweep/runs/kxrvo6wt\" target=\"_blank\">https://wandb.ai/chhyyi/redzone_LSTM_sweep/runs/kxrvo6wt</a><br/>Synced 5 W&B file(s), 1 media file(s), 13 artifact file(s) and 1 other file(s)"
      ],
      "text/plain": [
       "<IPython.core.display.HTML object>"
      ]
     },
     "metadata": {},
     "output_type": "display_data"
    },
    {
     "data": {
      "text/html": [
       "Find logs at: <code>./wandb/run-20221113_123825-kxrvo6wt/logs</code>"
      ],
      "text/plain": [
       "<IPython.core.display.HTML object>"
      ]
     },
     "metadata": {},
     "output_type": "display_data"
    },
    {
     "name": "stderr",
     "output_type": "stream",
     "text": [
      "\u001b[34m\u001b[1mwandb\u001b[0m: Agent Starting Run: kp0w309n with config:\n",
      "\u001b[34m\u001b[1mwandb\u001b[0m: \tepochs: 2\n",
      "\u001b[34m\u001b[1mwandb\u001b[0m: \tlearning_rate: 0.01\n",
      "\u001b[34m\u001b[1mwandb\u001b[0m: \tsplit_train_ratio: 0.8\n",
      "\u001b[34m\u001b[1mwandb\u001b[0m: \tstride_inside_seq: 3\n",
      "\u001b[34m\u001b[1mwandb\u001b[0m: \tunit_LSTM0: 32\n"
     ]
    },
    {
     "data": {
      "text/html": [
       "Tracking run with wandb version 0.13.5"
      ],
      "text/plain": [
       "<IPython.core.display.HTML object>"
      ]
     },
     "metadata": {},
     "output_type": "display_data"
    },
    {
     "data": {
      "text/html": [
       "Run data is saved locally in <code>/aiffel/aiffel/aiffelthon/wandb/run-20221113_123955-kp0w309n</code>"
      ],
      "text/plain": [
       "<IPython.core.display.HTML object>"
      ]
     },
     "metadata": {},
     "output_type": "display_data"
    },
    {
     "data": {
      "text/html": [
       "Syncing run <strong><a href=\"https://wandb.ai/chhyyi/redzone_LSTM_sweep/runs/kp0w309n\" target=\"_blank\">fresh-sweep-10</a></strong> to <a href=\"https://wandb.ai/chhyyi/redzone_LSTM_sweep\" target=\"_blank\">Weights & Biases</a> (<a href=\"https://wandb.me/run\" target=\"_blank\">docs</a>)<br/>Sweep page:  <a href=\"https://wandb.ai/chhyyi/redzone_LSTM_sweep/sweeps/nhh58kej\" target=\"_blank\">https://wandb.ai/chhyyi/redzone_LSTM_sweep/sweeps/nhh58kej</a>"
      ],
      "text/plain": [
       "<IPython.core.display.HTML object>"
      ]
     },
     "metadata": {},
     "output_type": "display_data"
    },
    {
     "name": "stdout",
     "output_type": "stream",
     "text": [
      "loaded dataset. Generating sequences\n",
      "Any missing values exist: False\n",
      "train dataset columns: Index(['풍속(m/s)', '풍향(deg)', '기온(°C)', '수온(°C)', '강수량(mm)', '풍속(m/s).1',\n",
      "       '풍향(deg).1', '기온(°C).1', '수온(°C).1', '강수량(mm).1', '풍속(m/s).2',\n",
      "       '풍향(deg).2', '기온(°C).2', '수온(°C).2', '강수량(mm).2', '풍속(m/s).3',\n",
      "       '풍향(deg).3', '기온(°C).3', '수온(°C).3', '강수량(mm).3', '풍속(m/s).4',\n",
      "       '풍향(deg).4', '기온(°C).4', '수온(°C).4', '강수량(mm).4', '적조발생'],\n",
      "      dtype='object')\n",
      "20106 25133\n",
      "(20106, 24, 25) (5027, 24, 25) (20106, 24) (5027, 24) \n",
      "\n",
      "\n",
      "Epoch 1/2\n",
      "315/315 [==============================] - 3s 5ms/step - loss: 0.1634 - val_loss: 0.2126\n"
     ]
    },
    {
     "name": "stderr",
     "output_type": "stream",
     "text": [
      "WARNING:absl:Found untraced functions such as lstm_cell_layer_call_and_return_conditional_losses, lstm_cell_layer_call_fn, lstm_cell_layer_call_fn, lstm_cell_layer_call_and_return_conditional_losses, lstm_cell_layer_call_and_return_conditional_losses while saving (showing 5 of 5). These functions will not be directly callable after loading.\n"
     ]
    },
    {
     "name": "stdout",
     "output_type": "stream",
     "text": [
      "INFO:tensorflow:Assets written to: /aiffel/aiffel/aiffelthon/wandb/run-20221113_123955-kp0w309n/files/model-best/assets\n"
     ]
    },
    {
     "name": "stderr",
     "output_type": "stream",
     "text": [
      "INFO:tensorflow:Assets written to: /aiffel/aiffel/aiffelthon/wandb/run-20221113_123955-kp0w309n/files/model-best/assets\n",
      "\u001b[34m\u001b[1mwandb\u001b[0m: Adding directory to artifact (/aiffel/aiffel/aiffelthon/wandb/run-20221113_123955-kp0w309n/files/model-best)... Done. 0.0s\n"
     ]
    },
    {
     "name": "stdout",
     "output_type": "stream",
     "text": [
      "sequence accuracy is 0.8934337908626749\n",
      "Epoch 2/2\n",
      "315/315 [==============================] - 1s 4ms/step - loss: 0.0907 - val_loss: 0.2270\n",
      "sequence accuracy is 0.8957463032955374\n"
     ]
    },
    {
     "data": {
      "text/html": [
       "Waiting for W&B process to finish... <strong style=\"color:green\">(success).</strong>"
      ],
      "text/plain": [
       "<IPython.core.display.HTML object>"
      ]
     },
     "metadata": {},
     "output_type": "display_data"
    },
    {
     "data": {
      "text/html": [
       "<style>\n",
       "    table.wandb td:nth-child(1) { padding: 0 10px; text-align: left ; width: auto;} td:nth-child(2) {text-align: left ; width: 100%}\n",
       "    .wandb-row { display: flex; flex-direction: row; flex-wrap: wrap; justify-content: flex-start; width: 100% }\n",
       "    .wandb-col { display: flex; flex-direction: column; flex-basis: 100%; flex: 1; padding: 10px; }\n",
       "    </style>\n",
       "<div class=\"wandb-row\"><div class=\"wandb-col\"><h3>Run history:</h3><br/><table class=\"wandb\"><tr><td>Validation Acc :</td><td>▁</td></tr><tr><td>epoch</td><td>▁█</td></tr><tr><td>loss</td><td>█▁</td></tr><tr><td>val_loss</td><td>▁█</td></tr></table><br/></div><div class=\"wandb-col\"><h3>Run summary:</h3><br/><table class=\"wandb\"><tr><td>Validation Acc :</td><td>0.89575</td></tr><tr><td>best_epoch</td><td>0</td></tr><tr><td>best_val_loss</td><td>0.2126</td></tr><tr><td>epoch</td><td>1</td></tr><tr><td>loss</td><td>0.09068</td></tr><tr><td>val_loss</td><td>0.22705</td></tr></table><br/></div></div>"
      ],
      "text/plain": [
       "<IPython.core.display.HTML object>"
      ]
     },
     "metadata": {},
     "output_type": "display_data"
    },
    {
     "data": {
      "text/html": [
       "Synced <strong style=\"color:#cdcd00\">fresh-sweep-10</strong>: <a href=\"https://wandb.ai/chhyyi/redzone_LSTM_sweep/runs/kp0w309n\" target=\"_blank\">https://wandb.ai/chhyyi/redzone_LSTM_sweep/runs/kp0w309n</a><br/>Synced 5 W&B file(s), 1 media file(s), 4 artifact file(s) and 1 other file(s)"
      ],
      "text/plain": [
       "<IPython.core.display.HTML object>"
      ]
     },
     "metadata": {},
     "output_type": "display_data"
    },
    {
     "data": {
      "text/html": [
       "Find logs at: <code>./wandb/run-20221113_123955-kp0w309n/logs</code>"
      ],
      "text/plain": [
       "<IPython.core.display.HTML object>"
      ]
     },
     "metadata": {},
     "output_type": "display_data"
    },
    {
     "name": "stderr",
     "output_type": "stream",
     "text": [
      "\u001b[34m\u001b[1mwandb\u001b[0m: Sweep Agent: Waiting for job.\n",
      "\u001b[34m\u001b[1mwandb\u001b[0m: Job received.\n",
      "\u001b[34m\u001b[1mwandb\u001b[0m: Agent Starting Run: r9612kwr with config:\n",
      "\u001b[34m\u001b[1mwandb\u001b[0m: \tepochs: 3\n",
      "\u001b[34m\u001b[1mwandb\u001b[0m: \tlearning_rate: 0.01\n",
      "\u001b[34m\u001b[1mwandb\u001b[0m: \tsplit_train_ratio: 0.8\n",
      "\u001b[34m\u001b[1mwandb\u001b[0m: \tstride_inside_seq: 1\n",
      "\u001b[34m\u001b[1mwandb\u001b[0m: \tunit_LSTM0: 256\n"
     ]
    },
    {
     "data": {
      "text/html": [
       "Tracking run with wandb version 0.13.5"
      ],
      "text/plain": [
       "<IPython.core.display.HTML object>"
      ]
     },
     "metadata": {},
     "output_type": "display_data"
    },
    {
     "data": {
      "text/html": [
       "Run data is saved locally in <code>/aiffel/aiffel/aiffelthon/wandb/run-20221113_124110-r9612kwr</code>"
      ],
      "text/plain": [
       "<IPython.core.display.HTML object>"
      ]
     },
     "metadata": {},
     "output_type": "display_data"
    },
    {
     "data": {
      "text/html": [
       "Syncing run <strong><a href=\"https://wandb.ai/chhyyi/redzone_LSTM_sweep/runs/r9612kwr\" target=\"_blank\">fine-sweep-11</a></strong> to <a href=\"https://wandb.ai/chhyyi/redzone_LSTM_sweep\" target=\"_blank\">Weights & Biases</a> (<a href=\"https://wandb.me/run\" target=\"_blank\">docs</a>)<br/>Sweep page:  <a href=\"https://wandb.ai/chhyyi/redzone_LSTM_sweep/sweeps/nhh58kej\" target=\"_blank\">https://wandb.ai/chhyyi/redzone_LSTM_sweep/sweeps/nhh58kej</a>"
      ],
      "text/plain": [
       "<IPython.core.display.HTML object>"
      ]
     },
     "metadata": {},
     "output_type": "display_data"
    },
    {
     "name": "stdout",
     "output_type": "stream",
     "text": [
      "loaded dataset. Generating sequences\n",
      "Any missing values exist: False\n",
      "train dataset columns: Index(['풍속(m/s)', '풍향(deg)', '기온(°C)', '수온(°C)', '강수량(mm)', '풍속(m/s).1',\n",
      "       '풍향(deg).1', '기온(°C).1', '수온(°C).1', '강수량(mm).1', '풍속(m/s).2',\n",
      "       '풍향(deg).2', '기온(°C).2', '수온(°C).2', '강수량(mm).2', '풍속(m/s).3',\n",
      "       '풍향(deg).3', '기온(°C).3', '수온(°C).3', '강수량(mm).3', '풍속(m/s).4',\n",
      "       '풍향(deg).4', '기온(°C).4', '수온(°C).4', '강수량(mm).4', '적조발생'],\n",
      "      dtype='object')\n",
      "20106 25133\n",
      "(20106, 72, 25) (5027, 72, 25) (20106, 72) (5027, 72) \n",
      "\n",
      "\n",
      "Epoch 1/3\n",
      "315/315 [==============================] - 4s 9ms/step - loss: 0.1709 - val_loss: 0.2204\n"
     ]
    },
    {
     "name": "stderr",
     "output_type": "stream",
     "text": [
      "WARNING:absl:Found untraced functions such as lstm_cell_layer_call_and_return_conditional_losses, lstm_cell_layer_call_fn, lstm_cell_layer_call_fn, lstm_cell_layer_call_and_return_conditional_losses, lstm_cell_layer_call_and_return_conditional_losses while saving (showing 5 of 5). These functions will not be directly callable after loading.\n"
     ]
    },
    {
     "name": "stdout",
     "output_type": "stream",
     "text": [
      "INFO:tensorflow:Assets written to: /aiffel/aiffel/aiffelthon/wandb/run-20221113_124110-r9612kwr/files/model-best/assets\n"
     ]
    },
    {
     "name": "stderr",
     "output_type": "stream",
     "text": [
      "INFO:tensorflow:Assets written to: /aiffel/aiffel/aiffelthon/wandb/run-20221113_124110-r9612kwr/files/model-best/assets\n",
      "\u001b[34m\u001b[1mwandb\u001b[0m: Adding directory to artifact (/aiffel/aiffel/aiffelthon/wandb/run-20221113_124110-r9612kwr/files/model-best)... Done. 0.0s\n"
     ]
    },
    {
     "name": "stdout",
     "output_type": "stream",
     "text": [
      "sequence accuracy is 0.9092235262913599\n",
      "Epoch 2/3\n",
      "315/315 [==============================] - 2s 8ms/step - loss: 0.1369 - val_loss: 0.2164\n"
     ]
    },
    {
     "name": "stderr",
     "output_type": "stream",
     "text": [
      "WARNING:absl:Found untraced functions such as lstm_cell_layer_call_and_return_conditional_losses, lstm_cell_layer_call_fn, lstm_cell_layer_call_fn, lstm_cell_layer_call_and_return_conditional_losses, lstm_cell_layer_call_and_return_conditional_losses while saving (showing 5 of 5). These functions will not be directly callable after loading.\n"
     ]
    },
    {
     "name": "stdout",
     "output_type": "stream",
     "text": [
      "INFO:tensorflow:Assets written to: /aiffel/aiffel/aiffelthon/wandb/run-20221113_124110-r9612kwr/files/model-best/assets\n"
     ]
    },
    {
     "name": "stderr",
     "output_type": "stream",
     "text": [
      "INFO:tensorflow:Assets written to: /aiffel/aiffel/aiffelthon/wandb/run-20221113_124110-r9612kwr/files/model-best/assets\n",
      "\u001b[34m\u001b[1mwandb\u001b[0m: Adding directory to artifact (/aiffel/aiffel/aiffelthon/wandb/run-20221113_124110-r9612kwr/files/model-best)... Done. 0.0s\n"
     ]
    },
    {
     "name": "stdout",
     "output_type": "stream",
     "text": [
      "sequence accuracy is 0.9088560661317773\n",
      "Epoch 3/3\n",
      "315/315 [==============================] - 2s 7ms/step - loss: 0.1301 - val_loss: 0.2183\n",
      "sequence accuracy is 0.8983295758459873\n"
     ]
    },
    {
     "data": {
      "text/html": [
       "Waiting for W&B process to finish... <strong style=\"color:green\">(success).</strong>"
      ],
      "text/plain": [
       "<IPython.core.display.HTML object>"
      ]
     },
     "metadata": {},
     "output_type": "display_data"
    },
    {
     "data": {
      "text/html": [
       "<style>\n",
       "    table.wandb td:nth-child(1) { padding: 0 10px; text-align: left ; width: auto;} td:nth-child(2) {text-align: left ; width: 100%}\n",
       "    .wandb-row { display: flex; flex-direction: row; flex-wrap: wrap; justify-content: flex-start; width: 100% }\n",
       "    .wandb-col { display: flex; flex-direction: column; flex-basis: 100%; flex: 1; padding: 10px; }\n",
       "    </style>\n",
       "<div class=\"wandb-row\"><div class=\"wandb-col\"><h3>Run history:</h3><br/><table class=\"wandb\"><tr><td>Validation Acc :</td><td>▁</td></tr><tr><td>epoch</td><td>▁▅█</td></tr><tr><td>loss</td><td>█▂▁</td></tr><tr><td>val_loss</td><td>█▁▄</td></tr></table><br/></div><div class=\"wandb-col\"><h3>Run summary:</h3><br/><table class=\"wandb\"><tr><td>Validation Acc :</td><td>0.89833</td></tr><tr><td>best_epoch</td><td>1</td></tr><tr><td>best_val_loss</td><td>0.21641</td></tr><tr><td>epoch</td><td>2</td></tr><tr><td>loss</td><td>0.13014</td></tr><tr><td>val_loss</td><td>0.21833</td></tr></table><br/></div></div>"
      ],
      "text/plain": [
       "<IPython.core.display.HTML object>"
      ]
     },
     "metadata": {},
     "output_type": "display_data"
    },
    {
     "data": {
      "text/html": [
       "Synced <strong style=\"color:#cdcd00\">fine-sweep-11</strong>: <a href=\"https://wandb.ai/chhyyi/redzone_LSTM_sweep/runs/r9612kwr\" target=\"_blank\">https://wandb.ai/chhyyi/redzone_LSTM_sweep/runs/r9612kwr</a><br/>Synced 5 W&B file(s), 1 media file(s), 7 artifact file(s) and 1 other file(s)"
      ],
      "text/plain": [
       "<IPython.core.display.HTML object>"
      ]
     },
     "metadata": {},
     "output_type": "display_data"
    },
    {
     "data": {
      "text/html": [
       "Find logs at: <code>./wandb/run-20221113_124110-r9612kwr/logs</code>"
      ],
      "text/plain": [
       "<IPython.core.display.HTML object>"
      ]
     },
     "metadata": {},
     "output_type": "display_data"
    },
    {
     "name": "stderr",
     "output_type": "stream",
     "text": [
      "\u001b[34m\u001b[1mwandb\u001b[0m: Sweep Agent: Waiting for job.\n",
      "\u001b[34m\u001b[1mwandb\u001b[0m: Job received.\n",
      "\u001b[34m\u001b[1mwandb\u001b[0m: Agent Starting Run: 436w2qkw with config:\n",
      "\u001b[34m\u001b[1mwandb\u001b[0m: \tepochs: 4\n",
      "\u001b[34m\u001b[1mwandb\u001b[0m: \tlearning_rate: 0.0002\n",
      "\u001b[34m\u001b[1mwandb\u001b[0m: \tsplit_train_ratio: 0.5\n",
      "\u001b[34m\u001b[1mwandb\u001b[0m: \tstride_inside_seq: 1\n",
      "\u001b[34m\u001b[1mwandb\u001b[0m: \tunit_LSTM0: 256\n"
     ]
    },
    {
     "data": {
      "text/html": [
       "Tracking run with wandb version 0.13.5"
      ],
      "text/plain": [
       "<IPython.core.display.HTML object>"
      ]
     },
     "metadata": {},
     "output_type": "display_data"
    },
    {
     "data": {
      "text/html": [
       "Run data is saved locally in <code>/aiffel/aiffel/aiffelthon/wandb/run-20221113_124350-436w2qkw</code>"
      ],
      "text/plain": [
       "<IPython.core.display.HTML object>"
      ]
     },
     "metadata": {},
     "output_type": "display_data"
    },
    {
     "data": {
      "text/html": [
       "Syncing run <strong><a href=\"https://wandb.ai/chhyyi/redzone_LSTM_sweep/runs/436w2qkw\" target=\"_blank\">distinctive-sweep-12</a></strong> to <a href=\"https://wandb.ai/chhyyi/redzone_LSTM_sweep\" target=\"_blank\">Weights & Biases</a> (<a href=\"https://wandb.me/run\" target=\"_blank\">docs</a>)<br/>Sweep page:  <a href=\"https://wandb.ai/chhyyi/redzone_LSTM_sweep/sweeps/nhh58kej\" target=\"_blank\">https://wandb.ai/chhyyi/redzone_LSTM_sweep/sweeps/nhh58kej</a>"
      ],
      "text/plain": [
       "<IPython.core.display.HTML object>"
      ]
     },
     "metadata": {},
     "output_type": "display_data"
    },
    {
     "name": "stdout",
     "output_type": "stream",
     "text": [
      "loaded dataset. Generating sequences\n",
      "Any missing values exist: False\n",
      "train dataset columns: Index(['풍속(m/s)', '풍향(deg)', '기온(°C)', '수온(°C)', '강수량(mm)', '풍속(m/s).1',\n",
      "       '풍향(deg).1', '기온(°C).1', '수온(°C).1', '강수량(mm).1', '풍속(m/s).2',\n",
      "       '풍향(deg).2', '기온(°C).2', '수온(°C).2', '강수량(mm).2', '풍속(m/s).3',\n",
      "       '풍향(deg).3', '기온(°C).3', '수온(°C).3', '강수량(mm).3', '풍속(m/s).4',\n",
      "       '풍향(deg).4', '기온(°C).4', '수온(°C).4', '강수량(mm).4', '적조발생'],\n",
      "      dtype='object')\n",
      "12566 25133\n",
      "(12566, 72, 25) (12567, 72, 25) (12566, 72) (12567, 72) \n",
      "\n",
      "\n",
      "Epoch 1/4\n",
      "197/197 [==============================] - 5s 14ms/step - loss: 0.2323 - val_loss: 0.2947\n"
     ]
    },
    {
     "name": "stderr",
     "output_type": "stream",
     "text": [
      "WARNING:absl:Found untraced functions such as lstm_cell_layer_call_and_return_conditional_losses, lstm_cell_layer_call_fn, lstm_cell_layer_call_fn, lstm_cell_layer_call_and_return_conditional_losses, lstm_cell_layer_call_and_return_conditional_losses while saving (showing 5 of 5). These functions will not be directly callable after loading.\n"
     ]
    },
    {
     "name": "stdout",
     "output_type": "stream",
     "text": [
      "INFO:tensorflow:Assets written to: /aiffel/aiffel/aiffelthon/wandb/run-20221113_124350-436w2qkw/files/model-best/assets\n"
     ]
    },
    {
     "name": "stderr",
     "output_type": "stream",
     "text": [
      "INFO:tensorflow:Assets written to: /aiffel/aiffel/aiffelthon/wandb/run-20221113_124350-436w2qkw/files/model-best/assets\n",
      "\u001b[34m\u001b[1mwandb\u001b[0m: Adding directory to artifact (/aiffel/aiffel/aiffelthon/wandb/run-20221113_124350-436w2qkw/files/model-best)... Done. 0.0s\n"
     ]
    },
    {
     "name": "stdout",
     "output_type": "stream",
     "text": [
      "sequence accuracy is 0.9255899489845539\n",
      "Epoch 2/4\n",
      "197/197 [==============================] - 2s 10ms/step - loss: 0.1179 - val_loss: 0.3332\n",
      "sequence accuracy is 0.9240393711926297\n",
      "Epoch 3/4\n",
      "197/197 [==============================] - 2s 11ms/step - loss: 0.0981 - val_loss: 0.3400\n",
      "sequence accuracy is 0.9246162789669593\n",
      "Epoch 4/4\n",
      "197/197 [==============================] - 2s 11ms/step - loss: 0.1014 - val_loss: 0.3369\n",
      "sequence accuracy is 0.9251611363093817\n"
     ]
    },
    {
     "data": {
      "text/html": [
       "Waiting for W&B process to finish... <strong style=\"color:green\">(success).</strong>"
      ],
      "text/plain": [
       "<IPython.core.display.HTML object>"
      ]
     },
     "metadata": {},
     "output_type": "display_data"
    },
    {
     "data": {
      "text/html": [
       "<style>\n",
       "    table.wandb td:nth-child(1) { padding: 0 10px; text-align: left ; width: auto;} td:nth-child(2) {text-align: left ; width: 100%}\n",
       "    .wandb-row { display: flex; flex-direction: row; flex-wrap: wrap; justify-content: flex-start; width: 100% }\n",
       "    .wandb-col { display: flex; flex-direction: column; flex-basis: 100%; flex: 1; padding: 10px; }\n",
       "    </style>\n",
       "<div class=\"wandb-row\"><div class=\"wandb-col\"><h3>Run history:</h3><br/><table class=\"wandb\"><tr><td>Validation Acc :</td><td>▁</td></tr><tr><td>epoch</td><td>▁▃▆█</td></tr><tr><td>loss</td><td>█▂▁▁</td></tr><tr><td>val_loss</td><td>▁▇██</td></tr></table><br/></div><div class=\"wandb-col\"><h3>Run summary:</h3><br/><table class=\"wandb\"><tr><td>Validation Acc :</td><td>0.92516</td></tr><tr><td>best_epoch</td><td>0</td></tr><tr><td>best_val_loss</td><td>0.29467</td></tr><tr><td>epoch</td><td>3</td></tr><tr><td>loss</td><td>0.10145</td></tr><tr><td>val_loss</td><td>0.33691</td></tr></table><br/></div></div>"
      ],
      "text/plain": [
       "<IPython.core.display.HTML object>"
      ]
     },
     "metadata": {},
     "output_type": "display_data"
    },
    {
     "data": {
      "text/html": [
       "Synced <strong style=\"color:#cdcd00\">distinctive-sweep-12</strong>: <a href=\"https://wandb.ai/chhyyi/redzone_LSTM_sweep/runs/436w2qkw\" target=\"_blank\">https://wandb.ai/chhyyi/redzone_LSTM_sweep/runs/436w2qkw</a><br/>Synced 5 W&B file(s), 1 media file(s), 4 artifact file(s) and 1 other file(s)"
      ],
      "text/plain": [
       "<IPython.core.display.HTML object>"
      ]
     },
     "metadata": {},
     "output_type": "display_data"
    },
    {
     "data": {
      "text/html": [
       "Find logs at: <code>./wandb/run-20221113_124350-436w2qkw/logs</code>"
      ],
      "text/plain": [
       "<IPython.core.display.HTML object>"
      ]
     },
     "metadata": {},
     "output_type": "display_data"
    },
    {
     "name": "stderr",
     "output_type": "stream",
     "text": [
      "\u001b[34m\u001b[1mwandb\u001b[0m: Sweep Agent: Waiting for job.\n",
      "\u001b[34m\u001b[1mwandb\u001b[0m: Job received.\n",
      "\u001b[34m\u001b[1mwandb\u001b[0m: Agent Starting Run: ellmjsbm with config:\n",
      "\u001b[34m\u001b[1mwandb\u001b[0m: \tepochs: 12\n",
      "\u001b[34m\u001b[1mwandb\u001b[0m: \tlearning_rate: 0.0002\n",
      "\u001b[34m\u001b[1mwandb\u001b[0m: \tsplit_train_ratio: 0.5\n",
      "\u001b[34m\u001b[1mwandb\u001b[0m: \tstride_inside_seq: 9\n",
      "\u001b[34m\u001b[1mwandb\u001b[0m: \tunit_LSTM0: 32\n"
     ]
    },
    {
     "data": {
      "application/vnd.jupyter.widget-view+json": {
       "model_id": "741deab289f04d999626f310af0df1ac",
       "version_major": 2,
       "version_minor": 0
      },
      "text/plain": [
       "VBox(children=(Label(value='Waiting for wandb.init()...\\r'), FloatProgress(value=0.016670418649967662, max=1.0…"
      ]
     },
     "metadata": {},
     "output_type": "display_data"
    },
    {
     "data": {
      "text/html": [
       "Tracking run with wandb version 0.13.5"
      ],
      "text/plain": [
       "<IPython.core.display.HTML object>"
      ]
     },
     "metadata": {},
     "output_type": "display_data"
    },
    {
     "data": {
      "text/html": [
       "Run data is saved locally in <code>/aiffel/aiffel/aiffelthon/wandb/run-20221113_124724-ellmjsbm</code>"
      ],
      "text/plain": [
       "<IPython.core.display.HTML object>"
      ]
     },
     "metadata": {},
     "output_type": "display_data"
    },
    {
     "data": {
      "text/html": [
       "Syncing run <strong><a href=\"https://wandb.ai/chhyyi/redzone_LSTM_sweep/runs/ellmjsbm\" target=\"_blank\">morning-sweep-13</a></strong> to <a href=\"https://wandb.ai/chhyyi/redzone_LSTM_sweep\" target=\"_blank\">Weights & Biases</a> (<a href=\"https://wandb.me/run\" target=\"_blank\">docs</a>)<br/>Sweep page:  <a href=\"https://wandb.ai/chhyyi/redzone_LSTM_sweep/sweeps/nhh58kej\" target=\"_blank\">https://wandb.ai/chhyyi/redzone_LSTM_sweep/sweeps/nhh58kej</a>"
      ],
      "text/plain": [
       "<IPython.core.display.HTML object>"
      ]
     },
     "metadata": {},
     "output_type": "display_data"
    },
    {
     "name": "stdout",
     "output_type": "stream",
     "text": [
      "loaded dataset. Generating sequences\n",
      "Any missing values exist: False\n",
      "train dataset columns: Index(['풍속(m/s)', '풍향(deg)', '기온(°C)', '수온(°C)', '강수량(mm)', '풍속(m/s).1',\n",
      "       '풍향(deg).1', '기온(°C).1', '수온(°C).1', '강수량(mm).1', '풍속(m/s).2',\n",
      "       '풍향(deg).2', '기온(°C).2', '수온(°C).2', '강수량(mm).2', '풍속(m/s).3',\n",
      "       '풍향(deg).3', '기온(°C).3', '수온(°C).3', '강수량(mm).3', '풍속(m/s).4',\n",
      "       '풍향(deg).4', '기온(°C).4', '수온(°C).4', '강수량(mm).4', '적조발생'],\n",
      "      dtype='object')\n",
      "12566 25133\n",
      "(12566, 8, 25) (12567, 8, 25) (12566, 8) (12567, 8) \n",
      "\n",
      "\n",
      "Epoch 1/12\n",
      "197/197 [==============================] - 3s 7ms/step - loss: 0.5955 - val_loss: 0.4341\n"
     ]
    },
    {
     "name": "stderr",
     "output_type": "stream",
     "text": [
      "WARNING:absl:Found untraced functions such as lstm_cell_layer_call_and_return_conditional_losses, lstm_cell_layer_call_fn, lstm_cell_layer_call_fn, lstm_cell_layer_call_and_return_conditional_losses, lstm_cell_layer_call_and_return_conditional_losses while saving (showing 5 of 5). These functions will not be directly callable after loading.\n"
     ]
    },
    {
     "name": "stdout",
     "output_type": "stream",
     "text": [
      "INFO:tensorflow:Assets written to: /aiffel/aiffel/aiffelthon/wandb/run-20221113_124724-ellmjsbm/files/model-best/assets\n"
     ]
    },
    {
     "name": "stderr",
     "output_type": "stream",
     "text": [
      "INFO:tensorflow:Assets written to: /aiffel/aiffel/aiffelthon/wandb/run-20221113_124724-ellmjsbm/files/model-best/assets\n",
      "\u001b[34m\u001b[1mwandb\u001b[0m: Adding directory to artifact (/aiffel/aiffel/aiffelthon/wandb/run-20221113_124724-ellmjsbm/files/model-best)... Done. 0.0s\n"
     ]
    },
    {
     "name": "stdout",
     "output_type": "stream",
     "text": [
      "sequence accuracy is 0.9074759290204504\n",
      "Epoch 2/12\n",
      "197/197 [==============================] - 1s 5ms/step - loss: 0.2790 - val_loss: 0.2504\n"
     ]
    },
    {
     "name": "stderr",
     "output_type": "stream",
     "text": [
      "WARNING:absl:Found untraced functions such as lstm_cell_layer_call_and_return_conditional_losses, lstm_cell_layer_call_fn, lstm_cell_layer_call_fn, lstm_cell_layer_call_and_return_conditional_losses, lstm_cell_layer_call_and_return_conditional_losses while saving (showing 5 of 5). These functions will not be directly callable after loading.\n"
     ]
    },
    {
     "name": "stdout",
     "output_type": "stream",
     "text": [
      "INFO:tensorflow:Assets written to: /aiffel/aiffel/aiffelthon/wandb/run-20221113_124724-ellmjsbm/files/model-best/assets\n"
     ]
    },
    {
     "name": "stderr",
     "output_type": "stream",
     "text": [
      "INFO:tensorflow:Assets written to: /aiffel/aiffel/aiffelthon/wandb/run-20221113_124724-ellmjsbm/files/model-best/assets\n",
      "\u001b[34m\u001b[1mwandb\u001b[0m: Adding directory to artifact (/aiffel/aiffel/aiffelthon/wandb/run-20221113_124724-ellmjsbm/files/model-best)... Done. 0.0s\n"
     ]
    },
    {
     "name": "stdout",
     "output_type": "stream",
     "text": [
      "sequence accuracy is 0.9256385772260682\n",
      "Epoch 3/12\n",
      "197/197 [==============================] - 1s 5ms/step - loss: 0.1565 - val_loss: 0.2403\n"
     ]
    },
    {
     "name": "stderr",
     "output_type": "stream",
     "text": [
      "WARNING:absl:Found untraced functions such as lstm_cell_layer_call_and_return_conditional_losses, lstm_cell_layer_call_fn, lstm_cell_layer_call_fn, lstm_cell_layer_call_and_return_conditional_losses, lstm_cell_layer_call_and_return_conditional_losses while saving (showing 5 of 5). These functions will not be directly callable after loading.\n"
     ]
    },
    {
     "name": "stdout",
     "output_type": "stream",
     "text": [
      "INFO:tensorflow:Assets written to: /aiffel/aiffel/aiffelthon/wandb/run-20221113_124724-ellmjsbm/files/model-best/assets\n"
     ]
    },
    {
     "name": "stderr",
     "output_type": "stream",
     "text": [
      "INFO:tensorflow:Assets written to: /aiffel/aiffel/aiffelthon/wandb/run-20221113_124724-ellmjsbm/files/model-best/assets\n",
      "\u001b[34m\u001b[1mwandb\u001b[0m: Adding directory to artifact (/aiffel/aiffel/aiffelthon/wandb/run-20221113_124724-ellmjsbm/files/model-best)... Done. 0.0s\n"
     ]
    },
    {
     "name": "stdout",
     "output_type": "stream",
     "text": [
      "sequence accuracy is 0.926185644943105\n",
      "Epoch 4/12\n",
      "197/197 [==============================] - 1s 5ms/step - loss: 0.1276 - val_loss: 0.2495\n",
      "sequence accuracy is 0.9261657515715763\n",
      "Epoch 5/12\n",
      "197/197 [==============================] - 1s 5ms/step - loss: 0.1144 - val_loss: 0.2579\n",
      "sequence accuracy is 0.9259170844274688\n",
      "Epoch 6/12\n",
      "197/197 [==============================] - 1s 5ms/step - loss: 0.1052 - val_loss: 0.2689\n",
      "sequence accuracy is 0.9230027054985279\n",
      "Epoch 7/12\n",
      "197/197 [==============================] - 1s 5ms/step - loss: 0.0988 - val_loss: 0.2748\n",
      "sequence accuracy is 0.922386010981141\n",
      "Epoch 8/12\n",
      "197/197 [==============================] - 1s 5ms/step - loss: 0.0926 - val_loss: 0.2814\n",
      "sequence accuracy is 0.9234701997294501\n",
      "Epoch 9/12\n",
      "197/197 [==============================] - 1s 5ms/step - loss: 0.0875 - val_loss: 0.2886\n",
      "sequence accuracy is 0.9205558208005092\n",
      "Epoch 10/12\n",
      "197/197 [==============================] - 1s 5ms/step - loss: 0.0828 - val_loss: 0.2971\n",
      "sequence accuracy is 0.9167959735816026\n",
      "Epoch 11/12\n",
      "197/197 [==============================] - 1s 5ms/step - loss: 0.0782 - val_loss: 0.3050\n",
      "sequence accuracy is 0.915463117689186\n",
      "Epoch 12/12\n",
      "197/197 [==============================] - 1s 5ms/step - loss: 0.0742 - val_loss: 0.3154\n",
      "sequence accuracy is 0.9171341608975889\n"
     ]
    },
    {
     "data": {
      "text/html": [
       "Waiting for W&B process to finish... <strong style=\"color:green\">(success).</strong>"
      ],
      "text/plain": [
       "<IPython.core.display.HTML object>"
      ]
     },
     "metadata": {},
     "output_type": "display_data"
    },
    {
     "data": {
      "text/html": [
       "<style>\n",
       "    table.wandb td:nth-child(1) { padding: 0 10px; text-align: left ; width: auto;} td:nth-child(2) {text-align: left ; width: 100%}\n",
       "    .wandb-row { display: flex; flex-direction: row; flex-wrap: wrap; justify-content: flex-start; width: 100% }\n",
       "    .wandb-col { display: flex; flex-direction: column; flex-basis: 100%; flex: 1; padding: 10px; }\n",
       "    </style>\n",
       "<div class=\"wandb-row\"><div class=\"wandb-col\"><h3>Run history:</h3><br/><table class=\"wandb\"><tr><td>Validation Acc :</td><td>▁</td></tr><tr><td>epoch</td><td>▁▂▂▃▄▄▅▅▆▇▇█</td></tr><tr><td>loss</td><td>█▄▂▂▂▁▁▁▁▁▁▁</td></tr><tr><td>val_loss</td><td>█▁▁▁▂▂▂▂▃▃▃▄</td></tr></table><br/></div><div class=\"wandb-col\"><h3>Run summary:</h3><br/><table class=\"wandb\"><tr><td>Validation Acc :</td><td>0.91713</td></tr><tr><td>best_epoch</td><td>2</td></tr><tr><td>best_val_loss</td><td>0.24028</td></tr><tr><td>epoch</td><td>11</td></tr><tr><td>loss</td><td>0.07419</td></tr><tr><td>val_loss</td><td>0.31538</td></tr></table><br/></div></div>"
      ],
      "text/plain": [
       "<IPython.core.display.HTML object>"
      ]
     },
     "metadata": {},
     "output_type": "display_data"
    },
    {
     "data": {
      "text/html": [
       "Synced <strong style=\"color:#cdcd00\">morning-sweep-13</strong>: <a href=\"https://wandb.ai/chhyyi/redzone_LSTM_sweep/runs/ellmjsbm\" target=\"_blank\">https://wandb.ai/chhyyi/redzone_LSTM_sweep/runs/ellmjsbm</a><br/>Synced 5 W&B file(s), 1 media file(s), 10 artifact file(s) and 1 other file(s)"
      ],
      "text/plain": [
       "<IPython.core.display.HTML object>"
      ]
     },
     "metadata": {},
     "output_type": "display_data"
    },
    {
     "data": {
      "text/html": [
       "Find logs at: <code>./wandb/run-20221113_124724-ellmjsbm/logs</code>"
      ],
      "text/plain": [
       "<IPython.core.display.HTML object>"
      ]
     },
     "metadata": {},
     "output_type": "display_data"
    },
    {
     "name": "stderr",
     "output_type": "stream",
     "text": [
      "\u001b[34m\u001b[1mwandb\u001b[0m: Sweep Agent: Waiting for job.\n",
      "\u001b[34m\u001b[1mwandb\u001b[0m: Job received.\n",
      "\u001b[34m\u001b[1mwandb\u001b[0m: Agent Starting Run: ddswolhz with config:\n",
      "\u001b[34m\u001b[1mwandb\u001b[0m: \tepochs: 4\n",
      "\u001b[34m\u001b[1mwandb\u001b[0m: \tlearning_rate: 0.0002\n",
      "\u001b[34m\u001b[1mwandb\u001b[0m: \tsplit_train_ratio: 0.5\n",
      "\u001b[34m\u001b[1mwandb\u001b[0m: \tstride_inside_seq: 3\n",
      "\u001b[34m\u001b[1mwandb\u001b[0m: \tunit_LSTM0: 64\n"
     ]
    },
    {
     "data": {
      "text/html": [
       "Tracking run with wandb version 0.13.5"
      ],
      "text/plain": [
       "<IPython.core.display.HTML object>"
      ]
     },
     "metadata": {},
     "output_type": "display_data"
    },
    {
     "data": {
      "text/html": [
       "Run data is saved locally in <code>/aiffel/aiffel/aiffelthon/wandb/run-20221113_124908-ddswolhz</code>"
      ],
      "text/plain": [
       "<IPython.core.display.HTML object>"
      ]
     },
     "metadata": {},
     "output_type": "display_data"
    },
    {
     "data": {
      "text/html": [
       "Syncing run <strong><a href=\"https://wandb.ai/chhyyi/redzone_LSTM_sweep/runs/ddswolhz\" target=\"_blank\">dazzling-sweep-14</a></strong> to <a href=\"https://wandb.ai/chhyyi/redzone_LSTM_sweep\" target=\"_blank\">Weights & Biases</a> (<a href=\"https://wandb.me/run\" target=\"_blank\">docs</a>)<br/>Sweep page:  <a href=\"https://wandb.ai/chhyyi/redzone_LSTM_sweep/sweeps/nhh58kej\" target=\"_blank\">https://wandb.ai/chhyyi/redzone_LSTM_sweep/sweeps/nhh58kej</a>"
      ],
      "text/plain": [
       "<IPython.core.display.HTML object>"
      ]
     },
     "metadata": {},
     "output_type": "display_data"
    },
    {
     "name": "stdout",
     "output_type": "stream",
     "text": [
      "loaded dataset. Generating sequences\n",
      "Any missing values exist: False\n",
      "train dataset columns: Index(['풍속(m/s)', '풍향(deg)', '기온(°C)', '수온(°C)', '강수량(mm)', '풍속(m/s).1',\n",
      "       '풍향(deg).1', '기온(°C).1', '수온(°C).1', '강수량(mm).1', '풍속(m/s).2',\n",
      "       '풍향(deg).2', '기온(°C).2', '수온(°C).2', '강수량(mm).2', '풍속(m/s).3',\n",
      "       '풍향(deg).3', '기온(°C).3', '수온(°C).3', '강수량(mm).3', '풍속(m/s).4',\n",
      "       '풍향(deg).4', '기온(°C).4', '수온(°C).4', '강수량(mm).4', '적조발생'],\n",
      "      dtype='object')\n",
      "12566 25133\n",
      "(12566, 24, 25) (12567, 24, 25) (12566, 24) (12567, 24) \n",
      "\n",
      "\n",
      "Epoch 1/4\n",
      "197/197 [==============================] - 3s 8ms/step - loss: 0.4183 - val_loss: 0.2404\n"
     ]
    },
    {
     "name": "stderr",
     "output_type": "stream",
     "text": [
      "WARNING:absl:Found untraced functions such as lstm_cell_layer_call_and_return_conditional_losses, lstm_cell_layer_call_fn, lstm_cell_layer_call_fn, lstm_cell_layer_call_and_return_conditional_losses, lstm_cell_layer_call_and_return_conditional_losses while saving (showing 5 of 5). These functions will not be directly callable after loading.\n"
     ]
    },
    {
     "name": "stdout",
     "output_type": "stream",
     "text": [
      "INFO:tensorflow:Assets written to: /aiffel/aiffel/aiffelthon/wandb/run-20221113_124908-ddswolhz/files/model-best/assets\n"
     ]
    },
    {
     "name": "stderr",
     "output_type": "stream",
     "text": [
      "INFO:tensorflow:Assets written to: /aiffel/aiffel/aiffelthon/wandb/run-20221113_124908-ddswolhz/files/model-best/assets\n",
      "\u001b[34m\u001b[1mwandb\u001b[0m: Adding directory to artifact (/aiffel/aiffel/aiffelthon/wandb/run-20221113_124908-ddswolhz/files/model-best)... Done. 0.0s\n"
     ]
    },
    {
     "name": "stdout",
     "output_type": "stream",
     "text": [
      "sequence accuracy is 0.9262784806769051\n",
      "Epoch 2/4\n",
      "197/197 [==============================] - 1s 6ms/step - loss: 0.1384 - val_loss: 0.2544\n",
      "sequence accuracy is 0.9262519561815337\n",
      "Epoch 3/4\n",
      "197/197 [==============================] - 1s 6ms/step - loss: 0.1061 - val_loss: 0.2782\n",
      "sequence accuracy is 0.9261524893238906\n",
      "Epoch 4/4\n",
      "197/197 [==============================] - 1s 6ms/step - loss: 0.0940 - val_loss: 0.2840\n",
      "sequence accuracy is 0.9259469244847617\n"
     ]
    },
    {
     "data": {
      "text/html": [
       "Waiting for W&B process to finish... <strong style=\"color:green\">(success).</strong>"
      ],
      "text/plain": [
       "<IPython.core.display.HTML object>"
      ]
     },
     "metadata": {},
     "output_type": "display_data"
    },
    {
     "data": {
      "text/html": [
       "<style>\n",
       "    table.wandb td:nth-child(1) { padding: 0 10px; text-align: left ; width: auto;} td:nth-child(2) {text-align: left ; width: 100%}\n",
       "    .wandb-row { display: flex; flex-direction: row; flex-wrap: wrap; justify-content: flex-start; width: 100% }\n",
       "    .wandb-col { display: flex; flex-direction: column; flex-basis: 100%; flex: 1; padding: 10px; }\n",
       "    </style>\n",
       "<div class=\"wandb-row\"><div class=\"wandb-col\"><h3>Run history:</h3><br/><table class=\"wandb\"><tr><td>Validation Acc :</td><td>▁</td></tr><tr><td>epoch</td><td>▁▃▆█</td></tr><tr><td>loss</td><td>█▂▁▁</td></tr><tr><td>val_loss</td><td>▁▃▇█</td></tr></table><br/></div><div class=\"wandb-col\"><h3>Run summary:</h3><br/><table class=\"wandb\"><tr><td>Validation Acc :</td><td>0.92595</td></tr><tr><td>best_epoch</td><td>0</td></tr><tr><td>best_val_loss</td><td>0.2404</td></tr><tr><td>epoch</td><td>3</td></tr><tr><td>loss</td><td>0.09401</td></tr><tr><td>val_loss</td><td>0.28399</td></tr></table><br/></div></div>"
      ],
      "text/plain": [
       "<IPython.core.display.HTML object>"
      ]
     },
     "metadata": {},
     "output_type": "display_data"
    },
    {
     "data": {
      "text/html": [
       "Synced <strong style=\"color:#cdcd00\">dazzling-sweep-14</strong>: <a href=\"https://wandb.ai/chhyyi/redzone_LSTM_sweep/runs/ddswolhz\" target=\"_blank\">https://wandb.ai/chhyyi/redzone_LSTM_sweep/runs/ddswolhz</a><br/>Synced 5 W&B file(s), 1 media file(s), 4 artifact file(s) and 1 other file(s)"
      ],
      "text/plain": [
       "<IPython.core.display.HTML object>"
      ]
     },
     "metadata": {},
     "output_type": "display_data"
    },
    {
     "data": {
      "text/html": [
       "Find logs at: <code>./wandb/run-20221113_124908-ddswolhz/logs</code>"
      ],
      "text/plain": [
       "<IPython.core.display.HTML object>"
      ]
     },
     "metadata": {},
     "output_type": "display_data"
    },
    {
     "name": "stderr",
     "output_type": "stream",
     "text": [
      "\u001b[34m\u001b[1mwandb\u001b[0m: Agent Starting Run: yx9ki63r with config:\n",
      "\u001b[34m\u001b[1mwandb\u001b[0m: \tepochs: 3\n",
      "\u001b[34m\u001b[1mwandb\u001b[0m: \tlearning_rate: 0.0032\n",
      "\u001b[34m\u001b[1mwandb\u001b[0m: \tsplit_train_ratio: 0.5\n",
      "\u001b[34m\u001b[1mwandb\u001b[0m: \tstride_inside_seq: 1\n",
      "\u001b[34m\u001b[1mwandb\u001b[0m: \tunit_LSTM0: 256\n"
     ]
    },
    {
     "data": {
      "text/html": [
       "Tracking run with wandb version 0.13.5"
      ],
      "text/plain": [
       "<IPython.core.display.HTML object>"
      ]
     },
     "metadata": {},
     "output_type": "display_data"
    },
    {
     "data": {
      "text/html": [
       "Run data is saved locally in <code>/aiffel/aiffel/aiffelthon/wandb/run-20221113_125024-yx9ki63r</code>"
      ],
      "text/plain": [
       "<IPython.core.display.HTML object>"
      ]
     },
     "metadata": {},
     "output_type": "display_data"
    },
    {
     "data": {
      "text/html": [
       "Syncing run <strong><a href=\"https://wandb.ai/chhyyi/redzone_LSTM_sweep/runs/yx9ki63r\" target=\"_blank\">happy-sweep-15</a></strong> to <a href=\"https://wandb.ai/chhyyi/redzone_LSTM_sweep\" target=\"_blank\">Weights & Biases</a> (<a href=\"https://wandb.me/run\" target=\"_blank\">docs</a>)<br/>Sweep page:  <a href=\"https://wandb.ai/chhyyi/redzone_LSTM_sweep/sweeps/nhh58kej\" target=\"_blank\">https://wandb.ai/chhyyi/redzone_LSTM_sweep/sweeps/nhh58kej</a>"
      ],
      "text/plain": [
       "<IPython.core.display.HTML object>"
      ]
     },
     "metadata": {},
     "output_type": "display_data"
    },
    {
     "name": "stdout",
     "output_type": "stream",
     "text": [
      "loaded dataset. Generating sequences\n",
      "Any missing values exist: False\n",
      "train dataset columns: Index(['풍속(m/s)', '풍향(deg)', '기온(°C)', '수온(°C)', '강수량(mm)', '풍속(m/s).1',\n",
      "       '풍향(deg).1', '기온(°C).1', '수온(°C).1', '강수량(mm).1', '풍속(m/s).2',\n",
      "       '풍향(deg).2', '기온(°C).2', '수온(°C).2', '강수량(mm).2', '풍속(m/s).3',\n",
      "       '풍향(deg).3', '기온(°C).3', '수온(°C).3', '강수량(mm).3', '풍속(m/s).4',\n",
      "       '풍향(deg).4', '기온(°C).4', '수온(°C).4', '강수량(mm).4', '적조발생'],\n",
      "      dtype='object')\n",
      "12566 25133\n",
      "(12566, 72, 25) (12567, 72, 25) (12566, 72) (12567, 72) \n",
      "\n",
      "\n",
      "Epoch 1/3\n",
      "197/197 [==============================] - 4s 13ms/step - loss: 0.1478 - val_loss: 0.3978\n"
     ]
    },
    {
     "name": "stderr",
     "output_type": "stream",
     "text": [
      "WARNING:absl:Found untraced functions such as lstm_cell_layer_call_and_return_conditional_losses, lstm_cell_layer_call_fn, lstm_cell_layer_call_fn, lstm_cell_layer_call_and_return_conditional_losses, lstm_cell_layer_call_and_return_conditional_losses while saving (showing 5 of 5). These functions will not be directly callable after loading.\n"
     ]
    },
    {
     "name": "stdout",
     "output_type": "stream",
     "text": [
      "INFO:tensorflow:Assets written to: /aiffel/aiffel/aiffelthon/wandb/run-20221113_125024-yx9ki63r/files/model-best/assets\n"
     ]
    },
    {
     "name": "stderr",
     "output_type": "stream",
     "text": [
      "INFO:tensorflow:Assets written to: /aiffel/aiffel/aiffelthon/wandb/run-20221113_125024-yx9ki63r/files/model-best/assets\n",
      "\u001b[34m\u001b[1mwandb\u001b[0m: Adding directory to artifact (/aiffel/aiffel/aiffelthon/wandb/run-20221113_125024-yx9ki63r/files/model-best)... Done. 0.0s\n"
     ]
    },
    {
     "name": "stdout",
     "output_type": "stream",
     "text": [
      "sequence accuracy is 0.9260629691520119\n",
      "Epoch 2/3\n",
      "197/197 [==============================] - 2s 10ms/step - loss: 0.1131 - val_loss: 0.2992\n"
     ]
    },
    {
     "name": "stderr",
     "output_type": "stream",
     "text": [
      "WARNING:absl:Found untraced functions such as lstm_cell_layer_call_and_return_conditional_losses, lstm_cell_layer_call_fn, lstm_cell_layer_call_fn, lstm_cell_layer_call_and_return_conditional_losses, lstm_cell_layer_call_and_return_conditional_losses while saving (showing 5 of 5). These functions will not be directly callable after loading.\n"
     ]
    },
    {
     "name": "stdout",
     "output_type": "stream",
     "text": [
      "INFO:tensorflow:Assets written to: /aiffel/aiffel/aiffelthon/wandb/run-20221113_125024-yx9ki63r/files/model-best/assets\n"
     ]
    },
    {
     "name": "stderr",
     "output_type": "stream",
     "text": [
      "INFO:tensorflow:Assets written to: /aiffel/aiffel/aiffelthon/wandb/run-20221113_125024-yx9ki63r/files/model-best/assets\n",
      "\u001b[34m\u001b[1mwandb\u001b[0m: Adding directory to artifact (/aiffel/aiffel/aiffelthon/wandb/run-20221113_125024-yx9ki63r/files/model-best)... Done. 0.0s\n"
     ]
    },
    {
     "name": "stdout",
     "output_type": "stream",
     "text": [
      "sequence accuracy is 0.8815880215378903\n",
      "Epoch 3/3\n",
      "197/197 [==============================] - 2s 10ms/step - loss: 0.0930 - val_loss: 0.3881\n",
      "sequence accuracy is 0.9302173682395692\n"
     ]
    },
    {
     "data": {
      "text/html": [
       "Waiting for W&B process to finish... <strong style=\"color:green\">(success).</strong>"
      ],
      "text/plain": [
       "<IPython.core.display.HTML object>"
      ]
     },
     "metadata": {},
     "output_type": "display_data"
    },
    {
     "data": {
      "application/vnd.jupyter.widget-view+json": {
       "model_id": "de9e613155c9481380985241f07e06e2",
       "version_major": 2,
       "version_minor": 0
      },
      "text/plain": [
       "VBox(children=(Label(value='12.189 MB of 12.189 MB uploaded (0.008 MB deduped)\\r'), FloatProgress(value=1.0, m…"
      ]
     },
     "metadata": {},
     "output_type": "display_data"
    },
    {
     "data": {
      "text/html": [
       "<style>\n",
       "    table.wandb td:nth-child(1) { padding: 0 10px; text-align: left ; width: auto;} td:nth-child(2) {text-align: left ; width: 100%}\n",
       "    .wandb-row { display: flex; flex-direction: row; flex-wrap: wrap; justify-content: flex-start; width: 100% }\n",
       "    .wandb-col { display: flex; flex-direction: column; flex-basis: 100%; flex: 1; padding: 10px; }\n",
       "    </style>\n",
       "<div class=\"wandb-row\"><div class=\"wandb-col\"><h3>Run history:</h3><br/><table class=\"wandb\"><tr><td>Validation Acc :</td><td>▁</td></tr><tr><td>epoch</td><td>▁▅█</td></tr><tr><td>loss</td><td>█▄▁</td></tr><tr><td>val_loss</td><td>█▁▇</td></tr></table><br/></div><div class=\"wandb-col\"><h3>Run summary:</h3><br/><table class=\"wandb\"><tr><td>Validation Acc :</td><td>0.93022</td></tr><tr><td>best_epoch</td><td>1</td></tr><tr><td>best_val_loss</td><td>0.29918</td></tr><tr><td>epoch</td><td>2</td></tr><tr><td>loss</td><td>0.09298</td></tr><tr><td>val_loss</td><td>0.38812</td></tr></table><br/></div></div>"
      ],
      "text/plain": [
       "<IPython.core.display.HTML object>"
      ]
     },
     "metadata": {},
     "output_type": "display_data"
    },
    {
     "data": {
      "text/html": [
       "Synced <strong style=\"color:#cdcd00\">happy-sweep-15</strong>: <a href=\"https://wandb.ai/chhyyi/redzone_LSTM_sweep/runs/yx9ki63r\" target=\"_blank\">https://wandb.ai/chhyyi/redzone_LSTM_sweep/runs/yx9ki63r</a><br/>Synced 5 W&B file(s), 1 media file(s), 7 artifact file(s) and 1 other file(s)"
      ],
      "text/plain": [
       "<IPython.core.display.HTML object>"
      ]
     },
     "metadata": {},
     "output_type": "display_data"
    },
    {
     "data": {
      "text/html": [
       "Find logs at: <code>./wandb/run-20221113_125024-yx9ki63r/logs</code>"
      ],
      "text/plain": [
       "<IPython.core.display.HTML object>"
      ]
     },
     "metadata": {},
     "output_type": "display_data"
    },
    {
     "name": "stderr",
     "output_type": "stream",
     "text": [
      "\u001b[34m\u001b[1mwandb\u001b[0m: Agent Starting Run: 5jqmcpqt with config:\n",
      "\u001b[34m\u001b[1mwandb\u001b[0m: \tepochs: 3\n",
      "\u001b[34m\u001b[1mwandb\u001b[0m: \tlearning_rate: 0.001\n",
      "\u001b[34m\u001b[1mwandb\u001b[0m: \tsplit_train_ratio: 0.8\n",
      "\u001b[34m\u001b[1mwandb\u001b[0m: \tstride_inside_seq: 3\n",
      "\u001b[34m\u001b[1mwandb\u001b[0m: \tunit_LSTM0: 64\n"
     ]
    },
    {
     "data": {
      "application/vnd.jupyter.widget-view+json": {
       "model_id": "69a310f265c2414ab121d01718673924",
       "version_major": 2,
       "version_minor": 0
      },
      "text/plain": [
       "VBox(children=(Label(value='Waiting for wandb.init()...\\r'), FloatProgress(value=0.016669111783327632, max=1.0…"
      ]
     },
     "metadata": {},
     "output_type": "display_data"
    },
    {
     "data": {
      "text/html": [
       "Tracking run with wandb version 0.13.5"
      ],
      "text/plain": [
       "<IPython.core.display.HTML object>"
      ]
     },
     "metadata": {},
     "output_type": "display_data"
    },
    {
     "data": {
      "text/html": [
       "Run data is saved locally in <code>/aiffel/aiffel/aiffelthon/wandb/run-20221113_125258-5jqmcpqt</code>"
      ],
      "text/plain": [
       "<IPython.core.display.HTML object>"
      ]
     },
     "metadata": {},
     "output_type": "display_data"
    },
    {
     "data": {
      "text/html": [
       "Syncing run <strong><a href=\"https://wandb.ai/chhyyi/redzone_LSTM_sweep/runs/5jqmcpqt\" target=\"_blank\">breezy-sweep-16</a></strong> to <a href=\"https://wandb.ai/chhyyi/redzone_LSTM_sweep\" target=\"_blank\">Weights & Biases</a> (<a href=\"https://wandb.me/run\" target=\"_blank\">docs</a>)<br/>Sweep page:  <a href=\"https://wandb.ai/chhyyi/redzone_LSTM_sweep/sweeps/nhh58kej\" target=\"_blank\">https://wandb.ai/chhyyi/redzone_LSTM_sweep/sweeps/nhh58kej</a>"
      ],
      "text/plain": [
       "<IPython.core.display.HTML object>"
      ]
     },
     "metadata": {},
     "output_type": "display_data"
    },
    {
     "name": "stdout",
     "output_type": "stream",
     "text": [
      "loaded dataset. Generating sequences\n",
      "Any missing values exist: False\n",
      "train dataset columns: Index(['풍속(m/s)', '풍향(deg)', '기온(°C)', '수온(°C)', '강수량(mm)', '풍속(m/s).1',\n",
      "       '풍향(deg).1', '기온(°C).1', '수온(°C).1', '강수량(mm).1', '풍속(m/s).2',\n",
      "       '풍향(deg).2', '기온(°C).2', '수온(°C).2', '강수량(mm).2', '풍속(m/s).3',\n",
      "       '풍향(deg).3', '기온(°C).3', '수온(°C).3', '강수량(mm).3', '풍속(m/s).4',\n",
      "       '풍향(deg).4', '기온(°C).4', '수온(°C).4', '강수량(mm).4', '적조발생'],\n",
      "      dtype='object')\n",
      "20106 25133\n",
      "(20106, 24, 25) (5027, 24, 25) (20106, 24) (5027, 24) \n",
      "\n",
      "\n",
      "Epoch 1/3\n",
      "315/315 [==============================] - 3s 5ms/step - loss: 0.1860 - val_loss: 0.2179\n"
     ]
    },
    {
     "name": "stderr",
     "output_type": "stream",
     "text": [
      "WARNING:absl:Found untraced functions such as lstm_cell_layer_call_and_return_conditional_losses, lstm_cell_layer_call_fn, lstm_cell_layer_call_fn, lstm_cell_layer_call_and_return_conditional_losses, lstm_cell_layer_call_and_return_conditional_losses while saving (showing 5 of 5). These functions will not be directly callable after loading.\n"
     ]
    },
    {
     "name": "stdout",
     "output_type": "stream",
     "text": [
      "INFO:tensorflow:Assets written to: /aiffel/aiffel/aiffelthon/wandb/run-20221113_125258-5jqmcpqt/files/model-best/assets\n"
     ]
    },
    {
     "name": "stderr",
     "output_type": "stream",
     "text": [
      "INFO:tensorflow:Assets written to: /aiffel/aiffel/aiffelthon/wandb/run-20221113_125258-5jqmcpqt/files/model-best/assets\n",
      "\u001b[34m\u001b[1mwandb\u001b[0m: Adding directory to artifact (/aiffel/aiffel/aiffelthon/wandb/run-20221113_125258-5jqmcpqt/files/model-best)... Done. 0.0s\n"
     ]
    },
    {
     "name": "stdout",
     "output_type": "stream",
     "text": [
      "sequence accuracy is 0.8976526755520191\n",
      "Epoch 2/3\n",
      "315/315 [==============================] - 1s 4ms/step - loss: 0.0999 - val_loss: 0.2040\n"
     ]
    },
    {
     "name": "stderr",
     "output_type": "stream",
     "text": [
      "WARNING:absl:Found untraced functions such as lstm_cell_layer_call_and_return_conditional_losses, lstm_cell_layer_call_fn, lstm_cell_layer_call_fn, lstm_cell_layer_call_and_return_conditional_losses, lstm_cell_layer_call_and_return_conditional_losses while saving (showing 5 of 5). These functions will not be directly callable after loading.\n"
     ]
    },
    {
     "name": "stdout",
     "output_type": "stream",
     "text": [
      "INFO:tensorflow:Assets written to: /aiffel/aiffel/aiffelthon/wandb/run-20221113_125258-5jqmcpqt/files/model-best/assets\n"
     ]
    },
    {
     "name": "stderr",
     "output_type": "stream",
     "text": [
      "INFO:tensorflow:Assets written to: /aiffel/aiffel/aiffelthon/wandb/run-20221113_125258-5jqmcpqt/files/model-best/assets\n",
      "\u001b[34m\u001b[1mwandb\u001b[0m: Adding directory to artifact (/aiffel/aiffel/aiffelthon/wandb/run-20221113_125258-5jqmcpqt/files/model-best)... Done. 0.0s\n"
     ]
    },
    {
     "name": "stdout",
     "output_type": "stream",
     "text": [
      "sequence accuracy is 0.8991363304820635\n",
      "Epoch 3/3\n",
      "315/315 [==============================] - 1s 4ms/step - loss: 0.0692 - val_loss: 0.1946\n"
     ]
    },
    {
     "name": "stderr",
     "output_type": "stream",
     "text": [
      "WARNING:absl:Found untraced functions such as lstm_cell_layer_call_and_return_conditional_losses, lstm_cell_layer_call_fn, lstm_cell_layer_call_fn, lstm_cell_layer_call_and_return_conditional_losses, lstm_cell_layer_call_and_return_conditional_losses while saving (showing 5 of 5). These functions will not be directly callable after loading.\n"
     ]
    },
    {
     "name": "stdout",
     "output_type": "stream",
     "text": [
      "INFO:tensorflow:Assets written to: /aiffel/aiffel/aiffelthon/wandb/run-20221113_125258-5jqmcpqt/files/model-best/assets\n"
     ]
    },
    {
     "name": "stderr",
     "output_type": "stream",
     "text": [
      "INFO:tensorflow:Assets written to: /aiffel/aiffel/aiffelthon/wandb/run-20221113_125258-5jqmcpqt/files/model-best/assets\n",
      "\u001b[34m\u001b[1mwandb\u001b[0m: Adding directory to artifact (/aiffel/aiffel/aiffelthon/wandb/run-20221113_125258-5jqmcpqt/files/model-best)... Done. 0.0s\n"
     ]
    },
    {
     "name": "stdout",
     "output_type": "stream",
     "text": [
      "sequence accuracy is 0.9031977322458723\n"
     ]
    },
    {
     "data": {
      "text/html": [
       "Waiting for W&B process to finish... <strong style=\"color:green\">(success).</strong>"
      ],
      "text/plain": [
       "<IPython.core.display.HTML object>"
      ]
     },
     "metadata": {},
     "output_type": "display_data"
    },
    {
     "data": {
      "text/html": [
       "<style>\n",
       "    table.wandb td:nth-child(1) { padding: 0 10px; text-align: left ; width: auto;} td:nth-child(2) {text-align: left ; width: 100%}\n",
       "    .wandb-row { display: flex; flex-direction: row; flex-wrap: wrap; justify-content: flex-start; width: 100% }\n",
       "    .wandb-col { display: flex; flex-direction: column; flex-basis: 100%; flex: 1; padding: 10px; }\n",
       "    </style>\n",
       "<div class=\"wandb-row\"><div class=\"wandb-col\"><h3>Run history:</h3><br/><table class=\"wandb\"><tr><td>Validation Acc :</td><td>▁</td></tr><tr><td>epoch</td><td>▁▅█</td></tr><tr><td>loss</td><td>█▃▁</td></tr><tr><td>val_loss</td><td>█▄▁</td></tr></table><br/></div><div class=\"wandb-col\"><h3>Run summary:</h3><br/><table class=\"wandb\"><tr><td>Validation Acc :</td><td>0.9032</td></tr><tr><td>best_epoch</td><td>2</td></tr><tr><td>best_val_loss</td><td>0.19464</td></tr><tr><td>epoch</td><td>2</td></tr><tr><td>loss</td><td>0.06924</td></tr><tr><td>val_loss</td><td>0.19464</td></tr></table><br/></div></div>"
      ],
      "text/plain": [
       "<IPython.core.display.HTML object>"
      ]
     },
     "metadata": {},
     "output_type": "display_data"
    },
    {
     "data": {
      "text/html": [
       "Synced <strong style=\"color:#cdcd00\">breezy-sweep-16</strong>: <a href=\"https://wandb.ai/chhyyi/redzone_LSTM_sweep/runs/5jqmcpqt\" target=\"_blank\">https://wandb.ai/chhyyi/redzone_LSTM_sweep/runs/5jqmcpqt</a><br/>Synced 5 W&B file(s), 1 media file(s), 10 artifact file(s) and 1 other file(s)"
      ],
      "text/plain": [
       "<IPython.core.display.HTML object>"
      ]
     },
     "metadata": {},
     "output_type": "display_data"
    },
    {
     "data": {
      "text/html": [
       "Find logs at: <code>./wandb/run-20221113_125258-5jqmcpqt/logs</code>"
      ],
      "text/plain": [
       "<IPython.core.display.HTML object>"
      ]
     },
     "metadata": {},
     "output_type": "display_data"
    },
    {
     "name": "stderr",
     "output_type": "stream",
     "text": [
      "\u001b[34m\u001b[1mwandb\u001b[0m: Agent Starting Run: 321m3043 with config:\n",
      "\u001b[34m\u001b[1mwandb\u001b[0m: \tepochs: 3\n",
      "\u001b[34m\u001b[1mwandb\u001b[0m: \tlearning_rate: 0.0032\n",
      "\u001b[34m\u001b[1mwandb\u001b[0m: \tsplit_train_ratio: 0.5\n",
      "\u001b[34m\u001b[1mwandb\u001b[0m: \tstride_inside_seq: 3\n",
      "\u001b[34m\u001b[1mwandb\u001b[0m: \tunit_LSTM0: 64\n"
     ]
    },
    {
     "data": {
      "text/html": [
       "Tracking run with wandb version 0.13.5"
      ],
      "text/plain": [
       "<IPython.core.display.HTML object>"
      ]
     },
     "metadata": {},
     "output_type": "display_data"
    },
    {
     "data": {
      "text/html": [
       "Run data is saved locally in <code>/aiffel/aiffel/aiffelthon/wandb/run-20221113_125422-321m3043</code>"
      ],
      "text/plain": [
       "<IPython.core.display.HTML object>"
      ]
     },
     "metadata": {},
     "output_type": "display_data"
    },
    {
     "data": {
      "text/html": [
       "Syncing run <strong><a href=\"https://wandb.ai/chhyyi/redzone_LSTM_sweep/runs/321m3043\" target=\"_blank\">hopeful-sweep-17</a></strong> to <a href=\"https://wandb.ai/chhyyi/redzone_LSTM_sweep\" target=\"_blank\">Weights & Biases</a> (<a href=\"https://wandb.me/run\" target=\"_blank\">docs</a>)<br/>Sweep page:  <a href=\"https://wandb.ai/chhyyi/redzone_LSTM_sweep/sweeps/nhh58kej\" target=\"_blank\">https://wandb.ai/chhyyi/redzone_LSTM_sweep/sweeps/nhh58kej</a>"
      ],
      "text/plain": [
       "<IPython.core.display.HTML object>"
      ]
     },
     "metadata": {},
     "output_type": "display_data"
    },
    {
     "name": "stdout",
     "output_type": "stream",
     "text": [
      "loaded dataset. Generating sequences\n",
      "Any missing values exist: False\n",
      "train dataset columns: Index(['풍속(m/s)', '풍향(deg)', '기온(°C)', '수온(°C)', '강수량(mm)', '풍속(m/s).1',\n",
      "       '풍향(deg).1', '기온(°C).1', '수온(°C).1', '강수량(mm).1', '풍속(m/s).2',\n",
      "       '풍향(deg).2', '기온(°C).2', '수온(°C).2', '강수량(mm).2', '풍속(m/s).3',\n",
      "       '풍향(deg).3', '기온(°C).3', '수온(°C).3', '강수량(mm).3', '풍속(m/s).4',\n",
      "       '풍향(deg).4', '기온(°C).4', '수온(°C).4', '강수량(mm).4', '적조발생'],\n",
      "      dtype='object')\n",
      "12566 25133\n",
      "(12566, 24, 25) (12567, 24, 25) (12566, 24) (12567, 24) \n",
      "\n",
      "\n",
      "Epoch 1/3\n",
      "197/197 [==============================] - 3s 8ms/step - loss: 0.1472 - val_loss: 0.3558\n"
     ]
    },
    {
     "name": "stderr",
     "output_type": "stream",
     "text": [
      "WARNING:absl:Found untraced functions such as lstm_cell_layer_call_and_return_conditional_losses, lstm_cell_layer_call_fn, lstm_cell_layer_call_fn, lstm_cell_layer_call_and_return_conditional_losses, lstm_cell_layer_call_and_return_conditional_losses while saving (showing 5 of 5). These functions will not be directly callable after loading.\n"
     ]
    },
    {
     "name": "stdout",
     "output_type": "stream",
     "text": [
      "INFO:tensorflow:Assets written to: /aiffel/aiffel/aiffelthon/wandb/run-20221113_125422-321m3043/files/model-best/assets\n"
     ]
    },
    {
     "name": "stderr",
     "output_type": "stream",
     "text": [
      "INFO:tensorflow:Assets written to: /aiffel/aiffel/aiffelthon/wandb/run-20221113_125422-321m3043/files/model-best/assets\n",
      "\u001b[34m\u001b[1mwandb\u001b[0m: Adding directory to artifact (/aiffel/aiffel/aiffelthon/wandb/run-20221113_125422-321m3043/files/model-best)... Done. 0.0s\n"
     ]
    },
    {
     "name": "stdout",
     "output_type": "stream",
     "text": [
      "sequence accuracy is 0.923049123365428\n",
      "Epoch 2/3\n",
      "197/197 [==============================] - 1s 6ms/step - loss: 0.1020 - val_loss: 0.3760\n",
      "sequence accuracy is 0.9260397602185618\n",
      "Epoch 3/3\n",
      "197/197 [==============================] - 1s 6ms/step - loss: 0.0930 - val_loss: 0.3779\n",
      "sequence accuracy is 0.924889260231824\n"
     ]
    },
    {
     "data": {
      "text/html": [
       "Waiting for W&B process to finish... <strong style=\"color:green\">(success).</strong>"
      ],
      "text/plain": [
       "<IPython.core.display.HTML object>"
      ]
     },
     "metadata": {},
     "output_type": "display_data"
    },
    {
     "data": {
      "application/vnd.jupyter.widget-view+json": {
       "model_id": "3aec012288c2410e814a146631cbca45",
       "version_major": 2,
       "version_minor": 0
      },
      "text/plain": [
       "VBox(children=(Label(value='1.392 MB of 1.392 MB uploaded (0.000 MB deduped)\\r'), FloatProgress(value=1.0, max…"
      ]
     },
     "metadata": {},
     "output_type": "display_data"
    },
    {
     "data": {
      "text/html": [
       "<style>\n",
       "    table.wandb td:nth-child(1) { padding: 0 10px; text-align: left ; width: auto;} td:nth-child(2) {text-align: left ; width: 100%}\n",
       "    .wandb-row { display: flex; flex-direction: row; flex-wrap: wrap; justify-content: flex-start; width: 100% }\n",
       "    .wandb-col { display: flex; flex-direction: column; flex-basis: 100%; flex: 1; padding: 10px; }\n",
       "    </style>\n",
       "<div class=\"wandb-row\"><div class=\"wandb-col\"><h3>Run history:</h3><br/><table class=\"wandb\"><tr><td>Validation Acc :</td><td>▁</td></tr><tr><td>epoch</td><td>▁▅█</td></tr><tr><td>loss</td><td>█▂▁</td></tr><tr><td>val_loss</td><td>▁▇█</td></tr></table><br/></div><div class=\"wandb-col\"><h3>Run summary:</h3><br/><table class=\"wandb\"><tr><td>Validation Acc :</td><td>0.92489</td></tr><tr><td>best_epoch</td><td>0</td></tr><tr><td>best_val_loss</td><td>0.35581</td></tr><tr><td>epoch</td><td>2</td></tr><tr><td>loss</td><td>0.09299</td></tr><tr><td>val_loss</td><td>0.3779</td></tr></table><br/></div></div>"
      ],
      "text/plain": [
       "<IPython.core.display.HTML object>"
      ]
     },
     "metadata": {},
     "output_type": "display_data"
    },
    {
     "data": {
      "text/html": [
       "Synced <strong style=\"color:#cdcd00\">hopeful-sweep-17</strong>: <a href=\"https://wandb.ai/chhyyi/redzone_LSTM_sweep/runs/321m3043\" target=\"_blank\">https://wandb.ai/chhyyi/redzone_LSTM_sweep/runs/321m3043</a><br/>Synced 5 W&B file(s), 1 media file(s), 4 artifact file(s) and 1 other file(s)"
      ],
      "text/plain": [
       "<IPython.core.display.HTML object>"
      ]
     },
     "metadata": {},
     "output_type": "display_data"
    },
    {
     "data": {
      "text/html": [
       "Find logs at: <code>./wandb/run-20221113_125422-321m3043/logs</code>"
      ],
      "text/plain": [
       "<IPython.core.display.HTML object>"
      ]
     },
     "metadata": {},
     "output_type": "display_data"
    },
    {
     "name": "stderr",
     "output_type": "stream",
     "text": [
      "\u001b[34m\u001b[1mwandb\u001b[0m: Sweep Agent: Waiting for job.\n",
      "\u001b[34m\u001b[1mwandb\u001b[0m: Job received.\n",
      "\u001b[34m\u001b[1mwandb\u001b[0m: Agent Starting Run: hbi1nkm3 with config:\n",
      "\u001b[34m\u001b[1mwandb\u001b[0m: \tepochs: 3\n",
      "\u001b[34m\u001b[1mwandb\u001b[0m: \tlearning_rate: 0.0032\n",
      "\u001b[34m\u001b[1mwandb\u001b[0m: \tsplit_train_ratio: 0.5\n",
      "\u001b[34m\u001b[1mwandb\u001b[0m: \tstride_inside_seq: 3\n",
      "\u001b[34m\u001b[1mwandb\u001b[0m: \tunit_LSTM0: 64\n"
     ]
    },
    {
     "data": {
      "text/html": [
       "Tracking run with wandb version 0.13.5"
      ],
      "text/plain": [
       "<IPython.core.display.HTML object>"
      ]
     },
     "metadata": {},
     "output_type": "display_data"
    },
    {
     "data": {
      "text/html": [
       "Run data is saved locally in <code>/aiffel/aiffel/aiffelthon/wandb/run-20221113_125547-hbi1nkm3</code>"
      ],
      "text/plain": [
       "<IPython.core.display.HTML object>"
      ]
     },
     "metadata": {},
     "output_type": "display_data"
    },
    {
     "data": {
      "text/html": [
       "Syncing run <strong><a href=\"https://wandb.ai/chhyyi/redzone_LSTM_sweep/runs/hbi1nkm3\" target=\"_blank\">efficient-sweep-18</a></strong> to <a href=\"https://wandb.ai/chhyyi/redzone_LSTM_sweep\" target=\"_blank\">Weights & Biases</a> (<a href=\"https://wandb.me/run\" target=\"_blank\">docs</a>)<br/>Sweep page:  <a href=\"https://wandb.ai/chhyyi/redzone_LSTM_sweep/sweeps/nhh58kej\" target=\"_blank\">https://wandb.ai/chhyyi/redzone_LSTM_sweep/sweeps/nhh58kej</a>"
      ],
      "text/plain": [
       "<IPython.core.display.HTML object>"
      ]
     },
     "metadata": {},
     "output_type": "display_data"
    },
    {
     "name": "stdout",
     "output_type": "stream",
     "text": [
      "loaded dataset. Generating sequences\n",
      "Any missing values exist: False\n",
      "train dataset columns: Index(['풍속(m/s)', '풍향(deg)', '기온(°C)', '수온(°C)', '강수량(mm)', '풍속(m/s).1',\n",
      "       '풍향(deg).1', '기온(°C).1', '수온(°C).1', '강수량(mm).1', '풍속(m/s).2',\n",
      "       '풍향(deg).2', '기온(°C).2', '수온(°C).2', '강수량(mm).2', '풍속(m/s).3',\n",
      "       '풍향(deg).3', '기온(°C).3', '수온(°C).3', '강수량(mm).3', '풍속(m/s).4',\n",
      "       '풍향(deg).4', '기온(°C).4', '수온(°C).4', '강수량(mm).4', '적조발생'],\n",
      "      dtype='object')\n",
      "12566 25133\n",
      "(12566, 24, 25) (12567, 24, 25) (12566, 24) (12567, 24) \n",
      "\n",
      "\n",
      "Epoch 1/3\n",
      "197/197 [==============================] - 3s 8ms/step - loss: 0.1505 - val_loss: 0.3458\n"
     ]
    },
    {
     "name": "stderr",
     "output_type": "stream",
     "text": [
      "WARNING:absl:Found untraced functions such as lstm_cell_layer_call_and_return_conditional_losses, lstm_cell_layer_call_fn, lstm_cell_layer_call_fn, lstm_cell_layer_call_and_return_conditional_losses, lstm_cell_layer_call_and_return_conditional_losses while saving (showing 5 of 5). These functions will not be directly callable after loading.\n"
     ]
    },
    {
     "name": "stdout",
     "output_type": "stream",
     "text": [
      "INFO:tensorflow:Assets written to: /aiffel/aiffel/aiffelthon/wandb/run-20221113_125547-hbi1nkm3/files/model-best/assets\n"
     ]
    },
    {
     "name": "stderr",
     "output_type": "stream",
     "text": [
      "INFO:tensorflow:Assets written to: /aiffel/aiffel/aiffelthon/wandb/run-20221113_125547-hbi1nkm3/files/model-best/assets\n",
      "\u001b[34m\u001b[1mwandb\u001b[0m: Adding directory to artifact (/aiffel/aiffel/aiffelthon/wandb/run-20221113_125547-hbi1nkm3/files/model-best)... Done. 0.0s\n"
     ]
    },
    {
     "name": "stdout",
     "output_type": "stream",
     "text": [
      "sequence accuracy is 0.9259635022943689\n",
      "Epoch 2/3\n",
      "197/197 [==============================] - 1s 5ms/step - loss: 0.0973 - val_loss: 0.3933\n",
      "sequence accuracy is 0.9232646348903212\n",
      "Epoch 3/3\n",
      "197/197 [==============================] - 1s 6ms/step - loss: 0.0728 - val_loss: 0.4080\n",
      "sequence accuracy is 0.9270476910426779\n"
     ]
    },
    {
     "data": {
      "text/html": [
       "Waiting for W&B process to finish... <strong style=\"color:green\">(success).</strong>"
      ],
      "text/plain": [
       "<IPython.core.display.HTML object>"
      ]
     },
     "metadata": {},
     "output_type": "display_data"
    },
    {
     "data": {
      "text/html": [
       "<style>\n",
       "    table.wandb td:nth-child(1) { padding: 0 10px; text-align: left ; width: auto;} td:nth-child(2) {text-align: left ; width: 100%}\n",
       "    .wandb-row { display: flex; flex-direction: row; flex-wrap: wrap; justify-content: flex-start; width: 100% }\n",
       "    .wandb-col { display: flex; flex-direction: column; flex-basis: 100%; flex: 1; padding: 10px; }\n",
       "    </style>\n",
       "<div class=\"wandb-row\"><div class=\"wandb-col\"><h3>Run history:</h3><br/><table class=\"wandb\"><tr><td>Validation Acc :</td><td>▁</td></tr><tr><td>epoch</td><td>▁▅█</td></tr><tr><td>loss</td><td>█▃▁</td></tr><tr><td>val_loss</td><td>▁▆█</td></tr></table><br/></div><div class=\"wandb-col\"><h3>Run summary:</h3><br/><table class=\"wandb\"><tr><td>Validation Acc :</td><td>0.92705</td></tr><tr><td>best_epoch</td><td>0</td></tr><tr><td>best_val_loss</td><td>0.3458</td></tr><tr><td>epoch</td><td>2</td></tr><tr><td>loss</td><td>0.07281</td></tr><tr><td>val_loss</td><td>0.40804</td></tr></table><br/></div></div>"
      ],
      "text/plain": [
       "<IPython.core.display.HTML object>"
      ]
     },
     "metadata": {},
     "output_type": "display_data"
    },
    {
     "data": {
      "text/html": [
       "Synced <strong style=\"color:#cdcd00\">efficient-sweep-18</strong>: <a href=\"https://wandb.ai/chhyyi/redzone_LSTM_sweep/runs/hbi1nkm3\" target=\"_blank\">https://wandb.ai/chhyyi/redzone_LSTM_sweep/runs/hbi1nkm3</a><br/>Synced 5 W&B file(s), 1 media file(s), 4 artifact file(s) and 1 other file(s)"
      ],
      "text/plain": [
       "<IPython.core.display.HTML object>"
      ]
     },
     "metadata": {},
     "output_type": "display_data"
    },
    {
     "data": {
      "text/html": [
       "Find logs at: <code>./wandb/run-20221113_125547-hbi1nkm3/logs</code>"
      ],
      "text/plain": [
       "<IPython.core.display.HTML object>"
      ]
     },
     "metadata": {},
     "output_type": "display_data"
    },
    {
     "name": "stderr",
     "output_type": "stream",
     "text": [
      "\u001b[34m\u001b[1mwandb\u001b[0m: Agent Starting Run: b8vldo78 with config:\n",
      "\u001b[34m\u001b[1mwandb\u001b[0m: \tepochs: 12\n",
      "\u001b[34m\u001b[1mwandb\u001b[0m: \tlearning_rate: 0.001\n",
      "\u001b[34m\u001b[1mwandb\u001b[0m: \tsplit_train_ratio: 0.5\n",
      "\u001b[34m\u001b[1mwandb\u001b[0m: \tstride_inside_seq: 9\n",
      "\u001b[34m\u001b[1mwandb\u001b[0m: \tunit_LSTM0: 64\n"
     ]
    },
    {
     "data": {
      "application/vnd.jupyter.widget-view+json": {
       "model_id": "54badc801c6b4f398580dfac5843c31d",
       "version_major": 2,
       "version_minor": 0
      },
      "text/plain": [
       "VBox(children=(Label(value='Waiting for wandb.init()...\\r'), FloatProgress(value=0.01667052883331053, max=1.0)…"
      ]
     },
     "metadata": {},
     "output_type": "display_data"
    },
    {
     "data": {
      "text/html": [
       "Tracking run with wandb version 0.13.5"
      ],
      "text/plain": [
       "<IPython.core.display.HTML object>"
      ]
     },
     "metadata": {},
     "output_type": "display_data"
    },
    {
     "data": {
      "text/html": [
       "Run data is saved locally in <code>/aiffel/aiffel/aiffelthon/wandb/run-20221113_125703-b8vldo78</code>"
      ],
      "text/plain": [
       "<IPython.core.display.HTML object>"
      ]
     },
     "metadata": {},
     "output_type": "display_data"
    },
    {
     "data": {
      "text/html": [
       "Syncing run <strong><a href=\"https://wandb.ai/chhyyi/redzone_LSTM_sweep/runs/b8vldo78\" target=\"_blank\">legendary-sweep-19</a></strong> to <a href=\"https://wandb.ai/chhyyi/redzone_LSTM_sweep\" target=\"_blank\">Weights & Biases</a> (<a href=\"https://wandb.me/run\" target=\"_blank\">docs</a>)<br/>Sweep page:  <a href=\"https://wandb.ai/chhyyi/redzone_LSTM_sweep/sweeps/nhh58kej\" target=\"_blank\">https://wandb.ai/chhyyi/redzone_LSTM_sweep/sweeps/nhh58kej</a>"
      ],
      "text/plain": [
       "<IPython.core.display.HTML object>"
      ]
     },
     "metadata": {},
     "output_type": "display_data"
    },
    {
     "name": "stdout",
     "output_type": "stream",
     "text": [
      "loaded dataset. Generating sequences\n",
      "Any missing values exist: False\n",
      "train dataset columns: Index(['풍속(m/s)', '풍향(deg)', '기온(°C)', '수온(°C)', '강수량(mm)', '풍속(m/s).1',\n",
      "       '풍향(deg).1', '기온(°C).1', '수온(°C).1', '강수량(mm).1', '풍속(m/s).2',\n",
      "       '풍향(deg).2', '기온(°C).2', '수온(°C).2', '강수량(mm).2', '풍속(m/s).3',\n",
      "       '풍향(deg).3', '기온(°C).3', '수온(°C).3', '강수량(mm).3', '풍속(m/s).4',\n",
      "       '풍향(deg).4', '기온(°C).4', '수온(°C).4', '강수량(mm).4', '적조발생'],\n",
      "      dtype='object')\n",
      "12566 25133\n",
      "(12566, 8, 25) (12567, 8, 25) (12566, 8) (12567, 8) \n",
      "\n",
      "\n",
      "Epoch 1/12\n",
      "197/197 [==============================] - 3s 7ms/step - loss: 0.2026 - val_loss: 0.2957\n"
     ]
    },
    {
     "name": "stderr",
     "output_type": "stream",
     "text": [
      "WARNING:absl:Found untraced functions such as lstm_cell_layer_call_and_return_conditional_losses, lstm_cell_layer_call_fn, lstm_cell_layer_call_fn, lstm_cell_layer_call_and_return_conditional_losses, lstm_cell_layer_call_and_return_conditional_losses while saving (showing 5 of 5). These functions will not be directly callable after loading.\n"
     ]
    },
    {
     "name": "stdout",
     "output_type": "stream",
     "text": [
      "INFO:tensorflow:Assets written to: /aiffel/aiffel/aiffelthon/wandb/run-20221113_125703-b8vldo78/files/model-best/assets\n"
     ]
    },
    {
     "name": "stderr",
     "output_type": "stream",
     "text": [
      "INFO:tensorflow:Assets written to: /aiffel/aiffel/aiffelthon/wandb/run-20221113_125703-b8vldo78/files/model-best/assets\n",
      "\u001b[34m\u001b[1mwandb\u001b[0m: Adding directory to artifact (/aiffel/aiffel/aiffelthon/wandb/run-20221113_125703-b8vldo78/files/model-best)... Done. 0.0s\n"
     ]
    },
    {
     "name": "stdout",
     "output_type": "stream",
     "text": [
      "sequence accuracy is 0.9261955916288692\n",
      "Epoch 2/12\n",
      "197/197 [==============================] - 1s 5ms/step - loss: 0.1007 - val_loss: 0.3217\n",
      "sequence accuracy is 0.9200684331980584\n",
      "Epoch 3/12\n",
      "197/197 [==============================] - 1s 5ms/step - loss: 0.0793 - val_loss: 0.3589\n",
      "sequence accuracy is 0.9017267446486831\n",
      "Epoch 4/12\n",
      "197/197 [==============================] - 1s 5ms/step - loss: 0.0628 - val_loss: 0.3868\n",
      "sequence accuracy is 0.9220378769793904\n",
      "Epoch 5/12\n",
      "197/197 [==============================] - 1s 5ms/step - loss: 0.0440 - val_loss: 0.4241\n",
      "sequence accuracy is 0.919133444736214\n",
      "Epoch 6/12\n",
      "197/197 [==============================] - 1s 5ms/step - loss: 0.0372 - val_loss: 0.4703\n",
      "sequence accuracy is 0.9256087371687753\n",
      "Epoch 7/12\n",
      "197/197 [==============================] - 1s 5ms/step - loss: 0.0253 - val_loss: 0.4795\n",
      "sequence accuracy is 0.92661335243097\n",
      "Epoch 8/12\n",
      "197/197 [==============================] - 1s 5ms/step - loss: 0.0188 - val_loss: 0.5105\n",
      "sequence accuracy is 0.9153934908888358\n",
      "Epoch 9/12\n",
      "197/197 [==============================] - 1s 5ms/step - loss: 0.0179 - val_loss: 0.5719\n",
      "sequence accuracy is 0.924942309222567\n",
      "Epoch 10/12\n",
      "197/197 [==============================] - 1s 5ms/step - loss: 0.0144 - val_loss: 0.5610\n",
      "sequence accuracy is 0.9216897429776398\n",
      "Epoch 11/12\n",
      "197/197 [==============================] - 1s 5ms/step - loss: 0.0181 - val_loss: 0.5493\n",
      "sequence accuracy is 0.9326112039468449\n",
      "Epoch 12/12\n",
      "197/197 [==============================] - 1s 5ms/step - loss: 0.0104 - val_loss: 0.5783\n",
      "sequence accuracy is 0.92739914060635\n"
     ]
    },
    {
     "data": {
      "text/html": [
       "Waiting for W&B process to finish... <strong style=\"color:green\">(success).</strong>"
      ],
      "text/plain": [
       "<IPython.core.display.HTML object>"
      ]
     },
     "metadata": {},
     "output_type": "display_data"
    },
    {
     "data": {
      "application/vnd.jupyter.widget-view+json": {
       "model_id": "241e08f4c7a747ea8eba69ccfad9b73d",
       "version_major": 2,
       "version_minor": 0
      },
      "text/plain": [
       "VBox(children=(Label(value='1.369 MB of 1.369 MB uploaded (0.000 MB deduped)\\r'), FloatProgress(value=1.0, max…"
      ]
     },
     "metadata": {},
     "output_type": "display_data"
    },
    {
     "data": {
      "text/html": [
       "<style>\n",
       "    table.wandb td:nth-child(1) { padding: 0 10px; text-align: left ; width: auto;} td:nth-child(2) {text-align: left ; width: 100%}\n",
       "    .wandb-row { display: flex; flex-direction: row; flex-wrap: wrap; justify-content: flex-start; width: 100% }\n",
       "    .wandb-col { display: flex; flex-direction: column; flex-basis: 100%; flex: 1; padding: 10px; }\n",
       "    </style>\n",
       "<div class=\"wandb-row\"><div class=\"wandb-col\"><h3>Run history:</h3><br/><table class=\"wandb\"><tr><td>Validation Acc :</td><td>▁</td></tr><tr><td>epoch</td><td>▁▂▂▃▄▄▅▅▆▇▇█</td></tr><tr><td>loss</td><td>█▄▄▃▂▂▂▁▁▁▁▁</td></tr><tr><td>val_loss</td><td>▁▂▃▃▄▅▆▆██▇█</td></tr></table><br/></div><div class=\"wandb-col\"><h3>Run summary:</h3><br/><table class=\"wandb\"><tr><td>Validation Acc :</td><td>0.9274</td></tr><tr><td>best_epoch</td><td>0</td></tr><tr><td>best_val_loss</td><td>0.2957</td></tr><tr><td>epoch</td><td>11</td></tr><tr><td>loss</td><td>0.01043</td></tr><tr><td>val_loss</td><td>0.57825</td></tr></table><br/></div></div>"
      ],
      "text/plain": [
       "<IPython.core.display.HTML object>"
      ]
     },
     "metadata": {},
     "output_type": "display_data"
    },
    {
     "data": {
      "text/html": [
       "Synced <strong style=\"color:#cdcd00\">legendary-sweep-19</strong>: <a href=\"https://wandb.ai/chhyyi/redzone_LSTM_sweep/runs/b8vldo78\" target=\"_blank\">https://wandb.ai/chhyyi/redzone_LSTM_sweep/runs/b8vldo78</a><br/>Synced 5 W&B file(s), 1 media file(s), 4 artifact file(s) and 1 other file(s)"
      ],
      "text/plain": [
       "<IPython.core.display.HTML object>"
      ]
     },
     "metadata": {},
     "output_type": "display_data"
    },
    {
     "data": {
      "text/html": [
       "Find logs at: <code>./wandb/run-20221113_125703-b8vldo78/logs</code>"
      ],
      "text/plain": [
       "<IPython.core.display.HTML object>"
      ]
     },
     "metadata": {},
     "output_type": "display_data"
    },
    {
     "name": "stderr",
     "output_type": "stream",
     "text": [
      "\u001b[34m\u001b[1mwandb\u001b[0m: Agent Starting Run: qddp283n with config:\n",
      "\u001b[34m\u001b[1mwandb\u001b[0m: \tepochs: 8\n",
      "\u001b[34m\u001b[1mwandb\u001b[0m: \tlearning_rate: 0.001\n",
      "\u001b[34m\u001b[1mwandb\u001b[0m: \tsplit_train_ratio: 0.8\n",
      "\u001b[34m\u001b[1mwandb\u001b[0m: \tstride_inside_seq: 1\n",
      "\u001b[34m\u001b[1mwandb\u001b[0m: \tunit_LSTM0: 32\n"
     ]
    },
    {
     "data": {
      "text/html": [
       "Tracking run with wandb version 0.13.5"
      ],
      "text/plain": [
       "<IPython.core.display.HTML object>"
      ]
     },
     "metadata": {},
     "output_type": "display_data"
    },
    {
     "data": {
      "text/html": [
       "Run data is saved locally in <code>/aiffel/aiffel/aiffelthon/wandb/run-20221113_125830-qddp283n</code>"
      ],
      "text/plain": [
       "<IPython.core.display.HTML object>"
      ]
     },
     "metadata": {},
     "output_type": "display_data"
    },
    {
     "data": {
      "text/html": [
       "Syncing run <strong><a href=\"https://wandb.ai/chhyyi/redzone_LSTM_sweep/runs/qddp283n\" target=\"_blank\">splendid-sweep-20</a></strong> to <a href=\"https://wandb.ai/chhyyi/redzone_LSTM_sweep\" target=\"_blank\">Weights & Biases</a> (<a href=\"https://wandb.me/run\" target=\"_blank\">docs</a>)<br/>Sweep page:  <a href=\"https://wandb.ai/chhyyi/redzone_LSTM_sweep/sweeps/nhh58kej\" target=\"_blank\">https://wandb.ai/chhyyi/redzone_LSTM_sweep/sweeps/nhh58kej</a>"
      ],
      "text/plain": [
       "<IPython.core.display.HTML object>"
      ]
     },
     "metadata": {},
     "output_type": "display_data"
    },
    {
     "name": "stdout",
     "output_type": "stream",
     "text": [
      "loaded dataset. Generating sequences\n",
      "Any missing values exist: False\n",
      "train dataset columns: Index(['풍속(m/s)', '풍향(deg)', '기온(°C)', '수온(°C)', '강수량(mm)', '풍속(m/s).1',\n",
      "       '풍향(deg).1', '기온(°C).1', '수온(°C).1', '강수량(mm).1', '풍속(m/s).2',\n",
      "       '풍향(deg).2', '기온(°C).2', '수온(°C).2', '강수량(mm).2', '풍속(m/s).3',\n",
      "       '풍향(deg).3', '기온(°C).3', '수온(°C).3', '강수량(mm).3', '풍속(m/s).4',\n",
      "       '풍향(deg).4', '기온(°C).4', '수온(°C).4', '강수량(mm).4', '적조발생'],\n",
      "      dtype='object')\n",
      "20106 25133\n",
      "(20106, 72, 25) (5027, 72, 25) (20106, 72) (5027, 72) \n",
      "\n",
      "\n",
      "Epoch 1/8\n",
      "315/315 [==============================] - 3s 7ms/step - loss: 0.2555 - val_loss: 0.2130\n"
     ]
    },
    {
     "name": "stderr",
     "output_type": "stream",
     "text": [
      "WARNING:absl:Found untraced functions such as lstm_cell_layer_call_and_return_conditional_losses, lstm_cell_layer_call_fn, lstm_cell_layer_call_fn, lstm_cell_layer_call_and_return_conditional_losses, lstm_cell_layer_call_and_return_conditional_losses while saving (showing 5 of 5). These functions will not be directly callable after loading.\n"
     ]
    },
    {
     "name": "stdout",
     "output_type": "stream",
     "text": [
      "INFO:tensorflow:Assets written to: /aiffel/aiffel/aiffelthon/wandb/run-20221113_125830-qddp283n/files/model-best/assets\n"
     ]
    },
    {
     "name": "stderr",
     "output_type": "stream",
     "text": [
      "INFO:tensorflow:Assets written to: /aiffel/aiffel/aiffelthon/wandb/run-20221113_125830-qddp283n/files/model-best/assets\n",
      "\u001b[34m\u001b[1mwandb\u001b[0m: Adding directory to artifact (/aiffel/aiffel/aiffelthon/wandb/run-20221113_125830-qddp283n/files/model-best)... Done. 0.0s\n"
     ]
    },
    {
     "name": "stdout",
     "output_type": "stream",
     "text": [
      "sequence accuracy is 0.9097153150763654\n",
      "Epoch 2/8\n",
      "315/315 [==============================] - 2s 6ms/step - loss: 0.1558 - val_loss: 0.2147\n",
      "sequence accuracy is 0.9096821607762526\n",
      "Epoch 3/8\n",
      "315/315 [==============================] - 2s 6ms/step - loss: 0.1398 - val_loss: 0.1939\n"
     ]
    },
    {
     "name": "stderr",
     "output_type": "stream",
     "text": [
      "WARNING:absl:Found untraced functions such as lstm_cell_layer_call_and_return_conditional_losses, lstm_cell_layer_call_fn, lstm_cell_layer_call_fn, lstm_cell_layer_call_and_return_conditional_losses, lstm_cell_layer_call_and_return_conditional_losses while saving (showing 5 of 5). These functions will not be directly callable after loading.\n"
     ]
    },
    {
     "name": "stdout",
     "output_type": "stream",
     "text": [
      "INFO:tensorflow:Assets written to: /aiffel/aiffel/aiffelthon/wandb/run-20221113_125830-qddp283n/files/model-best/assets\n"
     ]
    },
    {
     "name": "stderr",
     "output_type": "stream",
     "text": [
      "INFO:tensorflow:Assets written to: /aiffel/aiffel/aiffelthon/wandb/run-20221113_125830-qddp283n/files/model-best/assets\n",
      "\u001b[34m\u001b[1mwandb\u001b[0m: Adding directory to artifact (/aiffel/aiffel/aiffelthon/wandb/run-20221113_125830-qddp283n/files/model-best)... Done. 0.0s\n"
     ]
    },
    {
     "name": "stdout",
     "output_type": "stream",
     "text": [
      "sequence accuracy is 0.9096738722012245\n",
      "Epoch 4/8\n",
      "315/315 [==============================] - 2s 5ms/step - loss: 0.1286 - val_loss: 0.2329\n",
      "sequence accuracy is 0.9096628207678535\n",
      "Epoch 5/8\n",
      "315/315 [==============================] - 2s 5ms/step - loss: 0.1143 - val_loss: 0.1966\n",
      "sequence accuracy is 0.9094611321088345\n",
      "Epoch 6/8\n",
      "315/315 [==============================] - 2s 6ms/step - loss: 0.0914 - val_loss: 0.1993\n",
      "sequence accuracy is 0.8981941957871936\n",
      "Epoch 7/8\n",
      "315/315 [==============================] - 2s 6ms/step - loss: 0.1215 - val_loss: 0.1854\n"
     ]
    },
    {
     "name": "stderr",
     "output_type": "stream",
     "text": [
      "WARNING:absl:Found untraced functions such as lstm_cell_layer_call_and_return_conditional_losses, lstm_cell_layer_call_fn, lstm_cell_layer_call_fn, lstm_cell_layer_call_and_return_conditional_losses, lstm_cell_layer_call_and_return_conditional_losses while saving (showing 5 of 5). These functions will not be directly callable after loading.\n"
     ]
    },
    {
     "name": "stdout",
     "output_type": "stream",
     "text": [
      "INFO:tensorflow:Assets written to: /aiffel/aiffel/aiffelthon/wandb/run-20221113_125830-qddp283n/files/model-best/assets\n"
     ]
    },
    {
     "name": "stderr",
     "output_type": "stream",
     "text": [
      "INFO:tensorflow:Assets written to: /aiffel/aiffel/aiffelthon/wandb/run-20221113_125830-qddp283n/files/model-best/assets\n",
      "\u001b[34m\u001b[1mwandb\u001b[0m: Adding directory to artifact (/aiffel/aiffel/aiffelthon/wandb/run-20221113_125830-qddp283n/files/model-best)... Done. 0.0s\n"
     ]
    },
    {
     "name": "stdout",
     "output_type": "stream",
     "text": [
      "sequence accuracy is 0.9069938996087793\n",
      "Epoch 8/8\n",
      "315/315 [==============================] - 2s 6ms/step - loss: 0.0946 - val_loss: 0.1873\n",
      "sequence accuracy is 0.9046703357425459\n"
     ]
    },
    {
     "data": {
      "text/html": [
       "Waiting for W&B process to finish... <strong style=\"color:green\">(success).</strong>"
      ],
      "text/plain": [
       "<IPython.core.display.HTML object>"
      ]
     },
     "metadata": {},
     "output_type": "display_data"
    },
    {
     "data": {
      "text/html": [
       "<style>\n",
       "    table.wandb td:nth-child(1) { padding: 0 10px; text-align: left ; width: auto;} td:nth-child(2) {text-align: left ; width: 100%}\n",
       "    .wandb-row { display: flex; flex-direction: row; flex-wrap: wrap; justify-content: flex-start; width: 100% }\n",
       "    .wandb-col { display: flex; flex-direction: column; flex-basis: 100%; flex: 1; padding: 10px; }\n",
       "    </style>\n",
       "<div class=\"wandb-row\"><div class=\"wandb-col\"><h3>Run history:</h3><br/><table class=\"wandb\"><tr><td>Validation Acc :</td><td>▁</td></tr><tr><td>epoch</td><td>▁▂▃▄▅▆▇█</td></tr><tr><td>loss</td><td>█▄▃▃▂▁▂▁</td></tr><tr><td>val_loss</td><td>▅▅▂█▃▃▁▁</td></tr></table><br/></div><div class=\"wandb-col\"><h3>Run summary:</h3><br/><table class=\"wandb\"><tr><td>Validation Acc :</td><td>0.90467</td></tr><tr><td>best_epoch</td><td>6</td></tr><tr><td>best_val_loss</td><td>0.18539</td></tr><tr><td>epoch</td><td>7</td></tr><tr><td>loss</td><td>0.0946</td></tr><tr><td>val_loss</td><td>0.18735</td></tr></table><br/></div></div>"
      ],
      "text/plain": [
       "<IPython.core.display.HTML object>"
      ]
     },
     "metadata": {},
     "output_type": "display_data"
    },
    {
     "data": {
      "text/html": [
       "Synced <strong style=\"color:#cdcd00\">splendid-sweep-20</strong>: <a href=\"https://wandb.ai/chhyyi/redzone_LSTM_sweep/runs/qddp283n\" target=\"_blank\">https://wandb.ai/chhyyi/redzone_LSTM_sweep/runs/qddp283n</a><br/>Synced 5 W&B file(s), 1 media file(s), 10 artifact file(s) and 1 other file(s)"
      ],
      "text/plain": [
       "<IPython.core.display.HTML object>"
      ]
     },
     "metadata": {},
     "output_type": "display_data"
    },
    {
     "data": {
      "text/html": [
       "Find logs at: <code>./wandb/run-20221113_125830-qddp283n/logs</code>"
      ],
      "text/plain": [
       "<IPython.core.display.HTML object>"
      ]
     },
     "metadata": {},
     "output_type": "display_data"
    },
    {
     "name": "stderr",
     "output_type": "stream",
     "text": [
      "\u001b[34m\u001b[1mwandb\u001b[0m: Agent Starting Run: 37qi70rz with config:\n",
      "\u001b[34m\u001b[1mwandb\u001b[0m: \tepochs: 2\n",
      "\u001b[34m\u001b[1mwandb\u001b[0m: \tlearning_rate: 0.0002\n",
      "\u001b[34m\u001b[1mwandb\u001b[0m: \tsplit_train_ratio: 0.5\n",
      "\u001b[34m\u001b[1mwandb\u001b[0m: \tstride_inside_seq: 9\n",
      "\u001b[34m\u001b[1mwandb\u001b[0m: \tunit_LSTM0: 128\n"
     ]
    },
    {
     "data": {
      "text/html": [
       "Tracking run with wandb version 0.13.5"
      ],
      "text/plain": [
       "<IPython.core.display.HTML object>"
      ]
     },
     "metadata": {},
     "output_type": "display_data"
    },
    {
     "data": {
      "text/html": [
       "Run data is saved locally in <code>/aiffel/aiffel/aiffelthon/wandb/run-20221113_130140-37qi70rz</code>"
      ],
      "text/plain": [
       "<IPython.core.display.HTML object>"
      ]
     },
     "metadata": {},
     "output_type": "display_data"
    },
    {
     "data": {
      "text/html": [
       "Syncing run <strong><a href=\"https://wandb.ai/chhyyi/redzone_LSTM_sweep/runs/37qi70rz\" target=\"_blank\">colorful-sweep-21</a></strong> to <a href=\"https://wandb.ai/chhyyi/redzone_LSTM_sweep\" target=\"_blank\">Weights & Biases</a> (<a href=\"https://wandb.me/run\" target=\"_blank\">docs</a>)<br/>Sweep page:  <a href=\"https://wandb.ai/chhyyi/redzone_LSTM_sweep/sweeps/nhh58kej\" target=\"_blank\">https://wandb.ai/chhyyi/redzone_LSTM_sweep/sweeps/nhh58kej</a>"
      ],
      "text/plain": [
       "<IPython.core.display.HTML object>"
      ]
     },
     "metadata": {},
     "output_type": "display_data"
    },
    {
     "name": "stdout",
     "output_type": "stream",
     "text": [
      "loaded dataset. Generating sequences\n",
      "Any missing values exist: False\n",
      "train dataset columns: Index(['풍속(m/s)', '풍향(deg)', '기온(°C)', '수온(°C)', '강수량(mm)', '풍속(m/s).1',\n",
      "       '풍향(deg).1', '기온(°C).1', '수온(°C).1', '강수량(mm).1', '풍속(m/s).2',\n",
      "       '풍향(deg).2', '기온(°C).2', '수온(°C).2', '강수량(mm).2', '풍속(m/s).3',\n",
      "       '풍향(deg).3', '기온(°C).3', '수온(°C).3', '강수량(mm).3', '풍속(m/s).4',\n",
      "       '풍향(deg).4', '기온(°C).4', '수온(°C).4', '강수량(mm).4', '적조발생'],\n",
      "      dtype='object')\n",
      "12566 25133\n",
      "(12566, 8, 25) (12567, 8, 25) (12566, 8) (12567, 8) \n",
      "\n",
      "\n",
      "Epoch 1/2\n",
      "197/197 [==============================] - 3s 7ms/step - loss: 0.3191 - val_loss: 0.2330\n"
     ]
    },
    {
     "name": "stderr",
     "output_type": "stream",
     "text": [
      "WARNING:absl:Found untraced functions such as lstm_cell_layer_call_and_return_conditional_losses, lstm_cell_layer_call_fn, lstm_cell_layer_call_fn, lstm_cell_layer_call_and_return_conditional_losses, lstm_cell_layer_call_and_return_conditional_losses while saving (showing 5 of 5). These functions will not be directly callable after loading.\n"
     ]
    },
    {
     "name": "stdout",
     "output_type": "stream",
     "text": [
      "INFO:tensorflow:Assets written to: /aiffel/aiffel/aiffelthon/wandb/run-20221113_130140-37qi70rz/files/model-best/assets\n"
     ]
    },
    {
     "name": "stderr",
     "output_type": "stream",
     "text": [
      "INFO:tensorflow:Assets written to: /aiffel/aiffel/aiffelthon/wandb/run-20221113_130140-37qi70rz/files/model-best/assets\n",
      "\u001b[34m\u001b[1mwandb\u001b[0m: Adding directory to artifact (/aiffel/aiffel/aiffelthon/wandb/run-20221113_130140-37qi70rz/files/model-best)... Done. 0.0s\n"
     ]
    },
    {
     "name": "stdout",
     "output_type": "stream",
     "text": [
      "sequence accuracy is 0.9251611363093817\n",
      "Epoch 2/2\n",
      "197/197 [==============================] - 1s 5ms/step - loss: 0.1205 - val_loss: 0.2865\n",
      "sequence accuracy is 0.9252606031670247\n"
     ]
    },
    {
     "data": {
      "text/html": [
       "Waiting for W&B process to finish... <strong style=\"color:green\">(success).</strong>"
      ],
      "text/plain": [
       "<IPython.core.display.HTML object>"
      ]
     },
     "metadata": {},
     "output_type": "display_data"
    },
    {
     "data": {
      "text/html": [
       "<style>\n",
       "    table.wandb td:nth-child(1) { padding: 0 10px; text-align: left ; width: auto;} td:nth-child(2) {text-align: left ; width: 100%}\n",
       "    .wandb-row { display: flex; flex-direction: row; flex-wrap: wrap; justify-content: flex-start; width: 100% }\n",
       "    .wandb-col { display: flex; flex-direction: column; flex-basis: 100%; flex: 1; padding: 10px; }\n",
       "    </style>\n",
       "<div class=\"wandb-row\"><div class=\"wandb-col\"><h3>Run history:</h3><br/><table class=\"wandb\"><tr><td>Validation Acc :</td><td>▁</td></tr><tr><td>epoch</td><td>▁█</td></tr><tr><td>loss</td><td>█▁</td></tr><tr><td>val_loss</td><td>▁█</td></tr></table><br/></div><div class=\"wandb-col\"><h3>Run summary:</h3><br/><table class=\"wandb\"><tr><td>Validation Acc :</td><td>0.92526</td></tr><tr><td>best_epoch</td><td>0</td></tr><tr><td>best_val_loss</td><td>0.23303</td></tr><tr><td>epoch</td><td>1</td></tr><tr><td>loss</td><td>0.12052</td></tr><tr><td>val_loss</td><td>0.28646</td></tr></table><br/></div></div>"
      ],
      "text/plain": [
       "<IPython.core.display.HTML object>"
      ]
     },
     "metadata": {},
     "output_type": "display_data"
    },
    {
     "data": {
      "text/html": [
       "Synced <strong style=\"color:#cdcd00\">colorful-sweep-21</strong>: <a href=\"https://wandb.ai/chhyyi/redzone_LSTM_sweep/runs/37qi70rz\" target=\"_blank\">https://wandb.ai/chhyyi/redzone_LSTM_sweep/runs/37qi70rz</a><br/>Synced 5 W&B file(s), 1 media file(s), 4 artifact file(s) and 1 other file(s)"
      ],
      "text/plain": [
       "<IPython.core.display.HTML object>"
      ]
     },
     "metadata": {},
     "output_type": "display_data"
    },
    {
     "data": {
      "text/html": [
       "Find logs at: <code>./wandb/run-20221113_130140-37qi70rz/logs</code>"
      ],
      "text/plain": [
       "<IPython.core.display.HTML object>"
      ]
     },
     "metadata": {},
     "output_type": "display_data"
    },
    {
     "name": "stderr",
     "output_type": "stream",
     "text": [
      "\u001b[34m\u001b[1mwandb\u001b[0m: Agent Starting Run: pzd4310x with config:\n",
      "\u001b[34m\u001b[1mwandb\u001b[0m: \tepochs: 3\n",
      "\u001b[34m\u001b[1mwandb\u001b[0m: \tlearning_rate: 0.001\n",
      "\u001b[34m\u001b[1mwandb\u001b[0m: \tsplit_train_ratio: 0.5\n",
      "\u001b[34m\u001b[1mwandb\u001b[0m: \tstride_inside_seq: 1\n",
      "\u001b[34m\u001b[1mwandb\u001b[0m: \tunit_LSTM0: 128\n"
     ]
    },
    {
     "data": {
      "text/html": [
       "Tracking run with wandb version 0.13.5"
      ],
      "text/plain": [
       "<IPython.core.display.HTML object>"
      ]
     },
     "metadata": {},
     "output_type": "display_data"
    },
    {
     "data": {
      "text/html": [
       "Run data is saved locally in <code>/aiffel/aiffel/aiffelthon/wandb/run-20221113_130231-pzd4310x</code>"
      ],
      "text/plain": [
       "<IPython.core.display.HTML object>"
      ]
     },
     "metadata": {},
     "output_type": "display_data"
    },
    {
     "data": {
      "text/html": [
       "Syncing run <strong><a href=\"https://wandb.ai/chhyyi/redzone_LSTM_sweep/runs/pzd4310x\" target=\"_blank\">dry-sweep-22</a></strong> to <a href=\"https://wandb.ai/chhyyi/redzone_LSTM_sweep\" target=\"_blank\">Weights & Biases</a> (<a href=\"https://wandb.me/run\" target=\"_blank\">docs</a>)<br/>Sweep page:  <a href=\"https://wandb.ai/chhyyi/redzone_LSTM_sweep/sweeps/nhh58kej\" target=\"_blank\">https://wandb.ai/chhyyi/redzone_LSTM_sweep/sweeps/nhh58kej</a>"
      ],
      "text/plain": [
       "<IPython.core.display.HTML object>"
      ]
     },
     "metadata": {},
     "output_type": "display_data"
    },
    {
     "name": "stdout",
     "output_type": "stream",
     "text": [
      "loaded dataset. Generating sequences\n",
      "Any missing values exist: False\n",
      "train dataset columns: Index(['풍속(m/s)', '풍향(deg)', '기온(°C)', '수온(°C)', '강수량(mm)', '풍속(m/s).1',\n",
      "       '풍향(deg).1', '기온(°C).1', '수온(°C).1', '강수량(mm).1', '풍속(m/s).2',\n",
      "       '풍향(deg).2', '기온(°C).2', '수온(°C).2', '강수량(mm).2', '풍속(m/s).3',\n",
      "       '풍향(deg).3', '기온(°C).3', '수온(°C).3', '강수량(mm).3', '풍속(m/s).4',\n",
      "       '풍향(deg).4', '기온(°C).4', '수온(°C).4', '강수량(mm).4', '적조발생'],\n",
      "      dtype='object')\n",
      "12566 25133\n",
      "(12566, 72, 25) (12567, 72, 25) (12566, 72) (12567, 72) \n",
      "\n",
      "\n",
      "Epoch 1/3\n",
      "197/197 [==============================] - 3s 11ms/step - loss: 0.1755 - val_loss: 0.3549\n"
     ]
    },
    {
     "name": "stderr",
     "output_type": "stream",
     "text": [
      "WARNING:absl:Found untraced functions such as lstm_cell_layer_call_and_return_conditional_losses, lstm_cell_layer_call_fn, lstm_cell_layer_call_fn, lstm_cell_layer_call_and_return_conditional_losses, lstm_cell_layer_call_and_return_conditional_losses while saving (showing 5 of 5). These functions will not be directly callable after loading.\n"
     ]
    },
    {
     "name": "stdout",
     "output_type": "stream",
     "text": [
      "INFO:tensorflow:Assets written to: /aiffel/aiffel/aiffelthon/wandb/run-20221113_130231-pzd4310x/files/model-best/assets\n"
     ]
    },
    {
     "name": "stderr",
     "output_type": "stream",
     "text": [
      "INFO:tensorflow:Assets written to: /aiffel/aiffel/aiffelthon/wandb/run-20221113_130231-pzd4310x/files/model-best/assets\n",
      "\u001b[34m\u001b[1mwandb\u001b[0m: Adding directory to artifact (/aiffel/aiffel/aiffelthon/wandb/run-20221113_130231-pzd4310x/files/model-best)... Done. 0.0s\n"
     ]
    },
    {
     "name": "stdout",
     "output_type": "stream",
     "text": [
      "sequence accuracy is 0.9235099864725074\n",
      "Epoch 2/3\n",
      "197/197 [==============================] - 2s 9ms/step - loss: 0.1038 - val_loss: 0.3596\n",
      "sequence accuracy is 0.9260751262123905\n",
      "Epoch 3/3\n",
      "197/197 [==============================] - 2s 9ms/step - loss: 0.0988 - val_loss: 0.2996\n"
     ]
    },
    {
     "name": "stderr",
     "output_type": "stream",
     "text": [
      "WARNING:absl:Found untraced functions such as lstm_cell_layer_call_and_return_conditional_losses, lstm_cell_layer_call_fn, lstm_cell_layer_call_fn, lstm_cell_layer_call_and_return_conditional_losses, lstm_cell_layer_call_and_return_conditional_losses while saving (showing 5 of 5). These functions will not be directly callable after loading.\n"
     ]
    },
    {
     "name": "stdout",
     "output_type": "stream",
     "text": [
      "INFO:tensorflow:Assets written to: /aiffel/aiffel/aiffelthon/wandb/run-20221113_130231-pzd4310x/files/model-best/assets\n"
     ]
    },
    {
     "name": "stderr",
     "output_type": "stream",
     "text": [
      "INFO:tensorflow:Assets written to: /aiffel/aiffel/aiffelthon/wandb/run-20221113_130231-pzd4310x/files/model-best/assets\n",
      "\u001b[34m\u001b[1mwandb\u001b[0m: Adding directory to artifact (/aiffel/aiffel/aiffelthon/wandb/run-20221113_130231-pzd4310x/files/model-best)... Done. 0.1s\n"
     ]
    },
    {
     "name": "stdout",
     "output_type": "stream",
     "text": [
      "sequence accuracy is 0.9214786522019752\n"
     ]
    },
    {
     "data": {
      "text/html": [
       "Waiting for W&B process to finish... <strong style=\"color:green\">(success).</strong>"
      ],
      "text/plain": [
       "<IPython.core.display.HTML object>"
      ]
     },
     "metadata": {},
     "output_type": "display_data"
    },
    {
     "data": {
      "text/html": [
       "<style>\n",
       "    table.wandb td:nth-child(1) { padding: 0 10px; text-align: left ; width: auto;} td:nth-child(2) {text-align: left ; width: 100%}\n",
       "    .wandb-row { display: flex; flex-direction: row; flex-wrap: wrap; justify-content: flex-start; width: 100% }\n",
       "    .wandb-col { display: flex; flex-direction: column; flex-basis: 100%; flex: 1; padding: 10px; }\n",
       "    </style>\n",
       "<div class=\"wandb-row\"><div class=\"wandb-col\"><h3>Run history:</h3><br/><table class=\"wandb\"><tr><td>Validation Acc :</td><td>▁</td></tr><tr><td>epoch</td><td>▁▅█</td></tr><tr><td>loss</td><td>█▁▁</td></tr><tr><td>val_loss</td><td>▇█▁</td></tr></table><br/></div><div class=\"wandb-col\"><h3>Run summary:</h3><br/><table class=\"wandb\"><tr><td>Validation Acc :</td><td>0.92148</td></tr><tr><td>best_epoch</td><td>2</td></tr><tr><td>best_val_loss</td><td>0.29956</td></tr><tr><td>epoch</td><td>2</td></tr><tr><td>loss</td><td>0.0988</td></tr><tr><td>val_loss</td><td>0.29956</td></tr></table><br/></div></div>"
      ],
      "text/plain": [
       "<IPython.core.display.HTML object>"
      ]
     },
     "metadata": {},
     "output_type": "display_data"
    },
    {
     "data": {
      "text/html": [
       "Synced <strong style=\"color:#cdcd00\">dry-sweep-22</strong>: <a href=\"https://wandb.ai/chhyyi/redzone_LSTM_sweep/runs/pzd4310x\" target=\"_blank\">https://wandb.ai/chhyyi/redzone_LSTM_sweep/runs/pzd4310x</a><br/>Synced 5 W&B file(s), 1 media file(s), 7 artifact file(s) and 1 other file(s)"
      ],
      "text/plain": [
       "<IPython.core.display.HTML object>"
      ]
     },
     "metadata": {},
     "output_type": "display_data"
    },
    {
     "data": {
      "text/html": [
       "Find logs at: <code>./wandb/run-20221113_130231-pzd4310x/logs</code>"
      ],
      "text/plain": [
       "<IPython.core.display.HTML object>"
      ]
     },
     "metadata": {},
     "output_type": "display_data"
    },
    {
     "name": "stderr",
     "output_type": "stream",
     "text": [
      "\u001b[34m\u001b[1mwandb\u001b[0m: Agent Starting Run: 813kr8go with config:\n",
      "\u001b[34m\u001b[1mwandb\u001b[0m: \tepochs: 8\n",
      "\u001b[34m\u001b[1mwandb\u001b[0m: \tlearning_rate: 0.01\n",
      "\u001b[34m\u001b[1mwandb\u001b[0m: \tsplit_train_ratio: 0.5\n",
      "\u001b[34m\u001b[1mwandb\u001b[0m: \tstride_inside_seq: 3\n",
      "\u001b[34m\u001b[1mwandb\u001b[0m: \tunit_LSTM0: 32\n"
     ]
    },
    {
     "data": {
      "application/vnd.jupyter.widget-view+json": {
       "model_id": "e4cd3f30087b47bb99455fbcf82e80b7",
       "version_major": 2,
       "version_minor": 0
      },
      "text/plain": [
       "VBox(children=(Label(value='Waiting for wandb.init()...\\r'), FloatProgress(value=0.016669416999987637, max=1.0…"
      ]
     },
     "metadata": {},
     "output_type": "display_data"
    },
    {
     "data": {
      "text/html": [
       "Tracking run with wandb version 0.13.5"
      ],
      "text/plain": [
       "<IPython.core.display.HTML object>"
      ]
     },
     "metadata": {},
     "output_type": "display_data"
    },
    {
     "data": {
      "text/html": [
       "Run data is saved locally in <code>/aiffel/aiffel/aiffelthon/wandb/run-20221113_130502-813kr8go</code>"
      ],
      "text/plain": [
       "<IPython.core.display.HTML object>"
      ]
     },
     "metadata": {},
     "output_type": "display_data"
    },
    {
     "data": {
      "text/html": [
       "Syncing run <strong><a href=\"https://wandb.ai/chhyyi/redzone_LSTM_sweep/runs/813kr8go\" target=\"_blank\">denim-sweep-23</a></strong> to <a href=\"https://wandb.ai/chhyyi/redzone_LSTM_sweep\" target=\"_blank\">Weights & Biases</a> (<a href=\"https://wandb.me/run\" target=\"_blank\">docs</a>)<br/>Sweep page:  <a href=\"https://wandb.ai/chhyyi/redzone_LSTM_sweep/sweeps/nhh58kej\" target=\"_blank\">https://wandb.ai/chhyyi/redzone_LSTM_sweep/sweeps/nhh58kej</a>"
      ],
      "text/plain": [
       "<IPython.core.display.HTML object>"
      ]
     },
     "metadata": {},
     "output_type": "display_data"
    },
    {
     "name": "stdout",
     "output_type": "stream",
     "text": [
      "loaded dataset. Generating sequences\n",
      "Any missing values exist: False\n",
      "train dataset columns: Index(['풍속(m/s)', '풍향(deg)', '기온(°C)', '수온(°C)', '강수량(mm)', '풍속(m/s).1',\n",
      "       '풍향(deg).1', '기온(°C).1', '수온(°C).1', '강수량(mm).1', '풍속(m/s).2',\n",
      "       '풍향(deg).2', '기온(°C).2', '수온(°C).2', '강수량(mm).2', '풍속(m/s).3',\n",
      "       '풍향(deg).3', '기온(°C).3', '수온(°C).3', '강수량(mm).3', '풍속(m/s).4',\n",
      "       '풍향(deg).4', '기온(°C).4', '수온(°C).4', '강수량(mm).4', '적조발생'],\n",
      "      dtype='object')\n",
      "12566 25133\n",
      "(12566, 24, 25) (12567, 24, 25) (12566, 24) (12567, 24) \n",
      "\n",
      "\n",
      "Epoch 1/8\n",
      "197/197 [==============================] - 3s 7ms/step - loss: 0.1379 - val_loss: 0.3466\n"
     ]
    },
    {
     "name": "stderr",
     "output_type": "stream",
     "text": [
      "WARNING:absl:Found untraced functions such as lstm_cell_layer_call_and_return_conditional_losses, lstm_cell_layer_call_fn, lstm_cell_layer_call_fn, lstm_cell_layer_call_and_return_conditional_losses, lstm_cell_layer_call_and_return_conditional_losses while saving (showing 5 of 5). These functions will not be directly callable after loading.\n"
     ]
    },
    {
     "name": "stdout",
     "output_type": "stream",
     "text": [
      "INFO:tensorflow:Assets written to: /aiffel/aiffel/aiffelthon/wandb/run-20221113_130502-813kr8go/files/model-best/assets\n"
     ]
    },
    {
     "name": "stderr",
     "output_type": "stream",
     "text": [
      "INFO:tensorflow:Assets written to: /aiffel/aiffel/aiffelthon/wandb/run-20221113_130502-813kr8go/files/model-best/assets\n",
      "\u001b[34m\u001b[1mwandb\u001b[0m: Adding directory to artifact (/aiffel/aiffel/aiffelthon/wandb/run-20221113_130502-813kr8go/files/model-best)... Done. 0.0s\n"
     ]
    },
    {
     "name": "stdout",
     "output_type": "stream",
     "text": [
      "sequence accuracy is 0.9230988567942495\n",
      "Epoch 2/8\n",
      "197/197 [==============================] - 1s 6ms/step - loss: 0.1052 - val_loss: 0.3830\n",
      "sequence accuracy is 0.9272466247579639\n",
      "Epoch 3/8\n",
      "197/197 [==============================] - 1s 6ms/step - loss: 0.0815 - val_loss: 0.4854\n",
      "sequence accuracy is 0.9129366595050529\n",
      "Epoch 4/8\n",
      "197/197 [==============================] - 1s 6ms/step - loss: 0.0634 - val_loss: 0.4764\n",
      "sequence accuracy is 0.9167362934670168\n",
      "Epoch 5/8\n",
      "197/197 [==============================] - 1s 6ms/step - loss: 0.0400 - val_loss: 0.5473\n",
      "sequence accuracy is 0.9273759316728999\n",
      "Epoch 6/8\n",
      "197/197 [==============================] - 1s 6ms/step - loss: 0.0267 - val_loss: 0.6189\n",
      "sequence accuracy is 0.9206619187819952\n",
      "Epoch 7/8\n",
      "197/197 [==============================] - 1s 5ms/step - loss: 0.0216 - val_loss: 0.6664\n",
      "sequence accuracy is 0.9202706824752659\n",
      "Epoch 8/8\n",
      "197/197 [==============================] - 1s 5ms/step - loss: 0.0156 - val_loss: 0.6265\n",
      "sequence accuracy is 0.9263149518580409\n"
     ]
    },
    {
     "data": {
      "text/html": [
       "Waiting for W&B process to finish... <strong style=\"color:green\">(success).</strong>"
      ],
      "text/plain": [
       "<IPython.core.display.HTML object>"
      ]
     },
     "metadata": {},
     "output_type": "display_data"
    },
    {
     "data": {
      "application/vnd.jupyter.widget-view+json": {
       "model_id": "e3d9e64cc54c490285700fb96d5f5aaa",
       "version_major": 2,
       "version_minor": 0
      },
      "text/plain": [
       "VBox(children=(Label(value='1.018 MB of 1.018 MB uploaded (0.000 MB deduped)\\r'), FloatProgress(value=1.0, max…"
      ]
     },
     "metadata": {},
     "output_type": "display_data"
    },
    {
     "data": {
      "text/html": [
       "<style>\n",
       "    table.wandb td:nth-child(1) { padding: 0 10px; text-align: left ; width: auto;} td:nth-child(2) {text-align: left ; width: 100%}\n",
       "    .wandb-row { display: flex; flex-direction: row; flex-wrap: wrap; justify-content: flex-start; width: 100% }\n",
       "    .wandb-col { display: flex; flex-direction: column; flex-basis: 100%; flex: 1; padding: 10px; }\n",
       "    </style>\n",
       "<div class=\"wandb-row\"><div class=\"wandb-col\"><h3>Run history:</h3><br/><table class=\"wandb\"><tr><td>Validation Acc :</td><td>▁</td></tr><tr><td>epoch</td><td>▁▂▃▄▅▆▇█</td></tr><tr><td>loss</td><td>█▆▅▄▂▂▁▁</td></tr><tr><td>val_loss</td><td>▁▂▄▄▅▇█▇</td></tr></table><br/></div><div class=\"wandb-col\"><h3>Run summary:</h3><br/><table class=\"wandb\"><tr><td>Validation Acc :</td><td>0.92631</td></tr><tr><td>best_epoch</td><td>0</td></tr><tr><td>best_val_loss</td><td>0.34661</td></tr><tr><td>epoch</td><td>7</td></tr><tr><td>loss</td><td>0.01557</td></tr><tr><td>val_loss</td><td>0.62651</td></tr></table><br/></div></div>"
      ],
      "text/plain": [
       "<IPython.core.display.HTML object>"
      ]
     },
     "metadata": {},
     "output_type": "display_data"
    },
    {
     "data": {
      "text/html": [
       "Synced <strong style=\"color:#cdcd00\">denim-sweep-23</strong>: <a href=\"https://wandb.ai/chhyyi/redzone_LSTM_sweep/runs/813kr8go\" target=\"_blank\">https://wandb.ai/chhyyi/redzone_LSTM_sweep/runs/813kr8go</a><br/>Synced 5 W&B file(s), 1 media file(s), 4 artifact file(s) and 1 other file(s)"
      ],
      "text/plain": [
       "<IPython.core.display.HTML object>"
      ]
     },
     "metadata": {},
     "output_type": "display_data"
    },
    {
     "data": {
      "text/html": [
       "Find logs at: <code>./wandb/run-20221113_130502-813kr8go/logs</code>"
      ],
      "text/plain": [
       "<IPython.core.display.HTML object>"
      ]
     },
     "metadata": {},
     "output_type": "display_data"
    },
    {
     "name": "stderr",
     "output_type": "stream",
     "text": [
      "\u001b[34m\u001b[1mwandb\u001b[0m: Agent Starting Run: epf4zuvc with config:\n",
      "\u001b[34m\u001b[1mwandb\u001b[0m: \tepochs: 12\n",
      "\u001b[34m\u001b[1mwandb\u001b[0m: \tlearning_rate: 0.001\n",
      "\u001b[34m\u001b[1mwandb\u001b[0m: \tsplit_train_ratio: 0.5\n",
      "\u001b[34m\u001b[1mwandb\u001b[0m: \tstride_inside_seq: 3\n",
      "\u001b[34m\u001b[1mwandb\u001b[0m: \tunit_LSTM0: 64\n"
     ]
    },
    {
     "data": {
      "text/html": [
       "Tracking run with wandb version 0.13.5"
      ],
      "text/plain": [
       "<IPython.core.display.HTML object>"
      ]
     },
     "metadata": {},
     "output_type": "display_data"
    },
    {
     "data": {
      "text/html": [
       "Run data is saved locally in <code>/aiffel/aiffel/aiffelthon/wandb/run-20221113_130633-epf4zuvc</code>"
      ],
      "text/plain": [
       "<IPython.core.display.HTML object>"
      ]
     },
     "metadata": {},
     "output_type": "display_data"
    },
    {
     "data": {
      "text/html": [
       "Syncing run <strong><a href=\"https://wandb.ai/chhyyi/redzone_LSTM_sweep/runs/epf4zuvc\" target=\"_blank\">leafy-sweep-24</a></strong> to <a href=\"https://wandb.ai/chhyyi/redzone_LSTM_sweep\" target=\"_blank\">Weights & Biases</a> (<a href=\"https://wandb.me/run\" target=\"_blank\">docs</a>)<br/>Sweep page:  <a href=\"https://wandb.ai/chhyyi/redzone_LSTM_sweep/sweeps/nhh58kej\" target=\"_blank\">https://wandb.ai/chhyyi/redzone_LSTM_sweep/sweeps/nhh58kej</a>"
      ],
      "text/plain": [
       "<IPython.core.display.HTML object>"
      ]
     },
     "metadata": {},
     "output_type": "display_data"
    },
    {
     "name": "stdout",
     "output_type": "stream",
     "text": [
      "loaded dataset. Generating sequences\n",
      "Any missing values exist: False\n",
      "train dataset columns: Index(['풍속(m/s)', '풍향(deg)', '기온(°C)', '수온(°C)', '강수량(mm)', '풍속(m/s).1',\n",
      "       '풍향(deg).1', '기온(°C).1', '수온(°C).1', '강수량(mm).1', '풍속(m/s).2',\n",
      "       '풍향(deg).2', '기온(°C).2', '수온(°C).2', '강수량(mm).2', '풍속(m/s).3',\n",
      "       '풍향(deg).3', '기온(°C).3', '수온(°C).3', '강수량(mm).3', '풍속(m/s).4',\n",
      "       '풍향(deg).4', '기온(°C).4', '수온(°C).4', '강수량(mm).4', '적조발생'],\n",
      "      dtype='object')\n",
      "12566 25133\n",
      "(12566, 24, 25) (12567, 24, 25) (12566, 24) (12567, 24) \n",
      "\n",
      "\n",
      "Epoch 1/12\n",
      "197/197 [==============================] - 3s 8ms/step - loss: 0.2000 - val_loss: 0.2793\n"
     ]
    },
    {
     "name": "stderr",
     "output_type": "stream",
     "text": [
      "WARNING:absl:Found untraced functions such as lstm_cell_layer_call_and_return_conditional_losses, lstm_cell_layer_call_fn, lstm_cell_layer_call_fn, lstm_cell_layer_call_and_return_conditional_losses, lstm_cell_layer_call_and_return_conditional_losses while saving (showing 5 of 5). These functions will not be directly callable after loading.\n"
     ]
    },
    {
     "name": "stdout",
     "output_type": "stream",
     "text": [
      "INFO:tensorflow:Assets written to: /aiffel/aiffel/aiffelthon/wandb/run-20221113_130633-epf4zuvc/files/model-best/assets\n"
     ]
    },
    {
     "name": "stderr",
     "output_type": "stream",
     "text": [
      "INFO:tensorflow:Assets written to: /aiffel/aiffel/aiffelthon/wandb/run-20221113_130633-epf4zuvc/files/model-best/assets\n",
      "\u001b[34m\u001b[1mwandb\u001b[0m: Adding directory to artifact (/aiffel/aiffel/aiffelthon/wandb/run-20221113_130633-epf4zuvc/files/model-best)... Done. 0.0s\n"
     ]
    },
    {
     "name": "stdout",
     "output_type": "stream",
     "text": [
      "sequence accuracy is 0.9261558048858121\n",
      "Epoch 2/12\n",
      "197/197 [==============================] - 1s 6ms/step - loss: 0.1013 - val_loss: 0.3299\n",
      "sequence accuracy is 0.9126879923609453\n",
      "Epoch 3/12\n",
      "197/197 [==============================] - 1s 6ms/step - loss: 0.0853 - val_loss: 0.3581\n",
      "sequence accuracy is 0.8943197793161985\n",
      "Epoch 4/12\n",
      "197/197 [==============================] - 1s 5ms/step - loss: 0.0679 - val_loss: 0.3867\n",
      "sequence accuracy is 0.9225120023341556\n",
      "Epoch 5/12\n",
      "197/197 [==============================] - 1s 6ms/step - loss: 0.0497 - val_loss: 0.4253\n",
      "sequence accuracy is 0.9227407761067346\n",
      "Epoch 6/12\n",
      "197/197 [==============================] - 1s 5ms/step - loss: 0.0359 - val_loss: 0.4453\n",
      "sequence accuracy is 0.9217494230922256\n",
      "Epoch 7/12\n",
      "197/197 [==============================] - 1s 6ms/step - loss: 0.0220 - val_loss: 0.4902\n",
      "sequence accuracy is 0.9297863451897828\n",
      "Epoch 8/12\n",
      "197/197 [==============================] - 1s 5ms/step - loss: 0.0192 - val_loss: 0.4813\n",
      "sequence accuracy is 0.9262619028672979\n",
      "Epoch 9/12\n",
      "197/197 [==============================] - 1s 5ms/step - loss: 0.0173 - val_loss: 0.4841\n",
      "sequence accuracy is 0.9298559719901329\n",
      "Epoch 10/12\n",
      "197/197 [==============================] - 1s 5ms/step - loss: 0.0135 - val_loss: 0.5464\n",
      "sequence accuracy is 0.9316563221134718\n",
      "Epoch 11/12\n",
      "197/197 [==============================] - 1s 5ms/step - loss: 0.0098 - val_loss: 0.5678\n",
      "sequence accuracy is 0.920240842417973\n",
      "Epoch 12/12\n",
      "197/197 [==============================] - 1s 6ms/step - loss: 0.0096 - val_loss: 0.5662\n",
      "sequence accuracy is 0.9313977082835999\n"
     ]
    },
    {
     "data": {
      "text/html": [
       "Waiting for W&B process to finish... <strong style=\"color:green\">(success).</strong>"
      ],
      "text/plain": [
       "<IPython.core.display.HTML object>"
      ]
     },
     "metadata": {},
     "output_type": "display_data"
    },
    {
     "data": {
      "text/html": [
       "<style>\n",
       "    table.wandb td:nth-child(1) { padding: 0 10px; text-align: left ; width: auto;} td:nth-child(2) {text-align: left ; width: 100%}\n",
       "    .wandb-row { display: flex; flex-direction: row; flex-wrap: wrap; justify-content: flex-start; width: 100% }\n",
       "    .wandb-col { display: flex; flex-direction: column; flex-basis: 100%; flex: 1; padding: 10px; }\n",
       "    </style>\n",
       "<div class=\"wandb-row\"><div class=\"wandb-col\"><h3>Run history:</h3><br/><table class=\"wandb\"><tr><td>Validation Acc :</td><td>▁</td></tr><tr><td>epoch</td><td>▁▂▂▃▄▄▅▅▆▇▇█</td></tr><tr><td>loss</td><td>█▄▄▃▂▂▁▁▁▁▁▁</td></tr><tr><td>val_loss</td><td>▁▂▃▄▅▅▆▆▆▇██</td></tr></table><br/></div><div class=\"wandb-col\"><h3>Run summary:</h3><br/><table class=\"wandb\"><tr><td>Validation Acc :</td><td>0.9314</td></tr><tr><td>best_epoch</td><td>0</td></tr><tr><td>best_val_loss</td><td>0.27931</td></tr><tr><td>epoch</td><td>11</td></tr><tr><td>loss</td><td>0.00964</td></tr><tr><td>val_loss</td><td>0.56615</td></tr></table><br/></div></div>"
      ],
      "text/plain": [
       "<IPython.core.display.HTML object>"
      ]
     },
     "metadata": {},
     "output_type": "display_data"
    },
    {
     "data": {
      "text/html": [
       "Synced <strong style=\"color:#cdcd00\">leafy-sweep-24</strong>: <a href=\"https://wandb.ai/chhyyi/redzone_LSTM_sweep/runs/epf4zuvc\" target=\"_blank\">https://wandb.ai/chhyyi/redzone_LSTM_sweep/runs/epf4zuvc</a><br/>Synced 5 W&B file(s), 1 media file(s), 4 artifact file(s) and 1 other file(s)"
      ],
      "text/plain": [
       "<IPython.core.display.HTML object>"
      ]
     },
     "metadata": {},
     "output_type": "display_data"
    },
    {
     "data": {
      "text/html": [
       "Find logs at: <code>./wandb/run-20221113_130633-epf4zuvc/logs</code>"
      ],
      "text/plain": [
       "<IPython.core.display.HTML object>"
      ]
     },
     "metadata": {},
     "output_type": "display_data"
    },
    {
     "name": "stderr",
     "output_type": "stream",
     "text": [
      "\u001b[34m\u001b[1mwandb\u001b[0m: Agent Starting Run: x0l02lsm with config:\n",
      "\u001b[34m\u001b[1mwandb\u001b[0m: \tepochs: 8\n",
      "\u001b[34m\u001b[1mwandb\u001b[0m: \tlearning_rate: 0.0002\n",
      "\u001b[34m\u001b[1mwandb\u001b[0m: \tsplit_train_ratio: 0.8\n",
      "\u001b[34m\u001b[1mwandb\u001b[0m: \tstride_inside_seq: 3\n",
      "\u001b[34m\u001b[1mwandb\u001b[0m: \tunit_LSTM0: 128\n"
     ]
    },
    {
     "data": {
      "application/vnd.jupyter.widget-view+json": {
       "model_id": "89b6b795333a48f2921c210d7f0f8c98",
       "version_major": 2,
       "version_minor": 0
      },
      "text/plain": [
       "VBox(children=(Label(value='Waiting for wandb.init()...\\r'), FloatProgress(value=0.016670307316659697, max=1.0…"
      ]
     },
     "metadata": {},
     "output_type": "display_data"
    },
    {
     "data": {
      "text/html": [
       "Tracking run with wandb version 0.13.5"
      ],
      "text/plain": [
       "<IPython.core.display.HTML object>"
      ]
     },
     "metadata": {},
     "output_type": "display_data"
    },
    {
     "data": {
      "text/html": [
       "Run data is saved locally in <code>/aiffel/aiffel/aiffelthon/wandb/run-20221113_130827-x0l02lsm</code>"
      ],
      "text/plain": [
       "<IPython.core.display.HTML object>"
      ]
     },
     "metadata": {},
     "output_type": "display_data"
    },
    {
     "data": {
      "text/html": [
       "Syncing run <strong><a href=\"https://wandb.ai/chhyyi/redzone_LSTM_sweep/runs/x0l02lsm\" target=\"_blank\">snowy-sweep-25</a></strong> to <a href=\"https://wandb.ai/chhyyi/redzone_LSTM_sweep\" target=\"_blank\">Weights & Biases</a> (<a href=\"https://wandb.me/run\" target=\"_blank\">docs</a>)<br/>Sweep page:  <a href=\"https://wandb.ai/chhyyi/redzone_LSTM_sweep/sweeps/nhh58kej\" target=\"_blank\">https://wandb.ai/chhyyi/redzone_LSTM_sweep/sweeps/nhh58kej</a>"
      ],
      "text/plain": [
       "<IPython.core.display.HTML object>"
      ]
     },
     "metadata": {},
     "output_type": "display_data"
    },
    {
     "name": "stdout",
     "output_type": "stream",
     "text": [
      "loaded dataset. Generating sequences\n",
      "Any missing values exist: False\n",
      "train dataset columns: Index(['풍속(m/s)', '풍향(deg)', '기온(°C)', '수온(°C)', '강수량(mm)', '풍속(m/s).1',\n",
      "       '풍향(deg).1', '기온(°C).1', '수온(°C).1', '강수량(mm).1', '풍속(m/s).2',\n",
      "       '풍향(deg).2', '기온(°C).2', '수온(°C).2', '강수량(mm).2', '풍속(m/s).3',\n",
      "       '풍향(deg).3', '기온(°C).3', '수온(°C).3', '강수량(mm).3', '풍속(m/s).4',\n",
      "       '풍향(deg).4', '기온(°C).4', '수온(°C).4', '강수량(mm).4', '적조발생'],\n",
      "      dtype='object')\n",
      "20106 25133\n",
      "(20106, 24, 25) (5027, 24, 25) (20106, 24) (5027, 24) \n",
      "\n",
      "\n",
      "Epoch 1/8\n",
      "315/315 [==============================] - 4s 6ms/step - loss: 0.2347 - val_loss: 0.2224\n"
     ]
    },
    {
     "name": "stderr",
     "output_type": "stream",
     "text": [
      "WARNING:absl:Found untraced functions such as lstm_cell_layer_call_and_return_conditional_losses, lstm_cell_layer_call_fn, lstm_cell_layer_call_fn, lstm_cell_layer_call_and_return_conditional_losses, lstm_cell_layer_call_and_return_conditional_losses while saving (showing 5 of 5). These functions will not be directly callable after loading.\n"
     ]
    },
    {
     "name": "stdout",
     "output_type": "stream",
     "text": [
      "INFO:tensorflow:Assets written to: /aiffel/aiffel/aiffelthon/wandb/run-20221113_130827-x0l02lsm/files/model-best/assets\n"
     ]
    },
    {
     "name": "stderr",
     "output_type": "stream",
     "text": [
      "INFO:tensorflow:Assets written to: /aiffel/aiffel/aiffelthon/wandb/run-20221113_130827-x0l02lsm/files/model-best/assets\n",
      "\u001b[34m\u001b[1mwandb\u001b[0m: Adding directory to artifact (/aiffel/aiffel/aiffelthon/wandb/run-20221113_130827-x0l02lsm/files/model-best)... Done. 0.0s\n"
     ]
    },
    {
     "name": "stdout",
     "output_type": "stream",
     "text": [
      "sequence accuracy is 0.9011338770638552\n",
      "Epoch 2/8\n",
      "315/315 [==============================] - 1s 5ms/step - loss: 0.1037 - val_loss: 0.2079\n"
     ]
    },
    {
     "name": "stderr",
     "output_type": "stream",
     "text": [
      "WARNING:absl:Found untraced functions such as lstm_cell_layer_call_and_return_conditional_losses, lstm_cell_layer_call_fn, lstm_cell_layer_call_fn, lstm_cell_layer_call_and_return_conditional_losses, lstm_cell_layer_call_and_return_conditional_losses while saving (showing 5 of 5). These functions will not be directly callable after loading.\n"
     ]
    },
    {
     "name": "stdout",
     "output_type": "stream",
     "text": [
      "INFO:tensorflow:Assets written to: /aiffel/aiffel/aiffelthon/wandb/run-20221113_130827-x0l02lsm/files/model-best/assets\n"
     ]
    },
    {
     "name": "stderr",
     "output_type": "stream",
     "text": [
      "INFO:tensorflow:Assets written to: /aiffel/aiffel/aiffelthon/wandb/run-20221113_130827-x0l02lsm/files/model-best/assets\n",
      "\u001b[34m\u001b[1mwandb\u001b[0m: Adding directory to artifact (/aiffel/aiffel/aiffelthon/wandb/run-20221113_130827-x0l02lsm/files/model-best)... Done. 0.0s\n"
     ]
    },
    {
     "name": "stdout",
     "output_type": "stream",
     "text": [
      "sequence accuracy is 0.902087063192096\n",
      "Epoch 3/8\n",
      "315/315 [==============================] - 2s 5ms/step - loss: 0.0893 - val_loss: 0.1966\n"
     ]
    },
    {
     "name": "stderr",
     "output_type": "stream",
     "text": [
      "WARNING:absl:Found untraced functions such as lstm_cell_layer_call_and_return_conditional_losses, lstm_cell_layer_call_fn, lstm_cell_layer_call_fn, lstm_cell_layer_call_and_return_conditional_losses, lstm_cell_layer_call_and_return_conditional_losses while saving (showing 5 of 5). These functions will not be directly callable after loading.\n"
     ]
    },
    {
     "name": "stdout",
     "output_type": "stream",
     "text": [
      "INFO:tensorflow:Assets written to: /aiffel/aiffel/aiffelthon/wandb/run-20221113_130827-x0l02lsm/files/model-best/assets\n"
     ]
    },
    {
     "name": "stderr",
     "output_type": "stream",
     "text": [
      "INFO:tensorflow:Assets written to: /aiffel/aiffel/aiffelthon/wandb/run-20221113_130827-x0l02lsm/files/model-best/assets\n",
      "\u001b[34m\u001b[1mwandb\u001b[0m: Adding directory to artifact (/aiffel/aiffel/aiffelthon/wandb/run-20221113_130827-x0l02lsm/files/model-best)... Done. 0.0s\n"
     ]
    },
    {
     "name": "stdout",
     "output_type": "stream",
     "text": [
      "sequence accuracy is 0.9029490749950269\n",
      "Epoch 4/8\n",
      "315/315 [==============================] - 2s 5ms/step - loss: 0.0768 - val_loss: 0.1899\n"
     ]
    },
    {
     "name": "stderr",
     "output_type": "stream",
     "text": [
      "WARNING:absl:Found untraced functions such as lstm_cell_layer_call_and_return_conditional_losses, lstm_cell_layer_call_fn, lstm_cell_layer_call_fn, lstm_cell_layer_call_and_return_conditional_losses, lstm_cell_layer_call_and_return_conditional_losses while saving (showing 5 of 5). These functions will not be directly callable after loading.\n"
     ]
    },
    {
     "name": "stdout",
     "output_type": "stream",
     "text": [
      "INFO:tensorflow:Assets written to: /aiffel/aiffel/aiffelthon/wandb/run-20221113_130827-x0l02lsm/files/model-best/assets\n"
     ]
    },
    {
     "name": "stderr",
     "output_type": "stream",
     "text": [
      "INFO:tensorflow:Assets written to: /aiffel/aiffel/aiffelthon/wandb/run-20221113_130827-x0l02lsm/files/model-best/assets\n",
      "\u001b[34m\u001b[1mwandb\u001b[0m: Adding directory to artifact (/aiffel/aiffel/aiffelthon/wandb/run-20221113_130827-x0l02lsm/files/model-best)... Done. 0.0s\n"
     ]
    },
    {
     "name": "stdout",
     "output_type": "stream",
     "text": [
      "sequence accuracy is 0.8956551289702275\n",
      "Epoch 5/8\n",
      "315/315 [==============================] - 2s 5ms/step - loss: 0.0651 - val_loss: 0.1787\n"
     ]
    },
    {
     "name": "stderr",
     "output_type": "stream",
     "text": [
      "WARNING:absl:Found untraced functions such as lstm_cell_layer_call_and_return_conditional_losses, lstm_cell_layer_call_fn, lstm_cell_layer_call_fn, lstm_cell_layer_call_and_return_conditional_losses, lstm_cell_layer_call_and_return_conditional_losses while saving (showing 5 of 5). These functions will not be directly callable after loading.\n"
     ]
    },
    {
     "name": "stdout",
     "output_type": "stream",
     "text": [
      "INFO:tensorflow:Assets written to: /aiffel/aiffel/aiffelthon/wandb/run-20221113_130827-x0l02lsm/files/model-best/assets\n"
     ]
    },
    {
     "name": "stderr",
     "output_type": "stream",
     "text": [
      "INFO:tensorflow:Assets written to: /aiffel/aiffel/aiffelthon/wandb/run-20221113_130827-x0l02lsm/files/model-best/assets\n",
      "\u001b[34m\u001b[1mwandb\u001b[0m: Adding directory to artifact (/aiffel/aiffel/aiffelthon/wandb/run-20221113_130827-x0l02lsm/files/model-best)... Done. 0.0s\n"
     ]
    },
    {
     "name": "stdout",
     "output_type": "stream",
     "text": [
      "sequence accuracy is 0.8996999535839798\n",
      "Epoch 6/8\n",
      "315/315 [==============================] - 1s 5ms/step - loss: 0.0516 - val_loss: 0.1929\n",
      "sequence accuracy is 0.9073668854850474\n",
      "Epoch 7/8\n",
      "315/315 [==============================] - 1s 5ms/step - loss: 0.0425 - val_loss: 0.2322\n",
      "sequence accuracy is 0.9174872355944566\n",
      "Epoch 8/8\n",
      "315/315 [==============================] - 1s 5ms/step - loss: 0.0330 - val_loss: 0.2299\n",
      "sequence accuracy is 0.9184404217226975\n"
     ]
    },
    {
     "data": {
      "text/html": [
       "Waiting for W&B process to finish... <strong style=\"color:green\">(success).</strong>"
      ],
      "text/plain": [
       "<IPython.core.display.HTML object>"
      ]
     },
     "metadata": {},
     "output_type": "display_data"
    },
    {
     "data": {
      "text/html": [
       "<style>\n",
       "    table.wandb td:nth-child(1) { padding: 0 10px; text-align: left ; width: auto;} td:nth-child(2) {text-align: left ; width: 100%}\n",
       "    .wandb-row { display: flex; flex-direction: row; flex-wrap: wrap; justify-content: flex-start; width: 100% }\n",
       "    .wandb-col { display: flex; flex-direction: column; flex-basis: 100%; flex: 1; padding: 10px; }\n",
       "    </style>\n",
       "<div class=\"wandb-row\"><div class=\"wandb-col\"><h3>Run history:</h3><br/><table class=\"wandb\"><tr><td>Validation Acc :</td><td>▁</td></tr><tr><td>epoch</td><td>▁▂▃▄▅▆▇█</td></tr><tr><td>loss</td><td>█▃▃▃▂▂▁▁</td></tr><tr><td>val_loss</td><td>▇▅▃▂▁▃██</td></tr></table><br/></div><div class=\"wandb-col\"><h3>Run summary:</h3><br/><table class=\"wandb\"><tr><td>Validation Acc :</td><td>0.91844</td></tr><tr><td>best_epoch</td><td>4</td></tr><tr><td>best_val_loss</td><td>0.17869</td></tr><tr><td>epoch</td><td>7</td></tr><tr><td>loss</td><td>0.03303</td></tr><tr><td>val_loss</td><td>0.22987</td></tr></table><br/></div></div>"
      ],
      "text/plain": [
       "<IPython.core.display.HTML object>"
      ]
     },
     "metadata": {},
     "output_type": "display_data"
    },
    {
     "data": {
      "text/html": [
       "Synced <strong style=\"color:#cdcd00\">snowy-sweep-25</strong>: <a href=\"https://wandb.ai/chhyyi/redzone_LSTM_sweep/runs/x0l02lsm\" target=\"_blank\">https://wandb.ai/chhyyi/redzone_LSTM_sweep/runs/x0l02lsm</a><br/>Synced 5 W&B file(s), 1 media file(s), 16 artifact file(s) and 1 other file(s)"
      ],
      "text/plain": [
       "<IPython.core.display.HTML object>"
      ]
     },
     "metadata": {},
     "output_type": "display_data"
    },
    {
     "data": {
      "text/html": [
       "Find logs at: <code>./wandb/run-20221113_130827-x0l02lsm/logs</code>"
      ],
      "text/plain": [
       "<IPython.core.display.HTML object>"
      ]
     },
     "metadata": {},
     "output_type": "display_data"
    },
    {
     "name": "stderr",
     "output_type": "stream",
     "text": [
      "\u001b[34m\u001b[1mwandb\u001b[0m: Agent Starting Run: joxj260h with config:\n",
      "\u001b[34m\u001b[1mwandb\u001b[0m: \tepochs: 4\n",
      "\u001b[34m\u001b[1mwandb\u001b[0m: \tlearning_rate: 0.001\n",
      "\u001b[34m\u001b[1mwandb\u001b[0m: \tsplit_train_ratio: 0.8\n",
      "\u001b[34m\u001b[1mwandb\u001b[0m: \tstride_inside_seq: 1\n",
      "\u001b[34m\u001b[1mwandb\u001b[0m: \tunit_LSTM0: 32\n"
     ]
    },
    {
     "data": {
      "text/html": [
       "Tracking run with wandb version 0.13.5"
      ],
      "text/plain": [
       "<IPython.core.display.HTML object>"
      ]
     },
     "metadata": {},
     "output_type": "display_data"
    },
    {
     "data": {
      "text/html": [
       "Run data is saved locally in <code>/aiffel/aiffel/aiffelthon/wandb/run-20221113_131037-joxj260h</code>"
      ],
      "text/plain": [
       "<IPython.core.display.HTML object>"
      ]
     },
     "metadata": {},
     "output_type": "display_data"
    },
    {
     "data": {
      "text/html": [
       "Syncing run <strong><a href=\"https://wandb.ai/chhyyi/redzone_LSTM_sweep/runs/joxj260h\" target=\"_blank\">divine-sweep-26</a></strong> to <a href=\"https://wandb.ai/chhyyi/redzone_LSTM_sweep\" target=\"_blank\">Weights & Biases</a> (<a href=\"https://wandb.me/run\" target=\"_blank\">docs</a>)<br/>Sweep page:  <a href=\"https://wandb.ai/chhyyi/redzone_LSTM_sweep/sweeps/nhh58kej\" target=\"_blank\">https://wandb.ai/chhyyi/redzone_LSTM_sweep/sweeps/nhh58kej</a>"
      ],
      "text/plain": [
       "<IPython.core.display.HTML object>"
      ]
     },
     "metadata": {},
     "output_type": "display_data"
    },
    {
     "name": "stdout",
     "output_type": "stream",
     "text": [
      "loaded dataset. Generating sequences\n",
      "Any missing values exist: False\n",
      "train dataset columns: Index(['풍속(m/s)', '풍향(deg)', '기온(°C)', '수온(°C)', '강수량(mm)', '풍속(m/s).1',\n",
      "       '풍향(deg).1', '기온(°C).1', '수온(°C).1', '강수량(mm).1', '풍속(m/s).2',\n",
      "       '풍향(deg).2', '기온(°C).2', '수온(°C).2', '강수량(mm).2', '풍속(m/s).3',\n",
      "       '풍향(deg).3', '기온(°C).3', '수온(°C).3', '강수량(mm).3', '풍속(m/s).4',\n",
      "       '풍향(deg).4', '기온(°C).4', '수온(°C).4', '강수량(mm).4', '적조발생'],\n",
      "      dtype='object')\n",
      "20106 25133\n",
      "(20106, 72, 25) (5027, 72, 25) (20106, 72) (5027, 72) \n",
      "\n",
      "\n",
      "Epoch 1/4\n",
      "315/315 [==============================] - 3s 7ms/step - loss: 0.2587 - val_loss: 0.2143\n"
     ]
    },
    {
     "name": "stderr",
     "output_type": "stream",
     "text": [
      "WARNING:absl:Found untraced functions such as lstm_cell_layer_call_and_return_conditional_losses, lstm_cell_layer_call_fn, lstm_cell_layer_call_fn, lstm_cell_layer_call_and_return_conditional_losses, lstm_cell_layer_call_and_return_conditional_losses while saving (showing 5 of 5). These functions will not be directly callable after loading.\n"
     ]
    },
    {
     "name": "stdout",
     "output_type": "stream",
     "text": [
      "INFO:tensorflow:Assets written to: /aiffel/aiffel/aiffelthon/wandb/run-20221113_131037-joxj260h/files/model-best/assets\n"
     ]
    },
    {
     "name": "stderr",
     "output_type": "stream",
     "text": [
      "INFO:tensorflow:Assets written to: /aiffel/aiffel/aiffelthon/wandb/run-20221113_131037-joxj260h/files/model-best/assets\n",
      "\u001b[34m\u001b[1mwandb\u001b[0m: Adding directory to artifact (/aiffel/aiffel/aiffelthon/wandb/run-20221113_131037-joxj260h/files/model-best)... Done. 0.0s\n"
     ]
    },
    {
     "name": "stdout",
     "output_type": "stream",
     "text": [
      "sequence accuracy is 0.9109199213137944\n",
      "Epoch 2/4\n",
      "315/315 [==============================] - 2s 6ms/step - loss: 0.1402 - val_loss: 0.1998\n"
     ]
    },
    {
     "name": "stderr",
     "output_type": "stream",
     "text": [
      "WARNING:absl:Found untraced functions such as lstm_cell_layer_call_and_return_conditional_losses, lstm_cell_layer_call_fn, lstm_cell_layer_call_fn, lstm_cell_layer_call_and_return_conditional_losses, lstm_cell_layer_call_and_return_conditional_losses while saving (showing 5 of 5). These functions will not be directly callable after loading.\n"
     ]
    },
    {
     "name": "stdout",
     "output_type": "stream",
     "text": [
      "INFO:tensorflow:Assets written to: /aiffel/aiffel/aiffelthon/wandb/run-20221113_131037-joxj260h/files/model-best/assets\n"
     ]
    },
    {
     "name": "stderr",
     "output_type": "stream",
     "text": [
      "INFO:tensorflow:Assets written to: /aiffel/aiffel/aiffelthon/wandb/run-20221113_131037-joxj260h/files/model-best/assets\n",
      "\u001b[34m\u001b[1mwandb\u001b[0m: Adding directory to artifact (/aiffel/aiffel/aiffelthon/wandb/run-20221113_131037-joxj260h/files/model-best)... Done. 0.0s\n"
     ]
    },
    {
     "name": "stdout",
     "output_type": "stream",
     "text": [
      "sequence accuracy is 0.9028081692195478\n",
      "Epoch 3/4\n",
      "315/315 [==============================] - 2s 6ms/step - loss: 0.1134 - val_loss: 0.2167\n",
      "sequence accuracy is 0.9045404814004376\n",
      "Epoch 4/4\n",
      "315/315 [==============================] - 2s 5ms/step - loss: 0.1045 - val_loss: 0.1954\n"
     ]
    },
    {
     "name": "stderr",
     "output_type": "stream",
     "text": [
      "WARNING:absl:Found untraced functions such as lstm_cell_layer_call_and_return_conditional_losses, lstm_cell_layer_call_fn, lstm_cell_layer_call_fn, lstm_cell_layer_call_and_return_conditional_losses, lstm_cell_layer_call_and_return_conditional_losses while saving (showing 5 of 5). These functions will not be directly callable after loading.\n"
     ]
    },
    {
     "name": "stdout",
     "output_type": "stream",
     "text": [
      "INFO:tensorflow:Assets written to: /aiffel/aiffel/aiffelthon/wandb/run-20221113_131037-joxj260h/files/model-best/assets\n"
     ]
    },
    {
     "name": "stderr",
     "output_type": "stream",
     "text": [
      "INFO:tensorflow:Assets written to: /aiffel/aiffel/aiffelthon/wandb/run-20221113_131037-joxj260h/files/model-best/assets\n",
      "\u001b[34m\u001b[1mwandb\u001b[0m: Adding directory to artifact (/aiffel/aiffel/aiffelthon/wandb/run-20221113_131037-joxj260h/files/model-best)... Done. 0.0s\n"
     ]
    },
    {
     "name": "stdout",
     "output_type": "stream",
     "text": [
      "sequence accuracy is 0.9027694892027496\n"
     ]
    },
    {
     "data": {
      "text/html": [
       "Waiting for W&B process to finish... <strong style=\"color:green\">(success).</strong>"
      ],
      "text/plain": [
       "<IPython.core.display.HTML object>"
      ]
     },
     "metadata": {},
     "output_type": "display_data"
    },
    {
     "data": {
      "text/html": [
       "<style>\n",
       "    table.wandb td:nth-child(1) { padding: 0 10px; text-align: left ; width: auto;} td:nth-child(2) {text-align: left ; width: 100%}\n",
       "    .wandb-row { display: flex; flex-direction: row; flex-wrap: wrap; justify-content: flex-start; width: 100% }\n",
       "    .wandb-col { display: flex; flex-direction: column; flex-basis: 100%; flex: 1; padding: 10px; }\n",
       "    </style>\n",
       "<div class=\"wandb-row\"><div class=\"wandb-col\"><h3>Run history:</h3><br/><table class=\"wandb\"><tr><td>Validation Acc :</td><td>▁</td></tr><tr><td>epoch</td><td>▁▃▆█</td></tr><tr><td>loss</td><td>█▃▁▁</td></tr><tr><td>val_loss</td><td>▇▂█▁</td></tr></table><br/></div><div class=\"wandb-col\"><h3>Run summary:</h3><br/><table class=\"wandb\"><tr><td>Validation Acc :</td><td>0.90277</td></tr><tr><td>best_epoch</td><td>3</td></tr><tr><td>best_val_loss</td><td>0.19538</td></tr><tr><td>epoch</td><td>3</td></tr><tr><td>loss</td><td>0.10451</td></tr><tr><td>val_loss</td><td>0.19538</td></tr></table><br/></div></div>"
      ],
      "text/plain": [
       "<IPython.core.display.HTML object>"
      ]
     },
     "metadata": {},
     "output_type": "display_data"
    },
    {
     "data": {
      "text/html": [
       "Synced <strong style=\"color:#cdcd00\">divine-sweep-26</strong>: <a href=\"https://wandb.ai/chhyyi/redzone_LSTM_sweep/runs/joxj260h\" target=\"_blank\">https://wandb.ai/chhyyi/redzone_LSTM_sweep/runs/joxj260h</a><br/>Synced 5 W&B file(s), 1 media file(s), 10 artifact file(s) and 1 other file(s)"
      ],
      "text/plain": [
       "<IPython.core.display.HTML object>"
      ]
     },
     "metadata": {},
     "output_type": "display_data"
    },
    {
     "data": {
      "text/html": [
       "Find logs at: <code>./wandb/run-20221113_131037-joxj260h/logs</code>"
      ],
      "text/plain": [
       "<IPython.core.display.HTML object>"
      ]
     },
     "metadata": {},
     "output_type": "display_data"
    },
    {
     "name": "stderr",
     "output_type": "stream",
     "text": [
      "\u001b[34m\u001b[1mwandb\u001b[0m: Agent Starting Run: 156em2xw with config:\n",
      "\u001b[34m\u001b[1mwandb\u001b[0m: \tepochs: 1\n",
      "\u001b[34m\u001b[1mwandb\u001b[0m: \tlearning_rate: 0.0032\n",
      "\u001b[34m\u001b[1mwandb\u001b[0m: \tsplit_train_ratio: 0.5\n",
      "\u001b[34m\u001b[1mwandb\u001b[0m: \tstride_inside_seq: 9\n",
      "\u001b[34m\u001b[1mwandb\u001b[0m: \tunit_LSTM0: 64\n"
     ]
    },
    {
     "data": {
      "text/html": [
       "Tracking run with wandb version 0.13.5"
      ],
      "text/plain": [
       "<IPython.core.display.HTML object>"
      ]
     },
     "metadata": {},
     "output_type": "display_data"
    },
    {
     "data": {
      "text/html": [
       "Run data is saved locally in <code>/aiffel/aiffel/aiffelthon/wandb/run-20221113_131315-156em2xw</code>"
      ],
      "text/plain": [
       "<IPython.core.display.HTML object>"
      ]
     },
     "metadata": {},
     "output_type": "display_data"
    },
    {
     "data": {
      "text/html": [
       "Syncing run <strong><a href=\"https://wandb.ai/chhyyi/redzone_LSTM_sweep/runs/156em2xw\" target=\"_blank\">fast-sweep-27</a></strong> to <a href=\"https://wandb.ai/chhyyi/redzone_LSTM_sweep\" target=\"_blank\">Weights & Biases</a> (<a href=\"https://wandb.me/run\" target=\"_blank\">docs</a>)<br/>Sweep page:  <a href=\"https://wandb.ai/chhyyi/redzone_LSTM_sweep/sweeps/nhh58kej\" target=\"_blank\">https://wandb.ai/chhyyi/redzone_LSTM_sweep/sweeps/nhh58kej</a>"
      ],
      "text/plain": [
       "<IPython.core.display.HTML object>"
      ]
     },
     "metadata": {},
     "output_type": "display_data"
    },
    {
     "name": "stdout",
     "output_type": "stream",
     "text": [
      "loaded dataset. Generating sequences\n",
      "Any missing values exist: False\n",
      "train dataset columns: Index(['풍속(m/s)', '풍향(deg)', '기온(°C)', '수온(°C)', '강수량(mm)', '풍속(m/s).1',\n",
      "       '풍향(deg).1', '기온(°C).1', '수온(°C).1', '강수량(mm).1', '풍속(m/s).2',\n",
      "       '풍향(deg).2', '기온(°C).2', '수온(°C).2', '강수량(mm).2', '풍속(m/s).3',\n",
      "       '풍향(deg).3', '기온(°C).3', '수온(°C).3', '강수량(mm).3', '풍속(m/s).4',\n",
      "       '풍향(deg).4', '기온(°C).4', '수온(°C).4', '강수량(mm).4', '적조발생'],\n",
      "      dtype='object')\n",
      "12566 25133\n",
      "(12566, 8, 25) (12567, 8, 25) (12566, 8) (12567, 8) \n",
      "\n",
      "\n",
      "197/197 [==============================] - 2s 6ms/step - loss: 0.1459 - val_loss: 0.3534\n"
     ]
    },
    {
     "name": "stderr",
     "output_type": "stream",
     "text": [
      "WARNING:absl:Found untraced functions such as lstm_cell_layer_call_and_return_conditional_losses, lstm_cell_layer_call_fn, lstm_cell_layer_call_fn, lstm_cell_layer_call_and_return_conditional_losses, lstm_cell_layer_call_and_return_conditional_losses while saving (showing 5 of 5). These functions will not be directly callable after loading.\n"
     ]
    },
    {
     "name": "stdout",
     "output_type": "stream",
     "text": [
      "INFO:tensorflow:Assets written to: /aiffel/aiffel/aiffelthon/wandb/run-20221113_131315-156em2xw/files/model-best/assets\n"
     ]
    },
    {
     "name": "stderr",
     "output_type": "stream",
     "text": [
      "INFO:tensorflow:Assets written to: /aiffel/aiffel/aiffelthon/wandb/run-20221113_131315-156em2xw/files/model-best/assets\n",
      "\u001b[34m\u001b[1mwandb\u001b[0m: Adding directory to artifact (/aiffel/aiffel/aiffelthon/wandb/run-20221113_131315-156em2xw/files/model-best)... Done. 0.0s\n"
     ]
    },
    {
     "name": "stdout",
     "output_type": "stream",
     "text": [
      "sequence accuracy is 0.9261955916288692\n"
     ]
    },
    {
     "data": {
      "text/html": [
       "Waiting for W&B process to finish... <strong style=\"color:green\">(success).</strong>"
      ],
      "text/plain": [
       "<IPython.core.display.HTML object>"
      ]
     },
     "metadata": {},
     "output_type": "display_data"
    },
    {
     "data": {
      "text/html": [
       "<style>\n",
       "    table.wandb td:nth-child(1) { padding: 0 10px; text-align: left ; width: auto;} td:nth-child(2) {text-align: left ; width: 100%}\n",
       "    .wandb-row { display: flex; flex-direction: row; flex-wrap: wrap; justify-content: flex-start; width: 100% }\n",
       "    .wandb-col { display: flex; flex-direction: column; flex-basis: 100%; flex: 1; padding: 10px; }\n",
       "    </style>\n",
       "<div class=\"wandb-row\"><div class=\"wandb-col\"><h3>Run history:</h3><br/><table class=\"wandb\"><tr><td>Validation Acc :</td><td>▁</td></tr><tr><td>epoch</td><td>▁</td></tr><tr><td>loss</td><td>▁</td></tr><tr><td>val_loss</td><td>▁</td></tr></table><br/></div><div class=\"wandb-col\"><h3>Run summary:</h3><br/><table class=\"wandb\"><tr><td>Validation Acc :</td><td>0.9262</td></tr><tr><td>best_epoch</td><td>0</td></tr><tr><td>best_val_loss</td><td>0.35341</td></tr><tr><td>epoch</td><td>0</td></tr><tr><td>loss</td><td>0.14593</td></tr><tr><td>val_loss</td><td>0.35341</td></tr></table><br/></div></div>"
      ],
      "text/plain": [
       "<IPython.core.display.HTML object>"
      ]
     },
     "metadata": {},
     "output_type": "display_data"
    },
    {
     "data": {
      "text/html": [
       "Synced <strong style=\"color:#cdcd00\">fast-sweep-27</strong>: <a href=\"https://wandb.ai/chhyyi/redzone_LSTM_sweep/runs/156em2xw\" target=\"_blank\">https://wandb.ai/chhyyi/redzone_LSTM_sweep/runs/156em2xw</a><br/>Synced 5 W&B file(s), 1 media file(s), 4 artifact file(s) and 1 other file(s)"
      ],
      "text/plain": [
       "<IPython.core.display.HTML object>"
      ]
     },
     "metadata": {},
     "output_type": "display_data"
    },
    {
     "data": {
      "text/html": [
       "Find logs at: <code>./wandb/run-20221113_131315-156em2xw/logs</code>"
      ],
      "text/plain": [
       "<IPython.core.display.HTML object>"
      ]
     },
     "metadata": {},
     "output_type": "display_data"
    },
    {
     "name": "stderr",
     "output_type": "stream",
     "text": [
      "\u001b[34m\u001b[1mwandb\u001b[0m: Sweep Agent: Waiting for job.\n",
      "\u001b[34m\u001b[1mwandb\u001b[0m: Job received.\n",
      "\u001b[34m\u001b[1mwandb\u001b[0m: Agent Starting Run: 75uhxfsw with config:\n",
      "\u001b[34m\u001b[1mwandb\u001b[0m: \tepochs: 4\n",
      "\u001b[34m\u001b[1mwandb\u001b[0m: \tlearning_rate: 0.0032\n",
      "\u001b[34m\u001b[1mwandb\u001b[0m: \tsplit_train_ratio: 0.8\n",
      "\u001b[34m\u001b[1mwandb\u001b[0m: \tstride_inside_seq: 1\n",
      "\u001b[34m\u001b[1mwandb\u001b[0m: \tunit_LSTM0: 32\n"
     ]
    },
    {
     "data": {
      "text/html": [
       "Tracking run with wandb version 0.13.5"
      ],
      "text/plain": [
       "<IPython.core.display.HTML object>"
      ]
     },
     "metadata": {},
     "output_type": "display_data"
    },
    {
     "data": {
      "text/html": [
       "Run data is saved locally in <code>/aiffel/aiffel/aiffelthon/wandb/run-20221113_131407-75uhxfsw</code>"
      ],
      "text/plain": [
       "<IPython.core.display.HTML object>"
      ]
     },
     "metadata": {},
     "output_type": "display_data"
    },
    {
     "data": {
      "text/html": [
       "Syncing run <strong><a href=\"https://wandb.ai/chhyyi/redzone_LSTM_sweep/runs/75uhxfsw\" target=\"_blank\">vibrant-sweep-28</a></strong> to <a href=\"https://wandb.ai/chhyyi/redzone_LSTM_sweep\" target=\"_blank\">Weights & Biases</a> (<a href=\"https://wandb.me/run\" target=\"_blank\">docs</a>)<br/>Sweep page:  <a href=\"https://wandb.ai/chhyyi/redzone_LSTM_sweep/sweeps/nhh58kej\" target=\"_blank\">https://wandb.ai/chhyyi/redzone_LSTM_sweep/sweeps/nhh58kej</a>"
      ],
      "text/plain": [
       "<IPython.core.display.HTML object>"
      ]
     },
     "metadata": {},
     "output_type": "display_data"
    },
    {
     "name": "stdout",
     "output_type": "stream",
     "text": [
      "loaded dataset. Generating sequences\n",
      "Any missing values exist: False\n",
      "train dataset columns: Index(['풍속(m/s)', '풍향(deg)', '기온(°C)', '수온(°C)', '강수량(mm)', '풍속(m/s).1',\n",
      "       '풍향(deg).1', '기온(°C).1', '수온(°C).1', '강수량(mm).1', '풍속(m/s).2',\n",
      "       '풍향(deg).2', '기온(°C).2', '수온(°C).2', '강수량(mm).2', '풍속(m/s).3',\n",
      "       '풍향(deg).3', '기온(°C).3', '수온(°C).3', '강수량(mm).3', '풍속(m/s).4',\n",
      "       '풍향(deg).4', '기온(°C).4', '수온(°C).4', '강수량(mm).4', '적조발생'],\n",
      "      dtype='object')\n",
      "20106 25133\n",
      "(20106, 72, 25) (5027, 72, 25) (20106, 72) (5027, 72) \n",
      "\n",
      "\n",
      "Epoch 1/4\n",
      "315/315 [==============================] - 3s 7ms/step - loss: 0.1921 - val_loss: 0.2361\n"
     ]
    },
    {
     "name": "stderr",
     "output_type": "stream",
     "text": [
      "WARNING:absl:Found untraced functions such as lstm_cell_layer_call_and_return_conditional_losses, lstm_cell_layer_call_fn, lstm_cell_layer_call_fn, lstm_cell_layer_call_and_return_conditional_losses, lstm_cell_layer_call_and_return_conditional_losses while saving (showing 5 of 5). These functions will not be directly callable after loading.\n"
     ]
    },
    {
     "name": "stdout",
     "output_type": "stream",
     "text": [
      "INFO:tensorflow:Assets written to: /aiffel/aiffel/aiffelthon/wandb/run-20221113_131407-75uhxfsw/files/model-best/assets\n"
     ]
    },
    {
     "name": "stderr",
     "output_type": "stream",
     "text": [
      "INFO:tensorflow:Assets written to: /aiffel/aiffel/aiffelthon/wandb/run-20221113_131407-75uhxfsw/files/model-best/assets\n",
      "\u001b[34m\u001b[1mwandb\u001b[0m: Adding directory to artifact (/aiffel/aiffel/aiffelthon/wandb/run-20221113_131407-75uhxfsw/files/model-best)... Done. 0.0s\n"
     ]
    },
    {
     "name": "stdout",
     "output_type": "stream",
     "text": [
      "sequence accuracy is 0.9096351921844263\n",
      "Epoch 2/4\n",
      "315/315 [==============================] - 2s 5ms/step - loss: 0.1252 - val_loss: 0.1767\n"
     ]
    },
    {
     "name": "stderr",
     "output_type": "stream",
     "text": [
      "WARNING:absl:Found untraced functions such as lstm_cell_layer_call_and_return_conditional_losses, lstm_cell_layer_call_fn, lstm_cell_layer_call_fn, lstm_cell_layer_call_and_return_conditional_losses, lstm_cell_layer_call_and_return_conditional_losses while saving (showing 5 of 5). These functions will not be directly callable after loading.\n"
     ]
    },
    {
     "name": "stdout",
     "output_type": "stream",
     "text": [
      "INFO:tensorflow:Assets written to: /aiffel/aiffel/aiffelthon/wandb/run-20221113_131407-75uhxfsw/files/model-best/assets\n"
     ]
    },
    {
     "name": "stderr",
     "output_type": "stream",
     "text": [
      "INFO:tensorflow:Assets written to: /aiffel/aiffel/aiffelthon/wandb/run-20221113_131407-75uhxfsw/files/model-best/assets\n",
      "\u001b[34m\u001b[1mwandb\u001b[0m: Adding directory to artifact (/aiffel/aiffel/aiffelthon/wandb/run-20221113_131407-75uhxfsw/files/model-best)... Done. 0.0s\n"
     ]
    },
    {
     "name": "stdout",
     "output_type": "stream",
     "text": [
      "sequence accuracy is 0.9180950644298566\n",
      "Epoch 3/4\n",
      "315/315 [==============================] - 2s 5ms/step - loss: 0.1105 - val_loss: 0.1711\n"
     ]
    },
    {
     "name": "stderr",
     "output_type": "stream",
     "text": [
      "WARNING:absl:Found untraced functions such as lstm_cell_layer_call_and_return_conditional_losses, lstm_cell_layer_call_fn, lstm_cell_layer_call_fn, lstm_cell_layer_call_and_return_conditional_losses, lstm_cell_layer_call_and_return_conditional_losses while saving (showing 5 of 5). These functions will not be directly callable after loading.\n"
     ]
    },
    {
     "name": "stdout",
     "output_type": "stream",
     "text": [
      "INFO:tensorflow:Assets written to: /aiffel/aiffel/aiffelthon/wandb/run-20221113_131407-75uhxfsw/files/model-best/assets\n"
     ]
    },
    {
     "name": "stderr",
     "output_type": "stream",
     "text": [
      "INFO:tensorflow:Assets written to: /aiffel/aiffel/aiffelthon/wandb/run-20221113_131407-75uhxfsw/files/model-best/assets\n",
      "\u001b[34m\u001b[1mwandb\u001b[0m: Adding directory to artifact (/aiffel/aiffel/aiffelthon/wandb/run-20221113_131407-75uhxfsw/files/model-best)... Done. 0.0s\n"
     ]
    },
    {
     "name": "stdout",
     "output_type": "stream",
     "text": [
      "sequence accuracy is 0.9165782551996994\n",
      "Epoch 4/4\n",
      "315/315 [==============================] - 2s 5ms/step - loss: 0.0896 - val_loss: 0.1920\n",
      "sequence accuracy is 0.9209877771146918\n"
     ]
    },
    {
     "data": {
      "text/html": [
       "Waiting for W&B process to finish... <strong style=\"color:green\">(success).</strong>"
      ],
      "text/plain": [
       "<IPython.core.display.HTML object>"
      ]
     },
     "metadata": {},
     "output_type": "display_data"
    },
    {
     "data": {
      "application/vnd.jupyter.widget-view+json": {
       "model_id": "2c9e0aeab60c4797822c8ebb35e2443f",
       "version_major": 2,
       "version_minor": 0
      },
      "text/plain": [
       "VBox(children=(Label(value='2.863 MB of 2.863 MB uploaded (0.008 MB deduped)\\r'), FloatProgress(value=1.0, max…"
      ]
     },
     "metadata": {},
     "output_type": "display_data"
    },
    {
     "data": {
      "text/html": [
       "<style>\n",
       "    table.wandb td:nth-child(1) { padding: 0 10px; text-align: left ; width: auto;} td:nth-child(2) {text-align: left ; width: 100%}\n",
       "    .wandb-row { display: flex; flex-direction: row; flex-wrap: wrap; justify-content: flex-start; width: 100% }\n",
       "    .wandb-col { display: flex; flex-direction: column; flex-basis: 100%; flex: 1; padding: 10px; }\n",
       "    </style>\n",
       "<div class=\"wandb-row\"><div class=\"wandb-col\"><h3>Run history:</h3><br/><table class=\"wandb\"><tr><td>Validation Acc :</td><td>▁</td></tr><tr><td>epoch</td><td>▁▃▆█</td></tr><tr><td>loss</td><td>█▃▂▁</td></tr><tr><td>val_loss</td><td>█▂▁▃</td></tr></table><br/></div><div class=\"wandb-col\"><h3>Run summary:</h3><br/><table class=\"wandb\"><tr><td>Validation Acc :</td><td>0.92099</td></tr><tr><td>best_epoch</td><td>2</td></tr><tr><td>best_val_loss</td><td>0.17113</td></tr><tr><td>epoch</td><td>3</td></tr><tr><td>loss</td><td>0.08957</td></tr><tr><td>val_loss</td><td>0.19203</td></tr></table><br/></div></div>"
      ],
      "text/plain": [
       "<IPython.core.display.HTML object>"
      ]
     },
     "metadata": {},
     "output_type": "display_data"
    },
    {
     "data": {
      "text/html": [
       "Synced <strong style=\"color:#cdcd00\">vibrant-sweep-28</strong>: <a href=\"https://wandb.ai/chhyyi/redzone_LSTM_sweep/runs/75uhxfsw\" target=\"_blank\">https://wandb.ai/chhyyi/redzone_LSTM_sweep/runs/75uhxfsw</a><br/>Synced 5 W&B file(s), 1 media file(s), 10 artifact file(s) and 1 other file(s)"
      ],
      "text/plain": [
       "<IPython.core.display.HTML object>"
      ]
     },
     "metadata": {},
     "output_type": "display_data"
    },
    {
     "data": {
      "text/html": [
       "Find logs at: <code>./wandb/run-20221113_131407-75uhxfsw/logs</code>"
      ],
      "text/plain": [
       "<IPython.core.display.HTML object>"
      ]
     },
     "metadata": {},
     "output_type": "display_data"
    },
    {
     "name": "stderr",
     "output_type": "stream",
     "text": [
      "\u001b[34m\u001b[1mwandb\u001b[0m: Sweep Agent: Waiting for job.\n",
      "\u001b[34m\u001b[1mwandb\u001b[0m: Job received.\n",
      "\u001b[34m\u001b[1mwandb\u001b[0m: Agent Starting Run: ynesiihs with config:\n",
      "\u001b[34m\u001b[1mwandb\u001b[0m: \tepochs: 12\n",
      "\u001b[34m\u001b[1mwandb\u001b[0m: \tlearning_rate: 0.001\n",
      "\u001b[34m\u001b[1mwandb\u001b[0m: \tsplit_train_ratio: 0.8\n",
      "\u001b[34m\u001b[1mwandb\u001b[0m: \tstride_inside_seq: 1\n",
      "\u001b[34m\u001b[1mwandb\u001b[0m: \tunit_LSTM0: 256\n"
     ]
    },
    {
     "data": {
      "text/html": [
       "Tracking run with wandb version 0.13.5"
      ],
      "text/plain": [
       "<IPython.core.display.HTML object>"
      ]
     },
     "metadata": {},
     "output_type": "display_data"
    },
    {
     "data": {
      "text/html": [
       "Run data is saved locally in <code>/aiffel/aiffel/aiffelthon/wandb/run-20221113_131659-ynesiihs</code>"
      ],
      "text/plain": [
       "<IPython.core.display.HTML object>"
      ]
     },
     "metadata": {},
     "output_type": "display_data"
    },
    {
     "data": {
      "text/html": [
       "Syncing run <strong><a href=\"https://wandb.ai/chhyyi/redzone_LSTM_sweep/runs/ynesiihs\" target=\"_blank\">splendid-sweep-29</a></strong> to <a href=\"https://wandb.ai/chhyyi/redzone_LSTM_sweep\" target=\"_blank\">Weights & Biases</a> (<a href=\"https://wandb.me/run\" target=\"_blank\">docs</a>)<br/>Sweep page:  <a href=\"https://wandb.ai/chhyyi/redzone_LSTM_sweep/sweeps/nhh58kej\" target=\"_blank\">https://wandb.ai/chhyyi/redzone_LSTM_sweep/sweeps/nhh58kej</a>"
      ],
      "text/plain": [
       "<IPython.core.display.HTML object>"
      ]
     },
     "metadata": {},
     "output_type": "display_data"
    },
    {
     "name": "stdout",
     "output_type": "stream",
     "text": [
      "loaded dataset. Generating sequences\n",
      "Any missing values exist: False\n",
      "train dataset columns: Index(['풍속(m/s)', '풍향(deg)', '기온(°C)', '수온(°C)', '강수량(mm)', '풍속(m/s).1',\n",
      "       '풍향(deg).1', '기온(°C).1', '수온(°C).1', '강수량(mm).1', '풍속(m/s).2',\n",
      "       '풍향(deg).2', '기온(°C).2', '수온(°C).2', '강수량(mm).2', '풍속(m/s).3',\n",
      "       '풍향(deg).3', '기온(°C).3', '수온(°C).3', '강수량(mm).3', '풍속(m/s).4',\n",
      "       '풍향(deg).4', '기온(°C).4', '수온(°C).4', '강수량(mm).4', '적조발생'],\n",
      "      dtype='object')\n",
      "20106 25133\n",
      "(20106, 72, 25) (5027, 72, 25) (20106, 72) (5027, 72) \n",
      "\n",
      "\n",
      "Epoch 1/12\n",
      "315/315 [==============================] - 4s 9ms/step - loss: 0.2007 - val_loss: 0.2353\n"
     ]
    },
    {
     "name": "stderr",
     "output_type": "stream",
     "text": [
      "WARNING:absl:Found untraced functions such as lstm_cell_layer_call_and_return_conditional_losses, lstm_cell_layer_call_fn, lstm_cell_layer_call_fn, lstm_cell_layer_call_and_return_conditional_losses, lstm_cell_layer_call_and_return_conditional_losses while saving (showing 5 of 5). These functions will not be directly callable after loading.\n"
     ]
    },
    {
     "name": "stdout",
     "output_type": "stream",
     "text": [
      "INFO:tensorflow:Assets written to: /aiffel/aiffel/aiffelthon/wandb/run-20221113_131659-ynesiihs/files/model-best/assets\n"
     ]
    },
    {
     "name": "stderr",
     "output_type": "stream",
     "text": [
      "INFO:tensorflow:Assets written to: /aiffel/aiffel/aiffelthon/wandb/run-20221113_131659-ynesiihs/files/model-best/assets\n",
      "\u001b[34m\u001b[1mwandb\u001b[0m: Adding directory to artifact (/aiffel/aiffel/aiffelthon/wandb/run-20221113_131659-ynesiihs/files/model-best)... Done. 0.1s\n"
     ]
    },
    {
     "name": "stdout",
     "output_type": "stream",
     "text": [
      "sequence accuracy is 0.9094970492672899\n",
      "Epoch 2/12\n",
      "315/315 [==============================] - 2s 8ms/step - loss: 0.1693 - val_loss: 0.2338\n"
     ]
    },
    {
     "name": "stderr",
     "output_type": "stream",
     "text": [
      "WARNING:absl:Found untraced functions such as lstm_cell_layer_call_and_return_conditional_losses, lstm_cell_layer_call_fn, lstm_cell_layer_call_fn, lstm_cell_layer_call_and_return_conditional_losses, lstm_cell_layer_call_and_return_conditional_losses while saving (showing 5 of 5). These functions will not be directly callable after loading.\n"
     ]
    },
    {
     "name": "stdout",
     "output_type": "stream",
     "text": [
      "INFO:tensorflow:Assets written to: /aiffel/aiffel/aiffelthon/wandb/run-20221113_131659-ynesiihs/files/model-best/assets\n"
     ]
    },
    {
     "name": "stderr",
     "output_type": "stream",
     "text": [
      "INFO:tensorflow:Assets written to: /aiffel/aiffel/aiffelthon/wandb/run-20221113_131659-ynesiihs/files/model-best/assets\n",
      "\u001b[34m\u001b[1mwandb\u001b[0m: Adding directory to artifact (/aiffel/aiffel/aiffelthon/wandb/run-20221113_131659-ynesiihs/files/model-best)... Done. 0.0s\n"
     ]
    },
    {
     "name": "stdout",
     "output_type": "stream",
     "text": [
      "sequence accuracy is 0.9096766350595672\n",
      "Epoch 3/12\n",
      "315/315 [==============================] - 2s 8ms/step - loss: 0.1525 - val_loss: 0.2145\n"
     ]
    },
    {
     "name": "stderr",
     "output_type": "stream",
     "text": [
      "WARNING:absl:Found untraced functions such as lstm_cell_layer_call_and_return_conditional_losses, lstm_cell_layer_call_fn, lstm_cell_layer_call_fn, lstm_cell_layer_call_and_return_conditional_losses, lstm_cell_layer_call_and_return_conditional_losses while saving (showing 5 of 5). These functions will not be directly callable after loading.\n"
     ]
    },
    {
     "name": "stdout",
     "output_type": "stream",
     "text": [
      "INFO:tensorflow:Assets written to: /aiffel/aiffel/aiffelthon/wandb/run-20221113_131659-ynesiihs/files/model-best/assets\n"
     ]
    },
    {
     "name": "stderr",
     "output_type": "stream",
     "text": [
      "INFO:tensorflow:Assets written to: /aiffel/aiffel/aiffelthon/wandb/run-20221113_131659-ynesiihs/files/model-best/assets\n",
      "\u001b[34m\u001b[1mwandb\u001b[0m: Adding directory to artifact (/aiffel/aiffel/aiffelthon/wandb/run-20221113_131659-ynesiihs/files/model-best)... Done. 0.0s\n"
     ]
    },
    {
     "name": "stdout",
     "output_type": "stream",
     "text": [
      "sequence accuracy is 0.9100910638109763\n",
      "Epoch 4/12\n",
      "315/315 [==============================] - 2s 8ms/step - loss: 0.1323 - val_loss: 0.2233\n",
      "sequence accuracy is 0.9112487014565789\n",
      "Epoch 5/12\n",
      "315/315 [==============================] - 2s 8ms/step - loss: 0.1287 - val_loss: 0.2092\n"
     ]
    },
    {
     "name": "stderr",
     "output_type": "stream",
     "text": [
      "WARNING:absl:Found untraced functions such as lstm_cell_layer_call_and_return_conditional_losses, lstm_cell_layer_call_fn, lstm_cell_layer_call_fn, lstm_cell_layer_call_and_return_conditional_losses, lstm_cell_layer_call_and_return_conditional_losses while saving (showing 5 of 5). These functions will not be directly callable after loading.\n"
     ]
    },
    {
     "name": "stdout",
     "output_type": "stream",
     "text": [
      "INFO:tensorflow:Assets written to: /aiffel/aiffel/aiffelthon/wandb/run-20221113_131659-ynesiihs/files/model-best/assets\n"
     ]
    },
    {
     "name": "stderr",
     "output_type": "stream",
     "text": [
      "INFO:tensorflow:Assets written to: /aiffel/aiffel/aiffelthon/wandb/run-20221113_131659-ynesiihs/files/model-best/assets\n",
      "\u001b[34m\u001b[1mwandb\u001b[0m: Adding directory to artifact (/aiffel/aiffel/aiffelthon/wandb/run-20221113_131659-ynesiihs/files/model-best)... Done. 0.0s\n"
     ]
    },
    {
     "name": "stdout",
     "output_type": "stream",
     "text": [
      "sequence accuracy is 0.9092401034414164\n",
      "Epoch 6/12\n",
      "315/315 [==============================] - 2s 8ms/step - loss: 0.1216 - val_loss: 0.1971\n"
     ]
    },
    {
     "name": "stderr",
     "output_type": "stream",
     "text": [
      "WARNING:absl:Found untraced functions such as lstm_cell_layer_call_and_return_conditional_losses, lstm_cell_layer_call_fn, lstm_cell_layer_call_fn, lstm_cell_layer_call_and_return_conditional_losses, lstm_cell_layer_call_and_return_conditional_losses while saving (showing 5 of 5). These functions will not be directly callable after loading.\n"
     ]
    },
    {
     "name": "stdout",
     "output_type": "stream",
     "text": [
      "INFO:tensorflow:Assets written to: /aiffel/aiffel/aiffelthon/wandb/run-20221113_131659-ynesiihs/files/model-best/assets\n"
     ]
    },
    {
     "name": "stderr",
     "output_type": "stream",
     "text": [
      "INFO:tensorflow:Assets written to: /aiffel/aiffel/aiffelthon/wandb/run-20221113_131659-ynesiihs/files/model-best/assets\n",
      "\u001b[34m\u001b[1mwandb\u001b[0m: Adding directory to artifact (/aiffel/aiffel/aiffelthon/wandb/run-20221113_131659-ynesiihs/files/model-best)... Done. 0.0s\n"
     ]
    },
    {
     "name": "stdout",
     "output_type": "stream",
     "text": [
      "sequence accuracy is 0.9139922197909068\n",
      "Epoch 7/12\n",
      "315/315 [==============================] - 2s 8ms/step - loss: 0.1005 - val_loss: 0.1880\n"
     ]
    },
    {
     "name": "stderr",
     "output_type": "stream",
     "text": [
      "WARNING:absl:Found untraced functions such as lstm_cell_layer_call_and_return_conditional_losses, lstm_cell_layer_call_fn, lstm_cell_layer_call_fn, lstm_cell_layer_call_and_return_conditional_losses, lstm_cell_layer_call_and_return_conditional_losses while saving (showing 5 of 5). These functions will not be directly callable after loading.\n"
     ]
    },
    {
     "name": "stdout",
     "output_type": "stream",
     "text": [
      "INFO:tensorflow:Assets written to: /aiffel/aiffel/aiffelthon/wandb/run-20221113_131659-ynesiihs/files/model-best/assets\n"
     ]
    },
    {
     "name": "stderr",
     "output_type": "stream",
     "text": [
      "INFO:tensorflow:Assets written to: /aiffel/aiffel/aiffelthon/wandb/run-20221113_131659-ynesiihs/files/model-best/assets\n",
      "\u001b[34m\u001b[1mwandb\u001b[0m: Adding directory to artifact (/aiffel/aiffel/aiffelthon/wandb/run-20221113_131659-ynesiihs/files/model-best)... Done. 0.0s\n"
     ]
    },
    {
     "name": "stdout",
     "output_type": "stream",
     "text": [
      "sequence accuracy is 0.9207059655637336\n",
      "Epoch 8/12\n",
      "315/315 [==============================] - 2s 8ms/step - loss: 0.0818 - val_loss: 0.1885\n",
      "sequence accuracy is 0.9113757929403443\n",
      "Epoch 9/12\n",
      "315/315 [==============================] - 2s 8ms/step - loss: 0.0663 - val_loss: 0.1788\n"
     ]
    },
    {
     "name": "stderr",
     "output_type": "stream",
     "text": [
      "WARNING:absl:Found untraced functions such as lstm_cell_layer_call_and_return_conditional_losses, lstm_cell_layer_call_fn, lstm_cell_layer_call_fn, lstm_cell_layer_call_and_return_conditional_losses, lstm_cell_layer_call_and_return_conditional_losses while saving (showing 5 of 5). These functions will not be directly callable after loading.\n"
     ]
    },
    {
     "name": "stdout",
     "output_type": "stream",
     "text": [
      "INFO:tensorflow:Assets written to: /aiffel/aiffel/aiffelthon/wandb/run-20221113_131659-ynesiihs/files/model-best/assets\n"
     ]
    },
    {
     "name": "stderr",
     "output_type": "stream",
     "text": [
      "INFO:tensorflow:Assets written to: /aiffel/aiffel/aiffelthon/wandb/run-20221113_131659-ynesiihs/files/model-best/assets\n",
      "\u001b[34m\u001b[1mwandb\u001b[0m: Adding directory to artifact (/aiffel/aiffel/aiffelthon/wandb/run-20221113_131659-ynesiihs/files/model-best)... Done. 0.1s\n"
     ]
    },
    {
     "name": "stdout",
     "output_type": "stream",
     "text": [
      "sequence accuracy is 0.9190675905664965\n",
      "Epoch 10/12\n",
      "315/315 [==============================] - 2s 8ms/step - loss: 0.0461 - val_loss: 0.1729\n"
     ]
    },
    {
     "name": "stderr",
     "output_type": "stream",
     "text": [
      "WARNING:absl:Found untraced functions such as lstm_cell_layer_call_and_return_conditional_losses, lstm_cell_layer_call_fn, lstm_cell_layer_call_fn, lstm_cell_layer_call_and_return_conditional_losses, lstm_cell_layer_call_and_return_conditional_losses while saving (showing 5 of 5). These functions will not be directly callable after loading.\n"
     ]
    },
    {
     "name": "stdout",
     "output_type": "stream",
     "text": [
      "INFO:tensorflow:Assets written to: /aiffel/aiffel/aiffelthon/wandb/run-20221113_131659-ynesiihs/files/model-best/assets\n"
     ]
    },
    {
     "name": "stderr",
     "output_type": "stream",
     "text": [
      "INFO:tensorflow:Assets written to: /aiffel/aiffel/aiffelthon/wandb/run-20221113_131659-ynesiihs/files/model-best/assets\n",
      "\u001b[34m\u001b[1mwandb\u001b[0m: Adding directory to artifact (/aiffel/aiffel/aiffelthon/wandb/run-20221113_131659-ynesiihs/files/model-best)... Done. 0.1s\n"
     ]
    },
    {
     "name": "stdout",
     "output_type": "stream",
     "text": [
      "sequence accuracy is 0.9297405123444511\n",
      "Epoch 11/12\n",
      "315/315 [==============================] - 2s 8ms/step - loss: 0.0404 - val_loss: 0.2743\n",
      "sequence accuracy is 0.875718343169109\n",
      "Epoch 12/12\n",
      "315/315 [==============================] - 2s 8ms/step - loss: 0.0386 - val_loss: 0.1843\n",
      "sequence accuracy is 0.930165992529231\n"
     ]
    },
    {
     "data": {
      "text/html": [
       "Waiting for W&B process to finish... <strong style=\"color:green\">(success).</strong>"
      ],
      "text/plain": [
       "<IPython.core.display.HTML object>"
      ]
     },
     "metadata": {},
     "output_type": "display_data"
    },
    {
     "data": {
      "text/html": [
       "<style>\n",
       "    table.wandb td:nth-child(1) { padding: 0 10px; text-align: left ; width: auto;} td:nth-child(2) {text-align: left ; width: 100%}\n",
       "    .wandb-row { display: flex; flex-direction: row; flex-wrap: wrap; justify-content: flex-start; width: 100% }\n",
       "    .wandb-col { display: flex; flex-direction: column; flex-basis: 100%; flex: 1; padding: 10px; }\n",
       "    </style>\n",
       "<div class=\"wandb-row\"><div class=\"wandb-col\"><h3>Run history:</h3><br/><table class=\"wandb\"><tr><td>Validation Acc :</td><td>▁</td></tr><tr><td>epoch</td><td>▁▂▂▃▄▄▅▅▆▇▇█</td></tr><tr><td>loss</td><td>█▇▆▅▅▅▄▃▂▁▁▁</td></tr><tr><td>val_loss</td><td>▅▅▄▄▄▃▂▂▁▁█▂</td></tr></table><br/></div><div class=\"wandb-col\"><h3>Run summary:</h3><br/><table class=\"wandb\"><tr><td>Validation Acc :</td><td>0.93017</td></tr><tr><td>best_epoch</td><td>9</td></tr><tr><td>best_val_loss</td><td>0.17287</td></tr><tr><td>epoch</td><td>11</td></tr><tr><td>loss</td><td>0.03864</td></tr><tr><td>val_loss</td><td>0.18429</td></tr></table><br/></div></div>"
      ],
      "text/plain": [
       "<IPython.core.display.HTML object>"
      ]
     },
     "metadata": {},
     "output_type": "display_data"
    },
    {
     "data": {
      "text/html": [
       "Synced <strong style=\"color:#cdcd00\">splendid-sweep-29</strong>: <a href=\"https://wandb.ai/chhyyi/redzone_LSTM_sweep/runs/ynesiihs\" target=\"_blank\">https://wandb.ai/chhyyi/redzone_LSTM_sweep/runs/ynesiihs</a><br/>Synced 5 W&B file(s), 1 media file(s), 25 artifact file(s) and 1 other file(s)"
      ],
      "text/plain": [
       "<IPython.core.display.HTML object>"
      ]
     },
     "metadata": {},
     "output_type": "display_data"
    },
    {
     "data": {
      "text/html": [
       "Find logs at: <code>./wandb/run-20221113_131659-ynesiihs/logs</code>"
      ],
      "text/plain": [
       "<IPython.core.display.HTML object>"
      ]
     },
     "metadata": {},
     "output_type": "display_data"
    },
    {
     "name": "stderr",
     "output_type": "stream",
     "text": [
      "\u001b[34m\u001b[1mwandb\u001b[0m: Agent Starting Run: f8vwjkrt with config:\n",
      "\u001b[34m\u001b[1mwandb\u001b[0m: \tepochs: 1\n",
      "\u001b[34m\u001b[1mwandb\u001b[0m: \tlearning_rate: 0.0032\n",
      "\u001b[34m\u001b[1mwandb\u001b[0m: \tsplit_train_ratio: 0.5\n",
      "\u001b[34m\u001b[1mwandb\u001b[0m: \tstride_inside_seq: 9\n",
      "\u001b[34m\u001b[1mwandb\u001b[0m: \tunit_LSTM0: 128\n"
     ]
    },
    {
     "data": {
      "application/vnd.jupyter.widget-view+json": {
       "model_id": "14ebbe16c4cf46de80bb06c685d0cd27",
       "version_major": 2,
       "version_minor": 0
      },
      "text/plain": [
       "VBox(children=(Label(value='Waiting for wandb.init()...\\r'), FloatProgress(value=0.016669100066671185, max=1.0…"
      ]
     },
     "metadata": {},
     "output_type": "display_data"
    },
    {
     "data": {
      "text/html": [
       "Tracking run with wandb version 0.13.5"
      ],
      "text/plain": [
       "<IPython.core.display.HTML object>"
      ]
     },
     "metadata": {},
     "output_type": "display_data"
    },
    {
     "data": {
      "text/html": [
       "Run data is saved locally in <code>/aiffel/aiffel/aiffelthon/wandb/run-20221113_132141-f8vwjkrt</code>"
      ],
      "text/plain": [
       "<IPython.core.display.HTML object>"
      ]
     },
     "metadata": {},
     "output_type": "display_data"
    },
    {
     "data": {
      "text/html": [
       "Syncing run <strong><a href=\"https://wandb.ai/chhyyi/redzone_LSTM_sweep/runs/f8vwjkrt\" target=\"_blank\">rosy-sweep-30</a></strong> to <a href=\"https://wandb.ai/chhyyi/redzone_LSTM_sweep\" target=\"_blank\">Weights & Biases</a> (<a href=\"https://wandb.me/run\" target=\"_blank\">docs</a>)<br/>Sweep page:  <a href=\"https://wandb.ai/chhyyi/redzone_LSTM_sweep/sweeps/nhh58kej\" target=\"_blank\">https://wandb.ai/chhyyi/redzone_LSTM_sweep/sweeps/nhh58kej</a>"
      ],
      "text/plain": [
       "<IPython.core.display.HTML object>"
      ]
     },
     "metadata": {},
     "output_type": "display_data"
    },
    {
     "name": "stdout",
     "output_type": "stream",
     "text": [
      "loaded dataset. Generating sequences\n",
      "Any missing values exist: False\n",
      "train dataset columns: Index(['풍속(m/s)', '풍향(deg)', '기온(°C)', '수온(°C)', '강수량(mm)', '풍속(m/s).1',\n",
      "       '풍향(deg).1', '기온(°C).1', '수온(°C).1', '강수량(mm).1', '풍속(m/s).2',\n",
      "       '풍향(deg).2', '기온(°C).2', '수온(°C).2', '강수량(mm).2', '풍속(m/s).3',\n",
      "       '풍향(deg).3', '기온(°C).3', '수온(°C).3', '강수량(mm).3', '풍속(m/s).4',\n",
      "       '풍향(deg).4', '기온(°C).4', '수온(°C).4', '강수량(mm).4', '적조발생'],\n",
      "      dtype='object')\n",
      "12566 25133\n",
      "(12566, 8, 25) (12567, 8, 25) (12566, 8) (12567, 8) \n",
      "\n",
      "\n",
      "  1/197 [..............................] - ETA: 3:58 - loss: 0.6981WARNING:tensorflow:Callback method `on_train_batch_end` is slow compared to the batch time (batch time: 0.0035s vs `on_train_batch_end` time: 0.0042s). Check your callbacks.\n"
     ]
    },
    {
     "name": "stderr",
     "output_type": "stream",
     "text": [
      "WARNING:tensorflow:Callback method `on_train_batch_end` is slow compared to the batch time (batch time: 0.0035s vs `on_train_batch_end` time: 0.0042s). Check your callbacks.\n"
     ]
    },
    {
     "name": "stdout",
     "output_type": "stream",
     "text": [
      "197/197 [==============================] - 3s 7ms/step - loss: 0.1357 - val_loss: 0.3803\n"
     ]
    },
    {
     "name": "stderr",
     "output_type": "stream",
     "text": [
      "WARNING:absl:Found untraced functions such as lstm_cell_layer_call_and_return_conditional_losses, lstm_cell_layer_call_fn, lstm_cell_layer_call_fn, lstm_cell_layer_call_and_return_conditional_losses, lstm_cell_layer_call_and_return_conditional_losses while saving (showing 5 of 5). These functions will not be directly callable after loading.\n"
     ]
    },
    {
     "name": "stdout",
     "output_type": "stream",
     "text": [
      "INFO:tensorflow:Assets written to: /aiffel/aiffel/aiffelthon/wandb/run-20221113_132141-f8vwjkrt/files/model-best/assets\n"
     ]
    },
    {
     "name": "stderr",
     "output_type": "stream",
     "text": [
      "INFO:tensorflow:Assets written to: /aiffel/aiffel/aiffelthon/wandb/run-20221113_132141-f8vwjkrt/files/model-best/assets\n",
      "\u001b[34m\u001b[1mwandb\u001b[0m: Adding directory to artifact (/aiffel/aiffel/aiffelthon/wandb/run-20221113_132141-f8vwjkrt/files/model-best)... Done. 0.0s\n"
     ]
    },
    {
     "name": "stdout",
     "output_type": "stream",
     "text": [
      "sequence accuracy is 0.9252904432243176\n"
     ]
    },
    {
     "data": {
      "text/html": [
       "Waiting for W&B process to finish... <strong style=\"color:green\">(success).</strong>"
      ],
      "text/plain": [
       "<IPython.core.display.HTML object>"
      ]
     },
     "metadata": {},
     "output_type": "display_data"
    },
    {
     "data": {
      "text/html": [
       "<style>\n",
       "    table.wandb td:nth-child(1) { padding: 0 10px; text-align: left ; width: auto;} td:nth-child(2) {text-align: left ; width: 100%}\n",
       "    .wandb-row { display: flex; flex-direction: row; flex-wrap: wrap; justify-content: flex-start; width: 100% }\n",
       "    .wandb-col { display: flex; flex-direction: column; flex-basis: 100%; flex: 1; padding: 10px; }\n",
       "    </style>\n",
       "<div class=\"wandb-row\"><div class=\"wandb-col\"><h3>Run history:</h3><br/><table class=\"wandb\"><tr><td>Validation Acc :</td><td>▁</td></tr><tr><td>epoch</td><td>▁</td></tr><tr><td>loss</td><td>▁</td></tr><tr><td>val_loss</td><td>▁</td></tr></table><br/></div><div class=\"wandb-col\"><h3>Run summary:</h3><br/><table class=\"wandb\"><tr><td>Validation Acc :</td><td>0.92529</td></tr><tr><td>best_epoch</td><td>0</td></tr><tr><td>best_val_loss</td><td>0.38027</td></tr><tr><td>epoch</td><td>0</td></tr><tr><td>loss</td><td>0.1357</td></tr><tr><td>val_loss</td><td>0.38027</td></tr></table><br/></div></div>"
      ],
      "text/plain": [
       "<IPython.core.display.HTML object>"
      ]
     },
     "metadata": {},
     "output_type": "display_data"
    },
    {
     "data": {
      "text/html": [
       "Synced <strong style=\"color:#cdcd00\">rosy-sweep-30</strong>: <a href=\"https://wandb.ai/chhyyi/redzone_LSTM_sweep/runs/f8vwjkrt\" target=\"_blank\">https://wandb.ai/chhyyi/redzone_LSTM_sweep/runs/f8vwjkrt</a><br/>Synced 5 W&B file(s), 1 media file(s), 4 artifact file(s) and 1 other file(s)"
      ],
      "text/plain": [
       "<IPython.core.display.HTML object>"
      ]
     },
     "metadata": {},
     "output_type": "display_data"
    },
    {
     "data": {
      "text/html": [
       "Find logs at: <code>./wandb/run-20221113_132141-f8vwjkrt/logs</code>"
      ],
      "text/plain": [
       "<IPython.core.display.HTML object>"
      ]
     },
     "metadata": {},
     "output_type": "display_data"
    },
    {
     "name": "stderr",
     "output_type": "stream",
     "text": [
      "\u001b[34m\u001b[1mwandb\u001b[0m: Agent Starting Run: z0s67em5 with config:\n",
      "\u001b[34m\u001b[1mwandb\u001b[0m: \tepochs: 1\n",
      "\u001b[34m\u001b[1mwandb\u001b[0m: \tlearning_rate: 0.0002\n",
      "\u001b[34m\u001b[1mwandb\u001b[0m: \tsplit_train_ratio: 0.8\n",
      "\u001b[34m\u001b[1mwandb\u001b[0m: \tstride_inside_seq: 3\n",
      "\u001b[34m\u001b[1mwandb\u001b[0m: \tunit_LSTM0: 256\n"
     ]
    },
    {
     "data": {
      "text/html": [
       "Tracking run with wandb version 0.13.5"
      ],
      "text/plain": [
       "<IPython.core.display.HTML object>"
      ]
     },
     "metadata": {},
     "output_type": "display_data"
    },
    {
     "data": {
      "text/html": [
       "Run data is saved locally in <code>/aiffel/aiffel/aiffelthon/wandb/run-20221113_132225-z0s67em5</code>"
      ],
      "text/plain": [
       "<IPython.core.display.HTML object>"
      ]
     },
     "metadata": {},
     "output_type": "display_data"
    },
    {
     "data": {
      "text/html": [
       "Syncing run <strong><a href=\"https://wandb.ai/chhyyi/redzone_LSTM_sweep/runs/z0s67em5\" target=\"_blank\">confused-sweep-31</a></strong> to <a href=\"https://wandb.ai/chhyyi/redzone_LSTM_sweep\" target=\"_blank\">Weights & Biases</a> (<a href=\"https://wandb.me/run\" target=\"_blank\">docs</a>)<br/>Sweep page:  <a href=\"https://wandb.ai/chhyyi/redzone_LSTM_sweep/sweeps/nhh58kej\" target=\"_blank\">https://wandb.ai/chhyyi/redzone_LSTM_sweep/sweeps/nhh58kej</a>"
      ],
      "text/plain": [
       "<IPython.core.display.HTML object>"
      ]
     },
     "metadata": {},
     "output_type": "display_data"
    },
    {
     "name": "stdout",
     "output_type": "stream",
     "text": [
      "loaded dataset. Generating sequences\n",
      "Any missing values exist: False\n",
      "train dataset columns: Index(['풍속(m/s)', '풍향(deg)', '기온(°C)', '수온(°C)', '강수량(mm)', '풍속(m/s).1',\n",
      "       '풍향(deg).1', '기온(°C).1', '수온(°C).1', '강수량(mm).1', '풍속(m/s).2',\n",
      "       '풍향(deg).2', '기온(°C).2', '수온(°C).2', '강수량(mm).2', '풍속(m/s).3',\n",
      "       '풍향(deg).3', '기온(°C).3', '수온(°C).3', '강수량(mm).3', '풍속(m/s).4',\n",
      "       '풍향(deg).4', '기온(°C).4', '수온(°C).4', '강수량(mm).4', '적조발생'],\n",
      "      dtype='object')\n",
      "20106 25133\n",
      "(20106, 24, 25) (5027, 24, 25) (20106, 24) (5027, 24) \n",
      "\n",
      "\n",
      "315/315 [==============================] - 4s 6ms/step - loss: 0.1988 - val_loss: 0.2235\n"
     ]
    },
    {
     "name": "stderr",
     "output_type": "stream",
     "text": [
      "WARNING:absl:Found untraced functions such as lstm_cell_layer_call_and_return_conditional_losses, lstm_cell_layer_call_fn, lstm_cell_layer_call_fn, lstm_cell_layer_call_and_return_conditional_losses, lstm_cell_layer_call_and_return_conditional_losses while saving (showing 5 of 5). These functions will not be directly callable after loading.\n"
     ]
    },
    {
     "name": "stdout",
     "output_type": "stream",
     "text": [
      "INFO:tensorflow:Assets written to: /aiffel/aiffel/aiffelthon/wandb/run-20221113_132225-z0s67em5/files/model-best/assets\n"
     ]
    },
    {
     "name": "stderr",
     "output_type": "stream",
     "text": [
      "INFO:tensorflow:Assets written to: /aiffel/aiffel/aiffelthon/wandb/run-20221113_132225-z0s67em5/files/model-best/assets\n",
      "\u001b[34m\u001b[1mwandb\u001b[0m: Adding directory to artifact (/aiffel/aiffel/aiffelthon/wandb/run-20221113_132225-z0s67em5/files/model-best)... Done. 0.0s\n"
     ]
    },
    {
     "name": "stdout",
     "output_type": "stream",
     "text": [
      "sequence accuracy is 0.9060241363304821\n"
     ]
    },
    {
     "data": {
      "text/html": [
       "Waiting for W&B process to finish... <strong style=\"color:green\">(success).</strong>"
      ],
      "text/plain": [
       "<IPython.core.display.HTML object>"
      ]
     },
     "metadata": {},
     "output_type": "display_data"
    },
    {
     "data": {
      "text/html": [
       "<style>\n",
       "    table.wandb td:nth-child(1) { padding: 0 10px; text-align: left ; width: auto;} td:nth-child(2) {text-align: left ; width: 100%}\n",
       "    .wandb-row { display: flex; flex-direction: row; flex-wrap: wrap; justify-content: flex-start; width: 100% }\n",
       "    .wandb-col { display: flex; flex-direction: column; flex-basis: 100%; flex: 1; padding: 10px; }\n",
       "    </style>\n",
       "<div class=\"wandb-row\"><div class=\"wandb-col\"><h3>Run history:</h3><br/><table class=\"wandb\"><tr><td>Validation Acc :</td><td>▁</td></tr><tr><td>epoch</td><td>▁</td></tr><tr><td>loss</td><td>▁</td></tr><tr><td>val_loss</td><td>▁</td></tr></table><br/></div><div class=\"wandb-col\"><h3>Run summary:</h3><br/><table class=\"wandb\"><tr><td>Validation Acc :</td><td>0.90602</td></tr><tr><td>best_epoch</td><td>0</td></tr><tr><td>best_val_loss</td><td>0.22345</td></tr><tr><td>epoch</td><td>0</td></tr><tr><td>loss</td><td>0.19878</td></tr><tr><td>val_loss</td><td>0.22345</td></tr></table><br/></div></div>"
      ],
      "text/plain": [
       "<IPython.core.display.HTML object>"
      ]
     },
     "metadata": {},
     "output_type": "display_data"
    },
    {
     "data": {
      "text/html": [
       "Synced <strong style=\"color:#cdcd00\">confused-sweep-31</strong>: <a href=\"https://wandb.ai/chhyyi/redzone_LSTM_sweep/runs/z0s67em5\" target=\"_blank\">https://wandb.ai/chhyyi/redzone_LSTM_sweep/runs/z0s67em5</a><br/>Synced 5 W&B file(s), 1 media file(s), 4 artifact file(s) and 1 other file(s)"
      ],
      "text/plain": [
       "<IPython.core.display.HTML object>"
      ]
     },
     "metadata": {},
     "output_type": "display_data"
    },
    {
     "data": {
      "text/html": [
       "Find logs at: <code>./wandb/run-20221113_132225-z0s67em5/logs</code>"
      ],
      "text/plain": [
       "<IPython.core.display.HTML object>"
      ]
     },
     "metadata": {},
     "output_type": "display_data"
    },
    {
     "name": "stderr",
     "output_type": "stream",
     "text": [
      "\u001b[34m\u001b[1mwandb\u001b[0m: Agent Starting Run: tuekjezt with config:\n",
      "\u001b[34m\u001b[1mwandb\u001b[0m: \tepochs: 1\n",
      "\u001b[34m\u001b[1mwandb\u001b[0m: \tlearning_rate: 0.0002\n",
      "\u001b[34m\u001b[1mwandb\u001b[0m: \tsplit_train_ratio: 0.8\n",
      "\u001b[34m\u001b[1mwandb\u001b[0m: \tstride_inside_seq: 9\n",
      "\u001b[34m\u001b[1mwandb\u001b[0m: \tunit_LSTM0: 128\n"
     ]
    },
    {
     "data": {
      "application/vnd.jupyter.widget-view+json": {
       "model_id": "d7ce9fed6b5543a292ea7262f025f982",
       "version_major": 2,
       "version_minor": 0
      },
      "text/plain": [
       "VBox(children=(Label(value='Waiting for wandb.init()...\\r'), FloatProgress(value=0.016668822600028457, max=1.0…"
      ]
     },
     "metadata": {},
     "output_type": "display_data"
    },
    {
     "data": {
      "text/html": [
       "Tracking run with wandb version 0.13.5"
      ],
      "text/plain": [
       "<IPython.core.display.HTML object>"
      ]
     },
     "metadata": {},
     "output_type": "display_data"
    },
    {
     "data": {
      "text/html": [
       "Run data is saved locally in <code>/aiffel/aiffel/aiffelthon/wandb/run-20221113_132348-tuekjezt</code>"
      ],
      "text/plain": [
       "<IPython.core.display.HTML object>"
      ]
     },
     "metadata": {},
     "output_type": "display_data"
    },
    {
     "data": {
      "text/html": [
       "Syncing run <strong><a href=\"https://wandb.ai/chhyyi/redzone_LSTM_sweep/runs/tuekjezt\" target=\"_blank\">glowing-sweep-32</a></strong> to <a href=\"https://wandb.ai/chhyyi/redzone_LSTM_sweep\" target=\"_blank\">Weights & Biases</a> (<a href=\"https://wandb.me/run\" target=\"_blank\">docs</a>)<br/>Sweep page:  <a href=\"https://wandb.ai/chhyyi/redzone_LSTM_sweep/sweeps/nhh58kej\" target=\"_blank\">https://wandb.ai/chhyyi/redzone_LSTM_sweep/sweeps/nhh58kej</a>"
      ],
      "text/plain": [
       "<IPython.core.display.HTML object>"
      ]
     },
     "metadata": {},
     "output_type": "display_data"
    },
    {
     "name": "stdout",
     "output_type": "stream",
     "text": [
      "loaded dataset. Generating sequences\n",
      "Any missing values exist: False\n",
      "train dataset columns: Index(['풍속(m/s)', '풍향(deg)', '기온(°C)', '수온(°C)', '강수량(mm)', '풍속(m/s).1',\n",
      "       '풍향(deg).1', '기온(°C).1', '수온(°C).1', '강수량(mm).1', '풍속(m/s).2',\n",
      "       '풍향(deg).2', '기온(°C).2', '수온(°C).2', '강수량(mm).2', '풍속(m/s).3',\n",
      "       '풍향(deg).3', '기온(°C).3', '수온(°C).3', '강수량(mm).3', '풍속(m/s).4',\n",
      "       '풍향(deg).4', '기온(°C).4', '수온(°C).4', '강수량(mm).4', '적조발생'],\n",
      "      dtype='object')\n",
      "20106 25133\n",
      "(20106, 8, 25) (5027, 8, 25) (20106, 8) (5027, 8) \n",
      "\n",
      "\n",
      "315/315 [==============================] - 3s 5ms/step - loss: 0.2581 - val_loss: 0.2335\n"
     ]
    },
    {
     "name": "stderr",
     "output_type": "stream",
     "text": [
      "WARNING:absl:Found untraced functions such as lstm_cell_layer_call_and_return_conditional_losses, lstm_cell_layer_call_fn, lstm_cell_layer_call_fn, lstm_cell_layer_call_and_return_conditional_losses, lstm_cell_layer_call_and_return_conditional_losses while saving (showing 5 of 5). These functions will not be directly callable after loading.\n"
     ]
    },
    {
     "name": "stdout",
     "output_type": "stream",
     "text": [
      "INFO:tensorflow:Assets written to: /aiffel/aiffel/aiffelthon/wandb/run-20221113_132348-tuekjezt/files/model-best/assets\n"
     ]
    },
    {
     "name": "stderr",
     "output_type": "stream",
     "text": [
      "INFO:tensorflow:Assets written to: /aiffel/aiffel/aiffelthon/wandb/run-20221113_132348-tuekjezt/files/model-best/assets\n",
      "\u001b[34m\u001b[1mwandb\u001b[0m: Adding directory to artifact (/aiffel/aiffel/aiffelthon/wandb/run-20221113_132348-tuekjezt/files/model-best)... Done. 0.0s\n"
     ]
    },
    {
     "name": "stdout",
     "output_type": "stream",
     "text": [
      "sequence accuracy is 0.9037199124726477\n"
     ]
    },
    {
     "data": {
      "text/html": [
       "Waiting for W&B process to finish... <strong style=\"color:green\">(success).</strong>"
      ],
      "text/plain": [
       "<IPython.core.display.HTML object>"
      ]
     },
     "metadata": {},
     "output_type": "display_data"
    },
    {
     "data": {
      "text/html": [
       "<style>\n",
       "    table.wandb td:nth-child(1) { padding: 0 10px; text-align: left ; width: auto;} td:nth-child(2) {text-align: left ; width: 100%}\n",
       "    .wandb-row { display: flex; flex-direction: row; flex-wrap: wrap; justify-content: flex-start; width: 100% }\n",
       "    .wandb-col { display: flex; flex-direction: column; flex-basis: 100%; flex: 1; padding: 10px; }\n",
       "    </style>\n",
       "<div class=\"wandb-row\"><div class=\"wandb-col\"><h3>Run history:</h3><br/><table class=\"wandb\"><tr><td>Validation Acc :</td><td>▁</td></tr><tr><td>epoch</td><td>▁</td></tr><tr><td>loss</td><td>▁</td></tr><tr><td>val_loss</td><td>▁</td></tr></table><br/></div><div class=\"wandb-col\"><h3>Run summary:</h3><br/><table class=\"wandb\"><tr><td>Validation Acc :</td><td>0.90372</td></tr><tr><td>best_epoch</td><td>0</td></tr><tr><td>best_val_loss</td><td>0.23352</td></tr><tr><td>epoch</td><td>0</td></tr><tr><td>loss</td><td>0.25814</td></tr><tr><td>val_loss</td><td>0.23352</td></tr></table><br/></div></div>"
      ],
      "text/plain": [
       "<IPython.core.display.HTML object>"
      ]
     },
     "metadata": {},
     "output_type": "display_data"
    },
    {
     "data": {
      "text/html": [
       "Synced <strong style=\"color:#cdcd00\">glowing-sweep-32</strong>: <a href=\"https://wandb.ai/chhyyi/redzone_LSTM_sweep/runs/tuekjezt\" target=\"_blank\">https://wandb.ai/chhyyi/redzone_LSTM_sweep/runs/tuekjezt</a><br/>Synced 5 W&B file(s), 1 media file(s), 4 artifact file(s) and 1 other file(s)"
      ],
      "text/plain": [
       "<IPython.core.display.HTML object>"
      ]
     },
     "metadata": {},
     "output_type": "display_data"
    },
    {
     "data": {
      "text/html": [
       "Find logs at: <code>./wandb/run-20221113_132348-tuekjezt/logs</code>"
      ],
      "text/plain": [
       "<IPython.core.display.HTML object>"
      ]
     },
     "metadata": {},
     "output_type": "display_data"
    },
    {
     "name": "stderr",
     "output_type": "stream",
     "text": [
      "\u001b[34m\u001b[1mwandb\u001b[0m: Agent Starting Run: eh9d8iq3 with config:\n",
      "\u001b[34m\u001b[1mwandb\u001b[0m: \tepochs: 2\n",
      "\u001b[34m\u001b[1mwandb\u001b[0m: \tlearning_rate: 0.0002\n",
      "\u001b[34m\u001b[1mwandb\u001b[0m: \tsplit_train_ratio: 0.8\n",
      "\u001b[34m\u001b[1mwandb\u001b[0m: \tstride_inside_seq: 3\n",
      "\u001b[34m\u001b[1mwandb\u001b[0m: \tunit_LSTM0: 128\n"
     ]
    },
    {
     "data": {
      "text/html": [
       "Tracking run with wandb version 0.13.5"
      ],
      "text/plain": [
       "<IPython.core.display.HTML object>"
      ]
     },
     "metadata": {},
     "output_type": "display_data"
    },
    {
     "data": {
      "text/html": [
       "Run data is saved locally in <code>/aiffel/aiffel/aiffelthon/wandb/run-20221113_132435-eh9d8iq3</code>"
      ],
      "text/plain": [
       "<IPython.core.display.HTML object>"
      ]
     },
     "metadata": {},
     "output_type": "display_data"
    },
    {
     "data": {
      "text/html": [
       "Syncing run <strong><a href=\"https://wandb.ai/chhyyi/redzone_LSTM_sweep/runs/eh9d8iq3\" target=\"_blank\">copper-sweep-33</a></strong> to <a href=\"https://wandb.ai/chhyyi/redzone_LSTM_sweep\" target=\"_blank\">Weights & Biases</a> (<a href=\"https://wandb.me/run\" target=\"_blank\">docs</a>)<br/>Sweep page:  <a href=\"https://wandb.ai/chhyyi/redzone_LSTM_sweep/sweeps/nhh58kej\" target=\"_blank\">https://wandb.ai/chhyyi/redzone_LSTM_sweep/sweeps/nhh58kej</a>"
      ],
      "text/plain": [
       "<IPython.core.display.HTML object>"
      ]
     },
     "metadata": {},
     "output_type": "display_data"
    },
    {
     "name": "stdout",
     "output_type": "stream",
     "text": [
      "loaded dataset. Generating sequences\n",
      "Any missing values exist: False\n",
      "train dataset columns: Index(['풍속(m/s)', '풍향(deg)', '기온(°C)', '수온(°C)', '강수량(mm)', '풍속(m/s).1',\n",
      "       '풍향(deg).1', '기온(°C).1', '수온(°C).1', '강수량(mm).1', '풍속(m/s).2',\n",
      "       '풍향(deg).2', '기온(°C).2', '수온(°C).2', '강수량(mm).2', '풍속(m/s).3',\n",
      "       '풍향(deg).3', '기온(°C).3', '수온(°C).3', '강수량(mm).3', '풍속(m/s).4',\n",
      "       '풍향(deg).4', '기온(°C).4', '수온(°C).4', '강수량(mm).4', '적조발생'],\n",
      "      dtype='object')\n",
      "20106 25133\n",
      "(20106, 24, 25) (5027, 24, 25) (20106, 24) (5027, 24) \n",
      "\n",
      "\n",
      "Epoch 1/2\n",
      "315/315 [==============================] - 3s 5ms/step - loss: 0.2431 - val_loss: 0.2154\n"
     ]
    },
    {
     "name": "stderr",
     "output_type": "stream",
     "text": [
      "WARNING:absl:Found untraced functions such as lstm_cell_layer_call_and_return_conditional_losses, lstm_cell_layer_call_fn, lstm_cell_layer_call_fn, lstm_cell_layer_call_and_return_conditional_losses, lstm_cell_layer_call_and_return_conditional_losses while saving (showing 5 of 5). These functions will not be directly callable after loading.\n"
     ]
    },
    {
     "name": "stdout",
     "output_type": "stream",
     "text": [
      "INFO:tensorflow:Assets written to: /aiffel/aiffel/aiffelthon/wandb/run-20221113_132435-eh9d8iq3/files/model-best/assets\n"
     ]
    },
    {
     "name": "stderr",
     "output_type": "stream",
     "text": [
      "INFO:tensorflow:Assets written to: /aiffel/aiffel/aiffelthon/wandb/run-20221113_132435-eh9d8iq3/files/model-best/assets\n",
      "\u001b[34m\u001b[1mwandb\u001b[0m: Adding directory to artifact (/aiffel/aiffel/aiffelthon/wandb/run-20221113_132435-eh9d8iq3/files/model-best)... Done. 0.0s\n"
     ]
    },
    {
     "name": "stdout",
     "output_type": "stream",
     "text": [
      "sequence accuracy is 0.8985644188051191\n",
      "Epoch 2/2\n",
      "315/315 [==============================] - 1s 4ms/step - loss: 0.1065 - val_loss: 0.2259\n",
      "sequence accuracy is 0.9039768582985214\n"
     ]
    },
    {
     "data": {
      "text/html": [
       "Waiting for W&B process to finish... <strong style=\"color:green\">(success).</strong>"
      ],
      "text/plain": [
       "<IPython.core.display.HTML object>"
      ]
     },
     "metadata": {},
     "output_type": "display_data"
    },
    {
     "data": {
      "text/html": [
       "<style>\n",
       "    table.wandb td:nth-child(1) { padding: 0 10px; text-align: left ; width: auto;} td:nth-child(2) {text-align: left ; width: 100%}\n",
       "    .wandb-row { display: flex; flex-direction: row; flex-wrap: wrap; justify-content: flex-start; width: 100% }\n",
       "    .wandb-col { display: flex; flex-direction: column; flex-basis: 100%; flex: 1; padding: 10px; }\n",
       "    </style>\n",
       "<div class=\"wandb-row\"><div class=\"wandb-col\"><h3>Run history:</h3><br/><table class=\"wandb\"><tr><td>Validation Acc :</td><td>▁</td></tr><tr><td>epoch</td><td>▁█</td></tr><tr><td>loss</td><td>█▁</td></tr><tr><td>val_loss</td><td>▁█</td></tr></table><br/></div><div class=\"wandb-col\"><h3>Run summary:</h3><br/><table class=\"wandb\"><tr><td>Validation Acc :</td><td>0.90398</td></tr><tr><td>best_epoch</td><td>0</td></tr><tr><td>best_val_loss</td><td>0.21536</td></tr><tr><td>epoch</td><td>1</td></tr><tr><td>loss</td><td>0.1065</td></tr><tr><td>val_loss</td><td>0.22592</td></tr></table><br/></div></div>"
      ],
      "text/plain": [
       "<IPython.core.display.HTML object>"
      ]
     },
     "metadata": {},
     "output_type": "display_data"
    },
    {
     "data": {
      "text/html": [
       "Synced <strong style=\"color:#cdcd00\">copper-sweep-33</strong>: <a href=\"https://wandb.ai/chhyyi/redzone_LSTM_sweep/runs/eh9d8iq3\" target=\"_blank\">https://wandb.ai/chhyyi/redzone_LSTM_sweep/runs/eh9d8iq3</a><br/>Synced 5 W&B file(s), 1 media file(s), 4 artifact file(s) and 1 other file(s)"
      ],
      "text/plain": [
       "<IPython.core.display.HTML object>"
      ]
     },
     "metadata": {},
     "output_type": "display_data"
    },
    {
     "data": {
      "text/html": [
       "Find logs at: <code>./wandb/run-20221113_132435-eh9d8iq3/logs</code>"
      ],
      "text/plain": [
       "<IPython.core.display.HTML object>"
      ]
     },
     "metadata": {},
     "output_type": "display_data"
    },
    {
     "name": "stderr",
     "output_type": "stream",
     "text": [
      "\u001b[34m\u001b[1mwandb\u001b[0m: Agent Starting Run: v7nktthf with config:\n",
      "\u001b[34m\u001b[1mwandb\u001b[0m: \tepochs: 2\n",
      "\u001b[34m\u001b[1mwandb\u001b[0m: \tlearning_rate: 0.001\n",
      "\u001b[34m\u001b[1mwandb\u001b[0m: \tsplit_train_ratio: 0.8\n",
      "\u001b[34m\u001b[1mwandb\u001b[0m: \tstride_inside_seq: 1\n",
      "\u001b[34m\u001b[1mwandb\u001b[0m: \tunit_LSTM0: 64\n"
     ]
    },
    {
     "data": {
      "text/html": [
       "Tracking run with wandb version 0.13.5"
      ],
      "text/plain": [
       "<IPython.core.display.HTML object>"
      ]
     },
     "metadata": {},
     "output_type": "display_data"
    },
    {
     "data": {
      "text/html": [
       "Run data is saved locally in <code>/aiffel/aiffel/aiffelthon/wandb/run-20221113_132535-v7nktthf</code>"
      ],
      "text/plain": [
       "<IPython.core.display.HTML object>"
      ]
     },
     "metadata": {},
     "output_type": "display_data"
    },
    {
     "data": {
      "text/html": [
       "Syncing run <strong><a href=\"https://wandb.ai/chhyyi/redzone_LSTM_sweep/runs/v7nktthf\" target=\"_blank\">frosty-sweep-34</a></strong> to <a href=\"https://wandb.ai/chhyyi/redzone_LSTM_sweep\" target=\"_blank\">Weights & Biases</a> (<a href=\"https://wandb.me/run\" target=\"_blank\">docs</a>)<br/>Sweep page:  <a href=\"https://wandb.ai/chhyyi/redzone_LSTM_sweep/sweeps/nhh58kej\" target=\"_blank\">https://wandb.ai/chhyyi/redzone_LSTM_sweep/sweeps/nhh58kej</a>"
      ],
      "text/plain": [
       "<IPython.core.display.HTML object>"
      ]
     },
     "metadata": {},
     "output_type": "display_data"
    },
    {
     "name": "stdout",
     "output_type": "stream",
     "text": [
      "loaded dataset. Generating sequences\n",
      "Any missing values exist: False\n",
      "train dataset columns: Index(['풍속(m/s)', '풍향(deg)', '기온(°C)', '수온(°C)', '강수량(mm)', '풍속(m/s).1',\n",
      "       '풍향(deg).1', '기온(°C).1', '수온(°C).1', '강수량(mm).1', '풍속(m/s).2',\n",
      "       '풍향(deg).2', '기온(°C).2', '수온(°C).2', '강수량(mm).2', '풍속(m/s).3',\n",
      "       '풍향(deg).3', '기온(°C).3', '수온(°C).3', '강수량(mm).3', '풍속(m/s).4',\n",
      "       '풍향(deg).4', '기온(°C).4', '수온(°C).4', '강수량(mm).4', '적조발생'],\n",
      "      dtype='object')\n",
      "20106 25133\n",
      "(20106, 72, 25) (5027, 72, 25) (20106, 72) (5027, 72) \n",
      "\n",
      "\n",
      "Epoch 1/2\n",
      "315/315 [==============================] - 4s 7ms/step - loss: 0.2229 - val_loss: 0.2224\n"
     ]
    },
    {
     "name": "stderr",
     "output_type": "stream",
     "text": [
      "WARNING:absl:Found untraced functions such as lstm_cell_layer_call_and_return_conditional_losses, lstm_cell_layer_call_fn, lstm_cell_layer_call_fn, lstm_cell_layer_call_and_return_conditional_losses, lstm_cell_layer_call_and_return_conditional_losses while saving (showing 5 of 5). These functions will not be directly callable after loading.\n"
     ]
    },
    {
     "name": "stdout",
     "output_type": "stream",
     "text": [
      "INFO:tensorflow:Assets written to: /aiffel/aiffel/aiffelthon/wandb/run-20221113_132535-v7nktthf/files/model-best/assets\n"
     ]
    },
    {
     "name": "stderr",
     "output_type": "stream",
     "text": [
      "INFO:tensorflow:Assets written to: /aiffel/aiffel/aiffelthon/wandb/run-20221113_132535-v7nktthf/files/model-best/assets\n",
      "\u001b[34m\u001b[1mwandb\u001b[0m: Adding directory to artifact (/aiffel/aiffel/aiffelthon/wandb/run-20221113_132535-v7nktthf/files/model-best)... Done. 0.0s\n"
     ]
    },
    {
     "name": "stdout",
     "output_type": "stream",
     "text": [
      "sequence accuracy is 0.9081929801295228\n",
      "Epoch 2/2\n",
      "315/315 [==============================] - 2s 5ms/step - loss: 0.1512 - val_loss: 0.2161\n"
     ]
    },
    {
     "name": "stderr",
     "output_type": "stream",
     "text": [
      "WARNING:absl:Found untraced functions such as lstm_cell_layer_call_and_return_conditional_losses, lstm_cell_layer_call_fn, lstm_cell_layer_call_fn, lstm_cell_layer_call_and_return_conditional_losses, lstm_cell_layer_call_and_return_conditional_losses while saving (showing 5 of 5). These functions will not be directly callable after loading.\n"
     ]
    },
    {
     "name": "stdout",
     "output_type": "stream",
     "text": [
      "INFO:tensorflow:Assets written to: /aiffel/aiffel/aiffelthon/wandb/run-20221113_132535-v7nktthf/files/model-best/assets\n"
     ]
    },
    {
     "name": "stderr",
     "output_type": "stream",
     "text": [
      "INFO:tensorflow:Assets written to: /aiffel/aiffel/aiffelthon/wandb/run-20221113_132535-v7nktthf/files/model-best/assets\n",
      "\u001b[34m\u001b[1mwandb\u001b[0m: Adding directory to artifact (/aiffel/aiffel/aiffelthon/wandb/run-20221113_132535-v7nktthf/files/model-best)... Done. 0.0s\n"
     ]
    },
    {
     "name": "stdout",
     "output_type": "stream",
     "text": [
      "sequence accuracy is 0.9095965121676282\n"
     ]
    },
    {
     "data": {
      "text/html": [
       "Waiting for W&B process to finish... <strong style=\"color:green\">(success).</strong>"
      ],
      "text/plain": [
       "<IPython.core.display.HTML object>"
      ]
     },
     "metadata": {},
     "output_type": "display_data"
    },
    {
     "data": {
      "application/vnd.jupyter.widget-view+json": {
       "model_id": "bc8b759ce9f042d684f27280b8556e9c",
       "version_major": 2,
       "version_minor": 0
      },
      "text/plain": [
       "VBox(children=(Label(value='2.573 MB of 2.573 MB uploaded (0.008 MB deduped)\\r'), FloatProgress(value=1.0, max…"
      ]
     },
     "metadata": {},
     "output_type": "display_data"
    },
    {
     "data": {
      "text/html": [
       "<style>\n",
       "    table.wandb td:nth-child(1) { padding: 0 10px; text-align: left ; width: auto;} td:nth-child(2) {text-align: left ; width: 100%}\n",
       "    .wandb-row { display: flex; flex-direction: row; flex-wrap: wrap; justify-content: flex-start; width: 100% }\n",
       "    .wandb-col { display: flex; flex-direction: column; flex-basis: 100%; flex: 1; padding: 10px; }\n",
       "    </style>\n",
       "<div class=\"wandb-row\"><div class=\"wandb-col\"><h3>Run history:</h3><br/><table class=\"wandb\"><tr><td>Validation Acc :</td><td>▁</td></tr><tr><td>epoch</td><td>▁█</td></tr><tr><td>loss</td><td>█▁</td></tr><tr><td>val_loss</td><td>█▁</td></tr></table><br/></div><div class=\"wandb-col\"><h3>Run summary:</h3><br/><table class=\"wandb\"><tr><td>Validation Acc :</td><td>0.9096</td></tr><tr><td>best_epoch</td><td>1</td></tr><tr><td>best_val_loss</td><td>0.21611</td></tr><tr><td>epoch</td><td>1</td></tr><tr><td>loss</td><td>0.15115</td></tr><tr><td>val_loss</td><td>0.21611</td></tr></table><br/></div></div>"
      ],
      "text/plain": [
       "<IPython.core.display.HTML object>"
      ]
     },
     "metadata": {},
     "output_type": "display_data"
    },
    {
     "data": {
      "text/html": [
       "Synced <strong style=\"color:#cdcd00\">frosty-sweep-34</strong>: <a href=\"https://wandb.ai/chhyyi/redzone_LSTM_sweep/runs/v7nktthf\" target=\"_blank\">https://wandb.ai/chhyyi/redzone_LSTM_sweep/runs/v7nktthf</a><br/>Synced 5 W&B file(s), 1 media file(s), 7 artifact file(s) and 1 other file(s)"
      ],
      "text/plain": [
       "<IPython.core.display.HTML object>"
      ]
     },
     "metadata": {},
     "output_type": "display_data"
    },
    {
     "data": {
      "text/html": [
       "Find logs at: <code>./wandb/run-20221113_132535-v7nktthf/logs</code>"
      ],
      "text/plain": [
       "<IPython.core.display.HTML object>"
      ]
     },
     "metadata": {},
     "output_type": "display_data"
    },
    {
     "name": "stderr",
     "output_type": "stream",
     "text": [
      "\u001b[34m\u001b[1mwandb\u001b[0m: Agent Starting Run: bq4r3bny with config:\n",
      "\u001b[34m\u001b[1mwandb\u001b[0m: \tepochs: 4\n",
      "\u001b[34m\u001b[1mwandb\u001b[0m: \tlearning_rate: 0.0032\n",
      "\u001b[34m\u001b[1mwandb\u001b[0m: \tsplit_train_ratio: 0.8\n",
      "\u001b[34m\u001b[1mwandb\u001b[0m: \tstride_inside_seq: 9\n",
      "\u001b[34m\u001b[1mwandb\u001b[0m: \tunit_LSTM0: 128\n"
     ]
    },
    {
     "data": {
      "text/html": [
       "Tracking run with wandb version 0.13.5"
      ],
      "text/plain": [
       "<IPython.core.display.HTML object>"
      ]
     },
     "metadata": {},
     "output_type": "display_data"
    },
    {
     "data": {
      "text/html": [
       "Run data is saved locally in <code>/aiffel/aiffel/aiffelthon/wandb/run-20221113_132745-bq4r3bny</code>"
      ],
      "text/plain": [
       "<IPython.core.display.HTML object>"
      ]
     },
     "metadata": {},
     "output_type": "display_data"
    },
    {
     "data": {
      "text/html": [
       "Syncing run <strong><a href=\"https://wandb.ai/chhyyi/redzone_LSTM_sweep/runs/bq4r3bny\" target=\"_blank\">radiant-sweep-35</a></strong> to <a href=\"https://wandb.ai/chhyyi/redzone_LSTM_sweep\" target=\"_blank\">Weights & Biases</a> (<a href=\"https://wandb.me/run\" target=\"_blank\">docs</a>)<br/>Sweep page:  <a href=\"https://wandb.ai/chhyyi/redzone_LSTM_sweep/sweeps/nhh58kej\" target=\"_blank\">https://wandb.ai/chhyyi/redzone_LSTM_sweep/sweeps/nhh58kej</a>"
      ],
      "text/plain": [
       "<IPython.core.display.HTML object>"
      ]
     },
     "metadata": {},
     "output_type": "display_data"
    },
    {
     "name": "stdout",
     "output_type": "stream",
     "text": [
      "loaded dataset. Generating sequences\n",
      "Any missing values exist: False\n",
      "train dataset columns: Index(['풍속(m/s)', '풍향(deg)', '기온(°C)', '수온(°C)', '강수량(mm)', '풍속(m/s).1',\n",
      "       '풍향(deg).1', '기온(°C).1', '수온(°C).1', '강수량(mm).1', '풍속(m/s).2',\n",
      "       '풍향(deg).2', '기온(°C).2', '수온(°C).2', '강수량(mm).2', '풍속(m/s).3',\n",
      "       '풍향(deg).3', '기온(°C).3', '수온(°C).3', '강수량(mm).3', '풍속(m/s).4',\n",
      "       '풍향(deg).4', '기온(°C).4', '수온(°C).4', '강수량(mm).4', '적조발생'],\n",
      "      dtype='object')\n",
      "20106 25133\n",
      "(20106, 8, 25) (5027, 8, 25) (20106, 8) (5027, 8) \n",
      "\n",
      "\n",
      "Epoch 1/4\n",
      "315/315 [==============================] - 3s 5ms/step - loss: 0.1483 - val_loss: 0.2173\n"
     ]
    },
    {
     "name": "stderr",
     "output_type": "stream",
     "text": [
      "WARNING:absl:Found untraced functions such as lstm_cell_layer_call_and_return_conditional_losses, lstm_cell_layer_call_fn, lstm_cell_layer_call_fn, lstm_cell_layer_call_and_return_conditional_losses, lstm_cell_layer_call_and_return_conditional_losses while saving (showing 5 of 5). These functions will not be directly callable after loading.\n"
     ]
    },
    {
     "name": "stdout",
     "output_type": "stream",
     "text": [
      "INFO:tensorflow:Assets written to: /aiffel/aiffel/aiffelthon/wandb/run-20221113_132745-bq4r3bny/files/model-best/assets\n"
     ]
    },
    {
     "name": "stderr",
     "output_type": "stream",
     "text": [
      "INFO:tensorflow:Assets written to: /aiffel/aiffel/aiffelthon/wandb/run-20221113_132745-bq4r3bny/files/model-best/assets\n",
      "\u001b[34m\u001b[1mwandb\u001b[0m: Adding directory to artifact (/aiffel/aiffel/aiffelthon/wandb/run-20221113_132745-bq4r3bny/files/model-best)... Done. 0.0s\n"
     ]
    },
    {
     "name": "stdout",
     "output_type": "stream",
     "text": [
      "sequence accuracy is 0.9052615874278894\n",
      "Epoch 2/4\n",
      "315/315 [==============================] - 1s 4ms/step - loss: 0.0938 - val_loss: 0.2077\n"
     ]
    },
    {
     "name": "stderr",
     "output_type": "stream",
     "text": [
      "WARNING:absl:Found untraced functions such as lstm_cell_layer_call_and_return_conditional_losses, lstm_cell_layer_call_fn, lstm_cell_layer_call_fn, lstm_cell_layer_call_and_return_conditional_losses, lstm_cell_layer_call_and_return_conditional_losses while saving (showing 5 of 5). These functions will not be directly callable after loading.\n"
     ]
    },
    {
     "name": "stdout",
     "output_type": "stream",
     "text": [
      "INFO:tensorflow:Assets written to: /aiffel/aiffel/aiffelthon/wandb/run-20221113_132745-bq4r3bny/files/model-best/assets\n"
     ]
    },
    {
     "name": "stderr",
     "output_type": "stream",
     "text": [
      "INFO:tensorflow:Assets written to: /aiffel/aiffel/aiffelthon/wandb/run-20221113_132745-bq4r3bny/files/model-best/assets\n",
      "\u001b[34m\u001b[1mwandb\u001b[0m: Adding directory to artifact (/aiffel/aiffel/aiffelthon/wandb/run-20221113_132745-bq4r3bny/files/model-best)... Done. 0.0s\n"
     ]
    },
    {
     "name": "stdout",
     "output_type": "stream",
     "text": [
      "sequence accuracy is 0.9023522975929978\n",
      "Epoch 3/4\n",
      "315/315 [==============================] - 1s 4ms/step - loss: 0.0694 - val_loss: 0.1597\n"
     ]
    },
    {
     "name": "stderr",
     "output_type": "stream",
     "text": [
      "WARNING:absl:Found untraced functions such as lstm_cell_layer_call_and_return_conditional_losses, lstm_cell_layer_call_fn, lstm_cell_layer_call_fn, lstm_cell_layer_call_and_return_conditional_losses, lstm_cell_layer_call_and_return_conditional_losses while saving (showing 5 of 5). These functions will not be directly callable after loading.\n"
     ]
    },
    {
     "name": "stdout",
     "output_type": "stream",
     "text": [
      "INFO:tensorflow:Assets written to: /aiffel/aiffel/aiffelthon/wandb/run-20221113_132745-bq4r3bny/files/model-best/assets\n"
     ]
    },
    {
     "name": "stderr",
     "output_type": "stream",
     "text": [
      "INFO:tensorflow:Assets written to: /aiffel/aiffel/aiffelthon/wandb/run-20221113_132745-bq4r3bny/files/model-best/assets\n",
      "\u001b[34m\u001b[1mwandb\u001b[0m: Adding directory to artifact (/aiffel/aiffel/aiffelthon/wandb/run-20221113_132745-bq4r3bny/files/model-best)... Done. 0.0s\n"
     ]
    },
    {
     "name": "stdout",
     "output_type": "stream",
     "text": [
      "sequence accuracy is 0.9401730654465884\n",
      "Epoch 4/4\n",
      "315/315 [==============================] - 1s 4ms/step - loss: 0.0485 - val_loss: 0.1859\n",
      "sequence accuracy is 0.9212253829321663\n"
     ]
    },
    {
     "data": {
      "text/html": [
       "Waiting for W&B process to finish... <strong style=\"color:green\">(success).</strong>"
      ],
      "text/plain": [
       "<IPython.core.display.HTML object>"
      ]
     },
     "metadata": {},
     "output_type": "display_data"
    },
    {
     "data": {
      "application/vnd.jupyter.widget-view+json": {
       "model_id": "cca4f9094cb6448caeb5955da4634931",
       "version_major": 2,
       "version_minor": 0
      },
      "text/plain": [
       "VBox(children=(Label(value='6.082 MB of 6.082 MB uploaded (0.008 MB deduped)\\r'), FloatProgress(value=1.0, max…"
      ]
     },
     "metadata": {},
     "output_type": "display_data"
    },
    {
     "data": {
      "text/html": [
       "<style>\n",
       "    table.wandb td:nth-child(1) { padding: 0 10px; text-align: left ; width: auto;} td:nth-child(2) {text-align: left ; width: 100%}\n",
       "    .wandb-row { display: flex; flex-direction: row; flex-wrap: wrap; justify-content: flex-start; width: 100% }\n",
       "    .wandb-col { display: flex; flex-direction: column; flex-basis: 100%; flex: 1; padding: 10px; }\n",
       "    </style>\n",
       "<div class=\"wandb-row\"><div class=\"wandb-col\"><h3>Run history:</h3><br/><table class=\"wandb\"><tr><td>Validation Acc :</td><td>▁</td></tr><tr><td>epoch</td><td>▁▃▆█</td></tr><tr><td>loss</td><td>█▄▂▁</td></tr><tr><td>val_loss</td><td>█▇▁▄</td></tr></table><br/></div><div class=\"wandb-col\"><h3>Run summary:</h3><br/><table class=\"wandb\"><tr><td>Validation Acc :</td><td>0.92123</td></tr><tr><td>best_epoch</td><td>2</td></tr><tr><td>best_val_loss</td><td>0.15974</td></tr><tr><td>epoch</td><td>3</td></tr><tr><td>loss</td><td>0.04846</td></tr><tr><td>val_loss</td><td>0.18594</td></tr></table><br/></div></div>"
      ],
      "text/plain": [
       "<IPython.core.display.HTML object>"
      ]
     },
     "metadata": {},
     "output_type": "display_data"
    },
    {
     "data": {
      "text/html": [
       "Synced <strong style=\"color:#cdcd00\">radiant-sweep-35</strong>: <a href=\"https://wandb.ai/chhyyi/redzone_LSTM_sweep/runs/bq4r3bny\" target=\"_blank\">https://wandb.ai/chhyyi/redzone_LSTM_sweep/runs/bq4r3bny</a><br/>Synced 5 W&B file(s), 1 media file(s), 10 artifact file(s) and 1 other file(s)"
      ],
      "text/plain": [
       "<IPython.core.display.HTML object>"
      ]
     },
     "metadata": {},
     "output_type": "display_data"
    },
    {
     "data": {
      "text/html": [
       "Find logs at: <code>./wandb/run-20221113_132745-bq4r3bny/logs</code>"
      ],
      "text/plain": [
       "<IPython.core.display.HTML object>"
      ]
     },
     "metadata": {},
     "output_type": "display_data"
    },
    {
     "name": "stderr",
     "output_type": "stream",
     "text": [
      "\u001b[34m\u001b[1mwandb\u001b[0m: Sweep Agent: Waiting for job.\n",
      "\u001b[34m\u001b[1mwandb\u001b[0m: Job received.\n",
      "\u001b[34m\u001b[1mwandb\u001b[0m: Agent Starting Run: zd0col4b with config:\n",
      "\u001b[34m\u001b[1mwandb\u001b[0m: \tepochs: 8\n",
      "\u001b[34m\u001b[1mwandb\u001b[0m: \tlearning_rate: 0.0002\n",
      "\u001b[34m\u001b[1mwandb\u001b[0m: \tsplit_train_ratio: 0.8\n",
      "\u001b[34m\u001b[1mwandb\u001b[0m: \tstride_inside_seq: 3\n",
      "\u001b[34m\u001b[1mwandb\u001b[0m: \tunit_LSTM0: 32\n"
     ]
    },
    {
     "data": {
      "text/html": [
       "Tracking run with wandb version 0.13.5"
      ],
      "text/plain": [
       "<IPython.core.display.HTML object>"
      ]
     },
     "metadata": {},
     "output_type": "display_data"
    },
    {
     "data": {
      "text/html": [
       "Run data is saved locally in <code>/aiffel/aiffel/aiffelthon/wandb/run-20221113_132900-zd0col4b</code>"
      ],
      "text/plain": [
       "<IPython.core.display.HTML object>"
      ]
     },
     "metadata": {},
     "output_type": "display_data"
    },
    {
     "data": {
      "text/html": [
       "Syncing run <strong><a href=\"https://wandb.ai/chhyyi/redzone_LSTM_sweep/runs/zd0col4b\" target=\"_blank\">vibrant-sweep-36</a></strong> to <a href=\"https://wandb.ai/chhyyi/redzone_LSTM_sweep\" target=\"_blank\">Weights & Biases</a> (<a href=\"https://wandb.me/run\" target=\"_blank\">docs</a>)<br/>Sweep page:  <a href=\"https://wandb.ai/chhyyi/redzone_LSTM_sweep/sweeps/nhh58kej\" target=\"_blank\">https://wandb.ai/chhyyi/redzone_LSTM_sweep/sweeps/nhh58kej</a>"
      ],
      "text/plain": [
       "<IPython.core.display.HTML object>"
      ]
     },
     "metadata": {},
     "output_type": "display_data"
    },
    {
     "name": "stdout",
     "output_type": "stream",
     "text": [
      "loaded dataset. Generating sequences\n",
      "Any missing values exist: False\n",
      "train dataset columns: Index(['풍속(m/s)', '풍향(deg)', '기온(°C)', '수온(°C)', '강수량(mm)', '풍속(m/s).1',\n",
      "       '풍향(deg).1', '기온(°C).1', '수온(°C).1', '강수량(mm).1', '풍속(m/s).2',\n",
      "       '풍향(deg).2', '기온(°C).2', '수온(°C).2', '강수량(mm).2', '풍속(m/s).3',\n",
      "       '풍향(deg).3', '기온(°C).3', '수온(°C).3', '강수량(mm).3', '풍속(m/s).4',\n",
      "       '풍향(deg).4', '기온(°C).4', '수온(°C).4', '강수량(mm).4', '적조발생'],\n",
      "      dtype='object')\n",
      "20106 25133\n",
      "(20106, 24, 25) (5027, 24, 25) (20106, 24) (5027, 24) \n",
      "\n",
      "\n",
      "Epoch 1/8\n",
      "315/315 [==============================] - 3s 5ms/step - loss: 0.4731 - val_loss: 0.2591\n"
     ]
    },
    {
     "name": "stderr",
     "output_type": "stream",
     "text": [
      "WARNING:absl:Found untraced functions such as lstm_cell_layer_call_and_return_conditional_losses, lstm_cell_layer_call_fn, lstm_cell_layer_call_fn, lstm_cell_layer_call_and_return_conditional_losses, lstm_cell_layer_call_and_return_conditional_losses while saving (showing 5 of 5). These functions will not be directly callable after loading.\n"
     ]
    },
    {
     "name": "stdout",
     "output_type": "stream",
     "text": [
      "INFO:tensorflow:Assets written to: /aiffel/aiffel/aiffelthon/wandb/run-20221113_132900-zd0col4b/files/model-best/assets\n"
     ]
    },
    {
     "name": "stderr",
     "output_type": "stream",
     "text": [
      "INFO:tensorflow:Assets written to: /aiffel/aiffel/aiffelthon/wandb/run-20221113_132900-zd0col4b/files/model-best/assets\n",
      "\u001b[34m\u001b[1mwandb\u001b[0m: Adding directory to artifact (/aiffel/aiffel/aiffelthon/wandb/run-20221113_132900-zd0col4b/files/model-best)... Done. 0.0s\n"
     ]
    },
    {
     "name": "stdout",
     "output_type": "stream",
     "text": [
      "sequence accuracy is 0.9132434851800278\n",
      "Epoch 2/8\n",
      "315/315 [==============================] - 1s 4ms/step - loss: 0.1940 - val_loss: 0.2059\n"
     ]
    },
    {
     "name": "stderr",
     "output_type": "stream",
     "text": [
      "WARNING:absl:Found untraced functions such as lstm_cell_layer_call_and_return_conditional_losses, lstm_cell_layer_call_fn, lstm_cell_layer_call_fn, lstm_cell_layer_call_and_return_conditional_losses, lstm_cell_layer_call_and_return_conditional_losses while saving (showing 5 of 5). These functions will not be directly callable after loading.\n"
     ]
    },
    {
     "name": "stdout",
     "output_type": "stream",
     "text": [
      "INFO:tensorflow:Assets written to: /aiffel/aiffel/aiffelthon/wandb/run-20221113_132900-zd0col4b/files/model-best/assets\n"
     ]
    },
    {
     "name": "stderr",
     "output_type": "stream",
     "text": [
      "INFO:tensorflow:Assets written to: /aiffel/aiffel/aiffelthon/wandb/run-20221113_132900-zd0col4b/files/model-best/assets\n",
      "\u001b[34m\u001b[1mwandb\u001b[0m: Adding directory to artifact (/aiffel/aiffel/aiffelthon/wandb/run-20221113_132900-zd0col4b/files/model-best)... Done. 0.0s\n"
     ]
    },
    {
     "name": "stdout",
     "output_type": "stream",
     "text": [
      "sequence accuracy is 0.9028827663948014\n",
      "Epoch 3/8\n",
      "315/315 [==============================] - 1s 4ms/step - loss: 0.1518 - val_loss: 0.2197\n",
      "sequence accuracy is 0.8835620980041111\n",
      "Epoch 4/8\n",
      "315/315 [==============================] - 1s 4ms/step - loss: 0.1239 - val_loss: 0.2047\n"
     ]
    },
    {
     "name": "stderr",
     "output_type": "stream",
     "text": [
      "WARNING:absl:Found untraced functions such as lstm_cell_layer_call_and_return_conditional_losses, lstm_cell_layer_call_fn, lstm_cell_layer_call_fn, lstm_cell_layer_call_and_return_conditional_losses, lstm_cell_layer_call_and_return_conditional_losses while saving (showing 5 of 5). These functions will not be directly callable after loading.\n"
     ]
    },
    {
     "name": "stdout",
     "output_type": "stream",
     "text": [
      "INFO:tensorflow:Assets written to: /aiffel/aiffel/aiffelthon/wandb/run-20221113_132900-zd0col4b/files/model-best/assets\n"
     ]
    },
    {
     "name": "stderr",
     "output_type": "stream",
     "text": [
      "INFO:tensorflow:Assets written to: /aiffel/aiffel/aiffelthon/wandb/run-20221113_132900-zd0col4b/files/model-best/assets\n",
      "\u001b[34m\u001b[1mwandb\u001b[0m: Adding directory to artifact (/aiffel/aiffel/aiffelthon/wandb/run-20221113_132900-zd0col4b/files/model-best)... Done. 0.0s\n"
     ]
    },
    {
     "name": "stdout",
     "output_type": "stream",
     "text": [
      "sequence accuracy is 0.8894967177242888\n",
      "Epoch 5/8\n",
      "315/315 [==============================] - 1s 4ms/step - loss: 0.1091 - val_loss: 0.1897\n"
     ]
    },
    {
     "name": "stderr",
     "output_type": "stream",
     "text": [
      "WARNING:absl:Found untraced functions such as lstm_cell_layer_call_and_return_conditional_losses, lstm_cell_layer_call_fn, lstm_cell_layer_call_fn, lstm_cell_layer_call_and_return_conditional_losses, lstm_cell_layer_call_and_return_conditional_losses while saving (showing 5 of 5). These functions will not be directly callable after loading.\n"
     ]
    },
    {
     "name": "stdout",
     "output_type": "stream",
     "text": [
      "INFO:tensorflow:Assets written to: /aiffel/aiffel/aiffelthon/wandb/run-20221113_132900-zd0col4b/files/model-best/assets\n"
     ]
    },
    {
     "name": "stderr",
     "output_type": "stream",
     "text": [
      "INFO:tensorflow:Assets written to: /aiffel/aiffel/aiffelthon/wandb/run-20221113_132900-zd0col4b/files/model-best/assets\n",
      "\u001b[34m\u001b[1mwandb\u001b[0m: Adding directory to artifact (/aiffel/aiffel/aiffelthon/wandb/run-20221113_132900-zd0col4b/files/model-best)... Done. 0.0s\n"
     ]
    },
    {
     "name": "stdout",
     "output_type": "stream",
     "text": [
      "sequence accuracy is 0.8952738545189312\n",
      "Epoch 6/8\n",
      "315/315 [==============================] - 1s 4ms/step - loss: 0.0967 - val_loss: 0.1905\n",
      "sequence accuracy is 0.8984069358795835\n",
      "Epoch 7/8\n",
      "315/315 [==============================] - 1s 4ms/step - loss: 0.0884 - val_loss: 0.1816\n"
     ]
    },
    {
     "name": "stderr",
     "output_type": "stream",
     "text": [
      "WARNING:absl:Found untraced functions such as lstm_cell_layer_call_and_return_conditional_losses, lstm_cell_layer_call_fn, lstm_cell_layer_call_fn, lstm_cell_layer_call_and_return_conditional_losses, lstm_cell_layer_call_and_return_conditional_losses while saving (showing 5 of 5). These functions will not be directly callable after loading.\n"
     ]
    },
    {
     "name": "stdout",
     "output_type": "stream",
     "text": [
      "INFO:tensorflow:Assets written to: /aiffel/aiffel/aiffelthon/wandb/run-20221113_132900-zd0col4b/files/model-best/assets\n"
     ]
    },
    {
     "name": "stderr",
     "output_type": "stream",
     "text": [
      "INFO:tensorflow:Assets written to: /aiffel/aiffel/aiffelthon/wandb/run-20221113_132900-zd0col4b/files/model-best/assets\n",
      "\u001b[34m\u001b[1mwandb\u001b[0m: Adding directory to artifact (/aiffel/aiffel/aiffelthon/wandb/run-20221113_132900-zd0col4b/files/model-best)... Done. 0.0s\n"
     ]
    },
    {
     "name": "stdout",
     "output_type": "stream",
     "text": [
      "sequence accuracy is 0.9042338041243949\n",
      "Epoch 8/8\n",
      "315/315 [==============================] - 1s 4ms/step - loss: 0.0808 - val_loss: 0.1799\n"
     ]
    },
    {
     "name": "stderr",
     "output_type": "stream",
     "text": [
      "WARNING:absl:Found untraced functions such as lstm_cell_layer_call_and_return_conditional_losses, lstm_cell_layer_call_fn, lstm_cell_layer_call_fn, lstm_cell_layer_call_and_return_conditional_losses, lstm_cell_layer_call_and_return_conditional_losses while saving (showing 5 of 5). These functions will not be directly callable after loading.\n"
     ]
    },
    {
     "name": "stdout",
     "output_type": "stream",
     "text": [
      "INFO:tensorflow:Assets written to: /aiffel/aiffel/aiffelthon/wandb/run-20221113_132900-zd0col4b/files/model-best/assets\n"
     ]
    },
    {
     "name": "stderr",
     "output_type": "stream",
     "text": [
      "INFO:tensorflow:Assets written to: /aiffel/aiffel/aiffelthon/wandb/run-20221113_132900-zd0col4b/files/model-best/assets\n",
      "\u001b[34m\u001b[1mwandb\u001b[0m: Adding directory to artifact (/aiffel/aiffel/aiffelthon/wandb/run-20221113_132900-zd0col4b/files/model-best)... Done. 0.0s\n"
     ]
    },
    {
     "name": "stdout",
     "output_type": "stream",
     "text": [
      "sequence accuracy is 0.9101518466945163\n"
     ]
    },
    {
     "data": {
      "text/html": [
       "Waiting for W&B process to finish... <strong style=\"color:green\">(success).</strong>"
      ],
      "text/plain": [
       "<IPython.core.display.HTML object>"
      ]
     },
     "metadata": {},
     "output_type": "display_data"
    },
    {
     "data": {
      "text/html": [
       "<style>\n",
       "    table.wandb td:nth-child(1) { padding: 0 10px; text-align: left ; width: auto;} td:nth-child(2) {text-align: left ; width: 100%}\n",
       "    .wandb-row { display: flex; flex-direction: row; flex-wrap: wrap; justify-content: flex-start; width: 100% }\n",
       "    .wandb-col { display: flex; flex-direction: column; flex-basis: 100%; flex: 1; padding: 10px; }\n",
       "    </style>\n",
       "<div class=\"wandb-row\"><div class=\"wandb-col\"><h3>Run history:</h3><br/><table class=\"wandb\"><tr><td>Validation Acc :</td><td>▁</td></tr><tr><td>epoch</td><td>▁▂▃▄▅▆▇█</td></tr><tr><td>loss</td><td>█▃▂▂▂▁▁▁</td></tr><tr><td>val_loss</td><td>█▃▅▃▂▂▁▁</td></tr></table><br/></div><div class=\"wandb-col\"><h3>Run summary:</h3><br/><table class=\"wandb\"><tr><td>Validation Acc :</td><td>0.91015</td></tr><tr><td>best_epoch</td><td>7</td></tr><tr><td>best_val_loss</td><td>0.17986</td></tr><tr><td>epoch</td><td>7</td></tr><tr><td>loss</td><td>0.08083</td></tr><tr><td>val_loss</td><td>0.17986</td></tr></table><br/></div></div>"
      ],
      "text/plain": [
       "<IPython.core.display.HTML object>"
      ]
     },
     "metadata": {},
     "output_type": "display_data"
    },
    {
     "data": {
      "text/html": [
       "Synced <strong style=\"color:#cdcd00\">vibrant-sweep-36</strong>: <a href=\"https://wandb.ai/chhyyi/redzone_LSTM_sweep/runs/zd0col4b\" target=\"_blank\">https://wandb.ai/chhyyi/redzone_LSTM_sweep/runs/zd0col4b</a><br/>Synced 5 W&B file(s), 1 media file(s), 19 artifact file(s) and 1 other file(s)"
      ],
      "text/plain": [
       "<IPython.core.display.HTML object>"
      ]
     },
     "metadata": {},
     "output_type": "display_data"
    },
    {
     "data": {
      "text/html": [
       "Find logs at: <code>./wandb/run-20221113_132900-zd0col4b/logs</code>"
      ],
      "text/plain": [
       "<IPython.core.display.HTML object>"
      ]
     },
     "metadata": {},
     "output_type": "display_data"
    },
    {
     "name": "stderr",
     "output_type": "stream",
     "text": [
      "\u001b[34m\u001b[1mwandb\u001b[0m: Agent Starting Run: pmq5evu6 with config:\n",
      "\u001b[34m\u001b[1mwandb\u001b[0m: \tepochs: 2\n",
      "\u001b[34m\u001b[1mwandb\u001b[0m: \tlearning_rate: 0.001\n",
      "\u001b[34m\u001b[1mwandb\u001b[0m: \tsplit_train_ratio: 0.5\n",
      "\u001b[34m\u001b[1mwandb\u001b[0m: \tstride_inside_seq: 1\n",
      "\u001b[34m\u001b[1mwandb\u001b[0m: \tunit_LSTM0: 128\n"
     ]
    },
    {
     "data": {
      "text/html": [
       "Tracking run with wandb version 0.13.5"
      ],
      "text/plain": [
       "<IPython.core.display.HTML object>"
      ]
     },
     "metadata": {},
     "output_type": "display_data"
    },
    {
     "data": {
      "text/html": [
       "Run data is saved locally in <code>/aiffel/aiffel/aiffelthon/wandb/run-20221113_133113-pmq5evu6</code>"
      ],
      "text/plain": [
       "<IPython.core.display.HTML object>"
      ]
     },
     "metadata": {},
     "output_type": "display_data"
    },
    {
     "data": {
      "text/html": [
       "Syncing run <strong><a href=\"https://wandb.ai/chhyyi/redzone_LSTM_sweep/runs/pmq5evu6\" target=\"_blank\">kind-sweep-37</a></strong> to <a href=\"https://wandb.ai/chhyyi/redzone_LSTM_sweep\" target=\"_blank\">Weights & Biases</a> (<a href=\"https://wandb.me/run\" target=\"_blank\">docs</a>)<br/>Sweep page:  <a href=\"https://wandb.ai/chhyyi/redzone_LSTM_sweep/sweeps/nhh58kej\" target=\"_blank\">https://wandb.ai/chhyyi/redzone_LSTM_sweep/sweeps/nhh58kej</a>"
      ],
      "text/plain": [
       "<IPython.core.display.HTML object>"
      ]
     },
     "metadata": {},
     "output_type": "display_data"
    },
    {
     "name": "stdout",
     "output_type": "stream",
     "text": [
      "loaded dataset. Generating sequences\n",
      "Any missing values exist: False\n",
      "train dataset columns: Index(['풍속(m/s)', '풍향(deg)', '기온(°C)', '수온(°C)', '강수량(mm)', '풍속(m/s).1',\n",
      "       '풍향(deg).1', '기온(°C).1', '수온(°C).1', '강수량(mm).1', '풍속(m/s).2',\n",
      "       '풍향(deg).2', '기온(°C).2', '수온(°C).2', '강수량(mm).2', '풍속(m/s).3',\n",
      "       '풍향(deg).3', '기온(°C).3', '수온(°C).3', '강수량(mm).3', '풍속(m/s).4',\n",
      "       '풍향(deg).4', '기온(°C).4', '수온(°C).4', '강수량(mm).4', '적조발생'],\n",
      "      dtype='object')\n",
      "12566 25133\n",
      "(12566, 72, 25) (12567, 72, 25) (12566, 72) (12567, 72) \n",
      "\n",
      "\n",
      "Epoch 1/2\n",
      "197/197 [==============================] - 3s 11ms/step - loss: 0.1735 - val_loss: 0.3137\n"
     ]
    },
    {
     "name": "stderr",
     "output_type": "stream",
     "text": [
      "WARNING:absl:Found untraced functions such as lstm_cell_layer_call_and_return_conditional_losses, lstm_cell_layer_call_fn, lstm_cell_layer_call_fn, lstm_cell_layer_call_and_return_conditional_losses, lstm_cell_layer_call_and_return_conditional_losses while saving (showing 5 of 5). These functions will not be directly callable after loading.\n"
     ]
    },
    {
     "name": "stdout",
     "output_type": "stream",
     "text": [
      "INFO:tensorflow:Assets written to: /aiffel/aiffel/aiffelthon/wandb/run-20221113_133113-pmq5evu6/files/model-best/assets\n"
     ]
    },
    {
     "name": "stderr",
     "output_type": "stream",
     "text": [
      "INFO:tensorflow:Assets written to: /aiffel/aiffel/aiffelthon/wandb/run-20221113_133113-pmq5evu6/files/model-best/assets\n",
      "\u001b[34m\u001b[1mwandb\u001b[0m: Adding directory to artifact (/aiffel/aiffel/aiffelthon/wandb/run-20221113_133113-pmq5evu6/files/model-best)... Done. 0.0s\n"
     ]
    },
    {
     "name": "stdout",
     "output_type": "stream",
     "text": [
      "sequence accuracy is 0.926003289037426\n",
      "Epoch 2/2\n",
      "197/197 [==============================] - 2s 8ms/step - loss: 0.1201 - val_loss: 0.3303\n",
      "sequence accuracy is 0.9249610974067886\n"
     ]
    },
    {
     "data": {
      "text/html": [
       "Waiting for W&B process to finish... <strong style=\"color:green\">(success).</strong>"
      ],
      "text/plain": [
       "<IPython.core.display.HTML object>"
      ]
     },
     "metadata": {},
     "output_type": "display_data"
    },
    {
     "data": {
      "text/html": [
       "<style>\n",
       "    table.wandb td:nth-child(1) { padding: 0 10px; text-align: left ; width: auto;} td:nth-child(2) {text-align: left ; width: 100%}\n",
       "    .wandb-row { display: flex; flex-direction: row; flex-wrap: wrap; justify-content: flex-start; width: 100% }\n",
       "    .wandb-col { display: flex; flex-direction: column; flex-basis: 100%; flex: 1; padding: 10px; }\n",
       "    </style>\n",
       "<div class=\"wandb-row\"><div class=\"wandb-col\"><h3>Run history:</h3><br/><table class=\"wandb\"><tr><td>Validation Acc :</td><td>▁</td></tr><tr><td>epoch</td><td>▁█</td></tr><tr><td>loss</td><td>█▁</td></tr><tr><td>val_loss</td><td>▁█</td></tr></table><br/></div><div class=\"wandb-col\"><h3>Run summary:</h3><br/><table class=\"wandb\"><tr><td>Validation Acc :</td><td>0.92496</td></tr><tr><td>best_epoch</td><td>0</td></tr><tr><td>best_val_loss</td><td>0.31374</td></tr><tr><td>epoch</td><td>1</td></tr><tr><td>loss</td><td>0.12015</td></tr><tr><td>val_loss</td><td>0.33031</td></tr></table><br/></div></div>"
      ],
      "text/plain": [
       "<IPython.core.display.HTML object>"
      ]
     },
     "metadata": {},
     "output_type": "display_data"
    },
    {
     "data": {
      "text/html": [
       "Synced <strong style=\"color:#cdcd00\">kind-sweep-37</strong>: <a href=\"https://wandb.ai/chhyyi/redzone_LSTM_sweep/runs/pmq5evu6\" target=\"_blank\">https://wandb.ai/chhyyi/redzone_LSTM_sweep/runs/pmq5evu6</a><br/>Synced 5 W&B file(s), 1 media file(s), 4 artifact file(s) and 1 other file(s)"
      ],
      "text/plain": [
       "<IPython.core.display.HTML object>"
      ]
     },
     "metadata": {},
     "output_type": "display_data"
    },
    {
     "data": {
      "text/html": [
       "Find logs at: <code>./wandb/run-20221113_133113-pmq5evu6/logs</code>"
      ],
      "text/plain": [
       "<IPython.core.display.HTML object>"
      ]
     },
     "metadata": {},
     "output_type": "display_data"
    },
    {
     "name": "stderr",
     "output_type": "stream",
     "text": [
      "\u001b[34m\u001b[1mwandb\u001b[0m: Agent Starting Run: spq233so with config:\n",
      "\u001b[34m\u001b[1mwandb\u001b[0m: \tepochs: 8\n",
      "\u001b[34m\u001b[1mwandb\u001b[0m: \tlearning_rate: 0.0032\n",
      "\u001b[34m\u001b[1mwandb\u001b[0m: \tsplit_train_ratio: 0.5\n",
      "\u001b[34m\u001b[1mwandb\u001b[0m: \tstride_inside_seq: 9\n",
      "\u001b[34m\u001b[1mwandb\u001b[0m: \tunit_LSTM0: 32\n"
     ]
    },
    {
     "data": {
      "text/html": [
       "Tracking run with wandb version 0.13.5"
      ],
      "text/plain": [
       "<IPython.core.display.HTML object>"
      ]
     },
     "metadata": {},
     "output_type": "display_data"
    },
    {
     "data": {
      "text/html": [
       "Run data is saved locally in <code>/aiffel/aiffel/aiffelthon/wandb/run-20221113_133322-spq233so</code>"
      ],
      "text/plain": [
       "<IPython.core.display.HTML object>"
      ]
     },
     "metadata": {},
     "output_type": "display_data"
    },
    {
     "data": {
      "text/html": [
       "Syncing run <strong><a href=\"https://wandb.ai/chhyyi/redzone_LSTM_sweep/runs/spq233so\" target=\"_blank\">ruby-sweep-38</a></strong> to <a href=\"https://wandb.ai/chhyyi/redzone_LSTM_sweep\" target=\"_blank\">Weights & Biases</a> (<a href=\"https://wandb.me/run\" target=\"_blank\">docs</a>)<br/>Sweep page:  <a href=\"https://wandb.ai/chhyyi/redzone_LSTM_sweep/sweeps/nhh58kej\" target=\"_blank\">https://wandb.ai/chhyyi/redzone_LSTM_sweep/sweeps/nhh58kej</a>"
      ],
      "text/plain": [
       "<IPython.core.display.HTML object>"
      ]
     },
     "metadata": {},
     "output_type": "display_data"
    },
    {
     "name": "stdout",
     "output_type": "stream",
     "text": [
      "loaded dataset. Generating sequences\n",
      "Any missing values exist: False\n",
      "train dataset columns: Index(['풍속(m/s)', '풍향(deg)', '기온(°C)', '수온(°C)', '강수량(mm)', '풍속(m/s).1',\n",
      "       '풍향(deg).1', '기온(°C).1', '수온(°C).1', '강수량(mm).1', '풍속(m/s).2',\n",
      "       '풍향(deg).2', '기온(°C).2', '수온(°C).2', '강수량(mm).2', '풍속(m/s).3',\n",
      "       '풍향(deg).3', '기온(°C).3', '수온(°C).3', '강수량(mm).3', '풍속(m/s).4',\n",
      "       '풍향(deg).4', '기온(°C).4', '수온(°C).4', '강수량(mm).4', '적조발생'],\n",
      "      dtype='object')\n",
      "12566 25133\n",
      "(12566, 8, 25) (12567, 8, 25) (12566, 8) (12567, 8) \n",
      "\n",
      "\n",
      "Epoch 1/8\n",
      "197/197 [==============================] - 3s 6ms/step - loss: 0.1636 - val_loss: 0.3115\n"
     ]
    },
    {
     "name": "stderr",
     "output_type": "stream",
     "text": [
      "WARNING:absl:Found untraced functions such as lstm_cell_layer_call_and_return_conditional_losses, lstm_cell_layer_call_fn, lstm_cell_layer_call_fn, lstm_cell_layer_call_and_return_conditional_losses, lstm_cell_layer_call_and_return_conditional_losses while saving (showing 5 of 5). These functions will not be directly callable after loading.\n"
     ]
    },
    {
     "name": "stdout",
     "output_type": "stream",
     "text": [
      "INFO:tensorflow:Assets written to: /aiffel/aiffel/aiffelthon/wandb/run-20221113_133322-spq233so/files/model-best/assets\n"
     ]
    },
    {
     "name": "stderr",
     "output_type": "stream",
     "text": [
      "INFO:tensorflow:Assets written to: /aiffel/aiffel/aiffelthon/wandb/run-20221113_133322-spq233so/files/model-best/assets\n",
      "\u001b[34m\u001b[1mwandb\u001b[0m: Adding directory to artifact (/aiffel/aiffel/aiffelthon/wandb/run-20221113_133322-spq233so/files/model-best)... Done. 0.0s\n"
     ]
    },
    {
     "name": "stdout",
     "output_type": "stream",
     "text": [
      "sequence accuracy is 0.9188449908490491\n",
      "Epoch 2/8\n",
      "197/197 [==============================] - 1s 5ms/step - loss: 0.0916 - val_loss: 0.3319\n",
      "sequence accuracy is 0.9202972069706374\n",
      "Epoch 3/8\n",
      "197/197 [==============================] - 1s 4ms/step - loss: 0.0689 - val_loss: 0.3832\n",
      "sequence accuracy is 0.9191732314792711\n",
      "Epoch 4/8\n",
      "197/197 [==============================] - 1s 4ms/step - loss: 0.0542 - val_loss: 0.4304\n",
      "sequence accuracy is 0.9133444736213894\n",
      "Epoch 5/8\n",
      "197/197 [==============================] - 1s 4ms/step - loss: 0.0344 - val_loss: 0.4700\n",
      "sequence accuracy is 0.9309501074242063\n",
      "Epoch 6/8\n",
      "197/197 [==============================] - 1s 5ms/step - loss: 0.0253 - val_loss: 0.5237\n",
      "sequence accuracy is 0.929269117530039\n",
      "Epoch 7/8\n",
      "197/197 [==============================] - 1s 4ms/step - loss: 0.0239 - val_loss: 0.5449\n",
      "sequence accuracy is 0.9218389432641044\n",
      "Epoch 8/8\n",
      "197/197 [==============================] - 1s 4ms/step - loss: 0.0182 - val_loss: 0.5910\n",
      "sequence accuracy is 0.9098531869181189\n"
     ]
    },
    {
     "data": {
      "text/html": [
       "Waiting for W&B process to finish... <strong style=\"color:green\">(success).</strong>"
      ],
      "text/plain": [
       "<IPython.core.display.HTML object>"
      ]
     },
     "metadata": {},
     "output_type": "display_data"
    },
    {
     "data": {
      "application/vnd.jupyter.widget-view+json": {
       "model_id": "b72d60a4dd79427da64e1351d005f022",
       "version_major": 2,
       "version_minor": 0
      },
      "text/plain": [
       "VBox(children=(Label(value='1.005 MB of 1.005 MB uploaded (0.000 MB deduped)\\r'), FloatProgress(value=1.0, max…"
      ]
     },
     "metadata": {},
     "output_type": "display_data"
    },
    {
     "data": {
      "text/html": [
       "<style>\n",
       "    table.wandb td:nth-child(1) { padding: 0 10px; text-align: left ; width: auto;} td:nth-child(2) {text-align: left ; width: 100%}\n",
       "    .wandb-row { display: flex; flex-direction: row; flex-wrap: wrap; justify-content: flex-start; width: 100% }\n",
       "    .wandb-col { display: flex; flex-direction: column; flex-basis: 100%; flex: 1; padding: 10px; }\n",
       "    </style>\n",
       "<div class=\"wandb-row\"><div class=\"wandb-col\"><h3>Run history:</h3><br/><table class=\"wandb\"><tr><td>Validation Acc :</td><td>▁</td></tr><tr><td>epoch</td><td>▁▂▃▄▅▆▇█</td></tr><tr><td>loss</td><td>█▅▃▃▂▁▁▁</td></tr><tr><td>val_loss</td><td>▁▂▃▄▅▆▇█</td></tr></table><br/></div><div class=\"wandb-col\"><h3>Run summary:</h3><br/><table class=\"wandb\"><tr><td>Validation Acc :</td><td>0.90985</td></tr><tr><td>best_epoch</td><td>0</td></tr><tr><td>best_val_loss</td><td>0.31151</td></tr><tr><td>epoch</td><td>7</td></tr><tr><td>loss</td><td>0.01817</td></tr><tr><td>val_loss</td><td>0.59105</td></tr></table><br/></div></div>"
      ],
      "text/plain": [
       "<IPython.core.display.HTML object>"
      ]
     },
     "metadata": {},
     "output_type": "display_data"
    },
    {
     "data": {
      "text/html": [
       "Synced <strong style=\"color:#cdcd00\">ruby-sweep-38</strong>: <a href=\"https://wandb.ai/chhyyi/redzone_LSTM_sweep/runs/spq233so\" target=\"_blank\">https://wandb.ai/chhyyi/redzone_LSTM_sweep/runs/spq233so</a><br/>Synced 5 W&B file(s), 1 media file(s), 4 artifact file(s) and 1 other file(s)"
      ],
      "text/plain": [
       "<IPython.core.display.HTML object>"
      ]
     },
     "metadata": {},
     "output_type": "display_data"
    },
    {
     "data": {
      "text/html": [
       "Find logs at: <code>./wandb/run-20221113_133322-spq233so/logs</code>"
      ],
      "text/plain": [
       "<IPython.core.display.HTML object>"
      ]
     },
     "metadata": {},
     "output_type": "display_data"
    },
    {
     "name": "stderr",
     "output_type": "stream",
     "text": [
      "\u001b[34m\u001b[1mwandb\u001b[0m: Agent Starting Run: djle97hz with config:\n",
      "\u001b[34m\u001b[1mwandb\u001b[0m: \tepochs: 8\n",
      "\u001b[34m\u001b[1mwandb\u001b[0m: \tlearning_rate: 0.0032\n",
      "\u001b[34m\u001b[1mwandb\u001b[0m: \tsplit_train_ratio: 0.5\n",
      "\u001b[34m\u001b[1mwandb\u001b[0m: \tstride_inside_seq: 3\n",
      "\u001b[34m\u001b[1mwandb\u001b[0m: \tunit_LSTM0: 128\n"
     ]
    },
    {
     "data": {
      "text/html": [
       "Tracking run with wandb version 0.13.5"
      ],
      "text/plain": [
       "<IPython.core.display.HTML object>"
      ]
     },
     "metadata": {},
     "output_type": "display_data"
    },
    {
     "data": {
      "text/html": [
       "Run data is saved locally in <code>/aiffel/aiffel/aiffelthon/wandb/run-20221113_133422-djle97hz</code>"
      ],
      "text/plain": [
       "<IPython.core.display.HTML object>"
      ]
     },
     "metadata": {},
     "output_type": "display_data"
    },
    {
     "data": {
      "text/html": [
       "Syncing run <strong><a href=\"https://wandb.ai/chhyyi/redzone_LSTM_sweep/runs/djle97hz\" target=\"_blank\">lively-sweep-39</a></strong> to <a href=\"https://wandb.ai/chhyyi/redzone_LSTM_sweep\" target=\"_blank\">Weights & Biases</a> (<a href=\"https://wandb.me/run\" target=\"_blank\">docs</a>)<br/>Sweep page:  <a href=\"https://wandb.ai/chhyyi/redzone_LSTM_sweep/sweeps/nhh58kej\" target=\"_blank\">https://wandb.ai/chhyyi/redzone_LSTM_sweep/sweeps/nhh58kej</a>"
      ],
      "text/plain": [
       "<IPython.core.display.HTML object>"
      ]
     },
     "metadata": {},
     "output_type": "display_data"
    },
    {
     "name": "stdout",
     "output_type": "stream",
     "text": [
      "loaded dataset. Generating sequences\n",
      "Any missing values exist: False\n",
      "train dataset columns: Index(['풍속(m/s)', '풍향(deg)', '기온(°C)', '수온(°C)', '강수량(mm)', '풍속(m/s).1',\n",
      "       '풍향(deg).1', '기온(°C).1', '수온(°C).1', '강수량(mm).1', '풍속(m/s).2',\n",
      "       '풍향(deg).2', '기온(°C).2', '수온(°C).2', '강수량(mm).2', '풍속(m/s).3',\n",
      "       '풍향(deg).3', '기온(°C).3', '수온(°C).3', '강수량(mm).3', '풍속(m/s).4',\n",
      "       '풍향(deg).4', '기온(°C).4', '수온(°C).4', '강수량(mm).4', '적조발생'],\n",
      "      dtype='object')\n",
      "12566 25133\n",
      "(12566, 24, 25) (12567, 24, 25) (12566, 24) (12567, 24) \n",
      "\n",
      "\n",
      "Epoch 1/8\n",
      "197/197 [==============================] - 3s 8ms/step - loss: 0.1426 - val_loss: 0.3507\n"
     ]
    },
    {
     "name": "stderr",
     "output_type": "stream",
     "text": [
      "WARNING:absl:Found untraced functions such as lstm_cell_layer_call_and_return_conditional_losses, lstm_cell_layer_call_fn, lstm_cell_layer_call_fn, lstm_cell_layer_call_and_return_conditional_losses, lstm_cell_layer_call_and_return_conditional_losses while saving (showing 5 of 5). These functions will not be directly callable after loading.\n"
     ]
    },
    {
     "name": "stdout",
     "output_type": "stream",
     "text": [
      "INFO:tensorflow:Assets written to: /aiffel/aiffel/aiffelthon/wandb/run-20221113_133422-djle97hz/files/model-best/assets\n"
     ]
    },
    {
     "name": "stderr",
     "output_type": "stream",
     "text": [
      "INFO:tensorflow:Assets written to: /aiffel/aiffel/aiffelthon/wandb/run-20221113_133422-djle97hz/files/model-best/assets\n",
      "\u001b[34m\u001b[1mwandb\u001b[0m: Adding directory to artifact (/aiffel/aiffel/aiffelthon/wandb/run-20221113_133422-djle97hz/files/model-best)... Done. 0.0s\n"
     ]
    },
    {
     "name": "stdout",
     "output_type": "stream",
     "text": [
      "sequence accuracy is 0.9254860613776823\n",
      "Epoch 2/8\n",
      "197/197 [==============================] - 1s 6ms/step - loss: 0.0973 - val_loss: 0.4016\n",
      "sequence accuracy is 0.9267758149651203\n",
      "Epoch 3/8\n",
      "197/197 [==============================] - 1s 6ms/step - loss: 0.0710 - val_loss: 0.3514\n",
      "sequence accuracy is 0.9213150844805178\n",
      "Epoch 4/8\n",
      "197/197 [==============================] - 1s 6ms/step - loss: 0.0522 - val_loss: 0.4262\n",
      "sequence accuracy is 0.9323724834885017\n",
      "Epoch 5/8\n",
      "197/197 [==============================] - 1s 6ms/step - loss: 0.0402 - val_loss: 0.5185\n",
      "sequence accuracy is 0.9212089864990318\n",
      "Epoch 6/8\n",
      "197/197 [==============================] - 1s 6ms/step - loss: 0.0311 - val_loss: 0.5045\n",
      "sequence accuracy is 0.9233342616906713\n",
      "Epoch 7/8\n",
      "197/197 [==============================] - 1s 6ms/step - loss: 0.0187 - val_loss: 0.6222\n",
      "sequence accuracy is 0.9206055542293308\n",
      "Epoch 8/8\n",
      "197/197 [==============================] - 1s 6ms/step - loss: 0.0246 - val_loss: 0.6918\n",
      "sequence accuracy is 0.9253136521577677\n"
     ]
    },
    {
     "data": {
      "text/html": [
       "Waiting for W&B process to finish... <strong style=\"color:green\">(success).</strong>"
      ],
      "text/plain": [
       "<IPython.core.display.HTML object>"
      ]
     },
     "metadata": {},
     "output_type": "display_data"
    },
    {
     "data": {
      "text/html": [
       "<style>\n",
       "    table.wandb td:nth-child(1) { padding: 0 10px; text-align: left ; width: auto;} td:nth-child(2) {text-align: left ; width: 100%}\n",
       "    .wandb-row { display: flex; flex-direction: row; flex-wrap: wrap; justify-content: flex-start; width: 100% }\n",
       "    .wandb-col { display: flex; flex-direction: column; flex-basis: 100%; flex: 1; padding: 10px; }\n",
       "    </style>\n",
       "<div class=\"wandb-row\"><div class=\"wandb-col\"><h3>Run history:</h3><br/><table class=\"wandb\"><tr><td>Validation Acc :</td><td>▁</td></tr><tr><td>epoch</td><td>▁▂▃▄▅▆▇█</td></tr><tr><td>loss</td><td>█▅▄▃▂▂▁▁</td></tr><tr><td>val_loss</td><td>▁▂▁▃▄▄▇█</td></tr></table><br/></div><div class=\"wandb-col\"><h3>Run summary:</h3><br/><table class=\"wandb\"><tr><td>Validation Acc :</td><td>0.92531</td></tr><tr><td>best_epoch</td><td>0</td></tr><tr><td>best_val_loss</td><td>0.35072</td></tr><tr><td>epoch</td><td>7</td></tr><tr><td>loss</td><td>0.02458</td></tr><tr><td>val_loss</td><td>0.69182</td></tr></table><br/></div></div>"
      ],
      "text/plain": [
       "<IPython.core.display.HTML object>"
      ]
     },
     "metadata": {},
     "output_type": "display_data"
    },
    {
     "data": {
      "text/html": [
       "Synced <strong style=\"color:#cdcd00\">lively-sweep-39</strong>: <a href=\"https://wandb.ai/chhyyi/redzone_LSTM_sweep/runs/djle97hz\" target=\"_blank\">https://wandb.ai/chhyyi/redzone_LSTM_sweep/runs/djle97hz</a><br/>Synced 5 W&B file(s), 1 media file(s), 4 artifact file(s) and 1 other file(s)"
      ],
      "text/plain": [
       "<IPython.core.display.HTML object>"
      ]
     },
     "metadata": {},
     "output_type": "display_data"
    },
    {
     "data": {
      "text/html": [
       "Find logs at: <code>./wandb/run-20221113_133422-djle97hz/logs</code>"
      ],
      "text/plain": [
       "<IPython.core.display.HTML object>"
      ]
     },
     "metadata": {},
     "output_type": "display_data"
    },
    {
     "name": "stderr",
     "output_type": "stream",
     "text": [
      "\u001b[34m\u001b[1mwandb\u001b[0m: Agent Starting Run: y66ncs07 with config:\n",
      "\u001b[34m\u001b[1mwandb\u001b[0m: \tepochs: 12\n",
      "\u001b[34m\u001b[1mwandb\u001b[0m: \tlearning_rate: 0.0002\n",
      "\u001b[34m\u001b[1mwandb\u001b[0m: \tsplit_train_ratio: 0.5\n",
      "\u001b[34m\u001b[1mwandb\u001b[0m: \tstride_inside_seq: 9\n",
      "\u001b[34m\u001b[1mwandb\u001b[0m: \tunit_LSTM0: 128\n"
     ]
    },
    {
     "data": {
      "text/html": [
       "Tracking run with wandb version 0.13.5"
      ],
      "text/plain": [
       "<IPython.core.display.HTML object>"
      ]
     },
     "metadata": {},
     "output_type": "display_data"
    },
    {
     "data": {
      "text/html": [
       "Run data is saved locally in <code>/aiffel/aiffel/aiffelthon/wandb/run-20221113_133609-y66ncs07</code>"
      ],
      "text/plain": [
       "<IPython.core.display.HTML object>"
      ]
     },
     "metadata": {},
     "output_type": "display_data"
    },
    {
     "data": {
      "text/html": [
       "Syncing run <strong><a href=\"https://wandb.ai/chhyyi/redzone_LSTM_sweep/runs/y66ncs07\" target=\"_blank\">young-sweep-40</a></strong> to <a href=\"https://wandb.ai/chhyyi/redzone_LSTM_sweep\" target=\"_blank\">Weights & Biases</a> (<a href=\"https://wandb.me/run\" target=\"_blank\">docs</a>)<br/>Sweep page:  <a href=\"https://wandb.ai/chhyyi/redzone_LSTM_sweep/sweeps/nhh58kej\" target=\"_blank\">https://wandb.ai/chhyyi/redzone_LSTM_sweep/sweeps/nhh58kej</a>"
      ],
      "text/plain": [
       "<IPython.core.display.HTML object>"
      ]
     },
     "metadata": {},
     "output_type": "display_data"
    },
    {
     "name": "stdout",
     "output_type": "stream",
     "text": [
      "loaded dataset. Generating sequences\n",
      "Any missing values exist: False\n",
      "train dataset columns: Index(['풍속(m/s)', '풍향(deg)', '기온(°C)', '수온(°C)', '강수량(mm)', '풍속(m/s).1',\n",
      "       '풍향(deg).1', '기온(°C).1', '수온(°C).1', '강수량(mm).1', '풍속(m/s).2',\n",
      "       '풍향(deg).2', '기온(°C).2', '수온(°C).2', '강수량(mm).2', '풍속(m/s).3',\n",
      "       '풍향(deg).3', '기온(°C).3', '수온(°C).3', '강수량(mm).3', '풍속(m/s).4',\n",
      "       '풍향(deg).4', '기온(°C).4', '수온(°C).4', '강수량(mm).4', '적조발생'],\n",
      "      dtype='object')\n",
      "12566 25133\n",
      "(12566, 8, 25) (12567, 8, 25) (12566, 8) (12567, 8) \n",
      "\n",
      "\n",
      "Epoch 1/12\n",
      "197/197 [==============================] - 2s 6ms/step - loss: 0.3213 - val_loss: 0.2238\n"
     ]
    },
    {
     "name": "stderr",
     "output_type": "stream",
     "text": [
      "WARNING:absl:Found untraced functions such as lstm_cell_layer_call_and_return_conditional_losses, lstm_cell_layer_call_fn, lstm_cell_layer_call_fn, lstm_cell_layer_call_and_return_conditional_losses, lstm_cell_layer_call_and_return_conditional_losses while saving (showing 5 of 5). These functions will not be directly callable after loading.\n"
     ]
    },
    {
     "name": "stdout",
     "output_type": "stream",
     "text": [
      "INFO:tensorflow:Assets written to: /aiffel/aiffel/aiffelthon/wandb/run-20221113_133609-y66ncs07/files/model-best/assets\n"
     ]
    },
    {
     "name": "stderr",
     "output_type": "stream",
     "text": [
      "INFO:tensorflow:Assets written to: /aiffel/aiffel/aiffelthon/wandb/run-20221113_133609-y66ncs07/files/model-best/assets\n",
      "\u001b[34m\u001b[1mwandb\u001b[0m: Adding directory to artifact (/aiffel/aiffel/aiffelthon/wandb/run-20221113_133609-y66ncs07/files/model-best)... Done. 0.0s\n"
     ]
    },
    {
     "name": "stdout",
     "output_type": "stream",
     "text": [
      "sequence accuracy is 0.9261955916288692\n",
      "Epoch 2/12\n",
      "197/197 [==============================] - 1s 5ms/step - loss: 0.1210 - val_loss: 0.2778\n",
      "sequence accuracy is 0.9261657515715763\n",
      "Epoch 3/12\n",
      "197/197 [==============================] - 1s 5ms/step - loss: 0.1058 - val_loss: 0.3060\n",
      "sequence accuracy is 0.9261955916288692\n",
      "Epoch 4/12\n",
      "197/197 [==============================] - 1s 5ms/step - loss: 0.0972 - val_loss: 0.3331\n",
      "sequence accuracy is 0.9235199331582716\n",
      "Epoch 5/12\n",
      "197/197 [==============================] - 1s 5ms/step - loss: 0.0870 - val_loss: 0.3543\n",
      "sequence accuracy is 0.9235696665870932\n",
      "Epoch 6/12\n",
      "197/197 [==============================] - 1s 5ms/step - loss: 0.0773 - val_loss: 0.3612\n",
      "sequence accuracy is 0.9135533540224398\n",
      "Epoch 7/12\n",
      "197/197 [==============================] - 1s 5ms/step - loss: 0.0707 - val_loss: 0.3762\n",
      "sequence accuracy is 0.9248030556218668\n",
      "Epoch 8/12\n",
      "197/197 [==============================] - 1s 5ms/step - loss: 0.0642 - val_loss: 0.3907\n",
      "sequence accuracy is 0.9211128352033102\n",
      "Epoch 9/12\n",
      "197/197 [==============================] - 1s 5ms/step - loss: 0.0556 - val_loss: 0.4266\n",
      "sequence accuracy is 0.9241963077902443\n",
      "Epoch 10/12\n",
      "197/197 [==============================] - 1s 5ms/step - loss: 0.0485 - val_loss: 0.4429\n",
      "sequence accuracy is 0.9217991565210472\n",
      "Epoch 11/12\n",
      "197/197 [==============================] - 1s 5ms/step - loss: 0.0455 - val_loss: 0.4482\n",
      "sequence accuracy is 0.9158013050051723\n",
      "Epoch 12/12\n",
      "197/197 [==============================] - 1s 5ms/step - loss: 0.0363 - val_loss: 0.4785\n",
      "sequence accuracy is 0.925171082995146\n"
     ]
    },
    {
     "data": {
      "text/html": [
       "Waiting for W&B process to finish... <strong style=\"color:green\">(success).</strong>"
      ],
      "text/plain": [
       "<IPython.core.display.HTML object>"
      ]
     },
     "metadata": {},
     "output_type": "display_data"
    },
    {
     "data": {
      "application/vnd.jupyter.widget-view+json": {
       "model_id": "35bdb63f89fb46b889c628d692e3e632",
       "version_major": 2,
       "version_minor": 0
      },
      "text/plain": [
       "VBox(children=(Label(value='2.662 MB of 2.662 MB uploaded (0.000 MB deduped)\\r'), FloatProgress(value=1.0, max…"
      ]
     },
     "metadata": {},
     "output_type": "display_data"
    },
    {
     "data": {
      "text/html": [
       "<style>\n",
       "    table.wandb td:nth-child(1) { padding: 0 10px; text-align: left ; width: auto;} td:nth-child(2) {text-align: left ; width: 100%}\n",
       "    .wandb-row { display: flex; flex-direction: row; flex-wrap: wrap; justify-content: flex-start; width: 100% }\n",
       "    .wandb-col { display: flex; flex-direction: column; flex-basis: 100%; flex: 1; padding: 10px; }\n",
       "    </style>\n",
       "<div class=\"wandb-row\"><div class=\"wandb-col\"><h3>Run history:</h3><br/><table class=\"wandb\"><tr><td>Validation Acc :</td><td>▁</td></tr><tr><td>epoch</td><td>▁▂▂▃▄▄▅▅▆▇▇█</td></tr><tr><td>loss</td><td>█▃▃▂▂▂▂▂▁▁▁▁</td></tr><tr><td>val_loss</td><td>▁▂▃▄▅▅▅▆▇▇▇█</td></tr></table><br/></div><div class=\"wandb-col\"><h3>Run summary:</h3><br/><table class=\"wandb\"><tr><td>Validation Acc :</td><td>0.92517</td></tr><tr><td>best_epoch</td><td>0</td></tr><tr><td>best_val_loss</td><td>0.22384</td></tr><tr><td>epoch</td><td>11</td></tr><tr><td>loss</td><td>0.03626</td></tr><tr><td>val_loss</td><td>0.47846</td></tr></table><br/></div></div>"
      ],
      "text/plain": [
       "<IPython.core.display.HTML object>"
      ]
     },
     "metadata": {},
     "output_type": "display_data"
    },
    {
     "data": {
      "text/html": [
       "Synced <strong style=\"color:#cdcd00\">young-sweep-40</strong>: <a href=\"https://wandb.ai/chhyyi/redzone_LSTM_sweep/runs/y66ncs07\" target=\"_blank\">https://wandb.ai/chhyyi/redzone_LSTM_sweep/runs/y66ncs07</a><br/>Synced 5 W&B file(s), 1 media file(s), 4 artifact file(s) and 1 other file(s)"
      ],
      "text/plain": [
       "<IPython.core.display.HTML object>"
      ]
     },
     "metadata": {},
     "output_type": "display_data"
    },
    {
     "data": {
      "text/html": [
       "Find logs at: <code>./wandb/run-20221113_133609-y66ncs07/logs</code>"
      ],
      "text/plain": [
       "<IPython.core.display.HTML object>"
      ]
     },
     "metadata": {},
     "output_type": "display_data"
    },
    {
     "name": "stderr",
     "output_type": "stream",
     "text": [
      "\u001b[34m\u001b[1mwandb\u001b[0m: Agent Starting Run: sc9935us with config:\n",
      "\u001b[34m\u001b[1mwandb\u001b[0m: \tepochs: 3\n",
      "\u001b[34m\u001b[1mwandb\u001b[0m: \tlearning_rate: 0.0002\n",
      "\u001b[34m\u001b[1mwandb\u001b[0m: \tsplit_train_ratio: 0.8\n",
      "\u001b[34m\u001b[1mwandb\u001b[0m: \tstride_inside_seq: 9\n",
      "\u001b[34m\u001b[1mwandb\u001b[0m: \tunit_LSTM0: 32\n"
     ]
    },
    {
     "data": {
      "application/vnd.jupyter.widget-view+json": {
       "model_id": "ea6e02fa46f34522aecfbad4353c3cd0",
       "version_major": 2,
       "version_minor": 0
      },
      "text/plain": [
       "VBox(children=(Label(value='Waiting for wandb.init()...\\r'), FloatProgress(value=0.016669154383331868, max=1.0…"
      ]
     },
     "metadata": {},
     "output_type": "display_data"
    },
    {
     "data": {
      "text/html": [
       "Tracking run with wandb version 0.13.5"
      ],
      "text/plain": [
       "<IPython.core.display.HTML object>"
      ]
     },
     "metadata": {},
     "output_type": "display_data"
    },
    {
     "data": {
      "text/html": [
       "Run data is saved locally in <code>/aiffel/aiffel/aiffelthon/wandb/run-20221113_133740-sc9935us</code>"
      ],
      "text/plain": [
       "<IPython.core.display.HTML object>"
      ]
     },
     "metadata": {},
     "output_type": "display_data"
    },
    {
     "data": {
      "text/html": [
       "Syncing run <strong><a href=\"https://wandb.ai/chhyyi/redzone_LSTM_sweep/runs/sc9935us\" target=\"_blank\">skilled-sweep-41</a></strong> to <a href=\"https://wandb.ai/chhyyi/redzone_LSTM_sweep\" target=\"_blank\">Weights & Biases</a> (<a href=\"https://wandb.me/run\" target=\"_blank\">docs</a>)<br/>Sweep page:  <a href=\"https://wandb.ai/chhyyi/redzone_LSTM_sweep/sweeps/nhh58kej\" target=\"_blank\">https://wandb.ai/chhyyi/redzone_LSTM_sweep/sweeps/nhh58kej</a>"
      ],
      "text/plain": [
       "<IPython.core.display.HTML object>"
      ]
     },
     "metadata": {},
     "output_type": "display_data"
    },
    {
     "name": "stdout",
     "output_type": "stream",
     "text": [
      "loaded dataset. Generating sequences\n",
      "Any missing values exist: False\n",
      "train dataset columns: Index(['풍속(m/s)', '풍향(deg)', '기온(°C)', '수온(°C)', '강수량(mm)', '풍속(m/s).1',\n",
      "       '풍향(deg).1', '기온(°C).1', '수온(°C).1', '강수량(mm).1', '풍속(m/s).2',\n",
      "       '풍향(deg).2', '기온(°C).2', '수온(°C).2', '강수량(mm).2', '풍속(m/s).3',\n",
      "       '풍향(deg).3', '기온(°C).3', '수온(°C).3', '강수량(mm).3', '풍속(m/s).4',\n",
      "       '풍향(deg).4', '기온(°C).4', '수온(°C).4', '강수량(mm).4', '적조발생'],\n",
      "      dtype='object')\n",
      "20106 25133\n",
      "(20106, 8, 25) (5027, 8, 25) (20106, 8) (5027, 8) \n",
      "\n",
      "\n",
      "Epoch 1/3\n",
      "315/315 [==============================] - 3s 4ms/step - loss: 0.4896 - val_loss: 0.3029\n"
     ]
    },
    {
     "name": "stderr",
     "output_type": "stream",
     "text": [
      "WARNING:absl:Found untraced functions such as lstm_cell_layer_call_and_return_conditional_losses, lstm_cell_layer_call_fn, lstm_cell_layer_call_fn, lstm_cell_layer_call_and_return_conditional_losses, lstm_cell_layer_call_and_return_conditional_losses while saving (showing 5 of 5). These functions will not be directly callable after loading.\n"
     ]
    },
    {
     "name": "stdout",
     "output_type": "stream",
     "text": [
      "INFO:tensorflow:Assets written to: /aiffel/aiffel/aiffelthon/wandb/run-20221113_133740-sc9935us/files/model-best/assets\n"
     ]
    },
    {
     "name": "stderr",
     "output_type": "stream",
     "text": [
      "INFO:tensorflow:Assets written to: /aiffel/aiffel/aiffelthon/wandb/run-20221113_133740-sc9935us/files/model-best/assets\n",
      "\u001b[34m\u001b[1mwandb\u001b[0m: Adding directory to artifact (/aiffel/aiffel/aiffelthon/wandb/run-20221113_133740-sc9935us/files/model-best)... Done. 0.0s\n"
     ]
    },
    {
     "name": "stdout",
     "output_type": "stream",
     "text": [
      "sequence accuracy is 0.9080216829122737\n",
      "Epoch 2/3\n",
      "315/315 [==============================] - 1s 3ms/step - loss: 0.1817 - val_loss: 0.2509\n"
     ]
    },
    {
     "name": "stderr",
     "output_type": "stream",
     "text": [
      "WARNING:absl:Found untraced functions such as lstm_cell_layer_call_and_return_conditional_losses, lstm_cell_layer_call_fn, lstm_cell_layer_call_fn, lstm_cell_layer_call_and_return_conditional_losses, lstm_cell_layer_call_and_return_conditional_losses while saving (showing 5 of 5). These functions will not be directly callable after loading.\n"
     ]
    },
    {
     "name": "stdout",
     "output_type": "stream",
     "text": [
      "INFO:tensorflow:Assets written to: /aiffel/aiffel/aiffelthon/wandb/run-20221113_133740-sc9935us/files/model-best/assets\n"
     ]
    },
    {
     "name": "stderr",
     "output_type": "stream",
     "text": [
      "INFO:tensorflow:Assets written to: /aiffel/aiffel/aiffelthon/wandb/run-20221113_133740-sc9935us/files/model-best/assets\n",
      "\u001b[34m\u001b[1mwandb\u001b[0m: Adding directory to artifact (/aiffel/aiffel/aiffelthon/wandb/run-20221113_133740-sc9935us/files/model-best)... Done. 0.0s\n"
     ]
    },
    {
     "name": "stdout",
     "output_type": "stream",
     "text": [
      "sequence accuracy is 0.8982743186791327\n",
      "Epoch 3/3\n",
      "315/315 [==============================] - 1s 4ms/step - loss: 0.1409 - val_loss: 0.2407\n"
     ]
    },
    {
     "name": "stderr",
     "output_type": "stream",
     "text": [
      "WARNING:absl:Found untraced functions such as lstm_cell_layer_call_and_return_conditional_losses, lstm_cell_layer_call_fn, lstm_cell_layer_call_fn, lstm_cell_layer_call_and_return_conditional_losses, lstm_cell_layer_call_and_return_conditional_losses while saving (showing 5 of 5). These functions will not be directly callable after loading.\n"
     ]
    },
    {
     "name": "stdout",
     "output_type": "stream",
     "text": [
      "INFO:tensorflow:Assets written to: /aiffel/aiffel/aiffelthon/wandb/run-20221113_133740-sc9935us/files/model-best/assets\n"
     ]
    },
    {
     "name": "stderr",
     "output_type": "stream",
     "text": [
      "INFO:tensorflow:Assets written to: /aiffel/aiffel/aiffelthon/wandb/run-20221113_133740-sc9935us/files/model-best/assets\n",
      "\u001b[34m\u001b[1mwandb\u001b[0m: Adding directory to artifact (/aiffel/aiffel/aiffelthon/wandb/run-20221113_133740-sc9935us/files/model-best)... Done. 0.0s\n"
     ]
    },
    {
     "name": "stdout",
     "output_type": "stream",
     "text": [
      "sequence accuracy is 0.894992042967973\n"
     ]
    },
    {
     "data": {
      "text/html": [
       "Waiting for W&B process to finish... <strong style=\"color:green\">(success).</strong>"
      ],
      "text/plain": [
       "<IPython.core.display.HTML object>"
      ]
     },
     "metadata": {},
     "output_type": "display_data"
    },
    {
     "data": {
      "application/vnd.jupyter.widget-view+json": {
       "model_id": "69c6c206340f4ddb8e57dd0884a482f6",
       "version_major": 2,
       "version_minor": 0
      },
      "text/plain": [
       "VBox(children=(Label(value='2.766 MB of 2.766 MB uploaded (0.008 MB deduped)\\r'), FloatProgress(value=1.0, max…"
      ]
     },
     "metadata": {},
     "output_type": "display_data"
    },
    {
     "data": {
      "text/html": [
       "<style>\n",
       "    table.wandb td:nth-child(1) { padding: 0 10px; text-align: left ; width: auto;} td:nth-child(2) {text-align: left ; width: 100%}\n",
       "    .wandb-row { display: flex; flex-direction: row; flex-wrap: wrap; justify-content: flex-start; width: 100% }\n",
       "    .wandb-col { display: flex; flex-direction: column; flex-basis: 100%; flex: 1; padding: 10px; }\n",
       "    </style>\n",
       "<div class=\"wandb-row\"><div class=\"wandb-col\"><h3>Run history:</h3><br/><table class=\"wandb\"><tr><td>Validation Acc :</td><td>▁</td></tr><tr><td>epoch</td><td>▁▅█</td></tr><tr><td>loss</td><td>█▂▁</td></tr><tr><td>val_loss</td><td>█▂▁</td></tr></table><br/></div><div class=\"wandb-col\"><h3>Run summary:</h3><br/><table class=\"wandb\"><tr><td>Validation Acc :</td><td>0.89499</td></tr><tr><td>best_epoch</td><td>2</td></tr><tr><td>best_val_loss</td><td>0.24073</td></tr><tr><td>epoch</td><td>2</td></tr><tr><td>loss</td><td>0.14087</td></tr><tr><td>val_loss</td><td>0.24073</td></tr></table><br/></div></div>"
      ],
      "text/plain": [
       "<IPython.core.display.HTML object>"
      ]
     },
     "metadata": {},
     "output_type": "display_data"
    },
    {
     "data": {
      "text/html": [
       "Synced <strong style=\"color:#cdcd00\">skilled-sweep-41</strong>: <a href=\"https://wandb.ai/chhyyi/redzone_LSTM_sweep/runs/sc9935us\" target=\"_blank\">https://wandb.ai/chhyyi/redzone_LSTM_sweep/runs/sc9935us</a><br/>Synced 5 W&B file(s), 1 media file(s), 10 artifact file(s) and 1 other file(s)"
      ],
      "text/plain": [
       "<IPython.core.display.HTML object>"
      ]
     },
     "metadata": {},
     "output_type": "display_data"
    },
    {
     "data": {
      "text/html": [
       "Find logs at: <code>./wandb/run-20221113_133740-sc9935us/logs</code>"
      ],
      "text/plain": [
       "<IPython.core.display.HTML object>"
      ]
     },
     "metadata": {},
     "output_type": "display_data"
    },
    {
     "name": "stderr",
     "output_type": "stream",
     "text": [
      "\u001b[34m\u001b[1mwandb\u001b[0m: Sweep Agent: Waiting for job.\n",
      "\u001b[34m\u001b[1mwandb\u001b[0m: Job received.\n",
      "\u001b[34m\u001b[1mwandb\u001b[0m: Agent Starting Run: 2dgylsbj with config:\n",
      "\u001b[34m\u001b[1mwandb\u001b[0m: \tepochs: 3\n",
      "\u001b[34m\u001b[1mwandb\u001b[0m: \tlearning_rate: 0.01\n",
      "\u001b[34m\u001b[1mwandb\u001b[0m: \tsplit_train_ratio: 0.5\n",
      "\u001b[34m\u001b[1mwandb\u001b[0m: \tstride_inside_seq: 9\n",
      "\u001b[34m\u001b[1mwandb\u001b[0m: \tunit_LSTM0: 256\n"
     ]
    },
    {
     "data": {
      "text/html": [
       "Tracking run with wandb version 0.13.5"
      ],
      "text/plain": [
       "<IPython.core.display.HTML object>"
      ]
     },
     "metadata": {},
     "output_type": "display_data"
    },
    {
     "data": {
      "text/html": [
       "Run data is saved locally in <code>/aiffel/aiffel/aiffelthon/wandb/run-20221113_133847-2dgylsbj</code>"
      ],
      "text/plain": [
       "<IPython.core.display.HTML object>"
      ]
     },
     "metadata": {},
     "output_type": "display_data"
    },
    {
     "data": {
      "text/html": [
       "Syncing run <strong><a href=\"https://wandb.ai/chhyyi/redzone_LSTM_sweep/runs/2dgylsbj\" target=\"_blank\">likely-sweep-42</a></strong> to <a href=\"https://wandb.ai/chhyyi/redzone_LSTM_sweep\" target=\"_blank\">Weights & Biases</a> (<a href=\"https://wandb.me/run\" target=\"_blank\">docs</a>)<br/>Sweep page:  <a href=\"https://wandb.ai/chhyyi/redzone_LSTM_sweep/sweeps/nhh58kej\" target=\"_blank\">https://wandb.ai/chhyyi/redzone_LSTM_sweep/sweeps/nhh58kej</a>"
      ],
      "text/plain": [
       "<IPython.core.display.HTML object>"
      ]
     },
     "metadata": {},
     "output_type": "display_data"
    },
    {
     "name": "stdout",
     "output_type": "stream",
     "text": [
      "loaded dataset. Generating sequences\n",
      "Any missing values exist: False\n",
      "train dataset columns: Index(['풍속(m/s)', '풍향(deg)', '기온(°C)', '수온(°C)', '강수량(mm)', '풍속(m/s).1',\n",
      "       '풍향(deg).1', '기온(°C).1', '수온(°C).1', '강수량(mm).1', '풍속(m/s).2',\n",
      "       '풍향(deg).2', '기온(°C).2', '수온(°C).2', '강수량(mm).2', '풍속(m/s).3',\n",
      "       '풍향(deg).3', '기온(°C).3', '수온(°C).3', '강수량(mm).3', '풍속(m/s).4',\n",
      "       '풍향(deg).4', '기온(°C).4', '수온(°C).4', '강수량(mm).4', '적조발생'],\n",
      "      dtype='object')\n",
      "12566 25133\n",
      "(12566, 8, 25) (12567, 8, 25) (12566, 8) (12567, 8) \n",
      "\n",
      "\n",
      "Epoch 1/3\n",
      "197/197 [==============================] - 2s 7ms/step - loss: 0.1454 - val_loss: 0.3831\n"
     ]
    },
    {
     "name": "stderr",
     "output_type": "stream",
     "text": [
      "WARNING:absl:Found untraced functions such as lstm_cell_layer_call_and_return_conditional_losses, lstm_cell_layer_call_fn, lstm_cell_layer_call_fn, lstm_cell_layer_call_and_return_conditional_losses, lstm_cell_layer_call_and_return_conditional_losses while saving (showing 5 of 5). These functions will not be directly callable after loading.\n"
     ]
    },
    {
     "name": "stdout",
     "output_type": "stream",
     "text": [
      "INFO:tensorflow:Assets written to: /aiffel/aiffel/aiffelthon/wandb/run-20221113_133847-2dgylsbj/files/model-best/assets\n"
     ]
    },
    {
     "name": "stderr",
     "output_type": "stream",
     "text": [
      "INFO:tensorflow:Assets written to: /aiffel/aiffel/aiffelthon/wandb/run-20221113_133847-2dgylsbj/files/model-best/assets\n",
      "\u001b[34m\u001b[1mwandb\u001b[0m: Adding directory to artifact (/aiffel/aiffel/aiffelthon/wandb/run-20221113_133847-2dgylsbj/files/model-best)... Done. 0.1s\n"
     ]
    },
    {
     "name": "stdout",
     "output_type": "stream",
     "text": [
      "sequence accuracy is 0.9261955916288692\n",
      "Epoch 2/3\n",
      "197/197 [==============================] - 1s 5ms/step - loss: 0.1132 - val_loss: 0.3769\n"
     ]
    },
    {
     "name": "stderr",
     "output_type": "stream",
     "text": [
      "WARNING:absl:Found untraced functions such as lstm_cell_layer_call_and_return_conditional_losses, lstm_cell_layer_call_fn, lstm_cell_layer_call_fn, lstm_cell_layer_call_and_return_conditional_losses, lstm_cell_layer_call_and_return_conditional_losses while saving (showing 5 of 5). These functions will not be directly callable after loading.\n"
     ]
    },
    {
     "name": "stdout",
     "output_type": "stream",
     "text": [
      "INFO:tensorflow:Assets written to: /aiffel/aiffel/aiffelthon/wandb/run-20221113_133847-2dgylsbj/files/model-best/assets\n"
     ]
    },
    {
     "name": "stderr",
     "output_type": "stream",
     "text": [
      "INFO:tensorflow:Assets written to: /aiffel/aiffel/aiffelthon/wandb/run-20221113_133847-2dgylsbj/files/model-best/assets\n",
      "\u001b[34m\u001b[1mwandb\u001b[0m: Adding directory to artifact (/aiffel/aiffel/aiffelthon/wandb/run-20221113_133847-2dgylsbj/files/model-best)... Done. 0.0s\n"
     ]
    },
    {
     "name": "stdout",
     "output_type": "stream",
     "text": [
      "sequence accuracy is 0.9262055383146336\n",
      "Epoch 3/3\n",
      "197/197 [==============================] - 1s 5ms/step - loss: 0.1010 - val_loss: 0.4764\n",
      "sequence accuracy is 0.9250815628232673\n"
     ]
    },
    {
     "data": {
      "text/html": [
       "Waiting for W&B process to finish... <strong style=\"color:green\">(success).</strong>"
      ],
      "text/plain": [
       "<IPython.core.display.HTML object>"
      ]
     },
     "metadata": {},
     "output_type": "display_data"
    },
    {
     "data": {
      "application/vnd.jupyter.widget-view+json": {
       "model_id": "2f04ed05ad9a430fb1cdda0cd5eae4e2",
       "version_major": 2,
       "version_minor": 0
      },
      "text/plain": [
       "VBox(children=(Label(value='8.271 MB of 11.646 MB uploaded (0.008 MB deduped)\\r'), FloatProgress(value=0.71022…"
      ]
     },
     "metadata": {},
     "output_type": "display_data"
    },
    {
     "data": {
      "text/html": [
       "<style>\n",
       "    table.wandb td:nth-child(1) { padding: 0 10px; text-align: left ; width: auto;} td:nth-child(2) {text-align: left ; width: 100%}\n",
       "    .wandb-row { display: flex; flex-direction: row; flex-wrap: wrap; justify-content: flex-start; width: 100% }\n",
       "    .wandb-col { display: flex; flex-direction: column; flex-basis: 100%; flex: 1; padding: 10px; }\n",
       "    </style>\n",
       "<div class=\"wandb-row\"><div class=\"wandb-col\"><h3>Run history:</h3><br/><table class=\"wandb\"><tr><td>Validation Acc :</td><td>▁</td></tr><tr><td>epoch</td><td>▁▅█</td></tr><tr><td>loss</td><td>█▃▁</td></tr><tr><td>val_loss</td><td>▁▁█</td></tr></table><br/></div><div class=\"wandb-col\"><h3>Run summary:</h3><br/><table class=\"wandb\"><tr><td>Validation Acc :</td><td>0.92508</td></tr><tr><td>best_epoch</td><td>1</td></tr><tr><td>best_val_loss</td><td>0.37687</td></tr><tr><td>epoch</td><td>2</td></tr><tr><td>loss</td><td>0.10102</td></tr><tr><td>val_loss</td><td>0.47636</td></tr></table><br/></div></div>"
      ],
      "text/plain": [
       "<IPython.core.display.HTML object>"
      ]
     },
     "metadata": {},
     "output_type": "display_data"
    },
    {
     "data": {
      "text/html": [
       "Synced <strong style=\"color:#cdcd00\">likely-sweep-42</strong>: <a href=\"https://wandb.ai/chhyyi/redzone_LSTM_sweep/runs/2dgylsbj\" target=\"_blank\">https://wandb.ai/chhyyi/redzone_LSTM_sweep/runs/2dgylsbj</a><br/>Synced 5 W&B file(s), 1 media file(s), 7 artifact file(s) and 1 other file(s)"
      ],
      "text/plain": [
       "<IPython.core.display.HTML object>"
      ]
     },
     "metadata": {},
     "output_type": "display_data"
    },
    {
     "data": {
      "text/html": [
       "Find logs at: <code>./wandb/run-20221113_133847-2dgylsbj/logs</code>"
      ],
      "text/plain": [
       "<IPython.core.display.HTML object>"
      ]
     },
     "metadata": {},
     "output_type": "display_data"
    },
    {
     "name": "stderr",
     "output_type": "stream",
     "text": [
      "\u001b[34m\u001b[1mwandb\u001b[0m: Sweep Agent: Waiting for job.\n",
      "\u001b[34m\u001b[1mwandb\u001b[0m: Job received.\n",
      "\u001b[34m\u001b[1mwandb\u001b[0m: Agent Starting Run: uvheyleq with config:\n",
      "\u001b[34m\u001b[1mwandb\u001b[0m: \tepochs: 8\n",
      "\u001b[34m\u001b[1mwandb\u001b[0m: \tlearning_rate: 0.0032\n",
      "\u001b[34m\u001b[1mwandb\u001b[0m: \tsplit_train_ratio: 0.8\n",
      "\u001b[34m\u001b[1mwandb\u001b[0m: \tstride_inside_seq: 9\n",
      "\u001b[34m\u001b[1mwandb\u001b[0m: \tunit_LSTM0: 32\n"
     ]
    },
    {
     "data": {
      "text/html": [
       "Tracking run with wandb version 0.13.5"
      ],
      "text/plain": [
       "<IPython.core.display.HTML object>"
      ]
     },
     "metadata": {},
     "output_type": "display_data"
    },
    {
     "data": {
      "text/html": [
       "Run data is saved locally in <code>/aiffel/aiffel/aiffelthon/wandb/run-20221113_133949-uvheyleq</code>"
      ],
      "text/plain": [
       "<IPython.core.display.HTML object>"
      ]
     },
     "metadata": {},
     "output_type": "display_data"
    },
    {
     "data": {
      "text/html": [
       "Syncing run <strong><a href=\"https://wandb.ai/chhyyi/redzone_LSTM_sweep/runs/uvheyleq\" target=\"_blank\">valiant-sweep-43</a></strong> to <a href=\"https://wandb.ai/chhyyi/redzone_LSTM_sweep\" target=\"_blank\">Weights & Biases</a> (<a href=\"https://wandb.me/run\" target=\"_blank\">docs</a>)<br/>Sweep page:  <a href=\"https://wandb.ai/chhyyi/redzone_LSTM_sweep/sweeps/nhh58kej\" target=\"_blank\">https://wandb.ai/chhyyi/redzone_LSTM_sweep/sweeps/nhh58kej</a>"
      ],
      "text/plain": [
       "<IPython.core.display.HTML object>"
      ]
     },
     "metadata": {},
     "output_type": "display_data"
    },
    {
     "name": "stdout",
     "output_type": "stream",
     "text": [
      "loaded dataset. Generating sequences\n",
      "Any missing values exist: False\n",
      "train dataset columns: Index(['풍속(m/s)', '풍향(deg)', '기온(°C)', '수온(°C)', '강수량(mm)', '풍속(m/s).1',\n",
      "       '풍향(deg).1', '기온(°C).1', '수온(°C).1', '강수량(mm).1', '풍속(m/s).2',\n",
      "       '풍향(deg).2', '기온(°C).2', '수온(°C).2', '강수량(mm).2', '풍속(m/s).3',\n",
      "       '풍향(deg).3', '기온(°C).3', '수온(°C).3', '강수량(mm).3', '풍속(m/s).4',\n",
      "       '풍향(deg).4', '기온(°C).4', '수온(°C).4', '강수량(mm).4', '적조발생'],\n",
      "      dtype='object')\n",
      "20106 25133\n",
      "(20106, 8, 25) (5027, 8, 25) (20106, 8) (5027, 8) \n",
      "\n",
      "\n",
      "Epoch 1/8\n",
      "315/315 [==============================] - 3s 4ms/step - loss: 0.1589 - val_loss: 0.2103\n"
     ]
    },
    {
     "name": "stderr",
     "output_type": "stream",
     "text": [
      "WARNING:absl:Found untraced functions such as lstm_cell_layer_call_and_return_conditional_losses, lstm_cell_layer_call_fn, lstm_cell_layer_call_fn, lstm_cell_layer_call_and_return_conditional_losses, lstm_cell_layer_call_and_return_conditional_losses while saving (showing 5 of 5). These functions will not be directly callable after loading.\n"
     ]
    },
    {
     "name": "stdout",
     "output_type": "stream",
     "text": [
      "INFO:tensorflow:Assets written to: /aiffel/aiffel/aiffelthon/wandb/run-20221113_133949-uvheyleq/files/model-best/assets\n"
     ]
    },
    {
     "name": "stderr",
     "output_type": "stream",
     "text": [
      "INFO:tensorflow:Assets written to: /aiffel/aiffel/aiffelthon/wandb/run-20221113_133949-uvheyleq/files/model-best/assets\n",
      "\u001b[34m\u001b[1mwandb\u001b[0m: Adding directory to artifact (/aiffel/aiffel/aiffelthon/wandb/run-20221113_133949-uvheyleq/files/model-best)... Done. 0.0s\n"
     ]
    },
    {
     "name": "stdout",
     "output_type": "stream",
     "text": [
      "sequence accuracy is 0.8971802267754128\n",
      "Epoch 2/8\n",
      "315/315 [==============================] - 1s 3ms/step - loss: 0.0872 - val_loss: 0.1832\n"
     ]
    },
    {
     "name": "stderr",
     "output_type": "stream",
     "text": [
      "WARNING:absl:Found untraced functions such as lstm_cell_layer_call_and_return_conditional_losses, lstm_cell_layer_call_fn, lstm_cell_layer_call_fn, lstm_cell_layer_call_and_return_conditional_losses, lstm_cell_layer_call_and_return_conditional_losses while saving (showing 5 of 5). These functions will not be directly callable after loading.\n"
     ]
    },
    {
     "name": "stdout",
     "output_type": "stream",
     "text": [
      "INFO:tensorflow:Assets written to: /aiffel/aiffel/aiffelthon/wandb/run-20221113_133949-uvheyleq/files/model-best/assets\n"
     ]
    },
    {
     "name": "stderr",
     "output_type": "stream",
     "text": [
      "INFO:tensorflow:Assets written to: /aiffel/aiffel/aiffelthon/wandb/run-20221113_133949-uvheyleq/files/model-best/assets\n",
      "\u001b[34m\u001b[1mwandb\u001b[0m: Adding directory to artifact (/aiffel/aiffel/aiffelthon/wandb/run-20221113_133949-uvheyleq/files/model-best)... Done. 0.0s\n"
     ]
    },
    {
     "name": "stdout",
     "output_type": "stream",
     "text": [
      "sequence accuracy is 0.9052367217028049\n",
      "Epoch 3/8\n",
      "315/315 [==============================] - 1s 4ms/step - loss: 0.0676 - val_loss: 0.1734\n"
     ]
    },
    {
     "name": "stderr",
     "output_type": "stream",
     "text": [
      "WARNING:absl:Found untraced functions such as lstm_cell_layer_call_and_return_conditional_losses, lstm_cell_layer_call_fn, lstm_cell_layer_call_fn, lstm_cell_layer_call_and_return_conditional_losses, lstm_cell_layer_call_and_return_conditional_losses while saving (showing 5 of 5). These functions will not be directly callable after loading.\n"
     ]
    },
    {
     "name": "stdout",
     "output_type": "stream",
     "text": [
      "INFO:tensorflow:Assets written to: /aiffel/aiffel/aiffelthon/wandb/run-20221113_133949-uvheyleq/files/model-best/assets\n"
     ]
    },
    {
     "name": "stderr",
     "output_type": "stream",
     "text": [
      "INFO:tensorflow:Assets written to: /aiffel/aiffel/aiffelthon/wandb/run-20221113_133949-uvheyleq/files/model-best/assets\n",
      "\u001b[34m\u001b[1mwandb\u001b[0m: Adding directory to artifact (/aiffel/aiffel/aiffelthon/wandb/run-20221113_133949-uvheyleq/files/model-best)... Done. 0.0s\n"
     ]
    },
    {
     "name": "stdout",
     "output_type": "stream",
     "text": [
      "sequence accuracy is 0.9173711955440621\n",
      "Epoch 4/8\n",
      "315/315 [==============================] - 1s 4ms/step - loss: 0.0499 - val_loss: 0.1978\n",
      "sequence accuracy is 0.9245573900934951\n",
      "Epoch 5/8\n",
      "315/315 [==============================] - 1s 4ms/step - loss: 0.0410 - val_loss: 0.1932\n",
      "sequence accuracy is 0.9113039586234335\n",
      "Epoch 6/8\n",
      "315/315 [==============================] - 1s 4ms/step - loss: 0.0314 - val_loss: 0.2117\n",
      "sequence accuracy is 0.9239357469663816\n",
      "Epoch 7/8\n",
      "315/315 [==============================] - 1s 4ms/step - loss: 0.0227 - val_loss: 0.2639\n",
      "sequence accuracy is 0.9149343544857768\n",
      "Epoch 8/8\n",
      "315/315 [==============================] - 1s 3ms/step - loss: 0.0231 - val_loss: 0.2255\n",
      "sequence accuracy is 0.9231897752138453\n"
     ]
    },
    {
     "data": {
      "text/html": [
       "Waiting for W&B process to finish... <strong style=\"color:green\">(success).</strong>"
      ],
      "text/plain": [
       "<IPython.core.display.HTML object>"
      ]
     },
     "metadata": {},
     "output_type": "display_data"
    },
    {
     "data": {
      "application/vnd.jupyter.widget-view+json": {
       "model_id": "eae3e20873814b72b5b0af5fdcce4a0b",
       "version_major": 2,
       "version_minor": 0
      },
      "text/plain": [
       "VBox(children=(Label(value='2.766 MB of 2.766 MB uploaded (0.008 MB deduped)\\r'), FloatProgress(value=1.0, max…"
      ]
     },
     "metadata": {},
     "output_type": "display_data"
    },
    {
     "data": {
      "text/html": [
       "<style>\n",
       "    table.wandb td:nth-child(1) { padding: 0 10px; text-align: left ; width: auto;} td:nth-child(2) {text-align: left ; width: 100%}\n",
       "    .wandb-row { display: flex; flex-direction: row; flex-wrap: wrap; justify-content: flex-start; width: 100% }\n",
       "    .wandb-col { display: flex; flex-direction: column; flex-basis: 100%; flex: 1; padding: 10px; }\n",
       "    </style>\n",
       "<div class=\"wandb-row\"><div class=\"wandb-col\"><h3>Run history:</h3><br/><table class=\"wandb\"><tr><td>Validation Acc :</td><td>▁</td></tr><tr><td>epoch</td><td>▁▂▃▄▅▆▇█</td></tr><tr><td>loss</td><td>█▄▃▂▂▁▁▁</td></tr><tr><td>val_loss</td><td>▄▂▁▃▃▄█▅</td></tr></table><br/></div><div class=\"wandb-col\"><h3>Run summary:</h3><br/><table class=\"wandb\"><tr><td>Validation Acc :</td><td>0.92319</td></tr><tr><td>best_epoch</td><td>2</td></tr><tr><td>best_val_loss</td><td>0.17344</td></tr><tr><td>epoch</td><td>7</td></tr><tr><td>loss</td><td>0.02313</td></tr><tr><td>val_loss</td><td>0.22555</td></tr></table><br/></div></div>"
      ],
      "text/plain": [
       "<IPython.core.display.HTML object>"
      ]
     },
     "metadata": {},
     "output_type": "display_data"
    },
    {
     "data": {
      "text/html": [
       "Synced <strong style=\"color:#cdcd00\">valiant-sweep-43</strong>: <a href=\"https://wandb.ai/chhyyi/redzone_LSTM_sweep/runs/uvheyleq\" target=\"_blank\">https://wandb.ai/chhyyi/redzone_LSTM_sweep/runs/uvheyleq</a><br/>Synced 5 W&B file(s), 1 media file(s), 10 artifact file(s) and 1 other file(s)"
      ],
      "text/plain": [
       "<IPython.core.display.HTML object>"
      ]
     },
     "metadata": {},
     "output_type": "display_data"
    },
    {
     "data": {
      "text/html": [
       "Find logs at: <code>./wandb/run-20221113_133949-uvheyleq/logs</code>"
      ],
      "text/plain": [
       "<IPython.core.display.HTML object>"
      ]
     },
     "metadata": {},
     "output_type": "display_data"
    },
    {
     "name": "stderr",
     "output_type": "stream",
     "text": [
      "\u001b[34m\u001b[1mwandb\u001b[0m: Sweep Agent: Waiting for job.\n",
      "\u001b[34m\u001b[1mwandb\u001b[0m: Job received.\n",
      "\u001b[34m\u001b[1mwandb\u001b[0m: Agent Starting Run: dh6v0m0f with config:\n",
      "\u001b[34m\u001b[1mwandb\u001b[0m: \tepochs: 3\n",
      "\u001b[34m\u001b[1mwandb\u001b[0m: \tlearning_rate: 0.0032\n",
      "\u001b[34m\u001b[1mwandb\u001b[0m: \tsplit_train_ratio: 0.5\n",
      "\u001b[34m\u001b[1mwandb\u001b[0m: \tstride_inside_seq: 1\n",
      "\u001b[34m\u001b[1mwandb\u001b[0m: \tunit_LSTM0: 128\n"
     ]
    },
    {
     "data": {
      "text/html": [
       "Tracking run with wandb version 0.13.5"
      ],
      "text/plain": [
       "<IPython.core.display.HTML object>"
      ]
     },
     "metadata": {},
     "output_type": "display_data"
    },
    {
     "data": {
      "text/html": [
       "Run data is saved locally in <code>/aiffel/aiffel/aiffelthon/wandb/run-20221113_134115-dh6v0m0f</code>"
      ],
      "text/plain": [
       "<IPython.core.display.HTML object>"
      ]
     },
     "metadata": {},
     "output_type": "display_data"
    },
    {
     "data": {
      "text/html": [
       "Syncing run <strong><a href=\"https://wandb.ai/chhyyi/redzone_LSTM_sweep/runs/dh6v0m0f\" target=\"_blank\">laced-sweep-44</a></strong> to <a href=\"https://wandb.ai/chhyyi/redzone_LSTM_sweep\" target=\"_blank\">Weights & Biases</a> (<a href=\"https://wandb.me/run\" target=\"_blank\">docs</a>)<br/>Sweep page:  <a href=\"https://wandb.ai/chhyyi/redzone_LSTM_sweep/sweeps/nhh58kej\" target=\"_blank\">https://wandb.ai/chhyyi/redzone_LSTM_sweep/sweeps/nhh58kej</a>"
      ],
      "text/plain": [
       "<IPython.core.display.HTML object>"
      ]
     },
     "metadata": {},
     "output_type": "display_data"
    },
    {
     "name": "stdout",
     "output_type": "stream",
     "text": [
      "loaded dataset. Generating sequences\n",
      "Any missing values exist: False\n",
      "train dataset columns: Index(['풍속(m/s)', '풍향(deg)', '기온(°C)', '수온(°C)', '강수량(mm)', '풍속(m/s).1',\n",
      "       '풍향(deg).1', '기온(°C).1', '수온(°C).1', '강수량(mm).1', '풍속(m/s).2',\n",
      "       '풍향(deg).2', '기온(°C).2', '수온(°C).2', '강수량(mm).2', '풍속(m/s).3',\n",
      "       '풍향(deg).3', '기온(°C).3', '수온(°C).3', '강수량(mm).3', '풍속(m/s).4',\n",
      "       '풍향(deg).4', '기온(°C).4', '수온(°C).4', '강수량(mm).4', '적조발생'],\n",
      "      dtype='object')\n",
      "12566 25133\n",
      "(12566, 72, 25) (12567, 72, 25) (12566, 72) (12567, 72) \n",
      "\n",
      "\n"
     ]
    },
    {
     "name": "stderr",
     "output_type": "stream",
     "text": [
      "\u001b[34m\u001b[1mwandb\u001b[0m: Ctrl + C detected. Stopping sweep.\n"
     ]
    },
    {
     "name": "stdout",
     "output_type": "stream",
     "text": [
      "Epoch 1/3\n"
     ]
    }
   ],
   "source": [
    "sweep_id = wandb.sweep(sweep_config)\n",
    "\n",
    "# run the sweep\n",
    "wandb.agent(sweep_id,\n",
    "            function=train,\n",
    "            entity = 'chhyyi',\n",
    "            project = 'redzone_LSTM_sweep')"
   ]
  },
  {
   "cell_type": "code",
   "execution_count": null,
   "id": "7dd13e5d",
   "metadata": {},
   "outputs": [],
   "source": [
    "wandb.finish()"
   ]
  },
  {
   "cell_type": "markdown",
   "id": "9e0ea37e",
   "metadata": {
    "slideshow": {
     "slide_type": "-"
    }
   },
   "source": [
    "# GRU 써보기    \n",
    "이 노트북은 [Sensory_LSTM 노트북](https://github.com/chhyyi/aiffel/blob/main/aiffelthon/Sensory_LSTM.ipynb) 의 복제입니다.\n",
    "\n",
    "## 작업 로그\n",
    "\n",
    "### 2022-11-12\n",
    "- 지난번에 하려고 했던, wandb를 이용해서 sweep을 해봅니다. wandb에 의한 sweep은 python module로 저장하고 임포트 하는 것이 더 적당해 보입니다. 이 부분은 천천히 생각합니다. 아무튼 그 경우, '\\*.py' 파일을 내보내고 여기에서 wandb sweep 을 실행하도록 합니다.  \n",
    "\n",
    "### 2022-11-10\n",
    "- 원본의 LSTM을 GRU로 바꾸고, wandb를 써보려고 했는데 그냥 한 번 했습니다. \n",
    "- df_merged를 csv로 저장하고, 시퀀스 인덱스 생성 이전의 부분은 모두 삭제합니다. csv파일을 읽는 부분부터 씁니다."
   ]
  },
  {
   "cell_type": "code",
   "execution_count": null,
   "id": "4a2b6ec7",
   "metadata": {
    "slideshow": {
     "slide_type": "-"
    }
   },
   "outputs": [],
   "source": [
    "import pandas as pd\n",
    "import tensorflow as tf\n",
    "from tensorflow import keras\n",
    "import matplotlib.pyplot as plt\n",
    "import numpy as np\n",
    "import wandb\n",
    "from wandb.keras import WandbCallback"
   ]
  },
  {
   "cell_type": "code",
   "execution_count": null,
   "id": "0329500e",
   "metadata": {},
   "outputs": [],
   "source": [
    "wandb.login()"
   ]
  },
  {
   "cell_type": "code",
   "execution_count": null,
   "id": "d80e0505",
   "metadata": {},
   "outputs": [],
   "source": [
    "run = wandb.init(project = 'redzone_gru',\n",
    "                 entity = 'chhyyi',\n",
    "                 config = {\n",
    "                     'seq_field':72,\n",
    "                     'stride_inside_seq':9,\n",
    "                     'stride_between_seqs':2,\n",
    "                     'learning_rate':0.01,\n",
    "                     'loss':'sparse_categorical_crossentropy',\n",
    "                     'metrics':['accuracy'],\n",
    "                     'epochs':20,\n",
    "                     'batch_size':64,\n",
    "                     'callbacks'=[MySeqAccCallback()]\n",
    "                 })"
   ]
  },
  {
   "cell_type": "code",
   "execution_count": null,
   "id": "fd24c5af",
   "metadata": {},
   "outputs": [],
   "source": [
    "locations=['거문도', '울산', '거제도', '통영', '추자도']"
   ]
  },
  {
   "cell_type": "code",
   "execution_count": null,
   "id": "6342ccfb",
   "metadata": {},
   "outputs": [],
   "source": [
    "# load normalized data\n",
    "\n",
    "df_merged=pd.read_csv(\"sensory_preprocessed_df.csv\")\n",
    "df_merged"
   ]
  },
  {
   "cell_type": "code",
   "execution_count": null,
   "id": "a6a7135a",
   "metadata": {},
   "outputs": [],
   "source": [
    "# drop surplus columns, if required\n",
    "df_merged = df_merged.iloc[:, 1:]\n"
   ]
  },
  {
   "cell_type": "code",
   "execution_count": null,
   "id": "131283d4",
   "metadata": {},
   "outputs": [],
   "source": [
    "df_merged.isna().all()"
   ]
  },
  {
   "cell_type": "markdown",
   "id": "4afac55f",
   "metadata": {},
   "source": [
    "\n",
    "## 시퀀스로 전환\n",
    "얼마의 길이로 자를 것인가 하는게 중요한 hyper-parameter가 될 수도 있겠습니다. 1시간이 1timestep입니다. 만약 다음과 같이 한다면 sequence의 구조는 이렇게 됩니다.  \n",
    "- 한 시퀀스의 field: 72\n",
    "- window size: 1\n",
    "- stride between elements of sequence: 6 \n",
    "- stride between sequences: 7\n",
    "- sequence length $\\frac{72}{6}=12$  \n",
    "- \n",
    "그러면 1번째 시퀀스는 timestep=0, 2번째 시퀀스는 timtestep=7에서 시작합니다. 그렇게 하면 시퀀스의 배치가 이렇게 됩니다.\n",
    "\n",
    "\n",
    "|timestep|0|1|2|3|4|5|6|7|8|9|1|11|12|13|14|15|16|17|18|19|20|21|22|23|24|  \n",
    "|---|---|---|---|---|---|---|---|---|---|---|---|---|---|---|---|---|---|---|---|---|---|---|---|---|---|  \n",
    "|seq\\[0\\]|1||||||2||||||3||||||4||||||5|  \n",
    "|seq\\[1\\]||||||||1||||||2||||||3||||||  \n",
    "|seq\\[2\\]|||||||||||||||1||||||2|||||  \n",
    "\n",
    "또한, 전체 시퀀스가 시작되거나 끝나는 부분이 아닌 곳에서는 하나의 데이터 포인트가 두 개의 시퀀스에 포함되게 됩니다.\n",
    "\n",
    "## 모델의 입력과 출력\n",
    "입력은 일단 5개 지점의 5개 데이터를 통합, 인코더의 embedding size가 $5\\times5=25$인 모델로 작동합니다."
   ]
  },
  {
   "cell_type": "code",
   "execution_count": null,
   "id": "17c95f8f",
   "metadata": {},
   "outputs": [],
   "source": [
    "wandb.config.seq_field\n",
    "wandb.config.stride_inside_seq\n",
    "wandb.config.stride_between_seqs\n",
    "seq_length=seq_field//stride\n",
    "len_ds=len(df_merged)\n",
    "\n",
    "seqs_idx=[]\n",
    "\n",
    "start_idx=0\n",
    "while start_idx<=len_ds-wandb.config.seq_field:\n",
    "    seqs_idx.append(list(range(start_idx, start_idx + wandb.config.seq_field, wandb.config.stride_inside_seq\n",
    ")))\n",
    "    start_idx+=wandb.config.stride_between_seqs"
   ]
  },
  {
   "cell_type": "markdown",
   "id": "f4a83601",
   "metadata": {},
   "source": [
    "생성된 seqs_idx를 이미지로 바꿔서 한번 살펴봅니다."
   ]
  },
  {
   "cell_type": "code",
   "execution_count": null,
   "id": "a4986842",
   "metadata": {},
   "outputs": [],
   "source": [
    "seqs_idx[100],len(seqs_idx[100])"
   ]
  },
  {
   "cell_type": "code",
   "execution_count": null,
   "id": "fb906b3c",
   "metadata": {},
   "outputs": [],
   "source": [
    "img_size_x = 263 #usually, match with seq_idx[-1][-1]\n",
    "img_size_y = 100 #number of sequence to visuallize\n",
    "seq_length_squeeze_ratio = 1\n",
    "\n",
    "img = np.zeros([img_size_y, img_size_x])\n",
    "\n",
    "for yidx, seq in enumerate(seqs_idx[:img_size_y]):\n",
    "    #for i in range(seq[0]//seq_length_squeeze_ratio,seq[-1]//seq_length_squeeze_ratio + 1):\n",
    "    for i in seq:\n",
    "        if i<img_size_x:\n",
    "            img[yidx, i]=1.0\n",
    "\n",
    "plt.figure(figsize=(12,4))\n",
    "plt.xticks(ticks=list(range(0,img_size_x,seq_field)))\n",
    "plt.yticks(ticks=list(range(0,img_size_y,10)))\n",
    "\n",
    "plt.grid(alpha=0.5)\n",
    "plt.imshow(img)\n",
    "plt.colorbar()\n",
    "#plt.colorbar(location='bottom')\n",
    "plt.show()"
   ]
  },
  {
   "cell_type": "markdown",
   "id": "f1f1b87d",
   "metadata": {},
   "source": [
    "figure는 50행(수직축)까지 시퀀스별 time-index(수평축)를 점으로 표시합니다."
   ]
  },
  {
   "cell_type": "markdown",
   "id": "3a562288",
   "metadata": {},
   "source": [
    "## train, test set 구성\n",
    "먼저 index를 리셋하고 시작합니다.."
   ]
  },
  {
   "cell_type": "code",
   "execution_count": null,
   "id": "6056d971",
   "metadata": {},
   "outputs": [],
   "source": [
    "\n",
    "df_merged.reset_index(inplace=True, drop=True)\n",
    "#ds0=ds0[df_default_index]\n",
    "print(df_merged.isna().any().any())\n",
    "df_merged"
   ]
  },
  {
   "cell_type": "code",
   "execution_count": null,
   "id": "fcc4f8de",
   "metadata": {},
   "outputs": [],
   "source": [
    "df_merged.columns"
   ]
  },
  {
   "cell_type": "code",
   "execution_count": null,
   "id": "1fa3707f",
   "metadata": {},
   "outputs": [],
   "source": [
    "#train_cols=['풍속(m/s)', '풍향(deg)', '기온(°C)', '수온(°C)', '강수량(mm)', '적조발생']\n",
    "ds_train_cols=df_merged\n",
    "ds_train_cols.reset_index(inplace=True, drop=True)\n",
    "ds_train_cols"
   ]
  },
  {
   "cell_type": "code",
   "execution_count": null,
   "id": "2a76ff46",
   "metadata": {},
   "outputs": [],
   "source": []
  },
  {
   "cell_type": "code",
   "execution_count": null,
   "id": "c6563db8",
   "metadata": {},
   "outputs": [],
   "source": [
    "seq_dataset=np.zeros([len(seqs_idx), len(seqs_idx[0]), len(ds_train_cols.columns)])\n",
    "seq_dataset.shape"
   ]
  },
  {
   "cell_type": "code",
   "execution_count": null,
   "id": "5e1fcea6",
   "metadata": {},
   "outputs": [],
   "source": [
    "for i, seq in enumerate(seqs_idx):\n",
    "    for j, row_number in enumerate(seq):\n",
    "        seq_dataset[i, j]=ds_train_cols.loc[row_number].to_numpy()\n",
    "\n",
    "seq_dataset[:2]"
   ]
  },
  {
   "cell_type": "code",
   "execution_count": null,
   "id": "cb497838",
   "metadata": {},
   "outputs": [],
   "source": [
    "ds_train_cols.loc[0].to_numpy()"
   ]
  },
  {
   "cell_type": "markdown",
   "id": "d23b4133",
   "metadata": {},
   "source": [
    "### label 예외처리: \n",
    "이유를 찾지 못했는데 라벨에 0, 1아닌 값들이 있어 임시로 씁니다."
   ]
  },
  {
   "cell_type": "code",
   "execution_count": null,
   "id": "681d079d",
   "metadata": {
    "scrolled": false
   },
   "outputs": [],
   "source": [
    "def not_bin_in_occurence(x):\n",
    "    if x==1 or x==0:\n",
    "        return x\n",
    "    else:\n",
    "        print('exceptional value(not 0 or 1) found. replaced by near one.')\n",
    "        if x>=0.5:\n",
    "            return 1\n",
    "        else:\n",
    "            return 0\n",
    "        \n",
    "ds_train_cols['적조발생']=ds_train_cols['적조발생'].apply(not_bin_in_occurence)"
   ]
  },
  {
   "cell_type": "markdown",
   "id": "61ef76d6",
   "metadata": {},
   "source": [
    "### train - test 셋 분리 :\n",
    "특정 연도들에 대한 과적합을 없애기 위해 test와 train을 섞지 않고 시계열에서 일단 나눕니다. 그 이후 shuffle합니다.  \n",
    "셔플 참고자료(stack overflow) https://stackoverflow.com/questions/35646908/numpy-shuffle-multidimensional-array-by-row-only-keep-column-order-unchanged"
   ]
  },
  {
   "cell_type": "code",
   "execution_count": null,
   "id": "eed5410f",
   "metadata": {},
   "outputs": [],
   "source": [
    "#from sklearn.model_selection import train_test_split\n",
    "#X_train, X_test, y_train, y_test = train_test_split(seq_dataset[:,:,0:-1], seq_dataset[:,:,-1], test_size=0.20, random_state=42)\n",
    "\n",
    "#1. 8:2 split\n",
    "split_index=int(len(seq_dataset)*0.8)\n",
    "print(split_index, len(seq_dataset))\n",
    "\n",
    "#2. 5:5 split\n",
    "#split_index=int(len(ds_train_cols)*0.5)\n",
    "train_xy=seq_dataset[:split_index]\n",
    "np.random.shuffle(train_xy)\n",
    "X_train=train_xy[:,:,0:-1]\n",
    "y_train=train_xy[:,:,-1]\n",
    "\n",
    "test_xy=seq_dataset[split_index:]\n",
    "np.random.shuffle(test_xy)\n",
    "X_test=test_xy[:,:,0:-1]\n",
    "y_test=test_xy[:,:,-1]\n",
    "\n",
    "print(X_train.shape, X_test.shape, y_train.shape, y_test.shape,'\\n\\n')\n"
   ]
  },
  {
   "cell_type": "code",
   "execution_count": null,
   "id": "5088abc5",
   "metadata": {},
   "outputs": [],
   "source": [
    "print(X_train.shape, X_test.shape, y_train.shape, y_test.shape,'\\n\\n')\n",
    "print('print data for one sequence')"
   ]
  },
  {
   "cell_type": "markdown",
   "id": "f7b1b403",
   "metadata": {},
   "source": [
    "# model & train\n",
    "간단한 GRU 모델을 훈련해봅니다."
   ]
  },
  {
   "cell_type": "code",
   "execution_count": null,
   "id": "bc9c6642",
   "metadata": {},
   "outputs": [],
   "source": [
    "from tensorflow import keras\n",
    "from tensorflow.keras import layers\n"
   ]
  },
  {
   "cell_type": "code",
   "execution_count": null,
   "id": "65fe3e2c",
   "metadata": {},
   "outputs": [],
   "source": [
    "#copied from:\n",
    "#https://www.dacon.io/competitions/official/235584/codeshare/738\n",
    "def seq_acc(y_true, y_pred):\n",
    "    y_bin=np.zeros_like(y_pred)\n",
    "    for i, dd in enumerate(y_bin):\n",
    "        for j in range(len(dd)):\n",
    "            pred=y_pred[i][j]\n",
    "            if pred>=0.5:\n",
    "                y_bin[i][j]=1\n",
    "            else:\n",
    "                y_bin[i][j]=0\n",
    "            \n",
    "    predict_true = (y_true == y_bin)\n",
    "    # multi-column일 경우에도 계산 할 수 있도록 np.average를 한번 더 씌움\n",
    "    try:\n",
    "        score = np.average(np.average(predict_true))\n",
    "    except ValueError:\n",
    "        score = mean_squared_error(y_true, y_bin)\n",
    "    return score\n",
    "\n",
    "def my_seq_acc(y_true, y_pred):\n",
    "    score = tf.py_function(func=seq_acc, inp=[y_true, y_pred], Tout=tf.float32,  name='custom_seq_acc') # tf 2.x\n",
    "    #score = tf.py_func( lambda y_true, y_pred : mse_AIFrenz(y_true, y_pred) , [y_true, y_pred], 'float32', stateful = False, name = 'custom_mse' ) # tf 1.x\n",
    "    return score\n"
   ]
  },
  {
   "cell_type": "code",
   "execution_count": null,
   "id": "e3464638",
   "metadata": {},
   "outputs": [],
   "source": [
    "\n",
    "model = keras.Sequential([\n",
    "    keras.Input(shape=(8, 25)),\n",
    "    layers.GRU(64, return_sequences=True),\n",
    "    layers.GRU(64),\n",
    "    layers.Dense(8, activation=\"sigmoid\"),\n",
    "]\n",
    ")"
   ]
  },
  {
   "cell_type": "code",
   "execution_count": null,
   "id": "6755c7f0",
   "metadata": {},
   "outputs": [],
   "source": [
    "model.compile(optimizer=\"adam\", loss=\"binary_crossentropy\")"
   ]
  },
  {
   "cell_type": "code",
   "execution_count": null,
   "id": "e356dc1a",
   "metadata": {},
   "outputs": [],
   "source": [
    "model.summary()"
   ]
  },
  {
   "cell_type": "code",
   "execution_count": null,
   "id": "a700674b",
   "metadata": {},
   "outputs": [],
   "source": [
    "class MySeqAccCallback(keras.callbacks.Callback):\n",
    "    def on_epoch_end(self, epochs, logs=None):\n",
    "        y_pred=self.model.predict(X_test)\n",
    "        print('sequence accuracy is {}'.format(seq_acc(y_test, y_pred)))"
   ]
  },
  {
   "cell_type": "code",
   "execution_count": null,
   "id": "b30031f8",
   "metadata": {},
   "outputs": [],
   "source": [
    "history = model.fit(X_train, y_train, \n",
    "                    batch_size=32, \n",
    "                    epochs=10, \n",
    "                    validation_data=(X_test, y_test),\n",
    "                    callbacks=[MySeqAccCallback()],\n",
    "                   )"
   ]
  },
  {
   "cell_type": "code",
   "execution_count": null,
   "id": "82b4164a",
   "metadata": {},
   "outputs": [],
   "source": [
    "#print(history.history['loss'])\n",
    "#print(history.history['val_loss'])\n",
    "\n",
    "plt.plot(history.history['loss'], label='loss')\n",
    "plt.plot(history.history['val_loss'], label='val_loss')\n",
    "plt.legend()\n",
    "plt.show()"
   ]
  },
  {
   "cell_type": "code",
   "execution_count": null,
   "id": "6566cd6e",
   "metadata": {},
   "outputs": [],
   "source": [
    "y_pred=model.predict(X_test)\n",
    "print(seq_acc(y_test, y_pred))"
   ]
  },
  {
   "cell_type": "code",
   "execution_count": null,
   "id": "ca0365f2",
   "metadata": {
    "scrolled": false
   },
   "outputs": [],
   "source": [
    "del model"
   ]
  }
 ],
 "metadata": {
  "kernelspec": {
   "display_name": "Python 3 (ipykernel)",
   "language": "python",
   "name": "python3"
  },
  "language_info": {
   "codemirror_mode": {
    "name": "ipython",
    "version": 3
   },
   "file_extension": ".py",
   "mimetype": "text/x-python",
   "name": "python",
   "nbconvert_exporter": "python",
   "pygments_lexer": "ipython3",
   "version": "3.9.7"
  }
 },
 "nbformat": 4,
 "nbformat_minor": 5
}
